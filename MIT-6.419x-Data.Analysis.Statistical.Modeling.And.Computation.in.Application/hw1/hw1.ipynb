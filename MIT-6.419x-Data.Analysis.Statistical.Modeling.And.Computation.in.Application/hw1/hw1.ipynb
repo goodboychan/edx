{
 "cells": [
  {
   "cell_type": "code",
   "execution_count": 5,
   "metadata": {},
   "outputs": [],
   "source": [
    "import numpy as np\n",
    "from numpy import genfromtxt\n",
    "import matplotlib.pyplot as plt\n",
    "\n",
    "ray = genfromtxt('gamma-ray.csv', delimiter=',')"
   ]
  },
  {
   "cell_type": "code",
   "execution_count": 4,
   "metadata": {},
   "outputs": [
    {
     "data": {
      "text/plain": [
       "array([[     nan,      nan],\n",
       "       [1.16e+02, 0.00e+00],\n",
       "       [1.12e+02, 0.00e+00],\n",
       "       [1.60e+02, 0.00e+00],\n",
       "       [5.15e+01, 0.00e+00],\n",
       "       [1.02e+02, 1.00e+00],\n",
       "       [7.74e+01, 0.00e+00],\n",
       "       [1.45e+01, 0.00e+00],\n",
       "       [1.07e+03, 3.00e+00],\n",
       "       [9.91e+01, 1.00e+00],\n",
       "       [4.96e+01, 0.00e+00],\n",
       "       [5.08e+01, 0.00e+00],\n",
       "       [7.72e+01, 0.00e+00],\n",
       "       [1.14e+02, 0.00e+00],\n",
       "       [1.65e+02, 0.00e+00],\n",
       "       [1.06e+02, 0.00e+00],\n",
       "       [5.29e+01, 0.00e+00],\n",
       "       [1.04e+02, 2.00e+00],\n",
       "       [5.10e+01, 2.00e+00],\n",
       "       [5.14e+01, 0.00e+00],\n",
       "       [3.16e+02, 2.00e+00],\n",
       "       [6.87e+02, 4.00e+00],\n",
       "       [1.01e+02, 0.00e+00],\n",
       "       [9.97e+01, 0.00e+00],\n",
       "       [4.92e+01, 0.00e+00],\n",
       "       [4.92e+01, 1.00e+00],\n",
       "       [1.04e+02, 0.00e+00],\n",
       "       [5.35e+01, 0.00e+00],\n",
       "       [1.24e+02, 0.00e+00],\n",
       "       [1.68e+02, 0.00e+00],\n",
       "       [1.09e+02, 0.00e+00],\n",
       "       [1.07e+02, 1.00e+00],\n",
       "       [1.03e+02, 0.00e+00],\n",
       "       [5.21e+01, 0.00e+00],\n",
       "       [1.04e+02, 1.00e+00],\n",
       "       [6.56e+02, 5.00e+00],\n",
       "       [1.11e+02, 1.00e+00],\n",
       "       [4.17e+02, 2.00e+00],\n",
       "       [1.49e+02, 1.00e+00],\n",
       "       [5.65e+01, 1.00e+00],\n",
       "       [1.25e+01, 0.00e+00],\n",
       "       [1.01e+02, 1.00e+00],\n",
       "       [1.07e+02, 0.00e+00],\n",
       "       [1.13e+02, 1.00e+00],\n",
       "       [8.08e+01, 0.00e+00],\n",
       "       [1.10e+02, 0.00e+00],\n",
       "       [1.09e+02, 0.00e+00],\n",
       "       [1.05e+02, 0.00e+00],\n",
       "       [1.04e+02, 1.00e+00],\n",
       "       [1.07e+02, 0.00e+00],\n",
       "       [5.33e+01, 0.00e+00],\n",
       "       [5.11e+01, 0.00e+00],\n",
       "       [8.68e+02, 1.00e+00],\n",
       "       [1.05e+02, 0.00e+00],\n",
       "       [1.05e+02, 0.00e+00],\n",
       "       [1.03e+02, 2.00e+00],\n",
       "       [1.04e+02, 0.00e+00],\n",
       "       [1.05e+02, 0.00e+00],\n",
       "       [5.21e+01, 0.00e+00],\n",
       "       [5.23e+01, 0.00e+00],\n",
       "       [1.11e+03, 0.00e+00],\n",
       "       [3.04e+01, 0.00e+00],\n",
       "       [1.16e+02, 0.00e+00],\n",
       "       [4.49e+01, 0.00e+00],\n",
       "       [4.61e+01, 0.00e+00],\n",
       "       [9.79e+01, 0.00e+00],\n",
       "       [1.02e+02, 1.00e+00],\n",
       "       [1.62e+02, 0.00e+00],\n",
       "       [1.02e+02, 0.00e+00],\n",
       "       [1.02e+02, 0.00e+00],\n",
       "       [9.87e+01, 0.00e+00],\n",
       "       [9.87e+01, 2.00e+00],\n",
       "       [1.03e+02, 0.00e+00],\n",
       "       [5.16e+01, 1.00e+00],\n",
       "       [5.31e+01, 0.00e+00],\n",
       "       [1.29e+03, 3.00e+00],\n",
       "       [5.68e+01, 0.00e+00],\n",
       "       [8.92e+01, 1.00e+00],\n",
       "       [5.28e+01, 1.00e+00],\n",
       "       [7.22e+01, 0.00e+00],\n",
       "       [1.11e+02, 0.00e+00],\n",
       "       [5.77e+01, 0.00e+00],\n",
       "       [3.28e+01, 0.00e+00],\n",
       "       [9.96e+01, 2.00e+00],\n",
       "       [5.09e+01, 1.00e+00],\n",
       "       [5.12e+01, 0.00e+00],\n",
       "       [1.35e+03, 6.00e+00],\n",
       "       [6.91e+01, 0.00e+00],\n",
       "       [6.77e+01, 0.00e+00],\n",
       "       [3.82e+01, 1.00e+00],\n",
       "       [3.79e+01, 0.00e+00],\n",
       "       [3.13e+01, 0.00e+00],\n",
       "       [1.21e+02, 0.00e+00],\n",
       "       [5.58e+01, 0.00e+00],\n",
       "       [4.60e+02, 7.00e+00],\n",
       "       [1.28e+02, 0.00e+00],\n",
       "       [3.87e+01, 1.00e+00],\n",
       "       [4.18e+01, 0.00e+00],\n",
       "       [8.17e+01, 0.00e+00],\n",
       "       [8.83e+01, 0.00e+00],\n",
       "       [3.74e+01, 0.00e+00]])"
      ]
     },
     "execution_count": 4,
     "metadata": {},
     "output_type": "execute_result"
    }
   ],
   "source": [
    "ray"
   ]
  },
  {
   "cell_type": "code",
   "execution_count": 11,
   "metadata": {},
   "outputs": [
    {
     "data": {
      "text/plain": [
       "<matplotlib.collections.PathCollection at 0x7f81926ae950>"
      ]
     },
     "execution_count": 11,
     "metadata": {},
     "output_type": "execute_result"
    },
    {
     "data": {
      "image/png": "[encoded data removed]",
      "text/plain": [
       "<Figure size 432x288 with 1 Axes>"
      ]
     },
     "metadata": {
      "needs_background": "light"
     },
     "output_type": "display_data"
    }
   ],
   "source": [
    "plt.scatter(ray[:, 0], ray[:, 1])"
   ]
  },
  {
   "cell_type": "code",
   "execution_count": 18,
   "metadata": {},
   "outputs": [
    {
     "data": {
      "text/plain": [
       "0.004206852295946856"
      ]
     },
     "execution_count": 18,
     "metadata": {},
     "output_type": "execute_result"
    }
   ],
   "source": [
    "(ray[1:, 1]/ray[1:, 0]).mean()"
   ]
  },
  {
   "cell_type": "code",
   "execution_count": 16,
   "metadata": {},
   "outputs": [
    {
     "data": {
      "text/plain": [
       "(100, 2)"
      ]
     },
     "execution_count": 16,
     "metadata": {},
     "output_type": "execute_result"
    }
   ],
   "source": [
    "ray[1:].shape"
   ]
  },
  {
   "cell_type": "code",
   "execution_count": 20,
   "metadata": {},
   "outputs": [
    {
     "data": {
      "text/plain": [
       "291.938"
      ]
     },
     "execution_count": 20,
     "metadata": {},
     "output_type": "execute_result"
    }
   ],
   "source": [
    "(ray[1:, 1] * ray[1:, 0]).sum() / 100"
   ]
  },
  {
   "cell_type": "code",
   "execution_count": 23,
   "metadata": {},
   "outputs": [
    {
     "data": {
      "text/plain": [
       "(array([[ 0.53767  ,  0.84038  ],\n",
       "        [ 1.8339   , -0.88803  ],\n",
       "        [-2.2588   ,  0.10009  ],\n",
       "        [ 0.86217  , -0.54453  ],\n",
       "        [ 0.31877  ,  0.30352  ],\n",
       "        [-1.3077   , -0.60033  ],\n",
       "        [-0.43359  ,  0.48997  ],\n",
       "        [ 0.34262  ,  0.73936  ],\n",
       "        [ 3.5784   ,  1.7119   ],\n",
       "        [ 2.7694   , -0.19412  ],\n",
       "        [-1.3499   , -2.1384   ],\n",
       "        [ 3.0349   , -0.83959  ],\n",
       "        [ 0.7254   ,  1.3546   ],\n",
       "        [-0.063055 , -1.0722   ],\n",
       "        [ 0.71474  ,  0.96095  ],\n",
       "        [-0.20497  ,  0.12405  ],\n",
       "        [-0.12414  ,  1.4367   ],\n",
       "        [ 1.4897   , -1.9609   ],\n",
       "        [ 1.409    , -0.1977   ],\n",
       "        [ 1.4172   , -1.2078   ],\n",
       "        [ 0.6715   ,  2.908    ],\n",
       "        [-1.2075   ,  0.82522  ],\n",
       "        [ 0.71724  ,  1.379    ],\n",
       "        [ 1.6302   , -1.0582   ],\n",
       "        [ 0.48889  , -0.46862  ],\n",
       "        [ 1.0347   , -0.27247  ],\n",
       "        [ 0.72689  ,  1.0984   ],\n",
       "        [-0.30344  , -0.27787  ],\n",
       "        [ 0.29387  ,  0.70154  ],\n",
       "        [-0.78728  , -2.0518   ],\n",
       "        [ 0.8884   , -0.35385  ],\n",
       "        [-1.1471   , -0.82359  ],\n",
       "        [-1.0689   , -1.5771   ],\n",
       "        [-0.8095   ,  0.50797  ],\n",
       "        [-2.9443   ,  0.28198  ],\n",
       "        [ 1.4384   ,  0.03348  ],\n",
       "        [ 0.32519  , -1.3337   ],\n",
       "        [-0.75493  ,  1.1275   ],\n",
       "        [ 1.3703   ,  0.35018  ],\n",
       "        [-1.7115   , -0.29907  ],\n",
       "        [-0.10224  ,  0.02289  ],\n",
       "        [-0.24145  , -0.262    ],\n",
       "        [ 0.31921  , -1.7502   ],\n",
       "        [ 0.31286  , -0.28565  ],\n",
       "        [-0.86488  , -0.83137  ],\n",
       "        [-0.030051 , -0.97921  ],\n",
       "        [-0.16488  , -1.1564   ],\n",
       "        [ 0.62771  , -0.53356  ],\n",
       "        [ 1.0933   , -2.0026   ],\n",
       "        [ 1.1093   ,  0.96423  ],\n",
       "        [-0.86365  ,  0.52006  ],\n",
       "        [ 0.077359 , -0.020028 ],\n",
       "        [-1.2141   , -0.034771 ],\n",
       "        [-1.1135   , -0.79816  ],\n",
       "        [-0.0068493,  1.0187   ],\n",
       "        [ 1.5326   , -0.13322  ],\n",
       "        [-0.76967  , -0.71453  ],\n",
       "        [ 0.37138  ,  1.3514   ],\n",
       "        [-0.22558  , -0.22477  ],\n",
       "        [ 1.1174   , -0.58903  ],\n",
       "        [-1.0891   , -0.29375  ],\n",
       "        [ 0.032557 , -0.84793  ],\n",
       "        [ 0.55253  , -1.1201   ],\n",
       "        [ 1.1006   ,  2.526    ],\n",
       "        [ 1.5442   ,  1.6555   ],\n",
       "        [ 0.085931 ,  0.30754  ],\n",
       "        [-1.4916   , -1.2571   ],\n",
       "        [-0.7423   , -0.86547  ],\n",
       "        [-1.0616   , -0.17653  ],\n",
       "        [ 2.3505   ,  0.79142  ],\n",
       "        [-0.6156   , -1.332    ],\n",
       "        [ 0.74808  , -2.3299   ],\n",
       "        [-0.19242  , -1.4491   ],\n",
       "        [ 0.88861  ,  0.33351  ],\n",
       "        [-0.76485  ,  0.39135  ],\n",
       "        [-1.4023   ,  0.45168  ],\n",
       "        [-1.4224   , -0.13028  ],\n",
       "        [ 0.48819  ,  0.18369  ],\n",
       "        [-0.17738  , -0.47615  ],\n",
       "        [-0.19605  ,  0.86202  ],\n",
       "        [ 1.4193   , -1.3617   ],\n",
       "        [ 0.29158  ,  0.45503  ],\n",
       "        [ 0.19781  , -0.84871  ],\n",
       "        [ 1.5877   , -0.33489  ],\n",
       "        [-0.80447  ,  0.55278  ],\n",
       "        [ 0.69662  ,  1.0391   ],\n",
       "        [ 0.83509  , -1.1176   ],\n",
       "        [-0.24372  ,  1.2607   ],\n",
       "        [ 0.21567  ,  0.66014  ],\n",
       "        [-1.1658   , -0.067866 ],\n",
       "        [-1.148    , -0.19522  ],\n",
       "        [ 0.10487  , -0.21761  ],\n",
       "        [ 0.72225  , -0.30311  ],\n",
       "        [ 2.5855   ,  0.023046 ],\n",
       "        [-0.66689  ,  0.05129  ],\n",
       "        [ 0.18733  ,  0.82606  ],\n",
       "        [-0.082494 ,  1.527    ],\n",
       "        [-1.933    ,  0.46691  ],\n",
       "        [-0.43897  , -0.20971  ],\n",
       "        [-1.7947   ,  0.62519  ]]),\n",
       " array([ -1.0449 ,   7.6819 ,  -0.68642,   5.6385 ,   1.0843 ,   3.3899 ,\n",
       "         -0.59445,  -1.3867 ,  -1.4906 ,   6.1239 ,   9.7367 ,  10.261  ,\n",
       "         -3.6631 ,   6.5071 ,  -1.8226 ,   0.60871,  -4.7102 ,  12.475  ,\n",
       "          5.3455 ,   9.0114 , -10.812  ,  -2.3607 ,  -2.7273 ,   8.6033 ,\n",
       "          3.9424 ,   4.2454 ,  -2.1486 ,   3.0243 ,  -0.93487,  10.51   ,\n",
       "          4.8543 ,   3.7043 ,   7.3401 ,  -1.6278 ,  -3.056  ,   3.4151 ,\n",
       "          8.398  ,  -5.4942 ,   1.84   ,   1.9132 ,   1.241  ,   3.3561 ,\n",
       "         10.434  ,   3.6464 ,   4.7945 ,   5.5878 ,   6.9637 ,   5.9562 ,\n",
       "         12.373  ,  -0.98722,  -1.7437 ,   2.1675 ,   0.8157 ,   4.4687 ,\n",
       "         -2.7787 ,   4.3204 ,   5.3036 ,  -4.7648 ,   3.8555 ,   6.1602 ,\n",
       "          2.515  ,   5.0227 ,   7.4086 ,  -8.1853 ,  -3.3853 ,  -0.11589,\n",
       "          6.1029 ,   4.3974 ,   1.5536 ,   1.5854 ,   7.4188 ,  13.923  ,\n",
       "          8.7931 ,   1.2401 ,  -0.55038,  -2.1875 ,   0.21854,   2.2216 ,\n",
       "          3.9299 ,  -2.1418 ,  10.286  ,   0.59956,   6.2317 ,   6.0374 ,\n",
       "         -0.98799,  -1.7201 ,   7.6863 ,  -4.2912 ,  -0.11579,   0.10047,\n",
       "          1.4887 ,   2.1307 ,   4.7409 ,   5.4297 ,   0.96951,  -1.5279 ,\n",
       "         -6.2135 ,  -2.1302 ,   1.3207 ,  -4.1266 ]))"
      ]
     },
     "execution_count": 23,
     "metadata": {},
     "output_type": "execute_result"
    }
   ],
   "source": [
    "X = genfromtxt('syn_X.csv', delimiter=',')\n",
    "y = genfromtxt('syn_y.csv', delimiter=',')\n",
    "X, y"
   ]
  },
  {
   "cell_type": "code",
   "execution_count": 24,
   "metadata": {},
   "outputs": [],
   "source": [
    "def add_intercept(X):\n",
    "  return np.concatenate((np.ones_like(X[:,:1]), X), axis=1)"
   ]
  },
  {
   "cell_type": "code",
   "execution_count": 25,
   "metadata": {},
   "outputs": [],
   "source": [
    "X = add_intercept(X)"
   ]
  },
  {
   "cell_type": "code",
   "execution_count": 26,
   "metadata": {},
   "outputs": [
    {
     "data": {
      "text/plain": [
       "array([[ 1.       ,  0.53767  ,  0.84038  ],\n",
       "       [ 1.       ,  1.8339   , -0.88803  ],\n",
       "       [ 1.       , -2.2588   ,  0.10009  ],\n",
       "       [ 1.       ,  0.86217  , -0.54453  ],\n",
       "       [ 1.       ,  0.31877  ,  0.30352  ],\n",
       "       [ 1.       , -1.3077   , -0.60033  ],\n",
       "       [ 1.       , -0.43359  ,  0.48997  ],\n",
       "       [ 1.       ,  0.34262  ,  0.73936  ],\n",
       "       [ 1.       ,  3.5784   ,  1.7119   ],\n",
       "       [ 1.       ,  2.7694   , -0.19412  ],\n",
       "       [ 1.       , -1.3499   , -2.1384   ],\n",
       "       [ 1.       ,  3.0349   , -0.83959  ],\n",
       "       [ 1.       ,  0.7254   ,  1.3546   ],\n",
       "       [ 1.       , -0.063055 , -1.0722   ],\n",
       "       [ 1.       ,  0.71474  ,  0.96095  ],\n",
       "       [ 1.       , -0.20497  ,  0.12405  ],\n",
       "       [ 1.       , -0.12414  ,  1.4367   ],\n",
       "       [ 1.       ,  1.4897   , -1.9609   ],\n",
       "       [ 1.       ,  1.409    , -0.1977   ],\n",
       "       [ 1.       ,  1.4172   , -1.2078   ],\n",
       "       [ 1.       ,  0.6715   ,  2.908    ],\n",
       "       [ 1.       , -1.2075   ,  0.82522  ],\n",
       "       [ 1.       ,  0.71724  ,  1.379    ],\n",
       "       [ 1.       ,  1.6302   , -1.0582   ],\n",
       "       [ 1.       ,  0.48889  , -0.46862  ],\n",
       "       [ 1.       ,  1.0347   , -0.27247  ],\n",
       "       [ 1.       ,  0.72689  ,  1.0984   ],\n",
       "       [ 1.       , -0.30344  , -0.27787  ],\n",
       "       [ 1.       ,  0.29387  ,  0.70154  ],\n",
       "       [ 1.       , -0.78728  , -2.0518   ],\n",
       "       [ 1.       ,  0.8884   , -0.35385  ],\n",
       "       [ 1.       , -1.1471   , -0.82359  ],\n",
       "       [ 1.       , -1.0689   , -1.5771   ],\n",
       "       [ 1.       , -0.8095   ,  0.50797  ],\n",
       "       [ 1.       , -2.9443   ,  0.28198  ],\n",
       "       [ 1.       ,  1.4384   ,  0.03348  ],\n",
       "       [ 1.       ,  0.32519  , -1.3337   ],\n",
       "       [ 1.       , -0.75493  ,  1.1275   ],\n",
       "       [ 1.       ,  1.3703   ,  0.35018  ],\n",
       "       [ 1.       , -1.7115   , -0.29907  ],\n",
       "       [ 1.       , -0.10224  ,  0.02289  ],\n",
       "       [ 1.       , -0.24145  , -0.262    ],\n",
       "       [ 1.       ,  0.31921  , -1.7502   ],\n",
       "       [ 1.       ,  0.31286  , -0.28565  ],\n",
       "       [ 1.       , -0.86488  , -0.83137  ],\n",
       "       [ 1.       , -0.030051 , -0.97921  ],\n",
       "       [ 1.       , -0.16488  , -1.1564   ],\n",
       "       [ 1.       ,  0.62771  , -0.53356  ],\n",
       "       [ 1.       ,  1.0933   , -2.0026   ],\n",
       "       [ 1.       ,  1.1093   ,  0.96423  ],\n",
       "       [ 1.       , -0.86365  ,  0.52006  ],\n",
       "       [ 1.       ,  0.077359 , -0.020028 ],\n",
       "       [ 1.       , -1.2141   , -0.034771 ],\n",
       "       [ 1.       , -1.1135   , -0.79816  ],\n",
       "       [ 1.       , -0.0068493,  1.0187   ],\n",
       "       [ 1.       ,  1.5326   , -0.13322  ],\n",
       "       [ 1.       , -0.76967  , -0.71453  ],\n",
       "       [ 1.       ,  0.37138  ,  1.3514   ],\n",
       "       [ 1.       , -0.22558  , -0.22477  ],\n",
       "       [ 1.       ,  1.1174   , -0.58903  ],\n",
       "       [ 1.       , -1.0891   , -0.29375  ],\n",
       "       [ 1.       ,  0.032557 , -0.84793  ],\n",
       "       [ 1.       ,  0.55253  , -1.1201   ],\n",
       "       [ 1.       ,  1.1006   ,  2.526    ],\n",
       "       [ 1.       ,  1.5442   ,  1.6555   ],\n",
       "       [ 1.       ,  0.085931 ,  0.30754  ],\n",
       "       [ 1.       , -1.4916   , -1.2571   ],\n",
       "       [ 1.       , -0.7423   , -0.86547  ],\n",
       "       [ 1.       , -1.0616   , -0.17653  ],\n",
       "       [ 1.       ,  2.3505   ,  0.79142  ],\n",
       "       [ 1.       , -0.6156   , -1.332    ],\n",
       "       [ 1.       ,  0.74808  , -2.3299   ],\n",
       "       [ 1.       , -0.19242  , -1.4491   ],\n",
       "       [ 1.       ,  0.88861  ,  0.33351  ],\n",
       "       [ 1.       , -0.76485  ,  0.39135  ],\n",
       "       [ 1.       , -1.4023   ,  0.45168  ],\n",
       "       [ 1.       , -1.4224   , -0.13028  ],\n",
       "       [ 1.       ,  0.48819  ,  0.18369  ],\n",
       "       [ 1.       , -0.17738  , -0.47615  ],\n",
       "       [ 1.       , -0.19605  ,  0.86202  ],\n",
       "       [ 1.       ,  1.4193   , -1.3617   ],\n",
       "       [ 1.       ,  0.29158  ,  0.45503  ],\n",
       "       [ 1.       ,  0.19781  , -0.84871  ],\n",
       "       [ 1.       ,  1.5877   , -0.33489  ],\n",
       "       [ 1.       , -0.80447  ,  0.55278  ],\n",
       "       [ 1.       ,  0.69662  ,  1.0391   ],\n",
       "       [ 1.       ,  0.83509  , -1.1176   ],\n",
       "       [ 1.       , -0.24372  ,  1.2607   ],\n",
       "       [ 1.       ,  0.21567  ,  0.66014  ],\n",
       "       [ 1.       , -1.1658   , -0.067866 ],\n",
       "       [ 1.       , -1.148    , -0.19522  ],\n",
       "       [ 1.       ,  0.10487  , -0.21761  ],\n",
       "       [ 1.       ,  0.72225  , -0.30311  ],\n",
       "       [ 1.       ,  2.5855   ,  0.023046 ],\n",
       "       [ 1.       , -0.66689  ,  0.05129  ],\n",
       "       [ 1.       ,  0.18733  ,  0.82606  ],\n",
       "       [ 1.       , -0.082494 ,  1.527    ],\n",
       "       [ 1.       , -1.933    ,  0.46691  ],\n",
       "       [ 1.       , -0.43897  , -0.20971  ],\n",
       "       [ 1.       , -1.7947   ,  0.62519  ]])"
      ]
     },
     "execution_count": 26,
     "metadata": {},
     "output_type": "execute_result"
    }
   ],
   "source": [
    "X"
   ]
  },
  {
   "cell_type": "code",
   "execution_count": 29,
   "metadata": {},
   "outputs": [],
   "source": [
    "import statsmodels.api as sm\n",
    "\n",
    "model = sm.OLS(y, X)\n",
    "result = model.fit()"
   ]
  },
  {
   "cell_type": "code",
   "execution_count": 30,
   "metadata": {},
   "outputs": [
    {
     "data": {
      "text/plain": [
       "array([ 1.92960603,  1.26397096, -4.59799331])"
      ]
     },
     "execution_count": 30,
     "metadata": {},
     "output_type": "execute_result"
    }
   ],
   "source": [
    "result.params"
   ]
  },
  {
   "cell_type": "code",
   "execution_count": null,
   "metadata": {},
   "outputs": [],
   "source": [
    "def gradient_descent(X, y, step_size, precision=1e-6):\n",
    "    \"\"\"\\\n",
    "    Gradient descent algorithm\n",
    "    \"\"\"\n",
    "    weight = np.zeros((2, ))\n",
    "    while step_size > precision:\n",
    "        x0 = x\n",
    "        x = x - rate*df(x)\n",
    "        step_size = np.linalg.norm(x-x0)\n",
    "        iters += 1\n",
    "    return x"
   ]
  },
  {
   "cell_type": "code",
   "execution_count": 32,
   "metadata": {},
   "outputs": [
    {
     "ename": "FileNotFoundError",
     "evalue": "[Errno 2] No such file or directory: 'statsreview_release.zip'",
     "output_type": "error",
     "traceback": [
      "\u001b[0;31m---------------------------------------------------------------------------\u001b[0m",
      "\u001b[0;31mFileNotFoundError\u001b[0m                         Traceback (most recent call last)",
      "\u001b[0;32m<ipython-input-32-510cd0e59bb5>\u001b[0m in \u001b[0;36m<module>\u001b[0;34m\u001b[0m\n\u001b[1;32m      1\u001b[0m \u001b[0;32mimport\u001b[0m \u001b[0mzipfile\u001b[0m\u001b[0;34m\u001b[0m\u001b[0;34m\u001b[0m\u001b[0m\n\u001b[1;32m      2\u001b[0m \u001b[0;34m\u001b[0m\u001b[0m\n\u001b[0;32m----> 3\u001b[0;31m \u001b[0;32mwith\u001b[0m \u001b[0mzipfile\u001b[0m\u001b[0;34m.\u001b[0m\u001b[0mZipFile\u001b[0m\u001b[0;34m(\u001b[0m\u001b[0;34m\"statsreview_release.zip\"\u001b[0m\u001b[0;34m)\u001b[0m \u001b[0;32mas\u001b[0m \u001b[0mzip_file\u001b[0m\u001b[0;34m:\u001b[0m\u001b[0;34m\u001b[0m\u001b[0;34m\u001b[0m\u001b[0m\n\u001b[0m\u001b[1;32m      4\u001b[0m     \u001b[0mgolub_data\u001b[0m\u001b[0;34m,\u001b[0m \u001b[0mgolub_classnames\u001b[0m \u001b[0;34m=\u001b[0m \u001b[0;34m(\u001b[0m \u001b[0mnp\u001b[0m\u001b[0;34m.\u001b[0m\u001b[0mgenfromtxt\u001b[0m\u001b[0;34m(\u001b[0m\u001b[0mzip_file\u001b[0m\u001b[0;34m.\u001b[0m\u001b[0mopen\u001b[0m\u001b[0;34m(\u001b[0m\u001b[0;34m'data_and_materials/golub_data/{}'\u001b[0m\u001b[0;34m.\u001b[0m\u001b[0mformat\u001b[0m\u001b[0;34m(\u001b[0m\u001b[0mfname\u001b[0m\u001b[0;34m)\u001b[0m\u001b[0;34m)\u001b[0m\u001b[0;34m,\u001b[0m \u001b[0mdelimiter\u001b[0m\u001b[0;34m=\u001b[0m\u001b[0;34m','\u001b[0m\u001b[0;34m,\u001b[0m \u001b[0mnames\u001b[0m\u001b[0;34m=\u001b[0m\u001b[0;32mTrue\u001b[0m\u001b[0;34m,\u001b[0m \u001b[0mconverters\u001b[0m\u001b[0;34m=\u001b[0m\u001b[0;34m{\u001b[0m\u001b[0;36m0\u001b[0m\u001b[0;34m:\u001b[0m \u001b[0;32mlambda\u001b[0m \u001b[0ms\u001b[0m\u001b[0;34m:\u001b[0m \u001b[0mint\u001b[0m\u001b[0;34m(\u001b[0m\u001b[0ms\u001b[0m\u001b[0;34m.\u001b[0m\u001b[0mstrip\u001b[0m\u001b[0;34m(\u001b[0m\u001b[0;34mb'\"'\u001b[0m\u001b[0;34m)\u001b[0m\u001b[0;34m)\u001b[0m\u001b[0;34m}\u001b[0m\u001b[0;34m)\u001b[0m \u001b[0;32mfor\u001b[0m \u001b[0mfname\u001b[0m \u001b[0;32min\u001b[0m \u001b[0;34m[\u001b[0m\u001b[0;34m'golub.csv'\u001b[0m\u001b[0;34m,\u001b[0m \u001b[0;34m'golub_cl.csv'\u001b[0m\u001b[0;34m]\u001b[0m \u001b[0;34m)\u001b[0m\u001b[0;34m\u001b[0m\u001b[0;34m\u001b[0m\u001b[0m\n",
      "\u001b[0;32m~/anaconda3/lib/python3.7/zipfile.py\u001b[0m in \u001b[0;36m__init__\u001b[0;34m(self, file, mode, compression, allowZip64, compresslevel)\u001b[0m\n\u001b[1;32m   1238\u001b[0m             \u001b[0;32mwhile\u001b[0m \u001b[0;32mTrue\u001b[0m\u001b[0;34m:\u001b[0m\u001b[0;34m\u001b[0m\u001b[0;34m\u001b[0m\u001b[0m\n\u001b[1;32m   1239\u001b[0m                 \u001b[0;32mtry\u001b[0m\u001b[0;34m:\u001b[0m\u001b[0;34m\u001b[0m\u001b[0;34m\u001b[0m\u001b[0m\n\u001b[0;32m-> 1240\u001b[0;31m                     \u001b[0mself\u001b[0m\u001b[0;34m.\u001b[0m\u001b[0mfp\u001b[0m \u001b[0;34m=\u001b[0m \u001b[0mio\u001b[0m\u001b[0;34m.\u001b[0m\u001b[0mopen\u001b[0m\u001b[0;34m(\u001b[0m\u001b[0mfile\u001b[0m\u001b[0;34m,\u001b[0m \u001b[0mfilemode\u001b[0m\u001b[0;34m)\u001b[0m\u001b[0;34m\u001b[0m\u001b[0;34m\u001b[0m\u001b[0m\n\u001b[0m\u001b[1;32m   1241\u001b[0m                 \u001b[0;32mexcept\u001b[0m \u001b[0mOSError\u001b[0m\u001b[0;34m:\u001b[0m\u001b[0;34m\u001b[0m\u001b[0;34m\u001b[0m\u001b[0m\n\u001b[1;32m   1242\u001b[0m                     \u001b[0;32mif\u001b[0m \u001b[0mfilemode\u001b[0m \u001b[0;32min\u001b[0m \u001b[0mmodeDict\u001b[0m\u001b[0;34m:\u001b[0m\u001b[0;34m\u001b[0m\u001b[0;34m\u001b[0m\u001b[0m\n",
      "\u001b[0;31mFileNotFoundError\u001b[0m: [Errno 2] No such file or directory: 'statsreview_release.zip'"
     ]
    }
   ],
   "source": [
    "import zipfile\n",
    "\n",
    "    golub_data, golub_classnames = ( np.genfromtxt(zip_file.open('data_and_materials/golub_data/{}'.format(fname)), delimiter=',', names=True, converters={0: lambda s: int(s.strip(b'\"'))}) for fname in ['golub.csv', 'golub_cl.csv'] )"
   ]
  },
  {
   "cell_type": "code",
   "execution_count": 35,
   "metadata": {},
   "outputs": [],
   "source": [
    "golub_data = np.genfromtxt('golub_data/golub.csv', delimiter=',', names=True, converters={0: lambda s: int(s.strip(b'\"'))})\n",
    "golub_classnames = np.genfromtxt('golub_data/golub_cl.csv', delimiter=',', names=True, converters={0: lambda s: int(s.strip(b'\"'))})"
   ]
  },
  {
   "cell_type": "code",
   "execution_count": 36,
   "metadata": {},
   "outputs": [
    {
     "data": {
      "text/plain": [
       "array([(1.000e+00, -1.45769, -1.3942 , -1.42779, -1.40715, -1.42668, -1.21719, -1.37386, -1.36832, -1.47649, -1.21583, -1.28137, -1.03209, -1.36149, -1.39979,  0.17628, -1.40095, -1.56783, -1.20466, -1.24482, -1.60767, -1.06221, -1.12665, -1.20963, -1.48332, -1.25268, -1.27619, -1.23051, -1.43337, -1.08902, -1.29865, -1.26183, -1.44434,  1.10147, -1.34158, -1.22961, -0.75919,  0.84905, -0.66465),\n",
       "       (2.000e+00, -0.75161, -1.26278, -0.09052, -0.99596, -1.24245, -0.69242, -1.37386, -0.50803, -1.04533, -0.81257, -1.28137, -1.03209, -0.74005, -0.83161,  0.412  , -1.27669, -0.7437 , -1.20466, -1.0238 , -0.38779, -1.06221, -1.12665, -1.20963, -1.12185, -0.65264, -1.27619, -1.23051, -1.18065, -1.08902, -1.05094, -1.26183, -1.25918,  0.97813, -0.79357, -1.22961, -0.71792,  0.45127, -0.45804),\n",
       "       (3.000e+00,  0.45695, -0.09654,  0.90325, -0.07194,  0.03232,  0.09713, -0.11978,  0.23381,  0.23987,  0.44201, -0.3956 , -0.62533,  0.45181,  1.09519,  1.09318,  0.343  ,  0.2001 ,  0.38992,  0.00641,  1.10932,  0.21952, -0.72267,  0.5169 ,  0.28577,  0.61937,  0.20085,  0.29278,  0.26624, -0.43377, -0.10823, -0.29385,  0.05067,  1.6943 , -0.12472,  0.04609,  0.24347,  0.90774,  0.46509),\n",
       "       ...,\n",
       "       (3.049e+03,  0.45231,  0.42686,  0.67579,  0.31524, -0.57779,  0.51322,  0.89885,  1.26549,  0.24663,  0.38565,  0.44349,  0.00557,  0.35337, -0.05047, -0.80606,  0.49199,  0.82856,  0.5764 ,  0.36443,  0.55919, -0.38991,  1.07012,  0.55371,  0.26707,  0.91343,  0.68704,  0.43196,  0.65067, -0.13281,  0.35006,  0.32333,  0.75559,  1.22578,  0.59945,  0.72956,  0.72762,  1.10466,  1.1699 ),\n",
       "       (3.050e+03, -0.3592 , -0.43633,  0.34031, -0.9093 , -0.36663, -0.07845,  0.09493, -0.00563, -0.32967, -0.03974, -0.61829, -1.03209, -0.38459, -0.48585, -1.39503,  0.01483,  0.46683, -0.51358, -1.24482, -0.8462 , -0.95002,  0.20204, -0.03522, -0.20401, -1.25268, -0.22244,  0.57291, -0.49941, -1.08902, -0.62199, -0.11319, -0.51073, -0.68539,  0.23005, -0.17911, -0.37737, -0.39063,  0.33975),\n",
       "       (3.051e+03, -0.86079, -1.3942 , -0.73766, -1.19031, -1.42668, -0.60682, -0.15456,  0.505  , -0.71766, -0.72218, -1.14699, -1.03209, -1.36149, -0.94854, -1.26413, -0.5473 , -0.16395, -0.97455, -0.09435, -0.22835, -1.06221, -0.18312, -0.34924, -0.81902,  0.68359, -0.93305, -0.53991,  0.28711,  1.90481, -0.2165 , -1.00666, -0.46769,  0.30259, -0.23523,  1.4369 , -0.65113,  1.62964,  1.60048)],\n",
       "      dtype=[('f0', '<f8'), ('V1', '<f8'), ('V2', '<f8'), ('V3', '<f8'), ('V4', '<f8'), ('V5', '<f8'), ('V6', '<f8'), ('V7', '<f8'), ('V8', '<f8'), ('V9', '<f8'), ('V10', '<f8'), ('V11', '<f8'), ('V12', '<f8'), ('V13', '<f8'), ('V14', '<f8'), ('V15', '<f8'), ('V16', '<f8'), ('V17', '<f8'), ('V18', '<f8'), ('V19', '<f8'), ('V20', '<f8'), ('V21', '<f8'), ('V22', '<f8'), ('V23', '<f8'), ('V24', '<f8'), ('V25', '<f8'), ('V26', '<f8'), ('V27', '<f8'), ('V28', '<f8'), ('V29', '<f8'), ('V30', '<f8'), ('V31', '<f8'), ('V32', '<f8'), ('V33', '<f8'), ('V34', '<f8'), ('V35', '<f8'), ('V36', '<f8'), ('V37', '<f8'), ('V38', '<f8')])"
      ]
     },
     "execution_count": 36,
     "metadata": {},
     "output_type": "execute_result"
    }
   ],
   "source": [
    "golub_data"
   ]
  },
  {
   "cell_type": "code",
   "execution_count": 37,
   "metadata": {},
   "outputs": [
    {
     "data": {
      "text/plain": [
       "array([( 1., 0.), ( 2., 0.), ( 3., 0.), ( 4., 0.), ( 5., 0.), ( 6., 0.),\n",
       "       ( 7., 0.), ( 8., 0.), ( 9., 0.), (10., 0.), (11., 0.), (12., 0.),\n",
       "       (13., 0.), (14., 0.), (15., 0.), (16., 0.), (17., 0.), (18., 0.),\n",
       "       (19., 0.), (20., 0.), (21., 0.), (22., 0.), (23., 0.), (24., 0.),\n",
       "       (25., 0.), (26., 0.), (27., 0.), (28., 1.), (29., 1.), (30., 1.),\n",
       "       (31., 1.), (32., 1.), (33., 1.), (34., 1.), (35., 1.), (36., 1.),\n",
       "       (37., 1.), (38., 1.)], dtype=[('f0', '<f8'), ('x', '<f8')])"
      ]
     },
     "execution_count": 37,
     "metadata": {},
     "output_type": "execute_result"
    }
   ],
   "source": [
    "golub_classnames"
   ]
  },
  {
   "cell_type": "code",
   "execution_count": 38,
   "metadata": {},
   "outputs": [
    {
     "data": {
      "text/plain": [
       "((3051,), (38,))"
      ]
     },
     "execution_count": 38,
     "metadata": {},
     "output_type": "execute_result"
    }
   ],
   "source": [
    "golub_data.shape, golub_classnames.shape"
   ]
  },
  {
   "cell_type": "code",
   "execution_count": 39,
   "metadata": {},
   "outputs": [
    {
     "data": {
      "text/plain": [
       "(1., -1.45769, -1.3942, -1.42779, -1.40715, -1.42668, -1.21719, -1.37386, -1.36832, -1.47649, -1.21583, -1.28137, -1.03209, -1.36149, -1.39979, 0.17628, -1.40095, -1.56783, -1.20466, -1.24482, -1.60767, -1.06221, -1.12665, -1.20963, -1.48332, -1.25268, -1.27619, -1.23051, -1.43337, -1.08902, -1.29865, -1.26183, -1.44434, 1.10147, -1.34158, -1.22961, -0.75919, 0.84905, -0.66465)"
      ]
     },
     "execution_count": 39,
     "metadata": {},
     "output_type": "execute_result"
    }
   ],
   "source": [
    "golub_data[0]"
   ]
  },
  {
   "cell_type": "code",
   "execution_count": null,
   "metadata": {},
   "outputs": [],
   "source": []
  }
 ],
 "metadata": {
  "kernelspec": {
   "display_name": "Python 3",
   "language": "python",
   "name": "python3"
  },
  "language_info": {
   "codemirror_mode": {
    "name": "ipython",
    "version": 3
   },
   "file_extension": ".py",
   "mimetype": "text/x-python",
   "name": "python",
   "nbconvert_exporter": "python",
   "pygments_lexer": "ipython3",
   "version": "3.7.6"
  }
 },
 "nbformat": 4,
 "nbformat_minor": 4
}
