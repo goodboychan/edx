{
 "cells": [
  {
   "cell_type": "markdown",
   "metadata": {},
   "source": [
    "## Inferential statistics"
   ]
  },
  {
   "cell_type": "markdown",
   "metadata": {},
   "source": [
    "### Inferential Statistics\n",
    " - Population : a set of examples\n",
    " - Sample : a proper subset of a population\n",
    " - Goal : Estimate some statistic about the population based on statistics about the sample\n",
    " - Key fact : If the sample is random, it tends to exhibit the same properties as the population from which it is drawn"
   ]
  },
  {
   "cell_type": "markdown",
   "metadata": {},
   "source": [
    "### Why the Difference in Confidence?\n",
    " - Confidence in our estimated depends upon two things\n",
    " - Size of sample\n",
    " - Variance of sample\n",
    " - As the variance grows, we need larger samples to have the same degree of confidence"
   ]
  },
  {
   "cell_type": "code",
   "execution_count": 1,
   "metadata": {},
   "outputs": [],
   "source": [
    "from lecture7_segment1 import *"
   ]
  },
  {
   "cell_type": "code",
   "execution_count": 2,
   "metadata": {},
   "outputs": [
    {
     "name": "stdout",
     "output_type": "stream",
     "text": [
      "1 spins of Fair Roulette\n",
      "Expected return betting red = 100.0%\n",
      "Expected return betting black = -100.0%\n",
      "Expected return betting 2 = -100.0%\n",
      "\n"
     ]
    },
    {
     "data": {
      "text/plain": [
       "(1.0, -1.0, -1.0)"
      ]
     },
     "execution_count": 2,
     "metadata": {},
     "output_type": "execute_result"
    }
   ],
   "source": [
    "numSpins = 1\n",
    "game = FairRoulette()\n",
    "playRoulette(game, numSpins)"
   ]
  },
  {
   "cell_type": "code",
   "execution_count": 3,
   "metadata": {},
   "outputs": [
    {
     "name": "stdout",
     "output_type": "stream",
     "text": [
      "1 spins of Fair Roulette\n",
      "Expected return betting red = 100.0%\n",
      "Expected return betting black = -100.0%\n",
      "Expected return betting 2 = -100.0%\n",
      "\n"
     ]
    },
    {
     "data": {
      "text/plain": [
       "(1.0, -1.0, -1.0)"
      ]
     },
     "execution_count": 3,
     "metadata": {},
     "output_type": "execute_result"
    }
   ],
   "source": [
    "numSpins = 1\n",
    "game = FairRoulette()\n",
    "playRoulette(game, numSpins)"
   ]
  },
  {
   "cell_type": "code",
   "execution_count": 4,
   "metadata": {},
   "outputs": [
    {
     "name": "stdout",
     "output_type": "stream",
     "text": [
      "100 spins of Fair Roulette\n",
      "Expected return betting red = -10.0%\n",
      "Expected return betting black = 10.0%\n",
      "Expected return betting 2 = -28.0%\n",
      "\n"
     ]
    },
    {
     "data": {
      "text/plain": [
       "(-0.1, 0.1, -0.28)"
      ]
     },
     "execution_count": 4,
     "metadata": {},
     "output_type": "execute_result"
    }
   ],
   "source": [
    "numSpins = 100\n",
    "game = FairRoulette()\n",
    "playRoulette(game, numSpins)"
   ]
  },
  {
   "cell_type": "code",
   "execution_count": 5,
   "metadata": {},
   "outputs": [
    {
     "name": "stdout",
     "output_type": "stream",
     "text": [
      "100 spins of Fair Roulette\n",
      "Expected return betting red = 6.0%\n",
      "Expected return betting black = -6.0%\n",
      "Expected return betting 2 = 8.0%\n",
      "\n"
     ]
    },
    {
     "data": {
      "text/plain": [
       "(0.06, -0.06, 0.08)"
      ]
     },
     "execution_count": 5,
     "metadata": {},
     "output_type": "execute_result"
    }
   ],
   "source": [
    "numSpins = 100\n",
    "game = FairRoulette()\n",
    "playRoulette(game, numSpins)"
   ]
  },
  {
   "cell_type": "code",
   "execution_count": 6,
   "metadata": {},
   "outputs": [
    {
     "name": "stdout",
     "output_type": "stream",
     "text": [
      "10000 spins of Fair Roulette\n",
      "Expected return betting red = 1.32%\n",
      "Expected return betting black = -1.32%\n",
      "Expected return betting 2 = -2.8%\n",
      "\n"
     ]
    },
    {
     "data": {
      "text/plain": [
       "(0.0132, -0.0132, -0.028)"
      ]
     },
     "execution_count": 6,
     "metadata": {},
     "output_type": "execute_result"
    }
   ],
   "source": [
    "numSpins = 10000\n",
    "game = FairRoulette()\n",
    "playRoulette(game, numSpins)"
   ]
  },
  {
   "cell_type": "code",
   "execution_count": 7,
   "metadata": {},
   "outputs": [
    {
     "name": "stdout",
     "output_type": "stream",
     "text": [
      "1000000 spins of Fair Roulette\n",
      "Expected return betting red = -0.037%\n",
      "Expected return betting black = 0.037%\n",
      "Expected return betting 2 = 0.0728%\n",
      "\n"
     ]
    },
    {
     "data": {
      "text/plain": [
       "(-0.00037, 0.00037, 0.000728)"
      ]
     },
     "execution_count": 7,
     "metadata": {},
     "output_type": "execute_result"
    }
   ],
   "source": [
    "numSpins = 1000000\n",
    "game = FairRoulette()\n",
    "playRoulette(game, numSpins)"
   ]
  },
  {
   "cell_type": "code",
   "execution_count": 8,
   "metadata": {},
   "outputs": [
    {
     "name": "stdout",
     "output_type": "stream",
     "text": [
      "1000000 spins of Fair Roulette\n",
      "Expected return betting red = -0.1908%\n",
      "Expected return betting black = 0.1908%\n",
      "Expected return betting 2 = 0.26%\n",
      "\n"
     ]
    },
    {
     "data": {
      "text/plain": [
       "(-0.001908, 0.001908, 0.0026)"
      ]
     },
     "execution_count": 8,
     "metadata": {},
     "output_type": "execute_result"
    }
   ],
   "source": [
    "numSpins = 1000000\n",
    "game = FairRoulette()\n",
    "playRoulette(game, numSpins)"
   ]
  },
  {
   "cell_type": "code",
   "execution_count": 9,
   "metadata": {},
   "outputs": [
    {
     "name": "stdout",
     "output_type": "stream",
     "text": [
      "1000000 spins of Fair Roulette\n",
      "Expected return betting red = -0.0186%\n",
      "Expected return betting black = 0.0186%\n",
      "Expected return betting 2 = -0.2944%\n",
      "\n"
     ]
    },
    {
     "data": {
      "text/plain": [
       "(-0.000186, 0.000186, -0.002944)"
      ]
     },
     "execution_count": 9,
     "metadata": {},
     "output_type": "execute_result"
    }
   ],
   "source": [
    "numSpins = 1000000\n",
    "game = FairRoulette()\n",
    "playRoulette(game, numSpins)"
   ]
  },
  {
   "cell_type": "markdown",
   "metadata": {},
   "source": [
    "### Law of Large Numbers (LLN)\n",
    "- In repeated independent tests with the same actual probability *p* of a particular outcome in each test, the chance that the fraction of times that outcome occurs differs from *p* converges to zero as the number of trials goes to infinity."
   ]
  },
  {
   "cell_type": "markdown",
   "metadata": {},
   "source": [
    "### Gambler's Fallacy\n",
    "- If deviations from expected behavior occur, these deviations are likely to be evened out by opposite deviations in the future"
   ]
  },
  {
   "cell_type": "markdown",
   "metadata": {},
   "source": [
    "- Probability of 15 consecutive reds : 1/32378\n",
    "- Probability of 25 consecutive reds : 1/33554432\n",
    "- Probability of 26 consecutive reds : 1/67108865\n",
    "- Probability of 26 consecutive reds when previous 25 rolls were red : **1/2**"
   ]
  },
  {
   "cell_type": "markdown",
   "metadata": {},
   "source": [
    "### Regression to the Mean\n",
    "- Following an extreme random event, the next random event is likely to be less extreme\n",
    "- If you spin a fair roulette wheel 10 times and get 100% reds, that is an extreme event (probability = 1/1024)\n",
    "- It is like that in the next 10 spins, you will get fewer than 10 reds\n",
    "- So, if you look at the average of the 20 spins, it will be closer to the expected mean of 50% reds than to the 100% you saw in the first 10 spins"
   ]
  },
  {
   "cell_type": "markdown",
   "metadata": {},
   "source": [
    "## Variation in Data"
   ]
  },
  {
   "cell_type": "code",
   "execution_count": 10,
   "metadata": {},
   "outputs": [],
   "source": [
    "from lecture7_segment2 import *"
   ]
  },
  {
   "cell_type": "code",
   "execution_count": 11,
   "metadata": {},
   "outputs": [
    {
     "name": "stdout",
     "output_type": "stream",
     "text": [
      "\n",
      "Simulate betting a pocket for 20 trials of 100 spins each\n",
      "Exp. return for Fair Roulette = 6.199999999999998%\n",
      "Exp. return for European Roulette = -8.200000000000001%\n",
      "Exp. return for American Roulette = 2.599999999999998%\n",
      "\n",
      "Simulate betting a pocket for 20 trials of 1000 spins each\n",
      "Exp. return for Fair Roulette = 4.760000000000002%\n",
      "Exp. return for European Roulette = -2.4399999999999995%\n",
      "Exp. return for American Roulette = -9.46%\n",
      "\n",
      "Simulate betting a pocket for 20 trials of 10000 spins each\n",
      "Exp. return for Fair Roulette = -1.3060000000000003%\n",
      "Exp. return for European Roulette = -4.095999999999999%\n",
      "Exp. return for American Roulette = -5.698000000000001%\n",
      "\n",
      "Simulate betting a pocket for 20 trials of 100000 spins each\n",
      "Exp. return for Fair Roulette = 0.7982%\n",
      "Exp. return for European Roulette = -2.5876000000000006%\n",
      "Exp. return for American Roulette = -5.134600000000001%\n"
     ]
    }
   ],
   "source": [
    "random.seed(0)\n",
    "numTrials = 20\n",
    "resultDict = {}\n",
    "games = (FairRoulette, EuRoulette, AmRoulette)\n",
    "for G in games:\n",
    "    resultDict[G().__str__()] = []\n",
    "for numSpins in (100, 1000, 10000, 100000):\n",
    "    print('\\nSimulate betting a pocket for', numTrials,\n",
    "          'trials of',\n",
    "          numSpins, 'spins each')\n",
    "    for G in games:\n",
    "        pocketReturns = findPocketReturn(G(), numTrials,\n",
    "                                         numSpins, False)\n",
    "        print('Exp. return for', G(), '=',\n",
    "             str(100*sum(pocketReturns)/float(len(pocketReturns))) + '%')"
   ]
  },
  {
   "cell_type": "markdown",
   "metadata": {},
   "source": [
    "### Sampling Space of Possible Outcomes\n",
    "- Never possible to guarantee perfect accuracy through sampling\n",
    "- Not to say that an estimate is not precisely correct\n",
    "- How many samples do we need to look at before we can have justified confidence on our answer?\n",
    "    - Depeds upon variability in underlying distribution"
   ]
  },
  {
   "cell_type": "markdown",
   "metadata": {},
   "source": [
    "### Quantifying Variation in Data\n",
    "\n",
    "$$ Var(X) = \\frac{\\sum_{x \\in X}(x- \\mu)^2}{|n|} $$\n",
    "\n",
    "$$ \\sigma(X) = \\sqrt{\\frac{1}{|x|}\\sum_{x \\in X}(x-\\mu)^2} $$\n",
    "\n",
    "- Standard deviation simply the square root of the variance\n",
    "- Outliers can have a big effect\n",
    "- Standard deviation should always be considered relative to mean"
   ]
  },
  {
   "cell_type": "markdown",
   "metadata": {},
   "source": [
    "### Code\n",
    "```python\n",
    "def getMeanAndStd(X):\n",
    "    mean = sum(X) / float(len(X))\n",
    "    tot = 0.0\n",
    "    for x in X:\n",
    "        tot += (x - mean) ** 2\n",
    "    std = (tot / len(X)) ** 0.5\n",
    "    return mean, std\n",
    "```"
   ]
  },
  {
   "cell_type": "markdown",
   "metadata": {},
   "source": [
    "### Confidence Levels and Intervals\n",
    "- Instead of estimating an unknown parameter by a single value (e.g., the mean of a set of trials), a confidence interval provides a range that is likely to contain the unknown value and a confidence that the unknown value lays within that range\n",
    "\n",
    "- \"The return on betting on 2 twenty times in European roulette is -3.3%. The margin of error is $\\pm$ 1% with a 95% level of confidence\""
   ]
  },
  {
   "cell_type": "markdown",
   "metadata": {},
   "source": [
    "### Empirical Rule\n",
    "- Under some assumptions discussed later\n",
    "    - ~ 68% of data within $\\sigma$ of mean\n",
    "    - ~ 95% of data within 2 $\\sigma$ of mean\n",
    "    - ~ 99.7% of data within 3 $\\sigma$ of mean"
   ]
  },
  {
   "cell_type": "code",
   "execution_count": 12,
   "metadata": {},
   "outputs": [
    {
     "name": "stdout",
     "output_type": "stream",
     "text": [
      "\n",
      "Simulate betting a pocket for 20 trials of 100 spins each\n",
      "Exp. return for Fair Roulette = 6.2%, ±152.114% with 95% confidence\n",
      "Exp. return for European Roulette = -8.2%, ±90.567% with 95% confidence\n",
      "Exp. return for American Roulette = 2.6%, ±92.74% with 95% confidence\n",
      "\n",
      "Simulate betting a pocket for 20 trials of 1000 spins each\n",
      "Exp. return for Fair Roulette = 4.76%, ±39.658% with 95% confidence\n",
      "Exp. return for European Roulette = -2.44%, ±31.31% with 95% confidence\n",
      "Exp. return for American Roulette = -9.46%, ±36.273% with 95% confidence\n",
      "\n",
      "Simulate betting a pocket for 20 trials of 10000 spins each\n",
      "Exp. return for Fair Roulette = -1.306%, ±9.295% with 95% confidence\n",
      "Exp. return for European Roulette = -4.096%, ±10.902% with 95% confidence\n",
      "Exp. return for American Roulette = -5.698%, ±11.077% with 95% confidence\n"
     ]
    }
   ],
   "source": [
    "random.seed(0)\n",
    "numTrials = 20\n",
    "resultDict = {}\n",
    "games = (FairRoulette, EuRoulette, AmRoulette)\n",
    "for G in games:\n",
    "   resultDict[G().__str__()] = []\n",
    "for numSpins in (100, 1000, 10000):\n",
    "   print('\\nSimulate betting a pocket for', numTrials,\n",
    "         'trials of', numSpins, 'spins each')\n",
    "   for G in games:\n",
    "       pocketReturns = findPocketReturn(G(), 20, numSpins, False)\n",
    "       mean, std = getMeanAndStd(pocketReturns)\n",
    "       resultDict[G().__str__()].append((numSpins,\n",
    "                                         100*mean, 100*std))\n",
    "       print('Exp. return for', G(), '=', str(round(100*mean, 3))\n",
    "             + '%,', '±' + str(round(100*1.96*std, 3))\n",
    "             + '% with 95% confidence')"
   ]
  },
  {
   "cell_type": "markdown",
   "metadata": {},
   "source": [
    "## Distributions"
   ]
  },
  {
   "cell_type": "code",
   "execution_count": 13,
   "metadata": {},
   "outputs": [],
   "source": [
    "from lecture7_segment3 import *"
   ]
  },
  {
   "cell_type": "markdown",
   "metadata": {},
   "source": [
    "### Empirical Rule\n",
    "- Two key assumptions\n",
    "    - The mean estimation error is zero\n",
    "    - The distribution of the errors in the estimates is normal"
   ]
  },
  {
   "cell_type": "markdown",
   "metadata": {},
   "source": [
    "### Defining Distributions\n",
    "- Use a probability distribution\n",
    "- Captures notion of relative frequency with which a random variable takes on certain values\n",
    "    - Discrete random variables drawn from finite set of values\n",
    "    - Continuous random variables drawn from reals between two numbers (i.e., infinite set of values)\n",
    "- For discrete variable, simply list the probability of each value, must add up to 1\n",
    "- Continuous case tricker, can't enumerate probability for each of an infinite set of values"
   ]
  },
  {
   "cell_type": "markdown",
   "metadata": {},
   "source": [
    "### Probability Density Functions (PDF)\n",
    "- Probability of a random variable lying between two values\n",
    "- Defines a curve where te values on the x-axis lie between minimum and maximum value of the variable\n",
    "- Area under curve between two points, is probability of example falling within that range"
   ]
  },
  {
   "cell_type": "markdown",
   "metadata": {},
   "source": [
    "### Normal Distributions\n",
    "$$ P(x) = \\frac{1}{\\sigma \\sqrt{2 \\pi}} e^{\\frac{(x-\\mu)^2}{2 \\sigma^2}} $$\n",
    "\n",
    "$$ e = \\sum^{\\infty}_{n=0}\\frac{1}{n!} $$"
   ]
  },
  {
   "cell_type": "markdown",
   "metadata": {},
   "source": [
    "### Why We Like Normal Distributions\n",
    "- Nice mathematical properties\n",
    "- Occur a lot!!"
   ]
  },
  {
   "cell_type": "code",
   "execution_count": 14,
   "metadata": {},
   "outputs": [
    {
     "data": {
      "text/plain": [
       "(array([5.0000e+00, 1.2000e+01, 2.6000e+01, 7.2000e+01, 2.0100e+02,\n",
       "        4.1600e+02, 9.0300e+02, 1.5840e+03, 2.7440e+03, 4.1900e+03,\n",
       "        6.1070e+03, 8.0960e+03, 1.0133e+04, 1.1084e+04, 1.1470e+04,\n",
       "        1.0807e+04, 9.6370e+03, 7.7420e+03, 5.6880e+03, 3.8930e+03,\n",
       "        2.4510e+03, 1.3330e+03, 7.5400e+02, 3.9400e+02, 1.5000e+02,\n",
       "        6.5000e+01, 2.8000e+01, 8.0000e+00, 4.0000e+00, 3.0000e+00]),\n",
       " array([-124.99474249, -116.30776561, -107.62078873,  -98.93381185,\n",
       "         -90.24683497,  -81.55985809,  -72.87288121,  -64.18590433,\n",
       "         -55.49892744,  -46.81195056,  -38.12497368,  -29.4379968 ,\n",
       "         -20.75101992,  -12.06404304,   -3.37706616,    5.30991072,\n",
       "          13.9968876 ,   22.68386448,   31.37084136,   40.05781824,\n",
       "          48.74479512,   57.43177201,   66.11874889,   74.80572577,\n",
       "          83.49270265,   92.17967953,  100.86665641,  109.55363329,\n",
       "         118.24061017,  126.92758705,  135.61456393]),\n",
       " <a list of 30 Patch objects>)"
      ]
     },
     "execution_count": 14,
     "metadata": {},
     "output_type": "execute_result"
    },
    {
     "data": {
      "image/png": "[encoded data removed]",
      "text/plain": [
       "<Figure size 432x288 with 1 Axes>"
      ]
     },
     "metadata": {
      "needs_background": "light"
     },
     "output_type": "display_data"
    }
   ],
   "source": [
    "import pylab, random\n",
    "dist = []\n",
    "for i in range(100000):\n",
    "    dist.append(random.gauss(0, 30))\n",
    "pylab.hist(dist, 30)"
   ]
  },
  {
   "cell_type": "markdown",
   "metadata": {},
   "source": [
    "### A Digression\n",
    "- SciPy library contains my useful mathematical functions used by scientists and engineers\n",
    "- scipy.integrate.guad has up to four arguments\n",
    "    - a function of method to be integrated\n",
    "    - a number representing the lower limit of the integration\n",
    "    - a number representing the upper limit of the integration\n",
    "    - an option tuple supplying values for all arguments except the first, of the function to be integrated\n",
    "- scipy.integrate.quad returns a tuple\n",
    "    - Approximation to result\n",
    "    - Estimate of absolute error"
   ]
  },
  {
   "cell_type": "markdown",
   "metadata": {},
   "source": [
    "### Code\n",
    "```python \n",
    "import scipy.integrate\n",
    "\n",
    "def gaussian(x, mu, sigma):\n",
    "    factor1 = (1.0/(sigma*((2*pylab.pi)**0.5)))\n",
    "    factor2 = pylab.e**-(((x-mu)**2)/(2*sigma**2))\n",
    "    return factor1*factor2\n",
    "    \n",
    "def checkEmpirical(numTrials):\n",
    "  for t in range(numTrials):\n",
    "     mu = random.randint(-10, 10)\n",
    "     sigma = random.randint(1, 10)\n",
    "     print('For mu =', mu, 'and sigma =', sigma)\n",
    "     for numStd in (1, 1.96, 3):\n",
    "        area = scipy.integrate.quad(gaussian,\n",
    "                                    mu-numStd*sigma,\n",
    "                                    mu+numStd*sigma,\n",
    "                                    (mu, sigma))[0]\n",
    "        print('  Fraction within', numStd, 'std =', round(area, 4))\n",
    "```"
   ]
  },
  {
   "cell_type": "code",
   "execution_count": 15,
   "metadata": {},
   "outputs": [
    {
     "name": "stdout",
     "output_type": "stream",
     "text": [
      "For mu = -9 and sigma = 10\n",
      "  Fraction within 1 std = 0.6827\n",
      "  Fraction within 1.96 std = 0.95\n",
      "  Fraction within 3 std = 0.9973\n",
      "For mu = -6 and sigma = 5\n",
      "  Fraction within 1 std = 0.6827\n",
      "  Fraction within 1.96 std = 0.95\n",
      "  Fraction within 3 std = 0.9973\n",
      "For mu = -7 and sigma = 8\n",
      "  Fraction within 1 std = 0.6827\n",
      "  Fraction within 1.96 std = 0.95\n",
      "  Fraction within 3 std = 0.9973\n"
     ]
    }
   ],
   "source": [
    "checkEmpirical(3)"
   ]
  }
 ],
 "metadata": {
  "kernelspec": {
   "display_name": "Python 3",
   "language": "python",
   "name": "python3"
  },
  "language_info": {
   "codemirror_mode": {
    "name": "ipython",
    "version": 3
   },
   "file_extension": ".py",
   "mimetype": "text/x-python",
   "name": "python",
   "nbconvert_exporter": "python",
   "pygments_lexer": "ipython3",
   "version": "3.7.4"
  }
 },
 "nbformat": 4,
 "nbformat_minor": 2
}
