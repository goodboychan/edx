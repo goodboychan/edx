{
 "cells": [
  {
   "cell_type": "markdown",
   "metadata": {},
   "source": [
    "## Inferential statistics"
   ]
  },
  {
   "cell_type": "markdown",
   "metadata": {},
   "source": [
    "### Inferential Statistics\n",
    " - Population : a set of examples\n",
    " - Sample : a proper subset of a population\n",
    " - Goal : Estimate some statistic about the population based on statistics about the sample\n",
    " - Key fact : If the sample is random, it tends to exhibit the same properties as the population from which it is drawn"
   ]
  },
  {
   "cell_type": "markdown",
   "metadata": {},
   "source": [
    "### Why the Difference in Confidence?\n",
    " - Confidence in our estimated depends upon two things\n",
    " - Size of sample\n",
    " - Variance of sample\n",
    " - As the variance grows, we need larger samples to have the same degree of confidence"
   ]
  },
  {
   "cell_type": "code",
   "execution_count": 2,
   "metadata": {},
   "outputs": [],
   "source": [
    "from lecture7_segment1 import *"
   ]
  },
  {
   "cell_type": "code",
   "execution_count": 3,
   "metadata": {},
   "outputs": [
    {
     "name": "stdout",
     "output_type": "stream",
     "text": [
      "1 spins of Fair Roulette\n",
      "Expected return betting red = -100.0%\n",
      "Expected return betting black = 100.0%\n",
      "Expected return betting 2 = -100.0%\n",
      "\n"
     ]
    },
    {
     "data": {
      "text/plain": [
       "(-1.0, 1.0, -1.0)"
      ]
     },
     "execution_count": 3,
     "metadata": {},
     "output_type": "execute_result"
    }
   ],
   "source": [
    "numSpins = 1\n",
    "game = FairRoulette()\n",
    "playRoulette(game, numSpins)"
   ]
  },
  {
   "cell_type": "code",
   "execution_count": 4,
   "metadata": {},
   "outputs": [
    {
     "name": "stdout",
     "output_type": "stream",
     "text": [
      "1 spins of Fair Roulette\n",
      "Expected return betting red = 100.0%\n",
      "Expected return betting black = -100.0%\n",
      "Expected return betting 2 = -100.0%\n",
      "\n"
     ]
    },
    {
     "data": {
      "text/plain": [
       "(1.0, -1.0, -1.0)"
      ]
     },
     "execution_count": 4,
     "metadata": {},
     "output_type": "execute_result"
    }
   ],
   "source": [
    "numSpins = 1\n",
    "game = FairRoulette()\n",
    "playRoulette(game, numSpins)"
   ]
  },
  {
   "cell_type": "code",
   "execution_count": 5,
   "metadata": {},
   "outputs": [
    {
     "name": "stdout",
     "output_type": "stream",
     "text": [
      "100 spins of Fair Roulette\n",
      "Expected return betting red = 12.0%\n",
      "Expected return betting black = -12.0%\n",
      "Expected return betting 2 = -28.0%\n",
      "\n"
     ]
    },
    {
     "data": {
      "text/plain": [
       "(0.12, -0.12, -0.28)"
      ]
     },
     "execution_count": 5,
     "metadata": {},
     "output_type": "execute_result"
    }
   ],
   "source": [
    "numSpins = 100\n",
    "game = FairRoulette()\n",
    "playRoulette(game, numSpins)"
   ]
  },
  {
   "cell_type": "code",
   "execution_count": 6,
   "metadata": {},
   "outputs": [
    {
     "name": "stdout",
     "output_type": "stream",
     "text": [
      "100 spins of Fair Roulette\n",
      "Expected return betting red = 4.0%\n",
      "Expected return betting black = -4.0%\n",
      "Expected return betting 2 = -64.0%\n",
      "\n"
     ]
    },
    {
     "data": {
      "text/plain": [
       "(0.04, -0.04, -0.64)"
      ]
     },
     "execution_count": 6,
     "metadata": {},
     "output_type": "execute_result"
    }
   ],
   "source": [
    "numSpins = 100\n",
    "game = FairRoulette()\n",
    "playRoulette(game, numSpins)"
   ]
  },
  {
   "cell_type": "code",
   "execution_count": 7,
   "metadata": {},
   "outputs": [
    {
     "name": "stdout",
     "output_type": "stream",
     "text": [
      "10000 spins of Fair Roulette\n",
      "Expected return betting red = -0.7%\n",
      "Expected return betting black = 0.7%\n",
      "Expected return betting 2 = 2.24%\n",
      "\n"
     ]
    },
    {
     "data": {
      "text/plain": [
       "(-0.007, 0.007, 0.0224)"
      ]
     },
     "execution_count": 7,
     "metadata": {},
     "output_type": "execute_result"
    }
   ],
   "source": [
    "numSpins = 10000\n",
    "game = FairRoulette()\n",
    "playRoulette(game, numSpins)"
   ]
  },
  {
   "cell_type": "code",
   "execution_count": 8,
   "metadata": {},
   "outputs": [
    {
     "name": "stdout",
     "output_type": "stream",
     "text": [
      "1000000 spins of Fair Roulette\n",
      "Expected return betting red = -0.0002%\n",
      "Expected return betting black = 0.0002%\n",
      "Expected return betting 2 = 0.1376%\n",
      "\n"
     ]
    },
    {
     "data": {
      "text/plain": [
       "(-2e-06, 2e-06, 0.001376)"
      ]
     },
     "execution_count": 8,
     "metadata": {},
     "output_type": "execute_result"
    }
   ],
   "source": [
    "numSpins = 1000000\n",
    "game = FairRoulette()\n",
    "playRoulette(game, numSpins)"
   ]
  },
  {
   "cell_type": "code",
   "execution_count": 9,
   "metadata": {},
   "outputs": [
    {
     "name": "stdout",
     "output_type": "stream",
     "text": [
      "1000000 spins of Fair Roulette\n",
      "Expected return betting red = -0.0192%\n",
      "Expected return betting black = 0.0192%\n",
      "Expected return betting 2 = 0.4616%\n",
      "\n"
     ]
    },
    {
     "data": {
      "text/plain": [
       "(-0.000192, 0.000192, 0.004616)"
      ]
     },
     "execution_count": 9,
     "metadata": {},
     "output_type": "execute_result"
    }
   ],
   "source": [
    "numSpins = 1000000\n",
    "game = FairRoulette()\n",
    "playRoulette(game, numSpins)"
   ]
  },
  {
   "cell_type": "code",
   "execution_count": 10,
   "metadata": {},
   "outputs": [
    {
     "name": "stdout",
     "output_type": "stream",
     "text": [
      "1000000 spins of Fair Roulette\n",
      "Expected return betting red = 0.167%\n",
      "Expected return betting black = -0.167%\n",
      "Expected return betting 2 = -0.6292%\n",
      "\n"
     ]
    },
    {
     "data": {
      "text/plain": [
       "(0.00167, -0.00167, -0.006292)"
      ]
     },
     "execution_count": 10,
     "metadata": {},
     "output_type": "execute_result"
    }
   ],
   "source": [
    "numSpins = 1000000\n",
    "game = FairRoulette()\n",
    "playRoulette(game, numSpins)"
   ]
  },
  {
   "cell_type": "markdown",
   "metadata": {},
   "source": [
    "### Law of Large Numbers (LLN)\n",
    "- In repeated independent tests with the same actual probability *p* of a particular outcome in each test, the chance that the fraction of times that outcome occurs differs from *p* converges to zero as the number of trials goes to infinity."
   ]
  },
  {
   "cell_type": "markdown",
   "metadata": {},
   "source": [
    "### Gambler's Fallacy\n",
    "- If deviations from expected behavior occur, these deviations are likely to be evened out by opposite deviations in the future"
   ]
  },
  {
   "cell_type": "markdown",
   "metadata": {},
   "source": [
    "- Probability of 15 consecutive reds : 1/32378\n",
    "- Probability of 25 consecutive reds : 1/33554432\n",
    "- Probability of 26 consecutive reds : 1/67108865\n",
    "- Probability of 26 consecutive reds when previous 25 rolls were red : **1/2**"
   ]
  },
  {
   "cell_type": "markdown",
   "metadata": {},
   "source": [
    "### Regression to the Mean\n",
    "- Following an extreme random event, the next random event is likely to be less extreme\n",
    "- If you spin a fair roulette wheel 10 times and get 100% reds, that is an extreme event (probability = 1/1024)\n",
    "- It is like that in the next 10 spins, you will get fewer than 10 reds\n",
    "- So, if you look at the average of the 20 spins, it will be closer to the expected mean of 50% reds than to the 100% you saw in the first 10 spins"
   ]
  },
  {
   "cell_type": "markdown",
   "metadata": {},
   "source": [
    "### Variation in Data"
   ]
  },
  {
   "cell_type": "code",
   "execution_count": 12,
   "metadata": {},
   "outputs": [],
   "source": [
    "from lecture7_segment2 import *"
   ]
  },
  {
   "cell_type": "code",
   "execution_count": 14,
   "metadata": {},
   "outputs": [
    {
     "name": "stdout",
     "output_type": "stream",
     "text": [
      "\n",
      "Simulate betting a pocket for 20 trials of 100 spins each\n",
      "Exp. return for Fair Roulette = 6.199999999999998%\n",
      "Exp. return for European Roulette = -8.200000000000001%\n",
      "Exp. return for American Roulette = 2.599999999999998%\n",
      "\n",
      "Simulate betting a pocket for 20 trials of 1000 spins each\n",
      "Exp. return for Fair Roulette = 4.760000000000002%\n",
      "Exp. return for European Roulette = -2.4399999999999995%\n",
      "Exp. return for American Roulette = -9.46%\n",
      "\n",
      "Simulate betting a pocket for 20 trials of 10000 spins each\n",
      "Exp. return for Fair Roulette = -1.3060000000000003%\n",
      "Exp. return for European Roulette = -4.095999999999999%\n",
      "Exp. return for American Roulette = -5.698000000000001%\n",
      "\n",
      "Simulate betting a pocket for 20 trials of 100000 spins each\n",
      "Exp. return for Fair Roulette = 0.7982%\n",
      "Exp. return for European Roulette = -2.5876000000000006%\n",
      "Exp. return for American Roulette = -5.134600000000001%\n"
     ]
    }
   ],
   "source": [
    "random.seed(0)\n",
    "numTrials = 20\n",
    "resultDict = {}\n",
    "games = (FairRoulette, EuRoulette, AmRoulette)\n",
    "for G in games:\n",
    "    resultDict[G().__str__()] = []\n",
    "for numSpins in (100, 1000, 10000, 100000):\n",
    "    print('\\nSimulate betting a pocket for', numTrials,\n",
    "          'trials of',\n",
    "          numSpins, 'spins each')\n",
    "    for G in games:\n",
    "        pocketReturns = findPocketReturn(G(), numTrials,\n",
    "                                         numSpins, False)\n",
    "        print('Exp. return for', G(), '=',\n",
    "             str(100*sum(pocketReturns)/float(len(pocketReturns))) + '%')"
   ]
  },
  {
   "cell_type": "markdown",
   "metadata": {},
   "source": [
    "### Sampling Space of Possible Outcomes\n",
    "- Never possible to guarantee perfect accuracy through sampling\n",
    "- Not to say that an estimate is not precisely correct\n",
    "- How many samples do we need to look at before we can have justified confidence on our answer?\n",
    "    - Depeds upon variability in underlying distribution"
   ]
  },
  {
   "cell_type": "markdown",
   "metadata": {},
   "source": [
    "### Quantifying Variation in Data\n",
    "\n",
    "$$ Var(X) = \\frac{\\sum_{x \\in X}(x- \\mu)^2}{|n|} $$\n",
    "\n",
    "$$ \\sigma(X) = \\sqrt{\\frac{1}{|x|}\\sum_{x \\in X}(x-\\mu)^2} $$\n",
    "\n",
    "- Standard deviation simply the square root of the variance\n",
    "- Outliers can have a big effect\n",
    "- Standard deviation should always be considered relative to mean"
   ]
  },
  {
   "cell_type": "markdown",
   "metadata": {},
   "source": [
    "### Code\n",
    "```python\n",
    "def getMeanAndStd(X):\n",
    "    mean = sum(X) / float(len(X))\n",
    "    tot = 0.0\n",
    "    for x in X:\n",
    "        tot += (x - mean) ** 2\n",
    "    std = (tot / len(X)) ** 0.5\n",
    "    return mean, std\n",
    "```"
   ]
  },
  {
   "cell_type": "markdown",
   "metadata": {},
   "source": [
    "### Confidence Levels and Intervals\n",
    "- Instead of estimating an unknown parameter by a single value (e.g., the mean of a set of trials), a confidence interval provides a range that is likely to contain the unknown value and a confidence that the unknown value lays within that range\n",
    "\n",
    "- \"The return on betting on 2 twenty times in European roulette is -3.3%. The margin of error is $\\pm$ 1% with a 95% level of confidence\""
   ]
  },
  {
   "cell_type": "markdown",
   "metadata": {},
   "source": [
    "### Empirical Rule\n",
    "- Under some assumptions discussed later\n",
    "    - ~ 68% of data within $\\sigma$ of mean\n",
    "    - ~ 95% of data within 2 $\\sigma$ of mean\n",
    "    - ~ 99.7% of data within 3 $\\sigma$ of mean"
   ]
  },
  {
   "cell_type": "code",
   "execution_count": 16,
   "metadata": {},
   "outputs": [
    {
     "name": "stdout",
     "output_type": "stream",
     "text": [
      "\n",
      "Simulate betting a pocket for 20 trials of 100 spins each\n",
      "Exp. return for Fair Roulette = 6.2%, ±152.114% with 95% confidence\n",
      "Exp. return for European Roulette = -8.2%, ±90.567% with 95% confidence\n",
      "Exp. return for American Roulette = 2.6%, ±92.74% with 95% confidence\n",
      "\n",
      "Simulate betting a pocket for 20 trials of 1000 spins each\n",
      "Exp. return for Fair Roulette = 4.76%, ±39.658% with 95% confidence\n",
      "Exp. return for European Roulette = -2.44%, ±31.31% with 95% confidence\n",
      "Exp. return for American Roulette = -9.46%, ±36.273% with 95% confidence\n",
      "\n",
      "Simulate betting a pocket for 20 trials of 10000 spins each\n",
      "Exp. return for Fair Roulette = -1.306%, ±9.295% with 95% confidence\n",
      "Exp. return for European Roulette = -4.096%, ±10.902% with 95% confidence\n",
      "Exp. return for American Roulette = -5.698%, ±11.077% with 95% confidence\n"
     ]
    }
   ],
   "source": [
    "random.seed(0)\n",
    "numTrials = 20\n",
    "resultDict = {}\n",
    "games = (FairRoulette, EuRoulette, AmRoulette)\n",
    "for G in games:\n",
    "   resultDict[G().__str__()] = []\n",
    "for numSpins in (100, 1000, 10000):\n",
    "   print('\\nSimulate betting a pocket for', numTrials,\n",
    "         'trials of', numSpins, 'spins each')\n",
    "   for G in games:\n",
    "       pocketReturns = findPocketReturn(G(), 20, numSpins, False)\n",
    "       mean, std = getMeanAndStd(pocketReturns)\n",
    "       resultDict[G().__str__()].append((numSpins,\n",
    "                                         100*mean, 100*std))\n",
    "       print('Exp. return for', G(), '=', str(round(100*mean, 3))\n",
    "             + '%,', '±' + str(round(100*1.96*std, 3))\n",
    "             + '% with 95% confidence')"
   ]
  }
 ],
 "metadata": {
  "kernelspec": {
   "display_name": "Python 3",
   "language": "python",
   "name": "python3"
  },
  "language_info": {
   "codemirror_mode": {
    "name": "ipython",
    "version": 3
   },
   "file_extension": ".py",
   "mimetype": "text/x-python",
   "name": "python",
   "nbconvert_exporter": "python",
   "pygments_lexer": "ipython3",
   "version": "3.7.4"
  }
 },
 "nbformat": 4,
 "nbformat_minor": 2
}
