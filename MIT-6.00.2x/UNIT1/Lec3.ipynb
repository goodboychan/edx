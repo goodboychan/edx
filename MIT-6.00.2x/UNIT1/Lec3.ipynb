{
 "cells": [
  {
   "cell_type": "markdown",
   "metadata": {},
   "source": [
    "Source : [MIT 6.00.2x - Introduction to Computational Thinking and Data Science](https://www.edx.org/course/introduction-to-computational-thinking-and-data-4)"
   ]
  },
  {
   "cell_type": "code",
   "execution_count": 1,
   "metadata": {},
   "outputs": [],
   "source": [
    "from lecture3_segment2 import *"
   ]
  },
  {
   "cell_type": "markdown",
   "metadata": {},
   "source": [
    "## Graph Class "
   ]
  },
  {
   "cell_type": "markdown",
   "metadata": {},
   "source": [
    "### Common Representations of Digraphs"
   ]
  },
  {
   "cell_type": "markdown",
   "metadata": {},
   "source": [
    "- Adjacency matrix\n",
    "    - Rows : source nodes\n",
    "    - Columns : destination nodes\n",
    "    - Cell[s, d] = 1 if there is an edge from s to d\n",
    "    - Cell[s, d] = 0 otherwise\n",
    "                   \n",
    "- <span style=\"color:red\">Adjacency</span> list\n",
    "    - Associate with each node a list of destination nodes"
   ]
  },
  {
   "cell_type": "markdown",
   "metadata": {},
   "source": [
    "```Python\n",
    "class Digraph(object):\n",
    "    \"\"\"edges is a dict mapping each node to a list of\n",
    "    its children\"\"\"\n",
    "    def __init__(self):\n",
    "        self.edges = {}\n",
    "    def addNode(self, node):\n",
    "        if node in self.edges:\n",
    "            raise ValueError('Duplicate node')\n",
    "        else:\n",
    "            self.edges[node] = []\n",
    "    def addEdge(self, edge):\n",
    "        src = edge.getSource()\n",
    "        dest = edge.getDestination()\n",
    "        if not (src in self.edges and dest in self.edges):\n",
    "            raise ValueError('Node not in graph')\n",
    "        self.edges[src].append(dest)\n",
    "    def childrenOf(self, node):\n",
    "        return self.edges[node]\n",
    "    def hasNode(self, node):\n",
    "        return node in self.edges\n",
    "    def getNode(self, name):\n",
    "        for n in self.edges:\n",
    "            if n.getName() == name:\n",
    "                return n\n",
    "        raise NameError(name)\n",
    "    def __str__(self):\n",
    "        result = ''\n",
    "        for src in self.edges:\n",
    "            for dest in self.edges[src]:\n",
    "                result = result + src.getName() + '->'\\\n",
    "                         + dest.getName() + '\\n'\n",
    "        return result[:-1] #omit final newline\n",
    "```"
   ]
  },
  {
   "cell_type": "markdown",
   "metadata": {},
   "source": [
    "```Python\n",
    "class Graph(Digraph):\n",
    "    def addEdge(self, edge):\n",
    "        Digraph.addEdge(self, edge)\n",
    "        rev = Edge(edge.getDestination(), edge.getSource())\n",
    "        Digraph.addEdge(self, rev)\n",
    "```"
   ]
  },
  {
   "cell_type": "markdown",
   "metadata": {},
   "source": [
    "### A classic Graph Optimization Problem"
   ]
  },
  {
   "cell_type": "markdown",
   "metadata": {},
   "source": [
    "- Shortest path from n1 to n2\n",
    "    - shortest sequence of edges such that\n",
    "        - Source node of first edge is n1\n",
    "        - Destination of last edge is n2\n",
    "        - For edges, e1 and e2, in the sequence, if e2 follows e1 in the sequence, the source of e2 is the destination of e1\n",
    "- Shortest weighted path\n",
    "    - Minimize the sum of the weights of the edges in the path"
   ]
  },
  {
   "cell_type": "code",
   "execution_count": 2,
   "metadata": {},
   "outputs": [
    {
     "name": "stdout",
     "output_type": "stream",
     "text": [
      "Boston->Providence\n",
      "Boston->New York\n",
      "Boston->Providence\n",
      "Boston->Los Angeles\n",
      "Providence->Boston\n",
      "Providence->Boston\n",
      "Providence->New York\n",
      "New York->Boston\n",
      "New York->Providence\n",
      "New York->Chicago\n",
      "New York->Denver\n",
      "Chicago->New York\n",
      "Chicago->Denver\n",
      "Denver->Chicago\n",
      "Denver->Phoenix\n",
      "Denver->New York\n",
      "Phoenix->Denver\n",
      "Los Angeles->Boston\n"
     ]
    }
   ],
   "source": [
    "print(buildCityGraph(Graph))"
   ]
  },
  {
   "cell_type": "code",
   "execution_count": 3,
   "metadata": {},
   "outputs": [
    {
     "name": "stdout",
     "output_type": "stream",
     "text": [
      "Boston->Providence\n",
      "Boston->New York\n",
      "Providence->Boston\n",
      "Providence->New York\n",
      "New York->Chicago\n",
      "Chicago->Denver\n",
      "Denver->Phoenix\n",
      "Denver->New York\n",
      "Los Angeles->Boston\n"
     ]
    }
   ],
   "source": [
    "print(buildCityGraph(Digraph))"
   ]
  },
  {
   "cell_type": "markdown",
   "metadata": {},
   "source": [
    "### Exercise 2"
   ]
  },
  {
   "cell_type": "markdown",
   "metadata": {},
   "source": [
    "Consider our representation of permutations of students in a line from Exercise 1. (The teacher only swaps the positions of two students that are next to each other in line.) Let's consider a line of three students, Alice, Bob, and Carol (denoted A, B, and C). Using the Graph class created in the lecture, we can create a graph with the design chosen in Exercise 1: vertices represent permutations of the students in line; edges connect two permutations if one can be made into the other by swapping two adjacent students."
   ]
  },
  {
   "cell_type": "markdown",
   "metadata": {},
   "source": [
    "We construct our graph by first adding the following nodes:\n",
    "```python\n",
    "nodes = []\n",
    "nodes.append(Node(\"ABC\")) # nodes[0]\n",
    "nodes.append(Node(\"ACB\")) # nodes[1]\n",
    "nodes.append(Node(\"BAC\")) # nodes[2]\n",
    "nodes.append(Node(\"BCA\")) # nodes[3]\n",
    "nodes.append(Node(\"CAB\")) # nodes[4]\n",
    "nodes.append(Node(\"CBA\")) # nodes[5]\n",
    "\n",
    "g = Graph()\n",
    "for n in nodes:\n",
    "    g.addNode(n)\n",
    "```"
   ]
  },
  {
   "cell_type": "code",
   "execution_count": 4,
   "metadata": {},
   "outputs": [],
   "source": [
    "nodes = []\n",
    "nodes.append(Node(\"ABC\")) # nodes[0]\n",
    "nodes.append(Node(\"ACB\")) # nodes[1]\n",
    "nodes.append(Node(\"BAC\")) # nodes[2]\n",
    "nodes.append(Node(\"BCA\")) # nodes[3]\n",
    "nodes.append(Node(\"CAB\")) # nodes[4]\n",
    "nodes.append(Node(\"CBA\")) # nodes[5]\n",
    "\n",
    "g = Graph()\n",
    "for n in nodes:\n",
    "    g.addNode(n)\n",
    "\n",
    "g.addEdge(Edge(g.getNode('ABC'), g.getNode('BAC')))\n",
    "g.addEdge(Edge(g.getNode('ABC'), g.getNode('ACB')))\n",
    "g.addEdge(Edge(g.getNode('ACB'), g.getNode('CAB')))\n",
    "g.addEdge(Edge(g.getNode('BAC'), g.getNode('BCA')))\n",
    "g.addEdge(Edge(g.getNode('BCA'), g.getNode('CBA')))\n",
    "g.addEdge(Edge(g.getNode('CAB'), g.getNode('CBA')))"
   ]
  },
  {
   "cell_type": "code",
   "execution_count": 5,
   "metadata": {},
   "outputs": [
    {
     "name": "stdout",
     "output_type": "stream",
     "text": [
      "edges from node0\n",
      "BAC\n",
      "ACB\n",
      " \n",
      "edges from node1\n",
      "ABC\n",
      "CAB\n",
      " \n",
      "edges from node2\n",
      "ABC\n",
      "BCA\n",
      " \n",
      "edges from node3\n",
      "BAC\n",
      "CBA\n",
      " \n",
      "edges from node4\n",
      "ACB\n",
      "CBA\n",
      " \n",
      "edges from node5\n",
      "BCA\n",
      "CAB\n",
      " \n"
     ]
    }
   ],
   "source": [
    "for i in range(len(nodes)):\n",
    "    print(\"edges from node{}\".format(i))\n",
    "    for e in g.childrenOf(nodes[i]):\n",
    "        print(e)\n",
    "    print(\" \")"
   ]
  },
  {
   "cell_type": "markdown",
   "metadata": {},
   "source": [
    "## Finding the Shortest Path"
   ]
  },
  {
   "cell_type": "code",
   "execution_count": 6,
   "metadata": {},
   "outputs": [],
   "source": [
    "from lecture3_segment3 import *"
   ]
  },
  {
   "cell_type": "markdown",
   "metadata": {},
   "source": [
    "### Depth-first Search (DFS)"
   ]
  },
  {
   "cell_type": "markdown",
   "metadata": {},
   "source": [
    "- Similar to left-first depth-first method of enumerating a search tree\n",
    "- Main difference is that graph might have cycles, so we must keep track of what nodes we have visited"
   ]
  },
  {
   "cell_type": "markdown",
   "metadata": {},
   "source": [
    "#### Algorithm 1: Depth-frist Search (DFS)"
   ]
  },
  {
   "cell_type": "markdown",
   "metadata": {},
   "source": [
    "```python\n",
    "def DFS(graph, start, end, path, shortest, toPrint = False):\n",
    "    \"\"\"Assumes graph is a Digraph; start and end are nodes;\n",
    "          path and shortest are lists of nodes\n",
    "       Returns a shortest path from start to end in graph\"\"\"\n",
    "    path = path + [start]\n",
    "    if toPrint:\n",
    "        print('Current DFS path:', printPath(path))\n",
    "    if start == end:\n",
    "        return path\n",
    "    for node in graph.childrenOf(start):\n",
    "        if node not in path: #avoid cycles\n",
    "            if shortest == None or len(path) < len(shortest):\n",
    "                newPath = DFS(graph, node, end, path, shortest,\n",
    "                              toPrint)\n",
    "                if newPath != None:\n",
    "                    shortest = newPath\n",
    "        elif toPrint:\n",
    "            print('Already visited', node)\n",
    "    return shortest\n",
    "    \n",
    "def shortestPath(graph, start, end, toPrint = False):\n",
    "    \"\"\"Assumes graph is a Digraph; start and end are nodes\n",
    "       Returns a shortest path from start to end in graph\"\"\"\n",
    "    return DFS(graph, start, end, [], None, toPrint)\n",
    "```"
   ]
  },
  {
   "cell_type": "code",
   "execution_count": 7,
   "metadata": {},
   "outputs": [
    {
     "name": "stdout",
     "output_type": "stream",
     "text": [
      "Current DFS path: Chicago\n",
      "Current DFS path: Chicago->Phoenix\n",
      "Current DFS path: Chicago->Denver\n",
      "Current DFS path: Chicago->Denver->Phoenix\n",
      "Current DFS path: Chicago->Denver->New York\n",
      "Already visited Chicago\n",
      "There is no path from Chicago to Boston\n"
     ]
    }
   ],
   "source": [
    "testSP('Chicago', 'Boston', 'DFS')"
   ]
  },
  {
   "cell_type": "code",
   "execution_count": 8,
   "metadata": {},
   "outputs": [
    {
     "name": "stdout",
     "output_type": "stream",
     "text": [
      "Current DFS path: Boston\n",
      "Current DFS path: Boston->Providence\n",
      "Already visited Boston\n",
      "Current DFS path: Boston->Providence->New York\n",
      "Current DFS path: Boston->Providence->New York->Chicago\n",
      "Current DFS path: Boston->Providence->New York->Chicago->Phoenix\n",
      "Current DFS path: Boston->Providence->New York->Chicago->Denver\n",
      "Already visited New York\n",
      "Current DFS path: Boston->New York\n",
      "Current DFS path: Boston->New York->Chicago\n",
      "Current DFS path: Boston->New York->Chicago->Phoenix\n",
      "Current DFS path: Boston->New York->Chicago->Denver\n",
      "Already visited New York\n",
      "Shortest path from Boston to Phoenix is Boston->New York->Chicago->Phoenix\n"
     ]
    }
   ],
   "source": [
    "testSP('Boston', 'Phoenix', 'DFS')"
   ]
  },
  {
   "cell_type": "markdown",
   "metadata": {},
   "source": [
    "#### Algorithm 2: Breadth-first Search (BFS)"
   ]
  },
  {
   "cell_type": "markdown",
   "metadata": {},
   "source": [
    "```python\n",
    "def BFS(graph, start, end, toPrint = False):\n",
    "    \"\"\"Assumes graph is a Digraph; start and end are nodes\n",
    "       Returns a shortest path from start to end in graph\"\"\"\n",
    "    initPath = [start]\n",
    "    pathQueue = [initPath]\n",
    "    while len(pathQueue) != 0:\n",
    "        #Get and remove oldest element in pathQueue\n",
    "        tmpPath = pathQueue.pop(0)\n",
    "        if toPrint:\n",
    "            print('Current BFS path:', printPath(tmpPath))\n",
    "        lastNode = tmpPath[-1]\n",
    "        if lastNode == end:\n",
    "            return tmpPath\n",
    "        for nextNode in graph.childrenOf(lastNode):\n",
    "            if nextNode not in tmpPath:\n",
    "                newPath = tmpPath + [nextNode]\n",
    "                pathQueue.append(newPath)\n",
    "    return None\n",
    "\n",
    "def shortestPath(graph, start, end, toPrint = False):\n",
    "    \"\"\"Assumes graph is a Digraph; start and end are nodes\n",
    "       Returns a shortest path from start to end in graph\"\"\"\n",
    "    return BFS(graph, start, end, toPrint)\n",
    "```"
   ]
  },
  {
   "cell_type": "code",
   "execution_count": 10,
   "metadata": {},
   "outputs": [
    {
     "name": "stdout",
     "output_type": "stream",
     "text": [
      "Current DFS path: Boston\n",
      "Current DFS path: Boston->Providence\n",
      "Already visited Boston\n",
      "Current DFS path: Boston->Providence->New York\n",
      "Current DFS path: Boston->Providence->New York->Chicago\n",
      "Current DFS path: Boston->Providence->New York->Chicago->Phoenix\n",
      "Current DFS path: Boston->Providence->New York->Chicago->Denver\n",
      "Already visited New York\n",
      "Current DFS path: Boston->New York\n",
      "Current DFS path: Boston->New York->Chicago\n",
      "Current DFS path: Boston->New York->Chicago->Phoenix\n",
      "Current DFS path: Boston->New York->Chicago->Denver\n",
      "Already visited New York\n",
      "Shortest path from Boston to Phoenix is Boston->New York->Chicago->Phoenix\n"
     ]
    }
   ],
   "source": [
    "testSP('Boston', 'Phoenix', 'DFS')"
   ]
  },
  {
   "cell_type": "code",
   "execution_count": 11,
   "metadata": {},
   "outputs": [
    {
     "name": "stdout",
     "output_type": "stream",
     "text": [
      "Current BFS path: Boston\n",
      "Current BFS path: Boston->Providence\n",
      "Current BFS path: Boston->New York\n",
      "Current BFS path: Boston->Providence->New York\n",
      "Current BFS path: Boston->New York->Chicago\n",
      "Current BFS path: Boston->Providence->New York->Chicago\n",
      "Current BFS path: Boston->New York->Chicago->Phoenix\n",
      "Shortest path from Boston to Phoenix is Boston->New York->Chicago->Phoenix\n"
     ]
    }
   ],
   "source": [
    "testSP('Boston', 'Phoenix', 'BFS')"
   ]
  },
  {
   "cell_type": "markdown",
   "metadata": {},
   "source": [
    "### Exercise 4"
   ]
  },
  {
   "cell_type": "code",
   "execution_count": 12,
   "metadata": {},
   "outputs": [],
   "source": [
    "nodes = []\n",
    "nodes.append(Node(\"ABC\")) # nodes[0]\n",
    "nodes.append(Node(\"ACB\")) # nodes[1]\n",
    "nodes.append(Node(\"BAC\")) # nodes[2]\n",
    "nodes.append(Node(\"BCA\")) # nodes[3]\n",
    "nodes.append(Node(\"CAB\")) # nodes[4]\n",
    "nodes.append(Node(\"CBA\")) # nodes[5]"
   ]
  },
  {
   "cell_type": "code",
   "execution_count": 15,
   "metadata": {},
   "outputs": [
    {
     "name": "stdout",
     "output_type": "stream",
     "text": [
      "ABC\n",
      "ACB\n",
      "BAC\n",
      "BCA\n",
      "CAB\n",
      "CBA\n"
     ]
    }
   ],
   "source": [
    "for e in nodes:\n",
    "    print(e)\n",
    "    \n",
    "g = Graph()\n",
    "for n in nodes:\n",
    "    g.addNode(n)"
   ]
  },
  {
   "cell_type": "code",
   "execution_count": 16,
   "metadata": {},
   "outputs": [],
   "source": [
    "g.addEdge(Edge(g.getNode('ABC'), g.getNode('ACB')))\n",
    "g.addEdge(Edge(g.getNode('ABC'), g.getNode('BAC')))\n",
    "g.addEdge(Edge(g.getNode('ACB'), g.getNode('CAB')))\n",
    "g.addEdge(Edge(g.getNode('BAC'), g.getNode('BCA')))\n",
    "g.addEdge(Edge(g.getNode('BCA'), g.getNode('CBA')))\n",
    "g.addEdge(Edge(g.getNode('CAB'), g.getNode('CBA')))"
   ]
  },
  {
   "cell_type": "code",
   "execution_count": 32,
   "metadata": {},
   "outputs": [],
   "source": [
    "priority = {\n",
    "    'ABC':0,\n",
    "    'ACB':1,\n",
    "    'BAC':2,\n",
    "    'BCA':3,\n",
    "    'CAB':4,\n",
    "    'CBA':5\n",
    "}\n",
    "\n",
    "def DFS_ex4(graph, start, end, path, shortest, toPrint = False):\n",
    "    \"\"\"Assumes graph is a Digraph; start and end are nodes;\n",
    "          path and shortest are lists of nodes\n",
    "       Returns a shortest path from start to end in graph\"\"\"\n",
    "    path = path + [start]\n",
    "    if toPrint:\n",
    "        print('Current DFS path:', printPath(path))\n",
    "    if start == end:\n",
    "        return path\n",
    "    for node in graph.childrenOf(start):\n",
    "        if node not in path: #avoid cycles\n",
    "#             if shortest == None or len(path[-1]) < len(shortest):\n",
    "            if shortest == None or priority[path[0].getName()] < priority[path[-1].getName()]:\n",
    "                newPath = DFS(graph, node, end, path, shortest,\n",
    "                              toPrint)\n",
    "                if newPath != None:\n",
    "                    shortest = newPath\n",
    "        elif toPrint:\n",
    "            print('Already visited', node)\n",
    "    return shortest\n",
    "    \n",
    "def shortestPath_DFS(graph, start, end, toPrint = False):\n",
    "    \"\"\"Assumes graph is a Digraph; start and end are nodes\n",
    "       Returns a shortest path from start to end in graph\"\"\"\n",
    "    return DFS_ex4(graph, start, end, [], None, toPrint)"
   ]
  },
  {
   "cell_type": "code",
   "execution_count": 33,
   "metadata": {},
   "outputs": [
    {
     "name": "stdout",
     "output_type": "stream",
     "text": [
      "Current DFS path: ABC\n",
      "Current DFS path: ABC->ACB\n",
      "Already visited ABC\n",
      "Current DFS path: ABC->ACB->CAB\n",
      "Shortest path from ABC to CAB is ABC->ACB->CAB\n"
     ]
    }
   ],
   "source": [
    "source = 'ABC'\n",
    "destination = 'CAB'\n",
    "sp = shortestPath_DFS(g, g.getNode(source), g.getNode(destination), toPrint=True)\n",
    "if sp != None:\n",
    "    print('Shortest path from', source, 'to',\n",
    "              destination, 'is', printPath(sp))\n",
    "else:\n",
    "    print('There is no path from', source, 'to', destination)"
   ]
  },
  {
   "cell_type": "code",
   "execution_count": 34,
   "metadata": {},
   "outputs": [
    {
     "name": "stdout",
     "output_type": "stream",
     "text": [
      "Current DFS path: CAB\n",
      "Current DFS path: CAB->ACB\n",
      "Shortest path from CAB to ACB is CAB->ACB\n"
     ]
    }
   ],
   "source": [
    "source = 'CAB'\n",
    "destination = 'ACB'\n",
    "sp = shortestPath_DFS(g, g.getNode(source), g.getNode(destination), toPrint=True)\n",
    "if sp != None:\n",
    "    print('Shortest path from', source, 'to',\n",
    "              destination, 'is', printPath(sp))\n",
    "else:\n",
    "    print('There is no path from', source, 'to', destination)"
   ]
  },
  {
   "cell_type": "code",
   "execution_count": 35,
   "metadata": {},
   "outputs": [
    {
     "name": "stdout",
     "output_type": "stream",
     "text": [
      "Current DFS path: BAC\n",
      "Current DFS path: BAC->ABC\n",
      "Current DFS path: BAC->ABC->ACB\n",
      "Already visited ABC\n",
      "Current DFS path: BAC->ABC->ACB->CAB\n",
      "Already visited BAC\n",
      "Shortest path from BAC to CAB is BAC->ABC->ACB->CAB\n"
     ]
    }
   ],
   "source": [
    "source = 'BAC'\n",
    "destination = 'CAB'\n",
    "sp = shortestPath_DFS(g, g.getNode(source), g.getNode(destination), toPrint=True)\n",
    "if sp != None:\n",
    "    print('Shortest path from', source, 'to',\n",
    "              destination, 'is', printPath(sp))\n",
    "else:\n",
    "    print('There is no path from', source, 'to', destination)"
   ]
  },
  {
   "cell_type": "code",
   "execution_count": 36,
   "metadata": {},
   "outputs": [
    {
     "name": "stdout",
     "output_type": "stream",
     "text": [
      "Current DFS path: BAC\n",
      "Current DFS path: BAC->ABC\n",
      "Current DFS path: BAC->ABC->ACB\n",
      "Already visited ABC\n",
      "Current DFS path: BAC->ABC->ACB->CAB\n",
      "Already visited ACB\n",
      "Current DFS path: BAC->ABC->ACB->CAB->CBA\n",
      "Current DFS path: BAC->ABC->ACB->CAB->CBA->BCA\n",
      "Already visited CAB\n",
      "Already visited BAC\n",
      "Shortest path from BAC to BCA is BAC->ABC->ACB->CAB->CBA->BCA\n"
     ]
    }
   ],
   "source": [
    "source = 'BAC'\n",
    "destination = 'BCA'\n",
    "sp = shortestPath_DFS(g, g.getNode(source), g.getNode(destination), toPrint=True)\n",
    "if sp != None:\n",
    "    print('Shortest path from', source, 'to',\n",
    "              destination, 'is', printPath(sp))\n",
    "else:\n",
    "    print('There is no path from', source, 'to', destination)"
   ]
  },
  {
   "cell_type": "code",
   "execution_count": 37,
   "metadata": {},
   "outputs": [
    {
     "name": "stdout",
     "output_type": "stream",
     "text": [
      "Current DFS path: BCA\n",
      "Current DFS path: BCA->BAC\n",
      "Current DFS path: BCA->BAC->ABC\n",
      "Current DFS path: BCA->BAC->ABC->ACB\n",
      "Already visited BAC\n",
      "Already visited BCA\n",
      "Shortest path from BCA to ACB is BCA->BAC->ABC->ACB\n"
     ]
    }
   ],
   "source": [
    "source = 'BCA'\n",
    "destination = 'ACB'\n",
    "sp = shortestPath_DFS(g, g.getNode(source), g.getNode(destination), toPrint=True)\n",
    "if sp != None:\n",
    "    print('Shortest path from', source, 'to',\n",
    "              destination, 'is', printPath(sp))\n",
    "else:\n",
    "    print('There is no path from', source, 'to', destination)"
   ]
  }
 ],
 "metadata": {
  "kernelspec": {
   "display_name": "Python 3",
   "language": "python",
   "name": "python3"
  },
  "language_info": {
   "codemirror_mode": {
    "name": "ipython",
    "version": 3
   },
   "file_extension": ".py",
   "mimetype": "text/x-python",
   "name": "python",
   "nbconvert_exporter": "python",
   "pygments_lexer": "ipython3",
   "version": "3.7.4"
  }
 },
 "nbformat": 4,
 "nbformat_minor": 2
}
