{
 "cells": [
  {
   "cell_type": "markdown",
   "metadata": {},
   "source": [
    "Source : [MIT 6.00.2x - Introduction to Computational Thinking and Data Science](https://www.edx.org/course/introduction-to-computational-thinking-and-data-4)"
   ]
  },
  {
   "cell_type": "code",
   "execution_count": 4,
   "metadata": {},
   "outputs": [],
   "source": [
    "from lecture2_segment2 import *"
   ]
  },
  {
   "cell_type": "markdown",
   "metadata": {},
   "source": [
    "### Recursive Fibonacci"
   ]
  },
  {
   "cell_type": "markdown",
   "metadata": {},
   "source": [
    "#### Recursive Implementation of  Fibonacci\n",
    "```python\n",
    "def fib(n):\n",
    "    if n == 0 | n == 1:\n",
    "        return 1\n",
    "    else:\n",
    "        return fib(n - 1) + fib(n - 2)\n",
    "```"
   ]
  },
  {
   "cell_type": "code",
   "execution_count": 14,
   "metadata": {},
   "outputs": [
    {
     "name": "stdout",
     "output_type": "stream",
     "text": [
      "fib(0) = 1\n",
      "fib(1) = 1\n",
      "fib(2) = 2\n",
      "fib(3) = 3\n",
      "fib(4) = 5\n",
      "fib(5) = 8\n",
      "fib(6) = 13\n",
      "fib(7) = 21\n",
      "fib(8) = 34\n",
      "fib(9) = 55\n",
      "fib(10) = 89\n",
      "fib(11) = 144\n",
      "fib(12) = 233\n",
      "fib(13) = 377\n",
      "fib(14) = 610\n",
      "fib(15) = 987\n",
      "fib(16) = 1597\n",
      "fib(17) = 2584\n",
      "fib(18) = 4181\n",
      "fib(19) = 6765\n",
      "fib(20) = 10946\n",
      "fib(21) = 17711\n",
      "fib(22) = 28657\n",
      "fib(23) = 46368\n",
      "fib(24) = 75025\n",
      "fib(25) = 121393\n",
      "fib(26) = 196418\n",
      "fib(27) = 317811\n",
      "fib(28) = 514229\n",
      "fib(29) = 832040\n",
      "fib(30) = 1346269\n",
      "fib(31) = 2178309\n",
      "fib(32) = 3524578\n",
      "fib(33) = 5702887\n",
      "fib(34) = 9227465\n",
      "CPU times: user 3.75 s, sys: 0 ns, total: 3.75 s\n",
      "Wall time: 3.75 s\n"
     ]
    }
   ],
   "source": [
    "%%time\n",
    "for i in range(35):\n",
    "   print('fib(' + str(i) + ') =', fib(i))"
   ]
  },
  {
   "cell_type": "markdown",
   "metadata": {},
   "source": [
    "####  Clearly a bad Idea to Repeat Work"
   ]
  },
  {
   "cell_type": "markdown",
   "metadata": {},
   "source": [
    "- Trade a time for space\n",
    "- Create a table to record what we\\`ve done\n",
    "    - Before computing `fib(x)`, check if value of `fib(x)` already stored in the table\n",
    "    - If so, look it up\n",
    "    - If not, compute it and then add it to table\n",
    "- Called ***memoization***"
   ]
  },
  {
   "cell_type": "markdown",
   "metadata": {},
   "source": [
    "#### Using a Memo to Compute Fibonacci\n",
    "```python\n",
    "def fastFib(n, memo = {}):\n",
    "    \"\"\"\n",
    "    Assumes n is an int >= 0, memo used only by recursive calls\n",
    "    Returns Fibonacci of n\n",
    "    \"\"\"\n",
    "    if n == 0 | n == 1:\n",
    "        return 1\n",
    "    try:\n",
    "        return memo[n]\n",
    "    except KeyError:\n",
    "        result = fastFib(n-1, memo) + fastFib(n-2, memo)\n",
    "        memo[n] = result\n",
    "        return result\n",
    "```"
   ]
  },
  {
   "cell_type": "code",
   "execution_count": 15,
   "metadata": {},
   "outputs": [
    {
     "name": "stdout",
     "output_type": "stream",
     "text": [
      "fib(0) = 1\n",
      "fib(1) = 1\n",
      "fib(2) = 2\n",
      "fib(3) = 3\n",
      "fib(4) = 5\n",
      "fib(5) = 8\n",
      "fib(6) = 13\n",
      "fib(7) = 21\n",
      "fib(8) = 34\n",
      "fib(9) = 55\n",
      "fib(10) = 89\n",
      "fib(11) = 144\n",
      "fib(12) = 233\n",
      "fib(13) = 377\n",
      "fib(14) = 610\n",
      "fib(15) = 987\n",
      "fib(16) = 1597\n",
      "fib(17) = 2584\n",
      "fib(18) = 4181\n",
      "fib(19) = 6765\n",
      "fib(20) = 10946\n",
      "fib(21) = 17711\n",
      "fib(22) = 28657\n",
      "fib(23) = 46368\n",
      "fib(24) = 75025\n",
      "fib(25) = 121393\n",
      "fib(26) = 196418\n",
      "fib(27) = 317811\n",
      "fib(28) = 514229\n",
      "fib(29) = 832040\n",
      "fib(30) = 1346269\n",
      "fib(31) = 2178309\n",
      "fib(32) = 3524578\n",
      "fib(33) = 5702887\n",
      "fib(34) = 9227465\n",
      "CPU times: user 2.61 ms, sys: 0 ns, total: 2.61 ms\n",
      "Wall time: 1.58 ms\n"
     ]
    }
   ],
   "source": [
    "%%time\n",
    "for i in range(35):\n",
    "    print('fib(' + str(i) + ') =', fastFib(i))"
   ]
  },
  {
   "cell_type": "code",
   "execution_count": 16,
   "metadata": {},
   "outputs": [
    {
     "name": "stdout",
     "output_type": "stream",
     "text": [
      "fib(0) = 1\n",
      "fib(1) = 1\n",
      "fib(2) = 2\n",
      "fib(3) = 3\n",
      "fib(4) = 5\n",
      "fib(5) = 8\n",
      "fib(6) = 13\n",
      "fib(7) = 21\n",
      "fib(8) = 34\n",
      "fib(9) = 55\n",
      "fib(10) = 89\n",
      "fib(11) = 144\n",
      "fib(12) = 233\n",
      "fib(13) = 377\n",
      "fib(14) = 610\n",
      "fib(15) = 987\n",
      "fib(16) = 1597\n",
      "fib(17) = 2584\n",
      "fib(18) = 4181\n",
      "fib(19) = 6765\n",
      "fib(20) = 10946\n",
      "fib(21) = 17711\n",
      "fib(22) = 28657\n",
      "fib(23) = 46368\n",
      "fib(24) = 75025\n",
      "fib(25) = 121393\n",
      "fib(26) = 196418\n",
      "fib(27) = 317811\n",
      "fib(28) = 514229\n",
      "fib(29) = 832040\n",
      "fib(30) = 1346269\n",
      "fib(31) = 2178309\n",
      "fib(32) = 3524578\n",
      "fib(33) = 5702887\n",
      "fib(34) = 9227465\n",
      "fib(35) = 14930352\n",
      "fib(36) = 24157817\n",
      "fib(37) = 39088169\n",
      "fib(38) = 63245986\n",
      "fib(39) = 102334155\n",
      "fib(40) = 165580141\n",
      "fib(41) = 267914296\n",
      "fib(42) = 433494437\n",
      "fib(43) = 701408733\n",
      "fib(44) = 1134903170\n",
      "fib(45) = 1836311903\n",
      "fib(46) = 2971215073\n",
      "fib(47) = 4807526976\n",
      "fib(48) = 7778742049\n",
      "fib(49) = 12586269025\n",
      "fib(50) = 20365011074\n",
      "fib(51) = 32951280099\n",
      "fib(52) = 53316291173\n",
      "fib(53) = 86267571272\n",
      "fib(54) = 139583862445\n",
      "fib(55) = 225851433717\n",
      "fib(56) = 365435296162\n",
      "fib(57) = 591286729879\n",
      "fib(58) = 956722026041\n",
      "fib(59) = 1548008755920\n",
      "fib(60) = 2504730781961\n",
      "fib(61) = 4052739537881\n",
      "fib(62) = 6557470319842\n",
      "fib(63) = 10610209857723\n",
      "fib(64) = 17167680177565\n",
      "fib(65) = 27777890035288\n",
      "fib(66) = 44945570212853\n",
      "fib(67) = 72723460248141\n",
      "fib(68) = 117669030460994\n",
      "fib(69) = 190392490709135\n",
      "fib(70) = 308061521170129\n",
      "fib(71) = 498454011879264\n",
      "fib(72) = 806515533049393\n",
      "fib(73) = 1304969544928657\n",
      "fib(74) = 2111485077978050\n",
      "fib(75) = 3416454622906707\n",
      "fib(76) = 5527939700884757\n",
      "fib(77) = 8944394323791464\n",
      "fib(78) = 14472334024676221\n",
      "fib(79) = 23416728348467685\n",
      "CPU times: user 6.63 ms, sys: 7.64 ms, total: 14.3 ms\n",
      "Wall time: 9.12 ms\n"
     ]
    }
   ],
   "source": [
    "%%time\n",
    "for i in range(80):\n",
    "    print('fib(' + str(i) + ') =', fastFib(i))"
   ]
  },
  {
   "cell_type": "markdown",
   "metadata": {},
   "source": [
    "#### When does it work?\n",
    " - Optimal substructure : a globally optimal solution can be found by combining optimal solutions to local subproblems\n",
    "     - For x > 1, `fib(x) = fib(x - 1) + fib(x - 2)`\n",
    " - Overlapping subproblems : finding an optimal solution involves solving the same problem multiple times\n",
    "     - Compute `fib(x)` many times"
   ]
  }
 ],
 "metadata": {
  "kernelspec": {
   "display_name": "Python 3",
   "language": "python",
   "name": "python3"
  },
  "language_info": {
   "codemirror_mode": {
    "name": "ipython",
    "version": 3
   },
   "file_extension": ".py",
   "mimetype": "text/x-python",
   "name": "python",
   "nbconvert_exporter": "python",
   "pygments_lexer": "ipython3",
   "version": "3.7.4"
  }
 },
 "nbformat": 4,
 "nbformat_minor": 2
}
