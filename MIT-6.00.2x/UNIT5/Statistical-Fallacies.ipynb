{
 "cells": [
  {
   "cell_type": "markdown",
   "metadata": {},
   "source": [
    "# Statistical Fallacies\n",
    "> A Summary of lecture \"Introduction to Computational Thinking and Data Science\", via MITx:6.00.2x (edX)\n",
    "\n",
    "- toc: true \n",
    "- badges: true\n",
    "- comments: true\n",
    "- author: Chanseok Kang\n",
    "- categories: [Python, edX, Statistics]\n",
    "- image: "
   ]
  },
  {
   "cell_type": "markdown",
   "metadata": {},
   "source": [
    "## Lies, Damned Lies and statistics\n",
    "- Humans and Statistics\n",
    "> Note: \"If you can`t prove what you want to prove, demonstrate something else and pretend they are the same thing. In the daze that follows the collision of statistics with the human mind, hardly anyone will notice the difference.\" - Darrel Huff\n",
    "    - **Moral: Statistics about the data is not the same as the data**\n",
    "    - **Moral: Use visualization tools to look at the data itself**\n",
    "    - **Moral: Look carefully at the axes labels and scales**\n",
    "    - **Moral: Ask whether the things being compared are actually comparable**"
   ]
  },
  {
   "cell_type": "markdown",
   "metadata": {},
   "source": [
    "## Texas Sharpshooter\n",
    "- Sampling\n",
    "    - All statistical techniques are based upon the assumption that by sampling a subset of a population we can infer things about the population as a whole\n",
    "    - As we have seen, if random sampling is used, one can make meaningful mathematical statements about the expected relation of the sample to the entire population\n",
    "    - Easy to get random samples in simulations\n",
    "    - Not so easy in the field, where some examples are more convenient to acquire than others\n",
    "- Non-repesentative Sampling\n",
    "    - \"Convenience sampling\" not usually random, e.g.,\n",
    "        - Survivor bias, e.g. course evaluations at end of course or grading final exam in 6.00.2x on a curve\n",
    "        - Non-response bias, e.g., opinion polls conducted by mail or online\n",
    "    - When samples not random and independent, we can still do things like computer means and standard deviations, but **we shouldn't draw conclusions from them** using things like the empirical rule and central limit theorem.\n",
    "    - **Moral: Understand how data was collected, and whether assumptions used in the analysis are satisfied. If not, be wary.**\n",
    "- A Comforting Statistics?\n",
    "    - **Moral: Context matters. A number means little without context.**\n",
    "- Relative to What?\n",
    "    - **Moral: Beware of percentages when you don't know the baseline**"
   ]
  },
  {
   "cell_type": "markdown",
   "metadata": {},
   "source": [
    "## Correlation and Causation\n",
    "- Cum Hoc Ergo Propter Hoc\n",
    "    - With this, therefore because of this\n",
    "    - Humans \"wired\" to find patterns in information and like to think causally\n",
    "- Establishing Causation\n",
    "    - Attempt to control for all variables other than the variables of interest\n",
    "        - Rarely possible\n",
    "    - Randomized control studies the gold standard\n",
    "        - Start with a population\n",
    "        - **Randomly** assign members to either\n",
    "            - Control group\n",
    "            - Treatment group\n",
    "        - Deal with two groups identically except with respect to the one thing being evaluated\n",
    "        - Very hard to do"
   ]
  }
 ],
 "metadata": {
  "kernelspec": {
   "display_name": "Python 3",
   "language": "python",
   "name": "python3"
  },
  "language_info": {
   "codemirror_mode": {
    "name": "ipython",
    "version": 3
   },
   "file_extension": ".py",
   "mimetype": "text/x-python",
   "name": "python",
   "nbconvert_exporter": "python",
   "pygments_lexer": "ipython3",
   "version": "3.7.6"
  }
 },
 "nbformat": 4,
 "nbformat_minor": 4
}
