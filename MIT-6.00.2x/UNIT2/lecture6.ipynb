{
 "cells": [
  {
   "cell_type": "markdown",
   "metadata": {},
   "source": [
    "# Random Walks"
   ]
  },
  {
   "cell_type": "markdown",
   "metadata": {},
   "source": [
    "## Location, Field, and Drunk"
   ]
  },
  {
   "cell_type": "markdown",
   "metadata": {},
   "source": [
    "### How Far will a Drunk Get?"
   ]
  },
  {
   "cell_type": "markdown",
   "metadata": {},
   "source": [
    "- Simulated, by hand, a walk in last lecture\n",
    "- Process too labor intensive to be practical for more than a few steps\n",
    "- But we can write a program to simulate lots of steps"
   ]
  },
  {
   "cell_type": "markdown",
   "metadata": {},
   "source": [
    "### Structure of Simulation\n",
    "- Simulate one walk of k steps\n",
    "- Simulate n such walks\n",
    "- Report average distance from origin"
   ]
  },
  {
   "cell_type": "markdown",
   "metadata": {},
   "source": [
    "### Class Location"
   ]
  },
  {
   "cell_type": "markdown",
   "metadata": {},
   "source": [
    "```python\n",
    "class Location(object):\n",
    "    def __init__(self, x, y):\n",
    "        \"\"\"x and y are floats\"\"\"\n",
    "        self.x = x\n",
    "        self.y = y\n",
    "        \n",
    "    def move(self, deltaX, deltaY):\n",
    "        \"\"\"deltaX and deltaY are floats\"\"\"\n",
    "        return Location(self.x + deltaX, self.y + deltaY)\n",
    "    \n",
    "    def getX(self):\n",
    "        return self.x\n",
    "    \n",
    "    def getY(self):\n",
    "        return self.y\n",
    "    \n",
    "    def distFrom(self, other):\n",
    "        ox = other.x\n",
    "        oy = other.y\n",
    "        xDist = self.x - ox\n",
    "        yDist = self.y - oy\n",
    "        return (xDist ** 2 + yDist ** 2) ** 0.5\n",
    "    \n",
    "    def __str__(self):\n",
    "        return '<' + str(self.x) + ', ' +str(self.y) + '>'\n",
    "```"
   ]
  },
  {
   "cell_type": "markdown",
   "metadata": {},
   "source": [
    "### Class Field"
   ]
  },
  {
   "cell_type": "markdown",
   "metadata": {},
   "source": [
    "```python\n",
    "class Field(object):\n",
    "    def __init__(self):\n",
    "        self.drunks = {}\n",
    "        \n",
    "    def addDrunk(self, drunk, loc):\n",
    "        if drunk in self.drunks:\n",
    "            raise ValueError('Duplicate drunk')\n",
    "        else:\n",
    "            self.drunks[drunk] = loc\n",
    "            \n",
    "    def getLoc(self, drunk):\n",
    "        if drunk not in self.drunks:\n",
    "            raise ValueError('Drunk not in field')\n",
    "        return self.drunks[drunk]\n",
    "\n",
    "    def moveDrunk(self, drunk):\n",
    "        if drunk not in self.drunks:\n",
    "            raise ValueError('Drunk not in field')\n",
    "        xDist, yDist = drunk.takeStep()\n",
    "        currentLocation = self.drunks[drunk]\n",
    "        # use move method of Location to get new location\n",
    "        self.drunks[drunk] = currentLocation.move(xDist, yDist)\n",
    "```"
   ]
  },
  {
   "cell_type": "markdown",
   "metadata": {},
   "source": [
    "### Notable Aspects of Class Field\n",
    "- A mapping of drunks to locations\n",
    "- Unbounded size\n",
    "- Allows multiple drunks\n",
    "    - With no constraints about how they relate to each other"
   ]
  },
  {
   "cell_type": "markdown",
   "metadata": {},
   "source": [
    "### Class Drunk"
   ]
  },
  {
   "cell_type": "markdown",
   "metadata": {},
   "source": [
    "```python\n",
    "class Drunk(object):\n",
    "    def __init__(self, name):\n",
    "        self.name = name\n",
    "    \n",
    "    def __str__(self):\n",
    "        return 'This drunk is named ' + self.name\n",
    "```"
   ]
  },
  {
   "cell_type": "markdown",
   "metadata": {},
   "source": [
    "### Two Subclasses of Drunk\n",
    "- The \"usual\" drunk, who wanders around at random\n",
    "- The \"I hate winter\" drunk, who tries to move southward"
   ]
  },
  {
   "cell_type": "markdown",
   "metadata": {},
   "source": [
    "```python\n",
    "import random\n",
    "\n",
    "class UsualDrunk(Drunk):\n",
    "    def takeStep(self):\n",
    "        stepChoices = [(0.0, 1.0), (0.0, -1.0), (1.0, 0.0), (-1.0, 0.0)]\n",
    "        return random.choice(stepChoices)\n",
    "    \n",
    "class ColdDrunk(Drunk):\n",
    "    def takeStep(self):\n",
    "        stepChoices = [(0.0, 0.9), (0.0, -1.1), (1.0, 0.0), (-1.0, 0.0)]\n",
    "        return random.choice(stepChoices)\n",
    "```"
   ]
  }
 ],
 "metadata": {
  "kernelspec": {
   "display_name": "Python 3",
   "language": "python",
   "name": "python3"
  },
  "language_info": {
   "codemirror_mode": {
    "name": "ipython",
    "version": 3
   },
   "file_extension": ".py",
   "mimetype": "text/x-python",
   "name": "python",
   "nbconvert_exporter": "python",
   "pygments_lexer": "ipython3",
   "version": "3.7.6"
  }
 },
 "nbformat": 4,
 "nbformat_minor": 4
}
