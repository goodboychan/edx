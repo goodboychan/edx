{
 "cells": [
  {
   "cell_type": "markdown",
   "metadata": {},
   "source": [
    "# Random Walks"
   ]
  },
  {
   "cell_type": "markdown",
   "metadata": {},
   "source": [
    "## Location, Field, and Drunk"
   ]
  },
  {
   "cell_type": "markdown",
   "metadata": {},
   "source": [
    "### How Far will a Drunk Get?"
   ]
  },
  {
   "cell_type": "markdown",
   "metadata": {},
   "source": [
    "- Simulated, by hand, a walk in last lecture\n",
    "- Process too labor intensive to be practical for more than a few steps\n",
    "- But we can write a program to simulate lots of steps"
   ]
  },
  {
   "cell_type": "markdown",
   "metadata": {},
   "source": [
    "### Structure of Simulation\n",
    "- Simulate one walk of k steps\n",
    "- Simulate n such walks\n",
    "- Report average distance from origin"
   ]
  },
  {
   "cell_type": "markdown",
   "metadata": {},
   "source": [
    "### Class Location"
   ]
  },
  {
   "cell_type": "markdown",
   "metadata": {},
   "source": [
    "```python\n",
    "class Location(object):\n",
    "    def __init__(self, x, y):\n",
    "        \"\"\"x and y are floats\"\"\"\n",
    "        self.x = x\n",
    "        self.y = y\n",
    "        \n",
    "    def move(self, deltaX, deltaY):\n",
    "        \"\"\"deltaX and deltaY are floats\"\"\"\n",
    "        return Location(self.x + deltaX, self.y + deltaY)\n",
    "    \n",
    "    def getX(self):\n",
    "        return self.x\n",
    "    \n",
    "    def getY(self):\n",
    "        return self.y\n",
    "    \n",
    "    def distFrom(self, other):\n",
    "        ox = other.x\n",
    "        oy = other.y\n",
    "        xDist = self.x - ox\n",
    "        yDist = self.y - oy\n",
    "        return (xDist ** 2 + yDist ** 2) ** 0.5\n",
    "    \n",
    "    def __str__(self):\n",
    "        return '<' + str(self.x) + ', ' +str(self.y) + '>'\n",
    "```"
   ]
  },
  {
   "cell_type": "markdown",
   "metadata": {},
   "source": [
    "### Class Field"
   ]
  },
  {
   "cell_type": "markdown",
   "metadata": {},
   "source": [
    "```python\n",
    "class Field(object):\n",
    "    def __init__(self):\n",
    "        self.drunks = {}\n",
    "        \n",
    "    def addDrunk(self, drunk, loc):\n",
    "        if drunk in self.drunks:\n",
    "            raise ValueError('Duplicate drunk')\n",
    "        else:\n",
    "            self.drunks[drunk] = loc\n",
    "            \n",
    "    def getLoc(self, drunk):\n",
    "        if drunk not in self.drunks:\n",
    "            raise ValueError('Drunk not in field')\n",
    "        return self.drunks[drunk]\n",
    "\n",
    "    def moveDrunk(self, drunk):\n",
    "        if drunk not in self.drunks:\n",
    "            raise ValueError('Drunk not in field')\n",
    "        xDist, yDist = drunk.takeStep()\n",
    "        currentLocation = self.drunks[drunk]\n",
    "        # use move method of Location to get new location\n",
    "        self.drunks[drunk] = currentLocation.move(xDist, yDist)\n",
    "```"
   ]
  },
  {
   "cell_type": "markdown",
   "metadata": {},
   "source": [
    "### Notable Aspects of Class Field\n",
    "- A mapping of drunks to locations\n",
    "- Unbounded size\n",
    "- Allows multiple drunks\n",
    "    - With no constraints about how they relate to each other"
   ]
  },
  {
   "cell_type": "markdown",
   "metadata": {},
   "source": [
    "### Class Drunk"
   ]
  },
  {
   "cell_type": "markdown",
   "metadata": {},
   "source": [
    "```python\n",
    "class Drunk(object):\n",
    "    def __init__(self, name):\n",
    "        self.name = name\n",
    "    \n",
    "    def __str__(self):\n",
    "        return 'This drunk is named ' + self.name\n",
    "```"
   ]
  },
  {
   "cell_type": "markdown",
   "metadata": {},
   "source": [
    "### Two Subclasses of Drunk\n",
    "- The \"usual\" drunk, who wanders around at random\n",
    "- The \"I hate winter\" drunk, who tries to move southward"
   ]
  },
  {
   "cell_type": "markdown",
   "metadata": {},
   "source": [
    "```python\n",
    "import random\n",
    "\n",
    "class UsualDrunk(Drunk):\n",
    "    def takeStep(self):\n",
    "        stepChoices = [(0.0, 1.0), (0.0, -1.0), (1.0, 0.0), (-1.0, 0.0)]\n",
    "        return random.choice(stepChoices)\n",
    "    \n",
    "class ColdDrunk(Drunk):\n",
    "    def takeStep(self):\n",
    "        stepChoices = [(0.0, 0.9), (0.0, -1.1), (1.0, 0.0), (-1.0, 0.0)]\n",
    "        return random.choice(stepChoices)\n",
    "```"
   ]
  },
  {
   "cell_type": "markdown",
   "metadata": {},
   "source": [
    "## Simulating a Walk"
   ]
  },
  {
   "cell_type": "markdown",
   "metadata": {},
   "source": [
    "### Simulating a Single Walk\n",
    "```python\n",
    "def walk(f, d, numSteps):\n",
    "    \"\"\"\n",
    "    Assumes: f a Field, d a Drunk in f, and numSteps an int >= 0.\n",
    "    Moves d numSteps times; returns the distance between the final location and\n",
    "    the location at the start of the walk\n",
    "    \"\"\"\n",
    "    start = f.getLoc(d)\n",
    "    for s in range(numSteps):\n",
    "        f.moveDrunk(d)\n",
    "    return start.distFrom(f.getLoc(d))\n",
    "```"
   ]
  },
  {
   "cell_type": "markdown",
   "metadata": {},
   "source": [
    "### Simulating Multiple Walks\n",
    "```python\n",
    "def simWalks(numSteps, numTrials, dClass):\n",
    "    \"\"\"\n",
    "    Assumes numSteps an int >= 0, numtrials an int > 0,\n",
    "    dClass a subclass of Drunk\n",
    "    Simulates numTrials walks of numSteps steps each.\n",
    "    Returns a list of the final distances for each trial\n",
    "    \"\"\"\n",
    "    Homer = dClass()\n",
    "    origin = Location(0, 0)\n",
    "    distances = []\n",
    "    for t in range(numTrials):\n",
    "        f = Field()\n",
    "        f.addDrunk(Homer, origin)\n",
    "        distances.append(round(walk(f, Homer, numSteps), 1))\n",
    "    return distances\n",
    "```"
   ]
  },
  {
   "cell_type": "markdown",
   "metadata": {},
   "source": [
    "```python\n",
    "def drunkTest(walkLengths, numTrials, dClass):\n",
    "    \"\"\"\n",
    "    Assumes walkLengths a sequence of ints >= 0, numTrials an int > 0,\n",
    "    dClass a subclass of Drunk\n",
    "    For each number of steps in walkLengths, runs simWalks with numTrials walks and\n",
    "    prints results\n",
    "    \"\"\"\n",
    "    for numSteps in walkLengths:\n",
    "        distances = simWalks(numSteps, numtrials, dClass)\n",
    "        print(dClass.__name__, 'random walk of', numSteps, 'steps')\n",
    "        print(' Mean = ', round(sum(distances) / len(distances), 4))\n",
    "        print(' Max = ', max(distances), ' Min = ', min(distances))\n",
    "```"
   ]
  },
  {
   "cell_type": "code",
   "execution_count": 1,
   "metadata": {},
   "outputs": [],
   "source": [
    "from lect6_segment2 import *"
   ]
  },
  {
   "cell_type": "code",
   "execution_count": 4,
   "metadata": {},
   "outputs": [
    {
     "name": "stdout",
     "output_type": "stream",
     "text": [
      "UsualDrunk random walk of 10 steps\n",
      " Mean = 2.863\n",
      " Max = 7.2 Min = 0.0\n",
      "UsualDrunk random walk of 100 steps\n",
      " Mean = 8.296\n",
      " Max = 21.6 Min = 1.4\n",
      "UsualDrunk random walk of 1000 steps\n",
      " Mean = 27.297\n",
      " Max = 66.3 Min = 4.2\n",
      "UsualDrunk random walk of 10000 steps\n",
      " Mean = 89.241\n",
      " Max = 226.5 Min = 10.0\n"
     ]
    }
   ],
   "source": [
    "random.seed(0)\n",
    "drunkTest((10, 100, 1000, 10000), 100, UsualDrunk)"
   ]
  },
  {
   "cell_type": "code",
   "execution_count": 5,
   "metadata": {},
   "outputs": [
    {
     "name": "stdout",
     "output_type": "stream",
     "text": [
      "UsualDrunk random walk of 0 steps\n",
      " Mean = 0.0\n",
      " Max = 0.0 Min = 0.0\n",
      "UsualDrunk random walk of 1 steps\n",
      " Mean = 1.0\n",
      " Max = 1.0 Min = 1.0\n",
      "UsualDrunk random walk of 2 steps\n",
      " Mean = 1.28\n",
      " Max = 2.0 Min = 0.0\n"
     ]
    }
   ],
   "source": [
    "drunkTest((0, 1, 2), 100, UsualDrunk)"
   ]
  },
  {
   "cell_type": "markdown",
   "metadata": {},
   "source": [
    "### And the Heat-seeking Drunk\n",
    "```python\n",
    "class ColdDrunk(Drunk):\n",
    "    def takeStep(self):\n",
    "        stepChoices = [(0.0, 0.9), (0.0, -1.1), (1.0, 0.0), (-1.0, 0.0)]\n",
    "        return random.choice(stepChoices)\n",
    "    \n",
    "def simAll(drunkKinds, walkLengths, numTrials):\n",
    "    for dClass in drunkKinds:\n",
    "        drunkTest(walkLengths, numTrials, dClass)\n",
    "```"
   ]
  },
  {
   "cell_type": "code",
   "execution_count": 6,
   "metadata": {},
   "outputs": [
    {
     "name": "stdout",
     "output_type": "stream",
     "text": [
      "UsualDrunk random walk of 1 steps\n",
      " Mean = 1.0\n",
      " Max = 1.0 Min = 1.0\n",
      "UsualDrunk random walk of 10 steps\n",
      " Mean = 2.614\n",
      " Max = 6.3 Min = 0.0\n",
      "UsualDrunk random walk of 100 steps\n",
      " Mean = 8.711\n",
      " Max = 21.2 Min = 1.4\n",
      "UsualDrunk random walk of 1000 steps\n",
      " Mean = 28.836\n",
      " Max = 69.1 Min = 4.5\n",
      "UsualDrunk random walk of 10000 steps\n",
      " Mean = 90.304\n",
      " Max = 192.9 Min = 13.3\n",
      "ColdDrunk random walk of 1 steps\n",
      " Mean = 0.992\n",
      " Max = 1.1 Min = 0.9\n",
      "ColdDrunk random walk of 10 steps\n",
      " Mean = 2.61\n",
      " Max = 7.0 Min = 0.4\n",
      "ColdDrunk random walk of 100 steps\n",
      " Mean = 10.316\n",
      " Max = 27.2 Min = 1.0\n",
      "ColdDrunk random walk of 1000 steps\n",
      " Mean = 51.106\n",
      " Max = 96.3 Min = 7.4\n",
      "ColdDrunk random walk of 10000 steps\n",
      " Mean = 510.54\n",
      " Max = 650.8 Min = 367.6\n"
     ]
    }
   ],
   "source": [
    "simAll((UsualDrunk, ColdDrunk), (1, 10, 100, 1000, 10000), 100)"
   ]
  },
  {
   "cell_type": "code",
   "execution_count": null,
   "metadata": {},
   "outputs": [],
   "source": []
  }
 ],
 "metadata": {
  "kernelspec": {
   "display_name": "Python 3",
   "language": "python",
   "name": "python3"
  },
  "language_info": {
   "codemirror_mode": {
    "name": "ipython",
    "version": 3
   },
   "file_extension": ".py",
   "mimetype": "text/x-python",
   "name": "python",
   "nbconvert_exporter": "python",
   "pygments_lexer": "ipython3",
   "version": "3.7.6"
  }
 },
 "nbformat": 4,
 "nbformat_minor": 4
}
