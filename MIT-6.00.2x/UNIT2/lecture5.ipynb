{
 "cells": [
  {
   "cell_type": "markdown",
   "metadata": {},
   "source": [
    "### Probability"
   ]
  },
  {
   "cell_type": "code",
   "execution_count": 1,
   "metadata": {},
   "outputs": [],
   "source": [
    "from lecture5_segment2 import *"
   ]
  },
  {
   "cell_type": "markdown",
   "metadata": {},
   "source": [
    "### Implementing a Random Process"
   ]
  },
  {
   "cell_type": "markdown",
   "metadata": {},
   "source": [
    "```python\n",
    "import random\n",
    "\n",
    "def rollDie():\n",
    "    \"\"\"returns a random in t between 1 and 6\"\"\"\n",
    "    return random.choice([1,2,3,4,5,6])\n",
    "\n",
    "def testRoll(n=10):\n",
    "    result = ''\n",
    "    for i in range(n):\n",
    "        result = result + str(rollDie())\n",
    "    print(result)\n",
    "```"
   ]
  },
  {
   "cell_type": "code",
   "execution_count": 2,
   "metadata": {},
   "outputs": [
    {
     "name": "stdout",
     "output_type": "stream",
     "text": [
      "44135\n"
     ]
    }
   ],
   "source": [
    "testRoll(5)"
   ]
  },
  {
   "cell_type": "code",
   "execution_count": 3,
   "metadata": {},
   "outputs": [
    {
     "name": "stdout",
     "output_type": "stream",
     "text": [
      "44343\n"
     ]
    }
   ],
   "source": [
    "testRoll(5)"
   ]
  },
  {
   "cell_type": "code",
   "execution_count": 4,
   "metadata": {},
   "outputs": [
    {
     "name": "stdout",
     "output_type": "stream",
     "text": [
      "52523\n"
     ]
    }
   ],
   "source": [
    "testRoll(5)"
   ]
  },
  {
   "cell_type": "markdown",
   "metadata": {},
   "source": [
    "### Probability Is About Counting"
   ]
  },
  {
   "cell_type": "markdown",
   "metadata": {},
   "source": [
    "- Count the number of possible events\n",
    "- Count the number of events that have the property of interest\n",
    "- Divide one by the other"
   ]
  },
  {
   "cell_type": "markdown",
   "metadata": {},
   "source": [
    "### Three Basic Facts About Probability"
   ]
  },
  {
   "cell_type": "markdown",
   "metadata": {},
   "source": [
    "- Probabilities are always in the range ***0 to 1***. 0 if impossible, and 1 if guaranteed.\n",
    "- If the probability of an event occurring is p, the probability of it not occurring must be ***1-p***\n",
    "- When events are independent of each other, the probability of all of the events occurring is equal to a <font color='red'>product</font> of the probabilities of each of the events occurring."
   ]
  },
  {
   "cell_type": "markdown",
   "metadata": {},
   "source": [
    "### Independence\n",
    "- Two events are independent if the outcome of one event has no influence on the outcome of the other"
   ]
  },
  {
   "cell_type": "markdown",
   "metadata": {},
   "source": [
    "### A simulation"
   ]
  },
  {
   "cell_type": "markdown",
   "metadata": {},
   "source": [
    "```python\n",
    "def runSim(goal, numTrials):\n",
    "    total = 0\n",
    "    for i in range(numTrials):\n",
    "        result = ''\n",
    "        for j in range(len(goal)):\n",
    "            result += str(rollDie())\n",
    "        if result == goal:\n",
    "            total += 1\n",
    "    print('Acutal probability = ', round(1/(6 ** len(goal)), 8))\n",
    "    estProbability = round(total/numTrials, 8)\n",
    "    print('Estimated Probability = ', round(estProbability, 8))\n",
    "    \n",
    "runSim('11111', 1000)\n",
    "```"
   ]
  },
  {
   "cell_type": "code",
   "execution_count": 5,
   "metadata": {},
   "outputs": [
    {
     "name": "stdout",
     "output_type": "stream",
     "text": [
      "Actual probability = 0.0001286\n",
      "Estimated Probability  = 0.0\n"
     ]
    }
   ],
   "source": [
    "runSim('11111', 1000)"
   ]
  },
  {
   "cell_type": "code",
   "execution_count": 6,
   "metadata": {},
   "outputs": [
    {
     "name": "stdout",
     "output_type": "stream",
     "text": [
      "Actual probability = 0.0001286\n",
      "Estimated Probability  = 0.0\n"
     ]
    }
   ],
   "source": [
    "runSim('11111', 1000)"
   ]
  },
  {
   "cell_type": "code",
   "execution_count": 7,
   "metadata": {},
   "outputs": [
    {
     "name": "stdout",
     "output_type": "stream",
     "text": [
      "Actual probability = 0.0001286\n",
      "Estimated Probability  = 0.000128\n"
     ]
    }
   ],
   "source": [
    "runSim('11111', 1000000)"
   ]
  },
  {
   "cell_type": "markdown",
   "metadata": {},
   "source": [
    "### Approximating Using the Simulation\n",
    "```python\n",
    "def fracBoxCars(numTests):\n",
    "    numBoxCars = 0\n",
    "    for i in range(numTests):\n",
    "        if rollDie() == 6 and rollDie() == 6:\n",
    "            numBoxCars += 1\n",
    "    return numBoxCars\n",
    "```"
   ]
  },
  {
   "cell_type": "code",
   "execution_count": 8,
   "metadata": {},
   "outputs": [
    {
     "name": "stdout",
     "output_type": "stream",
     "text": [
      "Frequency of double 6 =  2.926%\n"
     ]
    }
   ],
   "source": [
    "print('Frequency of double 6 = ', str(fracBoxCars(100000)*100) + '%')"
   ]
  },
  {
   "cell_type": "markdown",
   "metadata": {},
   "source": [
    "### Morals"
   ]
  },
  {
   "cell_type": "markdown",
   "metadata": {},
   "source": [
    "- Moral 1: It takes a lot of trials to get a good estimate of the frequency of occurrence of a rare event. We'll talk lots more in later lectures about how to know when we have enough trials.\n",
    "\n",
    "- Moral 2: One should not confuse the sample probability with the actual probability\n",
    "\n",
    "- Moral 3: There was really no need to do this by simulation, since there is a perfectly good closed form answer. We will see many examples where this is not ture.\n",
    "\n",
    "- But simulations are often useful, as we will see."
   ]
  }
 ],
 "metadata": {
  "kernelspec": {
   "display_name": "Python 3",
   "language": "python",
   "name": "python3"
  },
  "language_info": {
   "codemirror_mode": {
    "name": "ipython",
    "version": 3
   },
   "file_extension": ".py",
   "mimetype": "text/x-python",
   "name": "python",
   "nbconvert_exporter": "python",
   "pygments_lexer": "ipython3",
   "version": "3.7.6"
  }
 },
 "nbformat": 4,
 "nbformat_minor": 4
}
