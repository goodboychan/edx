{
 "cells": [
  {
   "cell_type": "markdown",
   "metadata": {},
   "source": [
    "Download the data set used in Qian's paper (qian.csv). The data contains the following variables:\n",
    "\n",
    "- admin: an id for each region in China. \n",
    "- birthyear: a variable that corresponds to year.\n",
    "- sex: the sex ratio  (malefemale)  that were born in that region in that year.\n",
    "- teasown: whether tea is produced in region j. \n",
    "\n",
    "Load the data in R and now answer the following questions:"
   ]
  },
  {
   "cell_type": "code",
   "execution_count": 1,
   "metadata": {},
   "outputs": [],
   "source": [
    "qian = read.csv(\"./dataset/qian.csv\")"
   ]
  },
  {
   "cell_type": "code",
   "execution_count": 2,
   "metadata": {},
   "outputs": [
    {
     "name": "stdout",
     "output_type": "stream",
     "text": [
      "'data.frame':\t51766 obs. of  4 variables:\n",
      " $ admin  : int  320102 320102 320102 320102 320102 320102 320102 320102 320102 320102 ...\n",
      " $ biryr  : int  1962 1962 1962 1964 1964 1964 1966 1966 1966 1967 ...\n",
      " $ sex    : num  0.5 0.5 0.5 0 0 0 1 1 1 1 ...\n",
      " $ teasown: int  0 0 0 0 0 0 0 0 0 0 ...\n"
     ]
    }
   ],
   "source": [
    "str(qian)"
   ]
  },
  {
   "cell_type": "code",
   "execution_count": 3,
   "metadata": {},
   "outputs": [
    {
     "data": {
      "text/plain": [
       "     admin            biryr           sex            teasown      \n",
       " Min.   :320102   Min.   :1962   Min.   :0.0000   Min.   :0.0000  \n",
       " 1st Qu.:342626   1st Qu.:1969   1st Qu.:0.4677   1st Qu.:0.0000  \n",
       " Median :420123   Median :1976   Median :0.5116   Median :0.0000  \n",
       " Mean   :423509   Mean   :1976   Mean   :0.5110   Mean   :0.1951  \n",
       " 3rd Qu.:510680   3rd Qu.:1983   3rd Qu.:0.5597   3rd Qu.:0.0000  \n",
       " Max.   :612732   Max.   :1990   Max.   :1.0000   Max.   :1.0000  "
      ]
     },
     "metadata": {},
     "output_type": "display_data"
    }
   ],
   "source": [
    "summary(qian)"
   ]
  },
  {
   "cell_type": "code",
   "execution_count": 4,
   "metadata": {},
   "outputs": [],
   "source": [
    "qian$post = ifelse(qian$biryr >= 1979, 1, 0)"
   ]
  },
  {
   "cell_type": "code",
   "execution_count": 5,
   "metadata": {},
   "outputs": [
    {
     "data": {
      "text/plain": [
       "     admin            biryr           sex            teasown      \n",
       " Min.   :320102   Min.   :1962   Min.   :0.0000   Min.   :0.0000  \n",
       " 1st Qu.:342626   1st Qu.:1969   1st Qu.:0.4677   1st Qu.:0.0000  \n",
       " Median :420123   Median :1976   Median :0.5116   Median :0.0000  \n",
       " Mean   :423509   Mean   :1976   Mean   :0.5110   Mean   :0.1951  \n",
       " 3rd Qu.:510680   3rd Qu.:1983   3rd Qu.:0.5597   3rd Qu.:0.0000  \n",
       " Max.   :612732   Max.   :1990   Max.   :1.0000   Max.   :1.0000  \n",
       "      post       \n",
       " Min.   :0.0000  \n",
       " 1st Qu.:0.0000  \n",
       " Median :0.0000  \n",
       " Mean   :0.4116  \n",
       " 3rd Qu.:1.0000  \n",
       " Max.   :1.0000  "
      ]
     },
     "metadata": {},
     "output_type": "display_data"
    }
   ],
   "source": [
    "summary(qian)"
   ]
  },
  {
   "cell_type": "code",
   "execution_count": 6,
   "metadata": {},
   "outputs": [],
   "source": [
    "qianReg = lm(sex ~ teasown + post + teasown * post, data=qian)"
   ]
  },
  {
   "cell_type": "code",
   "execution_count": 7,
   "metadata": {},
   "outputs": [
    {
     "data": {
      "text/plain": [
       "\n",
       "Call:\n",
       "lm(formula = sex ~ teasown + post + teasown * post, data = qian)\n",
       "\n",
       "Residuals:\n",
       "     Min       1Q   Median       3Q      Max \n",
       "-0.52251 -0.04304  0.00058  0.04809  0.49745 \n",
       "\n",
       "Coefficients:\n",
       "               Estimate Std. Error t value Pr(>|t|)    \n",
       "(Intercept)   0.5025541  0.0008432 596.015  < 2e-16 ***\n",
       "teasown       0.0049071  0.0019129   2.565  0.01031 *  \n",
       "post          0.0199586  0.0013152  15.176  < 2e-16 ***\n",
       "teasown:post -0.0086573  0.0029746  -2.910  0.00361 ** \n",
       "---\n",
       "Signif. codes:  0 ‘***’ 0.001 ‘**’ 0.01 ‘*’ 0.05 ‘.’ 0.1 ‘ ’ 1\n",
       "\n",
       "Residual standard error: 0.1321 on 51762 degrees of freedom\n",
       "Multiple R-squared:  0.00479,\tAdjusted R-squared:  0.004732 \n",
       "F-statistic: 83.04 on 3 and 51762 DF,  p-value: < 2.2e-16\n"
      ]
     },
     "metadata": {},
     "output_type": "display_data"
    }
   ],
   "source": [
    "summary(qianReg)"
   ]
  },
  {
   "cell_type": "code",
   "execution_count": null,
   "metadata": {},
   "outputs": [],
   "source": []
  }
 ],
 "metadata": {
  "kernelspec": {
   "display_name": "R",
   "language": "R",
   "name": "ir"
  },
  "language_info": {
   "codemirror_mode": "r",
   "file_extension": ".r",
   "mimetype": "text/x-r-source",
   "name": "R",
   "pygments_lexer": "r",
   "version": "3.6.2"
  }
 },
 "nbformat": 4,
 "nbformat_minor": 4
}
