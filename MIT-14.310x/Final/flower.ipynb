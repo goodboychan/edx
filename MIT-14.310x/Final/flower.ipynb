{
 "cells": [
  {
   "cell_type": "markdown",
   "metadata": {},
   "source": [
    "Download the data set used in Qian's paper (qian.csv). The data contains the following variables:\n",
    "\n",
    "- admin: an id for each region in China. \n",
    "- birthyear: a variable that corresponds to year.\n",
    "- sex: the sex ratio  (malefemale)  that were born in that region in that year.\n",
    "- teasown: whether tea is produced in region j. \n",
    "\n",
    "Load the data in R and now answer the following questions:"
   ]
  },
  {
   "cell_type": "code",
   "execution_count": 1,
   "metadata": {},
   "outputs": [],
   "source": [
    "qian = read.csv(\"./dataset/qian.csv\")"
   ]
  },
  {
   "cell_type": "code",
   "execution_count": 2,
   "metadata": {},
   "outputs": [
    {
     "name": "stdout",
     "output_type": "stream",
     "text": [
      "'data.frame':\t51766 obs. of  4 variables:\n",
      " $ admin  : int  320102 320102 320102 320102 320102 320102 320102 320102 320102 320102 ...\n",
      " $ biryr  : int  1962 1962 1962 1964 1964 1964 1966 1966 1966 1967 ...\n",
      " $ sex    : num  0.5 0.5 0.5 0 0 0 1 1 1 1 ...\n",
      " $ teasown: int  0 0 0 0 0 0 0 0 0 0 ...\n"
     ]
    }
   ],
   "source": [
    "str(qian)"
   ]
  },
  {
   "cell_type": "code",
   "execution_count": 3,
   "metadata": {},
   "outputs": [
    {
     "data": {
      "text/plain": [
       "     admin            biryr           sex            teasown      \n",
       " Min.   :320102   Min.   :1962   Min.   :0.0000   Min.   :0.0000  \n",
       " 1st Qu.:342626   1st Qu.:1969   1st Qu.:0.4677   1st Qu.:0.0000  \n",
       " Median :420123   Median :1976   Median :0.5116   Median :0.0000  \n",
       " Mean   :423509   Mean   :1976   Mean   :0.5110   Mean   :0.1951  \n",
       " 3rd Qu.:510680   3rd Qu.:1983   3rd Qu.:0.5597   3rd Qu.:0.0000  \n",
       " Max.   :612732   Max.   :1990   Max.   :1.0000   Max.   :1.0000  "
      ]
     },
     "metadata": {},
     "output_type": "display_data"
    }
   ],
   "source": [
    "summary(qian)"
   ]
  },
  {
   "cell_type": "code",
   "execution_count": null,
   "metadata": {},
   "outputs": [],
   "source": []
  }
 ],
 "metadata": {
  "kernelspec": {
   "display_name": "R",
   "language": "R",
   "name": "ir"
  },
  "language_info": {
   "codemirror_mode": "r",
   "file_extension": ".r",
   "mimetype": "text/x-r-source",
   "name": "R",
   "pygments_lexer": "r",
   "version": "3.6.3"
  }
 },
 "nbformat": 4,
 "nbformat_minor": 4
}
