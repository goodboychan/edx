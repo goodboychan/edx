{
 "cells": [
  {
   "cell_type": "markdown",
   "metadata": {},
   "source": [
    "For the following questions, you will need the data set: nlsw88.csv. The data has information on labor market outcomes of a representative sample of women in the US. It contains the following variables: the logarithm of wage (lwage), total years of schooling (yrs_school), total experience in the labor markets (ttl_experience), and a dummy variable that indicates whether the woman is black or not. Since we are going to work with this data throughout this homework, please load it into R using the command read.csv\n",
    "\n",
    "As a first step, we are interested in estimating the following linear model: \n",
    "\n",
    "$log(wage_i)=\\beta_0+\\beta_1yrs\\_school_i+ε_i $\n",
    "\n",
    "Estimate this equation by OLS using the command lm. Please go to the documentation in R to understand the syntax of the command. Based on your results, answer the following questions:"
   ]
  },
  {
   "cell_type": "code",
   "execution_count": 2,
   "metadata": {},
   "outputs": [
    {
     "name": "stdout",
     "output_type": "stream",
     "text": [
      "'data.frame':\t2246 obs. of  4 variables:\n",
      " $ lwage     : num  2.46 1.86 1.61 2.2 2.09 ...\n",
      " $ yrs_school: int  12 12 12 17 12 12 12 18 14 15 ...\n",
      " $ ttl_exp   : num  10.3 13.6 17.7 13.2 17.8 ...\n",
      " $ black     : int  1 1 1 0 0 0 0 0 0 0 ...\n"
     ]
    }
   ],
   "source": [
    "nlsw = read.csv('./dataset/nlsw88.csv')\n",
    "str(nlsw)"
   ]
  },
  {
   "cell_type": "code",
   "execution_count": 5,
   "metadata": {},
   "outputs": [
    {
     "data": {
      "text/plain": [
       "\n",
       "Call:\n",
       "lm(formula = lwage ~ yrs_school, data = nlsw)\n",
       "\n",
       "Residuals:\n",
       "     Min       1Q   Median       3Q      Max \n",
       "-2.29340 -0.32611 -0.00807  0.29471  2.20496 \n",
       "\n",
       "Coefficients:\n",
       "            Estimate Std. Error t value Pr(>|t|)    \n",
       "(Intercept) 0.652578   0.057771   11.30   <2e-16 ***\n",
       "yrs_school  0.092920   0.004333   21.45   <2e-16 ***\n",
       "---\n",
       "Signif. codes:  0 '***' 0.001 '**' 0.01 '*' 0.05 '.' 0.1 ' ' 1\n",
       "\n",
       "Residual standard error: 0.5236 on 2244 degrees of freedom\n",
       "Multiple R-squared:  0.1701,\tAdjusted R-squared:  0.1697 \n",
       "F-statistic: 459.9 on 1 and 2244 DF,  p-value: < 2.2e-16\n"
      ]
     },
     "metadata": {},
     "output_type": "display_data"
    }
   ],
   "source": [
    "wageRegs = lm(lwage ~ yrs_school, data=nlsw)\n",
    "summary(wageRegs)"
   ]
  },
  {
   "cell_type": "code",
   "execution_count": 6,
   "metadata": {},
   "outputs": [
    {
     "data": {
      "text/html": [
       "<style>\n",
       ".list-inline {list-style: none; margin:0; padding: 0}\n",
       ".list-inline>li {display: inline-block}\n",
       ".list-inline>li:not(:last-child)::after {content: \"\\00b7\"; padding: 0 .5ex}\n",
       "</style>\n",
       "<ol class=list-inline><li>'coefficients'</li><li>'residuals'</li><li>'effects'</li><li>'rank'</li><li>'fitted.values'</li><li>'assign'</li><li>'qr'</li><li>'df.residual'</li><li>'xlevels'</li><li>'call'</li><li>'terms'</li><li>'model'</li></ol>\n"
      ],
      "text/latex": [
       "\\begin{enumerate*}\n",
       "\\item 'coefficients'\n",
       "\\item 'residuals'\n",
       "\\item 'effects'\n",
       "\\item 'rank'\n",
       "\\item 'fitted.values'\n",
       "\\item 'assign'\n",
       "\\item 'qr'\n",
       "\\item 'df.residual'\n",
       "\\item 'xlevels'\n",
       "\\item 'call'\n",
       "\\item 'terms'\n",
       "\\item 'model'\n",
       "\\end{enumerate*}\n"
      ],
      "text/markdown": [
       "1. 'coefficients'\n",
       "2. 'residuals'\n",
       "3. 'effects'\n",
       "4. 'rank'\n",
       "5. 'fitted.values'\n",
       "6. 'assign'\n",
       "7. 'qr'\n",
       "8. 'df.residual'\n",
       "9. 'xlevels'\n",
       "10. 'call'\n",
       "11. 'terms'\n",
       "12. 'model'\n",
       "\n",
       "\n"
      ],
      "text/plain": [
       " [1] \"coefficients\"  \"residuals\"     \"effects\"       \"rank\"         \n",
       " [5] \"fitted.values\" \"assign\"        \"qr\"            \"df.residual\"  \n",
       " [9] \"xlevels\"       \"call\"          \"terms\"         \"model\"        "
      ]
     },
     "metadata": {},
     "output_type": "display_data"
    }
   ],
   "source": [
    "names(wageRegs)"
   ]
  },
  {
   "cell_type": "markdown",
   "metadata": {},
   "source": [
    "What is the  90%  confidence interval (CI) of  $\\hat{\\beta}_1$  according to this model?"
   ]
  },
  {
   "cell_type": "code",
   "execution_count": 7,
   "metadata": {},
   "outputs": [
    {
     "data": {
      "text/html": [
       "<table>\n",
       "<caption>A matrix: 2 × 2 of type dbl</caption>\n",
       "<thead>\n",
       "\t<tr><th></th><th scope=col>5 %</th><th scope=col>95 %</th></tr>\n",
       "</thead>\n",
       "<tbody>\n",
       "\t<tr><th scope=row>(Intercept)</th><td>0.55751337</td><td>0.7476421</td></tr>\n",
       "\t<tr><th scope=row>yrs_school</th><td>0.08579005</td><td>0.1000497</td></tr>\n",
       "</tbody>\n",
       "</table>\n"
      ],
      "text/latex": [
       "A matrix: 2 × 2 of type dbl\n",
       "\\begin{tabular}{r|ll}\n",
       "  & 5 \\% & 95 \\%\\\\\n",
       "\\hline\n",
       "\t(Intercept) & 0.55751337 & 0.7476421\\\\\n",
       "\tyrs\\_school & 0.08579005 & 0.1000497\\\\\n",
       "\\end{tabular}\n"
      ],
      "text/markdown": [
       "\n",
       "A matrix: 2 × 2 of type dbl\n",
       "\n",
       "| <!--/--> | 5 % | 95 % |\n",
       "|---|---|---|\n",
       "| (Intercept) | 0.55751337 | 0.7476421 |\n",
       "| yrs_school | 0.08579005 | 0.1000497 |\n",
       "\n"
      ],
      "text/plain": [
       "            5 %        95 %     \n",
       "(Intercept) 0.55751337 0.7476421\n",
       "yrs_school  0.08579005 0.1000497"
      ]
     },
     "metadata": {},
     "output_type": "display_data"
    }
   ],
   "source": [
    "confint(wageRegs, level = 0.9)"
   ]
  },
  {
   "cell_type": "code",
   "execution_count": 9,
   "metadata": {},
   "outputs": [
    {
     "data": {
      "text/html": [
       "0.60432674173763"
      ],
      "text/latex": [
       "0.60432674173763"
      ],
      "text/markdown": [
       "0.60432674173763"
      ],
      "text/plain": [
       "[1] 0.6043267"
      ]
     },
     "metadata": {},
     "output_type": "display_data"
    }
   ],
   "source": [
    "cov(nlsw$lwage, nlsw$yrs_school)"
   ]
  },
  {
   "cell_type": "code",
   "execution_count": 11,
   "metadata": {},
   "outputs": [
    {
     "data": {
      "text/html": [
       "2.94573393455622e-14"
      ],
      "text/latex": [
       "2.94573393455622e-14"
      ],
      "text/markdown": [
       "2.94573393455622e-14"
      ],
      "text/plain": [
       "[1] 2.945734e-14"
      ]
     },
     "metadata": {},
     "output_type": "display_data"
    }
   ],
   "source": [
    "sum(residuals(wageRegs))"
   ]
  },
  {
   "cell_type": "markdown",
   "metadata": {},
   "source": [
    "Multivariate Model"
   ]
  },
  {
   "cell_type": "code",
   "execution_count": 12,
   "metadata": {},
   "outputs": [],
   "source": [
    "other = nlsw$lwage[nlsw$black == 0]\n",
    "black = nlsw$lwage[nlsw$black == 1]"
   ]
  },
  {
   "cell_type": "code",
   "execution_count": 14,
   "metadata": {},
   "outputs": [
    {
     "data": {
      "text/plain": [
       "   Min. 1st Qu.  Median    Mean 3rd Qu.    Max. \n",
       "0.00494 1.51139 1.88153 1.91161 2.27855 3.69382 "
      ]
     },
     "metadata": {},
     "output_type": "display_data"
    }
   ],
   "source": [
    "summary(other)"
   ]
  },
  {
   "cell_type": "code",
   "execution_count": 15,
   "metadata": {},
   "outputs": [
    {
     "data": {
      "text/plain": [
       "   Min. 1st Qu.  Median    Mean 3rd Qu.    Max. \n",
       "  0.141   1.337   1.693   1.746   2.140   3.707 "
      ]
     },
     "metadata": {},
     "output_type": "display_data"
    }
   ],
   "source": [
    "summary(black)"
   ]
  },
  {
   "cell_type": "code",
   "execution_count": 17,
   "metadata": {},
   "outputs": [
    {
     "data": {
      "text/html": [
       "1.91161352110643"
      ],
      "text/latex": [
       "1.91161352110643"
      ],
      "text/markdown": [
       "1.91161352110643"
      ],
      "text/plain": [
       "[1] 1.911614"
      ]
     },
     "metadata": {},
     "output_type": "display_data"
    }
   ],
   "source": [
    "mean(other)"
   ]
  },
  {
   "cell_type": "code",
   "execution_count": 18,
   "metadata": {},
   "outputs": [
    {
     "data": {
      "text/html": [
       "-0.165535704296829"
      ],
      "text/latex": [
       "-0.165535704296829"
      ],
      "text/markdown": [
       "-0.165535704296829"
      ],
      "text/plain": [
       "[1] -0.1655357"
      ]
     },
     "metadata": {},
     "output_type": "display_data"
    }
   ],
   "source": [
    "mean(black) - mean(other)"
   ]
  },
  {
   "cell_type": "code",
   "execution_count": 19,
   "metadata": {},
   "outputs": [
    {
     "data": {
      "text/plain": [
       "\n",
       "Call:\n",
       "lm(formula = lwage ~ black, data = nlsw)\n",
       "\n",
       "Residuals:\n",
       "     Min       1Q   Median       3Q      Max \n",
       "-1.90667 -0.40290 -0.03418  0.37105  1.96129 \n",
       "\n",
       "Coefficients:\n",
       "            Estimate Std. Error t value Pr(>|t|)    \n",
       "(Intercept)  1.91161    0.01398 136.739  < 2e-16 ***\n",
       "black       -0.16554    0.02744  -6.033 1.88e-09 ***\n",
       "---\n",
       "Signif. codes:  0 '***' 0.001 '**' 0.01 '*' 0.05 '.' 0.1 ' ' 1\n",
       "\n",
       "Residual standard error: 0.5701 on 2244 degrees of freedom\n",
       "Multiple R-squared:  0.01596,\tAdjusted R-squared:  0.01552 \n",
       "F-statistic: 36.39 on 1 and 2244 DF,  p-value: 1.88e-09\n"
      ]
     },
     "metadata": {},
     "output_type": "display_data"
    }
   ],
   "source": [
    "dummymodel = lm(lwage ~ black, data=nlsw)\n",
    "summary(dummymodel)"
   ]
  },
  {
   "cell_type": "markdown",
   "metadata": {},
   "source": [
    "Multivariate Model"
   ]
  },
  {
   "cell_type": "code",
   "execution_count": 20,
   "metadata": {},
   "outputs": [
    {
     "data": {
      "text/plain": [
       "\n",
       "Call:\n",
       "lm(formula = lwage ~ yrs_school + ttl_exp, data = nlsw)\n",
       "\n",
       "Residuals:\n",
       "     Min       1Q   Median       3Q      Max \n",
       "-2.09807 -0.29945 -0.00571  0.25158  2.49949 \n",
       "\n",
       "Coefficients:\n",
       "            Estimate Std. Error t value Pr(>|t|)    \n",
       "(Intercept) 0.336944   0.057308    5.88 4.73e-09 ***\n",
       "yrs_school  0.079148   0.004150   19.07  < 2e-16 ***\n",
       "ttl_exp     0.039559   0.002296   17.23  < 2e-16 ***\n",
       "---\n",
       "Signif. codes:  0 '***' 0.001 '**' 0.01 '*' 0.05 '.' 0.1 ' ' 1\n",
       "\n",
       "Residual standard error: 0.4921 on 2243 degrees of freedom\n",
       "Multiple R-squared:  0.2671,\tAdjusted R-squared:  0.2664 \n",
       "F-statistic: 408.7 on 2 and 2243 DF,  p-value: < 2.2e-16\n"
      ]
     },
     "metadata": {},
     "output_type": "display_data"
    }
   ],
   "source": [
    "wageReg2 = lm(lwage ~ yrs_school + ttl_exp, data=nlsw)\n",
    "summary(wageReg2)"
   ]
  },
  {
   "cell_type": "code",
   "execution_count": 21,
   "metadata": {},
   "outputs": [],
   "source": [
    "nlsw$restrict = nlsw$yrs_school + 2*nlsw$ttl_exp"
   ]
  },
  {
   "cell_type": "code",
   "execution_count": 22,
   "metadata": {},
   "outputs": [
    {
     "data": {
      "text/plain": [
       "\n",
       "Call:\n",
       "lm(formula = lwage ~ restrict, data = nlsw)\n",
       "\n",
       "Residuals:\n",
       "     Min       1Q   Median       3Q      Max \n",
       "-1.79637 -0.32172 -0.02268  0.27505  2.39896 \n",
       "\n",
       "Coefficients:\n",
       "            Estimate Std. Error t value Pr(>|t|)    \n",
       "(Intercept) 0.865430   0.042395   20.41   <2e-16 ***\n",
       "restrict    0.026292   0.001075   24.47   <2e-16 ***\n",
       "---\n",
       "Signif. codes:  0 '***' 0.001 '**' 0.01 '*' 0.05 '.' 0.1 ' ' 1\n",
       "\n",
       "Residual standard error: 0.5106 on 2244 degrees of freedom\n",
       "Multiple R-squared:  0.2106,\tAdjusted R-squared:  0.2102 \n",
       "F-statistic: 598.6 on 1 and 2244 DF,  p-value: < 2.2e-16\n"
      ]
     },
     "metadata": {},
     "output_type": "display_data"
    }
   ],
   "source": [
    "wageReg3 = lm(lwage ~ restrict, data=nlsw)\n",
    "summary(wageReg3)"
   ]
  },
  {
   "cell_type": "code",
   "execution_count": 25,
   "metadata": {},
   "outputs": [],
   "source": [
    "rest = anova(wageReg3)"
   ]
  },
  {
   "cell_type": "code",
   "execution_count": 26,
   "metadata": {},
   "outputs": [],
   "source": [
    "unrest = anova(wageReg2)"
   ]
  },
  {
   "cell_type": "code",
   "execution_count": 27,
   "metadata": {},
   "outputs": [
    {
     "data": {
      "text/html": [
       "172.959917162972"
      ],
      "text/latex": [
       "172.959917162972"
      ],
      "text/markdown": [
       "172.959917162972"
      ],
      "text/plain": [
       "[1] 172.9599"
      ]
     },
     "metadata": {},
     "output_type": "display_data"
    }
   ],
   "source": [
    "statistic_test <- (((rest$`Sum Sq`[2]-unrest$`Sum Sq`[3])/1)\n",
    "                   /((unrest$`Sum Sq`[3])/unrest$Df[3]))\n",
    "statistic_test"
   ]
  },
  {
   "cell_type": "code",
   "execution_count": 29,
   "metadata": {},
   "outputs": [],
   "source": [
    "p = df(statistic_test, 1, unrest$Df[3])"
   ]
  },
  {
   "cell_type": "code",
   "execution_count": 30,
   "metadata": {},
   "outputs": [
    {
     "data": {
      "text/html": [
       "1.93046877248482e-38"
      ],
      "text/latex": [
       "1.93046877248482e-38"
      ],
      "text/markdown": [
       "1.93046877248482e-38"
      ],
      "text/plain": [
       "[1] 1.930469e-38"
      ]
     },
     "metadata": {},
     "output_type": "display_data"
    }
   ],
   "source": [
    "p"
   ]
  }
 ],
 "metadata": {
  "kernelspec": {
   "display_name": "R",
   "language": "R",
   "name": "ir"
  },
  "language_info": {
   "codemirror_mode": "r",
   "file_extension": ".r",
   "mimetype": "text/x-r-source",
   "name": "R",
   "pygments_lexer": "r",
   "version": "3.6.3"
  }
 },
 "nbformat": 4,
 "nbformat_minor": 4
}
