{
 "cells": [
  {
   "cell_type": "markdown",
   "metadata": {},
   "source": [
    "In this part of the problem set, we are going to replicate part of the results of Joshua Angrist and William Evans' article \"Children and Their Parents' Labor Supply: Evidence from Exogenous Variation in Family Size.\" Here is the abstract of the study:\n",
    "\n",
    "    Research on the labor-supply consequences of childbearing is complicated by the endogeneity of fertility. This study uses parental preferences for a mixed sibling-sex composition to construct instrumental variables (IV) estimates of the effect of childbearing on labor supply. IV estimates for women are significant but smaller than ordinary least-squares estimates. The IV are also smaller for more educated women and show no impact of family size on husbands' labor supply. A comparison of estimates using sibling-sex composition and twins instruments implies that the impact of a third child disappears when the child reaches age 13. (JEL J13, J22)\n",
    "\n",
    "The purpose of this exercise is to study how fertility affects female labor supply. In order to do this, we are going to compare female labor supply in households with two children versus households with three children. Since fertility decisions are endogenous, we are going to use two sets of instruments: whether there is a multiple pregnancy in the second pregnancy and sex composition of the first two children. This latter instrument was the one proposed by Angrist & Evans (1998). Intuitively, parents are more likely to have a third child when the first two have the same sex. Assuming that whether the first two children have the same sex is random, we can use this variable as an instrument for the number of children in the household. "
   ]
  },
  {
   "cell_type": "markdown",
   "metadata": {},
   "source": [
    "We have provided you with the data set census80.csv that corresponds to an extract of the 1980 US Census. It has been restricted to the set of families with two or three children and with mother's age between 21 and 35 years.  The data set contains the following variables:\n",
    "\n",
    "- workedm: whether the mother works.\n",
    "- weeksm: number of weeks the mother works.\n",
    "- whitem: mother is White.\n",
    "- blackm: mother is Black.\n",
    "- hispm: mother is Hispanic.\n",
    "- othracem: mother is of other race.\n",
    "- sex1st: sex of the first child (0 corresponds to male and 1 to female).\n",
    "- sex2nd: sex of the second child  (0 corresponds to male and 1 to female).\n",
    "- ageq2nd: age in quarters of the second child.\n",
    "- ageq3rd: age in quarters of the third child.\n",
    "- numberkids: number of children in the household. "
   ]
  },
  {
   "cell_type": "code",
   "execution_count": 1,
   "metadata": {},
   "outputs": [
    {
     "data": {
      "text/plain": [
       "    workedm           weeksm          whitem           blackm      \n",
       " Min.   :0.0000   Min.   : 0.00   Min.   :0.0000   Min.   :0.0000  \n",
       " 1st Qu.:0.0000   1st Qu.: 0.00   1st Qu.:1.0000   1st Qu.:0.0000  \n",
       " Median :1.0000   Median :12.00   Median :1.0000   Median :0.0000  \n",
       " Mean   :0.5716   Mean   :20.82   Mean   :0.8314   Mean   :0.1125  \n",
       " 3rd Qu.:1.0000   3rd Qu.:48.00   3rd Qu.:1.0000   3rd Qu.:0.0000  \n",
       " Max.   :1.0000   Max.   :52.00   Max.   :1.0000   Max.   :1.0000  \n",
       "                                                                   \n",
       "     hispm            othracem           sex1st           sex2nd      \n",
       " Min.   :0.00000   Min.   :0.00000   Min.   :0.0000   Min.   :0.0000  \n",
       " 1st Qu.:0.00000   1st Qu.:0.00000   1st Qu.:0.0000   1st Qu.:0.0000  \n",
       " Median :0.00000   Median :0.00000   Median :0.0000   Median :0.0000  \n",
       " Mean   :0.02725   Mean   :0.02886   Mean   :0.4871   Mean   :0.4881  \n",
       " 3rd Qu.:0.00000   3rd Qu.:0.00000   3rd Qu.:1.0000   3rd Qu.:1.0000  \n",
       " Max.   :1.00000   Max.   :1.00000   Max.   :1.0000   Max.   :1.0000  \n",
       "                                                                      \n",
       "    ageq2nd         ageq3rd         numberkids   \n",
       " Min.   : 0.00   Min.   : 0.00    Min.   :2.000  \n",
       " 1st Qu.: 9.00   1st Qu.: 5.00    1st Qu.:2.000  \n",
       " Median :19.00   Median :13.00    Median :2.000  \n",
       " Mean   :21.75   Mean   :16.59    Mean   :2.286  \n",
       " 3rd Qu.:33.00   3rd Qu.:26.00    3rd Qu.:3.000  \n",
       " Max.   :71.00   Max.   :67.00    Max.   :3.000  \n",
       "                 NA's   :305132                  "
      ]
     },
     "metadata": {},
     "output_type": "display_data"
    }
   ],
   "source": [
    "census80 = read.csv('./dataset/census80.csv')\n",
    "summary(census80)"
   ]
  },
  {
   "cell_type": "markdown",
   "metadata": {},
   "source": [
    "Use the variable **ageq2nd** and the variable **ageq3rd** to construct an indicator variable on whether there was a multiple pregnancy during the mother's second pregnancy. What is the proportion of households with a multiple pregnancy in the second pregnancy?"
   ]
  },
  {
   "cell_type": "code",
   "execution_count": 3,
   "metadata": {},
   "outputs": [
    {
     "data": {
      "text/plain": [
       "   Min. 1st Qu.  Median    Mean 3rd Qu.    Max. \n",
       "0.00000 0.00000 0.00000 0.00729 0.00000 1.00000 "
      ]
     },
     "metadata": {},
     "output_type": "display_data"
    }
   ],
   "source": [
    "census80$tmp[census80$ageq2nd == census80$ageq3rd] = 1\n",
    "\n",
    "census80$mult = 0\n",
    "census80$mult[census80$tmp == 1] = 1\n",
    "\n",
    "summary(census80$mult)"
   ]
  },
  {
   "cell_type": "markdown",
   "metadata": {},
   "source": [
    "Use the variables **sex1st** and **sex2nd** to construct an indicator variable on whether the first and the second born children have the same sex. What is the proportion of households in which the first two children have the same sex?"
   ]
  },
  {
   "cell_type": "code",
   "execution_count": 4,
   "metadata": {},
   "outputs": [
    {
     "data": {
      "text/plain": [
       "   Min. 1st Qu.  Median    Mean 3rd Qu.    Max. \n",
       " 0.0000  0.0000  1.0000  0.5019  1.0000  1.0000 "
      ]
     },
     "metadata": {},
     "output_type": "display_data"
    }
   ],
   "source": [
    "census80$tmp1[census80$sex1st == census80$sex2nd] = 1\n",
    "\n",
    "census80$samesex = 0\n",
    "census80$samesex[census80$tmp1 == 1] = 1\n",
    "\n",
    "summary(census80$samesex)"
   ]
  },
  {
   "cell_type": "markdown",
   "metadata": {},
   "source": [
    "Run this model through OLS using whether the mom works and the number of weeks she works as the dependent variables. According to your estimates, which of the following statements are correct? Select all that apply."
   ]
  },
  {
   "cell_type": "code",
   "execution_count": 5,
   "metadata": {},
   "outputs": [],
   "source": [
    "census80$three <- ifelse(census80$numberkids == 3, 1, 0)\n",
    "ols1 = lm(workedm ~ three + blackm + hispm + othracem, data=census80)"
   ]
  },
  {
   "cell_type": "code",
   "execution_count": 6,
   "metadata": {},
   "outputs": [
    {
     "data": {
      "text/plain": [
       "\n",
       "Call:\n",
       "lm(formula = workedm ~ three + blackm + hispm + othracem, data = census80)\n",
       "\n",
       "Residuals:\n",
       "    Min      1Q  Median      3Q     Max \n",
       "-0.7091 -0.5818  0.3748  0.4182  0.5360 \n",
       "\n",
       "Coefficients:\n",
       "              Estimate Std. Error t value Pr(>|t|)    \n",
       "(Intercept)  0.5818322  0.0009448 615.853  < 2e-16 ***\n",
       "three       -0.0839132  0.0016669 -50.340  < 2e-16 ***\n",
       "blackm       0.1272585  0.0023926  53.189  < 2e-16 ***\n",
       "hispm       -0.0339241  0.0046329  -7.322 2.44e-13 ***\n",
       "othracem     0.0146186  0.0045045   3.245  0.00117 ** \n",
       "---\n",
       "Signif. codes:  0 '***' 0.001 '**' 0.01 '*' 0.05 '.' 0.1 ' ' 1\n",
       "\n",
       "Residual standard error: 0.4918 on 427413 degrees of freedom\n",
       "Multiple R-squared:  0.01218,\tAdjusted R-squared:  0.01217 \n",
       "F-statistic:  1318 on 4 and 427413 DF,  p-value: < 2.2e-16\n"
      ]
     },
     "metadata": {},
     "output_type": "display_data"
    }
   ],
   "source": [
    "summary(ols1)"
   ]
  },
  {
   "cell_type": "code",
   "execution_count": 7,
   "metadata": {},
   "outputs": [
    {
     "data": {
      "text/plain": [
       "\n",
       "Call:\n",
       "lm(formula = weeksm ~ three + blackm + hispm + othracem, data = census80)\n",
       "\n",
       "Residuals:\n",
       "    Min      1Q  Median      3Q     Max \n",
       "-28.245 -21.133  -9.133  23.755  36.220 \n",
       "\n",
       "Coefficients:\n",
       "            Estimate Std. Error t value Pr(>|t|)    \n",
       "(Intercept) 21.13285    0.04218 501.034  < 2e-16 ***\n",
       "three       -3.94018    0.07442 -52.946  < 2e-16 ***\n",
       "blackm       7.11253    0.10682  66.587  < 2e-16 ***\n",
       "hispm       -1.41237    0.20684  -6.829 8.59e-12 ***\n",
       "othracem     1.69773    0.20110   8.442  < 2e-16 ***\n",
       "---\n",
       "Signif. codes:  0 '***' 0.001 '**' 0.01 '*' 0.05 '.' 0.1 ' ' 1\n",
       "\n",
       "Residual standard error: 21.96 on 427413 degrees of freedom\n",
       "Multiple R-squared:  0.01634,\tAdjusted R-squared:  0.01633 \n",
       "F-statistic:  1775 on 4 and 427413 DF,  p-value: < 2.2e-16\n"
      ]
     },
     "metadata": {},
     "output_type": "display_data"
    }
   ],
   "source": [
    "ols2 = lm(weeksm ~ three + blackm + hispm + othracem, data=census80)\n",
    "summary(ols2)"
   ]
  },
  {
   "cell_type": "markdown",
   "metadata": {},
   "source": [
    "Since fertility is an endogenous variable, we want to use the multiple pregnancy and the same sex variables as instruments for having three children in the household. We are going to estimate the first-stage using each variable separately. Run a regression for each of these instruments using the indicator of having three children as the dependent variable and controlling for the race of the mother. "
   ]
  },
  {
   "cell_type": "markdown",
   "metadata": {},
   "source": [
    "According to your estimates, by having a multiple pregnancy during the second pregnancy, by how many percentage points does the likelihood of having a third child increase?"
   ]
  },
  {
   "cell_type": "code",
   "execution_count": 9,
   "metadata": {},
   "outputs": [
    {
     "data": {
      "text/plain": [
       "\n",
       "Call:\n",
       "lm(formula = three ~ mult + blackm + hispm + othracem, data = census80)\n",
       "\n",
       "Residuals:\n",
       "    Min      1Q  Median      3Q     Max \n",
       "-0.3528 -0.2710 -0.2710  0.6641  0.7290 \n",
       "\n",
       "Coefficients:\n",
       "             Estimate Std. Error t value Pr(>|t|)    \n",
       "(Intercept) 0.2710109  0.0007523 360.242  < 2e-16 ***\n",
       "mult        0.7179404  0.0080400  89.296  < 2e-16 ***\n",
       "blackm      0.0648870  0.0021730  29.860  < 2e-16 ***\n",
       "hispm       0.0817475  0.0042103  19.416  < 2e-16 ***\n",
       "othracem    0.0115414  0.0040954   2.818  0.00483 ** \n",
       "---\n",
       "Signif. codes:  0 '***' 0.001 '**' 0.01 '*' 0.05 '.' 0.1 ' ' 1\n",
       "\n",
       "Residual standard error: 0.4472 on 427413 degrees of freedom\n",
       "Multiple R-squared:  0.02108,\tAdjusted R-squared:  0.02107 \n",
       "F-statistic:  2301 on 4 and 427413 DF,  p-value: < 2.2e-16\n"
      ]
     },
     "metadata": {},
     "output_type": "display_data"
    }
   ],
   "source": [
    "model = lm(three ~ mult + blackm + hispm + othracem, data=census80)\n",
    "summary(model)"
   ]
  },
  {
   "cell_type": "markdown",
   "metadata": {},
   "source": [
    "According to your estimates, when the first two children are of the same sex, by how many percentage points does the likelihood of having a third child increase?"
   ]
  },
  {
   "cell_type": "code",
   "execution_count": 11,
   "metadata": {},
   "outputs": [
    {
     "data": {
      "text/plain": [
       "\n",
       "Call:\n",
       "lm(formula = three ~ samesex + blackm + hispm + othracem, data = census80)\n",
       "\n",
       "Residuals:\n",
       "    Min      1Q  Median      3Q     Max \n",
       "-0.3823 -0.3005 -0.2515  0.6825  0.7485 \n",
       "\n",
       "Coefficients:\n",
       "            Estimate Std. Error t value Pr(>|t|)    \n",
       "(Intercept) 0.251535   0.001025  245.42  < 2e-16 ***\n",
       "samesex     0.049018   0.001379   35.56  < 2e-16 ***\n",
       "blackm      0.065954   0.002190   30.12  < 2e-16 ***\n",
       "hispm       0.081736   0.004243   19.26  < 2e-16 ***\n",
       "othracem    0.011183   0.004127    2.71  0.00674 ** \n",
       "---\n",
       "Signif. codes:  0 '***' 0.001 '**' 0.01 '*' 0.05 '.' 0.1 ' ' 1\n",
       "\n",
       "Residual standard error: 0.4506 on 427413 degrees of freedom\n",
       "Multiple R-squared:  0.005756,\tAdjusted R-squared:  0.005746 \n",
       "F-statistic: 618.6 on 4 and 427413 DF,  p-value: < 2.2e-16\n"
      ]
     },
     "metadata": {},
     "output_type": "display_data"
    }
   ],
   "source": [
    "model2 = lm(three ~ samesex + blackm + hispm + othracem, data=census80)\n",
    "summary(model2)"
   ]
  },
  {
   "cell_type": "markdown",
   "metadata": {},
   "source": [
    "Now, run the IV regression using whether the mother works as the dependent variable and multiple pregnancy as the instrument. According to this model, by how many percentage points does the likelihood that the mother works change when a third child is born?"
   ]
  },
  {
   "cell_type": "markdown",
   "metadata": {},
   "source": [
    "it is required to install \"AER\" package for IV regression\n",
    "```R\n",
    "install.packages(\"AER\")\n",
    "```"
   ]
  },
  {
   "cell_type": "code",
   "execution_count": 12,
   "metadata": {},
   "outputs": [
    {
     "name": "stderr",
     "output_type": "stream",
     "text": [
      "Loading required package: car\n",
      "\n",
      "Loading required package: carData\n",
      "\n",
      "Loading required package: lmtest\n",
      "\n",
      "Loading required package: zoo\n",
      "\n",
      "\n",
      "Attaching package: 'zoo'\n",
      "\n",
      "\n",
      "The following objects are masked from 'package:base':\n",
      "\n",
      "    as.Date, as.Date.numeric\n",
      "\n",
      "\n",
      "Loading required package: sandwich\n",
      "\n",
      "Loading required package: survival\n",
      "\n"
     ]
    }
   ],
   "source": [
    "library(\"AER\")"
   ]
  },
  {
   "cell_type": "code",
   "execution_count": 13,
   "metadata": {},
   "outputs": [
    {
     "data": {
      "text/plain": [
       "\n",
       "Call:\n",
       "ivreg(formula = workedm ~ (three + blackm + hispm + othracem) | \n",
       "    (mult + blackm + hispm + othracem), data = census80)\n",
       "\n",
       "Residuals:\n",
       "    Min      1Q  Median      3Q     Max \n",
       "-0.7023 -0.5764  0.3618  0.4236  0.5233 \n",
       "\n",
       "Coefficients:\n",
       "             Estimate Std. Error t value Pr(>|t|)    \n",
       "(Intercept)  0.576368   0.003501 164.650  < 2e-16 ***\n",
       "three       -0.064126   0.012319  -5.205 1.94e-07 ***\n",
       "blackm       0.125953   0.002525  49.885  < 2e-16 ***\n",
       "hispm       -0.035536   0.004739  -7.498 6.47e-14 ***\n",
       "othracem     0.014401   0.004507   3.195   0.0014 ** \n",
       "---\n",
       "Signif. codes:  0 '***' 0.001 '**' 0.01 '*' 0.05 '.' 0.1 ' ' 1\n",
       "\n",
       "Residual standard error: 0.4919 on 427413 degrees of freedom\n",
       "Multiple R-Squared: 0.01186,\tAdjusted R-squared: 0.01185 \n",
       "Wald test: 690.7 on 4 and 427413 DF,  p-value: < 2.2e-16 \n"
      ]
     },
     "metadata": {},
     "output_type": "display_data"
    }
   ],
   "source": [
    "ivmodel = ivreg(workedm ~ (three + blackm + hispm + othracem) | \n",
    "                        (mult + blackm + hispm + othracem), data=census80)\n",
    "summary(ivmodel)"
   ]
  },
  {
   "cell_type": "markdown",
   "metadata": {},
   "source": [
    "Now, run the IV regression using whether the mother works as the dependent variable and the same-sex variable as the instrument. According to this model, how does the likelihood that the mother works change when a third child is born?"
   ]
  },
  {
   "cell_type": "code",
   "execution_count": 14,
   "metadata": {},
   "outputs": [
    {
     "data": {
      "text/plain": [
       "\n",
       "Call:\n",
       "ivreg(formula = workedm ~ (three + blackm + hispm + othracem) | \n",
       "    (samesex + blackm + hispm + othracem), data = census80)\n",
       "\n",
       "Residuals:\n",
       "    Min      1Q  Median      3Q     Max \n",
       "-0.7140 -0.5858  0.3842  0.4142  0.5452 \n",
       "\n",
       "Coefficients:\n",
       "             Estimate Std. Error t value Pr(>|t|)    \n",
       "(Intercept)  0.585783   0.008517  68.779  < 2e-16 ***\n",
       "three       -0.098221   0.030697  -3.200  0.00138 ** \n",
       "blackm       0.128203   0.003133  40.920  < 2e-16 ***\n",
       "hispm       -0.032758   0.005264  -6.224 4.86e-10 ***\n",
       "othracem     0.014776   0.004518   3.271  0.00107 ** \n",
       "---\n",
       "Signif. codes:  0 '***' 0.001 '**' 0.01 '*' 0.05 '.' 0.1 ' ' 1\n",
       "\n",
       "Residual standard error: 0.4919 on 427413 degrees of freedom\n",
       "Multiple R-Squared: 0.01201,\tAdjusted R-squared: 0.012 \n",
       "Wald test: 686.6 on 4 and 427413 DF,  p-value: < 2.2e-16 \n"
      ]
     },
     "metadata": {},
     "output_type": "display_data"
    }
   ],
   "source": [
    "ivmodel1 = ivreg(workedm ~ (three + blackm + hispm + othracem) | \n",
    "                        (samesex + blackm + hispm + othracem), data=census80)\n",
    "summary(ivmodel1)"
   ]
  }
 ],
 "metadata": {
  "kernelspec": {
   "display_name": "R",
   "language": "R",
   "name": "ir"
  },
  "language_info": {
   "codemirror_mode": "r",
   "file_extension": ".r",
   "mimetype": "text/x-r-source",
   "name": "R",
   "pygments_lexer": "r",
   "version": "3.6.3"
  }
 },
 "nbformat": 4,
 "nbformat_minor": 4
}
