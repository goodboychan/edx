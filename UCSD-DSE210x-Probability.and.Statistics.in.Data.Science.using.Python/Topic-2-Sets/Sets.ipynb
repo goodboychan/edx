{
 "cells": [
  {
   "cell_type": "markdown",
   "metadata": {},
   "source": [
    "# Sets\n",
    "> A summary of \"Probability and Statistics in Data Science using Python\", offered from UCSD DSE210x\n",
    "\n",
    "- toc: true \n",
    "- badges: true\n",
    "- comments: true\n",
    "- author: Chanseok Kang\n",
    "- categories: [Python, edX, Data_Science, Statistics, Probability]\n",
    "- image: "
   ]
  },
  {
   "cell_type": "markdown",
   "metadata": {},
   "source": [
    "## Elements, sets, and membership"
   ]
  },
  {
   "cell_type": "markdown",
   "metadata": {},
   "source": [
    "### Elements\n",
    "- Foundation, building blocks of sets\n",
    "- Can be anything\n",
    "- Structured\n",
    "- Numbers"
   ]
  },
  {
   "cell_type": "markdown",
   "metadata": {},
   "source": [
    "### Sets\n",
    "- Collection of elements\n",
    "- Define : `{specify elements}`"
   ]
  },
  {
   "cell_type": "markdown",
   "metadata": {},
   "source": [
    "### Specification\n",
    "- Explicit\n",
    "    - Coin = {heads, tails}\n",
    "    - Bits = {0, 1}\n",
    "    - Die = {1, 2, 3, 4, 5, 6}\n",
    "- Implicit\n",
    "    - Digits = {0, 1, $\\dots$ 9}\n",
    "    - Letters = {a, b, $\\dots$, z}\n",
    "    - Days = {Monday, $\\dots$, Sunday}\n",
    "- Descriptive \n",
    "    - {4-letter words} = {love, like, dear, $\\dots$}"
   ]
  },
  {
   "cell_type": "markdown",
   "metadata": {},
   "source": [
    "### Common Sets\n",
    "| Sets | | Notation |\n",
    "| ---- | ----- | ---- |\n",
    "| Integers | {$\\dots$, -2, -1, 0, 1, 2, $\\dots$} | $\\mathbb{Z}$ |\n",
    "| Naturals | {0, 1, 2, $\\dots$ }| $\\mathbb{N}$ |\n",
    "| Positives | {1, 2, 3, $\\dots$} | $\\mathbb{P}$ |\n",
    "| Rationals | {interger ratio m / n, n $\\neq 0$} | $\\mathbb{Q}$ |\n",
    "| Reals | { whole number } | $\\mathbb{R}$ |\n",
    "\n",
    "> Note: $\\mathbb{Z}$ comes from german word `Zahl`, meaning numbers\n",
    "\n",
    "Usually, Sets are expressed with Upper case (A, B, etc), and Elements are expressed with Lower case (a, b, etc), as a convention."
   ]
  },
  {
   "cell_type": "markdown",
   "metadata": {},
   "source": [
    "### Membership\n",
    "- If element $x$ is in a set $A$, it is a <font color=\"red\">member</font> of, or <font color=\"red\">belongs to</font> $A$, denoted $x$ <font color=\"red\">$\\in$</font> $A$.\n",
    " \n",
    " $$ 0 \\in \\{0, 1\\} \\qquad 1 \\in \\{0, 1\\} \\qquad \\pi \\in \\mathbb{R} $$\n",
    " \n",
    "- Equivalently, $A$ <font color=\"red\">contains</font> $x$, written $A$ <font color=\"red\">$\\ni$</font> $x$.\n",
    "\n",
    " $$ \\{0, 1\\} \\ni 0  \\qquad \\{0, 1\\} \\ni 1 \\qquad \\mathbb{R} \\in \\pi $$\n",
    "\n",
    "- If $x$ is <font color='red'>not</font> in $A$, then $x$ is <font color='red'>not a member</font>, or does <font color='red'>not belong</font> to $A$, denoted $x$ <font color='red'>$\\notin$</font> $A$.\n",
    "\n",
    "- Equivalently, $A$ does <font color='red'>not contain</font> $x$, $A$ <font color='red'>$\\not\\owns$</font> $x$."
   ]
  },
  {
   "cell_type": "markdown",
   "metadata": {},
   "source": [
    "### Doesn't Matter\n",
    "- Order: {0, 1} = {1, 0}\n",
    "- Repetition: {0, 1} = {0, 1, 1, 1}\n",
    "\n",
    "If you want to consider:\n",
    "\n",
    "- Order matters: use <font color='blue'>ordered tuples</font> ((0, 1) $\\neq$ (1, 0))\n",
    "- Repetition matters: use <font color='blue'> multisets</font> or <font color='blue'>bags</font>"
   ]
  },
  {
   "cell_type": "markdown",
   "metadata": {},
   "source": [
    "### Special Sets\n",
    "- Empty set: contains no elements ($\\emptyset$ or {}, $\\forall x, x \\notin \\emptyset$)\n",
    "\n",
    "> Note: $\\forall$ means 'all', or 'every'\n",
    "\n",
    "- Universal set: all possible elements ($\\Omega$, $\\forall x, x \\in \\Omega$)\n",
    "\n",
    "- $\\Omega$ lets us consider only relevant elements. $\\Omega$ can be $\\mathbb{Z}$ (the integer) or \"prime number\"\n",
    "\n",
    "- $\\Omega$ depends on application (temperature, text, etc...)\n",
    "\n",
    "- $\\emptyset$ is only one in whole case, this is the set with no elements."
   ]
  },
  {
   "cell_type": "markdown",
   "metadata": {},
   "source": [
    "### Set Definition in python\n",
    "- Define a set\n",
    "```python\n",
    "{...} or set({...})\n",
    "```\n",
    "- For empty set\n",
    "```python\n",
    "set() or set({})\n",
    "```\n",
    "\n",
    "> Note: In python, `{}` is not a empty set, it is dictionary."
   ]
  },
  {
   "cell_type": "markdown",
   "metadata": {},
   "source": [
    "### Membership in python\n",
    "- $\\in \\quad \\rightarrow$ `in`\n",
    "- $\\notin \\quad \\rightarrow$ `not in`"
   ]
  },
  {
   "cell_type": "markdown",
   "metadata": {},
   "source": [
    "### Testing if Empty, Size"
   ]
  },
  {
   "cell_type": "code",
   "execution_count": 1,
   "metadata": {},
   "outputs": [
    {
     "data": {
      "text/plain": [
       "True"
      ]
     },
     "execution_count": 1,
     "metadata": {},
     "output_type": "execute_result"
    }
   ],
   "source": [
    "# Empty set\n",
    "S = set()\n",
    "not S"
   ]
  },
  {
   "cell_type": "code",
   "execution_count": 2,
   "metadata": {},
   "outputs": [
    {
     "data": {
      "text/plain": [
       "False"
      ]
     },
     "execution_count": 2,
     "metadata": {},
     "output_type": "execute_result"
    }
   ],
   "source": [
    "# Set\n",
    "T = {1, 2}\n",
    "not T"
   ]
  },
  {
   "cell_type": "code",
   "execution_count": 3,
   "metadata": {},
   "outputs": [
    {
     "data": {
      "text/plain": [
       "0"
      ]
     },
     "execution_count": 3,
     "metadata": {},
     "output_type": "execute_result"
    }
   ],
   "source": [
    "len(S)"
   ]
  },
  {
   "cell_type": "code",
   "execution_count": 4,
   "metadata": {},
   "outputs": [
    {
     "data": {
      "text/plain": [
       "2"
      ]
     },
     "execution_count": 4,
     "metadata": {},
     "output_type": "execute_result"
    }
   ],
   "source": [
    "len(T)"
   ]
  },
  {
   "cell_type": "markdown",
   "metadata": {},
   "source": [
    "## Some simple sets"
   ]
  },
  {
   "cell_type": "markdown",
   "metadata": {},
   "source": [
    "### Sets within Sets\n",
    "Specify a set within a universe, or any other set,\n",
    "$$ \\{x \\in A \\vert \\dots \\} $$\n",
    "means elements $x$ in $A$ <font color='red'>such that</font>. Sometimes it expresses like this,\n",
    "$$ \\{x \\in A : \\dots \\} $$\n",
    "\n",
    "For example,\n",
    "\n",
    "$$ \\mathbb{N} = \\{x \\in \\mathbb{Z} \\vert x \\geq 0 \\} $$\n",
    "$$ \\mathbb{P} = \\{x \\in \\mathbb{N} \\vert x \\gt 0 \\} $$\n",
    "\n",
    "It usually express the solution to equations,\n",
    "\n",
    "$$ \\{ x \\in \\mathbb{R} \\vert x^2 \\geq 0\\} = \\mathbb{R} $$\n",
    "$$ \\{ x \\in \\mathbb{R} : x^2 = 1 \\} = \\{-1, 1\\} $$\n",
    "$$ \\{ x \\in \\mathbb{R} \\vert x^2 = 0 \\} = \\{0\\} $$\n",
    "\n",
    "> Note: a single-element set is called **singleton**\n",
    "\n",
    "$$ \\{ x \\in \\mathbb{R} \\vert x^2 = -1 \\} = \\emptyset $$\n",
    "$$ \\{ x \\in \\mathbb{C} \\vert x^2 = -1 \\} = \\{i, -i\\} $$"
   ]
  },
  {
   "cell_type": "markdown",
   "metadata": {},
   "source": [
    "### Integer intervals\n",
    "$$ \\{m, \\dots n\\} = \\{i \\in \\mathbb{Z} \\vert m \\leq i \\leq n \\} $$\n",
    "\n",
    "It is a set of integers from $m$ to $n$, inclusively.\n",
    "\n",
    "$$ \\{3, \\dots, 5\\} = \\{i \\in \\mathbb{Z} \\vert 3 \\leq i \\leq 5 \\} = \\{3, 4, 5\\} $$ \n",
    "$$ \\{3, \\dots, 4\\} = \\{i \\in \\mathbb{Z} \\vert 3 \\leq i \\leq 4 \\} = \\{3, 4\\} $$\n",
    "$$ \\{3, \\dots, 3\\} = \\{i \\in \\mathbb{Z} \\vert 3 \\leq i \\leq 3 \\} = \\{3\\} $$\n",
    "$$ \\{3, \\dots, 2\\} = \\{i \\in \\mathbb{Z} \\vert 3 \\leq i \\leq 2 \\} = \\emptyset $$\n",
    "\n",
    "For convention, $[n] = \\{1, \\dots, n\\}$"
   ]
  },
  {
   "cell_type": "markdown",
   "metadata": {},
   "source": [
    "### Real intervals\n",
    "$$[a, b] \\qquad \\rightarrow \\{x \\in \\mathbb{R} \\vert a \\leq x \\leq b \\} $$\n",
    "$$(a, b) \\qquad \\rightarrow \\{x \\in \\mathbb{R} \\vert a \\lt x \\lt b \\} $$\n",
    "$$[a, b) \\qquad \\rightarrow \\{x \\in \\mathbb{R} \\vert a \\leq x \\lt b \\} $$\n",
    "$$(a, b] \\qquad \\rightarrow \\{x \\in \\mathbb{R} \\vert a \\lt x \\leq b \\} $$"
   ]
  },
  {
   "cell_type": "markdown",
   "metadata": {},
   "source": [
    "### Divisibility\n",
    "In $m, n \\in \\mathbb{Z}$, if $n = c \\dot m$ for some $c \\in \\mathbb{Z}$, we say that <font color='red'>n is a multiple of m</font>, or <font color='red'>$m$ divides $n$</font>, and write <font color='red'>$m \\vert n$</font>\n",
    "\n",
    "If no such $c$ exists, <font color='red'>$m$ does not divide $n$</font>, or <font color='red'>$n$ is not a multiple of $m$</font> denoted <font color='red'>$m \\not\\vert n$</font>.\n",
    "\n",
    "For example,\n",
    "\n",
    "$$\\text{There is no } c \\in \\mathbb{Z} \\quad \\text{such that} \\quad 4 = c \\cdot 3 \\quad \\rightarrow 3 \\not\\vert 4 $$\n",
    "$$ 0 \\not\\vert n \\quad \\text{for any } n \\neq 0 $$"
   ]
  },
  {
   "cell_type": "markdown",
   "metadata": {},
   "source": [
    "### Set of Multiples\n",
    "- Integer multiples of $m$\n",
    "$$ m \\in \\mathbb{Z} \\qquad {}_m\\mathbb{Z} \\overset{\\underset{\\mathrm{def}}{}}{=} \\{i \\in \\mathbb{Z} : m \\vert i \\}$$\n",
    "    - Example\n",
    "$$ \\begin{aligned} {}_2\\mathbb{Z} &= \\{\\dots, -4, -2, 0, 2, 4, \\dots \\} \\overset{\\underset{\\mathrm{def}}{}}{=} \\mathbb{E} \\quad \\rightarrow \\text{even number} \\\\\n",
    " {}_1\\mathbb{Z} &= \\{\\dots , -2, -1, 0, 1, 2, \\dots \\} = \\mathbb{Z} \\\\\n",
    " {}_0\\mathbb{Z} &= \\{0\\} \\end{aligned} $$\n",
    "\n",
    "- Multiples of $m$ in $\\{1..n\\}$\n",
    "$$ m \\in \\mathbb{Z}, n \\in \\mathbb{P} \\qquad {}_m[n] \\overset{\\underset{\\mathrm{def}}{}}{=} \\{i \\in [n] : m \\vert i\\}$$\n",
    "\n",
    "    - Example\n",
    "    \n",
    "$$ \\begin{aligned} {}_3[13] &= \\{i \\in \\{1, \\dots, 13\\} : 3 \\vert i \\} = \\{3, 6, 9, 12\\} \\\\\n",
    "{}_7[13] &= \\{7\\} \\\\ {}_1[13] &= [13] \\\\ {}_{14}[13] &= {}_0[13] = \\emptyset \\end{aligned} $$"
   ]
  },
  {
   "cell_type": "markdown",
   "metadata": {},
   "source": [
    "### Intervals, Multiples in python\n",
    "$\\{0,\\dots, n-1\\} \\quad \\rightarrow$ `range(n)`\n",
    "\n",
    "$\\{m, \\dots, n-1\\} \\quad \\rightarrow$ `range(m, n)`\n",
    "\n",
    "$\\{m, m+d, m+2d, \\dots \\} \\leq n - 1 \\quad \\rightarrow$ `range(m, n, d)`"
   ]
  },
  {
   "cell_type": "code",
   "execution_count": 5,
   "metadata": {},
   "outputs": [
    {
     "data": {
      "text/plain": [
       "{0, 1, 2}"
      ]
     },
     "execution_count": 5,
     "metadata": {},
     "output_type": "execute_result"
    }
   ],
   "source": [
    "set(range(3))"
   ]
  },
  {
   "cell_type": "code",
   "execution_count": 6,
   "metadata": {},
   "outputs": [
    {
     "data": {
      "text/plain": [
       "{2, 3, 4}"
      ]
     },
     "execution_count": 6,
     "metadata": {},
     "output_type": "execute_result"
    }
   ],
   "source": [
    "set(range(2, 5))"
   ]
  },
  {
   "cell_type": "code",
   "execution_count": 7,
   "metadata": {},
   "outputs": [
    {
     "data": {
      "text/plain": [
       "{2, 5, 8, 11}"
      ]
     },
     "execution_count": 7,
     "metadata": {},
     "output_type": "execute_result"
    }
   ],
   "source": [
    "set(range(2, 12, 3))"
   ]
  },
  {
   "cell_type": "markdown",
   "metadata": {},
   "source": [
    "## Visualizing Sets\n"
   ]
  },
  {
   "cell_type": "markdown",
   "metadata": {},
   "source": [
    "### Venn Diagram\n",
    "- Developed by John Venn\n",
    "- Used to visualize Sets, Regions, Elements, Points"
   ]
  },
  {
   "cell_type": "markdown",
   "metadata": {},
   "source": [
    "### Ven Diagram in Python\n",
    "```python\n",
    "!pip install matplotlib_venn\n",
    "```"
   ]
  },
  {
   "cell_type": "code",
   "execution_count": 9,
   "metadata": {},
   "outputs": [
    {
     "data": {
      "image/png": "[encoded data removed]",
      "text/plain": [
       "<Figure size 432x288 with 1 Axes>"
      ]
     },
     "metadata": {},
     "output_type": "display_data"
    }
   ],
   "source": [
    "import matplotlib.pyplot as plt\n",
    "import matplotlib_venn as venn\n",
    "\n",
    "S = {1, 2, 3}\n",
    "T = {0, 2, -1, 5}\n",
    "\n",
    "venn.venn2([S, T], set_labels=('S', 'T'));"
   ]
  },
  {
   "cell_type": "code",
   "execution_count": 10,
   "metadata": {},
   "outputs": [
    {
     "data": {
      "image/png": "[encoded data removed]",
      "text/plain": [
       "<Figure size 432x288 with 1 Axes>"
      ]
     },
     "metadata": {},
     "output_type": "display_data"
    }
   ],
   "source": [
    "U = { 10, 8, 0, 2, -1}\n",
    "\n",
    "venn.venn3([S, T, U], set_labels=('S', 'T', 'U'));"
   ]
  },
  {
   "cell_type": "markdown",
   "metadata": {},
   "source": [
    "## Set Relations"
   ]
  },
  {
   "cell_type": "markdown",
   "metadata": {},
   "source": [
    "### Relation Types\n",
    "- Set $A$ and $B$ are equal, denoted $A = B$, if they have exactly the same elements\n",
    "\n",
    "$$\\{0, 1\\} = \\{1, 0\\}$$\n",
    "\n",
    "- If $A$ and $B$ are not equal, they are **different**, denoted $A \\neq B$\n",
    "\n",
    "$$\\{0, 1\\} \\neq \\{1, 2\\}$$\n",
    "\n",
    "- **All** elements must be identical: $\\{1, 2, 4\\} = \\{4, 1, 2\\}$\n",
    "- **One different** element enough: $\\{1, 2, 4\\} \\neq \\{1, 2, 4, 8\\}$"
   ]
  },
  {
   "cell_type": "markdown",
   "metadata": {},
   "source": [
    "### Intersection\n",
    "- Two sets **intersect** if they share at least one common element. Mathematically, it can express like this,\n",
    "\n",
    "$$ \\exists x, \\quad x \\in A \\wedge x \\in B $$\n",
    "\n",
    "- Two sets are **disjoint** if they share no elements.\n",
    "\n",
    "$$ \\neg \\exists x, \\quad x \\in A \\wedge x \\in B $$\n",
    "\n",
    "- $\\emptyset$ disjoint from any set\n",
    "\n",
    "- Non-empty $\\Omega$ intersects every set\n",
    "\n",
    "- A set intersects itself if and only if it is not-empty.\n",
    "\n",
    "- Several sets\n",
    "    - intersect if all share a common element\n",
    "    - mutually disjoint if every two are disjoint"
   ]
  },
  {
   "cell_type": "markdown",
   "metadata": {},
   "source": [
    "### Subsets\n",
    "- It generalizes $\\leq$\n",
    "\n",
    "- If every element in $A$ is also in $B$, then $A$ is a **subset of** $B$, denoted $A \\subseteq B$\n",
    "\n",
    "$$ \\{0\\} \\subseteq \\{0, 1\\} \\\\ \\{0\\} \\subseteq \\{0\\}$$\n",
    "\n",
    "- Equivalently, $B$ is a **superset** of, or contains, $A$, denoted $B \\supseteq A$\n",
    "\n",
    "$$ \\{0, 1\\} \\supseteq \\{0\\} $$\n",
    "\n",
    "- If $A$ has an element that's not in $B$, then $A$ is **not a subset** of $B$, denoted $A \\not \\subseteq B$, or $B \\not \\supseteq A$\n",
    "\n",
    "$$ \\{0, 1\\} \\not \\subseteq \\{1, 2\\} \\\\ \\{1, 2\\} \\not \\supseteq \\{0, 1\\} $$\n",
    "\n",
    "- $\\mathbb{P} \\subseteq \\mathbb{N} \\subseteq \\mathbb{Z} \\subseteq \\mathbb{Q} \\subseteq \\mathbb{R}$\n",
    "\n",
    "- $\\emptyset \\subseteq A \\subseteq A \\subseteq \\Omega$\n",
    "\n",
    "- (transitivity) $A \\subseteq B$ and  $B \\subseteq C \\rightarrow A \\subseteq C$\n",
    "\n",
    "> Note: $\\subseteq$ is called **transitive**\n",
    "\n",
    "- $A \\subseteq B$ and $B \\subseteq A \\rightarrow A = B$"
   ]
  },
  {
   "cell_type": "markdown",
   "metadata": {},
   "source": [
    "### Strict Subsets\n",
    "- It generalizes $\\gt$\n",
    "\n",
    "- If $A \\subseteq B$ and $A \\neq B$, $A$ is a **strict subset** of $B$, denoted $A \\subset B$ and $B$ is a **strict superset** of $A$, denoted $B \\supset A$.\n",
    "\n",
    "$$ \\{0\\} \\subset \\{0, 1\\} \\\\ \\{0, 1\\} \\supset \\{0\\} $$\n",
    "\n",
    "- If $A$ is not a strict subset of $B$, we write $A \\not \\subset B$ or $B \\not \\supset A$\n",
    "    - Reason: $ A \\not \\subseteq B$ , $A = B$"
   ]
  },
  {
   "cell_type": "markdown",
   "metadata": {},
   "source": [
    "### Belongs to vs. Subset of\n",
    "- $\\in$ (Belongs to)\n",
    "    - Relation between an element and a set\n",
    "    - $x \\in A$: element $x$ belongs to, or is contained in, set $A$ \n",
    "    - ex) $\\{0, 1\\}$ has two elements: 0 and 1 \n",
    "    \n",
    "$$ \\rightarrow 0 \\in \\{0, 1\\} , \\{0\\} \\not \\in \\{0, 1\\} $$\n",
    "     \n",
    "- $\\subseteq$\n",
    "    - Relation between two sets\n",
    "    - $A \\subseteq B$ : $A$ is a subset of set $B$\n",
    "    - ex) $\\{0, 1\\}$ has two elements: 0 and 1 \n",
    "    \n",
    "$$ \\{0\\} \\subseteq \\{0, 1\\} $$\n",
    "    \n",
    "- 0 is an element of $\\{0, 1\\}$, but 0 is not a set. ($0 \\not \\subseteq \\{0, 1\\}$)"
   ]
  },
  {
   "cell_type": "markdown",
   "metadata": {},
   "source": [
    "### Set relations in python\n",
    "\n",
    "#### Equality"
   ]
  },
  {
   "cell_type": "code",
   "execution_count": 11,
   "metadata": {},
   "outputs": [],
   "source": [
    "S1 = {0, 1}\n",
    "S2 = set({0, 1})\n",
    "S3 = {1, 0, 1}\n",
    "T = {0, 2}"
   ]
  },
  {
   "cell_type": "code",
   "execution_count": 13,
   "metadata": {},
   "outputs": [
    {
     "name": "stdout",
     "output_type": "stream",
     "text": [
      "False\n",
      "True\n",
      "True\n"
     ]
    }
   ],
   "source": [
    "print(S1 == T)\n",
    "\n",
    "print(S1 == S2)\n",
    "\n",
    "print(S1 == S3)"
   ]
  },
  {
   "cell_type": "markdown",
   "metadata": {},
   "source": [
    "#### Inequality"
   ]
  },
  {
   "cell_type": "code",
   "execution_count": 14,
   "metadata": {},
   "outputs": [
    {
     "name": "stdout",
     "output_type": "stream",
     "text": [
      "False\n",
      "True\n"
     ]
    }
   ],
   "source": [
    "print(S1 != S2)\n",
    "print(S1 != T)"
   ]
  },
  {
   "cell_type": "markdown",
   "metadata": {},
   "source": [
    "#### Disjoint"
   ]
  },
  {
   "cell_type": "code",
   "execution_count": 15,
   "metadata": {},
   "outputs": [
    {
     "data": {
      "text/plain": [
       "False"
      ]
     },
     "execution_count": 15,
     "metadata": {},
     "output_type": "execute_result"
    }
   ],
   "source": [
    "S1.isdisjoint(T)"
   ]
  },
  {
   "cell_type": "code",
   "execution_count": 16,
   "metadata": {},
   "outputs": [
    {
     "data": {
      "text/plain": [
       "True"
      ]
     },
     "execution_count": 16,
     "metadata": {},
     "output_type": "execute_result"
    }
   ],
   "source": [
    "S1.isdisjoint({2})"
   ]
  },
  {
   "cell_type": "markdown",
   "metadata": {},
   "source": [
    "### Subsets and Supersets"
   ]
  },
  {
   "cell_type": "code",
   "execution_count": 17,
   "metadata": {},
   "outputs": [],
   "source": [
    "zero = {0}\n",
    "zplus = {0, 1}\n",
    "zminus = {0, -1}"
   ]
  },
  {
   "cell_type": "markdown",
   "metadata": {},
   "source": [
    "#### subset"
   ]
  },
  {
   "cell_type": "code",
   "execution_count": 18,
   "metadata": {},
   "outputs": [
    {
     "data": {
      "text/plain": [
       "False"
      ]
     },
     "execution_count": 18,
     "metadata": {},
     "output_type": "execute_result"
    }
   ],
   "source": [
    "zminus <= zplus"
   ]
  },
  {
   "cell_type": "code",
   "execution_count": 19,
   "metadata": {},
   "outputs": [
    {
     "data": {
      "text/plain": [
       "True"
      ]
     },
     "execution_count": 19,
     "metadata": {},
     "output_type": "execute_result"
    }
   ],
   "source": [
    "zero.issubset(zminus)"
   ]
  },
  {
   "cell_type": "markdown",
   "metadata": {},
   "source": [
    "#### Strict subset"
   ]
  },
  {
   "cell_type": "code",
   "execution_count": 21,
   "metadata": {},
   "outputs": [
    {
     "data": {
      "text/plain": [
       "False"
      ]
     },
     "execution_count": 21,
     "metadata": {},
     "output_type": "execute_result"
    }
   ],
   "source": [
    "zplus < zminus"
   ]
  },
  {
   "cell_type": "code",
   "execution_count": 22,
   "metadata": {},
   "outputs": [
    {
     "data": {
      "text/plain": [
       "True"
      ]
     },
     "execution_count": 22,
     "metadata": {},
     "output_type": "execute_result"
    }
   ],
   "source": [
    "zero < zminus"
   ]
  },
  {
   "cell_type": "markdown",
   "metadata": {},
   "source": [
    "#### Superset"
   ]
  },
  {
   "cell_type": "code",
   "execution_count": 23,
   "metadata": {},
   "outputs": [
    {
     "data": {
      "text/plain": [
       "False"
      ]
     },
     "execution_count": 23,
     "metadata": {},
     "output_type": "execute_result"
    }
   ],
   "source": [
    "zplus >= zminus"
   ]
  },
  {
   "cell_type": "code",
   "execution_count": 24,
   "metadata": {},
   "outputs": [
    {
     "data": {
      "text/plain": [
       "True"
      ]
     },
     "execution_count": 24,
     "metadata": {},
     "output_type": "execute_result"
    }
   ],
   "source": [
    "zplus.issuperset(zero)"
   ]
  },
  {
   "cell_type": "markdown",
   "metadata": {},
   "source": [
    "#### Strict superset"
   ]
  },
  {
   "cell_type": "code",
   "execution_count": 25,
   "metadata": {},
   "outputs": [
    {
     "data": {
      "text/plain": [
       "False"
      ]
     },
     "execution_count": 25,
     "metadata": {},
     "output_type": "execute_result"
    }
   ],
   "source": [
    "zminus > zminus"
   ]
  },
  {
   "cell_type": "code",
   "execution_count": 26,
   "metadata": {},
   "outputs": [
    {
     "data": {
      "text/plain": [
       "True"
      ]
     },
     "execution_count": 26,
     "metadata": {},
     "output_type": "execute_result"
    }
   ],
   "source": [
    "zplus > zero"
   ]
  },
  {
   "cell_type": "markdown",
   "metadata": {},
   "source": [
    "## Tuples and products"
   ]
  },
  {
   "cell_type": "markdown",
   "metadata": {},
   "source": [
    "### Tuples and Ordered Pairs\n",
    "- Set\n",
    "    - Order and repetition do not matter\n",
    "$$ \\{a, b, c\\} = \\{b, c, a\\} $$\n",
    "\n",
    "- Tuple\n",
    "    - Both order and repetition matter\n",
    "$$ (a, b, c) \\neq (b, c, a) \\\\ (a, a, a) \\neq (a) $$\n",
    "\n",
    "- $n$-tuple\n",
    "    - Tuple with $n$ elements\n",
    "$$ (a_1, a_2, \\dots, a_n) $$\n",
    "\n",
    "- 2-tuple\n",
    "    - Ordered pair\n",
    "$$ (3, 7) $$"
   ]
  },
  {
   "cell_type": "markdown",
   "metadata": {},
   "source": [
    "### Cartesian Products\n",
    "- The <font color='red'>cartesian product</font> of $A$ and $B$ is the set $A \\times B$ of ordered pairs $(a, b)$ where $a \\in A$ and $b \\in B$. Mathematically,\n",
    "\n",
    "$$ A \\times B = \\{(a, b): a \\in A, b \\in B\\} $$\n",
    "\n",
    "- $A \\times A = A^2$\n",
    "\n",
    "- $\\mathbb{R}^2 = \\{(x, y): x, y \\in \\mathbb{R}\\} \\quad \\rightarrow$ Cartesian Plane\n",
    "\n",
    "- $A, B \\subseteq \\mathbb{R} \\quad \\rightarrow A \\times B \\subseteq \\mathbb{R}^2$\n",
    "\n",
    "    - For example,\n",
    "\n",
    "$$ A = [0, 2], B=[1, 4] \\\\ A \\times B = \\{(x, y): x \\in [0, 2], y \\in [1, 4]\\} $$"
   ]
  },
  {
   "cell_type": "markdown",
   "metadata": {},
   "source": [
    "### Discrete Sets\n",
    "- Similar, simpler\n",
    "- For example,\n",
    "\n",
    "$$ \\begin{aligned} \\{a, b\\} \\times \\{1, 2, 3\\} &= \\{(x, y): x \\in \\{a, b\\}, y \\in \\{1, 2, 3\\}\\} \\\\ &= \\{ (a, 1), (a, 2), (a, 3), (b, 1), (b, 2), (b, 3)\\} \\end{aligned}$$\n",
    "\n",
    "- 1st coordinate: vertical, 2nd coordinate: horizontal"
   ]
  },
  {
   "cell_type": "markdown",
   "metadata": {},
   "source": [
    "### Identities\n",
    "- $A \\times \\emptyset = \\emptyset \\times A = \\emptyset$\n",
    "\n",
    "- $A \\times (B \\cup C) = A \\times B \\cup A \\times C$\n",
    "\n",
    "- $A \\times (B \\cap C) = A \\times B \\cap A \\times C$\n",
    "\n",
    "- $A \\times (B - C) = A \\times B - A \\times C$"
   ]
  },
  {
   "cell_type": "markdown",
   "metadata": {},
   "source": [
    "### Cartesian products in Python\n",
    "Use **product** function in **itertools** library"
   ]
  },
  {
   "cell_type": "code",
   "execution_count": 1,
   "metadata": {},
   "outputs": [
    {
     "name": "stdout",
     "output_type": "stream",
     "text": [
      "('J', '♦️')\n",
      "('J', '♠️')\n",
      "('Q', '♦️')\n",
      "('Q', '♠️')\n",
      "('K', '♦️')\n",
      "('K', '♠️')\n"
     ]
    }
   ],
   "source": [
    "from itertools import product\n",
    "\n",
    "Faces = set({'J', 'Q', 'K'})\n",
    "Suits = {'\\u2666\\uFE0F', '\\u2660\\uFE0F'}\n",
    "\n",
    "for i in product(Faces, Suits):\n",
    "    print(i)"
   ]
  },
  {
   "cell_type": "markdown",
   "metadata": {},
   "source": [
    "## Russell's Paradox\n"
   ]
  },
  {
   "cell_type": "markdown",
   "metadata": {},
   "source": [
    "### Sets in Sets\n",
    "- Sets can be elements\n",
    "- Every set is a subset of itself\n",
    "\n",
    "$$ \\{0\\} \\subseteq \\{0\\} $$\n",
    "\n",
    "- Can a set <font color='blue'>belong to</font> (<font color='blue'>be an element of</font>) itself? $ \\rightarrow S \\in S$\n",
    "\n",
    "    - Typically, sets do not belong to themselves $\\quad \\{0\\} \\not \\in \\{0\\} , \\emptyset \\not \\in \\emptyset $\n",
    "    \n",
    "    - But some sets do belong to themselves! (infinite recursion)\n",
    "    \n",
    "    - Some sets $\\in$ themselves, others don't ($\\{0\\}$)\n",
    "\n"
   ]
  },
  {
   "cell_type": "markdown",
   "metadata": {},
   "source": [
    "### Russell's Paradox\n",
    "- Define a set that cannot exist\n",
    "\n",
    "- For example,\n",
    "\n",
    "$$ R = \\{\\text{sets that don't belong to themselves}\\} = \\{S: S \\not \\in S\\} $$\n",
    "\n",
    "- If\n",
    "    - $R \\in R \\quad \\rightarrow R \\not \\in R$ (contradiciton)\n",
    "    - $R \\not \\in R \\quad \\rightarrow R \\in R$ (contradiction)\n",
    "    \n",
    "- If R existed, then both $R \\in R$ and $R \\not \\in R$ would hold\n",
    "\n",
    "- R defined but cannot exist!!\n",
    "\n",
    "- ex) The set that contains only the empty set $\\emptyset$ is not empty"
   ]
  },
  {
   "cell_type": "markdown",
   "metadata": {},
   "source": [
    "## Exercise 1\n",
    "\n",
    "De Morgan's first law states the following for any two sets $A$ and $B$\n",
    "$$(A\\cup B)^c = A^c\\cap B^c$$\n",
    "\n",
    "In the following two exercises we calculate $(A\\cup B)^c$ in two different ways. Both functions must take $A$, $B$ and the universal set $U$ as their inputs."
   ]
  },
  {
   "cell_type": "markdown",
   "metadata": {},
   "source": [
    "### Exercise 1.1\n",
    "\n",
    "Write the function **complement_of_union** that first determines $A\\cup B$ and then evaluates the complement of this set. Output the tuple: $\\begin{pmatrix}A\\cup B,\\, (A\\cup B)^c\\end{pmatrix}$.\n",
    "\n",
    "\n",
    "\n",
    "<font  style=\"color:blue\"> **Code**</font>\n",
    "```python\n",
    "A = {1, 2, 3}\n",
    "B = {3, -6, 2, 0}\n",
    "U = {-10, -9, -8, -7, -6, 0, 1, 2, 3, 4}\n",
    "complement_of_union(A, B, U)\n",
    "```\n",
    "\n",
    "<font  style=\"color:magenta\"> **Output**</font>\n",
    "```\n",
    "({-6, 0, 1, 2, 3}, {-10, -9, -8, -7, 4})\n",
    "```"
   ]
  },
  {
   "cell_type": "code",
   "execution_count": 6,
   "metadata": {},
   "outputs": [],
   "source": [
    "def complement_of_union(A, B, U):\n",
    "    # inputs: A, B and U are of type 'set'\n",
    "    # output: a tuple of the type (set, set)\n",
    "    \n",
    "    union = A.union(B)\n",
    "    complement_union = U.difference(union)\n",
    "    return (union, complement_union)"
   ]
  },
  {
   "cell_type": "code",
   "execution_count": 7,
   "metadata": {},
   "outputs": [],
   "source": [
    "# Check Function\n",
    "\n",
    "A = {1, 2, 3, 4, 5}\n",
    "B = {0, 2, -6, 5, 8, 9}\n",
    "U = A|B|{-3, 7, 10, -4}\n",
    "assert( complement_of_union(A, B, U) == ({-6, 0, 1, 2, 3, 4, 5, 8, 9}, {-4, -3, 7, 10})  )"
   ]
  },
  {
   "cell_type": "markdown",
   "metadata": {},
   "source": [
    "### Exercise 1.2\n",
    "\n",
    "Write the function **intersection_of_complements** that first determines $A^c$ and $B^c$ and then evaluates the intersection of their complements. Output the tuple: $\\begin{pmatrix}A^c, \\,  A^c\\cap B^c\\end{pmatrix}$\n",
    "\n",
    "<font  style=\"color:blue\"> **Code**</font>\n",
    "```python\n",
    "A = {1, 2, 3}\n",
    "B = {3, -6, 2, 0}\n",
    "U = {-10, -9, -8, -7, -6, 0, 1, 2, 3, 4}\n",
    "intersection_of_complements(A, B, U)\n",
    "```\n",
    "\n",
    "<font  style=\"color:magenta\"> **Output**</font>\n",
    "```\n",
    "({-10, -9, -8, -7, -6, 0, 4}, {-10, -9, -8, -7, 4})\n",
    "```\n"
   ]
  },
  {
   "cell_type": "code",
   "execution_count": 8,
   "metadata": {},
   "outputs": [],
   "source": [
    "def intersection_of_complements(A, B, U):\n",
    "    # inputs: A, B and U are of type 'set'\n",
    "    # output: a tuple of the form (set, set)\n",
    "    \n",
    "    complement_a = U.difference(A)\n",
    "    complement_b = U.difference(B)\n",
    "    complement_intersect = complement_a.intersection(complement_b)\n",
    "    return (complement_a, complement_intersect)"
   ]
  },
  {
   "cell_type": "code",
   "execution_count": 9,
   "metadata": {},
   "outputs": [],
   "source": [
    "# Check Function\n",
    "\n",
    "A = {1, 2, 3, 4, 5}\n",
    "B = {0, 2, -6, 5, 8, 9}\n",
    "U = A|B|{-3, 7, 10, -4}\n",
    "assert(  intersection_of_complements(A, B, U) == ({-6, -4, -3, 0, 7, 8, 9, 10}, {-4, -3, 7, 10})  )"
   ]
  },
  {
   "cell_type": "markdown",
   "metadata": {},
   "source": [
    "## Exercise 2\n",
    "\n",
    "This problem illustrates a property of cartesian products of unions of two or more sets. For four sets $A$, $B$, $S$ and $T$, the following holds:\n",
    "\n",
    "$$(A\\cup B)\\times(S\\cup T) = (A\\times S)\\cup(A\\times T)\\cup(B\\times S)\\cup(B\\times T)$$\n",
    "\n",
    "Write the following functions to determine $(A\\cup B)\\times(S\\cup T)$ in two different ways.\n"
   ]
  },
  {
   "cell_type": "markdown",
   "metadata": {},
   "source": [
    "### Exercies 2.1\n",
    "\n",
    "Write function **product_of_unions** that first determines $(A\\cup B)$ and $(S\\cup T)$ and then evaluates the cartesian products of these unions. Output the tuple $\\begin{pmatrix}(A\\cup B),\\,  (A\\cup B)\\times(S\\cup T)\\end{pmatrix}$.\n",
    "\n",
    "<font  style=\"color:blue\"> **Code**</font>\n",
    "```python\n",
    "A = {1, 2}\n",
    "B = {1, 3}\n",
    "S = {-1, 0}\n",
    "T = {0, 10}\n",
    "product_of_unions(A, B, S, T)\n",
    "```\n",
    "\n",
    "\n",
    "<font  style=\"color:magenta\"> **Output**</font>\n",
    "```\n",
    "({1, 2, 3},\n",
    " {(1, -1),\n",
    "  (1, 0),\n",
    "  (1, 10),\n",
    "  (2, -1),\n",
    "  (2, 0),\n",
    "  (2, 10),\n",
    "  (3, -1),\n",
    "  (3, 0),\n",
    "  (3, 10)})\n",
    "```\n"
   ]
  },
  {
   "cell_type": "code",
   "execution_count": 10,
   "metadata": {},
   "outputs": [],
   "source": [
    "def product_of_unions(A, B, S, T):\n",
    "    # inputs: A, B, S and T are sets\n",
    "    # output: a tuple of the type (set, set)\n",
    "    \n",
    "    union_a_b = A.union(B)\n",
    "    union_s_t = S.union(T)\n",
    "    \n",
    "    product_a_b_s_t = set()\n",
    "    \n",
    "    for i in product(union_a_b, union_s_t):\n",
    "        product_a_b_s_t.add(i)\n",
    "        \n",
    "    return (union_a_b, product_a_b_s_t)"
   ]
  },
  {
   "cell_type": "code",
   "execution_count": 11,
   "metadata": {},
   "outputs": [],
   "source": [
    "# Check Function\n",
    "\n",
    "A = {5}\n",
    "B = {5, 6}\n",
    "S = {-1, 0, 1}\n",
    "T = {1, 2}\n",
    "assert( product_of_unions(A, B, S, T) == \\\n",
    "       ({5, 6}, {(5, -1), (5, 0), (5, 1), (5, 2), (6, -1), (6, 0), (6, 1), (6, 2)})   )"
   ]
  },
  {
   "cell_type": "markdown",
   "metadata": {},
   "source": [
    "### Exercise 2.2\n",
    "\n",
    "Write a function **union_of_products** that first determines $(A\\times S)$ and the other three cartesian products that appear on the right hand side of the identity above, then evaluates the union of these cartesian products. Output the tuple $\\begin{pmatrix}(A\\times S),\\,  (A\\times S)\\cup(A\\times T)\\cup(B\\times S)\\cup(B\\times T)\\end{pmatrix}$.\n",
    "\n",
    "<font  style=\"color:blue\"> **Code**</font>\n",
    "```python\n",
    "A = {1, 2}\n",
    "B = {1, 3}\n",
    "S = {-1, 0}\n",
    "T = {0, 10}\n",
    "union_of_products(A, B, S, T)\n",
    "```\n",
    "\n",
    "\n",
    "<font  style=\"color:magenta\"> **Output**</font>\n",
    "```\n",
    "({(1, -1), (1, 0), (2, -1), (2, 0)},\n",
    " {(1, -1),\n",
    "  (1, 0),\n",
    "  (1, 10),\n",
    "  (2, -1),\n",
    "  (2, 0),\n",
    "  (2, 10),\n",
    "  (3, -1),\n",
    "  (3, 0),\n",
    "  (3, 10)})\n",
    "```"
   ]
  },
  {
   "cell_type": "code",
   "execution_count": 12,
   "metadata": {},
   "outputs": [],
   "source": [
    "def union_of_products(A, B, S, T):\n",
    "    # inputs: A, B, S and T are sets\n",
    "    # output: a tuple of the type (set, set)\n",
    "    product_a_s = set(x for x in product(A, S))\n",
    "    product_a_t = set(x for x in product(A, T))\n",
    "    product_b_s = set(x for x in product(B, S))\n",
    "    product_b_t = set(x for x in product(B, T))\n",
    "    \n",
    "    union_all = product_a_s.union(product_a_t).union(product_b_s).union(product_b_t)\n",
    "    \n",
    "    return (product_a_s, union_all)"
   ]
  },
  {
   "cell_type": "code",
   "execution_count": 13,
   "metadata": {},
   "outputs": [],
   "source": [
    "# Check Function\n",
    "\n",
    "A = {5}\n",
    "B = {5, 6}\n",
    "S = {-1, 0, 1}\n",
    "T = {1, 2}\n",
    "assert( union_of_products(A, B, S, T) == \\\n",
    "        ({(5, -1), (5, 0), (5, 1)}, \\\n",
    "         {(5, -1), (5, 0), (5, 1), (5, 2), (6, -1), (6, 0), (6, 1), (6, 2)})  \\\n",
    "      )"
   ]
  }
 ],
 "metadata": {
  "kernelspec": {
   "display_name": "Python 3",
   "language": "python",
   "name": "python3"
  },
  "language_info": {
   "codemirror_mode": {
    "name": "ipython",
    "version": 3
   },
   "file_extension": ".py",
   "mimetype": "text/x-python",
   "name": "python",
   "nbconvert_exporter": "python",
   "pygments_lexer": "ipython3",
   "version": "3.7.6"
  }
 },
 "nbformat": 4,
 "nbformat_minor": 4
}
