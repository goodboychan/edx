{
 "cells": [
  {
   "cell_type": "markdown",
   "metadata": {},
   "source": [
    "# Sets\n",
    "> A summary of \"Probability and Statistics in Data Science using Python\", offered from UCSD DSE210x\n",
    "\n",
    "- toc: true \n",
    "- badges: true\n",
    "- comments: true\n",
    "- author: Chanseok Kang\n",
    "- categories: [Python, edX, Data_Science, Statistics, Probability]\n",
    "- image: "
   ]
  },
  {
   "cell_type": "markdown",
   "metadata": {},
   "source": [
    "## Elements, sets, and membership"
   ]
  },
  {
   "cell_type": "markdown",
   "metadata": {},
   "source": [
    "### Elements\n",
    "- Foundation, building blocks of sets\n",
    "- Can be anything\n",
    "- Structured\n",
    "- Numbers"
   ]
  },
  {
   "cell_type": "markdown",
   "metadata": {},
   "source": [
    "### Sets\n",
    "- Collection of elements\n",
    "- Define : `{specify elements}`"
   ]
  },
  {
   "cell_type": "markdown",
   "metadata": {},
   "source": [
    "### Specification\n",
    "- Explicit\n",
    "    - Coin = {heads, tails}\n",
    "    - Bits = {0, 1}\n",
    "    - Die = {1, 2, 3, 4, 5, 6}\n",
    "- Implicit\n",
    "    - Digits = {0, 1, $\\dots$ 9}\n",
    "    - Letters = {a, b, $\\dots$, z}\n",
    "    - Days = {Monday, $\\dots$, Sunday}\n",
    "- Descriptive \n",
    "    - {4-letter words} = {love, like, dear, $\\dots$}"
   ]
  },
  {
   "cell_type": "markdown",
   "metadata": {},
   "source": [
    "### Common Sets\n",
    "| Sets | | Notation |\n",
    "| ---- | ----- | ---- |\n",
    "| Integers | {$\\dots$, -2, -1, 0, 1, 2, $\\dots$} | $\\mathbb{Z}$ |\n",
    "| Naturals | {0, 1, 2, $\\dots$ }| $\\mathbb{N}$ |\n",
    "| Positives | {1, 2, 3, $\\dots$} | $\\mathbb{P}$ |\n",
    "| Rationals | {interger ratio m / n, n $\\neq 0$} | $\\mathbb{Q}$ |\n",
    "| Reals | { whole number } | $\\mathbb{R}$ |\n",
    "\n",
    "> Note: $\\mathbb{Z}$ comes from german word `Zahl`, meaning numbers\n",
    "\n",
    "Usually, Sets are expressed with Upper case (A, B, etc), and Elements are expressed with Lower case (a, b, etc), as a convention."
   ]
  },
  {
   "cell_type": "markdown",
   "metadata": {},
   "source": [
    "### Membership\n",
    "- If element $x$ is in a set $A$, it is a <font color=\"red\">member</font> of, or <font color=\"red\">belongs to</font> $A$, denoted $x$ <font color=\"red\">$\\in$</font> $A$.\n",
    " \n",
    " $$ 0 \\in \\{0, 1\\} \\qquad 1 \\in \\{0, 1\\} \\qquad \\pi \\in \\mathbb{R} $$\n",
    " \n",
    "- Equivalently, $A$ <font color=\"red\">contains</font> $x$, written $A$ <font color=\"red\">$\\ni$</font> $x$.\n",
    "\n",
    " $$ \\{0, 1\\} \\ni 0  \\qquad \\{0, 1\\} \\ni 1 \\qquad \\mathbb{R} \\in \\pi $$\n",
    "\n",
    "- If $x$ is <font color='red'>not</font> in $A$, then $x$ is <font color='red'>not a member</font>, or does <font color='red'>not belong</font> to $A$, denoted $x$ <font color='red'>$\\notin$</font> $A$.\n",
    "\n",
    "- Equivalently, $A$ does <font color='red'>not contain</font> $x$, $A$ <font color='red'>$\\not\\owns$</font> $x$."
   ]
  },
  {
   "cell_type": "markdown",
   "metadata": {},
   "source": [
    "### Doesn't Matter\n",
    "- Order: {0, 1} = {1, 0}\n",
    "- Repetition: {0, 1} = {0, 1, 1, 1}\n",
    "\n",
    "If you want to consider:\n",
    "\n",
    "- Order matters: use <font color='blue'>ordered tuples</font> ((0, 1) $\\neq$ (1, 0))\n",
    "- Repetition matters: use <font color='blue'> multisets</font> or <font color='blue'>bags</font>"
   ]
  },
  {
   "cell_type": "markdown",
   "metadata": {},
   "source": [
    "### Special Sets\n",
    "- Empty set: contains no elements ($\\emptyset$ or {}, $\\forall x, x \\notin \\emptyset$)\n",
    "\n",
    "> Note: $\\forall$ means 'all', or 'every'\n",
    "\n",
    "- Universal set: all possible elements ($\\Omega$, $\\forall x, x \\in \\Omega$)\n",
    "\n",
    "- $\\Omega$ lets us consider only relevant elements. $\\Omega$ can be $\\mathbb{Z}$ (the integer) or \"prime number\"\n",
    "\n",
    "- $\\Omega$ depends on application (temperature, text, etc...)\n",
    "\n",
    "- $\\emptyset$ is only one in whole case, this is the set with no elements."
   ]
  },
  {
   "cell_type": "markdown",
   "metadata": {},
   "source": [
    "### Set Definition in python\n",
    "- Define a set\n",
    "```python\n",
    "{...} or set({...})\n",
    "```\n",
    "- For empty set\n",
    "```python\n",
    "set() or set({})\n",
    "```\n",
    "\n",
    "> Note: In python, `{}` is not a empty set, it is dictionary."
   ]
  },
  {
   "cell_type": "markdown",
   "metadata": {},
   "source": [
    "### Membership in python\n",
    "- $\\in \\quad \\rightarrow$ `in`\n",
    "- $\\notin \\quad \\rightarrow$ `not in`"
   ]
  },
  {
   "cell_type": "markdown",
   "metadata": {},
   "source": [
    "### Testing if Empty, Size"
   ]
  },
  {
   "cell_type": "code",
   "execution_count": 8,
   "metadata": {},
   "outputs": [
    {
     "data": {
      "text/plain": [
       "True"
      ]
     },
     "execution_count": 8,
     "metadata": {},
     "output_type": "execute_result"
    }
   ],
   "source": [
    "# Empty set\n",
    "S = set()\n",
    "not S"
   ]
  },
  {
   "cell_type": "code",
   "execution_count": 9,
   "metadata": {},
   "outputs": [
    {
     "data": {
      "text/plain": [
       "False"
      ]
     },
     "execution_count": 9,
     "metadata": {},
     "output_type": "execute_result"
    }
   ],
   "source": [
    "# Set\n",
    "T = {1, 2}\n",
    "not T"
   ]
  },
  {
   "cell_type": "code",
   "execution_count": 10,
   "metadata": {},
   "outputs": [
    {
     "data": {
      "text/plain": [
       "0"
      ]
     },
     "execution_count": 10,
     "metadata": {},
     "output_type": "execute_result"
    }
   ],
   "source": [
    "len(S)"
   ]
  },
  {
   "cell_type": "code",
   "execution_count": 11,
   "metadata": {},
   "outputs": [
    {
     "data": {
      "text/plain": [
       "2"
      ]
     },
     "execution_count": 11,
     "metadata": {},
     "output_type": "execute_result"
    }
   ],
   "source": [
    "len(T)"
   ]
  },
  {
   "cell_type": "markdown",
   "metadata": {},
   "source": [
    "## Some simple sets"
   ]
  },
  {
   "cell_type": "markdown",
   "metadata": {},
   "source": [
    "### Sets within Sets\n",
    "Specify a set within a universe, or any other set,\n",
    "$$ \\{x \\in A \\vert \\dots \\} $$\n",
    "means elements $x$ in $A$ <font color='red'>such that</font>. Sometimes it expresses like this,\n",
    "$$ \\{x \\in A : \\dots \\} $$\n",
    "\n",
    "For example,\n",
    "\n",
    "$$ \\mathbb{N} = \\{x \\in \\mathbb{Z} \\vert x \\geq 0 \\} $$\n",
    "$$ \\mathbb{P} = \\{x \\in \\mathbb{N} \\vert x \\gt 0 \\} $$\n",
    "\n",
    "It usually express the solution to equations,\n",
    "\n",
    "$$ \\{ x \\in \\mathbb{R} \\vert x^2 \\geq 0\\} = \\mathbb{R} $$\n",
    "$$ \\{ x \\in \\mathbb{R} : x^2 = 1 \\} = \\{-1, 1\\} $$\n",
    "$$ \\{ x \\in \\mathbb{R} \\vert x^2 = 0 \\} = \\{0\\} $$\n",
    "\n",
    "> Note: a single-element set is called **singleton**\n",
    "\n",
    "$$ \\{ x \\in \\mathbb{R} \\vert x^2 = -1 \\} = \\emptyset $$\n",
    "$$ \\{ x \\in \\mathbb{C} \\vert x^2 = -1 \\} = \\{i, -i\\} $$"
   ]
  },
  {
   "cell_type": "markdown",
   "metadata": {},
   "source": [
    "### Integer intervals\n",
    "$$ \\{m, \\dots n\\} = \\{i \\in \\mathbb{Z} \\vert m \\leq i \\leq n \\} $$\n",
    "\n",
    "It is a set of integers from $m$ to $n$, inclusively.\n",
    "\n",
    "$$ \\{3, \\dots, 5\\} = \\{i \\in \\mathbb{Z} \\vert 3 \\leq i \\leq 5 \\} = \\{3, 4, 5\\} $$ \n",
    "$$ \\{3, \\dots, 4\\} = \\{i \\in \\mathbb{Z} \\vert 3 \\leq i \\leq 4 \\} = \\{3, 4\\} $$\n",
    "$$ \\{3, \\dots, 3\\} = \\{i \\in \\mathbb{Z} \\vert 3 \\leq i \\leq 3 \\} = \\{3\\} $$\n",
    "$$ \\{3, \\dots, 2\\} = \\{i \\in \\mathbb{Z} \\vert 3 \\leq i \\leq 2 \\} = \\emptyset $$\n",
    "\n",
    "For convention, $[n] = \\{1, \\dots, n\\}$"
   ]
  },
  {
   "cell_type": "markdown",
   "metadata": {},
   "source": [
    "### Real intervals\n",
    "$$[a, b] \\qquad \\rightarrow \\{x \\in \\mathbb{R} \\vert a \\leq x \\leq b \\} $$\n",
    "$$(a, b) \\qquad \\rightarrow \\{x \\in \\mathbb{R} \\vert a \\lt x \\lt b \\} $$\n",
    "$$[a, b) \\qquad \\rightarrow \\{x \\in \\mathbb{R} \\vert a \\leq x \\lt b \\} $$\n",
    "$$(a, b] \\qquad \\rightarrow \\{x \\in \\mathbb{R} \\vert a \\lt x \\leq b \\} $$"
   ]
  },
  {
   "cell_type": "markdown",
   "metadata": {},
   "source": [
    "### Divisibility\n",
    "In $m, n \\in \\mathbb{Z}$, if $n = c \\dot m$ for some $c \\in \\mathbb{Z}$, we say that <font color='red'>n is a multiple of m</font>, or <font color='red'>$m$ divides $n$</font>, and write <font color='red'>$m \\vert n$</font>\n",
    "\n",
    "If no such $c$ exists, <font color='red'>$m$ does not divide $n$</font>, or <font color='red'>$n$ is not a multiple of $m$</font> denoted <font color='red'>$m \\not\\vert n$</font>.\n",
    "\n",
    "For example,\n",
    "\n",
    "$$\\text{There is no } c \\in \\mathbb{Z} \\quad \\text{such that} \\quad 4 = c \\cdot 3 \\quad \\rightarrow 3 \\not\\vert 4 $$\n",
    "$$ 0 \\not\\vert n \\quad \\text{for any } n \\neq 0 $$"
   ]
  },
  {
   "cell_type": "markdown",
   "metadata": {},
   "source": [
    "### Set of Multiples\n",
    "- Integer multiples of $m$\n",
    "$$ m \\in \\mathbb{Z} \\qquad {}_m\\mathbb{Z} \\overset{\\underset{\\mathrm{def}}{}}{=} \\{i \\in \\mathbb{Z} : m \\vert i \\}$$\n",
    "    - Example\n",
    "$$ \\begin{aligned} {}_2\\mathbb{Z} &= \\{\\dots, -4, -2, 0, 2, 4, \\dots \\} \\overset{\\underset{\\mathrm{def}}{}}{=} \\mathbb{E} \\quad \\rightarrow \\text{even number} \\\\\n",
    " {}_1\\mathbb{Z} &= \\{\\dots , -2, -1, 0, 1, 2, \\dots \\} = \\mathbb{Z} \\\\\n",
    " {}_0\\mathbb{Z} &= \\{0\\} \\end{aligned} $$\n",
    "\n",
    "- Multiples of $m$ in $\\{1..n\\}$\n",
    "$$ m \\in \\mathbb{Z}, n \\in \\mathbb{P} \\qquad {}_m[n] \\overset{\\underset{\\mathrm{def}}{}}{=} \\{i \\in [n] : m \\vert i\\}$$\n",
    "\n",
    "    - Example\n",
    "    \n",
    "$$ \\begin{aligned} {}_3[13] &= \\{i \\in \\{1, \\dots, 13\\} : 3 \\vert i \\} = \\{3, 6, 9, 12\\} \\\\\n",
    "{}_7[13] &= \\{7\\} \\\\ {}_1[13] &= [13] \\\\ {}_{14}[13] &= {}_0[13] = \\emptyset \\end{aligned} $$"
   ]
  },
  {
   "cell_type": "markdown",
   "metadata": {},
   "source": [
    "### Intervals, Multiples in python\n",
    "$\\{0,\\dots, n-1\\} \\quad \\rightarrow$ `range(n)`\n",
    "\n",
    "$\\{m, \\dots, n-1\\} \\quad \\rightarrow$ `range(m, n)`\n",
    "\n",
    "$\\{m, m+d, m+2d, \\dots \\} \\leq n - 1 \\quad \\rightarrow$ `range(m, n, d)`"
   ]
  },
  {
   "cell_type": "code",
   "execution_count": 12,
   "metadata": {},
   "outputs": [
    {
     "data": {
      "text/plain": [
       "{0, 1, 2}"
      ]
     },
     "execution_count": 12,
     "metadata": {},
     "output_type": "execute_result"
    }
   ],
   "source": [
    "set(range(3))"
   ]
  },
  {
   "cell_type": "code",
   "execution_count": 13,
   "metadata": {},
   "outputs": [
    {
     "data": {
      "text/plain": [
       "{2, 3, 4}"
      ]
     },
     "execution_count": 13,
     "metadata": {},
     "output_type": "execute_result"
    }
   ],
   "source": [
    "set(range(2, 5))"
   ]
  },
  {
   "cell_type": "code",
   "execution_count": 14,
   "metadata": {},
   "outputs": [
    {
     "data": {
      "text/plain": [
       "{2, 5, 8, 11}"
      ]
     },
     "execution_count": 14,
     "metadata": {},
     "output_type": "execute_result"
    }
   ],
   "source": [
    "set(range(2, 12, 3))"
   ]
  },
  {
   "cell_type": "code",
   "execution_count": null,
   "metadata": {},
   "outputs": [],
   "source": []
  }
 ],
 "metadata": {
  "kernelspec": {
   "display_name": "Python 3",
   "language": "python",
   "name": "python3"
  },
  "language_info": {
   "codemirror_mode": {
    "name": "ipython",
    "version": 3
   },
   "file_extension": ".py",
   "mimetype": "text/x-python",
   "name": "python",
   "nbconvert_exporter": "python",
   "pygments_lexer": "ipython3",
   "version": "3.7.6"
  }
 },
 "nbformat": 4,
 "nbformat_minor": 4
}
