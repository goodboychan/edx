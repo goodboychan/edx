{
 "cells": [
  {
   "cell_type": "markdown",
   "metadata": {},
   "source": [
    "# Sets\n",
    "> A summary of \"Probability and Statistics in Data Science using Python\", offered from UCSD DSE210x\n",
    "\n",
    "- toc: true \n",
    "- badges: true\n",
    "- comments: true\n",
    "- author: Chanseok Kang\n",
    "- categories: [Python, edX, Data_Science, Statistics, Probability]\n",
    "- image: "
   ]
  },
  {
   "cell_type": "markdown",
   "metadata": {},
   "source": [
    "## Elements, sets, and membership"
   ]
  },
  {
   "cell_type": "markdown",
   "metadata": {},
   "source": [
    "### Elements\n",
    "- Foundation, building blocks of sets\n",
    "- Can be anything\n",
    "- Structured\n",
    "- Numbers"
   ]
  },
  {
   "cell_type": "markdown",
   "metadata": {},
   "source": [
    "### Sets\n",
    "- Collection of elements\n",
    "- Define : `{specify elements}`"
   ]
  },
  {
   "cell_type": "markdown",
   "metadata": {},
   "source": [
    "### Specification\n",
    "- Explicit\n",
    "    - Coin = {heads, tails}\n",
    "    - Bits = {0, 1}\n",
    "    - Die = {1, 2, 3, 4, 5, 6}\n",
    "- Implicit\n",
    "    - Digits = {0, 1, $\\dots$ 9}\n",
    "    - Letters = {a, b, $\\dots$, z}\n",
    "    - Days = {Monday, $\\dots$, Sunday}\n",
    "- Descriptive \n",
    "    - {4-letter words} = {love, like, dear, $\\dots$}"
   ]
  },
  {
   "cell_type": "markdown",
   "metadata": {},
   "source": [
    "### Common Sets\n",
    "| Sets | | Notation |\n",
    "| ---- | ----- | ---- |\n",
    "| Integers | {$\\dots$, -2, -1, 0, 1, 2, $\\dots$} | $\\mathbb{Z}$ |\n",
    "| Naturals | {0, 1, 2, $\\dots$ | $\\mathbb{N}$ |\n",
    "| Positives | {1, 2, 3, $\\dots$ | $\\mathbb{P}$ |\n",
    "| Rationals | {interger ratio m / n, n $\\neq 0$ | $\\mathbb{Q}$ |\n",
    "| Reals | { whole number } | $\\mathbb{R}$ |\n",
    "\n",
    "> Note: $\\mathbb{Z}$ comes from german word `Zahl`, meaning numbers\n",
    "\n",
    "Usually, Sets are expressed with Upper case (A, B, etc), and Elements are expressed with Lower case (a, b, etc), as a convention."
   ]
  },
  {
   "cell_type": "markdown",
   "metadata": {},
   "source": [
    "### Membership\n",
    "- If element $x$ is in a set $A$, it is a <font color=\"red\">member</font> of, or <font color=\"red\">belongs to</font> $A$, denoted $x$ <font color=\"red\">$\\in$</font> $A$.\n",
    " \n",
    " $$ 0 \\in \\{0, 1\\} \\qquad 1 \\in \\{0, 1\\} \\qquad \\pi \\in \\mathbb{R} $$\n",
    " \n",
    "- Equivalently, $A$ <font color=\"red\">contains</font> $x$, written $A$ <font color=\"red\">$\\ni$</font> $x$.\n",
    "\n",
    " $$ \\{0, 1\\} \\ni 0  \\qquad \\{0, 1\\} \\ni 1 \\qquad \\mathbb{R} \\in \\pi $$\n",
    "\n",
    "- If $x$ is <font color='red'>not</font> in $A$, then $x$ is <font color='red'>not a member</font>, or does <font color='red'>not belong</font> to $A$, denoted $x$ <font color='red'>$\\notin$</font> $A$.\n",
    "\n",
    "- Equivalently, $A$ does <font color='red'>not contain</font> $x$, $A$ <font color='red'>$\\not\\owns$</font> $x$."
   ]
  },
  {
   "cell_type": "markdown",
   "metadata": {},
   "source": [
    "## Doesn't Matter\n",
    "- Order: {0, 1} = {1, 0}\n",
    "- Repetition: {0, 1} = {0, 1, 1, 1}\n",
    "\n",
    "If you want to consider:\n",
    "\n",
    "- Order matters: use <font color='blue'>ordered tuples</font> ((0, 1) $\\neq$ (1, 0))\n",
    "- Repetition matters: use <font color='blue'> multisets</font> or <font color='blue'>bags</font>"
   ]
  },
  {
   "cell_type": "markdown",
   "metadata": {},
   "source": [
    "## Special Sets\n",
    "- Empty set: contains no elements ($\\emptyset$ or {}, $\\forall x, x \\notin \\emptyset$)\n",
    "\n",
    "> Note: $\\forall$ means 'all', or 'every'\n",
    "\n",
    "- Universal set: all possible elements ($\\Omega$, $\\forall x, x \\in \\Omega$)\n",
    "\n",
    "- $\\Omega$ lets us consider only relevant elements. $\\Omega$ can be $\\mathbb{Z}$ (the integer) or \"prime number\"\n",
    "\n",
    "- $\\Omega$ depends on application (temperature, text, etc...)\n",
    "\n",
    "- $\\emptyset$ is only one in whole case, this is the set with no elements."
   ]
  },
  {
   "cell_type": "markdown",
   "metadata": {},
   "source": [
    "## Set Definition in python\n",
    "- Define a set\n",
    "```python\n",
    "{...} or set({...})\n",
    "```\n",
    "- For empty set\n",
    "```python\n",
    "set() or set({})\n",
    "```\n",
    "\n",
    "> Note: In python, `{}` is not a empty set, it is dictionary."
   ]
  },
  {
   "cell_type": "markdown",
   "metadata": {},
   "source": [
    "## Membership in python\n",
    "- $\\in \\quad \\rightarrow$ `in`\n",
    "- $\\notin \\quad \\rightarrow$ `not in`"
   ]
  },
  {
   "cell_type": "markdown",
   "metadata": {},
   "source": [
    "## Testing if Empty, Size"
   ]
  },
  {
   "cell_type": "code",
   "execution_count": 3,
   "metadata": {},
   "outputs": [
    {
     "data": {
      "text/plain": [
       "True"
      ]
     },
     "execution_count": 3,
     "metadata": {},
     "output_type": "execute_result"
    }
   ],
   "source": [
    "# Empty set\n",
    "S = set()\n",
    "not S"
   ]
  },
  {
   "cell_type": "code",
   "execution_count": 5,
   "metadata": {},
   "outputs": [
    {
     "data": {
      "text/plain": [
       "False"
      ]
     },
     "execution_count": 5,
     "metadata": {},
     "output_type": "execute_result"
    }
   ],
   "source": [
    "# Set\n",
    "T = {1, 2}\n",
    "not T"
   ]
  },
  {
   "cell_type": "code",
   "execution_count": 6,
   "metadata": {},
   "outputs": [
    {
     "data": {
      "text/plain": [
       "0"
      ]
     },
     "execution_count": 6,
     "metadata": {},
     "output_type": "execute_result"
    }
   ],
   "source": [
    "len(S)"
   ]
  },
  {
   "cell_type": "code",
   "execution_count": 7,
   "metadata": {},
   "outputs": [
    {
     "data": {
      "text/plain": [
       "2"
      ]
     },
     "execution_count": 7,
     "metadata": {},
     "output_type": "execute_result"
    }
   ],
   "source": [
    "len(T)"
   ]
  },
  {
   "cell_type": "code",
   "execution_count": null,
   "metadata": {},
   "outputs": [],
   "source": []
  }
 ],
 "metadata": {
  "kernelspec": {
   "display_name": "Python 3",
   "language": "python",
   "name": "python3"
  },
  "language_info": {
   "codemirror_mode": {
    "name": "ipython",
    "version": 3
   },
   "file_extension": ".py",
   "mimetype": "text/x-python",
   "name": "python",
   "nbconvert_exporter": "python",
   "pygments_lexer": "ipython3",
   "version": "3.7.6"
  }
 },
 "nbformat": 4,
 "nbformat_minor": 4
}
