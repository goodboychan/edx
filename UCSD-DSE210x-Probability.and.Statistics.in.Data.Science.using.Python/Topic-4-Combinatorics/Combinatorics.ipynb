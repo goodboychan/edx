{
 "cells": [
  {
   "cell_type": "markdown",
   "metadata": {},
   "source": [
    "# Combinatorics\n",
    ">  A summary of \"Probability and Statistics in Data Science using Python\", offered from UCSD DSE210x\n",
    "\n",
    "- toc: true \n",
    "- badges: true\n",
    "- comments: true\n",
    "- author: Chanseok Kang\n",
    "- categories: [Python, edX, Data_Science, Statistics, Probability]\n",
    "- image: "
   ]
  },
  {
   "cell_type": "markdown",
   "metadata": {},
   "source": [
    "## Permutations\n",
    "### Permutations\n",
    "A Permutations is an ordering of a set of objects\n",
    "\n",
    "- The number of permutations of $n$ objects: \n",
    "\n",
    "$$ n \\times (n-1) \\times \\dots \\times 2 \\times 1 \\triangleq n!$$\n",
    "\n",
    "- $n!$ also call **n factorials**"
   ]
  },
  {
   "cell_type": "markdown",
   "metadata": {},
   "source": [
    "### Factorial\n",
    "For $n \\geq 1$,  \n",
    "\n",
    "$$ n! = \\text{# of permutations of n objects} = n \\times (n-1) \\times \\dots \\times 2 \\times 1 $$\n",
    "\n",
    "But what about $0!$? How many ways can you permute 0 objects? $\\rightarrow \\quad 1$"
   ]
  },
  {
   "cell_type": "markdown",
   "metadata": {},
   "source": [
    "### Recursive Definition\n",
    "$n!$ can be defined recursively\n",
    "\n",
    "$$ \\begin{aligned} n! &= n \\times (n-1) \\times \\dots \\times 2 \\times 1 \\\\ &= n \\times [(n-1) \\times \\dots \\times 2 \\times 1] \\\\ &= n \\times (n-1)! \\quad (\\forall n \\geq 1) \\end{aligned} $$"
   ]
  },
  {
   "cell_type": "markdown",
   "metadata": {},
   "source": [
    "### Stirling's Approximations\n",
    "\n",
    "[Stirling's approximations](https://en.wikipedia.org/wiki/Stirling%27s_approximation) is an approximation for factorials.\n",
    "\n",
    "$$ n! \\sim \\sqrt{2 \\pi n} (\\frac{n}{e})^n $$\n"
   ]
  },
  {
   "cell_type": "code",
   "execution_count": 17,
   "metadata": {},
   "outputs": [
    {
     "data": {
      "image/png": "[encoded data removed]",
      "text/plain": [
       "<Figure size 720x576 with 1 Axes>"
      ]
     },
     "metadata": {
      "needs_background": "light"
     },
     "output_type": "display_data"
    }
   ],
   "source": [
    "import matplotlib.pyplot as plt\n",
    "import numpy as np\n",
    "from scipy.special import factorial\n",
    "\n",
    "x = np.linspace(0.0, 3., 100)\n",
    "x_fact = factorial(x)\n",
    "x_stirling = np.sqrt(2 * np.pi * x) * (x / np.exp(1)) ** x\n",
    "\n",
    "plt.figure(figsize=(10, 8))\n",
    "plt.plot(x, x_fact, color='red', label='factorial')\n",
    "plt.plot(x, x_stirling, color='blue', label='stirling')\n",
    "plt.grid()\n",
    "plt.legend()\n",
    "plt.show()"
   ]
  },
  {
   "cell_type": "markdown",
   "metadata": {},
   "source": [
    "## Partial Permutations\n",
    "### Number of Partial Permutations\n",
    "\n",
    "The number of permutations of $k$ out of $n$ objects (or $k$-permutations of $n$)\n",
    "\n",
    "$$ n \\times (n-1) \\times \\dots \\times (n - k + 1) = \\frac{n!}{(n-k)!} \\stackrel{\\text{def}}{=} n^{\\underline{k}} $$\n",
    "\n",
    "It is called $k^{\\text{th}}$ falling power of $n$, also denoted $P(n, k)$"
   ]
  },
  {
   "cell_type": "markdown",
   "metadata": {},
   "source": [
    "## Combinations\n",
    "### k-subsets\n",
    "\n",
    "A subset of size $k$ is a $k$-subset, and denoted by\n",
    "\n",
    "$$\\begin{pmatrix} [n] \\\\ k \\end{pmatrix}$$\n",
    "\n",
    "And it is a collection of $k$-subsets of $[n] = \\{1, 2, \\dots, n\\}$.\n",
    "For example,\n",
    "\n",
    "$$\\begin{pmatrix} [3] \\\\ 2 \\end{pmatrix} = \\{\\{1, 2\\}, \\{1, 3\\}, \\{2, 3\\}\\}$$\n"
   ]
  },
  {
   "cell_type": "markdown",
   "metadata": {},
   "source": [
    "### Number of n-Bit Sequences with k 1's\n",
    "\n",
    "$$\\begin{pmatrix} n \\\\ k \\end{pmatrix} \\triangleq \\Big\\vert \\begin{pmatrix} [n] \\\\ k \\end{pmatrix} \\Big\\vert $$\n",
    "\n",
    "It is # of $n$-bit sequences with $k$ 1's, also known as **binomial coefficient**.\n",
    "\n",
    "For example,\n",
    "\n",
    "$$\\begin{pmatrix} 3 \\\\ 2 \\end{pmatrix} = \\Big\\vert \\begin{pmatrix} [3] \\\\ 2 \\end{pmatrix} \\Big\\vert = \\vert \\{110, 101, 011\\} \\vert = 3 $$\n",
    "\n",
    "In this case, locations of 1's is the ordered pairs from $\\{1, 2, 3\\}$"
   ]
  },
  {
   "cell_type": "markdown",
   "metadata": {},
   "source": [
    "### Calculating the Binomial Coefficients\n",
    "Specify locations of the $k$ 1's in order, calculate the number of ordered locations like this,\n",
    "\n",
    "$$ n^{\\underline{k}} $$\n",
    "\n",
    "Every binary sequence with $k$ 1's corresponds to $k!$ ordered locations.\n",
    "\n",
    "$$ k! \\begin{pmatrix} n \\\\ k \\end{pmatrix} = n^{\\underline{k}} $$\n",
    "\n",
    "$$ \\rightarrow  \\begin{pmatrix} n \\\\ k \\end{pmatrix} = \\frac{n^{\\underline{k}}}{k!} = \\frac{n!}{k!(n-k)!} $$"
   ]
  },
  {
   "cell_type": "markdown",
   "metadata": {},
   "source": [
    "### Simple sequence\n",
    "- All-zero sequence: $\\begin{pmatrix} n \\\\ 0 \\end{pmatrix} = \\frac{n!}{0!n!} = 1$\n",
    "\n",
    "- All-one sequence: $\\begin{pmatrix} n \\\\ n \\end{pmatrix} = \\frac{n!}{n!0!} = 1$\n",
    "\n",
    "- Choose location of single 1: $\\begin{pmatrix} n \\\\ 1 \\end{pmatrix} = \\frac{n!}{1!(n-1!} = n$\n",
    "\n",
    "- Each sequence chosen twice: $\\begin{pmatrix} n \\\\ 2 \\end{pmatrix} = \\frac{n!}{2!(n-2)!} = \\frac{n(n-1)}{2}$"
   ]
  },
  {
   "cell_type": "code",
   "execution_count": null,
   "metadata": {},
   "outputs": [],
   "source": []
  }
 ],
 "metadata": {
  "kernelspec": {
   "display_name": "Python 3",
   "language": "python",
   "name": "python3"
  },
  "language_info": {
   "codemirror_mode": {
    "name": "ipython",
    "version": 3
   },
   "file_extension": ".py",
   "mimetype": "text/x-python",
   "name": "python",
   "nbconvert_exporter": "python",
   "pygments_lexer": "ipython3",
   "version": "3.7.6"
  }
 },
 "nbformat": 4,
 "nbformat_minor": 4
}
