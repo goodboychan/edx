{
 "cells": [
  {
   "cell_type": "markdown",
   "metadata": {},
   "source": [
    "# Counting\n",
    "> A summary of \"Probability and Statistics in Data Science using Python\", offered from UCSD DSE210x\n",
    "\n",
    "- toc: true \n",
    "- badges: true\n",
    "- comments: true\n",
    "- author: Chanseok Kang\n",
    "- categories: [Python, edX, Data_Science, Statistics, Probability]\n",
    "- image: "
   ]
  },
  {
   "cell_type": "markdown",
   "metadata": {},
   "source": [
    "## Set Size\n",
    "### Set Size\n",
    " The number of elements in a set $S$ is called its <font color='red'>size</font> or <font color='red'>cardinality</font>, and denoted $\\vert S \\vert$ or $\\# S$.\n",
    " \n",
    " For example,\n",
    " - Bits: $\\vert\\{0, 1\\}\\vert = 2$\n",
    " - Coin: $\\vert\\{\\text{heads, tails}\\} \\vert = 2$\n",
    " - Die: $\\vert\\{1, 2, 3, 4, 5, 6\\}\\vert = 6$\n",
    " - Digits: $\\vert\\{0, 1, \\dots, 9\\}\\vert = 10$\n",
    " - Letters: $\\vert \\{ a, \\dots, z\\} \\vert = 26$\n",
    " - Empty set: $\\vert \\emptyset \\vert = 1$\n",
    " - Integers: $\\vert \\mathbb{Z}\\vert = \\vert \\mathbb{N} \\vert = \\vert \\mathbb{P} \\vert = \\infty$\n",
    "  (Countably infinite $\\aleph_0$)\n",
    " - Reals: $\\vert \\mathbb{R} \\vert = \\infty$\n",
    "  (Uncountably infinite $\\aleph$)"
   ]
  },
  {
   "cell_type": "markdown",
   "metadata": {},
   "source": [
    "### Integer Intervals\n",
    "if $m \\leq n, \\{m, \\dots n\\} = \\{\\text{integers from m to n, inclusive}\\}$,\n",
    "\n",
    "$$ \\vert \\{m, \\dots, n\\} \\vert = n - m +1 $$"
   ]
  },
  {
   "cell_type": "markdown",
   "metadata": {},
   "source": [
    "### Integer Multiples\n",
    "$$ {}_d (n] = \\{1 \\leq i \\leq n : d / i \\} $$\n",
    "\n",
    "For example,\n",
    "- ${}_3(8] = \\{3, 6\\} = \\{1\\cdot3, 2\\cdot3\\}$\n",
    "- ${}_3(9] = \\{3, 6, 9\\} = \\{1\\cdot3, 2\\cdot3, 3\\cdot3\\}$\n",
    "\n",
    "$$ \\vert {}_d (n] \\vert = \\lfloor n/d \\rfloor$$\n",
    "\n",
    "For example,\n",
    "- $\\vert {}_3(8] \\vert = \\lfloor 8/3 \\rfloor = 2$\n",
    "- $\\vert {}_3(9] \\vert = \\lfloor 9/3 \\rfloor = 3$"
   ]
  },
  {
   "cell_type": "markdown",
   "metadata": {},
   "source": [
    "### Set size in Python"
   ]
  },
  {
   "cell_type": "code",
   "execution_count": 1,
   "metadata": {},
   "outputs": [
    {
     "name": "stdout",
     "output_type": "stream",
     "text": [
      "2\n"
     ]
    }
   ],
   "source": [
    "print(len({-1, 1}))"
   ]
  },
  {
   "cell_type": "code",
   "execution_count": 2,
   "metadata": {},
   "outputs": [
    {
     "name": "stdout",
     "output_type": "stream",
     "text": [
      "0\n"
     ]
    }
   ],
   "source": [
    "print(sum({-1, 1}))"
   ]
  },
  {
   "cell_type": "code",
   "execution_count": 3,
   "metadata": {},
   "outputs": [
    {
     "name": "stdout",
     "output_type": "stream",
     "text": [
      "-1\n"
     ]
    }
   ],
   "source": [
    "print(min({-1, 1}))"
   ]
  },
  {
   "cell_type": "code",
   "execution_count": 4,
   "metadata": {},
   "outputs": [
    {
     "name": "stdout",
     "output_type": "stream",
     "text": [
      "1\n"
     ]
    }
   ],
   "source": [
    "print(max({-1, 1}))"
   ]
  },
  {
   "cell_type": "code",
   "execution_count": 5,
   "metadata": {},
   "outputs": [
    {
     "name": "stdout",
     "output_type": "stream",
     "text": [
      "6\n",
      "6\n"
     ]
    }
   ],
   "source": [
    "A = {1, 2, 3}\n",
    "print(sum(A))\n",
    "\n",
    "total = 0\n",
    "for i in A:\n",
    "    total += i\n",
    "print(total)"
   ]
  },
  {
   "cell_type": "markdown",
   "metadata": {},
   "source": [
    "## Disjoint Unions\n",
    "### Disjoint Unions\n",
    "A union of disjoint sets is called a <font color='red'>disjoint union</font>. \n",
    "\n",
    "For example,\n",
    "\n",
    "- $\\{0\\} \\cup \\{1\\} = \\{0, 1\\}$\n",
    "\n",
    "For disjoint sets, the size of the union is the sum of the sizes.\n",
    "\n",
    "$$ \\vert A \\cup B \\vert = \\vert A \\vert + \\vert B \\vert $$\n",
    "\n",
    "> Note: In set theory, it is called addition rule"
   ]
  },
  {
   "cell_type": "markdown",
   "metadata": {},
   "source": [
    "### Complements\n",
    "- Quintessential disjoint sets ($A$ and $A^{c}$)\n",
    "$$ A \\cup A^c = \\Omega \\\\ \\vert \\Omega \\vert = \\vert A \\cup A^c \\vert = \\vert A \\vert + \\vert A^c \\vert \\\\ \\vert A^c \\vert = \\vert \\Omega \\vert - \\vert A \\vert $$\n",
    "\n",
    "> Note: In set theory, it is called subtraction(or complement) rule"
   ]
  },
  {
   "cell_type": "markdown",
   "metadata": {},
   "source": [
    "### General Subtraction Rule\n",
    "$$ \\begin{aligned} A \\subseteq B \\quad \\rightarrow B &= A \\cup (B - A) \\\\ \\vert B \\vert &= \\vert A \\vert + \\vert B - A \\vert \\\\ \\vert B - A \\vert &= \\vert B \\vert  - \\vert A \\vert \\end{aligned}$$"
   ]
  },
  {
   "cell_type": "markdown",
   "metadata": {},
   "source": [
    "## General Unions\n",
    "### General Unions\n",
    "- Disjoint $A$ and $B$: $\\vert A \\cup B \\vert = \\vert A \\vert + \\vert B \\vert$\n",
    "- Size of union = sum of sizes\n",
    "- In general: $\\vert A \\cup B \\vert \\neq \\vert A \\vert + \\vert B \\vert$\n",
    "    - $\\vert \\{a\\} \\cup \\{a\\} \\vert = \\vert \\{a\\} \\vert = 1$\n",
    "    - $\\vert \\{ a \\} \\vert + \\vert \\{ a \\} \\vert = 2$\n",
    "    \n",
    "$$ \\vert A \\cup B \\vert = \\vert A \\vert + \\vert B \\vert - \\vert A \\cap B \\vert $$\n",
    "\n",
    "This is **Principle of Inclusion-Exclusion**(or PIE for short)\n"
   ]
  },
  {
   "cell_type": "markdown",
   "metadata": {},
   "source": [
    "### Multiple sets\n",
    "- Two sets\n",
    "\n",
    "$$ \\vert A \\cup B \\vert = \\vert A \\vert  + \\vert B \\vert - \\vert A \\cap B \\vert $$\n",
    "\n",
    "- Three sets\n",
    "\n",
    "$$ \\begin{aligned} \\vert A \\cup B \\cup C \\vert &= \\vert A \\vert + \\vert B \\vert + \\vert C \\vert \\\\\n",
    "&- \\vert A \\cap B \\vert - \\vert A \\cap C \\vert - \\vert B \\cap C \\vert \\\\ &+ \\vert A \\cap B \\cap C \\vert \\end{aligned}$$\n",
    "\n",
    "- n sets\n",
    "\n",
    "$$ \\Big \\vert \\cup_{i=1}^n A_i \\Big \\vert = \\sum_{i \\leq i \\leq n} \\vert A_i \\vert - \\sum_{1 \\leq i < j \\leq n} \\vert A_i \\cap A_j \\vert + \\cdots + (-1)^{n-1} \\Big \\vert \\cap_{i=1}^n A_i \\Big \\vert $$"
   ]
  },
  {
   "cell_type": "markdown",
   "metadata": {},
   "source": [
    "### Sanity checks\n",
    "- $A$, $B$ disjoint\n",
    "\n",
    "$$ \\vert A \\cup B \\vert = \\vert A \\vert + \\vert B \\vert - \\vert A \\cap B \\vert = \\vert A \\vert + \\vert B \\vert $$\n",
    "\n",
    "- Equal sets\n",
    "\n",
    "$$ \\vert A \\cup A \\vert = \\vert A \\vert + \\vert A \\vert - \\vert A \\cap A \\vert = \\vert A \\vert $$\n",
    "\n",
    "- nested/disjoint\n",
    "\n",
    "$$ \\max \\{ \\vert A \\vert, \\vert B \\vert \\} \\leq \\vert A \\cup B \\vert \\leq \\vert A \\vert + \\vert B \\vert $$"
   ]
  },
  {
   "cell_type": "markdown",
   "metadata": {},
   "source": [
    "## Cartesian Products\n",
    "### Cartesian Products\n",
    "\n",
    "If $\\vert \\{a, b\\} \\vert = 2$ and $\\vert \\{1, 2, 3\\} = 3$, then\n",
    "\n",
    "$$ \\{a, b\\} \\times \\{1, 2, 3\\} = \\begin{Bmatrix} (a, 1) & (a, 2) & (a, 3) \\\\ (b, 1) & (b, 2) & (b, 3) \\end{Bmatrix} $$\n",
    "\n",
    "And,\n",
    "\n",
    "$$ \\vert \\{a, b\\} \\times \\{1, 2, 3\\} \\vert = 2 \\times 3 = 6 $$\n",
    "\n",
    "In general, the size of a Cartesian Product is the product of the set sizes.\n",
    "\n",
    "$$ \\vert A \\times B \\vert = \\vert A \\vert \\times \\vert B \\vert $$\n",
    "\n",
    "> Note: In set theory, it is called Product Rule\n",
    "\n"
   ]
  },
  {
   "cell_type": "markdown",
   "metadata": {},
   "source": [
    "### Three Sets\n",
    "If we have two sets, ($A \\times B \\quad \\{(a, b): a \\in A, b \\in B \\}$), its shape has rectangle, And set size is $\\vert A \\times B \\vert = \\vert A \\vert \\times \\vert B \\vert$\n",
    "\n",
    "If we have three sets, ($A \\times B \\times C \\quad \\{(a, b, c): a \\in A, b \\in B c \\in C\\}$), then its shape has cuboid, and number of element will be\n",
    "\n",
    "$$ \\vert A \\times B \\times C \\vert = \\vert A \\vert \\times \\vert B \\vert \\times \\vert C \\vert $$"
   ]
  },
  {
   "cell_type": "markdown",
   "metadata": {},
   "source": [
    "## n Sets\n",
    "For $n$ sets, by Product Rule and induction,\n",
    "\n",
    "$$ \\vert A_1 \\times \\dots \\times A_n \\vert = \\vert A_1 \\vert \\times \\dots \\times \\vert A_n \\vert $$"
   ]
  },
  {
   "cell_type": "markdown",
   "metadata": {},
   "source": [
    "## Cartesian Powers\n",
    "### Cartesian Powers of a Set\n",
    "Cartesian product of a set with ifself is a <font color='red'>Cartesian Power</font>\n",
    "\n",
    "- Cartesian Square: $A^2 = A \\times A$\n",
    "- $n$-th Cartesian Power: $A^n \\stackrel{\\text{def}}{=} \\underbrace{A \\times A \\times \\dots A}_n $\n",
    "    - $\\vert A^n \\vert = \\vert A \\times A \\times \\dots \\times A \\vert = \\vert A \\vert \\times \\vert A \\vert \\times \\dots \\times \\vert A \\vert $"
   ]
  },
  {
   "cell_type": "markdown",
   "metadata": {},
   "source": [
    "### Binary Strings\n",
    "- $ \\{0, 1\\}^n = \\{\\text{length-n binary strings}\\} \\quad \\text{or n-bit strings}$\n",
    "- $\\vert \\{0, 1\\}^n \\vert = \\vert \\{0, 1\\} \\vert^n = 2^n $"
   ]
  },
  {
   "cell_type": "markdown",
   "metadata": {},
   "source": [
    "### Subsets\n",
    "The <font color='red'>power set </font> of $S$, denoted $\\mathbb{P}(S)$ is the collection of all subsets of $S$,\n",
    "\n",
    "$$ \\mathbb{P}(\\{a, b\\}) = \\Big\\{ \\{ \\}, \\{a\\}, \\{b\\}, \\{a,b\\}\\Big\\} $$\n",
    "\n",
    "By the 1-1 correspondence betwen $\\mathbb{P}(S)$ and $\\{0,1\\}^{\\vert S \\vert}$,\n",
    "\n",
    "$$ \\vert \\mathbb{P}(S) \\vert = \\vert \\{0, 1\\}^{\\vert S \\vert} \\vert = 2^{\\vert S \\vert} $$\n",
    "\n",
    "The size of the power set is the power of the set size."
   ]
  },
  {
   "cell_type": "markdown",
   "metadata": {},
   "source": [
    "### Functions\n",
    "A <font color='red'>function from $A$ to $B$</font> maps every element $a \\in A$ to an element $f(a) \\in B$\n",
    "\n",
    "- Define a function $f$: specify $f(a)$ for every $a \\in A$\n",
    "    - $f$ from $\\{1, 2, 3\\}$ to $\\{p, u\\}$: $f(1)=p, f(2)=u, f(3)=p$\n",
    "    - $f: 3-\\text{tuple}(f(1), f(2), f(3)): (p, u, p)$\n",
    "    - $\\{\\text{functions from } \\{1, 2, 3\\} \\text{ to } \\{p, u\\}: \\{p, u\\} \\times \\{p, u\\} \\times \\{p, u\\}$\n",
    "    - size of functions from $\\{1, 2, 3\\}$ to $\\{p, u\\}$ = $2^3 = \\vert \\{p, u\\} \\vert^{\\vert \\{1, 2, 3\\} \\vert}$\n",
    "- $\\{\\text{functions from } A \\text{ to } B \\} \\quad \\underbrace{B \\times B \\times \\dots \\times B}_{\\vert A \\vert} = B^{\\vert A \\vert}$\n",
    "    - Size of functions from $A$ to $B$: $\\vert B^{\\vert A \\vert} \\vert = \\vert B \\vert^{\\vert A \\vert}$"
   ]
  },
  {
   "cell_type": "markdown",
   "metadata": {},
   "source": [
    "### Cartesian Powers in Python\n",
    "- Cartesian Power"
   ]
  },
  {
   "cell_type": "code",
   "execution_count": 1,
   "metadata": {},
   "outputs": [
    {
     "name": "stdout",
     "output_type": "stream",
     "text": [
      "{(5, 9), (5, 5), (2, 9), (9, 2), (9, 9), (2, 2), (9, 5), (2, 5), (5, 2)}\n"
     ]
    }
   ],
   "source": [
    "import itertools\n",
    "\n",
    "print(set(itertools.product({2, 5, 9}, repeat=2)))"
   ]
  },
  {
   "cell_type": "markdown",
   "metadata": {},
   "source": [
    "- Exponent"
   ]
  },
  {
   "cell_type": "code",
   "execution_count": 2,
   "metadata": {},
   "outputs": [
    {
     "data": {
      "text/plain": [
       "9"
      ]
     },
     "execution_count": 2,
     "metadata": {},
     "output_type": "execute_result"
    }
   ],
   "source": [
    "3 ** 2"
   ]
  },
  {
   "cell_type": "code",
   "execution_count": null,
   "metadata": {},
   "outputs": [],
   "source": []
  }
 ],
 "metadata": {
  "kernelspec": {
   "display_name": "Python 3",
   "language": "python",
   "name": "python3"
  },
  "language_info": {
   "codemirror_mode": {
    "name": "ipython",
    "version": 3
   },
   "file_extension": ".py",
   "mimetype": "text/x-python",
   "name": "python",
   "nbconvert_exporter": "python",
   "pygments_lexer": "ipython3",
   "version": "3.7.6"
  }
 },
 "nbformat": 4,
 "nbformat_minor": 4
}
