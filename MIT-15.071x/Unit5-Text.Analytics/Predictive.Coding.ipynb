{
 "cells": [
  {
   "cell_type": "markdown",
   "metadata": {},
   "source": [
    "## Predictive Coding: Bringing Text Analytics to the Courtroom (Recitation)"
   ]
  },
  {
   "cell_type": "markdown",
   "metadata": {},
   "source": [
    "### The Data"
   ]
  },
  {
   "cell_type": "markdown",
   "metadata": {},
   "source": [
    "In this recitation, we'll be using the dataset energy_bids.csv. Please download and save this dataset to your computer so that you can follow along. This data comes from the 2010 [TREC Legal Track](http://trec-legal.umiacs.umd.edu/)."
   ]
  },
  {
   "cell_type": "code",
   "execution_count": 16,
   "metadata": {},
   "outputs": [
    {
     "name": "stdout",
     "output_type": "stream",
     "text": [
      "'data.frame':\t855 obs. of  2 variables:\n",
      " $ email     : chr  \"North America's integrated electricity market requires cooperation on environmental policies Commission for Env\"| __truncated__ \"FYI -----Original Message----- From: \\t\\\"Ginny Feliciano\\\" <gfeliciano@earthlink.net>@ENRON [mailto:IMCEANOTES-\"| __truncated__ \"14:13:53 Synchronizing Mailbox 'Kean, Steven J.' 14:13:53 Synchronizing Hierarchy 14:13:53 Synchronizing Favori\"| __truncated__ \"^ ----- Forwarded by Steven J Kean/NA/Enron on 03/02/2001 12:27 PM ----- Suzanne_Nimocks@mckinsey.com Sent by: \"| __truncated__ ...\n",
      " $ responsive: int  0 1 0 1 0 0 1 0 0 0 ...\n"
     ]
    }
   ],
   "source": [
    "emails = read.csv(\"./dataset/energy_bids.csv\", stringsAsFactors = FALSE, encoding='UTF-8')\n",
    "str(emails)"
   ]
  },
  {
   "cell_type": "code",
   "execution_count": 17,
   "metadata": {},
   "outputs": [
    {
     "data": {
      "text/html": [
       "<span style=white-space:pre-wrap>'North America\\'s integrated electricity market requires cooperation on environmental policies Commission for Environmental Cooperation releases working paper on North America\\'s electricity market Montreal, 27 November 2001 -- The North American Commission for Environmental Cooperation (CEC) is releasing a working paper highlighting the trend towards increasing trade, competition and cross-border investment in electricity between Canada, Mexico and the United States. It is hoped that the working paper, Environmental Challenges and Opportunities in the Evolving North American Electricity Market, will stimulate public discussion around a CEC symposium of the same title about the need to coordinate environmental policies trinationally as a North America-wide electricity market develops. The CEC symposium will take place in San Diego on 29-30 November, and will bring together leading experts from industry, academia, NGOs and the governments of Canada, Mexico and the United States to consider the impact of the evolving continental electricity market on human health and the environment. \"Our goal [with the working paper and the symposium] is to highlight key environmental issues that must be addressed as the electricity markets in North America become more and more integrated,\" said Janine Ferretti, executive director of the CEC. \"We want to stimulate discussion around the important policy questions being raised so that countries can cooperate in their approach to energy and the environment.\" The CEC, an international organization created under an environmental side agreement to NAFTA known as the North American Agreement on Environmental Cooperation, was established to address regional environmental concerns, help prevent potential trade and environmental conflicts, and promote the effective enforcement of environmental law. The CEC Secretariat believes that greater North American cooperation on environmental policies regarding the continental electricity market is necessary to: *  protect air quality and mitigate climate change, *  minimize the possibility of environment-based trade disputes, *  ensure a dependable supply of reasonably priced electricity across North America *  avoid creation of pollution havens, and *  ensure local and national environmental measures remain effective. The Changing Market The working paper profiles the rapid changing North American electricity market. For example, in 2001, the US is projected to export 13.1 thousand gigawatt-hours (GWh) of electricity to Canada and Mexico. By 2007, this number is projected to grow to 16.9 thousand GWh of electricity. \"Over the past few decades, the North American electricity market has developed into a complex array of cross-border transactions and relationships,\" said Phil Sharp, former US congressman and chairman of the CEC\\'s Electricity Advisory Board. \"We need to achieve this new level of cooperation in our environmental approaches as well.\" The Environmental Profile of the Electricity Sector The electricity sector is the single largest source of nationally reported toxins in the United States and Canada and a large source in Mexico. In the US, the electricity sector emits approximately 25 percent of all NOx emissions, roughly 35 percent of all CO2 emissions, 25 percent of all mercury emissions and almost 70 percent of SO2 emissions. These emissions have a large impact on airsheds, watersheds and migratory species corridors that are often shared between the three North American countries. \"We want to discuss the possible outcomes from greater efforts to coordinate federal, state or provincial environmental laws and policies that relate to the electricity sector,\" said Ferretti. \"How can we develop more compatible environmental approaches to help make domestic environmental policies more effective?\" The Effects of an Integrated Electricity Market One key issue raised in the paper is the effect of market integration on the competitiveness of particular fuels such as coal, natural gas or renewables. Fuel choice largely determines environmental impacts from a specific facility, along with pollution control technologies, performance standards and regulations. The paper highlights other impacts of a highly competitive market as well. For example, concerns about so called \"pollution havens\" arise when significant differences in environmental laws or enforcement practices induce power companies to locate their operations in jurisdictions with lower standards. \"The CEC Secretariat is exploring what additional environmental policies will work in this restructured market and how these policies can be adapted to ensure that they enhance competitiveness and benefit the entire region,\" said Sharp. Because trade rules and policy measures directly influence the variables that drive a successfully integrated North American electricity market, the working paper also addresses fuel choice, technology, pollution control strategies and subsidies. The CEC will use the information gathered during the discussion period to develop a final report that will be submitted to the Council in early 2002. For more information or to view the live video webcast of the symposium, please go to: http://www.cec.org/electricity. You may download the working paper and other supporting documents from: http://www.cec.org/programs_projects/other_initiatives/electricity/docs.cfm?varlan=english. Commission for Environmental Cooperation 393, rue St-Jacques Ouest, Bureau 200 Montréal (Québec) Canada H2Y 1N9 Tel: (514) 350-4300; Fax: (514) 350-4314 E-mail: info@ccemtl.org ***********'</span>"
      ],
      "text/latex": [
       "'North America\\textbackslash{}'s integrated electricity market requires cooperation on environmental policies Commission for Environmental Cooperation releases working paper on North America\\textbackslash{}'s electricity market Montreal, 27 November 2001 -- The North American Commission for Environmental Cooperation (CEC) is releasing a working paper highlighting the trend towards increasing trade, competition and cross-border investment in electricity between Canada, Mexico and the United States. It is hoped that the working paper, Environmental Challenges and Opportunities in the Evolving North American Electricity Market, will stimulate public discussion around a CEC symposium of the same title about the need to coordinate environmental policies trinationally as a North America-wide electricity market develops. The CEC symposium will take place in San Diego on 29-30 November, and will bring together leading experts from industry, academia, NGOs and the governments of Canada, Mexico and the United States to consider the impact of the evolving continental electricity market on human health and the environment. \"Our goal {[}with the working paper and the symposium{]} is to highlight key environmental issues that must be addressed as the electricity markets in North America become more and more integrated,\" said Janine Ferretti, executive director of the CEC. \"We want to stimulate discussion around the important policy questions being raised so that countries can cooperate in their approach to energy and the environment.\" The CEC, an international organization created under an environmental side agreement to NAFTA known as the North American Agreement on Environmental Cooperation, was established to address regional environmental concerns, help prevent potential trade and environmental conflicts, and promote the effective enforcement of environmental law. The CEC Secretariat believes that greater North American cooperation on environmental policies regarding the continental electricity market is necessary to: *  protect air quality and mitigate climate change, *  minimize the possibility of environment-based trade disputes, *  ensure a dependable supply of reasonably priced electricity across North America *  avoid creation of pollution havens, and *  ensure local and national environmental measures remain effective. The Changing Market The working paper profiles the rapid changing North American electricity market. For example, in 2001, the US is projected to export 13.1 thousand gigawatt-hours (GWh) of electricity to Canada and Mexico. By 2007, this number is projected to grow to 16.9 thousand GWh of electricity. \"Over the past few decades, the North American electricity market has developed into a complex array of cross-border transactions and relationships,\" said Phil Sharp, former US congressman and chairman of the CEC\\textbackslash{}'s Electricity Advisory Board. \"We need to achieve this new level of cooperation in our environmental approaches as well.\" The Environmental Profile of the Electricity Sector The electricity sector is the single largest source of nationally reported toxins in the United States and Canada and a large source in Mexico. In the US, the electricity sector emits approximately 25 percent of all NOx emissions, roughly 35 percent of all CO2 emissions, 25 percent of all mercury emissions and almost 70 percent of SO2 emissions. These emissions have a large impact on airsheds, watersheds and migratory species corridors that are often shared between the three North American countries. \"We want to discuss the possible outcomes from greater efforts to coordinate federal, state or provincial environmental laws and policies that relate to the electricity sector,\" said Ferretti. \"How can we develop more compatible environmental approaches to help make domestic environmental policies more effective?\" The Effects of an Integrated Electricity Market One key issue raised in the paper is the effect of market integration on the competitiveness of particular fuels such as coal, natural gas or renewables. Fuel choice largely determines environmental impacts from a specific facility, along with pollution control technologies, performance standards and regulations. The paper highlights other impacts of a highly competitive market as well. For example, concerns about so called \"pollution havens\" arise when significant differences in environmental laws or enforcement practices induce power companies to locate their operations in jurisdictions with lower standards. \"The CEC Secretariat is exploring what additional environmental policies will work in this restructured market and how these policies can be adapted to ensure that they enhance competitiveness and benefit the entire region,\" said Sharp. Because trade rules and policy measures directly influence the variables that drive a successfully integrated North American electricity market, the working paper also addresses fuel choice, technology, pollution control strategies and subsidies. The CEC will use the information gathered during the discussion period to develop a final report that will be submitted to the Council in early 2002. For more information or to view the live video webcast of the symposium, please go to: http://www.cec.org/electricity. You may download the working paper and other supporting documents from: http://www.cec.org/programs\\_projects/other\\_initiatives/electricity/docs.cfm?varlan=english. Commission for Environmental Cooperation 393, rue St-Jacques Ouest, Bureau 200 Montréal (Québec) Canada H2Y 1N9 Tel: (514) 350-4300; Fax: (514) 350-4314 E-mail: info@ccemtl.org ***********'"
      ],
      "text/markdown": [
       "<span style=white-space:pre-wrap>'North America\\'s integrated electricity market requires cooperation on environmental policies Commission for Environmental Cooperation releases working paper on North America\\'s electricity market Montreal, 27 November 2001 -- The North American Commission for Environmental Cooperation (CEC) is releasing a working paper highlighting the trend towards increasing trade, competition and cross-border investment in electricity between Canada, Mexico and the United States. It is hoped that the working paper, Environmental Challenges and Opportunities in the Evolving North American Electricity Market, will stimulate public discussion around a CEC symposium of the same title about the need to coordinate environmental policies trinationally as a North America-wide electricity market develops. The CEC symposium will take place in San Diego on 29-30 November, and will bring together leading experts from industry, academia, NGOs and the governments of Canada, Mexico and the United States to consider the impact of the evolving continental electricity market on human health and the environment. \"Our goal [with the working paper and the symposium] is to highlight key environmental issues that must be addressed as the electricity markets in North America become more and more integrated,\" said Janine Ferretti, executive director of the CEC. \"We want to stimulate discussion around the important policy questions being raised so that countries can cooperate in their approach to energy and the environment.\" The CEC, an international organization created under an environmental side agreement to NAFTA known as the North American Agreement on Environmental Cooperation, was established to address regional environmental concerns, help prevent potential trade and environmental conflicts, and promote the effective enforcement of environmental law. The CEC Secretariat believes that greater North American cooperation on environmental policies regarding the continental electricity market is necessary to: *  protect air quality and mitigate climate change, *  minimize the possibility of environment-based trade disputes, *  ensure a dependable supply of reasonably priced electricity across North America *  avoid creation of pollution havens, and *  ensure local and national environmental measures remain effective. The Changing Market The working paper profiles the rapid changing North American electricity market. For example, in 2001, the US is projected to export 13.1 thousand gigawatt-hours (GWh) of electricity to Canada and Mexico. By 2007, this number is projected to grow to 16.9 thousand GWh of electricity. \"Over the past few decades, the North American electricity market has developed into a complex array of cross-border transactions and relationships,\" said Phil Sharp, former US congressman and chairman of the CEC\\'s Electricity Advisory Board. \"We need to achieve this new level of cooperation in our environmental approaches as well.\" The Environmental Profile of the Electricity Sector The electricity sector is the single largest source of nationally reported toxins in the United States and Canada and a large source in Mexico. In the US, the electricity sector emits approximately 25 percent of all NOx emissions, roughly 35 percent of all CO2 emissions, 25 percent of all mercury emissions and almost 70 percent of SO2 emissions. These emissions have a large impact on airsheds, watersheds and migratory species corridors that are often shared between the three North American countries. \"We want to discuss the possible outcomes from greater efforts to coordinate federal, state or provincial environmental laws and policies that relate to the electricity sector,\" said Ferretti. \"How can we develop more compatible environmental approaches to help make domestic environmental policies more effective?\" The Effects of an Integrated Electricity Market One key issue raised in the paper is the effect of market integration on the competitiveness of particular fuels such as coal, natural gas or renewables. Fuel choice largely determines environmental impacts from a specific facility, along with pollution control technologies, performance standards and regulations. The paper highlights other impacts of a highly competitive market as well. For example, concerns about so called \"pollution havens\" arise when significant differences in environmental laws or enforcement practices induce power companies to locate their operations in jurisdictions with lower standards. \"The CEC Secretariat is exploring what additional environmental policies will work in this restructured market and how these policies can be adapted to ensure that they enhance competitiveness and benefit the entire region,\" said Sharp. Because trade rules and policy measures directly influence the variables that drive a successfully integrated North American electricity market, the working paper also addresses fuel choice, technology, pollution control strategies and subsidies. The CEC will use the information gathered during the discussion period to develop a final report that will be submitted to the Council in early 2002. For more information or to view the live video webcast of the symposium, please go to: http://www.cec.org/electricity. You may download the working paper and other supporting documents from: http://www.cec.org/programs_projects/other_initiatives/electricity/docs.cfm?varlan=english. Commission for Environmental Cooperation 393, rue St-Jacques Ouest, Bureau 200 Montréal (Québec) Canada H2Y 1N9 Tel: (514) 350-4300; Fax: (514) 350-4314 E-mail: info@ccemtl.org ***********'</span>"
      ],
      "text/plain": [
       "[1] \"North America's integrated electricity market requires cooperation on environmental policies Commission for Environmental Cooperation releases working paper on North America's electricity market Montreal, 27 November 2001 -- The North American Commission for Environmental Cooperation (CEC) is releasing a working paper highlighting the trend towards increasing trade, competition and cross-border investment in electricity between Canada, Mexico and the United States. It is hoped that the working paper, Environmental Challenges and Opportunities in the Evolving North American Electricity Market, will stimulate public discussion around a CEC symposium of the same title about the need to coordinate environmental policies trinationally as a North America-wide electricity market develops. The CEC symposium will take place in San Diego on 29-30 November, and will bring together leading experts from industry, academia, NGOs and the governments of Canada, Mexico and the United States to consider the impact of the evolving continental electricity market on human health and the environment. \\\"Our goal [with the working paper and the symposium] is to highlight key environmental issues that must be addressed as the electricity markets in North America become more and more integrated,\\\" said Janine Ferretti, executive director of the CEC. \\\"We want to stimulate discussion around the important policy questions being raised so that countries can cooperate in their approach to energy and the environment.\\\" The CEC, an international organization created under an environmental side agreement to NAFTA known as the North American Agreement on Environmental Cooperation, was established to address regional environmental concerns, help prevent potential trade and environmental conflicts, and promote the effective enforcement of environmental law. The CEC Secretariat believes that greater North American cooperation on environmental policies regarding the continental electricity market is necessary to: *  protect air quality and mitigate climate change, *  minimize the possibility of environment-based trade disputes, *  ensure a dependable supply of reasonably priced electricity across North America *  avoid creation of pollution havens, and *  ensure local and national environmental measures remain effective. The Changing Market The working paper profiles the rapid changing North American electricity market. For example, in 2001, the US is projected to export 13.1 thousand gigawatt-hours (GWh) of electricity to Canada and Mexico. By 2007, this number is projected to grow to 16.9 thousand GWh of electricity. \\\"Over the past few decades, the North American electricity market has developed into a complex array of cross-border transactions and relationships,\\\" said Phil Sharp, former US congressman and chairman of the CEC's Electricity Advisory Board. \\\"We need to achieve this new level of cooperation in our environmental approaches as well.\\\" The Environmental Profile of the Electricity Sector The electricity sector is the single largest source of nationally reported toxins in the United States and Canada and a large source in Mexico. In the US, the electricity sector emits approximately 25 percent of all NOx emissions, roughly 35 percent of all CO2 emissions, 25 percent of all mercury emissions and almost 70 percent of SO2 emissions. These emissions have a large impact on airsheds, watersheds and migratory species corridors that are often shared between the three North American countries. \\\"We want to discuss the possible outcomes from greater efforts to coordinate federal, state or provincial environmental laws and policies that relate to the electricity sector,\\\" said Ferretti. \\\"How can we develop more compatible environmental approaches to help make domestic environmental policies more effective?\\\" The Effects of an Integrated Electricity Market One key issue raised in the paper is the effect of market integration on the competitiveness of particular fuels such as coal, natural gas or renewables. Fuel choice largely determines environmental impacts from a specific facility, along with pollution control technologies, performance standards and regulations. The paper highlights other impacts of a highly competitive market as well. For example, concerns about so called \\\"pollution havens\\\" arise when significant differences in environmental laws or enforcement practices induce power companies to locate their operations in jurisdictions with lower standards. \\\"The CEC Secretariat is exploring what additional environmental policies will work in this restructured market and how these policies can be adapted to ensure that they enhance competitiveness and benefit the entire region,\\\" said Sharp. Because trade rules and policy measures directly influence the variables that drive a successfully integrated North American electricity market, the working paper also addresses fuel choice, technology, pollution control strategies and subsidies. The CEC will use the information gathered during the discussion period to develop a final report that will be submitted to the Council in early 2002. For more information or to view the live video webcast of the symposium, please go to: http://www.cec.org/electricity. You may download the working paper and other supporting documents from: http://www.cec.org/programs_projects/other_initiatives/electricity/docs.cfm?varlan=english. Commission for Environmental Cooperation 393, rue St-Jacques Ouest, Bureau 200 Montreal (Quebec) Canada H2Y 1N9 Tel: (514) 350-4300; Fax: (514) 350-4314 E-mail: info@ccemtl.org ***********\""
      ]
     },
     "metadata": {},
     "output_type": "display_data"
    }
   ],
   "source": [
    "emails$email[1]"
   ]
  },
  {
   "cell_type": "code",
   "execution_count": 18,
   "metadata": {},
   "outputs": [
    {
     "data": {
      "text/html": [
       "<style>\n",
       ".list-inline {list-style: none; margin:0; padding: 0}\n",
       ".list-inline>li {display: inline-block}\n",
       ".list-inline>li:not(:last-child)::after {content: \"\\00b7\"; padding: 0 .5ex}\n",
       "</style>\n",
       "<ol class=list-inline><li>'North America\\'s integrated electricity market requires cooperation on'</li><li>'environmental policies Commission for Environmental Cooperation'</li><li>'releases working paper on North America\\'s electricity market Montreal,'</li><li>'27 November 2001 -- The North American Commission for Environmental'</li><li>'Cooperation (CEC) is releasing a working paper highlighting the trend'</li><li>'towards increasing trade, competition and cross-border investment in'</li><li>'electricity between Canada, Mexico and the United States. It is hoped'</li><li>'that the working paper, Environmental Challenges and Opportunities in'</li><li>'the Evolving North American Electricity Market, will stimulate public'</li><li>'discussion around a CEC symposium of the same title about the need to'</li><li>'coordinate environmental policies trinationally as a North America-wide'</li><li>'electricity market develops. The CEC symposium will take place in San'</li><li>'Diego on 29-30 November, and will bring together leading experts from'</li><li>'industry, academia, NGOs and the governments of Canada, Mexico and the'</li><li>'United States to consider the impact of the evolving continental'</li><li>'electricity market on human health and the environment. \"Our goal [with'</li><li>'the working paper and the symposium] is to highlight key environmental'</li><li>'issues that must be addressed as the electricity markets in North'</li><li>'America become more and more integrated,\" said Janine Ferretti,'</li><li>'executive director of the CEC. \"We want to stimulate discussion around'</li><li>'the important policy questions being raised so that countries can'</li><li>'cooperate in their approach to energy and the environment.\" The CEC, an'</li><li>'international organization created under an environmental side'</li><li>'agreement to NAFTA known as the North American Agreement on'</li><li>'Environmental Cooperation, was established to address regional'</li><li>'environmental concerns, help prevent potential trade and environmental'</li><li>'conflicts, and promote the effective enforcement of environmental law.'</li><li>'The CEC Secretariat believes that greater North American cooperation on'</li><li>'environmental policies regarding the continental electricity market is'</li><li>'necessary to: * protect air quality and mitigate climate change, *'</li><li>'minimize the possibility of environment-based trade disputes, * ensure'</li><li>'a dependable supply of reasonably priced electricity across North'</li><li>'America * avoid creation of pollution havens, and * ensure local and'</li><li>'national environmental measures remain effective. The Changing Market'</li><li>'The working paper profiles the rapid changing North American'</li><li>'electricity market. For example, in 2001, the US is projected to export'</li><li>'13.1 thousand gigawatt-hours (GWh) of electricity to Canada and Mexico.'</li><li>'By 2007, this number is projected to grow to 16.9 thousand GWh of'</li><li>'electricity. \"Over the past few decades, the North American electricity'</li><li>'market has developed into a complex array of cross-border transactions'</li><li>'and relationships,\" said Phil Sharp, former US congressman and chairman'</li><li>'of the CEC\\'s Electricity Advisory Board. \"We need to achieve this new'</li><li>'level of cooperation in our environmental approaches as well.\" The'</li><li>'Environmental Profile of the Electricity Sector The electricity sector'</li><li>'is the single largest source of nationally reported toxins in the'</li><li>'United States and Canada and a large source in Mexico. In the US, the'</li><li>'electricity sector emits approximately 25 percent of all NOx emissions,'</li><li>'roughly 35 percent of all CO2 emissions, 25 percent of all mercury'</li><li>'emissions and almost 70 percent of SO2 emissions. These emissions have'</li><li>'a large impact on airsheds, watersheds and migratory species corridors'</li><li>'that are often shared between the three North American countries. \"We'</li><li>'want to discuss the possible outcomes from greater efforts to'</li><li>'coordinate federal, state or provincial environmental laws and policies'</li><li>'that relate to the electricity sector,\" said Ferretti. \"How can we'</li><li>'develop more compatible environmental approaches to help make domestic'</li><li>'environmental policies more effective?\" The Effects of an Integrated'</li><li>'Electricity Market One key issue raised in the paper is the effect of'</li><li>'market integration on the competitiveness of particular fuels such as'</li><li>'coal, natural gas or renewables. Fuel choice largely determines'</li><li>'environmental impacts from a specific facility, along with pollution'</li><li>'control technologies, performance standards and regulations. The paper'</li><li>'highlights other impacts of a highly competitive market as well. For'</li><li>'example, concerns about so called \"pollution havens\" arise when'</li><li>'significant differences in environmental laws or enforcement practices'</li><li>'induce power companies to locate their operations in jurisdictions with'</li><li>'lower standards. \"The CEC Secretariat is exploring what additional'</li><li>'environmental policies will work in this restructured market and how'</li><li>'these policies can be adapted to ensure that they enhance'</li><li>'competitiveness and benefit the entire region,\" said Sharp. Because'</li><li>'trade rules and policy measures directly influence the variables that'</li><li>'drive a successfully integrated North American electricity market, the'</li><li>'working paper also addresses fuel choice, technology, pollution control'</li><li>'strategies and subsidies. The CEC will use the information gathered'</li><li>'during the discussion period to develop a final report that will be'</li><li>'submitted to the Council in early 2002. For more information or to view'</li><li>'the live video webcast of the symposium, please go to:'</li><li>'http://www.cec.org/electricity. You may download the working paper and'</li><li>'other supporting documents from:'</li><li>'http://www.cec.org/programs_projects/other_initiatives/electricity/docs.cfm?varlan=english.'</li><li>'Commission for Environmental Cooperation 393, rue St-Jacques Ouest,'</li><li>'Bureau 200 Montréal (Québec) Canada H2Y 1N9 Tel: (514) 350-4300; Fax:'</li><li>'(514) 350-4314 E-mail: info@ccemtl.org ***********'</li></ol>\n"
      ],
      "text/latex": [
       "\\begin{enumerate*}\n",
       "\\item 'North America\\textbackslash{}'s integrated electricity market requires cooperation on'\n",
       "\\item 'environmental policies Commission for Environmental Cooperation'\n",
       "\\item 'releases working paper on North America\\textbackslash{}'s electricity market Montreal,'\n",
       "\\item '27 November 2001 -- The North American Commission for Environmental'\n",
       "\\item 'Cooperation (CEC) is releasing a working paper highlighting the trend'\n",
       "\\item 'towards increasing trade, competition and cross-border investment in'\n",
       "\\item 'electricity between Canada, Mexico and the United States. It is hoped'\n",
       "\\item 'that the working paper, Environmental Challenges and Opportunities in'\n",
       "\\item 'the Evolving North American Electricity Market, will stimulate public'\n",
       "\\item 'discussion around a CEC symposium of the same title about the need to'\n",
       "\\item 'coordinate environmental policies trinationally as a North America-wide'\n",
       "\\item 'electricity market develops. The CEC symposium will take place in San'\n",
       "\\item 'Diego on 29-30 November, and will bring together leading experts from'\n",
       "\\item 'industry, academia, NGOs and the governments of Canada, Mexico and the'\n",
       "\\item 'United States to consider the impact of the evolving continental'\n",
       "\\item 'electricity market on human health and the environment. \"Our goal {[}with'\n",
       "\\item 'the working paper and the symposium{]} is to highlight key environmental'\n",
       "\\item 'issues that must be addressed as the electricity markets in North'\n",
       "\\item 'America become more and more integrated,\" said Janine Ferretti,'\n",
       "\\item 'executive director of the CEC. \"We want to stimulate discussion around'\n",
       "\\item 'the important policy questions being raised so that countries can'\n",
       "\\item 'cooperate in their approach to energy and the environment.\" The CEC, an'\n",
       "\\item 'international organization created under an environmental side'\n",
       "\\item 'agreement to NAFTA known as the North American Agreement on'\n",
       "\\item 'Environmental Cooperation, was established to address regional'\n",
       "\\item 'environmental concerns, help prevent potential trade and environmental'\n",
       "\\item 'conflicts, and promote the effective enforcement of environmental law.'\n",
       "\\item 'The CEC Secretariat believes that greater North American cooperation on'\n",
       "\\item 'environmental policies regarding the continental electricity market is'\n",
       "\\item 'necessary to: * protect air quality and mitigate climate change, *'\n",
       "\\item 'minimize the possibility of environment-based trade disputes, * ensure'\n",
       "\\item 'a dependable supply of reasonably priced electricity across North'\n",
       "\\item 'America * avoid creation of pollution havens, and * ensure local and'\n",
       "\\item 'national environmental measures remain effective. The Changing Market'\n",
       "\\item 'The working paper profiles the rapid changing North American'\n",
       "\\item 'electricity market. For example, in 2001, the US is projected to export'\n",
       "\\item '13.1 thousand gigawatt-hours (GWh) of electricity to Canada and Mexico.'\n",
       "\\item 'By 2007, this number is projected to grow to 16.9 thousand GWh of'\n",
       "\\item 'electricity. \"Over the past few decades, the North American electricity'\n",
       "\\item 'market has developed into a complex array of cross-border transactions'\n",
       "\\item 'and relationships,\" said Phil Sharp, former US congressman and chairman'\n",
       "\\item 'of the CEC\\textbackslash{}'s Electricity Advisory Board. \"We need to achieve this new'\n",
       "\\item 'level of cooperation in our environmental approaches as well.\" The'\n",
       "\\item 'Environmental Profile of the Electricity Sector The electricity sector'\n",
       "\\item 'is the single largest source of nationally reported toxins in the'\n",
       "\\item 'United States and Canada and a large source in Mexico. In the US, the'\n",
       "\\item 'electricity sector emits approximately 25 percent of all NOx emissions,'\n",
       "\\item 'roughly 35 percent of all CO2 emissions, 25 percent of all mercury'\n",
       "\\item 'emissions and almost 70 percent of SO2 emissions. These emissions have'\n",
       "\\item 'a large impact on airsheds, watersheds and migratory species corridors'\n",
       "\\item 'that are often shared between the three North American countries. \"We'\n",
       "\\item 'want to discuss the possible outcomes from greater efforts to'\n",
       "\\item 'coordinate federal, state or provincial environmental laws and policies'\n",
       "\\item 'that relate to the electricity sector,\" said Ferretti. \"How can we'\n",
       "\\item 'develop more compatible environmental approaches to help make domestic'\n",
       "\\item 'environmental policies more effective?\" The Effects of an Integrated'\n",
       "\\item 'Electricity Market One key issue raised in the paper is the effect of'\n",
       "\\item 'market integration on the competitiveness of particular fuels such as'\n",
       "\\item 'coal, natural gas or renewables. Fuel choice largely determines'\n",
       "\\item 'environmental impacts from a specific facility, along with pollution'\n",
       "\\item 'control technologies, performance standards and regulations. The paper'\n",
       "\\item 'highlights other impacts of a highly competitive market as well. For'\n",
       "\\item 'example, concerns about so called \"pollution havens\" arise when'\n",
       "\\item 'significant differences in environmental laws or enforcement practices'\n",
       "\\item 'induce power companies to locate their operations in jurisdictions with'\n",
       "\\item 'lower standards. \"The CEC Secretariat is exploring what additional'\n",
       "\\item 'environmental policies will work in this restructured market and how'\n",
       "\\item 'these policies can be adapted to ensure that they enhance'\n",
       "\\item 'competitiveness and benefit the entire region,\" said Sharp. Because'\n",
       "\\item 'trade rules and policy measures directly influence the variables that'\n",
       "\\item 'drive a successfully integrated North American electricity market, the'\n",
       "\\item 'working paper also addresses fuel choice, technology, pollution control'\n",
       "\\item 'strategies and subsidies. The CEC will use the information gathered'\n",
       "\\item 'during the discussion period to develop a final report that will be'\n",
       "\\item 'submitted to the Council in early 2002. For more information or to view'\n",
       "\\item 'the live video webcast of the symposium, please go to:'\n",
       "\\item 'http://www.cec.org/electricity. You may download the working paper and'\n",
       "\\item 'other supporting documents from:'\n",
       "\\item 'http://www.cec.org/programs\\_projects/other\\_initiatives/electricity/docs.cfm?varlan=english.'\n",
       "\\item 'Commission for Environmental Cooperation 393, rue St-Jacques Ouest,'\n",
       "\\item 'Bureau 200 Montréal (Québec) Canada H2Y 1N9 Tel: (514) 350-4300; Fax:'\n",
       "\\item '(514) 350-4314 E-mail: info@ccemtl.org ***********'\n",
       "\\end{enumerate*}\n"
      ],
      "text/markdown": [
       "1. 'North America\\'s integrated electricity market requires cooperation on'\n",
       "2. 'environmental policies Commission for Environmental Cooperation'\n",
       "3. 'releases working paper on North America\\'s electricity market Montreal,'\n",
       "4. '27 November 2001 -- The North American Commission for Environmental'\n",
       "5. 'Cooperation (CEC) is releasing a working paper highlighting the trend'\n",
       "6. 'towards increasing trade, competition and cross-border investment in'\n",
       "7. 'electricity between Canada, Mexico and the United States. It is hoped'\n",
       "8. 'that the working paper, Environmental Challenges and Opportunities in'\n",
       "9. 'the Evolving North American Electricity Market, will stimulate public'\n",
       "10. 'discussion around a CEC symposium of the same title about the need to'\n",
       "11. 'coordinate environmental policies trinationally as a North America-wide'\n",
       "12. 'electricity market develops. The CEC symposium will take place in San'\n",
       "13. 'Diego on 29-30 November, and will bring together leading experts from'\n",
       "14. 'industry, academia, NGOs and the governments of Canada, Mexico and the'\n",
       "15. 'United States to consider the impact of the evolving continental'\n",
       "16. 'electricity market on human health and the environment. \"Our goal [with'\n",
       "17. 'the working paper and the symposium] is to highlight key environmental'\n",
       "18. 'issues that must be addressed as the electricity markets in North'\n",
       "19. 'America become more and more integrated,\" said Janine Ferretti,'\n",
       "20. 'executive director of the CEC. \"We want to stimulate discussion around'\n",
       "21. 'the important policy questions being raised so that countries can'\n",
       "22. 'cooperate in their approach to energy and the environment.\" The CEC, an'\n",
       "23. 'international organization created under an environmental side'\n",
       "24. 'agreement to NAFTA known as the North American Agreement on'\n",
       "25. 'Environmental Cooperation, was established to address regional'\n",
       "26. 'environmental concerns, help prevent potential trade and environmental'\n",
       "27. 'conflicts, and promote the effective enforcement of environmental law.'\n",
       "28. 'The CEC Secretariat believes that greater North American cooperation on'\n",
       "29. 'environmental policies regarding the continental electricity market is'\n",
       "30. 'necessary to: * protect air quality and mitigate climate change, *'\n",
       "31. 'minimize the possibility of environment-based trade disputes, * ensure'\n",
       "32. 'a dependable supply of reasonably priced electricity across North'\n",
       "33. 'America * avoid creation of pollution havens, and * ensure local and'\n",
       "34. 'national environmental measures remain effective. The Changing Market'\n",
       "35. 'The working paper profiles the rapid changing North American'\n",
       "36. 'electricity market. For example, in 2001, the US is projected to export'\n",
       "37. '13.1 thousand gigawatt-hours (GWh) of electricity to Canada and Mexico.'\n",
       "38. 'By 2007, this number is projected to grow to 16.9 thousand GWh of'\n",
       "39. 'electricity. \"Over the past few decades, the North American electricity'\n",
       "40. 'market has developed into a complex array of cross-border transactions'\n",
       "41. 'and relationships,\" said Phil Sharp, former US congressman and chairman'\n",
       "42. 'of the CEC\\'s Electricity Advisory Board. \"We need to achieve this new'\n",
       "43. 'level of cooperation in our environmental approaches as well.\" The'\n",
       "44. 'Environmental Profile of the Electricity Sector The electricity sector'\n",
       "45. 'is the single largest source of nationally reported toxins in the'\n",
       "46. 'United States and Canada and a large source in Mexico. In the US, the'\n",
       "47. 'electricity sector emits approximately 25 percent of all NOx emissions,'\n",
       "48. 'roughly 35 percent of all CO2 emissions, 25 percent of all mercury'\n",
       "49. 'emissions and almost 70 percent of SO2 emissions. These emissions have'\n",
       "50. 'a large impact on airsheds, watersheds and migratory species corridors'\n",
       "51. 'that are often shared between the three North American countries. \"We'\n",
       "52. 'want to discuss the possible outcomes from greater efforts to'\n",
       "53. 'coordinate federal, state or provincial environmental laws and policies'\n",
       "54. 'that relate to the electricity sector,\" said Ferretti. \"How can we'\n",
       "55. 'develop more compatible environmental approaches to help make domestic'\n",
       "56. 'environmental policies more effective?\" The Effects of an Integrated'\n",
       "57. 'Electricity Market One key issue raised in the paper is the effect of'\n",
       "58. 'market integration on the competitiveness of particular fuels such as'\n",
       "59. 'coal, natural gas or renewables. Fuel choice largely determines'\n",
       "60. 'environmental impacts from a specific facility, along with pollution'\n",
       "61. 'control technologies, performance standards and regulations. The paper'\n",
       "62. 'highlights other impacts of a highly competitive market as well. For'\n",
       "63. 'example, concerns about so called \"pollution havens\" arise when'\n",
       "64. 'significant differences in environmental laws or enforcement practices'\n",
       "65. 'induce power companies to locate their operations in jurisdictions with'\n",
       "66. 'lower standards. \"The CEC Secretariat is exploring what additional'\n",
       "67. 'environmental policies will work in this restructured market and how'\n",
       "68. 'these policies can be adapted to ensure that they enhance'\n",
       "69. 'competitiveness and benefit the entire region,\" said Sharp. Because'\n",
       "70. 'trade rules and policy measures directly influence the variables that'\n",
       "71. 'drive a successfully integrated North American electricity market, the'\n",
       "72. 'working paper also addresses fuel choice, technology, pollution control'\n",
       "73. 'strategies and subsidies. The CEC will use the information gathered'\n",
       "74. 'during the discussion period to develop a final report that will be'\n",
       "75. 'submitted to the Council in early 2002. For more information or to view'\n",
       "76. 'the live video webcast of the symposium, please go to:'\n",
       "77. 'http://www.cec.org/electricity. You may download the working paper and'\n",
       "78. 'other supporting documents from:'\n",
       "79. 'http://www.cec.org/programs_projects/other_initiatives/electricity/docs.cfm?varlan=english.'\n",
       "80. 'Commission for Environmental Cooperation 393, rue St-Jacques Ouest,'\n",
       "81. 'Bureau 200 Montréal (Québec) Canada H2Y 1N9 Tel: (514) 350-4300; Fax:'\n",
       "82. '(514) 350-4314 E-mail: info@ccemtl.org ***********'\n",
       "\n",
       "\n"
      ],
      "text/plain": [
       " [1] \"North America's integrated electricity market requires cooperation on\"                      \n",
       " [2] \"environmental policies Commission for Environmental Cooperation\"                            \n",
       " [3] \"releases working paper on North America's electricity market Montreal,\"                     \n",
       " [4] \"27 November 2001 -- The North American Commission for Environmental\"                        \n",
       " [5] \"Cooperation (CEC) is releasing a working paper highlighting the trend\"                      \n",
       " [6] \"towards increasing trade, competition and cross-border investment in\"                       \n",
       " [7] \"electricity between Canada, Mexico and the United States. It is hoped\"                      \n",
       " [8] \"that the working paper, Environmental Challenges and Opportunities in\"                      \n",
       " [9] \"the Evolving North American Electricity Market, will stimulate public\"                      \n",
       "[10] \"discussion around a CEC symposium of the same title about the need to\"                      \n",
       "[11] \"coordinate environmental policies trinationally as a North America-wide\"                    \n",
       "[12] \"electricity market develops. The CEC symposium will take place in San\"                      \n",
       "[13] \"Diego on 29-30 November, and will bring together leading experts from\"                      \n",
       "[14] \"industry, academia, NGOs and the governments of Canada, Mexico and the\"                     \n",
       "[15] \"United States to consider the impact of the evolving continental\"                           \n",
       "[16] \"electricity market on human health and the environment. \\\"Our goal [with\"                   \n",
       "[17] \"the working paper and the symposium] is to highlight key environmental\"                     \n",
       "[18] \"issues that must be addressed as the electricity markets in North\"                          \n",
       "[19] \"America become more and more integrated,\\\" said Janine Ferretti,\"                           \n",
       "[20] \"executive director of the CEC. \\\"We want to stimulate discussion around\"                    \n",
       "[21] \"the important policy questions being raised so that countries can\"                          \n",
       "[22] \"cooperate in their approach to energy and the environment.\\\" The CEC, an\"                   \n",
       "[23] \"international organization created under an environmental side\"                             \n",
       "[24] \"agreement to NAFTA known as the North American Agreement on\"                                \n",
       "[25] \"Environmental Cooperation, was established to address regional\"                             \n",
       "[26] \"environmental concerns, help prevent potential trade and environmental\"                     \n",
       "[27] \"conflicts, and promote the effective enforcement of environmental law.\"                     \n",
       "[28] \"The CEC Secretariat believes that greater North American cooperation on\"                    \n",
       "[29] \"environmental policies regarding the continental electricity market is\"                     \n",
       "[30] \"necessary to: * protect air quality and mitigate climate change, *\"                         \n",
       "[31] \"minimize the possibility of environment-based trade disputes, * ensure\"                     \n",
       "[32] \"a dependable supply of reasonably priced electricity across North\"                          \n",
       "[33] \"America * avoid creation of pollution havens, and * ensure local and\"                       \n",
       "[34] \"national environmental measures remain effective. The Changing Market\"                      \n",
       "[35] \"The working paper profiles the rapid changing North American\"                               \n",
       "[36] \"electricity market. For example, in 2001, the US is projected to export\"                    \n",
       "[37] \"13.1 thousand gigawatt-hours (GWh) of electricity to Canada and Mexico.\"                    \n",
       "[38] \"By 2007, this number is projected to grow to 16.9 thousand GWh of\"                          \n",
       "[39] \"electricity. \\\"Over the past few decades, the North American electricity\"                   \n",
       "[40] \"market has developed into a complex array of cross-border transactions\"                     \n",
       "[41] \"and relationships,\\\" said Phil Sharp, former US congressman and chairman\"                   \n",
       "[42] \"of the CEC's Electricity Advisory Board. \\\"We need to achieve this new\"                     \n",
       "[43] \"level of cooperation in our environmental approaches as well.\\\" The\"                        \n",
       "[44] \"Environmental Profile of the Electricity Sector The electricity sector\"                     \n",
       "[45] \"is the single largest source of nationally reported toxins in the\"                          \n",
       "[46] \"United States and Canada and a large source in Mexico. In the US, the\"                      \n",
       "[47] \"electricity sector emits approximately 25 percent of all NOx emissions,\"                    \n",
       "[48] \"roughly 35 percent of all CO2 emissions, 25 percent of all mercury\"                         \n",
       "[49] \"emissions and almost 70 percent of SO2 emissions. These emissions have\"                     \n",
       "[50] \"a large impact on airsheds, watersheds and migratory species corridors\"                     \n",
       "[51] \"that are often shared between the three North American countries. \\\"We\"                     \n",
       "[52] \"want to discuss the possible outcomes from greater efforts to\"                              \n",
       "[53] \"coordinate federal, state or provincial environmental laws and policies\"                    \n",
       "[54] \"that relate to the electricity sector,\\\" said Ferretti. \\\"How can we\"                       \n",
       "[55] \"develop more compatible environmental approaches to help make domestic\"                     \n",
       "[56] \"environmental policies more effective?\\\" The Effects of an Integrated\"                      \n",
       "[57] \"Electricity Market One key issue raised in the paper is the effect of\"                      \n",
       "[58] \"market integration on the competitiveness of particular fuels such as\"                      \n",
       "[59] \"coal, natural gas or renewables. Fuel choice largely determines\"                            \n",
       "[60] \"environmental impacts from a specific facility, along with pollution\"                       \n",
       "[61] \"control technologies, performance standards and regulations. The paper\"                     \n",
       "[62] \"highlights other impacts of a highly competitive market as well. For\"                       \n",
       "[63] \"example, concerns about so called \\\"pollution havens\\\" arise when\"                          \n",
       "[64] \"significant differences in environmental laws or enforcement practices\"                     \n",
       "[65] \"induce power companies to locate their operations in jurisdictions with\"                    \n",
       "[66] \"lower standards. \\\"The CEC Secretariat is exploring what additional\"                        \n",
       "[67] \"environmental policies will work in this restructured market and how\"                       \n",
       "[68] \"these policies can be adapted to ensure that they enhance\"                                  \n",
       "[69] \"competitiveness and benefit the entire region,\\\" said Sharp. Because\"                       \n",
       "[70] \"trade rules and policy measures directly influence the variables that\"                      \n",
       "[71] \"drive a successfully integrated North American electricity market, the\"                     \n",
       "[72] \"working paper also addresses fuel choice, technology, pollution control\"                    \n",
       "[73] \"strategies and subsidies. The CEC will use the information gathered\"                        \n",
       "[74] \"during the discussion period to develop a final report that will be\"                        \n",
       "[75] \"submitted to the Council in early 2002. For more information or to view\"                    \n",
       "[76] \"the live video webcast of the symposium, please go to:\"                                     \n",
       "[77] \"http://www.cec.org/electricity. You may download the working paper and\"                     \n",
       "[78] \"other supporting documents from:\"                                                           \n",
       "[79] \"http://www.cec.org/programs_projects/other_initiatives/electricity/docs.cfm?varlan=english.\"\n",
       "[80] \"Commission for Environmental Cooperation 393, rue St-Jacques Ouest,\"                        \n",
       "[81] \"Bureau 200 Montreal (Quebec) Canada H2Y 1N9 Tel: (514) 350-4300; Fax:\"                      \n",
       "[82] \"(514) 350-4314 E-mail: info@ccemtl.org ***********\"                                         "
      ]
     },
     "metadata": {},
     "output_type": "display_data"
    }
   ],
   "source": [
    "strwrap(emails$email[1])"
   ]
  },
  {
   "cell_type": "code",
   "execution_count": 19,
   "metadata": {},
   "outputs": [
    {
     "data": {
      "text/html": [
       "0"
      ],
      "text/latex": [
       "0"
      ],
      "text/markdown": [
       "0"
      ],
      "text/plain": [
       "[1] 0"
      ]
     },
     "metadata": {},
     "output_type": "display_data"
    }
   ],
   "source": [
    "emails$responsive[1]"
   ]
  },
  {
   "cell_type": "code",
   "execution_count": 20,
   "metadata": {},
   "outputs": [
    {
     "data": {
      "text/html": [
       "<style>\n",
       ".list-inline {list-style: none; margin:0; padding: 0}\n",
       ".list-inline>li {display: inline-block}\n",
       ".list-inline>li:not(:last-child)::after {content: \"\\00b7\"; padding: 0 .5ex}\n",
       "</style>\n",
       "<ol class=list-inline><li>'FYI -----Original Message----- From: \"Ginny Feliciano\"'</li><li>'&lt;gfeliciano@earthlink.net&gt;@ENRON'</li><li>'[mailto:IMCEANOTES-+22Ginny+20Feliciano+22+20+3Cgfeliciano+40earthlink+2Enet+3E+40ENRON@ENRON.com]'</li><li>'Sent: Thursday, June 28, 2001 3:40 PM To: Silvia Woodard; Paul Runci;'</li><li>'Katrin Thomas; John A. Riggs; Kurt E. Yeager; Gregg Ward; Philip K.'</li><li>'Verleger; Admiral Richard H. Truly; Susan Tomasky; Tsutomu Toichi;'</li><li>'Susan F. Tierney; John A. Strom; Gerald M. Stokes; Kevin Stoffer;'</li><li>'Edward M. Stern; Irwin M. Stelzer; Hoff Stauffer; Steven R. Spencer;'</li><li>'Robert Smart; Bernie Schroeder; George A. Schreiber, Jr.; Robert N.'</li><li>'Schock; James R. Schlesinger; Roger W. Sant; John W. Rowe; James E.'</li><li>'Rogers; John F. Riordan; James Ragland; Frank J. Puzio; Tony Prophet;'</li><li>'Robert Priddle; Michael Price; John B. Phillips; Robert Perciasepe; D.'</li><li>'Louis Peoples; Robert Nordhaus; Walker Nolan; William A. Nitze;'</li><li>'Kazutoshi Muramatsu; Ernest J. Moniz; Nancy C. Mohn; Callum McCarthy;'</li><li>'Thomas R. Mason; Edward P. Martin; Jan W. Mares; James K. Malernee; S.'</li><li>'David Freeman; Edwin Lupberger; Amory B. Lovins; Lynn LeMaster; Hoesung'</li><li>'Lee; Lay, Kenneth; Lester Lave; Wilfrid L. Kohl; Soo Kyung Kim; Melanie'</li><li>'Kenderdine; Paul L. Joskow; Ira H. Jolles; Frederick E. John; John'</li><li>'Jimison; William W. Hogan; Robert A. Hefner, III; James K. Gray; Craig'</li><li>'G. Goodman; Charles F. Goff, Jr.; Jerry D. Geist; Fritz Gautschi; Larry'</li><li>'G. Garberding; Roger Gale; William Fulkerson; Stephen E. Frank; George'</li><li>'Frampton; Juan Eibenschutz; Theodore R. Eck; Congressman John Dingell;'</li><li>'Brian N. Dickie; William E. Dickenson; Etienne Deffarges; Wilfried'</li><li>'Czernie; Loren C. Cox; Anne Cleary; Bernard H. Cherry; Red Cavaney;'</li><li>'Ralph Cavanagh; Thomas R. Casten; Peter Bradford; Peter D. Blair; Ellen'</li><li>'Berman; Roger A. Berliner; Michael L. Beatty; Vicky A. Bailey; Merribel'</li><li>'S. Ayres; Catherine G. Abbott Subject: Energy Deregulation - California'</li><li>'State Auditor Report Attached is my report prepared on behalf of the'</li><li>'California State Auditor. I look forward to seeing you at The Aspen'</li><li>'Institute Energy Policy Forum. Charles J. Cicchetti Pacific Economics'</li><li>'Group, LLC - ca report new.pdf ***********'</li></ol>\n"
      ],
      "text/latex": [
       "\\begin{enumerate*}\n",
       "\\item 'FYI -----Original Message----- From: \"Ginny Feliciano\"'\n",
       "\\item '<gfeliciano@earthlink.net>@ENRON'\n",
       "\\item '{[}mailto:IMCEANOTES-+22Ginny+20Feliciano+22+20+3Cgfeliciano+40earthlink+2Enet+3E+40ENRON@ENRON.com{]}'\n",
       "\\item 'Sent: Thursday, June 28, 2001 3:40 PM To: Silvia Woodard; Paul Runci;'\n",
       "\\item 'Katrin Thomas; John A. Riggs; Kurt E. Yeager; Gregg Ward; Philip K.'\n",
       "\\item 'Verleger; Admiral Richard H. Truly; Susan Tomasky; Tsutomu Toichi;'\n",
       "\\item 'Susan F. Tierney; John A. Strom; Gerald M. Stokes; Kevin Stoffer;'\n",
       "\\item 'Edward M. Stern; Irwin M. Stelzer; Hoff Stauffer; Steven R. Spencer;'\n",
       "\\item 'Robert Smart; Bernie Schroeder; George A. Schreiber, Jr.; Robert N.'\n",
       "\\item 'Schock; James R. Schlesinger; Roger W. Sant; John W. Rowe; James E.'\n",
       "\\item 'Rogers; John F. Riordan; James Ragland; Frank J. Puzio; Tony Prophet;'\n",
       "\\item 'Robert Priddle; Michael Price; John B. Phillips; Robert Perciasepe; D.'\n",
       "\\item 'Louis Peoples; Robert Nordhaus; Walker Nolan; William A. Nitze;'\n",
       "\\item 'Kazutoshi Muramatsu; Ernest J. Moniz; Nancy C. Mohn; Callum McCarthy;'\n",
       "\\item 'Thomas R. Mason; Edward P. Martin; Jan W. Mares; James K. Malernee; S.'\n",
       "\\item 'David Freeman; Edwin Lupberger; Amory B. Lovins; Lynn LeMaster; Hoesung'\n",
       "\\item 'Lee; Lay, Kenneth; Lester Lave; Wilfrid L. Kohl; Soo Kyung Kim; Melanie'\n",
       "\\item 'Kenderdine; Paul L. Joskow; Ira H. Jolles; Frederick E. John; John'\n",
       "\\item 'Jimison; William W. Hogan; Robert A. Hefner, III; James K. Gray; Craig'\n",
       "\\item 'G. Goodman; Charles F. Goff, Jr.; Jerry D. Geist; Fritz Gautschi; Larry'\n",
       "\\item 'G. Garberding; Roger Gale; William Fulkerson; Stephen E. Frank; George'\n",
       "\\item 'Frampton; Juan Eibenschutz; Theodore R. Eck; Congressman John Dingell;'\n",
       "\\item 'Brian N. Dickie; William E. Dickenson; Etienne Deffarges; Wilfried'\n",
       "\\item 'Czernie; Loren C. Cox; Anne Cleary; Bernard H. Cherry; Red Cavaney;'\n",
       "\\item 'Ralph Cavanagh; Thomas R. Casten; Peter Bradford; Peter D. Blair; Ellen'\n",
       "\\item 'Berman; Roger A. Berliner; Michael L. Beatty; Vicky A. Bailey; Merribel'\n",
       "\\item 'S. Ayres; Catherine G. Abbott Subject: Energy Deregulation - California'\n",
       "\\item 'State Auditor Report Attached is my report prepared on behalf of the'\n",
       "\\item 'California State Auditor. I look forward to seeing you at The Aspen'\n",
       "\\item 'Institute Energy Policy Forum. Charles J. Cicchetti Pacific Economics'\n",
       "\\item 'Group, LLC - ca report new.pdf ***********'\n",
       "\\end{enumerate*}\n"
      ],
      "text/markdown": [
       "1. 'FYI -----Original Message----- From: \"Ginny Feliciano\"'\n",
       "2. '&lt;gfeliciano@earthlink.net&gt;@ENRON'\n",
       "3. '[mailto:IMCEANOTES-+22Ginny+20Feliciano+22+20+3Cgfeliciano+40earthlink+2Enet+3E+40ENRON@ENRON.com]'\n",
       "4. 'Sent: Thursday, June 28, 2001 3:40 PM To: Silvia Woodard; Paul Runci;'\n",
       "5. 'Katrin Thomas; John A. Riggs; Kurt E. Yeager; Gregg Ward; Philip K.'\n",
       "6. 'Verleger; Admiral Richard H. Truly; Susan Tomasky; Tsutomu Toichi;'\n",
       "7. 'Susan F. Tierney; John A. Strom; Gerald M. Stokes; Kevin Stoffer;'\n",
       "8. 'Edward M. Stern; Irwin M. Stelzer; Hoff Stauffer; Steven R. Spencer;'\n",
       "9. 'Robert Smart; Bernie Schroeder; George A. Schreiber, Jr.; Robert N.'\n",
       "10. 'Schock; James R. Schlesinger; Roger W. Sant; John W. Rowe; James E.'\n",
       "11. 'Rogers; John F. Riordan; James Ragland; Frank J. Puzio; Tony Prophet;'\n",
       "12. 'Robert Priddle; Michael Price; John B. Phillips; Robert Perciasepe; D.'\n",
       "13. 'Louis Peoples; Robert Nordhaus; Walker Nolan; William A. Nitze;'\n",
       "14. 'Kazutoshi Muramatsu; Ernest J. Moniz; Nancy C. Mohn; Callum McCarthy;'\n",
       "15. 'Thomas R. Mason; Edward P. Martin; Jan W. Mares; James K. Malernee; S.'\n",
       "16. 'David Freeman; Edwin Lupberger; Amory B. Lovins; Lynn LeMaster; Hoesung'\n",
       "17. 'Lee; Lay, Kenneth; Lester Lave; Wilfrid L. Kohl; Soo Kyung Kim; Melanie'\n",
       "18. 'Kenderdine; Paul L. Joskow; Ira H. Jolles; Frederick E. John; John'\n",
       "19. 'Jimison; William W. Hogan; Robert A. Hefner, III; James K. Gray; Craig'\n",
       "20. 'G. Goodman; Charles F. Goff, Jr.; Jerry D. Geist; Fritz Gautschi; Larry'\n",
       "21. 'G. Garberding; Roger Gale; William Fulkerson; Stephen E. Frank; George'\n",
       "22. 'Frampton; Juan Eibenschutz; Theodore R. Eck; Congressman John Dingell;'\n",
       "23. 'Brian N. Dickie; William E. Dickenson; Etienne Deffarges; Wilfried'\n",
       "24. 'Czernie; Loren C. Cox; Anne Cleary; Bernard H. Cherry; Red Cavaney;'\n",
       "25. 'Ralph Cavanagh; Thomas R. Casten; Peter Bradford; Peter D. Blair; Ellen'\n",
       "26. 'Berman; Roger A. Berliner; Michael L. Beatty; Vicky A. Bailey; Merribel'\n",
       "27. 'S. Ayres; Catherine G. Abbott Subject: Energy Deregulation - California'\n",
       "28. 'State Auditor Report Attached is my report prepared on behalf of the'\n",
       "29. 'California State Auditor. I look forward to seeing you at The Aspen'\n",
       "30. 'Institute Energy Policy Forum. Charles J. Cicchetti Pacific Economics'\n",
       "31. 'Group, LLC - ca report new.pdf ***********'\n",
       "\n",
       "\n"
      ],
      "text/plain": [
       " [1] \"FYI -----Original Message----- From: \\\"Ginny Feliciano\\\"\"                                          \n",
       " [2] \"<gfeliciano@earthlink.net>@ENRON\"                                                                  \n",
       " [3] \"[mailto:IMCEANOTES-+22Ginny+20Feliciano+22+20+3Cgfeliciano+40earthlink+2Enet+3E+40ENRON@ENRON.com]\"\n",
       " [4] \"Sent: Thursday, June 28, 2001 3:40 PM To: Silvia Woodard; Paul Runci;\"                             \n",
       " [5] \"Katrin Thomas; John A. Riggs; Kurt E. Yeager; Gregg Ward; Philip K.\"                               \n",
       " [6] \"Verleger; Admiral Richard H. Truly; Susan Tomasky; Tsutomu Toichi;\"                                \n",
       " [7] \"Susan F. Tierney; John A. Strom; Gerald M. Stokes; Kevin Stoffer;\"                                 \n",
       " [8] \"Edward M. Stern; Irwin M. Stelzer; Hoff Stauffer; Steven R. Spencer;\"                              \n",
       " [9] \"Robert Smart; Bernie Schroeder; George A. Schreiber, Jr.; Robert N.\"                               \n",
       "[10] \"Schock; James R. Schlesinger; Roger W. Sant; John W. Rowe; James E.\"                               \n",
       "[11] \"Rogers; John F. Riordan; James Ragland; Frank J. Puzio; Tony Prophet;\"                             \n",
       "[12] \"Robert Priddle; Michael Price; John B. Phillips; Robert Perciasepe; D.\"                            \n",
       "[13] \"Louis Peoples; Robert Nordhaus; Walker Nolan; William A. Nitze;\"                                   \n",
       "[14] \"Kazutoshi Muramatsu; Ernest J. Moniz; Nancy C. Mohn; Callum McCarthy;\"                             \n",
       "[15] \"Thomas R. Mason; Edward P. Martin; Jan W. Mares; James K. Malernee; S.\"                            \n",
       "[16] \"David Freeman; Edwin Lupberger; Amory B. Lovins; Lynn LeMaster; Hoesung\"                           \n",
       "[17] \"Lee; Lay, Kenneth; Lester Lave; Wilfrid L. Kohl; Soo Kyung Kim; Melanie\"                           \n",
       "[18] \"Kenderdine; Paul L. Joskow; Ira H. Jolles; Frederick E. John; John\"                                \n",
       "[19] \"Jimison; William W. Hogan; Robert A. Hefner, III; James K. Gray; Craig\"                            \n",
       "[20] \"G. Goodman; Charles F. Goff, Jr.; Jerry D. Geist; Fritz Gautschi; Larry\"                           \n",
       "[21] \"G. Garberding; Roger Gale; William Fulkerson; Stephen E. Frank; George\"                            \n",
       "[22] \"Frampton; Juan Eibenschutz; Theodore R. Eck; Congressman John Dingell;\"                            \n",
       "[23] \"Brian N. Dickie; William E. Dickenson; Etienne Deffarges; Wilfried\"                                \n",
       "[24] \"Czernie; Loren C. Cox; Anne Cleary; Bernard H. Cherry; Red Cavaney;\"                               \n",
       "[25] \"Ralph Cavanagh; Thomas R. Casten; Peter Bradford; Peter D. Blair; Ellen\"                           \n",
       "[26] \"Berman; Roger A. Berliner; Michael L. Beatty; Vicky A. Bailey; Merribel\"                           \n",
       "[27] \"S. Ayres; Catherine G. Abbott Subject: Energy Deregulation - California\"                           \n",
       "[28] \"State Auditor Report Attached is my report prepared on behalf of the\"                              \n",
       "[29] \"California State Auditor. I look forward to seeing you at The Aspen\"                               \n",
       "[30] \"Institute Energy Policy Forum. Charles J. Cicchetti Pacific Economics\"                             \n",
       "[31] \"Group, LLC - ca report new.pdf ***********\"                                                        "
      ]
     },
     "metadata": {},
     "output_type": "display_data"
    }
   ],
   "source": [
    "strwrap(emails$email[2])"
   ]
  },
  {
   "cell_type": "code",
   "execution_count": 21,
   "metadata": {},
   "outputs": [
    {
     "data": {
      "text/html": [
       "1"
      ],
      "text/latex": [
       "1"
      ],
      "text/markdown": [
       "1"
      ],
      "text/plain": [
       "[1] 1"
      ]
     },
     "metadata": {},
     "output_type": "display_data"
    }
   ],
   "source": [
    "emails$responsive[2]"
   ]
  },
  {
   "cell_type": "code",
   "execution_count": 22,
   "metadata": {},
   "outputs": [
    {
     "data": {
      "text/plain": [
       "\n",
       "  0   1 \n",
       "716 139 "
      ]
     },
     "metadata": {},
     "output_type": "display_data"
    }
   ],
   "source": [
    "table(emails$responsive)"
   ]
  },
  {
   "cell_type": "markdown",
   "metadata": {},
   "source": [
    "### Pre-Processing"
   ]
  },
  {
   "cell_type": "markdown",
   "metadata": {},
   "source": [
    "Requires to install:\n",
    "```R\n",
    "install.packages(\"tm\")\n",
    "install.packages(\"SnowballC\")\n",
    "```"
   ]
  },
  {
   "cell_type": "code",
   "execution_count": 32,
   "metadata": {},
   "outputs": [],
   "source": [
    "library(\"tm\")\n",
    "library(\"SnowballC\")"
   ]
  },
  {
   "cell_type": "code",
   "execution_count": 33,
   "metadata": {},
   "outputs": [],
   "source": [
    "corpus = VCorpus(VectorSource(emails$email))"
   ]
  },
  {
   "cell_type": "code",
   "execution_count": 34,
   "metadata": {},
   "outputs": [
    {
     "data": {
      "text/html": [
       "<style>\n",
       ".list-inline {list-style: none; margin:0; padding: 0}\n",
       ".list-inline>li {display: inline-block}\n",
       ".list-inline>li:not(:last-child)::after {content: \"\\00b7\"; padding: 0 .5ex}\n",
       "</style>\n",
       "<ol class=list-inline><li>'North America\\'s integrated electricity market requires cooperation on'</li><li>'environmental policies Commission for Environmental Cooperation'</li><li>'releases working paper on North America\\'s electricity market Montreal,'</li><li>'27 November 2001 -- The North American Commission for Environmental'</li><li>'Cooperation (CEC) is releasing a working paper highlighting the trend'</li><li>'towards increasing trade, competition and cross-border investment in'</li><li>'electricity between Canada, Mexico and the United States. It is hoped'</li><li>'that the working paper, Environmental Challenges and Opportunities in'</li><li>'the Evolving North American Electricity Market, will stimulate public'</li><li>'discussion around a CEC symposium of the same title about the need to'</li><li>'coordinate environmental policies trinationally as a North America-wide'</li><li>'electricity market develops. The CEC symposium will take place in San'</li><li>'Diego on 29-30 November, and will bring together leading experts from'</li><li>'industry, academia, NGOs and the governments of Canada, Mexico and the'</li><li>'United States to consider the impact of the evolving continental'</li><li>'electricity market on human health and the environment. \"Our goal [with'</li><li>'the working paper and the symposium] is to highlight key environmental'</li><li>'issues that must be addressed as the electricity markets in North'</li><li>'America become more and more integrated,\" said Janine Ferretti,'</li><li>'executive director of the CEC. \"We want to stimulate discussion around'</li><li>'the important policy questions being raised so that countries can'</li><li>'cooperate in their approach to energy and the environment.\" The CEC, an'</li><li>'international organization created under an environmental side'</li><li>'agreement to NAFTA known as the North American Agreement on'</li><li>'Environmental Cooperation, was established to address regional'</li><li>'environmental concerns, help prevent potential trade and environmental'</li><li>'conflicts, and promote the effective enforcement of environmental law.'</li><li>'The CEC Secretariat believes that greater North American cooperation on'</li><li>'environmental policies regarding the continental electricity market is'</li><li>'necessary to: * protect air quality and mitigate climate change, *'</li><li>'minimize the possibility of environment-based trade disputes, * ensure'</li><li>'a dependable supply of reasonably priced electricity across North'</li><li>'America * avoid creation of pollution havens, and * ensure local and'</li><li>'national environmental measures remain effective. The Changing Market'</li><li>'The working paper profiles the rapid changing North American'</li><li>'electricity market. For example, in 2001, the US is projected to export'</li><li>'13.1 thousand gigawatt-hours (GWh) of electricity to Canada and Mexico.'</li><li>'By 2007, this number is projected to grow to 16.9 thousand GWh of'</li><li>'electricity. \"Over the past few decades, the North American electricity'</li><li>'market has developed into a complex array of cross-border transactions'</li><li>'and relationships,\" said Phil Sharp, former US congressman and chairman'</li><li>'of the CEC\\'s Electricity Advisory Board. \"We need to achieve this new'</li><li>'level of cooperation in our environmental approaches as well.\" The'</li><li>'Environmental Profile of the Electricity Sector The electricity sector'</li><li>'is the single largest source of nationally reported toxins in the'</li><li>'United States and Canada and a large source in Mexico. In the US, the'</li><li>'electricity sector emits approximately 25 percent of all NOx emissions,'</li><li>'roughly 35 percent of all CO2 emissions, 25 percent of all mercury'</li><li>'emissions and almost 70 percent of SO2 emissions. These emissions have'</li><li>'a large impact on airsheds, watersheds and migratory species corridors'</li><li>'that are often shared between the three North American countries. \"We'</li><li>'want to discuss the possible outcomes from greater efforts to'</li><li>'coordinate federal, state or provincial environmental laws and policies'</li><li>'that relate to the electricity sector,\" said Ferretti. \"How can we'</li><li>'develop more compatible environmental approaches to help make domestic'</li><li>'environmental policies more effective?\" The Effects of an Integrated'</li><li>'Electricity Market One key issue raised in the paper is the effect of'</li><li>'market integration on the competitiveness of particular fuels such as'</li><li>'coal, natural gas or renewables. Fuel choice largely determines'</li><li>'environmental impacts from a specific facility, along with pollution'</li><li>'control technologies, performance standards and regulations. The paper'</li><li>'highlights other impacts of a highly competitive market as well. For'</li><li>'example, concerns about so called \"pollution havens\" arise when'</li><li>'significant differences in environmental laws or enforcement practices'</li><li>'induce power companies to locate their operations in jurisdictions with'</li><li>'lower standards. \"The CEC Secretariat is exploring what additional'</li><li>'environmental policies will work in this restructured market and how'</li><li>'these policies can be adapted to ensure that they enhance'</li><li>'competitiveness and benefit the entire region,\" said Sharp. Because'</li><li>'trade rules and policy measures directly influence the variables that'</li><li>'drive a successfully integrated North American electricity market, the'</li><li>'working paper also addresses fuel choice, technology, pollution control'</li><li>'strategies and subsidies. The CEC will use the information gathered'</li><li>'during the discussion period to develop a final report that will be'</li><li>'submitted to the Council in early 2002. For more information or to view'</li><li>'the live video webcast of the symposium, please go to:'</li><li>'http://www.cec.org/electricity. You may download the working paper and'</li><li>'other supporting documents from:'</li><li>'http://www.cec.org/programs_projects/other_initiatives/electricity/docs.cfm?varlan=english.'</li><li>'Commission for Environmental Cooperation 393, rue St-Jacques Ouest,'</li><li>'Bureau 200 Montréal (Québec) Canada H2Y 1N9 Tel: (514) 350-4300; Fax:'</li><li>'(514) 350-4314 E-mail: info@ccemtl.org ***********'</li></ol>\n"
      ],
      "text/latex": [
       "\\begin{enumerate*}\n",
       "\\item 'North America\\textbackslash{}'s integrated electricity market requires cooperation on'\n",
       "\\item 'environmental policies Commission for Environmental Cooperation'\n",
       "\\item 'releases working paper on North America\\textbackslash{}'s electricity market Montreal,'\n",
       "\\item '27 November 2001 -- The North American Commission for Environmental'\n",
       "\\item 'Cooperation (CEC) is releasing a working paper highlighting the trend'\n",
       "\\item 'towards increasing trade, competition and cross-border investment in'\n",
       "\\item 'electricity between Canada, Mexico and the United States. It is hoped'\n",
       "\\item 'that the working paper, Environmental Challenges and Opportunities in'\n",
       "\\item 'the Evolving North American Electricity Market, will stimulate public'\n",
       "\\item 'discussion around a CEC symposium of the same title about the need to'\n",
       "\\item 'coordinate environmental policies trinationally as a North America-wide'\n",
       "\\item 'electricity market develops. The CEC symposium will take place in San'\n",
       "\\item 'Diego on 29-30 November, and will bring together leading experts from'\n",
       "\\item 'industry, academia, NGOs and the governments of Canada, Mexico and the'\n",
       "\\item 'United States to consider the impact of the evolving continental'\n",
       "\\item 'electricity market on human health and the environment. \"Our goal {[}with'\n",
       "\\item 'the working paper and the symposium{]} is to highlight key environmental'\n",
       "\\item 'issues that must be addressed as the electricity markets in North'\n",
       "\\item 'America become more and more integrated,\" said Janine Ferretti,'\n",
       "\\item 'executive director of the CEC. \"We want to stimulate discussion around'\n",
       "\\item 'the important policy questions being raised so that countries can'\n",
       "\\item 'cooperate in their approach to energy and the environment.\" The CEC, an'\n",
       "\\item 'international organization created under an environmental side'\n",
       "\\item 'agreement to NAFTA known as the North American Agreement on'\n",
       "\\item 'Environmental Cooperation, was established to address regional'\n",
       "\\item 'environmental concerns, help prevent potential trade and environmental'\n",
       "\\item 'conflicts, and promote the effective enforcement of environmental law.'\n",
       "\\item 'The CEC Secretariat believes that greater North American cooperation on'\n",
       "\\item 'environmental policies regarding the continental electricity market is'\n",
       "\\item 'necessary to: * protect air quality and mitigate climate change, *'\n",
       "\\item 'minimize the possibility of environment-based trade disputes, * ensure'\n",
       "\\item 'a dependable supply of reasonably priced electricity across North'\n",
       "\\item 'America * avoid creation of pollution havens, and * ensure local and'\n",
       "\\item 'national environmental measures remain effective. The Changing Market'\n",
       "\\item 'The working paper profiles the rapid changing North American'\n",
       "\\item 'electricity market. For example, in 2001, the US is projected to export'\n",
       "\\item '13.1 thousand gigawatt-hours (GWh) of electricity to Canada and Mexico.'\n",
       "\\item 'By 2007, this number is projected to grow to 16.9 thousand GWh of'\n",
       "\\item 'electricity. \"Over the past few decades, the North American electricity'\n",
       "\\item 'market has developed into a complex array of cross-border transactions'\n",
       "\\item 'and relationships,\" said Phil Sharp, former US congressman and chairman'\n",
       "\\item 'of the CEC\\textbackslash{}'s Electricity Advisory Board. \"We need to achieve this new'\n",
       "\\item 'level of cooperation in our environmental approaches as well.\" The'\n",
       "\\item 'Environmental Profile of the Electricity Sector The electricity sector'\n",
       "\\item 'is the single largest source of nationally reported toxins in the'\n",
       "\\item 'United States and Canada and a large source in Mexico. In the US, the'\n",
       "\\item 'electricity sector emits approximately 25 percent of all NOx emissions,'\n",
       "\\item 'roughly 35 percent of all CO2 emissions, 25 percent of all mercury'\n",
       "\\item 'emissions and almost 70 percent of SO2 emissions. These emissions have'\n",
       "\\item 'a large impact on airsheds, watersheds and migratory species corridors'\n",
       "\\item 'that are often shared between the three North American countries. \"We'\n",
       "\\item 'want to discuss the possible outcomes from greater efforts to'\n",
       "\\item 'coordinate federal, state or provincial environmental laws and policies'\n",
       "\\item 'that relate to the electricity sector,\" said Ferretti. \"How can we'\n",
       "\\item 'develop more compatible environmental approaches to help make domestic'\n",
       "\\item 'environmental policies more effective?\" The Effects of an Integrated'\n",
       "\\item 'Electricity Market One key issue raised in the paper is the effect of'\n",
       "\\item 'market integration on the competitiveness of particular fuels such as'\n",
       "\\item 'coal, natural gas or renewables. Fuel choice largely determines'\n",
       "\\item 'environmental impacts from a specific facility, along with pollution'\n",
       "\\item 'control technologies, performance standards and regulations. The paper'\n",
       "\\item 'highlights other impacts of a highly competitive market as well. For'\n",
       "\\item 'example, concerns about so called \"pollution havens\" arise when'\n",
       "\\item 'significant differences in environmental laws or enforcement practices'\n",
       "\\item 'induce power companies to locate their operations in jurisdictions with'\n",
       "\\item 'lower standards. \"The CEC Secretariat is exploring what additional'\n",
       "\\item 'environmental policies will work in this restructured market and how'\n",
       "\\item 'these policies can be adapted to ensure that they enhance'\n",
       "\\item 'competitiveness and benefit the entire region,\" said Sharp. Because'\n",
       "\\item 'trade rules and policy measures directly influence the variables that'\n",
       "\\item 'drive a successfully integrated North American electricity market, the'\n",
       "\\item 'working paper also addresses fuel choice, technology, pollution control'\n",
       "\\item 'strategies and subsidies. The CEC will use the information gathered'\n",
       "\\item 'during the discussion period to develop a final report that will be'\n",
       "\\item 'submitted to the Council in early 2002. For more information or to view'\n",
       "\\item 'the live video webcast of the symposium, please go to:'\n",
       "\\item 'http://www.cec.org/electricity. You may download the working paper and'\n",
       "\\item 'other supporting documents from:'\n",
       "\\item 'http://www.cec.org/programs\\_projects/other\\_initiatives/electricity/docs.cfm?varlan=english.'\n",
       "\\item 'Commission for Environmental Cooperation 393, rue St-Jacques Ouest,'\n",
       "\\item 'Bureau 200 Montréal (Québec) Canada H2Y 1N9 Tel: (514) 350-4300; Fax:'\n",
       "\\item '(514) 350-4314 E-mail: info@ccemtl.org ***********'\n",
       "\\end{enumerate*}\n"
      ],
      "text/markdown": [
       "1. 'North America\\'s integrated electricity market requires cooperation on'\n",
       "2. 'environmental policies Commission for Environmental Cooperation'\n",
       "3. 'releases working paper on North America\\'s electricity market Montreal,'\n",
       "4. '27 November 2001 -- The North American Commission for Environmental'\n",
       "5. 'Cooperation (CEC) is releasing a working paper highlighting the trend'\n",
       "6. 'towards increasing trade, competition and cross-border investment in'\n",
       "7. 'electricity between Canada, Mexico and the United States. It is hoped'\n",
       "8. 'that the working paper, Environmental Challenges and Opportunities in'\n",
       "9. 'the Evolving North American Electricity Market, will stimulate public'\n",
       "10. 'discussion around a CEC symposium of the same title about the need to'\n",
       "11. 'coordinate environmental policies trinationally as a North America-wide'\n",
       "12. 'electricity market develops. The CEC symposium will take place in San'\n",
       "13. 'Diego on 29-30 November, and will bring together leading experts from'\n",
       "14. 'industry, academia, NGOs and the governments of Canada, Mexico and the'\n",
       "15. 'United States to consider the impact of the evolving continental'\n",
       "16. 'electricity market on human health and the environment. \"Our goal [with'\n",
       "17. 'the working paper and the symposium] is to highlight key environmental'\n",
       "18. 'issues that must be addressed as the electricity markets in North'\n",
       "19. 'America become more and more integrated,\" said Janine Ferretti,'\n",
       "20. 'executive director of the CEC. \"We want to stimulate discussion around'\n",
       "21. 'the important policy questions being raised so that countries can'\n",
       "22. 'cooperate in their approach to energy and the environment.\" The CEC, an'\n",
       "23. 'international organization created under an environmental side'\n",
       "24. 'agreement to NAFTA known as the North American Agreement on'\n",
       "25. 'Environmental Cooperation, was established to address regional'\n",
       "26. 'environmental concerns, help prevent potential trade and environmental'\n",
       "27. 'conflicts, and promote the effective enforcement of environmental law.'\n",
       "28. 'The CEC Secretariat believes that greater North American cooperation on'\n",
       "29. 'environmental policies regarding the continental electricity market is'\n",
       "30. 'necessary to: * protect air quality and mitigate climate change, *'\n",
       "31. 'minimize the possibility of environment-based trade disputes, * ensure'\n",
       "32. 'a dependable supply of reasonably priced electricity across North'\n",
       "33. 'America * avoid creation of pollution havens, and * ensure local and'\n",
       "34. 'national environmental measures remain effective. The Changing Market'\n",
       "35. 'The working paper profiles the rapid changing North American'\n",
       "36. 'electricity market. For example, in 2001, the US is projected to export'\n",
       "37. '13.1 thousand gigawatt-hours (GWh) of electricity to Canada and Mexico.'\n",
       "38. 'By 2007, this number is projected to grow to 16.9 thousand GWh of'\n",
       "39. 'electricity. \"Over the past few decades, the North American electricity'\n",
       "40. 'market has developed into a complex array of cross-border transactions'\n",
       "41. 'and relationships,\" said Phil Sharp, former US congressman and chairman'\n",
       "42. 'of the CEC\\'s Electricity Advisory Board. \"We need to achieve this new'\n",
       "43. 'level of cooperation in our environmental approaches as well.\" The'\n",
       "44. 'Environmental Profile of the Electricity Sector The electricity sector'\n",
       "45. 'is the single largest source of nationally reported toxins in the'\n",
       "46. 'United States and Canada and a large source in Mexico. In the US, the'\n",
       "47. 'electricity sector emits approximately 25 percent of all NOx emissions,'\n",
       "48. 'roughly 35 percent of all CO2 emissions, 25 percent of all mercury'\n",
       "49. 'emissions and almost 70 percent of SO2 emissions. These emissions have'\n",
       "50. 'a large impact on airsheds, watersheds and migratory species corridors'\n",
       "51. 'that are often shared between the three North American countries. \"We'\n",
       "52. 'want to discuss the possible outcomes from greater efforts to'\n",
       "53. 'coordinate federal, state or provincial environmental laws and policies'\n",
       "54. 'that relate to the electricity sector,\" said Ferretti. \"How can we'\n",
       "55. 'develop more compatible environmental approaches to help make domestic'\n",
       "56. 'environmental policies more effective?\" The Effects of an Integrated'\n",
       "57. 'Electricity Market One key issue raised in the paper is the effect of'\n",
       "58. 'market integration on the competitiveness of particular fuels such as'\n",
       "59. 'coal, natural gas or renewables. Fuel choice largely determines'\n",
       "60. 'environmental impacts from a specific facility, along with pollution'\n",
       "61. 'control technologies, performance standards and regulations. The paper'\n",
       "62. 'highlights other impacts of a highly competitive market as well. For'\n",
       "63. 'example, concerns about so called \"pollution havens\" arise when'\n",
       "64. 'significant differences in environmental laws or enforcement practices'\n",
       "65. 'induce power companies to locate their operations in jurisdictions with'\n",
       "66. 'lower standards. \"The CEC Secretariat is exploring what additional'\n",
       "67. 'environmental policies will work in this restructured market and how'\n",
       "68. 'these policies can be adapted to ensure that they enhance'\n",
       "69. 'competitiveness and benefit the entire region,\" said Sharp. Because'\n",
       "70. 'trade rules and policy measures directly influence the variables that'\n",
       "71. 'drive a successfully integrated North American electricity market, the'\n",
       "72. 'working paper also addresses fuel choice, technology, pollution control'\n",
       "73. 'strategies and subsidies. The CEC will use the information gathered'\n",
       "74. 'during the discussion period to develop a final report that will be'\n",
       "75. 'submitted to the Council in early 2002. For more information or to view'\n",
       "76. 'the live video webcast of the symposium, please go to:'\n",
       "77. 'http://www.cec.org/electricity. You may download the working paper and'\n",
       "78. 'other supporting documents from:'\n",
       "79. 'http://www.cec.org/programs_projects/other_initiatives/electricity/docs.cfm?varlan=english.'\n",
       "80. 'Commission for Environmental Cooperation 393, rue St-Jacques Ouest,'\n",
       "81. 'Bureau 200 Montréal (Québec) Canada H2Y 1N9 Tel: (514) 350-4300; Fax:'\n",
       "82. '(514) 350-4314 E-mail: info@ccemtl.org ***********'\n",
       "\n",
       "\n"
      ],
      "text/plain": [
       " [1] \"North America's integrated electricity market requires cooperation on\"                      \n",
       " [2] \"environmental policies Commission for Environmental Cooperation\"                            \n",
       " [3] \"releases working paper on North America's electricity market Montreal,\"                     \n",
       " [4] \"27 November 2001 -- The North American Commission for Environmental\"                        \n",
       " [5] \"Cooperation (CEC) is releasing a working paper highlighting the trend\"                      \n",
       " [6] \"towards increasing trade, competition and cross-border investment in\"                       \n",
       " [7] \"electricity between Canada, Mexico and the United States. It is hoped\"                      \n",
       " [8] \"that the working paper, Environmental Challenges and Opportunities in\"                      \n",
       " [9] \"the Evolving North American Electricity Market, will stimulate public\"                      \n",
       "[10] \"discussion around a CEC symposium of the same title about the need to\"                      \n",
       "[11] \"coordinate environmental policies trinationally as a North America-wide\"                    \n",
       "[12] \"electricity market develops. The CEC symposium will take place in San\"                      \n",
       "[13] \"Diego on 29-30 November, and will bring together leading experts from\"                      \n",
       "[14] \"industry, academia, NGOs and the governments of Canada, Mexico and the\"                     \n",
       "[15] \"United States to consider the impact of the evolving continental\"                           \n",
       "[16] \"electricity market on human health and the environment. \\\"Our goal [with\"                   \n",
       "[17] \"the working paper and the symposium] is to highlight key environmental\"                     \n",
       "[18] \"issues that must be addressed as the electricity markets in North\"                          \n",
       "[19] \"America become more and more integrated,\\\" said Janine Ferretti,\"                           \n",
       "[20] \"executive director of the CEC. \\\"We want to stimulate discussion around\"                    \n",
       "[21] \"the important policy questions being raised so that countries can\"                          \n",
       "[22] \"cooperate in their approach to energy and the environment.\\\" The CEC, an\"                   \n",
       "[23] \"international organization created under an environmental side\"                             \n",
       "[24] \"agreement to NAFTA known as the North American Agreement on\"                                \n",
       "[25] \"Environmental Cooperation, was established to address regional\"                             \n",
       "[26] \"environmental concerns, help prevent potential trade and environmental\"                     \n",
       "[27] \"conflicts, and promote the effective enforcement of environmental law.\"                     \n",
       "[28] \"The CEC Secretariat believes that greater North American cooperation on\"                    \n",
       "[29] \"environmental policies regarding the continental electricity market is\"                     \n",
       "[30] \"necessary to: * protect air quality and mitigate climate change, *\"                         \n",
       "[31] \"minimize the possibility of environment-based trade disputes, * ensure\"                     \n",
       "[32] \"a dependable supply of reasonably priced electricity across North\"                          \n",
       "[33] \"America * avoid creation of pollution havens, and * ensure local and\"                       \n",
       "[34] \"national environmental measures remain effective. The Changing Market\"                      \n",
       "[35] \"The working paper profiles the rapid changing North American\"                               \n",
       "[36] \"electricity market. For example, in 2001, the US is projected to export\"                    \n",
       "[37] \"13.1 thousand gigawatt-hours (GWh) of electricity to Canada and Mexico.\"                    \n",
       "[38] \"By 2007, this number is projected to grow to 16.9 thousand GWh of\"                          \n",
       "[39] \"electricity. \\\"Over the past few decades, the North American electricity\"                   \n",
       "[40] \"market has developed into a complex array of cross-border transactions\"                     \n",
       "[41] \"and relationships,\\\" said Phil Sharp, former US congressman and chairman\"                   \n",
       "[42] \"of the CEC's Electricity Advisory Board. \\\"We need to achieve this new\"                     \n",
       "[43] \"level of cooperation in our environmental approaches as well.\\\" The\"                        \n",
       "[44] \"Environmental Profile of the Electricity Sector The electricity sector\"                     \n",
       "[45] \"is the single largest source of nationally reported toxins in the\"                          \n",
       "[46] \"United States and Canada and a large source in Mexico. In the US, the\"                      \n",
       "[47] \"electricity sector emits approximately 25 percent of all NOx emissions,\"                    \n",
       "[48] \"roughly 35 percent of all CO2 emissions, 25 percent of all mercury\"                         \n",
       "[49] \"emissions and almost 70 percent of SO2 emissions. These emissions have\"                     \n",
       "[50] \"a large impact on airsheds, watersheds and migratory species corridors\"                     \n",
       "[51] \"that are often shared between the three North American countries. \\\"We\"                     \n",
       "[52] \"want to discuss the possible outcomes from greater efforts to\"                              \n",
       "[53] \"coordinate federal, state or provincial environmental laws and policies\"                    \n",
       "[54] \"that relate to the electricity sector,\\\" said Ferretti. \\\"How can we\"                       \n",
       "[55] \"develop more compatible environmental approaches to help make domestic\"                     \n",
       "[56] \"environmental policies more effective?\\\" The Effects of an Integrated\"                      \n",
       "[57] \"Electricity Market One key issue raised in the paper is the effect of\"                      \n",
       "[58] \"market integration on the competitiveness of particular fuels such as\"                      \n",
       "[59] \"coal, natural gas or renewables. Fuel choice largely determines\"                            \n",
       "[60] \"environmental impacts from a specific facility, along with pollution\"                       \n",
       "[61] \"control technologies, performance standards and regulations. The paper\"                     \n",
       "[62] \"highlights other impacts of a highly competitive market as well. For\"                       \n",
       "[63] \"example, concerns about so called \\\"pollution havens\\\" arise when\"                          \n",
       "[64] \"significant differences in environmental laws or enforcement practices\"                     \n",
       "[65] \"induce power companies to locate their operations in jurisdictions with\"                    \n",
       "[66] \"lower standards. \\\"The CEC Secretariat is exploring what additional\"                        \n",
       "[67] \"environmental policies will work in this restructured market and how\"                       \n",
       "[68] \"these policies can be adapted to ensure that they enhance\"                                  \n",
       "[69] \"competitiveness and benefit the entire region,\\\" said Sharp. Because\"                       \n",
       "[70] \"trade rules and policy measures directly influence the variables that\"                      \n",
       "[71] \"drive a successfully integrated North American electricity market, the\"                     \n",
       "[72] \"working paper also addresses fuel choice, technology, pollution control\"                    \n",
       "[73] \"strategies and subsidies. The CEC will use the information gathered\"                        \n",
       "[74] \"during the discussion period to develop a final report that will be\"                        \n",
       "[75] \"submitted to the Council in early 2002. For more information or to view\"                    \n",
       "[76] \"the live video webcast of the symposium, please go to:\"                                     \n",
       "[77] \"http://www.cec.org/electricity. You may download the working paper and\"                     \n",
       "[78] \"other supporting documents from:\"                                                           \n",
       "[79] \"http://www.cec.org/programs_projects/other_initiatives/electricity/docs.cfm?varlan=english.\"\n",
       "[80] \"Commission for Environmental Cooperation 393, rue St-Jacques Ouest,\"                        \n",
       "[81] \"Bureau 200 Montreal (Quebec) Canada H2Y 1N9 Tel: (514) 350-4300; Fax:\"                      \n",
       "[82] \"(514) 350-4314 E-mail: info@ccemtl.org ***********\"                                         "
      ]
     },
     "metadata": {},
     "output_type": "display_data"
    }
   ],
   "source": [
    "strwrap(corpus[[1]]$content)"
   ]
  },
  {
   "cell_type": "code",
   "execution_count": 35,
   "metadata": {},
   "outputs": [],
   "source": [
    "corpus = tm_map(corpus, content_transformer(tolower))"
   ]
  },
  {
   "cell_type": "code",
   "execution_count": 36,
   "metadata": {},
   "outputs": [],
   "source": [
    "corpus = tm_map(corpus, removePunctuation)"
   ]
  },
  {
   "cell_type": "code",
   "execution_count": 37,
   "metadata": {},
   "outputs": [],
   "source": [
    "corpus = tm_map(corpus, removeWords, stopwords(\"english\"))"
   ]
  },
  {
   "cell_type": "code",
   "execution_count": 38,
   "metadata": {},
   "outputs": [],
   "source": [
    "corpus = tm_map(corpus, stemDocument)"
   ]
  },
  {
   "cell_type": "code",
   "execution_count": 39,
   "metadata": {},
   "outputs": [
    {
     "data": {
      "text/html": [
       "<style>\n",
       ".list-inline {list-style: none; margin:0; padding: 0}\n",
       ".list-inline>li {display: inline-block}\n",
       ".list-inline>li:not(:last-child)::after {content: \"\\00b7\"; padding: 0 .5ex}\n",
       "</style>\n",
       "<ol class=list-inline><li>'north america integr electr market requir cooper environment polici'</li><li>'commiss environment cooper releas work paper north america electr'</li><li>'market montreal 27 novemb 2001 north american commiss environment'</li><li>'cooper cec releas work paper highlight trend toward increas trade'</li><li>'competit crossbord invest electr canada mexico unit state hope work'</li><li>'paper environment challeng opportun evolv north american electr market'</li><li>'will stimul public discuss around cec symposium titl need coordin'</li><li>'environment polici trinat north americawid electr market develop cec'</li><li>'symposium will take place san diego 2930 novemb will bring togeth lead'</li><li>'expert industri academia ngos govern canada mexico unit state consid'</li><li>'impact evolv continent electr market human health environ goal work'</li><li>'paper symposium highlight key environment issu must address electr'</li><li>'market north america becom integr said janin ferretti execut director'</li><li>'cec want stimul discuss around import polici question rais countri can'</li><li>'cooper approach energi environ cec intern organ creat environment side'</li><li>'agreement nafta known north american agreement environment cooper'</li><li>'establish address region environment concern help prevent potenti trade'</li><li>'environment conflict promot effect enforc environment law cec'</li><li>'secretariat believ greater north american cooper environment polici'</li><li>'regard continent electr market necessari protect air qualiti mitig'</li><li>'climat chang minim possibl environmentbas trade disput ensur depend'</li><li>'suppli reason price electr across north america avoid creation pollut'</li><li>'haven ensur local nation environment measur remain effect chang market'</li><li>'work paper profil rapid chang north american electr market exampl 2001'</li><li>'us project export 131 thousand gigawatthour gwh electr canada mexico'</li><li>'2007 number project grow 169 thousand gwh electr past decad north'</li><li>'american electr market develop complex array crossbord transact'</li><li>'relationship said phil sharp former us congressman chairman cec electr'</li><li>'advisori board need achiev new level cooper environment approach well'</li><li>'environment profil electr sector electr sector singl largest sourc'</li><li>'nation report toxin unit state canada larg sourc mexico us electr'</li><li>'sector emit approxim 25 percent nox emiss rough 35 percent co2 emiss 25'</li><li>'percent mercuri emiss almost 70 percent so2 emiss emiss larg impact'</li><li>'airsh watersh migratori speci corridor often share three north american'</li><li>'countri want discuss possibl outcom greater effort coordin feder state'</li><li>'provinci environment law polici relat electr sector said ferretti can'</li><li>'develop compat environment approach help make domest environment polici'</li><li>'effect effect integr electr market one key issu rais paper effect'</li><li>'market integr competit particular fuel coal natur gas renew fuel choic'</li><li>'larg determin environment impact specif facil along pollut control'</li><li>'technolog perform standard regul paper highlight impact high competit'</li><li>'market well exampl concern call pollut haven aris signific differ'</li><li>'environment law enforc practic induc power compani locat oper jurisdict'</li><li>'lower standard cec secretariat explor addit environment polici will'</li><li>'work restructur market polici can adapt ensur enhanc competit benefit'</li><li>'entir region said sharp trade rule polici measur direct influenc'</li><li>'variabl drive success integr north american electr market work paper'</li><li>'also address fuel choic technolog pollut control strategi subsidi cec'</li><li>'will use inform gather discuss period develop final report will submit'</li><li>'council earli 2002 inform view live video webcast symposium pleas go'</li><li>'httpwwwcecorgelectr may download work paper support document'</li><li>'httpwwwcecorgprogramsprojectsotherinitiativeselectricitydocscfmvarlanenglish'</li><li>'commiss environment cooper 393 rue stjacqu ouest bureau 200 montréal'</li><li>'québec canada h2i 1n9 tel 514 3504300 fax 514 3504314 email'</li><li>'infoccemtlorg'</li></ol>\n"
      ],
      "text/latex": [
       "\\begin{enumerate*}\n",
       "\\item 'north america integr electr market requir cooper environment polici'\n",
       "\\item 'commiss environment cooper releas work paper north america electr'\n",
       "\\item 'market montreal 27 novemb 2001 north american commiss environment'\n",
       "\\item 'cooper cec releas work paper highlight trend toward increas trade'\n",
       "\\item 'competit crossbord invest electr canada mexico unit state hope work'\n",
       "\\item 'paper environment challeng opportun evolv north american electr market'\n",
       "\\item 'will stimul public discuss around cec symposium titl need coordin'\n",
       "\\item 'environment polici trinat north americawid electr market develop cec'\n",
       "\\item 'symposium will take place san diego 2930 novemb will bring togeth lead'\n",
       "\\item 'expert industri academia ngos govern canada mexico unit state consid'\n",
       "\\item 'impact evolv continent electr market human health environ goal work'\n",
       "\\item 'paper symposium highlight key environment issu must address electr'\n",
       "\\item 'market north america becom integr said janin ferretti execut director'\n",
       "\\item 'cec want stimul discuss around import polici question rais countri can'\n",
       "\\item 'cooper approach energi environ cec intern organ creat environment side'\n",
       "\\item 'agreement nafta known north american agreement environment cooper'\n",
       "\\item 'establish address region environment concern help prevent potenti trade'\n",
       "\\item 'environment conflict promot effect enforc environment law cec'\n",
       "\\item 'secretariat believ greater north american cooper environment polici'\n",
       "\\item 'regard continent electr market necessari protect air qualiti mitig'\n",
       "\\item 'climat chang minim possibl environmentbas trade disput ensur depend'\n",
       "\\item 'suppli reason price electr across north america avoid creation pollut'\n",
       "\\item 'haven ensur local nation environment measur remain effect chang market'\n",
       "\\item 'work paper profil rapid chang north american electr market exampl 2001'\n",
       "\\item 'us project export 131 thousand gigawatthour gwh electr canada mexico'\n",
       "\\item '2007 number project grow 169 thousand gwh electr past decad north'\n",
       "\\item 'american electr market develop complex array crossbord transact'\n",
       "\\item 'relationship said phil sharp former us congressman chairman cec electr'\n",
       "\\item 'advisori board need achiev new level cooper environment approach well'\n",
       "\\item 'environment profil electr sector electr sector singl largest sourc'\n",
       "\\item 'nation report toxin unit state canada larg sourc mexico us electr'\n",
       "\\item 'sector emit approxim 25 percent nox emiss rough 35 percent co2 emiss 25'\n",
       "\\item 'percent mercuri emiss almost 70 percent so2 emiss emiss larg impact'\n",
       "\\item 'airsh watersh migratori speci corridor often share three north american'\n",
       "\\item 'countri want discuss possibl outcom greater effort coordin feder state'\n",
       "\\item 'provinci environment law polici relat electr sector said ferretti can'\n",
       "\\item 'develop compat environment approach help make domest environment polici'\n",
       "\\item 'effect effect integr electr market one key issu rais paper effect'\n",
       "\\item 'market integr competit particular fuel coal natur gas renew fuel choic'\n",
       "\\item 'larg determin environment impact specif facil along pollut control'\n",
       "\\item 'technolog perform standard regul paper highlight impact high competit'\n",
       "\\item 'market well exampl concern call pollut haven aris signific differ'\n",
       "\\item 'environment law enforc practic induc power compani locat oper jurisdict'\n",
       "\\item 'lower standard cec secretariat explor addit environment polici will'\n",
       "\\item 'work restructur market polici can adapt ensur enhanc competit benefit'\n",
       "\\item 'entir region said sharp trade rule polici measur direct influenc'\n",
       "\\item 'variabl drive success integr north american electr market work paper'\n",
       "\\item 'also address fuel choic technolog pollut control strategi subsidi cec'\n",
       "\\item 'will use inform gather discuss period develop final report will submit'\n",
       "\\item 'council earli 2002 inform view live video webcast symposium pleas go'\n",
       "\\item 'httpwwwcecorgelectr may download work paper support document'\n",
       "\\item 'httpwwwcecorgprogramsprojectsotherinitiativeselectricitydocscfmvarlanenglish'\n",
       "\\item 'commiss environment cooper 393 rue stjacqu ouest bureau 200 montréal'\n",
       "\\item 'québec canada h2i 1n9 tel 514 3504300 fax 514 3504314 email'\n",
       "\\item 'infoccemtlorg'\n",
       "\\end{enumerate*}\n"
      ],
      "text/markdown": [
       "1. 'north america integr electr market requir cooper environment polici'\n",
       "2. 'commiss environment cooper releas work paper north america electr'\n",
       "3. 'market montreal 27 novemb 2001 north american commiss environment'\n",
       "4. 'cooper cec releas work paper highlight trend toward increas trade'\n",
       "5. 'competit crossbord invest electr canada mexico unit state hope work'\n",
       "6. 'paper environment challeng opportun evolv north american electr market'\n",
       "7. 'will stimul public discuss around cec symposium titl need coordin'\n",
       "8. 'environment polici trinat north americawid electr market develop cec'\n",
       "9. 'symposium will take place san diego 2930 novemb will bring togeth lead'\n",
       "10. 'expert industri academia ngos govern canada mexico unit state consid'\n",
       "11. 'impact evolv continent electr market human health environ goal work'\n",
       "12. 'paper symposium highlight key environment issu must address electr'\n",
       "13. 'market north america becom integr said janin ferretti execut director'\n",
       "14. 'cec want stimul discuss around import polici question rais countri can'\n",
       "15. 'cooper approach energi environ cec intern organ creat environment side'\n",
       "16. 'agreement nafta known north american agreement environment cooper'\n",
       "17. 'establish address region environment concern help prevent potenti trade'\n",
       "18. 'environment conflict promot effect enforc environment law cec'\n",
       "19. 'secretariat believ greater north american cooper environment polici'\n",
       "20. 'regard continent electr market necessari protect air qualiti mitig'\n",
       "21. 'climat chang minim possibl environmentbas trade disput ensur depend'\n",
       "22. 'suppli reason price electr across north america avoid creation pollut'\n",
       "23. 'haven ensur local nation environment measur remain effect chang market'\n",
       "24. 'work paper profil rapid chang north american electr market exampl 2001'\n",
       "25. 'us project export 131 thousand gigawatthour gwh electr canada mexico'\n",
       "26. '2007 number project grow 169 thousand gwh electr past decad north'\n",
       "27. 'american electr market develop complex array crossbord transact'\n",
       "28. 'relationship said phil sharp former us congressman chairman cec electr'\n",
       "29. 'advisori board need achiev new level cooper environment approach well'\n",
       "30. 'environment profil electr sector electr sector singl largest sourc'\n",
       "31. 'nation report toxin unit state canada larg sourc mexico us electr'\n",
       "32. 'sector emit approxim 25 percent nox emiss rough 35 percent co2 emiss 25'\n",
       "33. 'percent mercuri emiss almost 70 percent so2 emiss emiss larg impact'\n",
       "34. 'airsh watersh migratori speci corridor often share three north american'\n",
       "35. 'countri want discuss possibl outcom greater effort coordin feder state'\n",
       "36. 'provinci environment law polici relat electr sector said ferretti can'\n",
       "37. 'develop compat environment approach help make domest environment polici'\n",
       "38. 'effect effect integr electr market one key issu rais paper effect'\n",
       "39. 'market integr competit particular fuel coal natur gas renew fuel choic'\n",
       "40. 'larg determin environment impact specif facil along pollut control'\n",
       "41. 'technolog perform standard regul paper highlight impact high competit'\n",
       "42. 'market well exampl concern call pollut haven aris signific differ'\n",
       "43. 'environment law enforc practic induc power compani locat oper jurisdict'\n",
       "44. 'lower standard cec secretariat explor addit environment polici will'\n",
       "45. 'work restructur market polici can adapt ensur enhanc competit benefit'\n",
       "46. 'entir region said sharp trade rule polici measur direct influenc'\n",
       "47. 'variabl drive success integr north american electr market work paper'\n",
       "48. 'also address fuel choic technolog pollut control strategi subsidi cec'\n",
       "49. 'will use inform gather discuss period develop final report will submit'\n",
       "50. 'council earli 2002 inform view live video webcast symposium pleas go'\n",
       "51. 'httpwwwcecorgelectr may download work paper support document'\n",
       "52. 'httpwwwcecorgprogramsprojectsotherinitiativeselectricitydocscfmvarlanenglish'\n",
       "53. 'commiss environment cooper 393 rue stjacqu ouest bureau 200 montréal'\n",
       "54. 'québec canada h2i 1n9 tel 514 3504300 fax 514 3504314 email'\n",
       "55. 'infoccemtlorg'\n",
       "\n",
       "\n"
      ],
      "text/plain": [
       " [1] \"north america integr electr market requir cooper environment polici\"         \n",
       " [2] \"commiss environment cooper releas work paper north america electr\"           \n",
       " [3] \"market montreal 27 novemb 2001 north american commiss environment\"           \n",
       " [4] \"cooper cec releas work paper highlight trend toward increas trade\"           \n",
       " [5] \"competit crossbord invest electr canada mexico unit state hope work\"         \n",
       " [6] \"paper environment challeng opportun evolv north american electr market\"      \n",
       " [7] \"will stimul public discuss around cec symposium titl need coordin\"           \n",
       " [8] \"environment polici trinat north americawid electr market develop cec\"        \n",
       " [9] \"symposium will take place san diego 2930 novemb will bring togeth lead\"      \n",
       "[10] \"expert industri academia ngos govern canada mexico unit state consid\"        \n",
       "[11] \"impact evolv continent electr market human health environ goal work\"         \n",
       "[12] \"paper symposium highlight key environment issu must address electr\"          \n",
       "[13] \"market north america becom integr said janin ferretti execut director\"       \n",
       "[14] \"cec want stimul discuss around import polici question rais countri can\"      \n",
       "[15] \"cooper approach energi environ cec intern organ creat environment side\"      \n",
       "[16] \"agreement nafta known north american agreement environment cooper\"           \n",
       "[17] \"establish address region environment concern help prevent potenti trade\"     \n",
       "[18] \"environment conflict promot effect enforc environment law cec\"               \n",
       "[19] \"secretariat believ greater north american cooper environment polici\"         \n",
       "[20] \"regard continent electr market necessari protect air qualiti mitig\"          \n",
       "[21] \"climat chang minim possibl environmentbas trade disput ensur depend\"         \n",
       "[22] \"suppli reason price electr across north america avoid creation pollut\"       \n",
       "[23] \"haven ensur local nation environment measur remain effect chang market\"      \n",
       "[24] \"work paper profil rapid chang north american electr market exampl 2001\"      \n",
       "[25] \"us project export 131 thousand gigawatthour gwh electr canada mexico\"        \n",
       "[26] \"2007 number project grow 169 thousand gwh electr past decad north\"           \n",
       "[27] \"american electr market develop complex array crossbord transact\"             \n",
       "[28] \"relationship said phil sharp former us congressman chairman cec electr\"      \n",
       "[29] \"advisori board need achiev new level cooper environment approach well\"       \n",
       "[30] \"environment profil electr sector electr sector singl largest sourc\"          \n",
       "[31] \"nation report toxin unit state canada larg sourc mexico us electr\"           \n",
       "[32] \"sector emit approxim 25 percent nox emiss rough 35 percent co2 emiss 25\"     \n",
       "[33] \"percent mercuri emiss almost 70 percent so2 emiss emiss larg impact\"         \n",
       "[34] \"airsh watersh migratori speci corridor often share three north american\"     \n",
       "[35] \"countri want discuss possibl outcom greater effort coordin feder state\"      \n",
       "[36] \"provinci environment law polici relat electr sector said ferretti can\"       \n",
       "[37] \"develop compat environment approach help make domest environment polici\"     \n",
       "[38] \"effect effect integr electr market one key issu rais paper effect\"           \n",
       "[39] \"market integr competit particular fuel coal natur gas renew fuel choic\"      \n",
       "[40] \"larg determin environment impact specif facil along pollut control\"          \n",
       "[41] \"technolog perform standard regul paper highlight impact high competit\"       \n",
       "[42] \"market well exampl concern call pollut haven aris signific differ\"           \n",
       "[43] \"environment law enforc practic induc power compani locat oper jurisdict\"     \n",
       "[44] \"lower standard cec secretariat explor addit environment polici will\"         \n",
       "[45] \"work restructur market polici can adapt ensur enhanc competit benefit\"       \n",
       "[46] \"entir region said sharp trade rule polici measur direct influenc\"            \n",
       "[47] \"variabl drive success integr north american electr market work paper\"        \n",
       "[48] \"also address fuel choic technolog pollut control strategi subsidi cec\"       \n",
       "[49] \"will use inform gather discuss period develop final report will submit\"      \n",
       "[50] \"council earli 2002 inform view live video webcast symposium pleas go\"        \n",
       "[51] \"httpwwwcecorgelectr may download work paper support document\"                \n",
       "[52] \"httpwwwcecorgprogramsprojectsotherinitiativeselectricitydocscfmvarlanenglish\"\n",
       "[53] \"commiss environment cooper 393 rue stjacqu ouest bureau 200 montreal\"        \n",
       "[54] \"quebec canada h2i 1n9 tel 514 3504300 fax 514 3504314 email\"                 \n",
       "[55] \"infoccemtlorg\"                                                               "
      ]
     },
     "metadata": {},
     "output_type": "display_data"
    }
   ],
   "source": [
    "strwrap(corpus[[1]]$content)"
   ]
  },
  {
   "cell_type": "markdown",
   "metadata": {},
   "source": [
    "### Bag of Words"
   ]
  },
  {
   "cell_type": "code",
   "execution_count": 40,
   "metadata": {},
   "outputs": [],
   "source": [
    "dtm = DocumentTermMatrix(corpus)"
   ]
  },
  {
   "cell_type": "code",
   "execution_count": 41,
   "metadata": {},
   "outputs": [
    {
     "data": {
      "text/plain": [
       "<<DocumentTermMatrix (documents: 855, terms: 22141)>>\n",
       "Non-/sparse entries: 102834/18827721\n",
       "Sparsity           : 99%\n",
       "Maximal term length: 113\n",
       "Weighting          : term frequency (tf)"
      ]
     },
     "metadata": {},
     "output_type": "display_data"
    }
   ],
   "source": [
    "dtm"
   ]
  },
  {
   "cell_type": "code",
   "execution_count": 42,
   "metadata": {},
   "outputs": [],
   "source": [
    "dtm = removeSparseTerms(dtm, 0.97)"
   ]
  },
  {
   "cell_type": "code",
   "execution_count": 43,
   "metadata": {},
   "outputs": [
    {
     "data": {
      "text/plain": [
       "<<DocumentTermMatrix (documents: 855, terms: 788)>>\n",
       "Non-/sparse entries: 51612/622128\n",
       "Sparsity           : 92%\n",
       "Maximal term length: 19\n",
       "Weighting          : term frequency (tf)"
      ]
     },
     "metadata": {},
     "output_type": "display_data"
    }
   ],
   "source": [
    "dtm"
   ]
  },
  {
   "cell_type": "code",
   "execution_count": 44,
   "metadata": {},
   "outputs": [],
   "source": [
    "labeledTerms = as.data.frame(as.matrix(dtm))"
   ]
  },
  {
   "cell_type": "code",
   "execution_count": 45,
   "metadata": {},
   "outputs": [],
   "source": [
    "labeledTerms$responsive = emails$responsive"
   ]
  },
  {
   "cell_type": "code",
   "execution_count": 46,
   "metadata": {},
   "outputs": [
    {
     "name": "stdout",
     "output_type": "stream",
     "text": [
      "'data.frame':\t855 obs. of  789 variables:\n",
      " $ 100                : num  0 0 0 0 0 0 5 0 0 0 ...\n",
      " $ 1400               : num  0 0 0 0 0 0 0 0 0 0 ...\n",
      " $ 1999               : num  0 0 0 0 0 0 0 0 0 0 ...\n",
      " $ 2000               : num  0 0 1 0 1 0 6 0 1 0 ...\n",
      " $ 2001               : num  2 1 0 0 0 0 7 0 0 0 ...\n",
      " $ 713                : num  0 0 0 0 0 0 0 0 0 0 ...\n",
      " $ 77002              : num  0 0 0 0 0 0 0 0 0 0 ...\n",
      " $ abl                : num  0 0 0 0 0 0 2 0 0 0 ...\n",
      " $ accept             : num  0 0 0 0 0 0 1 0 0 0 ...\n",
      " $ access             : num  0 0 0 0 0 0 0 0 0 0 ...\n",
      " $ accord             : num  0 0 0 0 0 0 1 0 0 0 ...\n",
      " $ account            : num  0 0 0 0 0 0 3 0 0 0 ...\n",
      " $ act                : num  0 0 0 0 0 0 1 0 0 0 ...\n",
      " $ action             : num  0 0 0 0 1 0 0 0 0 0 ...\n",
      " $ activ              : num  0 0 1 0 1 0 1 0 0 0 ...\n",
      " $ actual             : num  0 0 0 0 0 0 0 0 0 0 ...\n",
      " $ add                : num  0 0 0 0 0 0 1 0 0 0 ...\n",
      " $ addit              : num  1 0 0 0 0 0 1 0 0 0 ...\n",
      " $ address            : num  3 0 0 0 2 0 0 0 0 1 ...\n",
      " $ administr          : num  0 0 0 0 0 0 1 0 0 0 ...\n",
      " $ advanc             : num  0 0 0 0 0 0 0 0 0 0 ...\n",
      " $ advis              : num  0 0 0 0 0 0 0 0 0 0 ...\n",
      " $ affect             : num  0 0 0 0 2 0 0 0 0 0 ...\n",
      " $ afternoon          : num  0 0 0 0 0 0 0 0 0 0 ...\n",
      " $ agenc              : num  0 0 0 0 1 0 0 0 0 0 ...\n",
      " $ ago                : num  0 0 0 0 0 0 1 0 0 0 ...\n",
      " $ agre               : num  0 0 0 0 0 0 0 0 0 0 ...\n",
      " $ agreement          : num  2 0 0 0 2 0 1 0 0 1 ...\n",
      " $ alan               : num  0 0 0 0 0 1 0 0 0 0 ...\n",
      " $ allow              : num  0 0 0 0 0 0 2 0 0 0 ...\n",
      " $ along              : num  1 0 0 0 1 0 1 0 0 0 ...\n",
      " $ alreadi            : num  0 0 0 0 0 0 0 0 0 0 ...\n",
      " $ also               : num  1 0 0 0 0 0 8 0 0 0 ...\n",
      " $ altern             : num  0 0 0 0 0 0 0 0 1 0 ...\n",
      " $ although           : num  0 0 0 0 0 0 6 0 0 0 ...\n",
      " $ amend              : num  0 0 0 0 0 0 0 0 0 0 ...\n",
      " $ america            : num  4 0 0 0 0 0 0 0 1 0 ...\n",
      " $ among              : num  0 0 0 0 0 0 3 0 0 0 ...\n",
      " $ amount             : num  0 0 0 0 0 0 1 0 0 0 ...\n",
      " $ analysi            : num  0 0 0 2 0 0 0 0 0 0 ...\n",
      " $ analyst            : num  0 0 0 0 0 0 6 0 0 0 ...\n",
      " $ andor              : num  0 0 0 0 0 0 0 0 0 0 ...\n",
      " $ andrew             : num  0 0 0 0 0 0 0 0 0 0 ...\n",
      " $ announc            : num  0 0 0 0 0 0 2 0 0 0 ...\n",
      " $ anoth              : num  0 0 0 0 0 0 6 0 0 0 ...\n",
      " $ answer             : num  0 0 0 0 0 0 2 0 0 0 ...\n",
      " $ anyon              : num  0 0 0 0 0 0 0 0 0 0 ...\n",
      " $ anyth              : num  0 0 0 0 0 0 0 0 0 0 ...\n",
      " $ appear             : num  0 0 0 0 0 0 3 0 0 0 ...\n",
      " $ appli              : num  0 0 0 0 0 0 0 0 0 0 ...\n",
      " $ applic             : num  0 0 0 0 0 0 0 0 0 0 ...\n",
      " $ appreci            : num  0 0 0 0 1 0 0 0 0 0 ...\n",
      " $ approach           : num  3 0 0 0 0 0 1 0 0 0 ...\n",
      " $ appropri           : num  0 0 0 0 0 0 0 1 0 0 ...\n",
      " $ approv             : num  0 0 0 0 0 0 1 0 0 0 ...\n",
      " $ approxim           : num  1 0 0 0 0 0 1 0 0 0 ...\n",
      " $ april              : num  0 0 0 0 0 0 3 0 0 0 ...\n",
      " $ area               : num  0 0 0 0 1 0 3 0 0 0 ...\n",
      " $ around             : num  2 0 0 0 0 0 1 0 0 0 ...\n",
      " $ arrang             : num  0 0 0 0 0 0 0 0 0 0 ...\n",
      " $ articl             : num  0 0 0 0 0 0 1 0 0 0 ...\n",
      " $ ask                : num  0 0 0 0 0 1 0 0 0 0 ...\n",
      " $ asset              : num  0 0 0 0 0 0 2 0 0 0 ...\n",
      " $ assist             : num  0 0 0 0 0 0 0 0 0 0 ...\n",
      " $ associ             : num  0 0 1 0 1 0 0 0 0 0 ...\n",
      " $ assum              : num  0 0 0 0 0 1 0 0 0 0 ...\n",
      " $ attach             : num  0 1 0 1 1 0 1 0 3 1 ...\n",
      " $ attend             : num  0 0 0 0 0 0 0 0 1 0 ...\n",
      " $ attent             : num  0 0 0 0 0 0 1 0 0 0 ...\n",
      " $ attorney           : num  0 0 0 0 0 0 0 0 0 0 ...\n",
      " $ august             : num  0 0 0 0 0 0 0 0 0 0 ...\n",
      " $ author             : num  0 0 1 0 0 0 0 0 0 0 ...\n",
      " $ avail              : num  0 0 0 0 0 0 0 0 0 0 ...\n",
      " $ averag             : num  0 0 0 0 0 0 5 0 0 0 ...\n",
      " $ avoid              : num  1 0 0 0 1 0 2 0 0 0 ...\n",
      " $ awar               : num  0 0 0 0 0 0 0 0 0 0 ...\n",
      " $ back               : num  0 0 0 0 1 1 1 0 0 0 ...\n",
      " $ balanc             : num  0 0 0 0 0 0 0 0 0 0 ...\n",
      " $ bank               : num  0 0 0 0 0 0 2 0 0 0 ...\n",
      " $ base               : num  0 0 0 0 1 0 9 0 0 0 ...\n",
      " $ basi               : num  0 0 0 0 0 0 1 0 0 0 ...\n",
      " $ becom              : num  1 0 0 0 0 0 4 0 0 0 ...\n",
      " $ begin              : num  0 0 0 0 0 0 0 0 0 0 ...\n",
      " $ believ             : num  1 0 0 0 0 0 0 0 0 0 ...\n",
      " $ benefit            : num  1 0 0 0 0 0 5 0 0 0 ...\n",
      " $ best               : num  0 0 0 0 0 0 0 0 0 1 ...\n",
      " $ better             : num  0 0 0 0 0 0 2 0 0 0 ...\n",
      " $ bid                : num  0 0 0 0 0 0 1 0 0 0 ...\n",
      " $ big                : num  0 0 0 0 0 1 6 0 0 0 ...\n",
      " $ bill               : num  0 0 0 0 0 0 0 0 0 0 ...\n",
      " $ billion            : num  0 0 0 0 0 0 2 0 0 0 ...\n",
      " $ bit                : num  0 0 0 0 0 1 2 0 0 0 ...\n",
      " $ board              : num  1 0 0 0 0 0 0 0 0 0 ...\n",
      " $ bob                : num  0 0 0 0 0 0 0 0 0 0 ...\n",
      " $ book               : num  0 0 0 0 0 0 0 0 0 0 ...\n",
      " $ brian              : num  0 1 0 0 0 0 0 0 0 0 ...\n",
      " $ brief              : num  0 0 0 0 0 0 0 0 0 0 ...\n",
      " $ bring              : num  1 0 0 0 0 0 2 0 0 0 ...\n",
      " $ build              : num  0 0 0 0 0 0 7 0 1 0 ...\n",
      "  [list output truncated]\n"
     ]
    }
   ],
   "source": [
    "str(labeledTerms)"
   ]
  },
  {
   "cell_type": "markdown",
   "metadata": {},
   "source": [
    "### Building Models"
   ]
  },
  {
   "cell_type": "code",
   "execution_count": 47,
   "metadata": {},
   "outputs": [],
   "source": [
    "library(\"caTools\")"
   ]
  },
  {
   "cell_type": "code",
   "execution_count": 48,
   "metadata": {},
   "outputs": [],
   "source": [
    "set.seed(144)"
   ]
  },
  {
   "cell_type": "code",
   "execution_count": 49,
   "metadata": {},
   "outputs": [],
   "source": [
    "split = sample.split(labeledTerms$responsive, SplitRatio=0.7)"
   ]
  },
  {
   "cell_type": "code",
   "execution_count": 50,
   "metadata": {},
   "outputs": [],
   "source": [
    "train = subset(labeledTerms, split == TRUE)\n",
    "test = subset(labeledTerms, split == FALSE)"
   ]
  },
  {
   "cell_type": "code",
   "execution_count": 51,
   "metadata": {},
   "outputs": [],
   "source": [
    "library(\"rpart\")\n",
    "library(\"rpart.plot\")"
   ]
  },
  {
   "cell_type": "code",
   "execution_count": 52,
   "metadata": {},
   "outputs": [
    {
     "data": {
      "image/png": "[encoded data removed]",
      "text/plain": [
       "plot without title"
      ]
     },
     "metadata": {
      "image/png": {
       "height": 420,
       "width": 420
      }
     },
     "output_type": "display_data"
    }
   ],
   "source": [
    "emailCART = rpart(responsive ~ ., data=train, method=\"class\")\n",
    "prp(emailCART)"
   ]
  },
  {
   "cell_type": "markdown",
   "metadata": {},
   "source": [
    "### Evaluating the Model"
   ]
  },
  {
   "cell_type": "code",
   "execution_count": 53,
   "metadata": {},
   "outputs": [],
   "source": [
    "pred = predict(emailCART, newdata=test)"
   ]
  },
  {
   "cell_type": "code",
   "execution_count": 55,
   "metadata": {},
   "outputs": [
    {
     "data": {
      "text/html": [
       "<table>\n",
       "<caption>A matrix: 10 × 2 of type dbl</caption>\n",
       "<thead>\n",
       "\t<tr><th></th><th scope=col>0</th><th scope=col>1</th></tr>\n",
       "</thead>\n",
       "<tbody>\n",
       "\t<tr><th scope=row>2</th><td>0.2156863</td><td>0.78431373</td></tr>\n",
       "\t<tr><th scope=row>5</th><td>0.9557522</td><td>0.04424779</td></tr>\n",
       "\t<tr><th scope=row>11</th><td>0.9557522</td><td>0.04424779</td></tr>\n",
       "\t<tr><th scope=row>13</th><td>0.8125000</td><td>0.18750000</td></tr>\n",
       "\t<tr><th scope=row>28</th><td>0.4000000</td><td>0.60000000</td></tr>\n",
       "\t<tr><th scope=row>37</th><td>0.9557522</td><td>0.04424779</td></tr>\n",
       "\t<tr><th scope=row>47</th><td>0.9557522</td><td>0.04424779</td></tr>\n",
       "\t<tr><th scope=row>58</th><td>0.9557522</td><td>0.04424779</td></tr>\n",
       "\t<tr><th scope=row>61</th><td>0.1250000</td><td>0.87500000</td></tr>\n",
       "\t<tr><th scope=row>62</th><td>0.1250000</td><td>0.87500000</td></tr>\n",
       "</tbody>\n",
       "</table>\n"
      ],
      "text/latex": [
       "A matrix: 10 × 2 of type dbl\n",
       "\\begin{tabular}{r|ll}\n",
       "  & 0 & 1\\\\\n",
       "\\hline\n",
       "\t2 & 0.2156863 & 0.78431373\\\\\n",
       "\t5 & 0.9557522 & 0.04424779\\\\\n",
       "\t11 & 0.9557522 & 0.04424779\\\\\n",
       "\t13 & 0.8125000 & 0.18750000\\\\\n",
       "\t28 & 0.4000000 & 0.60000000\\\\\n",
       "\t37 & 0.9557522 & 0.04424779\\\\\n",
       "\t47 & 0.9557522 & 0.04424779\\\\\n",
       "\t58 & 0.9557522 & 0.04424779\\\\\n",
       "\t61 & 0.1250000 & 0.87500000\\\\\n",
       "\t62 & 0.1250000 & 0.87500000\\\\\n",
       "\\end{tabular}\n"
      ],
      "text/markdown": [
       "\n",
       "A matrix: 10 × 2 of type dbl\n",
       "\n",
       "| <!--/--> | 0 | 1 |\n",
       "|---|---|---|\n",
       "| 2 | 0.2156863 | 0.78431373 |\n",
       "| 5 | 0.9557522 | 0.04424779 |\n",
       "| 11 | 0.9557522 | 0.04424779 |\n",
       "| 13 | 0.8125000 | 0.18750000 |\n",
       "| 28 | 0.4000000 | 0.60000000 |\n",
       "| 37 | 0.9557522 | 0.04424779 |\n",
       "| 47 | 0.9557522 | 0.04424779 |\n",
       "| 58 | 0.9557522 | 0.04424779 |\n",
       "| 61 | 0.1250000 | 0.87500000 |\n",
       "| 62 | 0.1250000 | 0.87500000 |\n",
       "\n"
      ],
      "text/plain": [
       "   0         1         \n",
       "2  0.2156863 0.78431373\n",
       "5  0.9557522 0.04424779\n",
       "11 0.9557522 0.04424779\n",
       "13 0.8125000 0.18750000\n",
       "28 0.4000000 0.60000000\n",
       "37 0.9557522 0.04424779\n",
       "47 0.9557522 0.04424779\n",
       "58 0.9557522 0.04424779\n",
       "61 0.1250000 0.87500000\n",
       "62 0.1250000 0.87500000"
      ]
     },
     "metadata": {},
     "output_type": "display_data"
    }
   ],
   "source": [
    "pred[1:10, ]"
   ]
  },
  {
   "cell_type": "code",
   "execution_count": 56,
   "metadata": {},
   "outputs": [],
   "source": [
    "pred.prob = pred[, 2]"
   ]
  },
  {
   "cell_type": "code",
   "execution_count": 57,
   "metadata": {},
   "outputs": [
    {
     "data": {
      "text/plain": [
       "   \n",
       "    FALSE TRUE\n",
       "  0   195   20\n",
       "  1    17   25"
      ]
     },
     "metadata": {},
     "output_type": "display_data"
    }
   ],
   "source": [
    "table(test$responsive, pred.prob >= 0.5)"
   ]
  },
  {
   "cell_type": "code",
   "execution_count": 58,
   "metadata": {},
   "outputs": [
    {
     "data": {
      "text/html": [
       "0.856031128404669"
      ],
      "text/latex": [
       "0.856031128404669"
      ],
      "text/markdown": [
       "0.856031128404669"
      ],
      "text/plain": [
       "[1] 0.8560311"
      ]
     },
     "metadata": {},
     "output_type": "display_data"
    }
   ],
   "source": [
    "CART_acc = (195 + 25) / nrow(test)\n",
    "CART_acc"
   ]
  },
  {
   "cell_type": "code",
   "execution_count": 59,
   "metadata": {},
   "outputs": [
    {
     "data": {
      "text/plain": [
       "\n",
       "  0   1 \n",
       "215  42 "
      ]
     },
     "metadata": {},
     "output_type": "display_data"
    }
   ],
   "source": [
    "table(test$responsive)"
   ]
  },
  {
   "cell_type": "code",
   "execution_count": 60,
   "metadata": {},
   "outputs": [
    {
     "data": {
      "text/html": [
       "0.836575875486381"
      ],
      "text/latex": [
       "0.836575875486381"
      ],
      "text/markdown": [
       "0.836575875486381"
      ],
      "text/plain": [
       "[1] 0.8365759"
      ]
     },
     "metadata": {},
     "output_type": "display_data"
    }
   ],
   "source": [
    "baseline_acc = 215 / nrow(test)\n",
    "baseline_acc"
   ]
  },
  {
   "cell_type": "markdown",
   "metadata": {},
   "source": [
    "### The ROC Curve"
   ]
  },
  {
   "cell_type": "code",
   "execution_count": 61,
   "metadata": {},
   "outputs": [
    {
     "name": "stderr",
     "output_type": "stream",
     "text": [
      "Loading required package: gplots\n",
      "\n",
      "\n",
      "Attaching package: 'gplots'\n",
      "\n",
      "\n",
      "The following object is masked from 'package:stats':\n",
      "\n",
      "    lowess\n",
      "\n",
      "\n"
     ]
    }
   ],
   "source": [
    "library(\"ROCR\")"
   ]
  },
  {
   "cell_type": "code",
   "execution_count": 62,
   "metadata": {},
   "outputs": [],
   "source": [
    "predROCR = prediction(pred.prob, test$responsive)"
   ]
  },
  {
   "cell_type": "code",
   "execution_count": 63,
   "metadata": {},
   "outputs": [],
   "source": [
    "perfROCR = performance(predROCR, \"tpr\", \"fpr\")"
   ]
  },
  {
   "cell_type": "code",
   "execution_count": 64,
   "metadata": {},
   "outputs": [
    {
     "data": {
      "image/png": "[encoded data removed]",
      "text/plain": [
       "plot without title"
      ]
     },
     "metadata": {
      "image/png": {
       "height": 420,
       "width": 420
      }
     },
     "output_type": "display_data"
    }
   ],
   "source": [
    "plot(perfROCR, colorize = TRUE)"
   ]
  },
  {
   "cell_type": "code",
   "execution_count": 65,
   "metadata": {},
   "outputs": [
    {
     "data": {
      "text/html": [
       "<ol>\n",
       "\t<li>0.793632336655593</li>\n",
       "</ol>\n"
      ],
      "text/latex": [
       "\\begin{enumerate}\n",
       "\\item 0.793632336655593\n",
       "\\end{enumerate}\n"
      ],
      "text/markdown": [
       "1. 0.793632336655593\n",
       "\n",
       "\n"
      ],
      "text/plain": [
       "[[1]]\n",
       "[1] 0.7936323\n"
      ]
     },
     "metadata": {},
     "output_type": "display_data"
    }
   ],
   "source": [
    "performance(predROCR, \"auc\")@y.values"
   ]
  }
 ],
 "metadata": {
  "kernelspec": {
   "display_name": "R",
   "language": "R",
   "name": "ir"
  },
  "language_info": {
   "codemirror_mode": "r",
   "file_extension": ".r",
   "mimetype": "text/x-r-source",
   "name": "R",
   "pygments_lexer": "r",
   "version": "3.6.3"
  }
 },
 "nbformat": 4,
 "nbformat_minor": 4
}
