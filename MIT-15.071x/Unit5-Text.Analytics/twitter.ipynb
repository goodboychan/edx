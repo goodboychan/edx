{
 "cells": [
  {
   "cell_type": "markdown",
   "metadata": {},
   "source": [
    "# Turning Tweets into Knowledge: An Introduction to Text Analytics"
   ]
  },
  {
   "cell_type": "markdown",
   "metadata": {},
   "source": [
    "This data is provided courtesy of Twitter, and appropriate use of the data includes the following:\n",
    "\n",
    "- The dataset tweets.csv is for use in this course only, and you may not redistribute or reuse this data for any purpose unrelated to this course.\n",
    "- You may not extract personal information from the data or use it to identify individuals.\n",
    "- You may not publically display any data in tweets.csv, or distribute tweets.csv to any third parties not participating in this course.\n",
    "- At the conclusion of this course, you must permanently delete tweets.csv from your computer."
   ]
  },
  {
   "cell_type": "markdown",
   "metadata": {},
   "source": [
    "To handle the locale problem:"
   ]
  },
  {
   "cell_type": "code",
   "execution_count": 1,
   "metadata": {},
   "outputs": [
    {
     "data": {
      "text/html": [
       "'LC_CTYPE=C;LC_NUMERIC=C;LC_TIME=C;LC_COLLATE=C;LC_MONETARY=C;LC_MESSAGES=en_US.UTF-8;LC_PAPER=ko_KR.UTF-8;LC_NAME=C;LC_ADDRESS=C;LC_TELEPHONE=C;LC_MEASUREMENT=ko_KR.UTF-8;LC_IDENTIFICATION=C'"
      ],
      "text/latex": [
       "'LC\\_CTYPE=C;LC\\_NUMERIC=C;LC\\_TIME=C;LC\\_COLLATE=C;LC\\_MONETARY=C;LC\\_MESSAGES=en\\_US.UTF-8;LC\\_PAPER=ko\\_KR.UTF-8;LC\\_NAME=C;LC\\_ADDRESS=C;LC\\_TELEPHONE=C;LC\\_MEASUREMENT=ko\\_KR.UTF-8;LC\\_IDENTIFICATION=C'"
      ],
      "text/markdown": [
       "'LC_CTYPE=C;LC_NUMERIC=C;LC_TIME=C;LC_COLLATE=C;LC_MONETARY=C;LC_MESSAGES=en_US.UTF-8;LC_PAPER=ko_KR.UTF-8;LC_NAME=C;LC_ADDRESS=C;LC_TELEPHONE=C;LC_MEASUREMENT=ko_KR.UTF-8;LC_IDENTIFICATION=C'"
      ],
      "text/plain": [
       "[1] \"LC_CTYPE=C;LC_NUMERIC=C;LC_TIME=C;LC_COLLATE=C;LC_MONETARY=C;LC_MESSAGES=en_US.UTF-8;LC_PAPER=ko_KR.UTF-8;LC_NAME=C;LC_ADDRESS=C;LC_TELEPHONE=C;LC_MEASUREMENT=ko_KR.UTF-8;LC_IDENTIFICATION=C\""
      ]
     },
     "metadata": {},
     "output_type": "display_data"
    }
   ],
   "source": [
    "Sys.setlocale(\"LC_ALL\", \"C\")"
   ]
  },
  {
   "cell_type": "markdown",
   "metadata": {},
   "source": [
    "## Pre-Processing in R"
   ]
  },
  {
   "cell_type": "code",
   "execution_count": 2,
   "metadata": {},
   "outputs": [
    {
     "name": "stderr",
     "output_type": "stream",
     "text": [
      "Warning message in file(file, \"rt\"):\n",
      "\"cannot open file './dataset/tweets.csv': No such file or directory\"\n"
     ]
    },
    {
     "ename": "ERROR",
     "evalue": "Error in file(file, \"rt\"): cannot open the connection\n",
     "output_type": "error",
     "traceback": [
      "Error in file(file, \"rt\"): cannot open the connection\nTraceback:\n",
      "1. read.csv(\"./dataset/tweets.csv\", stringsAsFactors = FALSE)",
      "2. read.table(file = file, header = header, sep = sep, quote = quote, \n .     dec = dec, fill = fill, comment.char = comment.char, ...)",
      "3. file(file, \"rt\")"
     ]
    }
   ],
   "source": [
    "tweets = read.csv(\"./dataset/tweets.csv\", stringsAsFactors=FALSE)"
   ]
  },
  {
   "cell_type": "code",
   "execution_count": 3,
   "metadata": {},
   "outputs": [
    {
     "name": "stdout",
     "output_type": "stream",
     "text": [
      "'data.frame':\t1181 obs. of  2 variables:\n",
      " $ Tweet: chr  \"I have to say, Apple has by far the best customer care service I have ever received! @Apple @AppStore\" \"iOS 7 is so fricking smooth & beautiful!! #ThanxApple @Apple\" \"LOVE U @APPLE\" \"Thank you @apple, loving my new iPhone 5S!!!!!  #apple #iphone5S pic.twitter.com/XmHJCU4pcb\" ...\n",
      " $ Avg  : num  2 2 1.8 1.8 1.8 1.8 1.8 1.6 1.6 1.6 ...\n"
     ]
    }
   ],
   "source": [
    "str(tweets)"
   ]
  },
  {
   "cell_type": "code",
   "execution_count": 4,
   "metadata": {},
   "outputs": [],
   "source": [
    "tweets$Negative = as.factor(tweets$Avg <= -1)"
   ]
  },
  {
   "cell_type": "code",
   "execution_count": 5,
   "metadata": {},
   "outputs": [
    {
     "data": {
      "text/plain": [
       "\n",
       "FALSE  TRUE \n",
       "  999   182 "
      ]
     },
     "metadata": {},
     "output_type": "display_data"
    }
   ],
   "source": [
    "table(tweets$Negative)"
   ]
  },
  {
   "cell_type": "markdown",
   "metadata": {},
   "source": [
    "Requires to install ```tm``` packages\n",
    "```R\n",
    "install.packages(\"tm\")\n",
    "install.packages(\"SnowballC\")\n",
    "```"
   ]
  },
  {
   "cell_type": "code",
   "execution_count": 6,
   "metadata": {},
   "outputs": [
    {
     "name": "stderr",
     "output_type": "stream",
     "text": [
      "Loading required package: NLP\n",
      "\n"
     ]
    }
   ],
   "source": [
    "library(\"tm\")\n",
    "library(\"SnowballC\")"
   ]
  },
  {
   "cell_type": "code",
   "execution_count": 12,
   "metadata": {},
   "outputs": [
    {
     "data": {
      "text/plain": [
       "<<VCorpus>>\n",
       "Metadata:  corpus specific: 0, document level (indexed): 0\n",
       "Content:  documents: 1181"
      ]
     },
     "metadata": {},
     "output_type": "display_data"
    }
   ],
   "source": [
    "corpus = VCorpus(VectorSource(tweets$Tweet))\n",
    "corpus"
   ]
  },
  {
   "cell_type": "code",
   "execution_count": 13,
   "metadata": {},
   "outputs": [
    {
     "data": {
      "text/html": [
       "'I have to say, Apple has by far the best customer care service I have ever received! @Apple @AppStore'"
      ],
      "text/latex": [
       "'I have to say, Apple has by far the best customer care service I have ever received! @Apple @AppStore'"
      ],
      "text/markdown": [
       "'I have to say, Apple has by far the best customer care service I have ever received! @Apple @AppStore'"
      ],
      "text/plain": [
       "[1] \"I have to say, Apple has by far the best customer care service I have ever received! @Apple @AppStore\""
      ]
     },
     "metadata": {},
     "output_type": "display_data"
    }
   ],
   "source": [
    "corpus[[1]]$content"
   ]
  },
  {
   "cell_type": "markdown",
   "metadata": {},
   "source": [
    "To lower the corpus,"
   ]
  },
  {
   "cell_type": "code",
   "execution_count": 14,
   "metadata": {},
   "outputs": [],
   "source": [
    "corpus = tm_map(corpus, content_transformer(tolower))"
   ]
  },
  {
   "cell_type": "code",
   "execution_count": 15,
   "metadata": {},
   "outputs": [
    {
     "data": {
      "text/html": [
       "'i have to say, apple has by far the best customer care service i have ever received! @apple @appstore'"
      ],
      "text/latex": [
       "'i have to say, apple has by far the best customer care service i have ever received! @apple @appstore'"
      ],
      "text/markdown": [
       "'i have to say, apple has by far the best customer care service i have ever received! @apple @appstore'"
      ],
      "text/plain": [
       "[1] \"i have to say, apple has by far the best customer care service i have ever received! @apple @appstore\""
      ]
     },
     "metadata": {},
     "output_type": "display_data"
    }
   ],
   "source": [
    "corpus[[1]]$content"
   ]
  },
  {
   "cell_type": "markdown",
   "metadata": {},
   "source": [
    "To remove any Puctuation,"
   ]
  },
  {
   "cell_type": "code",
   "execution_count": 16,
   "metadata": {},
   "outputs": [
    {
     "data": {
      "text/html": [
       "'i have to say apple has by far the best customer care service i have ever received apple appstore'"
      ],
      "text/latex": [
       "'i have to say apple has by far the best customer care service i have ever received apple appstore'"
      ],
      "text/markdown": [
       "'i have to say apple has by far the best customer care service i have ever received apple appstore'"
      ],
      "text/plain": [
       "[1] \"i have to say apple has by far the best customer care service i have ever received apple appstore\""
      ]
     },
     "metadata": {},
     "output_type": "display_data"
    }
   ],
   "source": [
    "corpus = tm_map(corpus, removePunctuation)\n",
    "corpus[[1]]$content"
   ]
  },
  {
   "cell_type": "code",
   "execution_count": 17,
   "metadata": {},
   "outputs": [
    {
     "data": {
      "text/html": [
       "<style>\n",
       ".list-inline {list-style: none; margin:0; padding: 0}\n",
       ".list-inline>li {display: inline-block}\n",
       ".list-inline>li:not(:last-child)::after {content: \"\\00b7\"; padding: 0 .5ex}\n",
       "</style>\n",
       "<ol class=list-inline><li>'i'</li><li>'me'</li><li>'my'</li><li>'myself'</li><li>'we'</li><li>'our'</li><li>'ours'</li><li>'ourselves'</li><li>'you'</li><li>'your'</li></ol>\n"
      ],
      "text/latex": [
       "\\begin{enumerate*}\n",
       "\\item 'i'\n",
       "\\item 'me'\n",
       "\\item 'my'\n",
       "\\item 'myself'\n",
       "\\item 'we'\n",
       "\\item 'our'\n",
       "\\item 'ours'\n",
       "\\item 'ourselves'\n",
       "\\item 'you'\n",
       "\\item 'your'\n",
       "\\end{enumerate*}\n"
      ],
      "text/markdown": [
       "1. 'i'\n",
       "2. 'me'\n",
       "3. 'my'\n",
       "4. 'myself'\n",
       "5. 'we'\n",
       "6. 'our'\n",
       "7. 'ours'\n",
       "8. 'ourselves'\n",
       "9. 'you'\n",
       "10. 'your'\n",
       "\n",
       "\n"
      ],
      "text/plain": [
       " [1] \"i\"         \"me\"        \"my\"        \"myself\"    \"we\"        \"our\"      \n",
       " [7] \"ours\"      \"ourselves\" \"you\"       \"your\"     "
      ]
     },
     "metadata": {},
     "output_type": "display_data"
    }
   ],
   "source": [
    "stopwords(\"english\")[1:10]"
   ]
  },
  {
   "cell_type": "code",
   "execution_count": 18,
   "metadata": {},
   "outputs": [
    {
     "data": {
      "text/html": [
       "<span style=white-space:pre-wrap>'   say    far  best customer care service   ever received  appstore'</span>"
      ],
      "text/latex": [
       "'   say    far  best customer care service   ever received  appstore'"
      ],
      "text/markdown": [
       "<span style=white-space:pre-wrap>'   say    far  best customer care service   ever received  appstore'</span>"
      ],
      "text/plain": [
       "[1] \"   say    far  best customer care service   ever received  appstore\""
      ]
     },
     "metadata": {},
     "output_type": "display_data"
    }
   ],
   "source": [
    "corpus = tm_map(corpus, removeWords, c(\"apple\", stopwords(\"english\")))\n",
    "corpus[[1]]$content"
   ]
  },
  {
   "cell_type": "markdown",
   "metadata": {},
   "source": [
    "Stem the Document"
   ]
  },
  {
   "cell_type": "code",
   "execution_count": 19,
   "metadata": {},
   "outputs": [
    {
     "data": {
      "text/html": [
       "'say far best custom care servic ever receiv appstor'"
      ],
      "text/latex": [
       "'say far best custom care servic ever receiv appstor'"
      ],
      "text/markdown": [
       "'say far best custom care servic ever receiv appstor'"
      ],
      "text/plain": [
       "[1] \"say far best custom care servic ever receiv appstor\""
      ]
     },
     "metadata": {},
     "output_type": "display_data"
    }
   ],
   "source": [
    "corpus = tm_map(corpus, stemDocument)\n",
    "corpus[[1]]$content"
   ]
  },
  {
   "cell_type": "markdown",
   "metadata": {},
   "source": [
    "## Bag of Words in R"
   ]
  },
  {
   "cell_type": "code",
   "execution_count": 20,
   "metadata": {},
   "outputs": [
    {
     "data": {
      "text/plain": [
       "<<DocumentTermMatrix (documents: 1181, terms: 3289)>>\n",
       "Non-/sparse entries: 8980/3875329\n",
       "Sparsity           : 100%\n",
       "Maximal term length: 115\n",
       "Weighting          : term frequency (tf)"
      ]
     },
     "metadata": {},
     "output_type": "display_data"
    }
   ],
   "source": [
    "frequencies = DocumentTermMatrix(corpus)\n",
    "frequencies"
   ]
  },
  {
   "cell_type": "code",
   "execution_count": 21,
   "metadata": {},
   "outputs": [
    {
     "name": "stdout",
     "output_type": "stream",
     "text": [
      "<<DocumentTermMatrix (documents: 6, terms: 11)>>\n",
      "Non-/sparse entries: 1/65\n",
      "Sparsity           : 98%\n",
      "Maximal term length: 9\n",
      "Weighting          : term frequency (tf)\n",
      "Sample             :\n",
      "      Terms\n",
      "Docs   cheapen cheaper check cheep cheer cheerio cherylcol chief chiiiiqu child\n",
      "  1000       0       0     0     0     0       0         0     0        0     0\n",
      "  1001       0       0     0     0     0       0         0     0        0     0\n",
      "  1002       0       0     0     0     0       0         0     0        0     0\n",
      "  1003       0       0     0     0     0       0         0     0        0     0\n",
      "  1004       0       0     0     0     0       0         0     0        0     0\n",
      "  1005       0       0     0     0     1       0         0     0        0     0\n"
     ]
    }
   ],
   "source": [
    "inspect(frequencies[1000:1005, 505:515])"
   ]
  },
  {
   "cell_type": "code",
   "execution_count": 22,
   "metadata": {},
   "outputs": [
    {
     "data": {
      "text/html": [
       "<style>\n",
       ".list-inline {list-style: none; margin:0; padding: 0}\n",
       ".list-inline>li {display: inline-block}\n",
       ".list-inline>li:not(:last-child)::after {content: \"\\00b7\"; padding: 0 .5ex}\n",
       "</style>\n",
       "<ol class=list-inline><li>'android'</li><li>'anyon'</li><li>'app'</li><li>'appl'</li><li>'back'</li><li>'batteri'</li><li>'better'</li><li>'buy'</li><li>'can'</li><li>'cant'</li><li>'come'</li><li>'dont'</li><li>'fingerprint'</li><li>'freak'</li><li>'get'</li><li>'googl'</li><li>'ios7'</li><li>'ipad'</li><li>'iphon'</li><li>'iphone5'</li><li>'iphone5c'</li><li>'ipod'</li><li>'ipodplayerpromo'</li><li>'itun'</li><li>'just'</li><li>'like'</li><li>'lol'</li><li>'look'</li><li>'love'</li><li>'make'</li><li>'market'</li><li>'microsoft'</li><li>'need'</li><li>'new'</li><li>'now'</li><li>'one'</li><li>'phone'</li><li>'pleas'</li><li>'promo'</li><li>'promoipodplayerpromo'</li><li>'realli'</li><li>'releas'</li><li>'samsung'</li><li>'say'</li><li>'store'</li><li>'thank'</li><li>'think'</li><li>'time'</li><li>'twitter'</li><li>'updat'</li><li>'use'</li><li>'via'</li><li>'want'</li><li>'well'</li><li>'will'</li><li>'work'</li></ol>\n"
      ],
      "text/latex": [
       "\\begin{enumerate*}\n",
       "\\item 'android'\n",
       "\\item 'anyon'\n",
       "\\item 'app'\n",
       "\\item 'appl'\n",
       "\\item 'back'\n",
       "\\item 'batteri'\n",
       "\\item 'better'\n",
       "\\item 'buy'\n",
       "\\item 'can'\n",
       "\\item 'cant'\n",
       "\\item 'come'\n",
       "\\item 'dont'\n",
       "\\item 'fingerprint'\n",
       "\\item 'freak'\n",
       "\\item 'get'\n",
       "\\item 'googl'\n",
       "\\item 'ios7'\n",
       "\\item 'ipad'\n",
       "\\item 'iphon'\n",
       "\\item 'iphone5'\n",
       "\\item 'iphone5c'\n",
       "\\item 'ipod'\n",
       "\\item 'ipodplayerpromo'\n",
       "\\item 'itun'\n",
       "\\item 'just'\n",
       "\\item 'like'\n",
       "\\item 'lol'\n",
       "\\item 'look'\n",
       "\\item 'love'\n",
       "\\item 'make'\n",
       "\\item 'market'\n",
       "\\item 'microsoft'\n",
       "\\item 'need'\n",
       "\\item 'new'\n",
       "\\item 'now'\n",
       "\\item 'one'\n",
       "\\item 'phone'\n",
       "\\item 'pleas'\n",
       "\\item 'promo'\n",
       "\\item 'promoipodplayerpromo'\n",
       "\\item 'realli'\n",
       "\\item 'releas'\n",
       "\\item 'samsung'\n",
       "\\item 'say'\n",
       "\\item 'store'\n",
       "\\item 'thank'\n",
       "\\item 'think'\n",
       "\\item 'time'\n",
       "\\item 'twitter'\n",
       "\\item 'updat'\n",
       "\\item 'use'\n",
       "\\item 'via'\n",
       "\\item 'want'\n",
       "\\item 'well'\n",
       "\\item 'will'\n",
       "\\item 'work'\n",
       "\\end{enumerate*}\n"
      ],
      "text/markdown": [
       "1. 'android'\n",
       "2. 'anyon'\n",
       "3. 'app'\n",
       "4. 'appl'\n",
       "5. 'back'\n",
       "6. 'batteri'\n",
       "7. 'better'\n",
       "8. 'buy'\n",
       "9. 'can'\n",
       "10. 'cant'\n",
       "11. 'come'\n",
       "12. 'dont'\n",
       "13. 'fingerprint'\n",
       "14. 'freak'\n",
       "15. 'get'\n",
       "16. 'googl'\n",
       "17. 'ios7'\n",
       "18. 'ipad'\n",
       "19. 'iphon'\n",
       "20. 'iphone5'\n",
       "21. 'iphone5c'\n",
       "22. 'ipod'\n",
       "23. 'ipodplayerpromo'\n",
       "24. 'itun'\n",
       "25. 'just'\n",
       "26. 'like'\n",
       "27. 'lol'\n",
       "28. 'look'\n",
       "29. 'love'\n",
       "30. 'make'\n",
       "31. 'market'\n",
       "32. 'microsoft'\n",
       "33. 'need'\n",
       "34. 'new'\n",
       "35. 'now'\n",
       "36. 'one'\n",
       "37. 'phone'\n",
       "38. 'pleas'\n",
       "39. 'promo'\n",
       "40. 'promoipodplayerpromo'\n",
       "41. 'realli'\n",
       "42. 'releas'\n",
       "43. 'samsung'\n",
       "44. 'say'\n",
       "45. 'store'\n",
       "46. 'thank'\n",
       "47. 'think'\n",
       "48. 'time'\n",
       "49. 'twitter'\n",
       "50. 'updat'\n",
       "51. 'use'\n",
       "52. 'via'\n",
       "53. 'want'\n",
       "54. 'well'\n",
       "55. 'will'\n",
       "56. 'work'\n",
       "\n",
       "\n"
      ],
      "text/plain": [
       " [1] \"android\"              \"anyon\"                \"app\"                 \n",
       " [4] \"appl\"                 \"back\"                 \"batteri\"             \n",
       " [7] \"better\"               \"buy\"                  \"can\"                 \n",
       "[10] \"cant\"                 \"come\"                 \"dont\"                \n",
       "[13] \"fingerprint\"          \"freak\"                \"get\"                 \n",
       "[16] \"googl\"                \"ios7\"                 \"ipad\"                \n",
       "[19] \"iphon\"                \"iphone5\"              \"iphone5c\"            \n",
       "[22] \"ipod\"                 \"ipodplayerpromo\"      \"itun\"                \n",
       "[25] \"just\"                 \"like\"                 \"lol\"                 \n",
       "[28] \"look\"                 \"love\"                 \"make\"                \n",
       "[31] \"market\"               \"microsoft\"            \"need\"                \n",
       "[34] \"new\"                  \"now\"                  \"one\"                 \n",
       "[37] \"phone\"                \"pleas\"                \"promo\"               \n",
       "[40] \"promoipodplayerpromo\" \"realli\"               \"releas\"              \n",
       "[43] \"samsung\"              \"say\"                  \"store\"               \n",
       "[46] \"thank\"                \"think\"                \"time\"                \n",
       "[49] \"twitter\"              \"updat\"                \"use\"                 \n",
       "[52] \"via\"                  \"want\"                 \"well\"                \n",
       "[55] \"will\"                 \"work\"                "
      ]
     },
     "metadata": {},
     "output_type": "display_data"
    }
   ],
   "source": [
    "findFreqTerms(frequencies, lowfreq=20)"
   ]
  },
  {
   "cell_type": "code",
   "execution_count": 23,
   "metadata": {},
   "outputs": [
    {
     "data": {
      "text/plain": [
       "<<DocumentTermMatrix (documents: 1181, terms: 309)>>\n",
       "Non-/sparse entries: 4669/360260\n",
       "Sparsity           : 99%\n",
       "Maximal term length: 20\n",
       "Weighting          : term frequency (tf)"
      ]
     },
     "metadata": {},
     "output_type": "display_data"
    }
   ],
   "source": [
    "sparse = removeSparseTerms(frequencies, 0.995)\n",
    "sparse"
   ]
  },
  {
   "cell_type": "code",
   "execution_count": 24,
   "metadata": {},
   "outputs": [],
   "source": [
    "tweetsSparse = as.data.frame(as.matrix(sparse))"
   ]
  },
  {
   "cell_type": "code",
   "execution_count": 25,
   "metadata": {},
   "outputs": [],
   "source": [
    "colnames(tweetsSparse) = make.names(colnames(tweetsSparse))"
   ]
  },
  {
   "cell_type": "code",
   "execution_count": 26,
   "metadata": {},
   "outputs": [],
   "source": [
    "tweetsSparse$Negative = tweets$Negative"
   ]
  },
  {
   "cell_type": "code",
   "execution_count": 27,
   "metadata": {},
   "outputs": [],
   "source": [
    "library(\"caTools\")"
   ]
  },
  {
   "cell_type": "code",
   "execution_count": 28,
   "metadata": {},
   "outputs": [],
   "source": [
    "set.seed(123)"
   ]
  },
  {
   "cell_type": "code",
   "execution_count": 29,
   "metadata": {},
   "outputs": [],
   "source": [
    "split = sample.split(tweetsSparse$Negative, SplitRatio=0.7)\n",
    "trainSparse = subset(tweetsSparse, split == TRUE)\n",
    "testSparse = subset(tweetsSparse, split == FALSE)"
   ]
  },
  {
   "cell_type": "markdown",
   "metadata": {},
   "source": [
    "### Quick Question"
   ]
  },
  {
   "cell_type": "code",
   "execution_count": 30,
   "metadata": {},
   "outputs": [
    {
     "data": {
      "text/html": [
       "<style>\n",
       ".list-inline {list-style: none; margin:0; padding: 0}\n",
       ".list-inline>li {display: inline-block}\n",
       ".list-inline>li:not(:last-child)::after {content: \"\\00b7\"; padding: 0 .5ex}\n",
       "</style>\n",
       "<ol class=list-inline><li>'iphon'</li><li>'itun'</li><li>'new'</li></ol>\n"
      ],
      "text/latex": [
       "\\begin{enumerate*}\n",
       "\\item 'iphon'\n",
       "\\item 'itun'\n",
       "\\item 'new'\n",
       "\\end{enumerate*}\n"
      ],
      "text/markdown": [
       "1. 'iphon'\n",
       "2. 'itun'\n",
       "3. 'new'\n",
       "\n",
       "\n"
      ],
      "text/plain": [
       "[1] \"iphon\" \"itun\"  \"new\"  "
      ]
     },
     "metadata": {},
     "output_type": "display_data"
    }
   ],
   "source": [
    "findFreqTerms(frequencies, lowfreq = 100)"
   ]
  },
  {
   "cell_type": "markdown",
   "metadata": {},
   "source": [
    "## Predicting Sentiment"
   ]
  },
  {
   "cell_type": "markdown",
   "metadata": {},
   "source": [
    "### CART"
   ]
  },
  {
   "cell_type": "code",
   "execution_count": 31,
   "metadata": {},
   "outputs": [],
   "source": [
    "library(\"rpart\")\n",
    "library(\"rpart.plot\")"
   ]
  },
  {
   "cell_type": "code",
   "execution_count": 32,
   "metadata": {},
   "outputs": [],
   "source": [
    "tweetCART = rpart(Negative ~ ., data=trainSparse, method=\"class\")"
   ]
  },
  {
   "cell_type": "code",
   "execution_count": 33,
   "metadata": {},
   "outputs": [
    {
     "data": {
      "image/png": "[encoded data removed]",
      "text/plain": [
       "plot without title"
      ]
     },
     "metadata": {
      "image/png": {
       "height": 420,
       "width": 420
      },
      "text/plain": {
       "height": 420,
       "width": 420
      }
     },
     "output_type": "display_data"
    }
   ],
   "source": [
    "prp(tweetCART)"
   ]
  },
  {
   "cell_type": "code",
   "execution_count": 34,
   "metadata": {},
   "outputs": [
    {
     "data": {
      "text/plain": [
       "       predictCART\n",
       "        FALSE TRUE\n",
       "  FALSE   294    6\n",
       "  TRUE     37   18"
      ]
     },
     "metadata": {},
     "output_type": "display_data"
    }
   ],
   "source": [
    "predictCART = predict(tweetCART, newdata=testSparse, type=\"class\")\n",
    "table(testSparse$Negative, predictCART)"
   ]
  },
  {
   "cell_type": "code",
   "execution_count": 36,
   "metadata": {},
   "outputs": [
    {
     "data": {
      "text/html": [
       "0.87887323943662"
      ],
      "text/latex": [
       "0.87887323943662"
      ],
      "text/markdown": [
       "0.87887323943662"
      ],
      "text/plain": [
       "[1] 0.8788732"
      ]
     },
     "metadata": {},
     "output_type": "display_data"
    }
   ],
   "source": [
    "accuracy = (294 + 18) / nrow(testSparse)\n",
    "accuracy"
   ]
  },
  {
   "cell_type": "code",
   "execution_count": 37,
   "metadata": {},
   "outputs": [
    {
     "data": {
      "text/plain": [
       "\n",
       "FALSE  TRUE \n",
       "  300    55 "
      ]
     },
     "metadata": {},
     "output_type": "display_data"
    }
   ],
   "source": [
    "table(testSparse$Negative)"
   ]
  },
  {
   "cell_type": "code",
   "execution_count": 38,
   "metadata": {},
   "outputs": [
    {
     "data": {
      "text/html": [
       "0.845070422535211"
      ],
      "text/latex": [
       "0.845070422535211"
      ],
      "text/markdown": [
       "0.845070422535211"
      ],
      "text/plain": [
       "[1] 0.8450704"
      ]
     },
     "metadata": {},
     "output_type": "display_data"
    }
   ],
   "source": [
    "baseline_acc = 300 / 355\n",
    "baseline_acc"
   ]
  },
  {
   "cell_type": "markdown",
   "metadata": {},
   "source": [
    "### Random Forest"
   ]
  },
  {
   "cell_type": "code",
   "execution_count": 40,
   "metadata": {},
   "outputs": [],
   "source": [
    "library(\"randomForest\")\n",
    "set.seed(123)"
   ]
  },
  {
   "cell_type": "code",
   "execution_count": 41,
   "metadata": {},
   "outputs": [],
   "source": [
    "tweetRF = randomForest(Negative ~ ., data=trainSparse)"
   ]
  },
  {
   "cell_type": "code",
   "execution_count": 42,
   "metadata": {},
   "outputs": [
    {
     "data": {
      "text/plain": [
       "       predictRF\n",
       "        FALSE TRUE\n",
       "  FALSE   293    7\n",
       "  TRUE     34   21"
      ]
     },
     "metadata": {},
     "output_type": "display_data"
    }
   ],
   "source": [
    "predictRF = predict(tweetRF, newdata=testSparse)\n",
    "table(testSparse$Negative, predictRF)"
   ]
  },
  {
   "cell_type": "code",
   "execution_count": 43,
   "metadata": {},
   "outputs": [
    {
     "data": {
      "text/html": [
       "0.884507042253521"
      ],
      "text/latex": [
       "0.884507042253521"
      ],
      "text/markdown": [
       "0.884507042253521"
      ],
      "text/plain": [
       "[1] 0.884507"
      ]
     },
     "metadata": {},
     "output_type": "display_data"
    }
   ],
   "source": [
    "rf_accuracy = (293 + 21) / nrow(testSparse)\n",
    "rf_accuracy"
   ]
  },
  {
   "cell_type": "markdown",
   "metadata": {},
   "source": [
    "### Quick Question : Logistic Regression"
   ]
  },
  {
   "cell_type": "code",
   "execution_count": 48,
   "metadata": {},
   "outputs": [
    {
     "name": "stderr",
     "output_type": "stream",
     "text": [
      "Warning message:\n",
      "\"glm.fit: algorithm did not converge\"\n",
      "Warning message:\n",
      "\"glm.fit: fitted probabilities numerically 0 or 1 occurred\"\n"
     ]
    }
   ],
   "source": [
    "tweetLog = glm(Negative ~ ., data=trainSparse, family='binomial')"
   ]
  },
  {
   "cell_type": "code",
   "execution_count": 49,
   "metadata": {},
   "outputs": [
    {
     "name": "stderr",
     "output_type": "stream",
     "text": [
      "Warning message in predict.lm(object, newdata, se.fit, scale = 1, type = if (type == :\n",
      "\"prediction from a rank-deficient fit may be misleading\"\n"
     ]
    }
   ],
   "source": [
    "predictLog = predict(tweetLog, newdata=testSparse, type='response')"
   ]
  },
  {
   "cell_type": "code",
   "execution_count": 50,
   "metadata": {},
   "outputs": [
    {
     "data": {
      "text/plain": [
       "       \n",
       "        FALSE TRUE\n",
       "  FALSE   254   46\n",
       "  TRUE     25   30"
      ]
     },
     "metadata": {},
     "output_type": "display_data"
    }
   ],
   "source": [
    "table(testSparse$Negative, predictLog > 0.5)"
   ]
  },
  {
   "cell_type": "code",
   "execution_count": 51,
   "metadata": {},
   "outputs": [
    {
     "data": {
      "text/html": [
       "0.8"
      ],
      "text/latex": [
       "0.8"
      ],
      "text/markdown": [
       "0.8"
      ],
      "text/plain": [
       "[1] 0.8"
      ]
     },
     "metadata": {},
     "output_type": "display_data"
    }
   ],
   "source": [
    "log_accuracy = (254 + 30) / nrow(testSparse)\n",
    "log_accuracy"
   ]
  },
  {
   "cell_type": "markdown",
   "metadata": {},
   "source": [
    "If you were to compute the accuracy on the training set instead, you would see that the model does really well on the training set - this is an example of over-fitting. The model fits the training set really well, but does not perform well on the test set. A logistic regression model with a large number of variables is particularly at risk for overfitting.\n",
    "\n",
    "Note that you might have gotten a different answer than us, because the glm function struggles with this many variables. The warning messages that you might have seen in this problem have to do with the number of variables, and the fact that the model is overfitting to the training set."
   ]
  }
 ],
 "metadata": {
  "kernelspec": {
   "display_name": "R",
   "language": "R",
   "name": "ir"
  },
  "language_info": {
   "codemirror_mode": "r",
   "file_extension": ".r",
   "mimetype": "text/x-r-source",
   "name": "R",
   "pygments_lexer": "r",
   "version": "3.6.2"
  }
 },
 "nbformat": 4,
 "nbformat_minor": 4
}
