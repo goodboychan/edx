{
 "cells": [
  {
   "cell_type": "markdown",
   "metadata": {},
   "source": [
    "# Separating Spam from Ham"
   ]
  },
  {
   "cell_type": "markdown",
   "metadata": {},
   "source": [
    "Nearly every email user has at some point encountered a \"spam\" email, which is an unsolicited message often advertising a product, containing links to malware, or attempting to scam the recipient. Roughly 80-90% of more than 100 billion emails sent each day are spam emails, most being sent from botnets of malware-infected computers. The remainder of emails are called \"ham\" emails.\n",
    "\n",
    "As a result of the huge number of spam emails being sent across the Internet each day, most email providers offer a spam filter that automatically flags likely spam messages and separates them from the ham. Though these filters use a number of techniques (e.g. looking up the sender in a so-called \"Blackhole List\" that contains IP addresses of likely spammers), most rely heavily on the analysis of the contents of an email via text analytics.\n",
    "\n",
    "In this homework problem, we will build and evaluate a spam filter using a publicly available dataset first described in the 2006 conference paper \"Spam Filtering with Naive Bayes -- Which Naive Bayes?\" by V. Metsis, I. Androutsopoulos, and G. Paliouras. The \"ham\" messages in this dataset come from the inbox of former Enron Managing Director for Research Vincent Kaminski, one of the inboxes in the Enron Corpus. One source of spam messages in this dataset is the SpamAssassin corpus, which contains hand-labeled spam messages contributed by Internet users. The remaining spam was collected by Project Honey Pot, a project that collects spam messages and identifies spammers by publishing email address that humans would know not to contact but that bots might target with spam. The full dataset we will use was constructed as roughly a 75/25 mix of the ham and spam messages.\n",
    "\n",
    "The dataset contains just two fields:\n",
    "\n",
    "- text: The text of the email.\n",
    "- spam: A binary variable indicating if the email was spam."
   ]
  },
  {
   "cell_type": "markdown",
   "metadata": {},
   "source": [
    "## Loading the Dataset"
   ]
  },
  {
   "cell_type": "code",
   "execution_count": 1,
   "metadata": {},
   "outputs": [],
   "source": [
    "emails = read.csv('./dataset/emails.csv', stringsAsFactors = FALSE, fileEncoding='utf-8')"
   ]
  },
  {
   "cell_type": "code",
   "execution_count": 2,
   "metadata": {},
   "outputs": [
    {
     "name": "stdout",
     "output_type": "stream",
     "text": [
      "'data.frame':\t5728 obs. of  2 variables:\n",
      " $ text: chr  \"Subject: naturally irresistible your corporate identity  lt is really hard to recollect a company : the  market\"| __truncated__ \"Subject: the stock trading gunslinger  fanny is merrill but muzo not colza attainder and penultimate like esmar\"| __truncated__ \"Subject: unbelievable new homes made easy  im wanting to show you this  homeowner  you have been pre - approved\"| __truncated__ \"Subject: 4 color printing special  request additional information now ! click here  click here for a printable \"| __truncated__ ...\n",
      " $ spam: int  1 1 1 1 1 1 1 1 1 1 ...\n"
     ]
    }
   ],
   "source": [
    "str(emails)"
   ]
  },
  {
   "cell_type": "code",
   "execution_count": 3,
   "metadata": {},
   "outputs": [
    {
     "data": {
      "text/plain": [
       "\n",
       "   0    1 \n",
       "4360 1368 "
      ]
     },
     "metadata": {},
     "output_type": "display_data"
    }
   ],
   "source": [
    "table(emails$spam)"
   ]
  },
  {
   "cell_type": "code",
   "execution_count": 5,
   "metadata": {},
   "outputs": [
    {
     "data": {
      "text/html": [
       "<style>\n",
       ".list-inline {list-style: none; margin:0; padding: 0}\n",
       ".list-inline>li {display: inline-block}\n",
       ".list-inline>li:not(:last-child)::after {content: \"\\00b7\"; padding: 0 .5ex}\n",
       "</style>\n",
       "<ol class=list-inline><li><span style=white-space:pre-wrap>'Subject: naturally irresistible your corporate identity  lt is really hard to recollect a company : the  market is full of suqgestions and the information isoverwhelminq ; but a good  catchy logo , stylish statlonery and outstanding website  will make the task much easier .  we do not promise that havinq ordered a iogo your  company will automaticaily become a world ieader : it isguite ciear that  without good products , effective business organization and practicable aim it  will be hotat nowadays market ; but we do promise that your marketing efforts  will become much more effective . here is the list of clear  benefits : creativeness : hand - made , original logos , specially done  to reflect your distinctive company image . convenience : logo and stationery  are provided in all formats ; easy - to - use content management system letsyou  change your website content and even its structure . promptness : you  will see logo drafts within three business days . affordability : your  marketing break - through shouldn \\' t make gaps in your budget . 100 % satisfaction  guaranteed : we provide unlimited amount of changes with no extra fees for you to  be surethat you will love the result of this collaboration . have a look at our  portfolio _ _ _ _ _ _ _ _ _ _ _ _ _ _ _ _ _ _ _ _ _ _ _ _ _ _ _ _ _ _ _ _ _ _ _ _ _ _ _ _ _ _ _ _ _ _ _ _ _ _ _ _ not interested . . . _ _ _ _ _ _ _ _ _ _ _ _ _ _ _ _ _ _ _ _ _ _ _ _ _ _ _ _ _ _ _ _ _ _ _ _ _ _ _ _ _ _ _ _ _ _ _ _ _ _ _ _'</span></li><li><span style=white-space:pre-wrap>'Subject: the stock trading gunslinger  fanny is merrill but muzo not colza attainder and penultimate like esmark perspicuous ramble is segovia not group try slung kansas tanzania yes chameleon or continuant clothesman no  libretto is chesapeake but tight not waterway herald and hawthorn like chisel morristown superior is deoxyribonucleic not clockwork try hall incredible mcdougall yes hepburn or einsteinian earmark no  sapling is boar but duane not plain palfrey and inflexible like huzzah pepperoni bedtime is nameable not attire try edt chronography optima yes pirogue or diffusion albeit no '</span></li><li><span style=white-space:pre-wrap>'Subject: unbelievable new homes made easy  im wanting to show you this  homeowner  you have been pre - approved for a $ 454 , 169 home loan at a 3 . 72 fixed rate .  this offer is being extended to you unconditionally and your credit is in no way a factor .  to take advantage of this limited time opportunity  all we ask is that you visit our website and complete  the 1 minute post approval form  look foward to hearing from you ,  dorcas pittman'</span></li></ol>\n"
      ],
      "text/latex": [
       "\\begin{enumerate*}\n",
       "\\item 'Subject: naturally irresistible your corporate identity  lt is really hard to recollect a company : the  market is full of suqgestions and the information isoverwhelminq ; but a good  catchy logo , stylish statlonery and outstanding website  will make the task much easier .  we do not promise that havinq ordered a iogo your  company will automaticaily become a world ieader : it isguite ciear that  without good products , effective business organization and practicable aim it  will be hotat nowadays market ; but we do promise that your marketing efforts  will become much more effective . here is the list of clear  benefits : creativeness : hand - made , original logos , specially done  to reflect your distinctive company image . convenience : logo and stationery  are provided in all formats ; easy - to - use content management system letsyou  change your website content and even its structure . promptness : you  will see logo drafts within three business days . affordability : your  marketing break - through shouldn \\textbackslash{}' t make gaps in your budget . 100 \\% satisfaction  guaranteed : we provide unlimited amount of changes with no extra fees for you to  be surethat you will love the result of this collaboration . have a look at our  portfolio \\_ \\_ \\_ \\_ \\_ \\_ \\_ \\_ \\_ \\_ \\_ \\_ \\_ \\_ \\_ \\_ \\_ \\_ \\_ \\_ \\_ \\_ \\_ \\_ \\_ \\_ \\_ \\_ \\_ \\_ \\_ \\_ \\_ \\_ \\_ \\_ \\_ \\_ \\_ \\_ \\_ \\_ \\_ \\_ \\_ \\_ \\_ \\_ \\_ \\_ \\_ \\_ not interested . . . \\_ \\_ \\_ \\_ \\_ \\_ \\_ \\_ \\_ \\_ \\_ \\_ \\_ \\_ \\_ \\_ \\_ \\_ \\_ \\_ \\_ \\_ \\_ \\_ \\_ \\_ \\_ \\_ \\_ \\_ \\_ \\_ \\_ \\_ \\_ \\_ \\_ \\_ \\_ \\_ \\_ \\_ \\_ \\_ \\_ \\_ \\_ \\_ \\_ \\_ \\_ \\_'\n",
       "\\item 'Subject: the stock trading gunslinger  fanny is merrill but muzo not colza attainder and penultimate like esmark perspicuous ramble is segovia not group try slung kansas tanzania yes chameleon or continuant clothesman no  libretto is chesapeake but tight not waterway herald and hawthorn like chisel morristown superior is deoxyribonucleic not clockwork try hall incredible mcdougall yes hepburn or einsteinian earmark no  sapling is boar but duane not plain palfrey and inflexible like huzzah pepperoni bedtime is nameable not attire try edt chronography optima yes pirogue or diffusion albeit no '\n",
       "\\item 'Subject: unbelievable new homes made easy  im wanting to show you this  homeowner  you have been pre - approved for a \\$ 454 , 169 home loan at a 3 . 72 fixed rate .  this offer is being extended to you unconditionally and your credit is in no way a factor .  to take advantage of this limited time opportunity  all we ask is that you visit our website and complete  the 1 minute post approval form  look foward to hearing from you ,  dorcas pittman'\n",
       "\\end{enumerate*}\n"
      ],
      "text/markdown": [
       "1. <span style=white-space:pre-wrap>'Subject: naturally irresistible your corporate identity  lt is really hard to recollect a company : the  market is full of suqgestions and the information isoverwhelminq ; but a good  catchy logo , stylish statlonery and outstanding website  will make the task much easier .  we do not promise that havinq ordered a iogo your  company will automaticaily become a world ieader : it isguite ciear that  without good products , effective business organization and practicable aim it  will be hotat nowadays market ; but we do promise that your marketing efforts  will become much more effective . here is the list of clear  benefits : creativeness : hand - made , original logos , specially done  to reflect your distinctive company image . convenience : logo and stationery  are provided in all formats ; easy - to - use content management system letsyou  change your website content and even its structure . promptness : you  will see logo drafts within three business days . affordability : your  marketing break - through shouldn \\' t make gaps in your budget . 100 % satisfaction  guaranteed : we provide unlimited amount of changes with no extra fees for you to  be surethat you will love the result of this collaboration . have a look at our  portfolio _ _ _ _ _ _ _ _ _ _ _ _ _ _ _ _ _ _ _ _ _ _ _ _ _ _ _ _ _ _ _ _ _ _ _ _ _ _ _ _ _ _ _ _ _ _ _ _ _ _ _ _ not interested . . . _ _ _ _ _ _ _ _ _ _ _ _ _ _ _ _ _ _ _ _ _ _ _ _ _ _ _ _ _ _ _ _ _ _ _ _ _ _ _ _ _ _ _ _ _ _ _ _ _ _ _ _'</span>\n",
       "2. <span style=white-space:pre-wrap>'Subject: the stock trading gunslinger  fanny is merrill but muzo not colza attainder and penultimate like esmark perspicuous ramble is segovia not group try slung kansas tanzania yes chameleon or continuant clothesman no  libretto is chesapeake but tight not waterway herald and hawthorn like chisel morristown superior is deoxyribonucleic not clockwork try hall incredible mcdougall yes hepburn or einsteinian earmark no  sapling is boar but duane not plain palfrey and inflexible like huzzah pepperoni bedtime is nameable not attire try edt chronography optima yes pirogue or diffusion albeit no '</span>\n",
       "3. <span style=white-space:pre-wrap>'Subject: unbelievable new homes made easy  im wanting to show you this  homeowner  you have been pre - approved for a $ 454 , 169 home loan at a 3 . 72 fixed rate .  this offer is being extended to you unconditionally and your credit is in no way a factor .  to take advantage of this limited time opportunity  all we ask is that you visit our website and complete  the 1 minute post approval form  look foward to hearing from you ,  dorcas pittman'</span>\n",
       "\n",
       "\n"
      ],
      "text/plain": [
       "[1] \"Subject: naturally irresistible your corporate identity  lt is really hard to recollect a company : the  market is full of suqgestions and the information isoverwhelminq ; but a good  catchy logo , stylish statlonery and outstanding website  will make the task much easier .  we do not promise that havinq ordered a iogo your  company will automaticaily become a world ieader : it isguite ciear that  without good products , effective business organization and practicable aim it  will be hotat nowadays market ; but we do promise that your marketing efforts  will become much more effective . here is the list of clear  benefits : creativeness : hand - made , original logos , specially done  to reflect your distinctive company image . convenience : logo and stationery  are provided in all formats ; easy - to - use content management system letsyou  change your website content and even its structure . promptness : you  will see logo drafts within three business days . affordability : your  marketing break - through shouldn ' t make gaps in your budget . 100 % satisfaction  guaranteed : we provide unlimited amount of changes with no extra fees for you to  be surethat you will love the result of this collaboration . have a look at our  portfolio _ _ _ _ _ _ _ _ _ _ _ _ _ _ _ _ _ _ _ _ _ _ _ _ _ _ _ _ _ _ _ _ _ _ _ _ _ _ _ _ _ _ _ _ _ _ _ _ _ _ _ _ not interested . . . _ _ _ _ _ _ _ _ _ _ _ _ _ _ _ _ _ _ _ _ _ _ _ _ _ _ _ _ _ _ _ _ _ _ _ _ _ _ _ _ _ _ _ _ _ _ _ _ _ _ _ _\"\n",
       "[2] \"Subject: the stock trading gunslinger  fanny is merrill but muzo not colza attainder and penultimate like esmark perspicuous ramble is segovia not group try slung kansas tanzania yes chameleon or continuant clothesman no  libretto is chesapeake but tight not waterway herald and hawthorn like chisel morristown superior is deoxyribonucleic not clockwork try hall incredible mcdougall yes hepburn or einsteinian earmark no  sapling is boar but duane not plain palfrey and inflexible like huzzah pepperoni bedtime is nameable not attire try edt chronography optima yes pirogue or diffusion albeit no \"                                                                                                                                                                                                                                                                                                                                                                                                                                                                                                                                                                                                                                                                                                                                                                                                                                                                                                                      \n",
       "[3] \"Subject: unbelievable new homes made easy  im wanting to show you this  homeowner  you have been pre - approved for a $ 454 , 169 home loan at a 3 . 72 fixed rate .  this offer is being extended to you unconditionally and your credit is in no way a factor .  to take advantage of this limited time opportunity  all we ask is that you visit our website and complete  the 1 minute post approval form  look foward to hearing from you ,  dorcas pittman\"                                                                                                                                                                                                                                                                                                                                                                                                                                                                                                                                                                                                                                                                                                                                                                                                                                                                                                                                                                                                                                                                            "
      ]
     },
     "metadata": {},
     "output_type": "display_data"
    }
   ],
   "source": [
    "emails[1:3, ]$text"
   ]
  },
  {
   "cell_type": "code",
   "execution_count": 6,
   "metadata": {},
   "outputs": [
    {
     "data": {
      "text/html": [
       "2651"
      ],
      "text/latex": [
       "2651"
      ],
      "text/markdown": [
       "2651"
      ],
      "text/plain": [
       "[1] 2651"
      ]
     },
     "metadata": {},
     "output_type": "display_data"
    }
   ],
   "source": [
    "which.max(nchar(emails$text))"
   ]
  },
  {
   "cell_type": "code",
   "execution_count": 7,
   "metadata": {},
   "outputs": [
    {
     "data": {
      "text/html": [
       "43952"
      ],
      "text/latex": [
       "43952"
      ],
      "text/markdown": [
       "43952"
      ],
      "text/plain": [
       "[1] 43952"
      ]
     },
     "metadata": {},
     "output_type": "display_data"
    }
   ],
   "source": [
    "max(nchar(emails$text))"
   ]
  },
  {
   "cell_type": "code",
   "execution_count": 8,
   "metadata": {},
   "outputs": [
    {
     "data": {
      "text/html": [
       "1992"
      ],
      "text/latex": [
       "1992"
      ],
      "text/markdown": [
       "1992"
      ],
      "text/plain": [
       "[1] 1992"
      ]
     },
     "metadata": {},
     "output_type": "display_data"
    }
   ],
   "source": [
    "which.min(nchar(emails$text))"
   ]
  },
  {
   "cell_type": "markdown",
   "metadata": {},
   "source": [
    "## Preparing the Corpus"
   ]
  },
  {
   "cell_type": "markdown",
   "metadata": {},
   "source": [
    "Follow the standard steps to build and pre-process the corpus:\n",
    "\n",
    "1) Build a new corpus variable called corpus.\n",
    "\n",
    "2) Using tm_map, convert the text to lowercase.\n",
    "\n",
    "3) Using tm_map, remove all punctuation from the corpus.\n",
    "\n",
    "4) Using tm_map, remove all English stopwords from the corpus.\n",
    "\n",
    "5) Using tm_map, stem the words in the corpus.\n",
    "\n",
    "6) Build a document term matrix from the corpus, called dtm."
   ]
  },
  {
   "cell_type": "code",
   "execution_count": 9,
   "metadata": {},
   "outputs": [
    {
     "name": "stderr",
     "output_type": "stream",
     "text": [
      "Loading required package: NLP\n",
      "\n"
     ]
    }
   ],
   "source": [
    "library(\"tm\")\n",
    "library(\"SnowballC\")"
   ]
  },
  {
   "cell_type": "code",
   "execution_count": 10,
   "metadata": {},
   "outputs": [],
   "source": [
    "corpus = VCorpus(VectorSource(emails$text))"
   ]
  },
  {
   "cell_type": "code",
   "execution_count": 11,
   "metadata": {},
   "outputs": [],
   "source": [
    "corpus = tm_map(corpus, content_transformer(tolower))"
   ]
  },
  {
   "cell_type": "code",
   "execution_count": 12,
   "metadata": {},
   "outputs": [],
   "source": [
    "corpus = tm_map(corpus, removePunctuation)"
   ]
  },
  {
   "cell_type": "code",
   "execution_count": 13,
   "metadata": {},
   "outputs": [],
   "source": [
    "corpus = tm_map(corpus, removeWords, stopwords(\"english\"))"
   ]
  },
  {
   "cell_type": "code",
   "execution_count": 14,
   "metadata": {},
   "outputs": [],
   "source": [
    "corpus = tm_map(corpus, stemDocument)"
   ]
  },
  {
   "cell_type": "code",
   "execution_count": 15,
   "metadata": {},
   "outputs": [],
   "source": [
    "dtm = DocumentTermMatrix(corpus)"
   ]
  },
  {
   "cell_type": "code",
   "execution_count": 16,
   "metadata": {},
   "outputs": [
    {
     "data": {
      "text/plain": [
       "<<DocumentTermMatrix (documents: 5728, terms: 28687)>>\n",
       "Non-/sparse entries: 481719/163837417\n",
       "Sparsity           : 100%\n",
       "Maximal term length: 24\n",
       "Weighting          : term frequency (tf)"
      ]
     },
     "metadata": {},
     "output_type": "display_data"
    }
   ],
   "source": [
    "dtm"
   ]
  },
  {
   "cell_type": "code",
   "execution_count": 17,
   "metadata": {},
   "outputs": [],
   "source": [
    "spdtm = removeSparseTerms(dtm, 0.95)"
   ]
  },
  {
   "cell_type": "code",
   "execution_count": 18,
   "metadata": {},
   "outputs": [
    {
     "data": {
      "text/plain": [
       "<<DocumentTermMatrix (documents: 5728, terms: 330)>>\n",
       "Non-/sparse entries: 213551/1676689\n",
       "Sparsity           : 89%\n",
       "Maximal term length: 10\n",
       "Weighting          : term frequency (tf)"
      ]
     },
     "metadata": {},
     "output_type": "display_data"
    }
   ],
   "source": [
    "spdtm"
   ]
  },
  {
   "cell_type": "code",
   "execution_count": 19,
   "metadata": {},
   "outputs": [],
   "source": [
    "emailsSparse = as.data.frame(as.matrix(spdtm))"
   ]
  },
  {
   "cell_type": "code",
   "execution_count": 20,
   "metadata": {},
   "outputs": [],
   "source": [
    "colnames(emailsSparse) = make.names(colnames(emailsSparse))"
   ]
  },
  {
   "cell_type": "code",
   "execution_count": 21,
   "metadata": {},
   "outputs": [
    {
     "data": {
      "text/html": [
       "<style>\n",
       ".dl-inline {width: auto; margin:0; padding: 0}\n",
       ".dl-inline>dt, .dl-inline>dd {float: none; width: auto; display: inline-block}\n",
       ".dl-inline>dt::after {content: \":\\0020\"; padding-right: .5ex}\n",
       ".dl-inline>dt:not(:first-of-type) {padding-left: .5ex}\n",
       "</style><dl class=dl-inline><dt>enron</dt><dd>13388</dd><dt>ect</dt><dd>11427</dd><dt>subject</dt><dd>10202</dd><dt>vinc</dt><dd>8532</dd><dt>will</dt><dd>8252</dd><dt>hou</dt><dd>5577</dd><dt>com</dt><dd>5443</dd><dt>pleas</dt><dd>5113</dd><dt>X2000</dt><dd>4967</dd><dt>kaminski</dt><dd>4801</dd><dt>can</dt><dd>4257</dd><dt>thank</dt><dd>3730</dd><dt>forward</dt><dd>3161</dd><dt>time</dt><dd>3145</dd><dt>X2001</dt><dd>3089</dd><dt>research</dt><dd>2820</dd><dt>market</dt><dd>2750</dd><dt>work</dt><dd>2708</dd><dt>inform</dt><dd>2701</dd><dt>price</dt><dd>2694</dd><dt>meet</dt><dd>2623</dd><dt>know</dt><dd>2614</dd><dt>group</dt><dd>2604</dd><dt>manag</dt><dd>2600</dd><dt>may</dt><dd>2465</dd><dt>get</dt><dd>2462</dd><dt>like</dt><dd>2352</dd><dt>use</dt><dd>2330</dd><dt>need</dt><dd>2328</dd><dt>busi</dt><dd>2313</dd><dt>compani</dt><dd>2290</dd><dt>new</dt><dd>2281</dd><dt>mail</dt><dd>2269</dd><dt>risk</dt><dd>2267</dd><dt>model</dt><dd>2199</dd><dt>energi</dt><dd>2179</dd><dt>power</dt><dd>2117</dd><dt>one</dt><dd>2108</dd><dt>email</dt><dd>2066</dd><dt>regard</dt><dd>2045</dd><dt>look</dt><dd>2003</dd><dt>messag</dt><dd>1983</dd><dt>let</dt><dd>1963</dd><dt>year</dt><dd>1890</dd><dt>make</dt><dd>1884</dd><dt>develop</dt><dd>1882</dd><dt>also</dt><dd>1864</dd><dt>day</dt><dd>1860</dd><dt>interest</dt><dd>1814</dd><dt>week</dt><dd>1758</dd><dt>corp</dt><dd>1692</dd><dt>shirley</dt><dd>1689</dd><dt>call</dt><dd>1687</dd><dt>edu</dt><dd>1627</dd><dt>http</dt><dd>1609</dd><dt>houston</dt><dd>1582</dd><dt>see</dt><dd>1567</dd><dt>receiv</dt><dd>1557</dd><dt>follow</dt><dd>1552</dd><dt>contact</dt><dd>1543</dd><dt>present</dt><dd>1543</dd><dt>project</dt><dd>1522</dd><dt>option</dt><dd>1488</dd><dt>want</dt><dd>1488</dd><dt>program</dt><dd>1438</dd><dt>help</dt><dd>1430</dd><dt>list</dt><dd>1410</dd><dt>provid</dt><dd>1405</dd><dt>send</dt><dd>1379</dd><dt>trade</dt><dd>1366</dd><dt>take</dt><dd>1361</dd><dt>just</dt><dd>1354</dd><dt>request</dt><dd>1344</dd><dt>communic</dt><dd>1343</dd><dt>servic</dt><dd>1337</dd><dt>interview</dt><dd>1333</dd><dt>discuss</dt><dd>1326</dd><dt>www</dt><dd>1323</dd><dt>now</dt><dd>1300</dd><dt>confer</dt><dd>1297</dd><dt>best</dt><dd>1291</dd><dt>report</dt><dd>1279</dd><dt>includ</dt><dd>1238</dd><dt>think</dt><dd>1216</dd><dt>order</dt><dd>1210</dd><dt>product</dt><dd>1197</dd><dt>date</dt><dd>1187</dd><dt>number</dt><dd>1182</dd><dt>attach</dt><dd>1176</dd><dt>offer</dt><dd>1171</dd><dt>address</dt><dd>1154</dd><dt>avail</dt><dd>1152</dd><dt>question</dt><dd>1152</dd><dt>next.</dt><dd>1145</dd><dt>free</dt><dd>1141</dd><dt>sent</dt><dd>1126</dd><dt>visit</dt><dd>1126</dd><dt>well</dt><dd>1125</dd><dt>system</dt><dd>1118</dd><dt>crenshaw</dt><dd>1115</dd><dt>posit</dt><dd>1104</dd><dt>X713</dt><dd>1097</dd><dt>good</dt><dd>1097</dd><dt>name</dt><dd>1089</dd><dt>state</dt><dd>1086</dd><dt>financ</dt><dd>1073</dd><dt>schedul</dt><dd>1071</dd><dt>gas</dt><dd>1070</dd><dt>offic</dt><dd>1068</dd><dt>univers</dt><dd>1059</dd><dt>give</dt><dd>1055</dd><dt>stinson</dt><dd>1051</dd><dt>current</dt><dd>1044</dd><dt>john</dt><dd>1042</dd><dt>fax</dt><dd>1038</dd><dt>chang</dt><dd>1035</dd><dt>X000</dt><dd>1007</dd><dt>phone</dt><dd>1001</dd><dt>last</dt><dd>998</dd><dt>talk</dt><dd>981</dd><dt>review</dt><dd>976</dd><dt>process</dt><dd>975</dd><dt>industri</dt><dd>970</dd><dt>credit</dt><dd>960</dd><dt>month</dt><dd>958</dd><dt>peopl</dt><dd>958</dd><dt>data</dt><dd>955</dd><dt>issu</dt><dd>944</dd><dt>resum</dt><dd>933</dd><dt>first</dt><dd>929</dd><dt>team</dt><dd>926</dd><dt>opportun</dt><dd>918</dd><dt>site</dt><dd>913</dd><dt>two</dt><dd>911</dd><dt>financi</dt><dd>909</dd><dt>plan</dt><dd>904</dd><dt>come</dt><dd>903</dd><dt>origin</dt><dd>892</dd><dt>shall</dt><dd>884</dd><dt>start</dt><dd>880</dd><dt>ask</dt><dd>871</dd><dt>find</dt><dd>867</dd><dt>invest</dt><dd>867</dd><dt>back</dt><dd>864</dd><dt>way</dt><dd>864</dd><dt>much</dt><dd>861</dd><dt>hope</dt><dd>858</dd><dt>secur</dt><dd>857</dd><dt>friday</dt><dd>854</dd><dt>support</dt><dd>854</dd><dt>london</dt><dd>843</dd><dt>dear</dt><dd>838</dd><dt>base</dt><dd>837</dd><dt>great</dt><dd>837</dd><dt>account</dt><dd>829</dd><dt>today</dt><dd>828</dd><dt>respons</dt><dd>824</dd><dt>cost</dt><dd>821</dd><dt>oper</dt><dd>820</dd><dt>copi</dt><dd>797</dd><dt>custom</dt><dd>796</dd><dt>possibl</dt><dd>796</dd><dt>access</dt><dd>789</dd><dt>term</dt><dd>786</dd><dt>particip</dt><dd>782</dd><dt>associ</dt><dd>777</dd><dt>money</dt><dd>776</dd><dt>addit</dt><dd>774</dd><dt>file</dt><dd>770</dd><dt>click</dt><dd>769</dd><dt>person</dt><dd>767</dd><dt>mani</dt><dd>758</dd><dt>book</dt><dd>756</dd><dt>softwar</dt><dd>739</dd><dt>requir</dt><dd>736</dd><dt>within</dt><dd>732</dd><dt>set</dt><dd>727</dd><dt>student</dt><dd>726</dd><dt>futur</dt><dd>722</dd><dt>valu</dt><dd>721</dd><dt>rate</dt><dd>717</dd><dt>complet</dt><dd>707</dd><dt>director</dt><dd>705</dd><dt>juli</dt><dd>701</dd><dt>websit</dt><dd>700</dd><dt>relat</dt><dd>694</dd><dt>note</dt><dd>688</dd><dt>april</dt><dd>682</dd><dt>deriv</dt><dd>676</dd><dt>don</dt><dd>676</dd><dt>doc</dt><dd>675</dd><dt>web</dt><dd>668</dd><dt>problem</dt><dd>666</dd><dt>form</dt><dd>664</dd><dt>detail</dt><dd>661</dd><dt>tri</dt><dd>661</dd><dt>home</dt><dd>660</dd><dt>direct</dt><dd>657</dd><dt>kevin</dt><dd>656</dd><dt>result</dt><dd>655</dd><dt>school</dt><dd>655</dd><dt>monday</dt><dd>649</dd><dt>approv</dt><dd>648</dd><dt>real</dt><dd>648</dd><dt>invit</dt><dd>647</dd><dt>per</dt><dd>642</dd><dt>right</dt><dd>639</dd><dt>end</dt><dd>635</dd><dt>gibner</dt><dd>633</dd><dt>contract</dt><dd>629</dd><dt>cours</dt><dd>626</dd><dt>high</dt><dd>624</dd><dt>internet</dt><dd>623</dd><dt>even</dt><dd>622</dd><dt>made</dt><dd>622</dd><dt>depart</dt><dd>621</dd><dt>mark</dt><dd>613</dd><dt>move</dt><dd>612</dd><dt>intern</dt><dd>606</dd><dt>updat</dt><dd>606</dd><dt>assist</dt><dd>598</dd><dt>differ</dt><dd>598</dd><dt>abl</dt><dd>590</dd><dt>morn</dt><dd>586</dd><dt>might</dt><dd>577</dd><dt>thursday</dt><dd>575</dd><dt>attend</dt><dd>573</dd><dt>engin</dt><dd>571</dd><dt>part</dt><dd>571</dd><dt>applic</dt><dd>567</dd><dt>corpor</dt><dd>565</dd><dt>version</dt><dd>564</dd><dt>case</dt><dd>561</dd><dt>resourc</dt><dd>556</dd><dt>expect</dt><dd>554</dd><dt>suggest</dt><dd>554</dd><dt>unit</dt><dd>554</dd><dt>continu</dt><dd>552</dd><dt>event</dt><dd>552</dd><dt>hour</dt><dd>548</dd><dt>net</dt><dd>548</dd><dt>howev</dt><dd>545</dd><dt>member</dt><dd>545</dd><dt>feel</dt><dd>543</dd><dt>appreci</dt><dd>541</dd><dt>point</dt><dd>536</dd><dt>thing</dt><dd>535</dd><dt>hello</dt><dd>534</dd><dt>long</dt><dd>534</dd><dt>confirm</dt><dd>532</dd><dt>comment</dt><dd>531</dd><dt>import</dt><dd>530</dd><dt>still</dt><dd>523</dd><dt>sinc</dt><dd>521</dd><dt>understand</dt><dd>521</dd><dt>success</dt><dd>519</dd><dt>onlin</dt><dd>518</dd><dt>place</dt><dd>516</dd><dt>return</dt><dd>509</dd><dt>deal</dt><dd>498</dd><dt>analysi</dt><dd>495</dd><dt>sure</dt><dd>495</dd><dt>soon</dt><dd>492</dd><dt>increas</dt><dd>491</dd><dt>final</dt><dd>490</dd><dt>area</dt><dd>489</dd><dt>check</dt><dd>488</dd><dt>locat</dt><dd>485</dd><dt>robert</dt><dd>482</dd><dt>tuesday</dt><dd>474</dd><dt>effort</dt><dd>473</dd><dt>effect</dt><dd>471</dd><dt>full</dt><dd>469</dd><dt>hear</dt><dd>469</dd><dt>join</dt><dd>469</dd><dt>public</dt><dd>468</dd><dt>type</dt><dd>466</dd><dt>wednesday</dt><dd>464</dd><dt>X853</dt><dd>462</dd><dt>remov</dt><dd>460</dd><dt>put</dt><dd>458</dd><dt>design</dt><dd>457</dd><dt>believ</dt><dd>456</dd><dt>given</dt><dd>453</dd><dt>recent</dt><dd>451</dd><dt>special</dt><dd>451</dd><dt>allow</dt><dd>450</dd><dt>line</dt><dd>448</dd><dt>alreadi</dt><dd>446</dd><dt>due</dt><dd>445</dd><dt>buy</dt><dd>442</dd><dt>sincer</dt><dd>441</dd><dt>short</dt><dd>439</dd><dt>info</dt><dd>438</dd><dt>togeth</dt><dd>438</dd><dt>run</dt><dd>437</dd><dt>anoth</dt><dd>435</dd><dt>etc</dt><dd>434</dd><dt>keep</dt><dd>431</dd><dt>respond</dt><dd>430</dd><dt>sever</dt><dd>430</dd><dt>say</dt><dd>423</dd><dt>link</dt><dd>421</dd><dt>realli</dt><dd>417</dd><dt>open</dt><dd>416</dd><dt>wish</dt><dd>414</dd><dt>creat</dt><dd>413</dd><dt>read</dt><dd>413</dd><dt>arrang</dt><dd>410</dd><dt>specif</dt><dd>407</dd><dt>experi</dt><dd>405</dd><dt>involv</dt><dd>405</dd><dt>life</dt><dd>400</dd><dt>repli</dt><dd>397</dd><dt>happi</dt><dd>396</dd><dt>mean</dt><dd>390</dd><dt>write</dt><dd>390</dd><dt>without</dt><dd>389</dd><dt>immedi</dt><dd>385</dd><dt>better</dt><dd>383</dd><dt>idea</dt><dd>378</dd><dt>bring</dt><dd>374</dd><dt>thought</dt><dd>367</dd><dt>mention</dt><dd>355</dd><dt>lot</dt><dd>348</dd><dt>sorri</dt><dd>343</dd><dt>done</dt><dd>337</dd><dt>either</dt><dd>318</dd><dt>begin</dt><dd>317</dd><dt>vkamin</dt><dd>301</dd></dl>\n"
      ],
      "text/latex": [
       "\\begin{description*}\n",
       "\\item[enron] 13388\n",
       "\\item[ect] 11427\n",
       "\\item[subject] 10202\n",
       "\\item[vinc] 8532\n",
       "\\item[will] 8252\n",
       "\\item[hou] 5577\n",
       "\\item[com] 5443\n",
       "\\item[pleas] 5113\n",
       "\\item[X2000] 4967\n",
       "\\item[kaminski] 4801\n",
       "\\item[can] 4257\n",
       "\\item[thank] 3730\n",
       "\\item[forward] 3161\n",
       "\\item[time] 3145\n",
       "\\item[X2001] 3089\n",
       "\\item[research] 2820\n",
       "\\item[market] 2750\n",
       "\\item[work] 2708\n",
       "\\item[inform] 2701\n",
       "\\item[price] 2694\n",
       "\\item[meet] 2623\n",
       "\\item[know] 2614\n",
       "\\item[group] 2604\n",
       "\\item[manag] 2600\n",
       "\\item[may] 2465\n",
       "\\item[get] 2462\n",
       "\\item[like] 2352\n",
       "\\item[use] 2330\n",
       "\\item[need] 2328\n",
       "\\item[busi] 2313\n",
       "\\item[compani] 2290\n",
       "\\item[new] 2281\n",
       "\\item[mail] 2269\n",
       "\\item[risk] 2267\n",
       "\\item[model] 2199\n",
       "\\item[energi] 2179\n",
       "\\item[power] 2117\n",
       "\\item[one] 2108\n",
       "\\item[email] 2066\n",
       "\\item[regard] 2045\n",
       "\\item[look] 2003\n",
       "\\item[messag] 1983\n",
       "\\item[let] 1963\n",
       "\\item[year] 1890\n",
       "\\item[make] 1884\n",
       "\\item[develop] 1882\n",
       "\\item[also] 1864\n",
       "\\item[day] 1860\n",
       "\\item[interest] 1814\n",
       "\\item[week] 1758\n",
       "\\item[corp] 1692\n",
       "\\item[shirley] 1689\n",
       "\\item[call] 1687\n",
       "\\item[edu] 1627\n",
       "\\item[http] 1609\n",
       "\\item[houston] 1582\n",
       "\\item[see] 1567\n",
       "\\item[receiv] 1557\n",
       "\\item[follow] 1552\n",
       "\\item[contact] 1543\n",
       "\\item[present] 1543\n",
       "\\item[project] 1522\n",
       "\\item[option] 1488\n",
       "\\item[want] 1488\n",
       "\\item[program] 1438\n",
       "\\item[help] 1430\n",
       "\\item[list] 1410\n",
       "\\item[provid] 1405\n",
       "\\item[send] 1379\n",
       "\\item[trade] 1366\n",
       "\\item[take] 1361\n",
       "\\item[just] 1354\n",
       "\\item[request] 1344\n",
       "\\item[communic] 1343\n",
       "\\item[servic] 1337\n",
       "\\item[interview] 1333\n",
       "\\item[discuss] 1326\n",
       "\\item[www] 1323\n",
       "\\item[now] 1300\n",
       "\\item[confer] 1297\n",
       "\\item[best] 1291\n",
       "\\item[report] 1279\n",
       "\\item[includ] 1238\n",
       "\\item[think] 1216\n",
       "\\item[order] 1210\n",
       "\\item[product] 1197\n",
       "\\item[date] 1187\n",
       "\\item[number] 1182\n",
       "\\item[attach] 1176\n",
       "\\item[offer] 1171\n",
       "\\item[address] 1154\n",
       "\\item[avail] 1152\n",
       "\\item[question] 1152\n",
       "\\item[next.] 1145\n",
       "\\item[free] 1141\n",
       "\\item[sent] 1126\n",
       "\\item[visit] 1126\n",
       "\\item[well] 1125\n",
       "\\item[system] 1118\n",
       "\\item[crenshaw] 1115\n",
       "\\item[posit] 1104\n",
       "\\item[X713] 1097\n",
       "\\item[good] 1097\n",
       "\\item[name] 1089\n",
       "\\item[state] 1086\n",
       "\\item[financ] 1073\n",
       "\\item[schedul] 1071\n",
       "\\item[gas] 1070\n",
       "\\item[offic] 1068\n",
       "\\item[univers] 1059\n",
       "\\item[give] 1055\n",
       "\\item[stinson] 1051\n",
       "\\item[current] 1044\n",
       "\\item[john] 1042\n",
       "\\item[fax] 1038\n",
       "\\item[chang] 1035\n",
       "\\item[X000] 1007\n",
       "\\item[phone] 1001\n",
       "\\item[last] 998\n",
       "\\item[talk] 981\n",
       "\\item[review] 976\n",
       "\\item[process] 975\n",
       "\\item[industri] 970\n",
       "\\item[credit] 960\n",
       "\\item[month] 958\n",
       "\\item[peopl] 958\n",
       "\\item[data] 955\n",
       "\\item[issu] 944\n",
       "\\item[resum] 933\n",
       "\\item[first] 929\n",
       "\\item[team] 926\n",
       "\\item[opportun] 918\n",
       "\\item[site] 913\n",
       "\\item[two] 911\n",
       "\\item[financi] 909\n",
       "\\item[plan] 904\n",
       "\\item[come] 903\n",
       "\\item[origin] 892\n",
       "\\item[shall] 884\n",
       "\\item[start] 880\n",
       "\\item[ask] 871\n",
       "\\item[find] 867\n",
       "\\item[invest] 867\n",
       "\\item[back] 864\n",
       "\\item[way] 864\n",
       "\\item[much] 861\n",
       "\\item[hope] 858\n",
       "\\item[secur] 857\n",
       "\\item[friday] 854\n",
       "\\item[support] 854\n",
       "\\item[london] 843\n",
       "\\item[dear] 838\n",
       "\\item[base] 837\n",
       "\\item[great] 837\n",
       "\\item[account] 829\n",
       "\\item[today] 828\n",
       "\\item[respons] 824\n",
       "\\item[cost] 821\n",
       "\\item[oper] 820\n",
       "\\item[copi] 797\n",
       "\\item[custom] 796\n",
       "\\item[possibl] 796\n",
       "\\item[access] 789\n",
       "\\item[term] 786\n",
       "\\item[particip] 782\n",
       "\\item[associ] 777\n",
       "\\item[money] 776\n",
       "\\item[addit] 774\n",
       "\\item[file] 770\n",
       "\\item[click] 769\n",
       "\\item[person] 767\n",
       "\\item[mani] 758\n",
       "\\item[book] 756\n",
       "\\item[softwar] 739\n",
       "\\item[requir] 736\n",
       "\\item[within] 732\n",
       "\\item[set] 727\n",
       "\\item[student] 726\n",
       "\\item[futur] 722\n",
       "\\item[valu] 721\n",
       "\\item[rate] 717\n",
       "\\item[complet] 707\n",
       "\\item[director] 705\n",
       "\\item[juli] 701\n",
       "\\item[websit] 700\n",
       "\\item[relat] 694\n",
       "\\item[note] 688\n",
       "\\item[april] 682\n",
       "\\item[deriv] 676\n",
       "\\item[don] 676\n",
       "\\item[doc] 675\n",
       "\\item[web] 668\n",
       "\\item[problem] 666\n",
       "\\item[form] 664\n",
       "\\item[detail] 661\n",
       "\\item[tri] 661\n",
       "\\item[home] 660\n",
       "\\item[direct] 657\n",
       "\\item[kevin] 656\n",
       "\\item[result] 655\n",
       "\\item[school] 655\n",
       "\\item[monday] 649\n",
       "\\item[approv] 648\n",
       "\\item[real] 648\n",
       "\\item[invit] 647\n",
       "\\item[per] 642\n",
       "\\item[right] 639\n",
       "\\item[end] 635\n",
       "\\item[gibner] 633\n",
       "\\item[contract] 629\n",
       "\\item[cours] 626\n",
       "\\item[high] 624\n",
       "\\item[internet] 623\n",
       "\\item[even] 622\n",
       "\\item[made] 622\n",
       "\\item[depart] 621\n",
       "\\item[mark] 613\n",
       "\\item[move] 612\n",
       "\\item[intern] 606\n",
       "\\item[updat] 606\n",
       "\\item[assist] 598\n",
       "\\item[differ] 598\n",
       "\\item[abl] 590\n",
       "\\item[morn] 586\n",
       "\\item[might] 577\n",
       "\\item[thursday] 575\n",
       "\\item[attend] 573\n",
       "\\item[engin] 571\n",
       "\\item[part] 571\n",
       "\\item[applic] 567\n",
       "\\item[corpor] 565\n",
       "\\item[version] 564\n",
       "\\item[case] 561\n",
       "\\item[resourc] 556\n",
       "\\item[expect] 554\n",
       "\\item[suggest] 554\n",
       "\\item[unit] 554\n",
       "\\item[continu] 552\n",
       "\\item[event] 552\n",
       "\\item[hour] 548\n",
       "\\item[net] 548\n",
       "\\item[howev] 545\n",
       "\\item[member] 545\n",
       "\\item[feel] 543\n",
       "\\item[appreci] 541\n",
       "\\item[point] 536\n",
       "\\item[thing] 535\n",
       "\\item[hello] 534\n",
       "\\item[long] 534\n",
       "\\item[confirm] 532\n",
       "\\item[comment] 531\n",
       "\\item[import] 530\n",
       "\\item[still] 523\n",
       "\\item[sinc] 521\n",
       "\\item[understand] 521\n",
       "\\item[success] 519\n",
       "\\item[onlin] 518\n",
       "\\item[place] 516\n",
       "\\item[return] 509\n",
       "\\item[deal] 498\n",
       "\\item[analysi] 495\n",
       "\\item[sure] 495\n",
       "\\item[soon] 492\n",
       "\\item[increas] 491\n",
       "\\item[final] 490\n",
       "\\item[area] 489\n",
       "\\item[check] 488\n",
       "\\item[locat] 485\n",
       "\\item[robert] 482\n",
       "\\item[tuesday] 474\n",
       "\\item[effort] 473\n",
       "\\item[effect] 471\n",
       "\\item[full] 469\n",
       "\\item[hear] 469\n",
       "\\item[join] 469\n",
       "\\item[public] 468\n",
       "\\item[type] 466\n",
       "\\item[wednesday] 464\n",
       "\\item[X853] 462\n",
       "\\item[remov] 460\n",
       "\\item[put] 458\n",
       "\\item[design] 457\n",
       "\\item[believ] 456\n",
       "\\item[given] 453\n",
       "\\item[recent] 451\n",
       "\\item[special] 451\n",
       "\\item[allow] 450\n",
       "\\item[line] 448\n",
       "\\item[alreadi] 446\n",
       "\\item[due] 445\n",
       "\\item[buy] 442\n",
       "\\item[sincer] 441\n",
       "\\item[short] 439\n",
       "\\item[info] 438\n",
       "\\item[togeth] 438\n",
       "\\item[run] 437\n",
       "\\item[anoth] 435\n",
       "\\item[etc] 434\n",
       "\\item[keep] 431\n",
       "\\item[respond] 430\n",
       "\\item[sever] 430\n",
       "\\item[say] 423\n",
       "\\item[link] 421\n",
       "\\item[realli] 417\n",
       "\\item[open] 416\n",
       "\\item[wish] 414\n",
       "\\item[creat] 413\n",
       "\\item[read] 413\n",
       "\\item[arrang] 410\n",
       "\\item[specif] 407\n",
       "\\item[experi] 405\n",
       "\\item[involv] 405\n",
       "\\item[life] 400\n",
       "\\item[repli] 397\n",
       "\\item[happi] 396\n",
       "\\item[mean] 390\n",
       "\\item[write] 390\n",
       "\\item[without] 389\n",
       "\\item[immedi] 385\n",
       "\\item[better] 383\n",
       "\\item[idea] 378\n",
       "\\item[bring] 374\n",
       "\\item[thought] 367\n",
       "\\item[mention] 355\n",
       "\\item[lot] 348\n",
       "\\item[sorri] 343\n",
       "\\item[done] 337\n",
       "\\item[either] 318\n",
       "\\item[begin] 317\n",
       "\\item[vkamin] 301\n",
       "\\end{description*}\n"
      ],
      "text/markdown": [
       "enron\n",
       ":   13388ect\n",
       ":   11427subject\n",
       ":   10202vinc\n",
       ":   8532will\n",
       ":   8252hou\n",
       ":   5577com\n",
       ":   5443pleas\n",
       ":   5113X2000\n",
       ":   4967kaminski\n",
       ":   4801can\n",
       ":   4257thank\n",
       ":   3730forward\n",
       ":   3161time\n",
       ":   3145X2001\n",
       ":   3089research\n",
       ":   2820market\n",
       ":   2750work\n",
       ":   2708inform\n",
       ":   2701price\n",
       ":   2694meet\n",
       ":   2623know\n",
       ":   2614group\n",
       ":   2604manag\n",
       ":   2600may\n",
       ":   2465get\n",
       ":   2462like\n",
       ":   2352use\n",
       ":   2330need\n",
       ":   2328busi\n",
       ":   2313compani\n",
       ":   2290new\n",
       ":   2281mail\n",
       ":   2269risk\n",
       ":   2267model\n",
       ":   2199energi\n",
       ":   2179power\n",
       ":   2117one\n",
       ":   2108email\n",
       ":   2066regard\n",
       ":   2045look\n",
       ":   2003messag\n",
       ":   1983let\n",
       ":   1963year\n",
       ":   1890make\n",
       ":   1884develop\n",
       ":   1882also\n",
       ":   1864day\n",
       ":   1860interest\n",
       ":   1814week\n",
       ":   1758corp\n",
       ":   1692shirley\n",
       ":   1689call\n",
       ":   1687edu\n",
       ":   1627http\n",
       ":   1609houston\n",
       ":   1582see\n",
       ":   1567receiv\n",
       ":   1557follow\n",
       ":   1552contact\n",
       ":   1543present\n",
       ":   1543project\n",
       ":   1522option\n",
       ":   1488want\n",
       ":   1488program\n",
       ":   1438help\n",
       ":   1430list\n",
       ":   1410provid\n",
       ":   1405send\n",
       ":   1379trade\n",
       ":   1366take\n",
       ":   1361just\n",
       ":   1354request\n",
       ":   1344communic\n",
       ":   1343servic\n",
       ":   1337interview\n",
       ":   1333discuss\n",
       ":   1326www\n",
       ":   1323now\n",
       ":   1300confer\n",
       ":   1297best\n",
       ":   1291report\n",
       ":   1279includ\n",
       ":   1238think\n",
       ":   1216order\n",
       ":   1210product\n",
       ":   1197date\n",
       ":   1187number\n",
       ":   1182attach\n",
       ":   1176offer\n",
       ":   1171address\n",
       ":   1154avail\n",
       ":   1152question\n",
       ":   1152next.\n",
       ":   1145free\n",
       ":   1141sent\n",
       ":   1126visit\n",
       ":   1126well\n",
       ":   1125system\n",
       ":   1118crenshaw\n",
       ":   1115posit\n",
       ":   1104X713\n",
       ":   1097good\n",
       ":   1097name\n",
       ":   1089state\n",
       ":   1086financ\n",
       ":   1073schedul\n",
       ":   1071gas\n",
       ":   1070offic\n",
       ":   1068univers\n",
       ":   1059give\n",
       ":   1055stinson\n",
       ":   1051current\n",
       ":   1044john\n",
       ":   1042fax\n",
       ":   1038chang\n",
       ":   1035X000\n",
       ":   1007phone\n",
       ":   1001last\n",
       ":   998talk\n",
       ":   981review\n",
       ":   976process\n",
       ":   975industri\n",
       ":   970credit\n",
       ":   960month\n",
       ":   958peopl\n",
       ":   958data\n",
       ":   955issu\n",
       ":   944resum\n",
       ":   933first\n",
       ":   929team\n",
       ":   926opportun\n",
       ":   918site\n",
       ":   913two\n",
       ":   911financi\n",
       ":   909plan\n",
       ":   904come\n",
       ":   903origin\n",
       ":   892shall\n",
       ":   884start\n",
       ":   880ask\n",
       ":   871find\n",
       ":   867invest\n",
       ":   867back\n",
       ":   864way\n",
       ":   864much\n",
       ":   861hope\n",
       ":   858secur\n",
       ":   857friday\n",
       ":   854support\n",
       ":   854london\n",
       ":   843dear\n",
       ":   838base\n",
       ":   837great\n",
       ":   837account\n",
       ":   829today\n",
       ":   828respons\n",
       ":   824cost\n",
       ":   821oper\n",
       ":   820copi\n",
       ":   797custom\n",
       ":   796possibl\n",
       ":   796access\n",
       ":   789term\n",
       ":   786particip\n",
       ":   782associ\n",
       ":   777money\n",
       ":   776addit\n",
       ":   774file\n",
       ":   770click\n",
       ":   769person\n",
       ":   767mani\n",
       ":   758book\n",
       ":   756softwar\n",
       ":   739requir\n",
       ":   736within\n",
       ":   732set\n",
       ":   727student\n",
       ":   726futur\n",
       ":   722valu\n",
       ":   721rate\n",
       ":   717complet\n",
       ":   707director\n",
       ":   705juli\n",
       ":   701websit\n",
       ":   700relat\n",
       ":   694note\n",
       ":   688april\n",
       ":   682deriv\n",
       ":   676don\n",
       ":   676doc\n",
       ":   675web\n",
       ":   668problem\n",
       ":   666form\n",
       ":   664detail\n",
       ":   661tri\n",
       ":   661home\n",
       ":   660direct\n",
       ":   657kevin\n",
       ":   656result\n",
       ":   655school\n",
       ":   655monday\n",
       ":   649approv\n",
       ":   648real\n",
       ":   648invit\n",
       ":   647per\n",
       ":   642right\n",
       ":   639end\n",
       ":   635gibner\n",
       ":   633contract\n",
       ":   629cours\n",
       ":   626high\n",
       ":   624internet\n",
       ":   623even\n",
       ":   622made\n",
       ":   622depart\n",
       ":   621mark\n",
       ":   613move\n",
       ":   612intern\n",
       ":   606updat\n",
       ":   606assist\n",
       ":   598differ\n",
       ":   598abl\n",
       ":   590morn\n",
       ":   586might\n",
       ":   577thursday\n",
       ":   575attend\n",
       ":   573engin\n",
       ":   571part\n",
       ":   571applic\n",
       ":   567corpor\n",
       ":   565version\n",
       ":   564case\n",
       ":   561resourc\n",
       ":   556expect\n",
       ":   554suggest\n",
       ":   554unit\n",
       ":   554continu\n",
       ":   552event\n",
       ":   552hour\n",
       ":   548net\n",
       ":   548howev\n",
       ":   545member\n",
       ":   545feel\n",
       ":   543appreci\n",
       ":   541point\n",
       ":   536thing\n",
       ":   535hello\n",
       ":   534long\n",
       ":   534confirm\n",
       ":   532comment\n",
       ":   531import\n",
       ":   530still\n",
       ":   523sinc\n",
       ":   521understand\n",
       ":   521success\n",
       ":   519onlin\n",
       ":   518place\n",
       ":   516return\n",
       ":   509deal\n",
       ":   498analysi\n",
       ":   495sure\n",
       ":   495soon\n",
       ":   492increas\n",
       ":   491final\n",
       ":   490area\n",
       ":   489check\n",
       ":   488locat\n",
       ":   485robert\n",
       ":   482tuesday\n",
       ":   474effort\n",
       ":   473effect\n",
       ":   471full\n",
       ":   469hear\n",
       ":   469join\n",
       ":   469public\n",
       ":   468type\n",
       ":   466wednesday\n",
       ":   464X853\n",
       ":   462remov\n",
       ":   460put\n",
       ":   458design\n",
       ":   457believ\n",
       ":   456given\n",
       ":   453recent\n",
       ":   451special\n",
       ":   451allow\n",
       ":   450line\n",
       ":   448alreadi\n",
       ":   446due\n",
       ":   445buy\n",
       ":   442sincer\n",
       ":   441short\n",
       ":   439info\n",
       ":   438togeth\n",
       ":   438run\n",
       ":   437anoth\n",
       ":   435etc\n",
       ":   434keep\n",
       ":   431respond\n",
       ":   430sever\n",
       ":   430say\n",
       ":   423link\n",
       ":   421realli\n",
       ":   417open\n",
       ":   416wish\n",
       ":   414creat\n",
       ":   413read\n",
       ":   413arrang\n",
       ":   410specif\n",
       ":   407experi\n",
       ":   405involv\n",
       ":   405life\n",
       ":   400repli\n",
       ":   397happi\n",
       ":   396mean\n",
       ":   390write\n",
       ":   390without\n",
       ":   389immedi\n",
       ":   385better\n",
       ":   383idea\n",
       ":   378bring\n",
       ":   374thought\n",
       ":   367mention\n",
       ":   355lot\n",
       ":   348sorri\n",
       ":   343done\n",
       ":   337either\n",
       ":   318begin\n",
       ":   317vkamin\n",
       ":   301\n",
       "\n"
      ],
      "text/plain": [
       "     enron        ect    subject       vinc       will        hou        com \n",
       "     13388      11427      10202       8532       8252       5577       5443 \n",
       "     pleas      X2000   kaminski        can      thank    forward       time \n",
       "      5113       4967       4801       4257       3730       3161       3145 \n",
       "     X2001   research     market       work     inform      price       meet \n",
       "      3089       2820       2750       2708       2701       2694       2623 \n",
       "      know      group      manag        may        get       like        use \n",
       "      2614       2604       2600       2465       2462       2352       2330 \n",
       "      need       busi    compani        new       mail       risk      model \n",
       "      2328       2313       2290       2281       2269       2267       2199 \n",
       "    energi      power        one      email     regard       look     messag \n",
       "      2179       2117       2108       2066       2045       2003       1983 \n",
       "       let       year       make    develop       also        day   interest \n",
       "      1963       1890       1884       1882       1864       1860       1814 \n",
       "      week       corp    shirley       call        edu       http    houston \n",
       "      1758       1692       1689       1687       1627       1609       1582 \n",
       "       see     receiv     follow    contact    present    project     option \n",
       "      1567       1557       1552       1543       1543       1522       1488 \n",
       "      want    program       help       list     provid       send      trade \n",
       "      1488       1438       1430       1410       1405       1379       1366 \n",
       "      take       just    request   communic     servic  interview    discuss \n",
       "      1361       1354       1344       1343       1337       1333       1326 \n",
       "       www        now     confer       best     report     includ      think \n",
       "      1323       1300       1297       1291       1279       1238       1216 \n",
       "     order    product       date     number     attach      offer    address \n",
       "      1210       1197       1187       1182       1176       1171       1154 \n",
       "     avail   question      next.       free       sent      visit       well \n",
       "      1152       1152       1145       1141       1126       1126       1125 \n",
       "    system   crenshaw      posit       X713       good       name      state \n",
       "      1118       1115       1104       1097       1097       1089       1086 \n",
       "    financ    schedul        gas      offic    univers       give    stinson \n",
       "      1073       1071       1070       1068       1059       1055       1051 \n",
       "   current       john        fax      chang       X000      phone       last \n",
       "      1044       1042       1038       1035       1007       1001        998 \n",
       "      talk     review    process   industri     credit      month      peopl \n",
       "       981        976        975        970        960        958        958 \n",
       "      data       issu      resum      first       team   opportun       site \n",
       "       955        944        933        929        926        918        913 \n",
       "       two    financi       plan       come     origin      shall      start \n",
       "       911        909        904        903        892        884        880 \n",
       "       ask       find     invest       back        way       much       hope \n",
       "       871        867        867        864        864        861        858 \n",
       "     secur     friday    support     london       dear       base      great \n",
       "       857        854        854        843        838        837        837 \n",
       "   account      today    respons       cost       oper       copi     custom \n",
       "       829        828        824        821        820        797        796 \n",
       "   possibl     access       term   particip     associ      money      addit \n",
       "       796        789        786        782        777        776        774 \n",
       "      file      click     person       mani       book    softwar     requir \n",
       "       770        769        767        758        756        739        736 \n",
       "    within        set    student      futur       valu       rate    complet \n",
       "       732        727        726        722        721        717        707 \n",
       "  director       juli     websit      relat       note      april      deriv \n",
       "       705        701        700        694        688        682        676 \n",
       "       don        doc        web    problem       form     detail        tri \n",
       "       676        675        668        666        664        661        661 \n",
       "      home     direct      kevin     result     school     monday     approv \n",
       "       660        657        656        655        655        649        648 \n",
       "      real      invit        per      right        end     gibner   contract \n",
       "       648        647        642        639        635        633        629 \n",
       "     cours       high   internet       even       made     depart       mark \n",
       "       626        624        623        622        622        621        613 \n",
       "      move     intern      updat     assist     differ        abl       morn \n",
       "       612        606        606        598        598        590        586 \n",
       "     might   thursday     attend      engin       part     applic     corpor \n",
       "       577        575        573        571        571        567        565 \n",
       "   version       case    resourc     expect    suggest       unit    continu \n",
       "       564        561        556        554        554        554        552 \n",
       "     event       hour        net      howev     member       feel    appreci \n",
       "       552        548        548        545        545        543        541 \n",
       "     point      thing      hello       long    confirm    comment     import \n",
       "       536        535        534        534        532        531        530 \n",
       "     still       sinc understand    success      onlin      place     return \n",
       "       523        521        521        519        518        516        509 \n",
       "      deal    analysi       sure       soon    increas      final       area \n",
       "       498        495        495        492        491        490        489 \n",
       "     check      locat     robert    tuesday     effort     effect       full \n",
       "       488        485        482        474        473        471        469 \n",
       "      hear       join     public       type  wednesday       X853      remov \n",
       "       469        469        468        466        464        462        460 \n",
       "       put     design     believ      given     recent    special      allow \n",
       "       458        457        456        453        451        451        450 \n",
       "      line    alreadi        due        buy     sincer      short       info \n",
       "       448        446        445        442        441        439        438 \n",
       "    togeth        run      anoth        etc       keep    respond      sever \n",
       "       438        437        435        434        431        430        430 \n",
       "       say       link     realli       open       wish      creat       read \n",
       "       423        421        417        416        414        413        413 \n",
       "    arrang     specif     experi     involv       life      repli      happi \n",
       "       410        407        405        405        400        397        396 \n",
       "      mean      write    without     immedi     better       idea      bring \n",
       "       390        390        389        385        383        378        374 \n",
       "   thought    mention        lot      sorri       done     either      begin \n",
       "       367        355        348        343        337        318        317 \n",
       "    vkamin \n",
       "       301 "
      ]
     },
     "metadata": {},
     "output_type": "display_data"
    }
   ],
   "source": [
    "sort(colSums(emailsSparse), decreasing=TRUE)"
   ]
  },
  {
   "cell_type": "markdown",
   "metadata": {},
   "source": [
    "Add a variable called \"spam\" to emailsSparse containing the email spam labels. You can do this by copying over the \"spam\" variable from the original data frame (remember how we did this in the Twitter lecture)."
   ]
  },
  {
   "cell_type": "code",
   "execution_count": 22,
   "metadata": {},
   "outputs": [],
   "source": [
    "emailsSparse$spam = emails$spam"
   ]
  },
  {
   "cell_type": "code",
   "execution_count": 25,
   "metadata": {},
   "outputs": [
    {
     "data": {
      "text/html": [
       "6"
      ],
      "text/latex": [
       "6"
      ],
      "text/markdown": [
       "6"
      ],
      "text/plain": [
       "[1] 6"
      ]
     },
     "metadata": {},
     "output_type": "display_data"
    }
   ],
   "source": [
    "sum(colSums(subset(emailsSparse, spam == 0)) > 5000)"
   ]
  },
  {
   "cell_type": "code",
   "execution_count": 28,
   "metadata": {},
   "outputs": [
    {
     "data": {
      "text/html": [
       "<style>\n",
       ".dl-inline {width: auto; margin:0; padding: 0}\n",
       ".dl-inline>dt, .dl-inline>dd {float: none; width: auto; display: inline-block}\n",
       ".dl-inline>dt::after {content: \":\\0020\"; padding-right: .5ex}\n",
       ".dl-inline>dt:not(:first-of-type) {padding-left: .5ex}\n",
       "</style><dl class=dl-inline><dt>subject</dt><dd>1577</dd><dt>will</dt><dd>1450</dd><dt>spam</dt><dd>1368</dd><dt>compani</dt><dd>1065</dd><dt>com</dt><dd>999</dd><dt>mail</dt><dd>917</dd><dt>busi</dt><dd>897</dd><dt>email</dt><dd>865</dd><dt>can</dt><dd>831</dd><dt>inform</dt><dd>818</dd><dt>receiv</dt><dd>727</dd><dt>get</dt><dd>694</dd><dt>money</dt><dd>662</dd><dt>pleas</dt><dd>619</dd><dt>free</dt><dd>606</dd><dt>make</dt><dd>603</dd><dt>http</dt><dd>600</dd><dt>market</dt><dd>600</dd><dt>time</dt><dd>593</dd><dt>one</dt><dd>592</dd><dt>now</dt><dd>575</dd><dt>X000</dt><dd>560</dd><dt>click</dt><dd>552</dd><dt>use</dt><dd>546</dd><dt>order</dt><dd>541</dd><dt>invest</dt><dd>540</dd><dt>offer</dt><dd>528</dd><dt>just</dt><dd>524</dd><dt>secur</dt><dd>520</dd><dt>report</dt><dd>507</dd><dt>websit</dt><dd>506</dd><dt>new</dt><dd>504</dd><dt>list</dt><dd>503</dd><dt>price</dt><dd>503</dd><dt>may</dt><dd>489</dd><dt>address</dt><dd>461</dd><dt>site</dt><dd>455</dd><dt>messag</dt><dd>445</dd><dt>softwar</dt><dd>440</dd><dt>need</dt><dd>438</dd><dt>provid</dt><dd>435</dd><dt>account</dt><dd>428</dd><dt>www</dt><dd>426</dd><dt>product</dt><dd>421</dd><dt>day</dt><dd>420</dd><dt>want</dt><dd>420</dd><dt>work</dt><dd>415</dd><dt>look</dt><dd>396</dd><dt>servic</dt><dd>395</dd><dt>send</dt><dd>393</dd><dt>interest</dt><dd>385</dd><dt>like</dt><dd>372</dd><dt>year</dt><dd>367</dd><dt>custom</dt><dd>363</dd><dt>peopl</dt><dd>359</dd><dt>best</dt><dd>358</dd><dt>program</dt><dd>358</dd><dt>remov</dt><dd>357</dd><dt>within</dt><dd>346</dd><dt>onlin</dt><dd>345</dd><dt>name</dt><dd>344</dd><dt>see</dt><dd>329</dd><dt>life</dt><dd>320</dd><dt>includ</dt><dd>314</dd><dt>net</dt><dd>305</dd><dt>take</dt><dd>304</dd><dt>system</dt><dd>302</dd><dt>start</dt><dd>300</dd><dt>home</dt><dd>285</dd><dt>futur</dt><dd>282</dd><dt>avail</dt><dd>280</dd><dt>state</dt><dd>280</dd><dt>way</dt><dd>278</dd><dt>know</dt><dd>269</dd><dt>manag</dt><dd>266</dd><dt>help</dt><dd>262</dd><dt>internet</dt><dd>262</dd><dt>also</dt><dd>260</dd><dt>today</dt><dd>251</dd><dt>month</dt><dd>249</dd><dt>right</dt><dd>249</dd><dt>follow</dt><dd>244</dd><dt>contact</dt><dd>242</dd><dt>made</dt><dd>242</dd><dt>industri</dt><dd>239</dd><dt>web</dt><dd>238</dd><dt>result</dt><dd>237</dd><dt>number</dt><dd>231</dd><dt>week</dt><dd>231</dd><dt>per</dt><dd>230</dd><dt>don</dt><dd>226</dd><dt>success</dt><dd>226</dd><dt>special</dt><dd>225</dd><dt>good</dt><dd>221</dd><dt>forward</dt><dd>209</dd><dt>high</dt><dd>208</dd><dt>mani</dt><dd>208</dd><dt>financi</dt><dd>207</dd><dt>visit</dt><dd>206</dd><dt>chang</dt><dd>204</dd><dt>current</dt><dd>203</dd><dt>first</dt><dd>203</dd><dt>base</dt><dd>202</dd><dt>find</dt><dd>202</dd><dt>effect</dt><dd>201</dd><dt>rate</dt><dd>201</dd><dt>buy</dt><dd>199</dd><dt>trade</dt><dd>199</dd><dt>expect</dt><dd>198</dd><dt>person</dt><dd>198</dd><dt>without</dt><dd>198</dd><dt>design</dt><dd>196</dd><dt>form</dt><dd>196</dd><dt>project</dt><dd>194</dd><dt>even</dt><dd>193</dd><dt>complet</dt><dd>192</dd><dt>much</dt><dd>192</dd><dt>develop</dt><dd>191</dd><dt>call</dt><dd>190</dd><dt>thing</dt><dd>188</dd><dt>posit</dt><dd>187</dd><dt>regard</dt><dd>186</dd><dt>wish</dt><dd>185</dd><dt>great</dt><dd>182</dd><dt>cost</dt><dd>175</dd><dt>link</dt><dd>174</dd><dt>requir</dt><dd>174</dd><dt>version</dt><dd>174</dd><dt>access</dt><dd>172</dd><dt>give</dt><dd>172</dd><dt>thank</dt><dd>172</dd><dt>increas</dt><dd>171</dd><dt>next.</dt><dd>170</dd><dt>risk</dt><dd>170</dd><dt>plan</dt><dd>166</dd><dt>gas</dt><dd>165</dd><dt>info</dt><dd>165</dd><dt>well</dt><dd>164</dd><dt>credit</dt><dd>162</dd><dt>term</dt><dd>161</dd><dt>engin</dt><dd>160</dd><dt>line</dt><dd>159</dd><dt>opportun</dt><dd>158</dd><dt>real</dt><dd>158</dd><dt>repli</dt><dd>158</dd><dt>come</dt><dd>155</dd><dt>sent</dt><dd>155</dd><dt>return</dt><dd>154</dd><dt>full</dt><dd>152</dd><dt>corpor</dt><dd>151</dd><dt>oper</dt><dd>151</dd><dt>process</dt><dd>149</dd><dt>present</dt><dd>146</dd><dt>power</dt><dd>145</dd><dt>hour</dt><dd>144</dd><dt>believ</dt><dd>143</dd><dt>phone</dt><dd>143</dd><dt>review</dt><dd>142</dd><dt>tri</dt><dd>140</dd><dt>applic</dt><dd>139</dd><dt>hello</dt><dd>139</dd><dt>check</dt><dd>137</dd><dt>immedi</dt><dd>136</dd><dt>read</dt><dd>134</dd><dt>offic</dt><dd>133</dd><dt>think</dt><dd>132</dd><dt>mean</dt><dd>131</dd><dt>valu</dt><dd>131</dd><dt>group</dt><dd>130</dd><dt>place</dt><dd>128</dd><dt>date</dt><dd>127</dd><dt>addit</dt><dd>126</dd><dt>back</dt><dd>125</dd><dt>keep</dt><dd>125</dd><dt>last</dt><dd>124</dd><dt>two</dt><dd>124</dd><dt>assist</dt><dd>123</dd><dt>part</dt><dd>121</dd><dt>relat</dt><dd>121</dd><dt>support</dt><dd>120</dd><dt>import</dt><dd>119</dd><dt>say</dt><dd>118</dd><dt>intern</dt><dd>117</dd><dt>request</dt><dd>117</dd><dt>approv</dt><dd>115</dd><dt>detail</dt><dd>115</dd><dt>effort</dt><dd>115</dd><dt>creat</dt><dd>114</dd><dt>type</dt><dd>114</dd><dt>respons</dt><dd>113</dd><dt>file</dt><dd>111</dd><dt>involv</dt><dd>111</dd><dt>differ</dt><dd>109</dd><dt>let</dt><dd>107</dd><dt>event</dt><dd>105</dd><dt>dear</dt><dd>104</dd><dt>public</dt><dd>104</dd><dt>write</dt><dd>104</dd><dt>allow</dt><dd>102</dd><dt>member</dt><dd>99</dd><dt>sure</dt><dd>99</dd><dt>long</dt><dd>98</dd><dt>copi</dt><dd>97</dd><dt>unit</dt><dd>97</dd><dt>direct</dt><dd>96</dd><dt>origin</dt><dd>96</dd><dt>due</dt><dd>94</dd><dt>realli</dt><dd>93</dd><dt>area</dt><dd>92</dd><dt>communic</dt><dd>92</dd><dt>feel</dt><dd>90</dd><dt>resourc</dt><dd>90</dd><dt>sever</dt><dd>90</dd><dt>continu</dt><dd>88</dd><dt>note</dt><dd>88</dd><dt>data</dt><dd>87</dd><dt>might</dt><dd>87</dd><dt>move</dt><dd>86</dd><dt>contract</dt><dd>85</dd><dt>end</dt><dd>85</dd><dt>possibl</dt><dd>84</dd><dt>done</dt><dd>83</dd><dt>question</dt><dd>83</dd><dt>recent</dt><dd>83</dd><dt>better</dt><dd>82</dd><dt>short</dt><dd>82</dd><dt>sinc</dt><dd>82</dd><dt>lot</dt><dd>80</dd><dt>sincer</dt><dd>80</dd><dt>issu</dt><dd>79</dd><dt>locat</dt><dd>79</dd><dt>meet</dt><dd>79</dd><dt>updat</dt><dd>79</dd><dt>book</dt><dd>76</dd><dt>team</dt><dd>76</dd><dt>abl</dt><dd>75</dd><dt>deal</dt><dd>75</dd><dt>fax</dt><dd>75</dd><dt>alreadi</dt><dd>74</dd><dt>ask</dt><dd>74</dd><dt>problem</dt><dd>73</dd><dt>put</dt><dd>73</dd><dt>juli</dt><dd>71</dd><dt>given</dt><dd>70</dd><dt>case</dt><dd>69</dd><dt>set</dt><dd>69</dd><dt>specif</dt><dd>69</dd><dt>final</dt><dd>68</dd><dt>research</dt><dd>68</dd><dt>anoth</dt><dd>66</dd><dt>join</dt><dd>66</dd><dt>still</dt><dd>66</dd><dt>director</dt><dd>65</dd><dt>particip</dt><dd>65</dd><dt>bring</dt><dd>63</dd><dt>associ</dt><dd>62</dd><dt>point</dt><dd>62</dd><dt>cours</dt><dd>59</dd><dt>experi</dt><dd>59</dd><dt>soon</dt><dd>57</dd><dt>understand</dt><dd>57</dd><dt>discuss</dt><dd>56</dd><dt>open</dt><dd>56</dd><dt>option</dt><dd>56</dd><dt>energi</dt><dd>55</dd><dt>idea</dt><dd>51</dd><dt>sorri</dt><dd>50</dd><dt>corp</dt><dd>49</dd><dt>etc</dt><dd>49</dd><dt>hear</dt><dd>49</dd><dt>howev</dt><dd>49</dd><dt>respond</dt><dd>48</dd><dt>school</dt><dd>48</dd><dt>confirm</dt><dd>47</dd><dt>depart</dt><dd>46</dd><dt>happi</dt><dd>42</dd><dt>thought</dt><dd>42</dd><dt>morn</dt><dd>40</dd><dt>shall</dt><dd>40</dd><dt>either</dt><dd>39</dd><dt>run</dt><dd>39</dd><dt>talk</dt><dd>38</dd><dt>financ</dt><dd>35</dd><dt>univers</dt><dd>34</dd><dt>confer</dt><dd>33</dd><dt>invit</dt><dd>33</dd><dt>X2000</dt><dd>32</dd><dt>togeth</dt><dd>32</dd><dt>hope</dt><dd>30</dd><dt>mention</dt><dd>30</dd><dt>X2001</dt><dd>29</dd><dt>model</dt><dd>29</dd><dt>analysi</dt><dd>27</dd><dt>begin</dt><dd>26</dd><dt>comment</dt><dd>26</dd><dt>mark</dt><dd>25</dd><dt>appreci</dt><dd>23</dd><dt>attach</dt><dd>21</dd><dt>suggest</dt><dd>21</dd><dt>john</dt><dd>20</dd><dt>tuesday</dt><dd>20</dd><dt>monday</dt><dd>19</dd><dt>schedul</dt><dd>17</dd><dt>thursday</dt><dd>17</dd><dt>robert</dt><dd>16</dd><dt>student</dt><dd>16</dd><dt>attend</dt><dd>15</dd><dt>london</dt><dd>15</dd><dt>interview</dt><dd>13</dd><dt>arrang</dt><dd>11</dd><dt>ect</dt><dd>10</dd><dt>hou</dt><dd>8</dd><dt>wednesday</dt><dd>8</dd><dt>edu</dt><dd>7</dd><dt>friday</dt><dd>7</dd><dt>april</dt><dd>5</dd><dt>houston</dt><dd>5</dd><dt>resum</dt><dd>5</dd><dt>deriv</dt><dd>3</dd><dt>doc</dt><dd>2</dd><dt>kevin</dt><dd>2</dd><dt>shirley</dt><dd>2</dd><dt>X853</dt><dd>1</dd><dt>vinc</dt><dd>1</dd><dt>X713</dt><dd>0</dd><dt>crenshaw</dt><dd>0</dd><dt>enron</dt><dd>0</dd><dt>gibner</dt><dd>0</dd><dt>kaminski</dt><dd>0</dd><dt>stinson</dt><dd>0</dd><dt>vkamin</dt><dd>0</dd></dl>\n"
      ],
      "text/latex": [
       "\\begin{description*}\n",
       "\\item[subject] 1577\n",
       "\\item[will] 1450\n",
       "\\item[spam] 1368\n",
       "\\item[compani] 1065\n",
       "\\item[com] 999\n",
       "\\item[mail] 917\n",
       "\\item[busi] 897\n",
       "\\item[email] 865\n",
       "\\item[can] 831\n",
       "\\item[inform] 818\n",
       "\\item[receiv] 727\n",
       "\\item[get] 694\n",
       "\\item[money] 662\n",
       "\\item[pleas] 619\n",
       "\\item[free] 606\n",
       "\\item[make] 603\n",
       "\\item[http] 600\n",
       "\\item[market] 600\n",
       "\\item[time] 593\n",
       "\\item[one] 592\n",
       "\\item[now] 575\n",
       "\\item[X000] 560\n",
       "\\item[click] 552\n",
       "\\item[use] 546\n",
       "\\item[order] 541\n",
       "\\item[invest] 540\n",
       "\\item[offer] 528\n",
       "\\item[just] 524\n",
       "\\item[secur] 520\n",
       "\\item[report] 507\n",
       "\\item[websit] 506\n",
       "\\item[new] 504\n",
       "\\item[list] 503\n",
       "\\item[price] 503\n",
       "\\item[may] 489\n",
       "\\item[address] 461\n",
       "\\item[site] 455\n",
       "\\item[messag] 445\n",
       "\\item[softwar] 440\n",
       "\\item[need] 438\n",
       "\\item[provid] 435\n",
       "\\item[account] 428\n",
       "\\item[www] 426\n",
       "\\item[product] 421\n",
       "\\item[day] 420\n",
       "\\item[want] 420\n",
       "\\item[work] 415\n",
       "\\item[look] 396\n",
       "\\item[servic] 395\n",
       "\\item[send] 393\n",
       "\\item[interest] 385\n",
       "\\item[like] 372\n",
       "\\item[year] 367\n",
       "\\item[custom] 363\n",
       "\\item[peopl] 359\n",
       "\\item[best] 358\n",
       "\\item[program] 358\n",
       "\\item[remov] 357\n",
       "\\item[within] 346\n",
       "\\item[onlin] 345\n",
       "\\item[name] 344\n",
       "\\item[see] 329\n",
       "\\item[life] 320\n",
       "\\item[includ] 314\n",
       "\\item[net] 305\n",
       "\\item[take] 304\n",
       "\\item[system] 302\n",
       "\\item[start] 300\n",
       "\\item[home] 285\n",
       "\\item[futur] 282\n",
       "\\item[avail] 280\n",
       "\\item[state] 280\n",
       "\\item[way] 278\n",
       "\\item[know] 269\n",
       "\\item[manag] 266\n",
       "\\item[help] 262\n",
       "\\item[internet] 262\n",
       "\\item[also] 260\n",
       "\\item[today] 251\n",
       "\\item[month] 249\n",
       "\\item[right] 249\n",
       "\\item[follow] 244\n",
       "\\item[contact] 242\n",
       "\\item[made] 242\n",
       "\\item[industri] 239\n",
       "\\item[web] 238\n",
       "\\item[result] 237\n",
       "\\item[number] 231\n",
       "\\item[week] 231\n",
       "\\item[per] 230\n",
       "\\item[don] 226\n",
       "\\item[success] 226\n",
       "\\item[special] 225\n",
       "\\item[good] 221\n",
       "\\item[forward] 209\n",
       "\\item[high] 208\n",
       "\\item[mani] 208\n",
       "\\item[financi] 207\n",
       "\\item[visit] 206\n",
       "\\item[chang] 204\n",
       "\\item[current] 203\n",
       "\\item[first] 203\n",
       "\\item[base] 202\n",
       "\\item[find] 202\n",
       "\\item[effect] 201\n",
       "\\item[rate] 201\n",
       "\\item[buy] 199\n",
       "\\item[trade] 199\n",
       "\\item[expect] 198\n",
       "\\item[person] 198\n",
       "\\item[without] 198\n",
       "\\item[design] 196\n",
       "\\item[form] 196\n",
       "\\item[project] 194\n",
       "\\item[even] 193\n",
       "\\item[complet] 192\n",
       "\\item[much] 192\n",
       "\\item[develop] 191\n",
       "\\item[call] 190\n",
       "\\item[thing] 188\n",
       "\\item[posit] 187\n",
       "\\item[regard] 186\n",
       "\\item[wish] 185\n",
       "\\item[great] 182\n",
       "\\item[cost] 175\n",
       "\\item[link] 174\n",
       "\\item[requir] 174\n",
       "\\item[version] 174\n",
       "\\item[access] 172\n",
       "\\item[give] 172\n",
       "\\item[thank] 172\n",
       "\\item[increas] 171\n",
       "\\item[next.] 170\n",
       "\\item[risk] 170\n",
       "\\item[plan] 166\n",
       "\\item[gas] 165\n",
       "\\item[info] 165\n",
       "\\item[well] 164\n",
       "\\item[credit] 162\n",
       "\\item[term] 161\n",
       "\\item[engin] 160\n",
       "\\item[line] 159\n",
       "\\item[opportun] 158\n",
       "\\item[real] 158\n",
       "\\item[repli] 158\n",
       "\\item[come] 155\n",
       "\\item[sent] 155\n",
       "\\item[return] 154\n",
       "\\item[full] 152\n",
       "\\item[corpor] 151\n",
       "\\item[oper] 151\n",
       "\\item[process] 149\n",
       "\\item[present] 146\n",
       "\\item[power] 145\n",
       "\\item[hour] 144\n",
       "\\item[believ] 143\n",
       "\\item[phone] 143\n",
       "\\item[review] 142\n",
       "\\item[tri] 140\n",
       "\\item[applic] 139\n",
       "\\item[hello] 139\n",
       "\\item[check] 137\n",
       "\\item[immedi] 136\n",
       "\\item[read] 134\n",
       "\\item[offic] 133\n",
       "\\item[think] 132\n",
       "\\item[mean] 131\n",
       "\\item[valu] 131\n",
       "\\item[group] 130\n",
       "\\item[place] 128\n",
       "\\item[date] 127\n",
       "\\item[addit] 126\n",
       "\\item[back] 125\n",
       "\\item[keep] 125\n",
       "\\item[last] 124\n",
       "\\item[two] 124\n",
       "\\item[assist] 123\n",
       "\\item[part] 121\n",
       "\\item[relat] 121\n",
       "\\item[support] 120\n",
       "\\item[import] 119\n",
       "\\item[say] 118\n",
       "\\item[intern] 117\n",
       "\\item[request] 117\n",
       "\\item[approv] 115\n",
       "\\item[detail] 115\n",
       "\\item[effort] 115\n",
       "\\item[creat] 114\n",
       "\\item[type] 114\n",
       "\\item[respons] 113\n",
       "\\item[file] 111\n",
       "\\item[involv] 111\n",
       "\\item[differ] 109\n",
       "\\item[let] 107\n",
       "\\item[event] 105\n",
       "\\item[dear] 104\n",
       "\\item[public] 104\n",
       "\\item[write] 104\n",
       "\\item[allow] 102\n",
       "\\item[member] 99\n",
       "\\item[sure] 99\n",
       "\\item[long] 98\n",
       "\\item[copi] 97\n",
       "\\item[unit] 97\n",
       "\\item[direct] 96\n",
       "\\item[origin] 96\n",
       "\\item[due] 94\n",
       "\\item[realli] 93\n",
       "\\item[area] 92\n",
       "\\item[communic] 92\n",
       "\\item[feel] 90\n",
       "\\item[resourc] 90\n",
       "\\item[sever] 90\n",
       "\\item[continu] 88\n",
       "\\item[note] 88\n",
       "\\item[data] 87\n",
       "\\item[might] 87\n",
       "\\item[move] 86\n",
       "\\item[contract] 85\n",
       "\\item[end] 85\n",
       "\\item[possibl] 84\n",
       "\\item[done] 83\n",
       "\\item[question] 83\n",
       "\\item[recent] 83\n",
       "\\item[better] 82\n",
       "\\item[short] 82\n",
       "\\item[sinc] 82\n",
       "\\item[lot] 80\n",
       "\\item[sincer] 80\n",
       "\\item[issu] 79\n",
       "\\item[locat] 79\n",
       "\\item[meet] 79\n",
       "\\item[updat] 79\n",
       "\\item[book] 76\n",
       "\\item[team] 76\n",
       "\\item[abl] 75\n",
       "\\item[deal] 75\n",
       "\\item[fax] 75\n",
       "\\item[alreadi] 74\n",
       "\\item[ask] 74\n",
       "\\item[problem] 73\n",
       "\\item[put] 73\n",
       "\\item[juli] 71\n",
       "\\item[given] 70\n",
       "\\item[case] 69\n",
       "\\item[set] 69\n",
       "\\item[specif] 69\n",
       "\\item[final] 68\n",
       "\\item[research] 68\n",
       "\\item[anoth] 66\n",
       "\\item[join] 66\n",
       "\\item[still] 66\n",
       "\\item[director] 65\n",
       "\\item[particip] 65\n",
       "\\item[bring] 63\n",
       "\\item[associ] 62\n",
       "\\item[point] 62\n",
       "\\item[cours] 59\n",
       "\\item[experi] 59\n",
       "\\item[soon] 57\n",
       "\\item[understand] 57\n",
       "\\item[discuss] 56\n",
       "\\item[open] 56\n",
       "\\item[option] 56\n",
       "\\item[energi] 55\n",
       "\\item[idea] 51\n",
       "\\item[sorri] 50\n",
       "\\item[corp] 49\n",
       "\\item[etc] 49\n",
       "\\item[hear] 49\n",
       "\\item[howev] 49\n",
       "\\item[respond] 48\n",
       "\\item[school] 48\n",
       "\\item[confirm] 47\n",
       "\\item[depart] 46\n",
       "\\item[happi] 42\n",
       "\\item[thought] 42\n",
       "\\item[morn] 40\n",
       "\\item[shall] 40\n",
       "\\item[either] 39\n",
       "\\item[run] 39\n",
       "\\item[talk] 38\n",
       "\\item[financ] 35\n",
       "\\item[univers] 34\n",
       "\\item[confer] 33\n",
       "\\item[invit] 33\n",
       "\\item[X2000] 32\n",
       "\\item[togeth] 32\n",
       "\\item[hope] 30\n",
       "\\item[mention] 30\n",
       "\\item[X2001] 29\n",
       "\\item[model] 29\n",
       "\\item[analysi] 27\n",
       "\\item[begin] 26\n",
       "\\item[comment] 26\n",
       "\\item[mark] 25\n",
       "\\item[appreci] 23\n",
       "\\item[attach] 21\n",
       "\\item[suggest] 21\n",
       "\\item[john] 20\n",
       "\\item[tuesday] 20\n",
       "\\item[monday] 19\n",
       "\\item[schedul] 17\n",
       "\\item[thursday] 17\n",
       "\\item[robert] 16\n",
       "\\item[student] 16\n",
       "\\item[attend] 15\n",
       "\\item[london] 15\n",
       "\\item[interview] 13\n",
       "\\item[arrang] 11\n",
       "\\item[ect] 10\n",
       "\\item[hou] 8\n",
       "\\item[wednesday] 8\n",
       "\\item[edu] 7\n",
       "\\item[friday] 7\n",
       "\\item[april] 5\n",
       "\\item[houston] 5\n",
       "\\item[resum] 5\n",
       "\\item[deriv] 3\n",
       "\\item[doc] 2\n",
       "\\item[kevin] 2\n",
       "\\item[shirley] 2\n",
       "\\item[X853] 1\n",
       "\\item[vinc] 1\n",
       "\\item[X713] 0\n",
       "\\item[crenshaw] 0\n",
       "\\item[enron] 0\n",
       "\\item[gibner] 0\n",
       "\\item[kaminski] 0\n",
       "\\item[stinson] 0\n",
       "\\item[vkamin] 0\n",
       "\\end{description*}\n"
      ],
      "text/markdown": [
       "subject\n",
       ":   1577will\n",
       ":   1450spam\n",
       ":   1368compani\n",
       ":   1065com\n",
       ":   999mail\n",
       ":   917busi\n",
       ":   897email\n",
       ":   865can\n",
       ":   831inform\n",
       ":   818receiv\n",
       ":   727get\n",
       ":   694money\n",
       ":   662pleas\n",
       ":   619free\n",
       ":   606make\n",
       ":   603http\n",
       ":   600market\n",
       ":   600time\n",
       ":   593one\n",
       ":   592now\n",
       ":   575X000\n",
       ":   560click\n",
       ":   552use\n",
       ":   546order\n",
       ":   541invest\n",
       ":   540offer\n",
       ":   528just\n",
       ":   524secur\n",
       ":   520report\n",
       ":   507websit\n",
       ":   506new\n",
       ":   504list\n",
       ":   503price\n",
       ":   503may\n",
       ":   489address\n",
       ":   461site\n",
       ":   455messag\n",
       ":   445softwar\n",
       ":   440need\n",
       ":   438provid\n",
       ":   435account\n",
       ":   428www\n",
       ":   426product\n",
       ":   421day\n",
       ":   420want\n",
       ":   420work\n",
       ":   415look\n",
       ":   396servic\n",
       ":   395send\n",
       ":   393interest\n",
       ":   385like\n",
       ":   372year\n",
       ":   367custom\n",
       ":   363peopl\n",
       ":   359best\n",
       ":   358program\n",
       ":   358remov\n",
       ":   357within\n",
       ":   346onlin\n",
       ":   345name\n",
       ":   344see\n",
       ":   329life\n",
       ":   320includ\n",
       ":   314net\n",
       ":   305take\n",
       ":   304system\n",
       ":   302start\n",
       ":   300home\n",
       ":   285futur\n",
       ":   282avail\n",
       ":   280state\n",
       ":   280way\n",
       ":   278know\n",
       ":   269manag\n",
       ":   266help\n",
       ":   262internet\n",
       ":   262also\n",
       ":   260today\n",
       ":   251month\n",
       ":   249right\n",
       ":   249follow\n",
       ":   244contact\n",
       ":   242made\n",
       ":   242industri\n",
       ":   239web\n",
       ":   238result\n",
       ":   237number\n",
       ":   231week\n",
       ":   231per\n",
       ":   230don\n",
       ":   226success\n",
       ":   226special\n",
       ":   225good\n",
       ":   221forward\n",
       ":   209high\n",
       ":   208mani\n",
       ":   208financi\n",
       ":   207visit\n",
       ":   206chang\n",
       ":   204current\n",
       ":   203first\n",
       ":   203base\n",
       ":   202find\n",
       ":   202effect\n",
       ":   201rate\n",
       ":   201buy\n",
       ":   199trade\n",
       ":   199expect\n",
       ":   198person\n",
       ":   198without\n",
       ":   198design\n",
       ":   196form\n",
       ":   196project\n",
       ":   194even\n",
       ":   193complet\n",
       ":   192much\n",
       ":   192develop\n",
       ":   191call\n",
       ":   190thing\n",
       ":   188posit\n",
       ":   187regard\n",
       ":   186wish\n",
       ":   185great\n",
       ":   182cost\n",
       ":   175link\n",
       ":   174requir\n",
       ":   174version\n",
       ":   174access\n",
       ":   172give\n",
       ":   172thank\n",
       ":   172increas\n",
       ":   171next.\n",
       ":   170risk\n",
       ":   170plan\n",
       ":   166gas\n",
       ":   165info\n",
       ":   165well\n",
       ":   164credit\n",
       ":   162term\n",
       ":   161engin\n",
       ":   160line\n",
       ":   159opportun\n",
       ":   158real\n",
       ":   158repli\n",
       ":   158come\n",
       ":   155sent\n",
       ":   155return\n",
       ":   154full\n",
       ":   152corpor\n",
       ":   151oper\n",
       ":   151process\n",
       ":   149present\n",
       ":   146power\n",
       ":   145hour\n",
       ":   144believ\n",
       ":   143phone\n",
       ":   143review\n",
       ":   142tri\n",
       ":   140applic\n",
       ":   139hello\n",
       ":   139check\n",
       ":   137immedi\n",
       ":   136read\n",
       ":   134offic\n",
       ":   133think\n",
       ":   132mean\n",
       ":   131valu\n",
       ":   131group\n",
       ":   130place\n",
       ":   128date\n",
       ":   127addit\n",
       ":   126back\n",
       ":   125keep\n",
       ":   125last\n",
       ":   124two\n",
       ":   124assist\n",
       ":   123part\n",
       ":   121relat\n",
       ":   121support\n",
       ":   120import\n",
       ":   119say\n",
       ":   118intern\n",
       ":   117request\n",
       ":   117approv\n",
       ":   115detail\n",
       ":   115effort\n",
       ":   115creat\n",
       ":   114type\n",
       ":   114respons\n",
       ":   113file\n",
       ":   111involv\n",
       ":   111differ\n",
       ":   109let\n",
       ":   107event\n",
       ":   105dear\n",
       ":   104public\n",
       ":   104write\n",
       ":   104allow\n",
       ":   102member\n",
       ":   99sure\n",
       ":   99long\n",
       ":   98copi\n",
       ":   97unit\n",
       ":   97direct\n",
       ":   96origin\n",
       ":   96due\n",
       ":   94realli\n",
       ":   93area\n",
       ":   92communic\n",
       ":   92feel\n",
       ":   90resourc\n",
       ":   90sever\n",
       ":   90continu\n",
       ":   88note\n",
       ":   88data\n",
       ":   87might\n",
       ":   87move\n",
       ":   86contract\n",
       ":   85end\n",
       ":   85possibl\n",
       ":   84done\n",
       ":   83question\n",
       ":   83recent\n",
       ":   83better\n",
       ":   82short\n",
       ":   82sinc\n",
       ":   82lot\n",
       ":   80sincer\n",
       ":   80issu\n",
       ":   79locat\n",
       ":   79meet\n",
       ":   79updat\n",
       ":   79book\n",
       ":   76team\n",
       ":   76abl\n",
       ":   75deal\n",
       ":   75fax\n",
       ":   75alreadi\n",
       ":   74ask\n",
       ":   74problem\n",
       ":   73put\n",
       ":   73juli\n",
       ":   71given\n",
       ":   70case\n",
       ":   69set\n",
       ":   69specif\n",
       ":   69final\n",
       ":   68research\n",
       ":   68anoth\n",
       ":   66join\n",
       ":   66still\n",
       ":   66director\n",
       ":   65particip\n",
       ":   65bring\n",
       ":   63associ\n",
       ":   62point\n",
       ":   62cours\n",
       ":   59experi\n",
       ":   59soon\n",
       ":   57understand\n",
       ":   57discuss\n",
       ":   56open\n",
       ":   56option\n",
       ":   56energi\n",
       ":   55idea\n",
       ":   51sorri\n",
       ":   50corp\n",
       ":   49etc\n",
       ":   49hear\n",
       ":   49howev\n",
       ":   49respond\n",
       ":   48school\n",
       ":   48confirm\n",
       ":   47depart\n",
       ":   46happi\n",
       ":   42thought\n",
       ":   42morn\n",
       ":   40shall\n",
       ":   40either\n",
       ":   39run\n",
       ":   39talk\n",
       ":   38financ\n",
       ":   35univers\n",
       ":   34confer\n",
       ":   33invit\n",
       ":   33X2000\n",
       ":   32togeth\n",
       ":   32hope\n",
       ":   30mention\n",
       ":   30X2001\n",
       ":   29model\n",
       ":   29analysi\n",
       ":   27begin\n",
       ":   26comment\n",
       ":   26mark\n",
       ":   25appreci\n",
       ":   23attach\n",
       ":   21suggest\n",
       ":   21john\n",
       ":   20tuesday\n",
       ":   20monday\n",
       ":   19schedul\n",
       ":   17thursday\n",
       ":   17robert\n",
       ":   16student\n",
       ":   16attend\n",
       ":   15london\n",
       ":   15interview\n",
       ":   13arrang\n",
       ":   11ect\n",
       ":   10hou\n",
       ":   8wednesday\n",
       ":   8edu\n",
       ":   7friday\n",
       ":   7april\n",
       ":   5houston\n",
       ":   5resum\n",
       ":   5deriv\n",
       ":   3doc\n",
       ":   2kevin\n",
       ":   2shirley\n",
       ":   2X853\n",
       ":   1vinc\n",
       ":   1X713\n",
       ":   0crenshaw\n",
       ":   0enron\n",
       ":   0gibner\n",
       ":   0kaminski\n",
       ":   0stinson\n",
       ":   0vkamin\n",
       ":   0\n",
       "\n"
      ],
      "text/plain": [
       "   subject       will       spam    compani        com       mail       busi \n",
       "      1577       1450       1368       1065        999        917        897 \n",
       "     email        can     inform     receiv        get      money      pleas \n",
       "       865        831        818        727        694        662        619 \n",
       "      free       make       http     market       time        one        now \n",
       "       606        603        600        600        593        592        575 \n",
       "      X000      click        use      order     invest      offer       just \n",
       "       560        552        546        541        540        528        524 \n",
       "     secur     report     websit        new       list      price        may \n",
       "       520        507        506        504        503        503        489 \n",
       "   address       site     messag    softwar       need     provid    account \n",
       "       461        455        445        440        438        435        428 \n",
       "       www    product        day       want       work       look     servic \n",
       "       426        421        420        420        415        396        395 \n",
       "      send   interest       like       year     custom      peopl       best \n",
       "       393        385        372        367        363        359        358 \n",
       "   program      remov     within      onlin       name        see       life \n",
       "       358        357        346        345        344        329        320 \n",
       "    includ        net       take     system      start       home      futur \n",
       "       314        305        304        302        300        285        282 \n",
       "     avail      state        way       know      manag       help   internet \n",
       "       280        280        278        269        266        262        262 \n",
       "      also      today      month      right     follow    contact       made \n",
       "       260        251        249        249        244        242        242 \n",
       "  industri        web     result     number       week        per        don \n",
       "       239        238        237        231        231        230        226 \n",
       "   success    special       good    forward       high       mani    financi \n",
       "       226        225        221        209        208        208        207 \n",
       "     visit      chang    current      first       base       find     effect \n",
       "       206        204        203        203        202        202        201 \n",
       "      rate        buy      trade     expect     person    without     design \n",
       "       201        199        199        198        198        198        196 \n",
       "      form    project       even    complet       much    develop       call \n",
       "       196        194        193        192        192        191        190 \n",
       "     thing      posit     regard       wish      great       cost       link \n",
       "       188        187        186        185        182        175        174 \n",
       "    requir    version     access       give      thank    increas      next. \n",
       "       174        174        172        172        172        171        170 \n",
       "      risk       plan        gas       info       well     credit       term \n",
       "       170        166        165        165        164        162        161 \n",
       "     engin       line   opportun       real      repli       come       sent \n",
       "       160        159        158        158        158        155        155 \n",
       "    return       full     corpor       oper    process    present      power \n",
       "       154        152        151        151        149        146        145 \n",
       "      hour     believ      phone     review        tri     applic      hello \n",
       "       144        143        143        142        140        139        139 \n",
       "     check     immedi       read      offic      think       mean       valu \n",
       "       137        136        134        133        132        131        131 \n",
       "     group      place       date      addit       back       keep       last \n",
       "       130        128        127        126        125        125        124 \n",
       "       two     assist       part      relat    support     import        say \n",
       "       124        123        121        121        120        119        118 \n",
       "    intern    request     approv     detail     effort      creat       type \n",
       "       117        117        115        115        115        114        114 \n",
       "   respons       file     involv     differ        let      event       dear \n",
       "       113        111        111        109        107        105        104 \n",
       "    public      write      allow     member       sure       long       copi \n",
       "       104        104        102         99         99         98         97 \n",
       "      unit     direct     origin        due     realli       area   communic \n",
       "        97         96         96         94         93         92         92 \n",
       "      feel    resourc      sever    continu       note       data      might \n",
       "        90         90         90         88         88         87         87 \n",
       "      move   contract        end    possibl       done   question     recent \n",
       "        86         85         85         84         83         83         83 \n",
       "    better      short       sinc        lot     sincer       issu      locat \n",
       "        82         82         82         80         80         79         79 \n",
       "      meet      updat       book       team        abl       deal        fax \n",
       "        79         79         76         76         75         75         75 \n",
       "   alreadi        ask    problem        put       juli      given       case \n",
       "        74         74         73         73         71         70         69 \n",
       "       set     specif      final   research      anoth       join      still \n",
       "        69         69         68         68         66         66         66 \n",
       "  director   particip      bring     associ      point      cours     experi \n",
       "        65         65         63         62         62         59         59 \n",
       "      soon understand    discuss       open     option     energi       idea \n",
       "        57         57         56         56         56         55         51 \n",
       "     sorri       corp        etc       hear      howev    respond     school \n",
       "        50         49         49         49         49         48         48 \n",
       "   confirm     depart      happi    thought       morn      shall     either \n",
       "        47         46         42         42         40         40         39 \n",
       "       run       talk     financ    univers     confer      invit      X2000 \n",
       "        39         38         35         34         33         33         32 \n",
       "    togeth       hope    mention      X2001      model    analysi      begin \n",
       "        32         30         30         29         29         27         26 \n",
       "   comment       mark    appreci     attach    suggest       john    tuesday \n",
       "        26         25         23         21         21         20         20 \n",
       "    monday    schedul   thursday     robert    student     attend     london \n",
       "        19         17         17         16         16         15         15 \n",
       " interview     arrang        ect        hou  wednesday        edu     friday \n",
       "        13         11         10          8          8          7          7 \n",
       "     april    houston      resum      deriv        doc      kevin    shirley \n",
       "         5          5          5          3          2          2          2 \n",
       "      X853       vinc       X713   crenshaw      enron     gibner   kaminski \n",
       "         1          1          0          0          0          0          0 \n",
       "   stinson     vkamin \n",
       "         0          0 "
      ]
     },
     "metadata": {},
     "output_type": "display_data"
    }
   ],
   "source": [
    "sort(colSums(subset(emailsSparse, spam == 1)), decreasing=TRUE)"
   ]
  },
  {
   "cell_type": "markdown",
   "metadata": {},
   "source": [
    "## Building machine learning models"
   ]
  },
  {
   "cell_type": "markdown",
   "metadata": {},
   "source": [
    "First, convert the dependent variable to a factor with \"```emailsSparse$spam = as.factor(emailsSparse$spam)```\".\n",
    "\n",
    "Next, set the random seed to 123 and use the sample.split function to split emailsSparse 70/30 into a training set called \"train\" and a testing set called \"test\". Make sure to perform this step on emailsSparse instead of emails.\n",
    "\n",
    "Using the training set, train the following three machine learning models. The models should predict the dependent variable \"spam\", using all other available variables as independent variables. Please be patient, as these models may take a few minutes to train.\n",
    "\n",
    "1) A logistic regression model called spamLog. You may see a warning message here - we'll discuss this more later.\n",
    "\n",
    "2) A CART model called spamCART, using the default parameters to train the model (don't worry about adding minbucket or cp). Remember to add the argument method=\"class\" since this is a binary classification problem.\n",
    "\n",
    "3) A random forest model called spamRF, using the default parameters to train the model (don't worry about specifying ntree or nodesize). Directly before training the random forest model, set the random seed to 123 (even though we've already done this earlier in the problem, it's important to set the seed right before training the model so we all obtain the same results. Keep in mind though that on certain operating systems, your results might still be slightly different).\n",
    "\n",
    "For each model, obtain the predicted spam probabilities for the training set. Be careful to obtain probabilities instead of predicted classes, because we will be using these values to compute training set AUC values. Recall that you can obtain probabilities for CART models by not passing any type parameter to the predict() function, and you can obtain probabilities from a random forest by adding the argument type=\"prob\". For CART and random forest, you need to select the second column of the output of the predict() function, corresponding to the probability of a message being spam.\n",
    "\n",
    "You may have noticed that training the logistic regression model yielded the messages \"algorithm did not converge\" and \"fitted probabilities numerically 0 or 1 occurred\". Both of these messages often indicate overfitting and the first indicates particularly severe overfitting, often to the point that the training set observations are fit perfectly by the model. Let's investigate the predicted probabilities from the logistic regression model."
   ]
  },
  {
   "cell_type": "code",
   "execution_count": 29,
   "metadata": {},
   "outputs": [],
   "source": [
    "emailsSparse$spam = as.factor(emailsSparse$spam)"
   ]
  },
  {
   "cell_type": "code",
   "execution_count": 36,
   "metadata": {},
   "outputs": [
    {
     "name": "stderr",
     "output_type": "stream",
     "text": [
      "randomForest 4.6-14\n",
      "\n",
      "Type rfNews() to see new features/changes/bug fixes.\n",
      "\n"
     ]
    }
   ],
   "source": [
    "library(\"caTools\")\n",
    "library(\"rpart\")\n",
    "library(\"rpart.plot\")\n",
    "library(\"randomForest\")"
   ]
  },
  {
   "cell_type": "code",
   "execution_count": 31,
   "metadata": {},
   "outputs": [],
   "source": [
    "set.seed(123)"
   ]
  },
  {
   "cell_type": "code",
   "execution_count": 32,
   "metadata": {},
   "outputs": [],
   "source": [
    "split = sample.split(emailsSparse$spam, SplitRatio = 0.7)\n",
    "train = subset(emailsSparse, split == TRUE)\n",
    "test = subset(emailsSparse, split == FALSE)"
   ]
  },
  {
   "cell_type": "markdown",
   "metadata": {},
   "source": [
    "### Logistic Regression"
   ]
  },
  {
   "cell_type": "code",
   "execution_count": 35,
   "metadata": {},
   "outputs": [
    {
     "name": "stderr",
     "output_type": "stream",
     "text": [
      "Warning message:\n",
      "\"glm.fit: algorithm did not converge\"\n",
      "Warning message:\n",
      "\"glm.fit: fitted probabilities numerically 0 or 1 occurred\"\n"
     ]
    }
   ],
   "source": [
    "spamLog = glm(spam ~ .,data=train, family='binomial')"
   ]
  },
  {
   "cell_type": "markdown",
   "metadata": {},
   "source": [
    "### CART"
   ]
  },
  {
   "cell_type": "code",
   "execution_count": 37,
   "metadata": {},
   "outputs": [],
   "source": [
    "spamCART = rpart(spam ~ ., data=train, method='class')"
   ]
  },
  {
   "cell_type": "markdown",
   "metadata": {},
   "source": [
    "### Random Forest"
   ]
  },
  {
   "cell_type": "code",
   "execution_count": 38,
   "metadata": {},
   "outputs": [],
   "source": [
    "set.seed(123)\n",
    "spamRF = randomForest(spam ~ ., data=train)"
   ]
  },
  {
   "cell_type": "code",
   "execution_count": 39,
   "metadata": {},
   "outputs": [
    {
     "name": "stderr",
     "output_type": "stream",
     "text": [
      "Loading required package: gplots\n",
      "\n",
      "\n",
      "Attaching package: 'gplots'\n",
      "\n",
      "\n",
      "The following object is masked from 'package:stats':\n",
      "\n",
      "    lowess\n",
      "\n",
      "\n"
     ]
    }
   ],
   "source": [
    "library(\"ROCR\")"
   ]
  },
  {
   "cell_type": "code",
   "execution_count": 60,
   "metadata": {},
   "outputs": [],
   "source": [
    "predTrainLog = predict(spamLog, type='response')\n",
    "predTrainCART = predict(spamCART, type='class')\n",
    "predTrainRF = predict(spamRF, type='prob')[, 2]"
   ]
  },
  {
   "cell_type": "code",
   "execution_count": 47,
   "metadata": {},
   "outputs": [
    {
     "data": {
      "text/html": [
       "3046"
      ],
      "text/latex": [
       "3046"
      ],
      "text/markdown": [
       "3046"
      ],
      "text/plain": [
       "[1] 3046"
      ]
     },
     "metadata": {},
     "output_type": "display_data"
    }
   ],
   "source": [
    "sum(predTrainLog < 0.00001)"
   ]
  },
  {
   "cell_type": "code",
   "execution_count": 48,
   "metadata": {},
   "outputs": [
    {
     "data": {
      "text/html": [
       "954"
      ],
      "text/latex": [
       "954"
      ],
      "text/markdown": [
       "954"
      ],
      "text/plain": [
       "[1] 954"
      ]
     },
     "metadata": {},
     "output_type": "display_data"
    }
   ],
   "source": [
    "sum(predTrainLog > 0.99999)"
   ]
  },
  {
   "cell_type": "code",
   "execution_count": 49,
   "metadata": {},
   "outputs": [
    {
     "data": {
      "text/html": [
       "10"
      ],
      "text/latex": [
       "10"
      ],
      "text/markdown": [
       "10"
      ],
      "text/plain": [
       "[1] 10"
      ]
     },
     "metadata": {},
     "output_type": "display_data"
    }
   ],
   "source": [
    "nrow(train) - 3046 - 954"
   ]
  },
  {
   "cell_type": "code",
   "execution_count": 50,
   "metadata": {},
   "outputs": [
    {
     "data": {
      "image/png": "[encoded data removed]",
      "text/plain": [
       "plot without title"
      ]
     },
     "metadata": {
      "image/png": {
       "height": 420,
       "width": 420
      }
     },
     "output_type": "display_data"
    }
   ],
   "source": [
    "prp(spamCART)"
   ]
  },
  {
   "cell_type": "code",
   "execution_count": 51,
   "metadata": {},
   "outputs": [
    {
     "data": {
      "text/plain": [
       "   \n",
       "    FALSE TRUE\n",
       "  0  3052    0\n",
       "  1     4  954"
      ]
     },
     "metadata": {},
     "output_type": "display_data"
    }
   ],
   "source": [
    "table(train$spam, predTrainLog > 0.5)"
   ]
  },
  {
   "cell_type": "code",
   "execution_count": 52,
   "metadata": {},
   "outputs": [
    {
     "data": {
      "text/html": [
       "0.999002493765586"
      ],
      "text/latex": [
       "0.999002493765586"
      ],
      "text/markdown": [
       "0.999002493765586"
      ],
      "text/plain": [
       "[1] 0.9990025"
      ]
     },
     "metadata": {},
     "output_type": "display_data"
    }
   ],
   "source": [
    "log_acc = (3052 + 954) / nrow(train)\n",
    "log_acc"
   ]
  },
  {
   "cell_type": "code",
   "execution_count": 55,
   "metadata": {},
   "outputs": [
    {
     "data": {
      "text/html": [
       "<ol>\n",
       "\t<li>0.999995895774563</li>\n",
       "</ol>\n"
      ],
      "text/latex": [
       "\\begin{enumerate}\n",
       "\\item 0.999995895774563\n",
       "\\end{enumerate}\n"
      ],
      "text/markdown": [
       "1. 0.999995895774563\n",
       "\n",
       "\n"
      ],
      "text/plain": [
       "[[1]]\n",
       "[1] 0.9999959\n"
      ]
     },
     "metadata": {},
     "output_type": "display_data"
    }
   ],
   "source": [
    "predROCR = prediction(predTrainLog, train$spam)\n",
    "performance(predROCR, \"auc\")@y.values"
   ]
  },
  {
   "cell_type": "code",
   "execution_count": 61,
   "metadata": {},
   "outputs": [
    {
     "data": {
      "text/plain": [
       "             \n",
       "predTrainCART    0    1\n",
       "            0 2885   64\n",
       "            1  167  894"
      ]
     },
     "metadata": {},
     "output_type": "display_data"
    }
   ],
   "source": [
    "table(predTrainCART, train$spam)"
   ]
  },
  {
   "cell_type": "code",
   "execution_count": 62,
   "metadata": {},
   "outputs": [
    {
     "data": {
      "text/html": [
       "0.942394014962594"
      ],
      "text/latex": [
       "0.942394014962594"
      ],
      "text/markdown": [
       "0.942394014962594"
      ],
      "text/plain": [
       "[1] 0.942394"
      ]
     },
     "metadata": {},
     "output_type": "display_data"
    }
   ],
   "source": [
    "CART_acc = (2885 + 894) / nrow(train)\n",
    "CART_acc"
   ]
  },
  {
   "cell_type": "code",
   "execution_count": 65,
   "metadata": {},
   "outputs": [
    {
     "data": {
      "text/html": [
       "<ol>\n",
       "\t<li>0.969604448433144</li>\n",
       "</ol>\n"
      ],
      "text/latex": [
       "\\begin{enumerate}\n",
       "\\item 0.969604448433144\n",
       "\\end{enumerate}\n"
      ],
      "text/markdown": [
       "1. 0.969604448433144\n",
       "\n",
       "\n"
      ],
      "text/plain": [
       "[[1]]\n",
       "[1] 0.9696044\n"
      ]
     },
     "metadata": {},
     "output_type": "display_data"
    }
   ],
   "source": [
    "predTrainCART = predict(spamCART)[ ,2]\n",
    "predROCR = prediction(predTrainCART, train$spam)\n",
    "performance(predROCR, \"auc\")@y.values"
   ]
  },
  {
   "cell_type": "code",
   "execution_count": 66,
   "metadata": {},
   "outputs": [
    {
     "data": {
      "text/plain": [
       "       \n",
       "           0    1\n",
       "  FALSE 3015   42\n",
       "  TRUE    37  916"
      ]
     },
     "metadata": {},
     "output_type": "display_data"
    }
   ],
   "source": [
    "table(predTrainRF > 0.5, train$spam)"
   ]
  },
  {
   "cell_type": "code",
   "execution_count": 67,
   "metadata": {},
   "outputs": [
    {
     "data": {
      "text/html": [
       "0.980299251870324"
      ],
      "text/latex": [
       "0.980299251870324"
      ],
      "text/markdown": [
       "0.980299251870324"
      ],
      "text/plain": [
       "[1] 0.9802993"
      ]
     },
     "metadata": {},
     "output_type": "display_data"
    }
   ],
   "source": [
    "RF_acc = (3015 + 916) / nrow(train)\n",
    "RF_acc"
   ]
  },
  {
   "cell_type": "code",
   "execution_count": 68,
   "metadata": {},
   "outputs": [
    {
     "data": {
      "text/html": [
       "<ol>\n",
       "\t<li>0.997815526011213</li>\n",
       "</ol>\n"
      ],
      "text/latex": [
       "\\begin{enumerate}\n",
       "\\item 0.997815526011213\n",
       "\\end{enumerate}\n"
      ],
      "text/markdown": [
       "1. 0.997815526011213\n",
       "\n",
       "\n"
      ],
      "text/plain": [
       "[[1]]\n",
       "[1] 0.9978155\n"
      ]
     },
     "metadata": {},
     "output_type": "display_data"
    }
   ],
   "source": [
    "predROCR = prediction(predTrainRF, train$spam)\n",
    "performance(predROCR, \"auc\")@y.values"
   ]
  },
  {
   "cell_type": "markdown",
   "metadata": {},
   "source": [
    "## Evaluating on the Test Set"
   ]
  },
  {
   "cell_type": "code",
   "execution_count": 73,
   "metadata": {},
   "outputs": [
    {
     "data": {
      "text/plain": [
       "       \n",
       "           0    1\n",
       "  FALSE 1257   34\n",
       "  TRUE    51  376"
      ]
     },
     "metadata": {},
     "output_type": "display_data"
    }
   ],
   "source": [
    "predTestLog = predict(spamLog, newdata=test, type='response')\n",
    "table(predTestLog > 0.5, test$spam)"
   ]
  },
  {
   "cell_type": "code",
   "execution_count": 74,
   "metadata": {},
   "outputs": [
    {
     "data": {
      "text/html": [
       "0.950523864959255"
      ],
      "text/latex": [
       "0.950523864959255"
      ],
      "text/markdown": [
       "0.950523864959255"
      ],
      "text/plain": [
       "[1] 0.9505239"
      ]
     },
     "metadata": {},
     "output_type": "display_data"
    }
   ],
   "source": [
    "log_acc_test = (1257 + 376) / nrow(test)\n",
    "log_acc_test"
   ]
  },
  {
   "cell_type": "code",
   "execution_count": 75,
   "metadata": {},
   "outputs": [
    {
     "data": {
      "text/html": [
       "<ol>\n",
       "\t<li>0.962751734168718</li>\n",
       "</ol>\n"
      ],
      "text/latex": [
       "\\begin{enumerate}\n",
       "\\item 0.962751734168718\n",
       "\\end{enumerate}\n"
      ],
      "text/markdown": [
       "1. 0.962751734168718\n",
       "\n",
       "\n"
      ],
      "text/plain": [
       "[[1]]\n",
       "[1] 0.9627517\n"
      ]
     },
     "metadata": {},
     "output_type": "display_data"
    }
   ],
   "source": [
    "predROCR = prediction(predTestLog, test$spam)\n",
    "performance(predROCR, \"auc\")@y.values"
   ]
  },
  {
   "cell_type": "code",
   "execution_count": 77,
   "metadata": {},
   "outputs": [
    {
     "data": {
      "text/plain": [
       "       \n",
       "           0    1\n",
       "  FALSE 1228   24\n",
       "  TRUE    80  386"
      ]
     },
     "metadata": {},
     "output_type": "display_data"
    }
   ],
   "source": [
    "predTestCART = predict(spamCART, newdata=test)[ ,2]\n",
    "table(predTestCART > 0.5, test$spam)"
   ]
  },
  {
   "cell_type": "code",
   "execution_count": 78,
   "metadata": {},
   "outputs": [
    {
     "data": {
      "text/html": [
       "0.939464493597206"
      ],
      "text/latex": [
       "0.939464493597206"
      ],
      "text/markdown": [
       "0.939464493597206"
      ],
      "text/plain": [
       "[1] 0.9394645"
      ]
     },
     "metadata": {},
     "output_type": "display_data"
    }
   ],
   "source": [
    "CART_acc_test = (1228 + 386) / nrow(test)\n",
    "CART_acc_test"
   ]
  },
  {
   "cell_type": "code",
   "execution_count": 79,
   "metadata": {},
   "outputs": [
    {
     "data": {
      "text/html": [
       "<ol>\n",
       "\t<li>0.963175952860446</li>\n",
       "</ol>\n"
      ],
      "text/latex": [
       "\\begin{enumerate}\n",
       "\\item 0.963175952860446\n",
       "\\end{enumerate}\n"
      ],
      "text/markdown": [
       "1. 0.963175952860446\n",
       "\n",
       "\n"
      ],
      "text/plain": [
       "[[1]]\n",
       "[1] 0.963176\n"
      ]
     },
     "metadata": {},
     "output_type": "display_data"
    }
   ],
   "source": [
    "predROCR = prediction(predTestCART, test$spam)\n",
    "performance(predROCR, \"auc\")@y.values"
   ]
  },
  {
   "cell_type": "code",
   "execution_count": 83,
   "metadata": {},
   "outputs": [
    {
     "data": {
      "text/plain": [
       "       \n",
       "           0    1\n",
       "  FALSE 1291   23\n",
       "  TRUE    17  387"
      ]
     },
     "metadata": {},
     "output_type": "display_data"
    }
   ],
   "source": [
    "predTestRF = predict(spamRF, newdata=test, type='prob')[ ,2]\n",
    "table(predTestRF > 0.5,  test$spam)"
   ]
  },
  {
   "cell_type": "code",
   "execution_count": 84,
   "metadata": {},
   "outputs": [
    {
     "data": {
      "text/html": [
       "0.976717112922002"
      ],
      "text/latex": [
       "0.976717112922002"
      ],
      "text/markdown": [
       "0.976717112922002"
      ],
      "text/plain": [
       "[1] 0.9767171"
      ]
     },
     "metadata": {},
     "output_type": "display_data"
    }
   ],
   "source": [
    "RF_acc_test = (1291 + 387) / nrow(test)\n",
    "RF_acc_test"
   ]
  },
  {
   "cell_type": "code",
   "execution_count": 85,
   "metadata": {},
   "outputs": [
    {
     "data": {
      "text/html": [
       "<ol>\n",
       "\t<li>0.99758987842172</li>\n",
       "</ol>\n"
      ],
      "text/latex": [
       "\\begin{enumerate}\n",
       "\\item 0.99758987842172\n",
       "\\end{enumerate}\n"
      ],
      "text/markdown": [
       "1. 0.99758987842172\n",
       "\n",
       "\n"
      ],
      "text/plain": [
       "[[1]]\n",
       "[1] 0.9975899\n"
      ]
     },
     "metadata": {},
     "output_type": "display_data"
    }
   ],
   "source": [
    "predROCR = prediction(predTestRF, test$spam)\n",
    "performance(predROCR, \"auc\")@y.values"
   ]
  },
  {
   "cell_type": "markdown",
   "metadata": {},
   "source": [
    "Thus far, we have used a threshold of 0.5 as the cutoff for predicting that an email message is spam, and we have used accuracy as one of our measures of model quality. As we have previously learned, these are good choices when we have no preference for different types of errors (false positives vs. false negatives), but other choices might be better if we assign a higher cost to one type of error.\n",
    "\n",
    "Consider the case of an email provider using the spam filter we have developed. The email provider moves all of the emails flagged as spam to a separate \"Junk Email\" folder, meaning those emails are not displayed in the main inbox. The emails not flagged as spam by the algorithm are displayed in the inbox. Many of this provider's email users never check the spam folder, so they will never see emails delivered there."
   ]
  },
  {
   "cell_type": "code",
   "execution_count": null,
   "metadata": {},
   "outputs": [],
   "source": []
  }
 ],
 "metadata": {
  "kernelspec": {
   "display_name": "R",
   "language": "R",
   "name": "ir"
  },
  "language_info": {
   "codemirror_mode": "r",
   "file_extension": ".r",
   "mimetype": "text/x-r-source",
   "name": "R",
   "pygments_lexer": "r",
   "version": "3.6.3"
  }
 },
 "nbformat": 4,
 "nbformat_minor": 4
}
