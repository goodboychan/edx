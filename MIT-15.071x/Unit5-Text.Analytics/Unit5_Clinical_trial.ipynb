{
 "cells": [
  {
   "cell_type": "markdown",
   "metadata": {},
   "source": [
    "# Automating Reviews in Medicine"
   ]
  },
  {
   "cell_type": "markdown",
   "metadata": {},
   "source": [
    "The medical literature is enormous. Pubmed, a database of medical publications maintained by the U.S. National Library of Medicine, has indexed over 23 million medical publications. Further, the rate of medical publication has increased over time, and now there are nearly 1 million new publications in the field each year, or more than one per minute.\n",
    "\n",
    "The large size and fast-changing nature of the medical literature has increased the need for reviews, which search databases like Pubmed for papers on a particular topic and then report results from the papers found. While such reviews are often performed manually, with multiple people reviewing each search result, this is tedious and time consuming. In this problem, we will see how text analytics can be used to automate the process of information retrieval.\n",
    "\n",
    "The dataset consists of the titles (variable *title*) and abstracts (variable *abstract*) of papers retrieved in a [Pubmed](http://www.ncbi.nlm.nih.gov/pubmed) search. Each search result is labeled with whether the paper is a clinical trial testing a drug therapy for cancer (variable *trial*). These labels were obtained by two people reviewing each search result and accessing the actual paper if necessary, as part of a literature review of clinical trials testing drug therapies for advanced and metastatic breast cancer."
   ]
  },
  {
   "cell_type": "markdown",
   "metadata": {},
   "source": [
    "## Loading the Data"
   ]
  },
  {
   "cell_type": "code",
   "execution_count": 1,
   "metadata": {},
   "outputs": [
    {
     "data": {
      "text/html": [
       "'C'"
      ],
      "text/latex": [
       "'C'"
      ],
      "text/markdown": [
       "'C'"
      ],
      "text/plain": [
       "[1] \"C\""
      ]
     },
     "metadata": {},
     "output_type": "display_data"
    }
   ],
   "source": [
    "Sys.setlocale(locale=\"C\")"
   ]
  },
  {
   "cell_type": "code",
   "execution_count": 2,
   "metadata": {},
   "outputs": [],
   "source": [
    "trials = read.csv(\"./dataset/clinical_trial.csv\", stringsAsFactors=FALSE)"
   ]
  },
  {
   "cell_type": "code",
   "execution_count": 3,
   "metadata": {},
   "outputs": [
    {
     "data": {
      "text/plain": [
       "    title             abstract             trial       \n",
       " Length:1860        Length:1860        Min.   :0.0000  \n",
       " Class :character   Class :character   1st Qu.:0.0000  \n",
       " Mode  :character   Mode  :character   Median :0.0000  \n",
       "                                       Mean   :0.4392  \n",
       "                                       3rd Qu.:1.0000  \n",
       "                                       Max.   :1.0000  "
      ]
     },
     "metadata": {},
     "output_type": "display_data"
    }
   ],
   "source": [
    "summary(trials)"
   ]
  },
  {
   "cell_type": "code",
   "execution_count": 4,
   "metadata": {},
   "outputs": [
    {
     "name": "stdout",
     "output_type": "stream",
     "text": [
      "'data.frame':\t1860 obs. of  3 variables:\n",
      " $ title   : chr  \"Treatment of Hodgkin's disease and other cancers with 1,3-bis(2-chloroethyl)-1-nitrosourea (BCNU; NSC-409962).\" \"Cell mediated immune status in malignancy--pretherapy and post-therapy assessment.\" \"Neoadjuvant vinorelbine-capecitabine versus docetaxel-doxorubicin-cyclophosphamide in early nonresponsive breas\"| __truncated__ \"Randomized phase 3 trial of fluorouracil, epirubicin, and cyclophosphamide alone or followed by Paclitaxel for \"| __truncated__ ...\n",
      " $ abstract: chr  \"\" \"Twenty-eight cases of malignancies of different kinds were studied to assess T-cell activity and population bef\"| __truncated__ \"BACKGROUND: Among breast cancer patients, nonresponse to initial neoadjuvant chemotherapy is associated with un\"| __truncated__ \"BACKGROUND: Taxanes are among the most active drugs for the treatment of metastatic breast cancer, and, as a co\"| __truncated__ ...\n",
      " $ trial   : int  1 0 1 1 1 0 1 0 0 0 ...\n"
     ]
    }
   ],
   "source": [
    "str(trials)"
   ]
  },
  {
   "cell_type": "code",
   "execution_count": 5,
   "metadata": {},
   "outputs": [
    {
     "data": {
      "text/plain": [
       "   Min. 1st Qu.  Median    Mean 3rd Qu.    Max. \n",
       "      0    1196    1583    1481    1821    3708 "
      ]
     },
     "metadata": {},
     "output_type": "display_data"
    }
   ],
   "source": [
    "summary(nchar(trials$abstract))"
   ]
  },
  {
   "cell_type": "code",
   "execution_count": 6,
   "metadata": {},
   "outputs": [
    {
     "data": {
      "text/html": [
       "112"
      ],
      "text/latex": [
       "112"
      ],
      "text/markdown": [
       "112"
      ],
      "text/plain": [
       "[1] 112"
      ]
     },
     "metadata": {},
     "output_type": "display_data"
    }
   ],
   "source": [
    "sum(nchar(trials$abstract) == 0)"
   ]
  },
  {
   "cell_type": "code",
   "execution_count": 7,
   "metadata": {},
   "outputs": [
    {
     "data": {
      "text/html": [
       "1258"
      ],
      "text/latex": [
       "1258"
      ],
      "text/markdown": [
       "1258"
      ],
      "text/plain": [
       "[1] 1258"
      ]
     },
     "metadata": {},
     "output_type": "display_data"
    }
   ],
   "source": [
    "which.min(nchar(trials$title))"
   ]
  },
  {
   "cell_type": "code",
   "execution_count": 8,
   "metadata": {},
   "outputs": [
    {
     "data": {
      "text/html": [
       "'A decade of letrozole: FACE.'"
      ],
      "text/latex": [
       "'A decade of letrozole: FACE.'"
      ],
      "text/markdown": [
       "'A decade of letrozole: FACE.'"
      ],
      "text/plain": [
       "[1] \"A decade of letrozole: FACE.\""
      ]
     },
     "metadata": {},
     "output_type": "display_data"
    }
   ],
   "source": [
    "trials[1258,]$title"
   ]
  },
  {
   "cell_type": "markdown",
   "metadata": {},
   "source": [
    "## Preparing the Corpus"
   ]
  },
  {
   "cell_type": "markdown",
   "metadata": {},
   "source": [
    "Because we have both title and abstract information for trials, we need to build two corpora instead of one. Name them corpusTitle and corpusAbstract.\n",
    "\n",
    "Following the commands from lecture, perform the following tasks (you might need to load the \"tm\" package first if it isn't already loaded). Make sure to perform them in this order.\n",
    "\n",
    "1) Convert the title variable to corpusTitle and the abstract variable to corpusAbstract.\n",
    "\n",
    "2) Convert corpusTitle and corpusAbstract to lowercase.\n",
    "\n",
    "3) Remove the punctuation in corpusTitle and corpusAbstract.\n",
    "\n",
    "4) Remove the English language stop words from corpusTitle and corpusAbstract.\n",
    "\n",
    "5) Stem the words in corpusTitle and corpusAbstract (each stemming might take a few minutes).\n",
    "\n",
    "6) Build a document term matrix called dtmTitle from corpusTitle and dtmAbstract from corpusAbstract.\n",
    "\n",
    "7) Limit dtmTitle and dtmAbstract to terms with sparseness of at most 95% (aka terms that appear in at least 5% of documents).\n",
    "\n",
    "8) Convert dtmTitle and dtmAbstract to data frames (keep the names dtmTitle and dtmAbstract)."
   ]
  },
  {
   "cell_type": "code",
   "execution_count": 9,
   "metadata": {},
   "outputs": [
    {
     "name": "stderr",
     "output_type": "stream",
     "text": [
      "Loading required package: NLP\n",
      "\n"
     ]
    }
   ],
   "source": [
    "library(\"tm\")\n",
    "library(\"SnowballC\")"
   ]
  },
  {
   "cell_type": "code",
   "execution_count": 10,
   "metadata": {},
   "outputs": [],
   "source": [
    "# Create corpus\n",
    "corpusTitle = VCorpus(VectorSource(trials$title))\n",
    "corpusAbstract = VCorpus(VectorSource(trials$abstract))"
   ]
  },
  {
   "cell_type": "code",
   "execution_count": 11,
   "metadata": {},
   "outputs": [],
   "source": [
    "corpusTitle = tm_map(corpusTitle, content_transformer(tolower))\n",
    "corpusAbstract = tm_map(corpusAbstract, content_transformer(tolower))"
   ]
  },
  {
   "cell_type": "code",
   "execution_count": 12,
   "metadata": {},
   "outputs": [],
   "source": [
    "corpusTitle = tm_map(corpusTitle, removePunctuation)\n",
    "corpusAbstract = tm_map(corpusAbstract, removePunctuation)"
   ]
  },
  {
   "cell_type": "code",
   "execution_count": 13,
   "metadata": {},
   "outputs": [],
   "source": [
    "corpusTitle = tm_map(corpusTitle, removeWords, stopwords(\"english\"))\n",
    "corpusAbstract = tm_map(corpusAbstract, removeWords, stopwords(\"english\"))"
   ]
  },
  {
   "cell_type": "code",
   "execution_count": 14,
   "metadata": {},
   "outputs": [],
   "source": [
    "corpusTitle = tm_map(corpusTitle, stemDocument)\n",
    "corpusAbstract = tm_map(corpusAbstract, stemDocument)"
   ]
  },
  {
   "cell_type": "code",
   "execution_count": 15,
   "metadata": {},
   "outputs": [],
   "source": [
    "dtmTitle = DocumentTermMatrix(corpusTitle)\n",
    "dtmAbstract = DocumentTermMatrix(corpusAbstract)"
   ]
  },
  {
   "cell_type": "code",
   "execution_count": 16,
   "metadata": {},
   "outputs": [
    {
     "data": {
      "text/plain": [
       "<<DocumentTermMatrix (documents: 1860, terms: 2835)>>\n",
       "Non-/sparse entries: 23417/5249683\n",
       "Sparsity           : 100%\n",
       "Maximal term length: 49\n",
       "Weighting          : term frequency (tf)"
      ]
     },
     "metadata": {},
     "output_type": "display_data"
    }
   ],
   "source": [
    "dtmTitle"
   ]
  },
  {
   "cell_type": "code",
   "execution_count": 17,
   "metadata": {},
   "outputs": [
    {
     "data": {
      "text/plain": [
       "<<DocumentTermMatrix (documents: 1860, terms: 12367)>>\n",
       "Non-/sparse entries: 153263/22849357\n",
       "Sparsity           : 99%\n",
       "Maximal term length: 67\n",
       "Weighting          : term frequency (tf)"
      ]
     },
     "metadata": {},
     "output_type": "display_data"
    }
   ],
   "source": [
    "dtmAbstract"
   ]
  },
  {
   "cell_type": "code",
   "execution_count": 18,
   "metadata": {},
   "outputs": [],
   "source": [
    "dtmTitle = removeSparseTerms(dtmTitle, 0.95)\n",
    "dtmAbstract = removeSparseTerms(dtmAbstract, 0.95)"
   ]
  },
  {
   "cell_type": "code",
   "execution_count": 19,
   "metadata": {},
   "outputs": [
    {
     "data": {
      "text/plain": [
       "<<DocumentTermMatrix (documents: 1860, terms: 31)>>\n",
       "Non-/sparse entries: 10683/46977\n",
       "Sparsity           : 81%\n",
       "Maximal term length: 15\n",
       "Weighting          : term frequency (tf)"
      ]
     },
     "metadata": {},
     "output_type": "display_data"
    }
   ],
   "source": [
    "dtmTitle"
   ]
  },
  {
   "cell_type": "code",
   "execution_count": 20,
   "metadata": {},
   "outputs": [
    {
     "data": {
      "text/plain": [
       "<<DocumentTermMatrix (documents: 1860, terms: 335)>>\n",
       "Non-/sparse entries: 92005/531095\n",
       "Sparsity           : 85%\n",
       "Maximal term length: 15\n",
       "Weighting          : term frequency (tf)"
      ]
     },
     "metadata": {},
     "output_type": "display_data"
    }
   ],
   "source": [
    "dtmAbstract"
   ]
  },
  {
   "cell_type": "code",
   "execution_count": 21,
   "metadata": {},
   "outputs": [],
   "source": [
    "dtmTitle = as.data.frame(as.matrix(dtmTitle))\n",
    "dtmAbstract = as.data.frame(as.matrix(dtmAbstract))"
   ]
  },
  {
   "cell_type": "code",
   "execution_count": 22,
   "metadata": {},
   "outputs": [
    {
     "data": {
      "text/html": [
       "<style>\n",
       ".dl-inline {width: auto; margin:0; padding: 0}\n",
       ".dl-inline>dt, .dl-inline>dd {float: none; width: auto; display: inline-block}\n",
       ".dl-inline>dt::after {content: \":\\0020\"; padding-right: .5ex}\n",
       ".dl-inline>dt:not(:first-of-type) {padding-left: .5ex}\n",
       "</style><dl class=dl-inline><dt>patient</dt><dd>8381</dd><dt>breast</dt><dd>3859</dd><dt>cancer</dt><dd>3726</dd><dt>treatment</dt><dd>2894</dd><dt>group</dt><dd>2668</dd><dt>chemotherapi</dt><dd>2344</dd><dt>respons</dt><dd>2051</dd><dt>signific</dt><dd>2043</dd><dt>studi</dt><dd>1965</dd><dt>surviv</dt><dd>1927</dd><dt>receiv</dt><dd>1908</dd><dt>tamoxifen</dt><dd>1632</dd><dt>month</dt><dd>1597</dd><dt>therapi</dt><dd>1565</dd><dt>random</dt><dd>1520</dd><dt>result</dt><dd>1485</dd><dt>women</dt><dd>1484</dd><dt>trial</dt><dd>1417</dd><dt>compar</dt><dd>1359</dd><dt>year</dt><dd>1342</dd><dt>effect</dt><dd>1340</dd><dt>day</dt><dd>1254</dd><dt>rate</dt><dd>1253</dd><dt>median</dt><dd>1180</dd><dt>differ</dt><dd>1176</dd><dt>adjuv</dt><dd>1162</dd><dt>mgm2</dt><dd>1134</dd><dt>dose</dt><dd>1124</dd><dt>tumor</dt><dd>1122</dd><dt>week</dt><dd>1090</dd><dt>toxic</dt><dd>1065</dd><dt>use</dt><dd>1053</dd><dt>arm</dt><dd>1038</dd><dt>cycl</dt><dd>962</dd><dt>overal</dt><dd>962</dd><dt>diseas</dt><dd>950</dd><dt>clinic</dt><dd>944</dd><dt>combin</dt><dd>926</dd><dt>evalu</dt><dd>926</dd><dt>treat</dt><dd>893</dd><dt>method</dt><dd>892</dd><dt>two</dt><dd>889</dd><dt>time</dt><dd>881</dd><dt>conclus</dt><dd>842</dd><dt>regimen</dt><dd>807</dd><dt>respect</dt><dd>758</dd><dt>metastat</dt><dd>755</dd><dt>level</dt><dd>743</dd><dt>increas</dt><dd>729</dd><dt>primari</dt><dd>718</dd><dt>observ</dt><dd>700</dd><dt>follow</dt><dd>675</dd><dt>assess</dt><dd>668</dd><dt>risk</dt><dd>635</dd><dt>cyclophosphamid</dt><dd>632</dd><dt>complet</dt><dd>628</dd><dt>plus</dt><dd>622</dd><dt>progress</dt><dd>622</dd><dt>control</dt><dd>621</dd><dt>associ</dt><dd>604</dd><dt>efficaci</dt><dd>591</dd><dt>postmenopaus</dt><dd>590</dd><dt>cmf</dt><dd>589</dd><dt>analysi</dt><dd>587</dd><dt>grade</dt><dd>580</dd><dt>receptor</dt><dd>573</dd><dt>one</dt><dd>570</dd><dt>versus</dt><dd>570</dd><dt>three</dt><dd>564</dd><dt>improv</dt><dd>562</dd><dt>advanc</dt><dd>556</dd><dt>factor</dt><dd>552</dd><dt>benefit</dt><dd>551</dd><dt>status</dt><dd>538</dd><dt>either</dt><dd>532</dd><dt>includ</dt><dd>529</dd><dt>show</dt><dd>516</dd><dt>bone</dt><dd>514</dd><dt>docetaxel</dt><dd>514</dd><dt>posit</dt><dd>511</dd><dt>activ</dt><dd>509</dd><dt>followup</dt><dd>494</dd><dt>everi</dt><dd>487</dd><dt>doxorubicin</dt><dd>486</dd><dt>phase</dt><dd>481</dd><dt>node</dt><dd>477</dd><dt>placebo</dt><dd>475</dd><dt>alon</dt><dd>472</dd><dt>recurr</dt><dd>465</dd><dt>similar</dt><dd>438</dd><dt>assign</dt><dd>435</dd><dt>purpos</dt><dd>434</dd><dt>chang</dt><dd>431</dd><dt>age</dt><dd>429</dd><dt>hormon</dt><dd>428</dd><dt>oral</dt><dd>422</dd><dt>estrogen</dt><dd>421</dd><dt>first</dt><dd>421</dd><dt>addit</dt><dd>420</dd><dt>higher</dt><dd>415</dd><dt>may</dt><dd>413</dd><dt>daili</dt><dd>412</dd><dt>measur</dt><dd>411</dd><dt>event</dt><dd>409</dd><dt>surgeri</dt><dd>407</dd><dt>data</dt><dd>405</dd><dt>object</dt><dd>400</dd><dt>reduc</dt><dd>400</dd><dt>background</dt><dd>397</dd><dt>paclitaxel</dt><dd>397</dd><dt>total</dt><dd>397</dd><dt>statist</dt><dd>384</dd><dt>high</dt><dd>378</dd><dt>given</dt><dd>374</dd><dt>toler</dt><dd>373</dd><dt>four</dt><dd>369</dd><dt>predict</dt><dd>369</dd><dt>among</dt><dd>365</dd><dt>also</dt><dd>364</dd><dt>diseasefre</dt><dd>364</dd><dt>cell</dt><dd>359</dd><dt>report</dt><dd>357</dd><dt>express</dt><dd>356</dd><dt>previous</dt><dd>355</dd><dt>determin</dt><dd>352</dd><dt>metastas</dt><dd>352</dd><dt>less</dt><dd>351</dd><dt>relat</dt><dd>351</dd><dt>decreas</dt><dd>350</dd><dt>interv</dt><dd>349</dd><dt>durat</dt><dd>344</dd><dt>ratio</dt><dd>344</dd><dt>perform</dt><dd>342</dd><dt>baselin</dt><dd>340</dd><dt>epirubicin</dt><dd>339</dd><dt>howev</dt><dd>339</dd><dt>outcom</dt><dd>335</dd><dt>drug</dt><dd>332</dd><dt>well</dt><dd>328</dd><dt>earli</dt><dd>325</dd><dt>administ</dt><dd>322</dd><dt>tumour</dt><dd>320</dd><dt>serum</dt><dd>315</dd><dt>her2</dt><dd>314</dd><dt>occur</dt><dd>312</dd><dt>dfs</dt><dd>310</dd><dt>mean</dt><dd>310</dd><dt>without</dt><dd>306</dd><dt>prior</dt><dd>305</dd><dt>standard</dt><dd>305</dd><dt>premenopaus</dt><dd>303</dd><dt>hazard</dt><dd>301</dd><dt>reduct</dt><dd>301</dd><dt>incid</dt><dd>300</dd><dt>local</dt><dd>300</dd><dt>number</dt><dd>296</dd><dt>investig</dt><dd>295</dd><dt>partial</dt><dd>295</dd><dt>neoadjuv</dt><dd>293</dd><dt>axillari</dt><dd>292</dd><dt>sever</dt><dd>288</dd><dt>stage</dt><dd>286</dd><dt>cours</dt><dd>283</dd><dt>test</dt><dd>282</dd><dt>continu</dt><dd>281</dd><dt>greater</dt><dd>279</dd><dt>mbc</dt><dd>276</dd><dt>initi</dt><dd>275</dd><dt>suggest</dt><dd>274</dd><dt>indic</dt><dd>269</dd><dt>endocrin</dt><dd>266</dd><dt>iii</dt><dd>266</dd><dt>methotrex</dt><dd>265</dd><dt>safeti</dt><dd>265</dd><dt>randomis</dt><dd>264</dd><dt>failur</dt><dd>262</dd><dt>six</dt><dd>261</dd><dt>develop</dt><dd>259</dd><dt>negat</dt><dd>258</dd><dt>advers</dt><dd>256</dd><dt>valu</dt><dd>256</dd><dt>patholog</dt><dd>254</dd><dt>relaps</dt><dd>254</dd><dt>score</dt><dd>254</dd><dt>carcinoma</dt><dd>251</dd><dt>demonstr</dt><dd>251</dd><dt>0001</dt><dd>249</dd><dt>lymph</dt><dd>249</dd><dt>rang</dt><dd>248</dd><dt>achiev</dt><dd>245</dd><dt>radiotherapi</dt><dd>244</dd><dt>prognost</dt><dd>242</dd><dt>confid</dt><dd>241</dd><dt>agent</dt><dd>240</dd><dt>nausea</dt><dd>239</dd><dt>prospect</dt><dd>239</dd><dt>found</dt><dd>238</dd><dt>infus</dt><dd>237</dd><dt>lower</dt><dd>236</dd><dt>whether</dt><dd>235</dd><dt>neutropenia</dt><dd>234</dd><dt>case</dt><dd>233</dd><dt>100</dt><dd>225</dd><dt>end</dt><dd>221</dd><dt>enrol</dt><dd>221</dd><dt>design</dt><dd>219</dd><dt>administr</dt><dd>218</dd><dt>per</dt><dd>218</dd><dt>present</dt><dd>218</dd><dt>death</dt><dd>215</dd><dt>fluorouracil</dt><dd>215</dd><dt>schedul</dt><dd>215</dd><dt>endpoint</dt><dd>213</dd><dt>5fluorouracil</dt><dd>208</dd><dt>growth</dt><dd>208</dd><dt>anthracyclin</dt><dd>207</dd><dt>correl</dt><dd>203</dd><dt>point</dt><dd>202</dd><dt>consist</dt><dd>200</dd><dt>respond</dt><dd>200</dd><dt>nodeposit</dt><dd>199</dd><dt>seen</dt><dd>199</dd><dt>tissu</dt><dd>197</dd><dt>elig</dt><dd>196</dd><dt>low</dt><dd>196</dd><dt>hundr</dt><dd>195</dd><dt>longer</dt><dd>193</dd><dt>oper</dt><dd>193</dd><dt>system</dt><dd>193</dd><dt>intraven</dt><dd>192</dd><dt>subgroup</dt><dd>192</dd><dt>although</dt><dd>191</dd><dt>can</dt><dd>191</dd><dt>common</dt><dd>191</dd><dt>set</dt><dd>191</dd><dt>examin</dt><dd>190</dd><dt>marker</dt><dd>189</dd><dt>qualiti</dt><dd>189</dd><dt>function</dt><dd>188</dd><dt>better</dt><dd>186</dd><dt>aim</dt><dd>185</dd><dt>site</dt><dd>183</dd><dt>support</dt><dd>183</dd><dt>accord</dt><dd>182</dd><dt>firstlin</dt><dd>182</dd><dt>inhibitor</dt><dd>182</dd><dt>involv</dt><dd>180</dd><dt>model</dt><dd>180</dd><dt>confirm</dt><dd>178</dd><dt>life</dt><dd>178</dd><dt>analys</dt><dd>177</dd><dt>conduct</dt><dd>177</dd><dt>find</dt><dd>177</dd><dt>least</dt><dd>177</dd><dt>postop</dt><dd>177</dd><dt>size</dt><dd>177</dd><dt>pretreat</dt><dd>175</dd><dt>vomit</dt><dd>174</dd><dt>five</dt><dd>173</dd><dt>wherea</dt><dd>173</dd><dt>sampl</dt><dd>172</dd><dt>within</dt><dd>172</dd><dt>aromatas</dt><dd>171</dd><dt>new</dt><dd>171</dd><dt>period</dt><dd>170</dd><dt>500</dt><dd>169</dd><dt>requir</dt><dd>168</dd><dt>sequenti</dt><dd>168</dd><dt>side</dt><dd>168</dd><dt>experienc</dt><dd>167</dd><dt>mastectomi</dt><dd>165</dd><dt>appear</dt><dd>164</dd><dt>001</dt><dd>163</dd><dt>popul</dt><dd>162</dd><dt>superior</dt><dd>161</dd><dt>profil</dt><dd>158</dd><dt>progressionfre</dt><dd>158</dd><dt>remain</dt><dd>158</dd><dt>secondari</dt><dd>158</dd><dt>potenti</dt><dd>156</dd><dt>provid</dt><dd>155</dd><dt>due</dt><dd>154</dd><dt>multivari</dt><dd>154</dd><dt>stabl</dt><dd>154</dd><dt>frequent</dt><dd>153</dd><dt>term</dt><dd>153</dd><dt>receptorposit</dt><dd>152</dd><dt>evid</dt><dd>150</dd><dt>distant</dt><dd>149</dd><dt>doubleblind</dt><dd>149</dd><dt>independ</dt><dd>149</dd><dt>singl</dt><dd>149</dd><dt>detect</dt><dd>148</dd><dt>identifi</dt><dd>148</dd><dt>obtain</dt><dd>147</dd><dt>human</dt><dd>144</dd><dt>particip</dt><dd>144</dd><dt>prevent</dt><dd>143</dd><dt>estim</dt><dd>139</dd><dt>import</dt><dd>138</dd><dt>second</dt><dd>138</dd><dt>consid</dt><dd>131</dd><dt>main</dt><dd>131</dd><dt>start</dt><dd>131</dd><dt>possibl</dt><dd>130</dd><dt>andor</dt><dd>128</dd><dt>need</dt><dd>128</dd><dt>histolog</dt><dd>127</dd><dt>limit</dt><dd>127</dd><dt>general</dt><dd>126</dd><dt>multicent</dt><dd>126</dd><dt>type</dt><dd>126</dd><dt>prolong</dt><dd>125</dd><dt>proport</dt><dd>125</dd><dt>005</dt><dd>124</dd><dt>analyz</dt><dd>124</dd><dt>base</dt><dd>124</dd><dt>eight</dt><dd>124</dd><dt>inform</dt><dd>124</dd><dt>select</dt><dd>124</dd><dt>defin</dt><dd>123</dd><dt>major</dt><dd>122</dd><dt>regress</dt><dd>120</dd><dt>characterist</dt><dd>119</dd><dt>enter</dt><dd>117</dd><dt>hematolog</dt><dd>117</dd><dt>shown</dt><dd>117</dd><dt>comparison</dt><dd>116</dd><dt>caus</dt><dd>115</dd><dt>trend</dt><dd>115</dd><dt>progesteron</dt><dd>114</dd><dt>avail</dt><dd>108</dd><dt>larg</dt><dd>108</dd><dt>seven</dt><dd>108</dd><dt>regard</dt><dd>105</dd></dl>\n"
      ],
      "text/latex": [
       "\\begin{description*}\n",
       "\\item[patient] 8381\n",
       "\\item[breast] 3859\n",
       "\\item[cancer] 3726\n",
       "\\item[treatment] 2894\n",
       "\\item[group] 2668\n",
       "\\item[chemotherapi] 2344\n",
       "\\item[respons] 2051\n",
       "\\item[signific] 2043\n",
       "\\item[studi] 1965\n",
       "\\item[surviv] 1927\n",
       "\\item[receiv] 1908\n",
       "\\item[tamoxifen] 1632\n",
       "\\item[month] 1597\n",
       "\\item[therapi] 1565\n",
       "\\item[random] 1520\n",
       "\\item[result] 1485\n",
       "\\item[women] 1484\n",
       "\\item[trial] 1417\n",
       "\\item[compar] 1359\n",
       "\\item[year] 1342\n",
       "\\item[effect] 1340\n",
       "\\item[day] 1254\n",
       "\\item[rate] 1253\n",
       "\\item[median] 1180\n",
       "\\item[differ] 1176\n",
       "\\item[adjuv] 1162\n",
       "\\item[mgm2] 1134\n",
       "\\item[dose] 1124\n",
       "\\item[tumor] 1122\n",
       "\\item[week] 1090\n",
       "\\item[toxic] 1065\n",
       "\\item[use] 1053\n",
       "\\item[arm] 1038\n",
       "\\item[cycl] 962\n",
       "\\item[overal] 962\n",
       "\\item[diseas] 950\n",
       "\\item[clinic] 944\n",
       "\\item[combin] 926\n",
       "\\item[evalu] 926\n",
       "\\item[treat] 893\n",
       "\\item[method] 892\n",
       "\\item[two] 889\n",
       "\\item[time] 881\n",
       "\\item[conclus] 842\n",
       "\\item[regimen] 807\n",
       "\\item[respect] 758\n",
       "\\item[metastat] 755\n",
       "\\item[level] 743\n",
       "\\item[increas] 729\n",
       "\\item[primari] 718\n",
       "\\item[observ] 700\n",
       "\\item[follow] 675\n",
       "\\item[assess] 668\n",
       "\\item[risk] 635\n",
       "\\item[cyclophosphamid] 632\n",
       "\\item[complet] 628\n",
       "\\item[plus] 622\n",
       "\\item[progress] 622\n",
       "\\item[control] 621\n",
       "\\item[associ] 604\n",
       "\\item[efficaci] 591\n",
       "\\item[postmenopaus] 590\n",
       "\\item[cmf] 589\n",
       "\\item[analysi] 587\n",
       "\\item[grade] 580\n",
       "\\item[receptor] 573\n",
       "\\item[one] 570\n",
       "\\item[versus] 570\n",
       "\\item[three] 564\n",
       "\\item[improv] 562\n",
       "\\item[advanc] 556\n",
       "\\item[factor] 552\n",
       "\\item[benefit] 551\n",
       "\\item[status] 538\n",
       "\\item[either] 532\n",
       "\\item[includ] 529\n",
       "\\item[show] 516\n",
       "\\item[bone] 514\n",
       "\\item[docetaxel] 514\n",
       "\\item[posit] 511\n",
       "\\item[activ] 509\n",
       "\\item[followup] 494\n",
       "\\item[everi] 487\n",
       "\\item[doxorubicin] 486\n",
       "\\item[phase] 481\n",
       "\\item[node] 477\n",
       "\\item[placebo] 475\n",
       "\\item[alon] 472\n",
       "\\item[recurr] 465\n",
       "\\item[similar] 438\n",
       "\\item[assign] 435\n",
       "\\item[purpos] 434\n",
       "\\item[chang] 431\n",
       "\\item[age] 429\n",
       "\\item[hormon] 428\n",
       "\\item[oral] 422\n",
       "\\item[estrogen] 421\n",
       "\\item[first] 421\n",
       "\\item[addit] 420\n",
       "\\item[higher] 415\n",
       "\\item[may] 413\n",
       "\\item[daili] 412\n",
       "\\item[measur] 411\n",
       "\\item[event] 409\n",
       "\\item[surgeri] 407\n",
       "\\item[data] 405\n",
       "\\item[object] 400\n",
       "\\item[reduc] 400\n",
       "\\item[background] 397\n",
       "\\item[paclitaxel] 397\n",
       "\\item[total] 397\n",
       "\\item[statist] 384\n",
       "\\item[high] 378\n",
       "\\item[given] 374\n",
       "\\item[toler] 373\n",
       "\\item[four] 369\n",
       "\\item[predict] 369\n",
       "\\item[among] 365\n",
       "\\item[also] 364\n",
       "\\item[diseasefre] 364\n",
       "\\item[cell] 359\n",
       "\\item[report] 357\n",
       "\\item[express] 356\n",
       "\\item[previous] 355\n",
       "\\item[determin] 352\n",
       "\\item[metastas] 352\n",
       "\\item[less] 351\n",
       "\\item[relat] 351\n",
       "\\item[decreas] 350\n",
       "\\item[interv] 349\n",
       "\\item[durat] 344\n",
       "\\item[ratio] 344\n",
       "\\item[perform] 342\n",
       "\\item[baselin] 340\n",
       "\\item[epirubicin] 339\n",
       "\\item[howev] 339\n",
       "\\item[outcom] 335\n",
       "\\item[drug] 332\n",
       "\\item[well] 328\n",
       "\\item[earli] 325\n",
       "\\item[administ] 322\n",
       "\\item[tumour] 320\n",
       "\\item[serum] 315\n",
       "\\item[her2] 314\n",
       "\\item[occur] 312\n",
       "\\item[dfs] 310\n",
       "\\item[mean] 310\n",
       "\\item[without] 306\n",
       "\\item[prior] 305\n",
       "\\item[standard] 305\n",
       "\\item[premenopaus] 303\n",
       "\\item[hazard] 301\n",
       "\\item[reduct] 301\n",
       "\\item[incid] 300\n",
       "\\item[local] 300\n",
       "\\item[number] 296\n",
       "\\item[investig] 295\n",
       "\\item[partial] 295\n",
       "\\item[neoadjuv] 293\n",
       "\\item[axillari] 292\n",
       "\\item[sever] 288\n",
       "\\item[stage] 286\n",
       "\\item[cours] 283\n",
       "\\item[test] 282\n",
       "\\item[continu] 281\n",
       "\\item[greater] 279\n",
       "\\item[mbc] 276\n",
       "\\item[initi] 275\n",
       "\\item[suggest] 274\n",
       "\\item[indic] 269\n",
       "\\item[endocrin] 266\n",
       "\\item[iii] 266\n",
       "\\item[methotrex] 265\n",
       "\\item[safeti] 265\n",
       "\\item[randomis] 264\n",
       "\\item[failur] 262\n",
       "\\item[six] 261\n",
       "\\item[develop] 259\n",
       "\\item[negat] 258\n",
       "\\item[advers] 256\n",
       "\\item[valu] 256\n",
       "\\item[patholog] 254\n",
       "\\item[relaps] 254\n",
       "\\item[score] 254\n",
       "\\item[carcinoma] 251\n",
       "\\item[demonstr] 251\n",
       "\\item[0001] 249\n",
       "\\item[lymph] 249\n",
       "\\item[rang] 248\n",
       "\\item[achiev] 245\n",
       "\\item[radiotherapi] 244\n",
       "\\item[prognost] 242\n",
       "\\item[confid] 241\n",
       "\\item[agent] 240\n",
       "\\item[nausea] 239\n",
       "\\item[prospect] 239\n",
       "\\item[found] 238\n",
       "\\item[infus] 237\n",
       "\\item[lower] 236\n",
       "\\item[whether] 235\n",
       "\\item[neutropenia] 234\n",
       "\\item[case] 233\n",
       "\\item[100] 225\n",
       "\\item[end] 221\n",
       "\\item[enrol] 221\n",
       "\\item[design] 219\n",
       "\\item[administr] 218\n",
       "\\item[per] 218\n",
       "\\item[present] 218\n",
       "\\item[death] 215\n",
       "\\item[fluorouracil] 215\n",
       "\\item[schedul] 215\n",
       "\\item[endpoint] 213\n",
       "\\item[5fluorouracil] 208\n",
       "\\item[growth] 208\n",
       "\\item[anthracyclin] 207\n",
       "\\item[correl] 203\n",
       "\\item[point] 202\n",
       "\\item[consist] 200\n",
       "\\item[respond] 200\n",
       "\\item[nodeposit] 199\n",
       "\\item[seen] 199\n",
       "\\item[tissu] 197\n",
       "\\item[elig] 196\n",
       "\\item[low] 196\n",
       "\\item[hundr] 195\n",
       "\\item[longer] 193\n",
       "\\item[oper] 193\n",
       "\\item[system] 193\n",
       "\\item[intraven] 192\n",
       "\\item[subgroup] 192\n",
       "\\item[although] 191\n",
       "\\item[can] 191\n",
       "\\item[common] 191\n",
       "\\item[set] 191\n",
       "\\item[examin] 190\n",
       "\\item[marker] 189\n",
       "\\item[qualiti] 189\n",
       "\\item[function] 188\n",
       "\\item[better] 186\n",
       "\\item[aim] 185\n",
       "\\item[site] 183\n",
       "\\item[support] 183\n",
       "\\item[accord] 182\n",
       "\\item[firstlin] 182\n",
       "\\item[inhibitor] 182\n",
       "\\item[involv] 180\n",
       "\\item[model] 180\n",
       "\\item[confirm] 178\n",
       "\\item[life] 178\n",
       "\\item[analys] 177\n",
       "\\item[conduct] 177\n",
       "\\item[find] 177\n",
       "\\item[least] 177\n",
       "\\item[postop] 177\n",
       "\\item[size] 177\n",
       "\\item[pretreat] 175\n",
       "\\item[vomit] 174\n",
       "\\item[five] 173\n",
       "\\item[wherea] 173\n",
       "\\item[sampl] 172\n",
       "\\item[within] 172\n",
       "\\item[aromatas] 171\n",
       "\\item[new] 171\n",
       "\\item[period] 170\n",
       "\\item[500] 169\n",
       "\\item[requir] 168\n",
       "\\item[sequenti] 168\n",
       "\\item[side] 168\n",
       "\\item[experienc] 167\n",
       "\\item[mastectomi] 165\n",
       "\\item[appear] 164\n",
       "\\item[001] 163\n",
       "\\item[popul] 162\n",
       "\\item[superior] 161\n",
       "\\item[profil] 158\n",
       "\\item[progressionfre] 158\n",
       "\\item[remain] 158\n",
       "\\item[secondari] 158\n",
       "\\item[potenti] 156\n",
       "\\item[provid] 155\n",
       "\\item[due] 154\n",
       "\\item[multivari] 154\n",
       "\\item[stabl] 154\n",
       "\\item[frequent] 153\n",
       "\\item[term] 153\n",
       "\\item[receptorposit] 152\n",
       "\\item[evid] 150\n",
       "\\item[distant] 149\n",
       "\\item[doubleblind] 149\n",
       "\\item[independ] 149\n",
       "\\item[singl] 149\n",
       "\\item[detect] 148\n",
       "\\item[identifi] 148\n",
       "\\item[obtain] 147\n",
       "\\item[human] 144\n",
       "\\item[particip] 144\n",
       "\\item[prevent] 143\n",
       "\\item[estim] 139\n",
       "\\item[import] 138\n",
       "\\item[second] 138\n",
       "\\item[consid] 131\n",
       "\\item[main] 131\n",
       "\\item[start] 131\n",
       "\\item[possibl] 130\n",
       "\\item[andor] 128\n",
       "\\item[need] 128\n",
       "\\item[histolog] 127\n",
       "\\item[limit] 127\n",
       "\\item[general] 126\n",
       "\\item[multicent] 126\n",
       "\\item[type] 126\n",
       "\\item[prolong] 125\n",
       "\\item[proport] 125\n",
       "\\item[005] 124\n",
       "\\item[analyz] 124\n",
       "\\item[base] 124\n",
       "\\item[eight] 124\n",
       "\\item[inform] 124\n",
       "\\item[select] 124\n",
       "\\item[defin] 123\n",
       "\\item[major] 122\n",
       "\\item[regress] 120\n",
       "\\item[characterist] 119\n",
       "\\item[enter] 117\n",
       "\\item[hematolog] 117\n",
       "\\item[shown] 117\n",
       "\\item[comparison] 116\n",
       "\\item[caus] 115\n",
       "\\item[trend] 115\n",
       "\\item[progesteron] 114\n",
       "\\item[avail] 108\n",
       "\\item[larg] 108\n",
       "\\item[seven] 108\n",
       "\\item[regard] 105\n",
       "\\end{description*}\n"
      ],
      "text/markdown": [
       "patient\n",
       ":   8381breast\n",
       ":   3859cancer\n",
       ":   3726treatment\n",
       ":   2894group\n",
       ":   2668chemotherapi\n",
       ":   2344respons\n",
       ":   2051signific\n",
       ":   2043studi\n",
       ":   1965surviv\n",
       ":   1927receiv\n",
       ":   1908tamoxifen\n",
       ":   1632month\n",
       ":   1597therapi\n",
       ":   1565random\n",
       ":   1520result\n",
       ":   1485women\n",
       ":   1484trial\n",
       ":   1417compar\n",
       ":   1359year\n",
       ":   1342effect\n",
       ":   1340day\n",
       ":   1254rate\n",
       ":   1253median\n",
       ":   1180differ\n",
       ":   1176adjuv\n",
       ":   1162mgm2\n",
       ":   1134dose\n",
       ":   1124tumor\n",
       ":   1122week\n",
       ":   1090toxic\n",
       ":   1065use\n",
       ":   1053arm\n",
       ":   1038cycl\n",
       ":   962overal\n",
       ":   962diseas\n",
       ":   950clinic\n",
       ":   944combin\n",
       ":   926evalu\n",
       ":   926treat\n",
       ":   893method\n",
       ":   892two\n",
       ":   889time\n",
       ":   881conclus\n",
       ":   842regimen\n",
       ":   807respect\n",
       ":   758metastat\n",
       ":   755level\n",
       ":   743increas\n",
       ":   729primari\n",
       ":   718observ\n",
       ":   700follow\n",
       ":   675assess\n",
       ":   668risk\n",
       ":   635cyclophosphamid\n",
       ":   632complet\n",
       ":   628plus\n",
       ":   622progress\n",
       ":   622control\n",
       ":   621associ\n",
       ":   604efficaci\n",
       ":   591postmenopaus\n",
       ":   590cmf\n",
       ":   589analysi\n",
       ":   587grade\n",
       ":   580receptor\n",
       ":   573one\n",
       ":   570versus\n",
       ":   570three\n",
       ":   564improv\n",
       ":   562advanc\n",
       ":   556factor\n",
       ":   552benefit\n",
       ":   551status\n",
       ":   538either\n",
       ":   532includ\n",
       ":   529show\n",
       ":   516bone\n",
       ":   514docetaxel\n",
       ":   514posit\n",
       ":   511activ\n",
       ":   509followup\n",
       ":   494everi\n",
       ":   487doxorubicin\n",
       ":   486phase\n",
       ":   481node\n",
       ":   477placebo\n",
       ":   475alon\n",
       ":   472recurr\n",
       ":   465similar\n",
       ":   438assign\n",
       ":   435purpos\n",
       ":   434chang\n",
       ":   431age\n",
       ":   429hormon\n",
       ":   428oral\n",
       ":   422estrogen\n",
       ":   421first\n",
       ":   421addit\n",
       ":   420higher\n",
       ":   415may\n",
       ":   413daili\n",
       ":   412measur\n",
       ":   411event\n",
       ":   409surgeri\n",
       ":   407data\n",
       ":   405object\n",
       ":   400reduc\n",
       ":   400background\n",
       ":   397paclitaxel\n",
       ":   397total\n",
       ":   397statist\n",
       ":   384high\n",
       ":   378given\n",
       ":   374toler\n",
       ":   373four\n",
       ":   369predict\n",
       ":   369among\n",
       ":   365also\n",
       ":   364diseasefre\n",
       ":   364cell\n",
       ":   359report\n",
       ":   357express\n",
       ":   356previous\n",
       ":   355determin\n",
       ":   352metastas\n",
       ":   352less\n",
       ":   351relat\n",
       ":   351decreas\n",
       ":   350interv\n",
       ":   349durat\n",
       ":   344ratio\n",
       ":   344perform\n",
       ":   342baselin\n",
       ":   340epirubicin\n",
       ":   339howev\n",
       ":   339outcom\n",
       ":   335drug\n",
       ":   332well\n",
       ":   328earli\n",
       ":   325administ\n",
       ":   322tumour\n",
       ":   320serum\n",
       ":   315her2\n",
       ":   314occur\n",
       ":   312dfs\n",
       ":   310mean\n",
       ":   310without\n",
       ":   306prior\n",
       ":   305standard\n",
       ":   305premenopaus\n",
       ":   303hazard\n",
       ":   301reduct\n",
       ":   301incid\n",
       ":   300local\n",
       ":   300number\n",
       ":   296investig\n",
       ":   295partial\n",
       ":   295neoadjuv\n",
       ":   293axillari\n",
       ":   292sever\n",
       ":   288stage\n",
       ":   286cours\n",
       ":   283test\n",
       ":   282continu\n",
       ":   281greater\n",
       ":   279mbc\n",
       ":   276initi\n",
       ":   275suggest\n",
       ":   274indic\n",
       ":   269endocrin\n",
       ":   266iii\n",
       ":   266methotrex\n",
       ":   265safeti\n",
       ":   265randomis\n",
       ":   264failur\n",
       ":   262six\n",
       ":   261develop\n",
       ":   259negat\n",
       ":   258advers\n",
       ":   256valu\n",
       ":   256patholog\n",
       ":   254relaps\n",
       ":   254score\n",
       ":   254carcinoma\n",
       ":   251demonstr\n",
       ":   2510001\n",
       ":   249lymph\n",
       ":   249rang\n",
       ":   248achiev\n",
       ":   245radiotherapi\n",
       ":   244prognost\n",
       ":   242confid\n",
       ":   241agent\n",
       ":   240nausea\n",
       ":   239prospect\n",
       ":   239found\n",
       ":   238infus\n",
       ":   237lower\n",
       ":   236whether\n",
       ":   235neutropenia\n",
       ":   234case\n",
       ":   233100\n",
       ":   225end\n",
       ":   221enrol\n",
       ":   221design\n",
       ":   219administr\n",
       ":   218per\n",
       ":   218present\n",
       ":   218death\n",
       ":   215fluorouracil\n",
       ":   215schedul\n",
       ":   215endpoint\n",
       ":   2135fluorouracil\n",
       ":   208growth\n",
       ":   208anthracyclin\n",
       ":   207correl\n",
       ":   203point\n",
       ":   202consist\n",
       ":   200respond\n",
       ":   200nodeposit\n",
       ":   199seen\n",
       ":   199tissu\n",
       ":   197elig\n",
       ":   196low\n",
       ":   196hundr\n",
       ":   195longer\n",
       ":   193oper\n",
       ":   193system\n",
       ":   193intraven\n",
       ":   192subgroup\n",
       ":   192although\n",
       ":   191can\n",
       ":   191common\n",
       ":   191set\n",
       ":   191examin\n",
       ":   190marker\n",
       ":   189qualiti\n",
       ":   189function\n",
       ":   188better\n",
       ":   186aim\n",
       ":   185site\n",
       ":   183support\n",
       ":   183accord\n",
       ":   182firstlin\n",
       ":   182inhibitor\n",
       ":   182involv\n",
       ":   180model\n",
       ":   180confirm\n",
       ":   178life\n",
       ":   178analys\n",
       ":   177conduct\n",
       ":   177find\n",
       ":   177least\n",
       ":   177postop\n",
       ":   177size\n",
       ":   177pretreat\n",
       ":   175vomit\n",
       ":   174five\n",
       ":   173wherea\n",
       ":   173sampl\n",
       ":   172within\n",
       ":   172aromatas\n",
       ":   171new\n",
       ":   171period\n",
       ":   170500\n",
       ":   169requir\n",
       ":   168sequenti\n",
       ":   168side\n",
       ":   168experienc\n",
       ":   167mastectomi\n",
       ":   165appear\n",
       ":   164001\n",
       ":   163popul\n",
       ":   162superior\n",
       ":   161profil\n",
       ":   158progressionfre\n",
       ":   158remain\n",
       ":   158secondari\n",
       ":   158potenti\n",
       ":   156provid\n",
       ":   155due\n",
       ":   154multivari\n",
       ":   154stabl\n",
       ":   154frequent\n",
       ":   153term\n",
       ":   153receptorposit\n",
       ":   152evid\n",
       ":   150distant\n",
       ":   149doubleblind\n",
       ":   149independ\n",
       ":   149singl\n",
       ":   149detect\n",
       ":   148identifi\n",
       ":   148obtain\n",
       ":   147human\n",
       ":   144particip\n",
       ":   144prevent\n",
       ":   143estim\n",
       ":   139import\n",
       ":   138second\n",
       ":   138consid\n",
       ":   131main\n",
       ":   131start\n",
       ":   131possibl\n",
       ":   130andor\n",
       ":   128need\n",
       ":   128histolog\n",
       ":   127limit\n",
       ":   127general\n",
       ":   126multicent\n",
       ":   126type\n",
       ":   126prolong\n",
       ":   125proport\n",
       ":   125005\n",
       ":   124analyz\n",
       ":   124base\n",
       ":   124eight\n",
       ":   124inform\n",
       ":   124select\n",
       ":   124defin\n",
       ":   123major\n",
       ":   122regress\n",
       ":   120characterist\n",
       ":   119enter\n",
       ":   117hematolog\n",
       ":   117shown\n",
       ":   117comparison\n",
       ":   116caus\n",
       ":   115trend\n",
       ":   115progesteron\n",
       ":   114avail\n",
       ":   108larg\n",
       ":   108seven\n",
       ":   108regard\n",
       ":   105\n",
       "\n"
      ],
      "text/plain": [
       "        patient          breast          cancer       treatment           group \n",
       "           8381            3859            3726            2894            2668 \n",
       "   chemotherapi         respons        signific           studi          surviv \n",
       "           2344            2051            2043            1965            1927 \n",
       "         receiv       tamoxifen           month         therapi          random \n",
       "           1908            1632            1597            1565            1520 \n",
       "         result           women           trial          compar            year \n",
       "           1485            1484            1417            1359            1342 \n",
       "         effect             day            rate          median          differ \n",
       "           1340            1254            1253            1180            1176 \n",
       "          adjuv            mgm2            dose           tumor            week \n",
       "           1162            1134            1124            1122            1090 \n",
       "          toxic             use             arm            cycl          overal \n",
       "           1065            1053            1038             962             962 \n",
       "         diseas          clinic          combin           evalu           treat \n",
       "            950             944             926             926             893 \n",
       "         method             two            time         conclus         regimen \n",
       "            892             889             881             842             807 \n",
       "        respect        metastat           level         increas         primari \n",
       "            758             755             743             729             718 \n",
       "         observ          follow          assess            risk cyclophosphamid \n",
       "            700             675             668             635             632 \n",
       "        complet            plus        progress         control          associ \n",
       "            628             622             622             621             604 \n",
       "       efficaci    postmenopaus             cmf         analysi           grade \n",
       "            591             590             589             587             580 \n",
       "       receptor             one          versus           three          improv \n",
       "            573             570             570             564             562 \n",
       "         advanc          factor         benefit          status          either \n",
       "            556             552             551             538             532 \n",
       "         includ            show            bone       docetaxel           posit \n",
       "            529             516             514             514             511 \n",
       "          activ        followup           everi     doxorubicin           phase \n",
       "            509             494             487             486             481 \n",
       "           node         placebo            alon          recurr         similar \n",
       "            477             475             472             465             438 \n",
       "         assign          purpos           chang             age          hormon \n",
       "            435             434             431             429             428 \n",
       "           oral        estrogen           first           addit          higher \n",
       "            422             421             421             420             415 \n",
       "            may           daili          measur           event         surgeri \n",
       "            413             412             411             409             407 \n",
       "           data          object           reduc      background      paclitaxel \n",
       "            405             400             400             397             397 \n",
       "          total         statist            high           given           toler \n",
       "            397             384             378             374             373 \n",
       "           four         predict           among            also      diseasefre \n",
       "            369             369             365             364             364 \n",
       "           cell          report         express        previous        determin \n",
       "            359             357             356             355             352 \n",
       "       metastas            less           relat         decreas          interv \n",
       "            352             351             351             350             349 \n",
       "          durat           ratio         perform         baselin      epirubicin \n",
       "            344             344             342             340             339 \n",
       "          howev          outcom            drug            well           earli \n",
       "            339             335             332             328             325 \n",
       "       administ          tumour           serum            her2           occur \n",
       "            322             320             315             314             312 \n",
       "            dfs            mean         without           prior        standard \n",
       "            310             310             306             305             305 \n",
       "    premenopaus          hazard          reduct           incid           local \n",
       "            303             301             301             300             300 \n",
       "         number        investig         partial        neoadjuv        axillari \n",
       "            296             295             295             293             292 \n",
       "          sever           stage           cours            test         continu \n",
       "            288             286             283             282             281 \n",
       "        greater             mbc           initi         suggest           indic \n",
       "            279             276             275             274             269 \n",
       "       endocrin             iii       methotrex          safeti        randomis \n",
       "            266             266             265             265             264 \n",
       "         failur             six         develop           negat          advers \n",
       "            262             261             259             258             256 \n",
       "           valu        patholog          relaps           score       carcinoma \n",
       "            256             254             254             254             251 \n",
       "       demonstr            0001           lymph            rang          achiev \n",
       "            251             249             249             248             245 \n",
       "   radiotherapi        prognost          confid           agent          nausea \n",
       "            244             242             241             240             239 \n",
       "       prospect           found           infus           lower         whether \n",
       "            239             238             237             236             235 \n",
       "    neutropenia            case             100             end           enrol \n",
       "            234             233             225             221             221 \n",
       "         design       administr             per         present           death \n",
       "            219             218             218             218             215 \n",
       "   fluorouracil         schedul        endpoint   5fluorouracil          growth \n",
       "            215             215             213             208             208 \n",
       "   anthracyclin          correl           point         consist         respond \n",
       "            207             203             202             200             200 \n",
       "      nodeposit            seen           tissu            elig             low \n",
       "            199             199             197             196             196 \n",
       "          hundr          longer            oper          system        intraven \n",
       "            195             193             193             193             192 \n",
       "       subgroup        although             can          common             set \n",
       "            192             191             191             191             191 \n",
       "         examin          marker         qualiti        function          better \n",
       "            190             189             189             188             186 \n",
       "            aim            site         support          accord        firstlin \n",
       "            185             183             183             182             182 \n",
       "      inhibitor          involv           model         confirm            life \n",
       "            182             180             180             178             178 \n",
       "         analys         conduct            find           least          postop \n",
       "            177             177             177             177             177 \n",
       "           size        pretreat           vomit            five          wherea \n",
       "            177             175             174             173             173 \n",
       "          sampl          within        aromatas             new          period \n",
       "            172             172             171             171             170 \n",
       "            500          requir        sequenti            side       experienc \n",
       "            169             168             168             168             167 \n",
       "     mastectomi          appear             001           popul        superior \n",
       "            165             164             163             162             161 \n",
       "         profil  progressionfre          remain       secondari         potenti \n",
       "            158             158             158             158             156 \n",
       "         provid             due       multivari           stabl        frequent \n",
       "            155             154             154             154             153 \n",
       "           term   receptorposit            evid         distant     doubleblind \n",
       "            153             152             150             149             149 \n",
       "       independ           singl          detect        identifi          obtain \n",
       "            149             149             148             148             147 \n",
       "          human        particip         prevent           estim          import \n",
       "            144             144             143             139             138 \n",
       "         second          consid            main           start         possibl \n",
       "            138             131             131             131             130 \n",
       "          andor            need        histolog           limit         general \n",
       "            128             128             127             127             126 \n",
       "      multicent            type         prolong         proport             005 \n",
       "            126             126             125             125             124 \n",
       "         analyz            base           eight          inform          select \n",
       "            124             124             124             124             124 \n",
       "          defin           major         regress    characterist           enter \n",
       "            123             122             120             119             117 \n",
       "      hematolog           shown      comparison            caus           trend \n",
       "            117             117             116             115             115 \n",
       "    progesteron           avail            larg           seven          regard \n",
       "            114             108             108             108             105 "
      ]
     },
     "metadata": {},
     "output_type": "display_data"
    }
   ],
   "source": [
    "sort(colSums(dtmAbstract), decreasing=TRUE)"
   ]
  },
  {
   "cell_type": "markdown",
   "metadata": {},
   "source": [
    "## Building a model"
   ]
  },
  {
   "cell_type": "markdown",
   "metadata": {},
   "source": [
    "We want to combine dtmTitle and dtmAbstract into a single data frame to make predictions. However, some of the variables in these data frames have the same names. To fix this issue, run the following commands:\n",
    "```R\n",
    "colnames(dtmTitle) = paste0(\"T\", colnames(dtmTitle))\n",
    "\n",
    "colnames(dtmAbstract) = paste0(\"A\", colnames(dtmAbstract))\n",
    "```"
   ]
  },
  {
   "cell_type": "code",
   "execution_count": 23,
   "metadata": {},
   "outputs": [],
   "source": [
    "colnames(dtmTitle) = paste0(\"T\", colnames(dtmTitle))\n",
    "colnames(dtmAbstract) = paste0(\"A\", colnames(dtmAbstract))"
   ]
  },
  {
   "cell_type": "markdown",
   "metadata": {},
   "source": [
    "Using cbind(), combine dtmTitle and dtmAbstract into a single data frame called dtm:\n",
    "```R\n",
    "dtm = cbind(dtmTitle, dtmAbstract)\n",
    "```"
   ]
  },
  {
   "cell_type": "code",
   "execution_count": 24,
   "metadata": {},
   "outputs": [],
   "source": [
    "dtm = cbind(dtmTitle, dtmAbstract)"
   ]
  },
  {
   "cell_type": "code",
   "execution_count": 25,
   "metadata": {},
   "outputs": [],
   "source": [
    "dtm$trial = trials$trial"
   ]
  },
  {
   "cell_type": "code",
   "execution_count": 26,
   "metadata": {},
   "outputs": [
    {
     "data": {
      "text/html": [
       "367"
      ],
      "text/latex": [
       "367"
      ],
      "text/markdown": [
       "367"
      ],
      "text/plain": [
       "[1] 367"
      ]
     },
     "metadata": {},
     "output_type": "display_data"
    }
   ],
   "source": [
    "ncol(dtm)"
   ]
  },
  {
   "cell_type": "markdown",
   "metadata": {},
   "source": [
    "Now that we have prepared our data frame, it's time to split it into a training and testing set and to build regression models. Set the random seed to 144 and use the sample.split function from the caTools package to split dtm into data frames named \"train\" and \"test\", putting 70% of the data in the training set."
   ]
  },
  {
   "cell_type": "code",
   "execution_count": 27,
   "metadata": {},
   "outputs": [],
   "source": [
    "library(\"caTools\")\n",
    "set.seed(144)"
   ]
  },
  {
   "cell_type": "code",
   "execution_count": 28,
   "metadata": {},
   "outputs": [],
   "source": [
    "split = sample.split(dtm$trial, SplitRatio=0.7)\n",
    "train = subset(dtm, split == TRUE)\n",
    "test = subset(dtm, split == FALSE)"
   ]
  },
  {
   "cell_type": "code",
   "execution_count": 29,
   "metadata": {},
   "outputs": [
    {
     "data": {
      "text/plain": [
       "\n",
       "  0   1 \n",
       "730 572 "
      ]
     },
     "metadata": {},
     "output_type": "display_data"
    }
   ],
   "source": [
    "table(train$trial)"
   ]
  },
  {
   "cell_type": "code",
   "execution_count": 30,
   "metadata": {},
   "outputs": [
    {
     "data": {
      "text/html": [
       "0.560675883256528"
      ],
      "text/latex": [
       "0.560675883256528"
      ],
      "text/markdown": [
       "0.560675883256528"
      ],
      "text/plain": [
       "[1] 0.5606759"
      ]
     },
     "metadata": {},
     "output_type": "display_data"
    }
   ],
   "source": [
    "baseline_acc = 730 / nrow(train)\n",
    "baseline_acc"
   ]
  },
  {
   "cell_type": "markdown",
   "metadata": {},
   "source": [
    "Build a CART model called trialCART, using all the independent variables in the training set to train the model, and then plot the CART model. Just use the default parameters to build the model (don't add a minbucket or cp value). Remember to add the method=\"class\" argument, since this is a classification problem."
   ]
  },
  {
   "cell_type": "code",
   "execution_count": 31,
   "metadata": {},
   "outputs": [],
   "source": [
    "library(\"rpart\")\n",
    "library(\"rpart.plot\")"
   ]
  },
  {
   "cell_type": "code",
   "execution_count": 32,
   "metadata": {},
   "outputs": [
    {
     "data": {
      "image/png": "[encoded data removed]",
      "text/plain": [
       "plot without title"
      ]
     },
     "metadata": {
      "image/png": {
       "height": 420,
       "width": 420
      }
     },
     "output_type": "display_data"
    }
   ],
   "source": [
    "dtmCART = rpart(trial ~ ., data=train, method='class')\n",
    "prp(dtmCART)"
   ]
  },
  {
   "cell_type": "code",
   "execution_count": 33,
   "metadata": {},
   "outputs": [
    {
     "data": {
      "text/plain": [
       "   Min. 1st Qu.  Median    Mean 3rd Qu.    Max. \n",
       "0.05455 0.13636 0.28750 0.43932 0.78231 0.87189 "
      ]
     },
     "metadata": {},
     "output_type": "display_data"
    }
   ],
   "source": [
    "summary(predict(dtmCART)[,2])"
   ]
  },
  {
   "cell_type": "code",
   "execution_count": 34,
   "metadata": {},
   "outputs": [],
   "source": [
    "predCART = predict(dtmCART, type='class')"
   ]
  },
  {
   "cell_type": "code",
   "execution_count": 35,
   "metadata": {},
   "outputs": [
    {
     "data": {
      "text/plain": [
       "   predCART\n",
       "      0   1\n",
       "  0 631  99\n",
       "  1 131 441"
      ]
     },
     "metadata": {},
     "output_type": "display_data"
    }
   ],
   "source": [
    "table(train$trial, predCART)"
   ]
  },
  {
   "cell_type": "code",
   "execution_count": 36,
   "metadata": {},
   "outputs": [
    {
     "data": {
      "text/html": [
       "0.823348694316436"
      ],
      "text/latex": [
       "0.823348694316436"
      ],
      "text/markdown": [
       "0.823348694316436"
      ],
      "text/plain": [
       "[1] 0.8233487"
      ]
     },
     "metadata": {},
     "output_type": "display_data"
    }
   ],
   "source": [
    "accuracy = (631 + 441) / nrow(train)\n",
    "accuracy"
   ]
  },
  {
   "cell_type": "code",
   "execution_count": 37,
   "metadata": {},
   "outputs": [
    {
     "data": {
      "text/html": [
       "0.770979020979021"
      ],
      "text/latex": [
       "0.770979020979021"
      ],
      "text/markdown": [
       "0.770979020979021"
      ],
      "text/plain": [
       "[1] 0.770979"
      ]
     },
     "metadata": {},
     "output_type": "display_data"
    }
   ],
   "source": [
    "sensitivity = 441 / (441 + 131)\n",
    "sensitivity"
   ]
  },
  {
   "cell_type": "code",
   "execution_count": 38,
   "metadata": {},
   "outputs": [
    {
     "data": {
      "text/html": [
       "0.864383561643836"
      ],
      "text/latex": [
       "0.864383561643836"
      ],
      "text/markdown": [
       "0.864383561643836"
      ],
      "text/plain": [
       "[1] 0.8643836"
      ]
     },
     "metadata": {},
     "output_type": "display_data"
    }
   ],
   "source": [
    "specificity = 631 / (631 + 99)\n",
    "specificity"
   ]
  },
  {
   "cell_type": "markdown",
   "metadata": {},
   "source": [
    "## Evaluating the model on the testing set"
   ]
  },
  {
   "cell_type": "code",
   "execution_count": 39,
   "metadata": {},
   "outputs": [
    {
     "data": {
      "text/plain": [
       "   predTest\n",
       "      0   1\n",
       "  0 261  52\n",
       "  1  83 162"
      ]
     },
     "metadata": {},
     "output_type": "display_data"
    }
   ],
   "source": [
    "predTest = predict(dtmCART, newdata=test, type='class')\n",
    "table(test$trial, predTest)"
   ]
  },
  {
   "cell_type": "code",
   "execution_count": 40,
   "metadata": {},
   "outputs": [
    {
     "data": {
      "text/html": [
       "0.758064516129032"
      ],
      "text/latex": [
       "0.758064516129032"
      ],
      "text/markdown": [
       "0.758064516129032"
      ],
      "text/plain": [
       "[1] 0.7580645"
      ]
     },
     "metadata": {},
     "output_type": "display_data"
    }
   ],
   "source": [
    "accuracy = (261 + 162) / nrow(test)\n",
    "accuracy"
   ]
  },
  {
   "cell_type": "code",
   "execution_count": 41,
   "metadata": {},
   "outputs": [
    {
     "name": "stderr",
     "output_type": "stream",
     "text": [
      "Loading required package: gplots\n",
      "\n",
      "\n",
      "Attaching package: 'gplots'\n",
      "\n",
      "\n",
      "The following object is masked from 'package:stats':\n",
      "\n",
      "    lowess\n",
      "\n",
      "\n"
     ]
    }
   ],
   "source": [
    "library(\"ROCR\")"
   ]
  },
  {
   "cell_type": "code",
   "execution_count": 42,
   "metadata": {},
   "outputs": [],
   "source": [
    "predROCR = prediction(predict(dtmCART, newdata=test)[,2], test$trial)"
   ]
  },
  {
   "cell_type": "code",
   "execution_count": 43,
   "metadata": {},
   "outputs": [
    {
     "data": {
      "text/html": [
       "<ol>\n",
       "\t<li>0.837106344135098</li>\n",
       "</ol>\n"
      ],
      "text/latex": [
       "\\begin{enumerate}\n",
       "\\item 0.837106344135098\n",
       "\\end{enumerate}\n"
      ],
      "text/markdown": [
       "1. 0.837106344135098\n",
       "\n",
       "\n"
      ],
      "text/plain": [
       "[[1]]\n",
       "[1] 0.8371063\n"
      ]
     },
     "metadata": {},
     "output_type": "display_data"
    }
   ],
   "source": [
    "auc = performance(predROCR, \"auc\")@y.values\n",
    "auc"
   ]
  }
 ],
 "metadata": {
  "kernelspec": {
   "display_name": "R",
   "language": "R",
   "name": "ir"
  },
  "language_info": {
   "codemirror_mode": "r",
   "file_extension": ".r",
   "mimetype": "text/x-r-source",
   "name": "R",
   "pygments_lexer": "r",
   "version": "3.6.3"
  }
 },
 "nbformat": 4,
 "nbformat_minor": 4
}
