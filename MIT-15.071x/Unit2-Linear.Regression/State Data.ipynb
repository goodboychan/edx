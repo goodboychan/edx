{
 "cells": [
  {
   "cell_type": "markdown",
   "metadata": {},
   "source": [
    "# State Data"
   ]
  },
  {
   "cell_type": "markdown",
   "metadata": {},
   "source": [
    "We often take data for granted. However, one of the hardest parts about analyzing a problem you're interested in can be to find good data to answer the questions you want to ask. As you're learning R, though, there are many datasets that R has built in that you can take advantage of.\n",
    "\n",
    "In this problem, we will be examining the \"state\" dataset, which has data from the 1970s on all fifty US states. For each state, the dataset includes the population, per capita income, illiteracy rate, murder rate, high school graduation rate, average number of frost days, area, latitude and longitude, division the state belongs to,  region the state belongs to, and two-letter abbreviation.\n",
    "\n",
    "Load the dataset and convert it to a data frame by running the following two commands in R:\n",
    "```R\n",
    "data(state)\n",
    "\n",
    "statedata = cbind(data.frame(state.x77), state.abb, state.area, state.center,  state.division, state.name, state.region)\n",
    "```\n",
    "If you can't access the state dataset in R, here is a CSV file with the same data that you can load into R using the read.csv function: statedata.csv\n",
    "\n",
    "After you have loaded the data into R, inspect the data set using the command: str(statedata)"
   ]
  },
  {
   "cell_type": "markdown",
   "metadata": {},
   "source": [
    "This dataset has 50 observations (one for each US state) and the following 15 variables:\n",
    "\n",
    "- Population - the population estimate of the state in 1975\n",
    "- Income - per capita income in 1974\n",
    "- Illiteracy - illiteracy rates in 1970, as a percent of the population\n",
    "- Life.Exp - the life expectancy in years of residents of the state in 1970\n",
    "- Murder - the murder and non-negligent manslaughter rate per 100,000 population in 1976 \n",
    "- HS.Grad - percent of high-school graduates in 1970\n",
    "- Frost - the mean number of days with minimum temperature below freezing from 1931–1960 in the capital or a large city of the state\n",
    "- Area - the land area (in square miles) of the state\n",
    "- state.abb - a 2-letter abreviation for each state\n",
    "- state.area - the area of each state, in square miles\n",
    "- x - the longitude of the center of the state\n",
    "- y - the latitude of the center of the state\n",
    "- state.division - the division each state belongs to (New England, Middle Atlantic, South Atlantic, East South Central, West South Central, East North Central, West North Central, Mountain, or Pacific)\n",
    "- state.name - the full names of each state\n",
    "- state.region - the region each state belong to (Northeast, South, North Central, or West)"
   ]
  },
  {
   "cell_type": "markdown",
   "metadata": {},
   "source": [
    "We begin by exploring the data. Plot all of the states' centers with latitude on the y axis (the \"y\" variable in our dataset) and longitude on the x axis (the \"x\" variable in our dataset). The shape of the plot should look like the outline of the United States! Note that Alaska and Hawaii have had their coordinates adjusted to appear just off of the west coast."
   ]
  },
  {
   "cell_type": "code",
   "execution_count": 1,
   "metadata": {},
   "outputs": [],
   "source": [
    "state = read.csv('./dataset/statedata.csv')"
   ]
  },
  {
   "cell_type": "code",
   "execution_count": 3,
   "metadata": {},
   "outputs": [],
   "source": [
    "data(state)\n",
    "statedata = cbind(data.frame(state.x77), state.abb, state.area, state.center,  state.division, state.name, state.region)"
   ]
  },
  {
   "cell_type": "code",
   "execution_count": 4,
   "metadata": {},
   "outputs": [
    {
     "name": "stdout",
     "output_type": "stream",
     "text": [
      "'data.frame':\t50 obs. of  15 variables:\n",
      " $ Population    : num  3615 365 2212 2110 21198 ...\n",
      " $ Income        : num  3624 6315 4530 3378 5114 ...\n",
      " $ Illiteracy    : num  2.1 1.5 1.8 1.9 1.1 0.7 1.1 0.9 1.3 2 ...\n",
      " $ Life.Exp      : num  69 69.3 70.5 70.7 71.7 ...\n",
      " $ Murder        : num  15.1 11.3 7.8 10.1 10.3 6.8 3.1 6.2 10.7 13.9 ...\n",
      " $ HS.Grad       : num  41.3 66.7 58.1 39.9 62.6 63.9 56 54.6 52.6 40.6 ...\n",
      " $ Frost         : num  20 152 15 65 20 166 139 103 11 60 ...\n",
      " $ Area          : num  50708 566432 113417 51945 156361 ...\n",
      " $ state.abb     : Factor w/ 50 levels \"AK\",\"AL\",\"AR\",..: 2 1 4 3 5 6 7 8 9 10 ...\n",
      " $ state.area    : num  51609 589757 113909 53104 158693 ...\n",
      " $ x             : num  -86.8 -127.2 -111.6 -92.3 -119.8 ...\n",
      " $ y             : num  32.6 49.2 34.2 34.7 36.5 ...\n",
      " $ state.division: Factor w/ 9 levels \"New England\",..: 4 9 8 5 9 8 1 3 3 3 ...\n",
      " $ state.name    : Factor w/ 50 levels \"Alabama\",\"Alaska\",..: 1 2 3 4 5 6 7 8 9 10 ...\n",
      " $ state.region  : Factor w/ 4 levels \"Northeast\",\"South\",..: 2 4 4 2 4 4 1 2 2 2 ...\n"
     ]
    }
   ],
   "source": [
    "str(statedata)"
   ]
  },
  {
   "cell_type": "code",
   "execution_count": 5,
   "metadata": {},
   "outputs": [
    {
     "data": {
      "image/png": "[encoded data removed]",
      "text/plain": [
       "plot without title"
      ]
     },
     "metadata": {
      "image/png": {
       "height": 420,
       "width": 420
      }
     },
     "output_type": "display_data"
    }
   ],
   "source": [
    "plot(statedata$x, statedata$y)"
   ]
  },
  {
   "cell_type": "markdown",
   "metadata": {},
   "source": [
    "Using the tapply command, determine which region of the US (West, North Central, South, or Northeast) has the highest average high school graduation rate of all the states in the region:"
   ]
  },
  {
   "cell_type": "code",
   "execution_count": 6,
   "metadata": {},
   "outputs": [
    {
     "data": {
      "text/html": [
       "<style>\n",
       ".dl-inline {width: auto; margin:0; padding: 0}\n",
       ".dl-inline>dt, .dl-inline>dd {float: none; width: auto; display: inline-block}\n",
       ".dl-inline>dt::after {content: \":\\0020\"; padding-right: .5ex}\n",
       ".dl-inline>dt:not(:first-of-type) {padding-left: .5ex}\n",
       "</style><dl class=dl-inline><dt>North Central</dt><dd>54.5166666666667</dd><dt>Northeast</dt><dd>53.9666666666667</dd><dt>South</dt><dd>44.34375</dd><dt>West</dt><dd>62</dd></dl>\n"
      ],
      "text/latex": [
       "\\begin{description*}\n",
       "\\item[North Central] 54.5166666666667\n",
       "\\item[Northeast] 53.9666666666667\n",
       "\\item[South] 44.34375\n",
       "\\item[West] 62\n",
       "\\end{description*}\n"
      ],
      "text/markdown": [
       "North Central\n",
       ":   54.5166666666667Northeast\n",
       ":   53.9666666666667South\n",
       ":   44.34375West\n",
       ":   62\n",
       "\n"
      ],
      "text/plain": [
       "North Central     Northeast         South          West \n",
       "     54.51667      53.96667      44.34375      62.00000 "
      ]
     },
     "metadata": {},
     "output_type": "display_data"
    }
   ],
   "source": [
    "tapply(statedata$HS.Grad, state$state.region, mean)"
   ]
  },
  {
   "cell_type": "code",
   "execution_count": 14,
   "metadata": {},
   "outputs": [
    {
     "data": {
      "image/png": "[encoded data removed]",
      "text/plain": [
       "plot without title"
      ]
     },
     "metadata": {
      "image/png": {
       "height": 420,
       "width": 420
      }
     },
     "output_type": "display_data"
    }
   ],
   "source": [
    "boxplot(Murder~state.region, data=statedata)"
   ]
  },
  {
   "cell_type": "markdown",
   "metadata": {},
   "source": [
    "You should see that there is an outlier in the Northeast region of the boxplot you just generated. Which state does this correspond to? (Hint: There are many ways to find the answer to this question, but one way is to use the subset command to only look at the Northeast data.)"
   ]
  },
  {
   "cell_type": "code",
   "execution_count": 15,
   "metadata": {},
   "outputs": [],
   "source": [
    "northeast = subset(statedata, state.region == 'Northeast')"
   ]
  },
  {
   "cell_type": "code",
   "execution_count": 19,
   "metadata": {},
   "outputs": [
    {
     "data": {
      "text/html": [
       "New York\n",
       "<details>\n",
       "\t<summary style=display:list-item;cursor:pointer>\n",
       "\t\t<strong>Levels</strong>:\n",
       "\t</summary>\n",
       "\t<style>\n",
       "\t.list-inline {list-style: none; margin:0; padding: 0}\n",
       "\t.list-inline>li {display: inline-block}\n",
       "\t.list-inline>li:not(:last-child)::after {content: \"\\00b7\"; padding: 0 .5ex}\n",
       "\t</style>\n",
       "\t<ol class=list-inline><li>'Alabama'</li><li>'Alaska'</li><li>'Arizona'</li><li>'Arkansas'</li><li>'California'</li><li>'Colorado'</li><li>'Connecticut'</li><li>'Delaware'</li><li>'Florida'</li><li>'Georgia'</li><li>'Hawaii'</li><li>'Idaho'</li><li>'Illinois'</li><li>'Indiana'</li><li>'Iowa'</li><li>'Kansas'</li><li>'Kentucky'</li><li>'Louisiana'</li><li>'Maine'</li><li>'Maryland'</li><li>'Massachusetts'</li><li>'Michigan'</li><li>'Minnesota'</li><li>'Mississippi'</li><li>'Missouri'</li><li>'Montana'</li><li>'Nebraska'</li><li>'Nevada'</li><li>'New Hampshire'</li><li>'New Jersey'</li><li>'New Mexico'</li><li>'New York'</li><li>'North Carolina'</li><li>'North Dakota'</li><li>'Ohio'</li><li>'Oklahoma'</li><li>'Oregon'</li><li>'Pennsylvania'</li><li>'Rhode Island'</li><li>'South Carolina'</li><li>'South Dakota'</li><li>'Tennessee'</li><li>'Texas'</li><li>'Utah'</li><li>'Vermont'</li><li>'Virginia'</li><li>'Washington'</li><li>'West Virginia'</li><li>'Wisconsin'</li><li>'Wyoming'</li></ol>\n",
       "</details>"
      ],
      "text/latex": [
       "New York\n",
       "\\emph{Levels}: \\begin{enumerate*}\n",
       "\\item 'Alabama'\n",
       "\\item 'Alaska'\n",
       "\\item 'Arizona'\n",
       "\\item 'Arkansas'\n",
       "\\item 'California'\n",
       "\\item 'Colorado'\n",
       "\\item 'Connecticut'\n",
       "\\item 'Delaware'\n",
       "\\item 'Florida'\n",
       "\\item 'Georgia'\n",
       "\\item 'Hawaii'\n",
       "\\item 'Idaho'\n",
       "\\item 'Illinois'\n",
       "\\item 'Indiana'\n",
       "\\item 'Iowa'\n",
       "\\item 'Kansas'\n",
       "\\item 'Kentucky'\n",
       "\\item 'Louisiana'\n",
       "\\item 'Maine'\n",
       "\\item 'Maryland'\n",
       "\\item 'Massachusetts'\n",
       "\\item 'Michigan'\n",
       "\\item 'Minnesota'\n",
       "\\item 'Mississippi'\n",
       "\\item 'Missouri'\n",
       "\\item 'Montana'\n",
       "\\item 'Nebraska'\n",
       "\\item 'Nevada'\n",
       "\\item 'New Hampshire'\n",
       "\\item 'New Jersey'\n",
       "\\item 'New Mexico'\n",
       "\\item 'New York'\n",
       "\\item 'North Carolina'\n",
       "\\item 'North Dakota'\n",
       "\\item 'Ohio'\n",
       "\\item 'Oklahoma'\n",
       "\\item 'Oregon'\n",
       "\\item 'Pennsylvania'\n",
       "\\item 'Rhode Island'\n",
       "\\item 'South Carolina'\n",
       "\\item 'South Dakota'\n",
       "\\item 'Tennessee'\n",
       "\\item 'Texas'\n",
       "\\item 'Utah'\n",
       "\\item 'Vermont'\n",
       "\\item 'Virginia'\n",
       "\\item 'Washington'\n",
       "\\item 'West Virginia'\n",
       "\\item 'Wisconsin'\n",
       "\\item 'Wyoming'\n",
       "\\end{enumerate*}\n"
      ],
      "text/markdown": [
       "New York\n",
       "**Levels**: 1. 'Alabama'\n",
       "2. 'Alaska'\n",
       "3. 'Arizona'\n",
       "4. 'Arkansas'\n",
       "5. 'California'\n",
       "6. 'Colorado'\n",
       "7. 'Connecticut'\n",
       "8. 'Delaware'\n",
       "9. 'Florida'\n",
       "10. 'Georgia'\n",
       "11. 'Hawaii'\n",
       "12. 'Idaho'\n",
       "13. 'Illinois'\n",
       "14. 'Indiana'\n",
       "15. 'Iowa'\n",
       "16. 'Kansas'\n",
       "17. 'Kentucky'\n",
       "18. 'Louisiana'\n",
       "19. 'Maine'\n",
       "20. 'Maryland'\n",
       "21. 'Massachusetts'\n",
       "22. 'Michigan'\n",
       "23. 'Minnesota'\n",
       "24. 'Mississippi'\n",
       "25. 'Missouri'\n",
       "26. 'Montana'\n",
       "27. 'Nebraska'\n",
       "28. 'Nevada'\n",
       "29. 'New Hampshire'\n",
       "30. 'New Jersey'\n",
       "31. 'New Mexico'\n",
       "32. 'New York'\n",
       "33. 'North Carolina'\n",
       "34. 'North Dakota'\n",
       "35. 'Ohio'\n",
       "36. 'Oklahoma'\n",
       "37. 'Oregon'\n",
       "38. 'Pennsylvania'\n",
       "39. 'Rhode Island'\n",
       "40. 'South Carolina'\n",
       "41. 'South Dakota'\n",
       "42. 'Tennessee'\n",
       "43. 'Texas'\n",
       "44. 'Utah'\n",
       "45. 'Vermont'\n",
       "46. 'Virginia'\n",
       "47. 'Washington'\n",
       "48. 'West Virginia'\n",
       "49. 'Wisconsin'\n",
       "50. 'Wyoming'\n",
       "\n",
       "\n"
      ],
      "text/plain": [
       "[1] New York\n",
       "50 Levels: Alabama Alaska Arizona Arkansas California Colorado ... Wyoming"
      ]
     },
     "metadata": {},
     "output_type": "display_data"
    }
   ],
   "source": [
    "northeast$state.name[which.max(northeast$Murder)]"
   ]
  },
  {
   "cell_type": "markdown",
   "metadata": {},
   "source": [
    "We would like to build a model to predict life expectancy by state using the state statistics we have in our dataset.\n",
    "\n",
    "Build the model with all potential variables included (Population, Income, Illiteracy, Murder, HS.Grad, Frost, and Area). Note that you should use the variable \"Area\" in your model, NOT the variable \"state.area\"."
   ]
  },
  {
   "cell_type": "code",
   "execution_count": 21,
   "metadata": {},
   "outputs": [],
   "source": [
    "LERegs = lm(Life.Exp ~ Population + Income + Illiteracy + Murder + HS.Grad + Frost + Area, data=statedata)"
   ]
  },
  {
   "cell_type": "code",
   "execution_count": 22,
   "metadata": {},
   "outputs": [
    {
     "data": {
      "text/plain": [
       "\n",
       "Call:\n",
       "lm(formula = Life.Exp ~ Population + Income + Illiteracy + Murder + \n",
       "    HS.Grad + Frost + Area, data = statedata)\n",
       "\n",
       "Residuals:\n",
       "     Min       1Q   Median       3Q      Max \n",
       "-1.48895 -0.51232 -0.02747  0.57002  1.49447 \n",
       "\n",
       "Coefficients:\n",
       "              Estimate Std. Error t value Pr(>|t|)    \n",
       "(Intercept)  7.094e+01  1.748e+00  40.586  < 2e-16 ***\n",
       "Population   5.180e-05  2.919e-05   1.775   0.0832 .  \n",
       "Income      -2.180e-05  2.444e-04  -0.089   0.9293    \n",
       "Illiteracy   3.382e-02  3.663e-01   0.092   0.9269    \n",
       "Murder      -3.011e-01  4.662e-02  -6.459 8.68e-08 ***\n",
       "HS.Grad      4.893e-02  2.332e-02   2.098   0.0420 *  \n",
       "Frost       -5.735e-03  3.143e-03  -1.825   0.0752 .  \n",
       "Area        -7.383e-08  1.668e-06  -0.044   0.9649    \n",
       "---\n",
       "Signif. codes:  0 '***' 0.001 '**' 0.01 '*' 0.05 '.' 0.1 ' ' 1\n",
       "\n",
       "Residual standard error: 0.7448 on 42 degrees of freedom\n",
       "Multiple R-squared:  0.7362,\tAdjusted R-squared:  0.6922 \n",
       "F-statistic: 16.74 on 7 and 42 DF,  p-value: 2.534e-10\n"
      ]
     },
     "metadata": {},
     "output_type": "display_data"
    }
   ],
   "source": [
    "summary(LERegs)"
   ]
  },
  {
   "cell_type": "markdown",
   "metadata": {},
   "source": [
    "Now plot a graph of life expectancy vs. income using the command:\n",
    "```R\n",
    "plot(statedata$Income, statedata$Life.Exp)\n",
    "```\n",
    "Visually observe the plot. What appears to be the relationship?"
   ]
  },
  {
   "cell_type": "code",
   "execution_count": 23,
   "metadata": {},
   "outputs": [
    {
     "data": {
      "image/png": "[encoded data removed]",
      "text/plain": [
       "plot without title"
      ]
     },
     "metadata": {
      "image/png": {
       "height": 420,
       "width": 420
      }
     },
     "output_type": "display_data"
    }
   ],
   "source": [
    "plot(statedata$Income, statedata$Life.Exp)"
   ]
  },
  {
   "cell_type": "markdown",
   "metadata": {},
   "source": [
    "Recall that we discussed the principle of simplicity: that is, a model with fewer variables is preferable to a model with many unnnecessary variables. Experiment with removing independent variables from the original model. Remember to use the significance of the coefficients to decide which variables to remove (remove the one with the largest \"p-value\" first, or the one with the \"t value\" closest to zero), and to remove them one at a time (this is called \"backwards variable selection\"). This is important due to multicollinearity issues - removing one insignificant variable may make another previously insignificant variable become significant."
   ]
  },
  {
   "cell_type": "code",
   "execution_count": 24,
   "metadata": {},
   "outputs": [
    {
     "data": {
      "text/plain": [
       "\n",
       "Call:\n",
       "lm(formula = Life.Exp ~ Population + Murder + HS.Grad + Frost, \n",
       "    data = statedata)\n",
       "\n",
       "Residuals:\n",
       "     Min       1Q   Median       3Q      Max \n",
       "-1.47095 -0.53464 -0.03701  0.57621  1.50683 \n",
       "\n",
       "Coefficients:\n",
       "              Estimate Std. Error t value Pr(>|t|)    \n",
       "(Intercept)  7.103e+01  9.529e-01  74.542  < 2e-16 ***\n",
       "Population   5.014e-05  2.512e-05   1.996  0.05201 .  \n",
       "Murder      -3.001e-01  3.661e-02  -8.199 1.77e-10 ***\n",
       "HS.Grad      4.658e-02  1.483e-02   3.142  0.00297 ** \n",
       "Frost       -5.943e-03  2.421e-03  -2.455  0.01802 *  \n",
       "---\n",
       "Signif. codes:  0 '***' 0.001 '**' 0.01 '*' 0.05 '.' 0.1 ' ' 1\n",
       "\n",
       "Residual standard error: 0.7197 on 45 degrees of freedom\n",
       "Multiple R-squared:  0.736,\tAdjusted R-squared:  0.7126 \n",
       "F-statistic: 31.37 on 4 and 45 DF,  p-value: 1.696e-12\n"
      ]
     },
     "metadata": {},
     "output_type": "display_data"
    }
   ],
   "source": [
    "LERegs2 = lm(Life.Exp ~ Population + Murder + HS.Grad + Frost, data=statedata)\n",
    "summary(LERegs2)"
   ]
  },
  {
   "cell_type": "code",
   "execution_count": 26,
   "metadata": {},
   "outputs": [
    {
     "data": {
      "text/html": [
       "<style>\n",
       ".dl-inline {width: auto; margin:0; padding: 0}\n",
       ".dl-inline>dt, .dl-inline>dd {float: none; width: auto; display: inline-block}\n",
       ".dl-inline>dt::after {content: \":\\0020\"; padding-right: .5ex}\n",
       ".dl-inline>dt:not(:first-of-type) {padding-left: .5ex}\n",
       "</style><dl class=dl-inline><dt>Alabama</dt><dd>68.4811186603676</dd><dt>Georgia</dt><dd>68.6369422702127</dd><dt>Mississippi</dt><dd>69.0053538435439</dd><dt>South Carolina</dt><dd>69.0610917182137</dd><dt>Louisiana</dt><dd>69.1504484565804</dd><dt>Kentucky</dt><dd>69.2441793269449</dd><dt>North Carolina</dt><dd>69.286241787454</dd><dt>Tennessee</dt><dd>69.4658334866057</dd><dt>Nevada</dt><dd>69.5248239298304</dd><dt>Arkansas</dt><dd>69.5737388122338</dd><dt>Alaska</dt><dd>69.8574039948887</dd><dt>Michigan</dt><dd>69.8689335964791</dd><dt>Texas</dt><dd>69.9788594304845</dd><dt>New Mexico</dt><dd>70.0311905527908</dd><dt>Missouri</dt><dd>70.1061003112619</dd><dt>Virginia</dt><dd>70.1469139234648</dd><dt>Illinois</dt><dd>70.1924416020812</dd><dt>West Virginia</dt><dd>70.4498258792049</dd><dt>Maryland</dt><dd>70.5185199571042</dd><dt>Florida</dt><dd>70.615394954102</dd><dt>New York</dt><dd>70.6293714928018</dd><dt>Wyoming</dt><dd>70.8767886345807</dd><dt>Indiana</dt><dd>70.9015852551755</dd><dt>Vermont</dt><dd>71.0613498108938</dd><dt>Ohio</dt><dd>71.0854876703705</dd><dt>Colorado</dt><dd>71.1035418417232</dd><dt>Delaware</dt><dd>71.1264688436752</dd><dt>Oklahoma</dt><dd>71.1586004208266</dd><dt>Pennsylvania</dt><dd>71.380455266614</dd><dt>Montana</dt><dd>71.4002480494338</dd><dt>Arizona</dt><dd>71.4141567062234</dd><dt>Idaho</dt><dd>71.4998928638421</dd><dt>New Jersey</dt><dd>71.5961208607714</dd><dt>New Hampshire</dt><dd>71.7263561491335</dd><dt>Rhode Island</dt><dd>71.7600701811733</dd><dt>California</dt><dd>71.7956459891689</dd><dt>Maine</dt><dd>71.8609541149988</dd><dt>North Dakota</dt><dd>71.8764944962758</dd><dt>Kansas</dt><dd>71.9035196271872</dd><dt>Wisconsin</dt><dd>72.0099567645835</dd><dt>South Dakota</dt><dd>72.0116088113322</dd><dt>Connecticut</dt><dd>72.0345897245335</dd><dt>Utah</dt><dd>72.0575318325544</dd><dt>Hawaii</dt><dd>72.0931685394921</dd><dt>Nebraska</dt><dd>72.1703230928179</dd><dt>Minnesota</dt><dd>72.2655961972096</dd><dt>Iowa</dt><dd>72.3965287603254</dd><dt>Oregon</dt><dd>72.4144533325103</dd><dt>Massachusetts</dt><dd>72.4410539114803</dd><dt>Washington</dt><dd>72.6827242644419</dd></dl>\n"
      ],
      "text/latex": [
       "\\begin{description*}\n",
       "\\item[Alabama] 68.4811186603676\n",
       "\\item[Georgia] 68.6369422702127\n",
       "\\item[Mississippi] 69.0053538435439\n",
       "\\item[South Carolina] 69.0610917182137\n",
       "\\item[Louisiana] 69.1504484565804\n",
       "\\item[Kentucky] 69.2441793269449\n",
       "\\item[North Carolina] 69.286241787454\n",
       "\\item[Tennessee] 69.4658334866057\n",
       "\\item[Nevada] 69.5248239298304\n",
       "\\item[Arkansas] 69.5737388122338\n",
       "\\item[Alaska] 69.8574039948887\n",
       "\\item[Michigan] 69.8689335964791\n",
       "\\item[Texas] 69.9788594304845\n",
       "\\item[New Mexico] 70.0311905527908\n",
       "\\item[Missouri] 70.1061003112619\n",
       "\\item[Virginia] 70.1469139234648\n",
       "\\item[Illinois] 70.1924416020812\n",
       "\\item[West Virginia] 70.4498258792049\n",
       "\\item[Maryland] 70.5185199571042\n",
       "\\item[Florida] 70.615394954102\n",
       "\\item[New York] 70.6293714928018\n",
       "\\item[Wyoming] 70.8767886345807\n",
       "\\item[Indiana] 70.9015852551755\n",
       "\\item[Vermont] 71.0613498108938\n",
       "\\item[Ohio] 71.0854876703705\n",
       "\\item[Colorado] 71.1035418417232\n",
       "\\item[Delaware] 71.1264688436752\n",
       "\\item[Oklahoma] 71.1586004208266\n",
       "\\item[Pennsylvania] 71.380455266614\n",
       "\\item[Montana] 71.4002480494338\n",
       "\\item[Arizona] 71.4141567062234\n",
       "\\item[Idaho] 71.4998928638421\n",
       "\\item[New Jersey] 71.5961208607714\n",
       "\\item[New Hampshire] 71.7263561491335\n",
       "\\item[Rhode Island] 71.7600701811733\n",
       "\\item[California] 71.7956459891689\n",
       "\\item[Maine] 71.8609541149988\n",
       "\\item[North Dakota] 71.8764944962758\n",
       "\\item[Kansas] 71.9035196271872\n",
       "\\item[Wisconsin] 72.0099567645835\n",
       "\\item[South Dakota] 72.0116088113322\n",
       "\\item[Connecticut] 72.0345897245335\n",
       "\\item[Utah] 72.0575318325544\n",
       "\\item[Hawaii] 72.0931685394921\n",
       "\\item[Nebraska] 72.1703230928179\n",
       "\\item[Minnesota] 72.2655961972096\n",
       "\\item[Iowa] 72.3965287603254\n",
       "\\item[Oregon] 72.4144533325103\n",
       "\\item[Massachusetts] 72.4410539114803\n",
       "\\item[Washington] 72.6827242644419\n",
       "\\end{description*}\n"
      ],
      "text/markdown": [
       "Alabama\n",
       ":   68.4811186603676Georgia\n",
       ":   68.6369422702127Mississippi\n",
       ":   69.0053538435439South Carolina\n",
       ":   69.0610917182137Louisiana\n",
       ":   69.1504484565804Kentucky\n",
       ":   69.2441793269449North Carolina\n",
       ":   69.286241787454Tennessee\n",
       ":   69.4658334866057Nevada\n",
       ":   69.5248239298304Arkansas\n",
       ":   69.5737388122338Alaska\n",
       ":   69.8574039948887Michigan\n",
       ":   69.8689335964791Texas\n",
       ":   69.9788594304845New Mexico\n",
       ":   70.0311905527908Missouri\n",
       ":   70.1061003112619Virginia\n",
       ":   70.1469139234648Illinois\n",
       ":   70.1924416020812West Virginia\n",
       ":   70.4498258792049Maryland\n",
       ":   70.5185199571042Florida\n",
       ":   70.615394954102New York\n",
       ":   70.6293714928018Wyoming\n",
       ":   70.8767886345807Indiana\n",
       ":   70.9015852551755Vermont\n",
       ":   71.0613498108938Ohio\n",
       ":   71.0854876703705Colorado\n",
       ":   71.1035418417232Delaware\n",
       ":   71.1264688436752Oklahoma\n",
       ":   71.1586004208266Pennsylvania\n",
       ":   71.380455266614Montana\n",
       ":   71.4002480494338Arizona\n",
       ":   71.4141567062234Idaho\n",
       ":   71.4998928638421New Jersey\n",
       ":   71.5961208607714New Hampshire\n",
       ":   71.7263561491335Rhode Island\n",
       ":   71.7600701811733California\n",
       ":   71.7956459891689Maine\n",
       ":   71.8609541149988North Dakota\n",
       ":   71.8764944962758Kansas\n",
       ":   71.9035196271872Wisconsin\n",
       ":   72.0099567645835South Dakota\n",
       ":   72.0116088113322Connecticut\n",
       ":   72.0345897245335Utah\n",
       ":   72.0575318325544Hawaii\n",
       ":   72.0931685394921Nebraska\n",
       ":   72.1703230928179Minnesota\n",
       ":   72.2655961972096Iowa\n",
       ":   72.3965287603254Oregon\n",
       ":   72.4144533325103Massachusetts\n",
       ":   72.4410539114803Washington\n",
       ":   72.6827242644419\n",
       "\n"
      ],
      "text/plain": [
       "       Alabama        Georgia    Mississippi South Carolina      Louisiana \n",
       "      68.48112       68.63694       69.00535       69.06109       69.15045 \n",
       "      Kentucky North Carolina      Tennessee         Nevada       Arkansas \n",
       "      69.24418       69.28624       69.46583       69.52482       69.57374 \n",
       "        Alaska       Michigan          Texas     New Mexico       Missouri \n",
       "      69.85740       69.86893       69.97886       70.03119       70.10610 \n",
       "      Virginia       Illinois  West Virginia       Maryland        Florida \n",
       "      70.14691       70.19244       70.44983       70.51852       70.61539 \n",
       "      New York        Wyoming        Indiana        Vermont           Ohio \n",
       "      70.62937       70.87679       70.90159       71.06135       71.08549 \n",
       "      Colorado       Delaware       Oklahoma   Pennsylvania        Montana \n",
       "      71.10354       71.12647       71.15860       71.38046       71.40025 \n",
       "       Arizona          Idaho     New Jersey  New Hampshire   Rhode Island \n",
       "      71.41416       71.49989       71.59612       71.72636       71.76007 \n",
       "    California          Maine   North Dakota         Kansas      Wisconsin \n",
       "      71.79565       71.86095       71.87649       71.90352       72.00996 \n",
       "  South Dakota    Connecticut           Utah         Hawaii       Nebraska \n",
       "      72.01161       72.03459       72.05753       72.09317       72.17032 \n",
       "     Minnesota           Iowa         Oregon  Massachusetts     Washington \n",
       "      72.26560       72.39653       72.41445       72.44105       72.68272 "
      ]
     },
     "metadata": {},
     "output_type": "display_data"
    }
   ],
   "source": [
    "LEPredictions = predict(LERegs2)\n",
    "sort(LEPredictions)"
   ]
  },
  {
   "cell_type": "code",
   "execution_count": 27,
   "metadata": {},
   "outputs": [
    {
     "data": {
      "text/html": [
       "South Carolina\n",
       "<details>\n",
       "\t<summary style=display:list-item;cursor:pointer>\n",
       "\t\t<strong>Levels</strong>:\n",
       "\t</summary>\n",
       "\t<style>\n",
       "\t.list-inline {list-style: none; margin:0; padding: 0}\n",
       "\t.list-inline>li {display: inline-block}\n",
       "\t.list-inline>li:not(:last-child)::after {content: \"\\00b7\"; padding: 0 .5ex}\n",
       "\t</style>\n",
       "\t<ol class=list-inline><li>'Alabama'</li><li>'Alaska'</li><li>'Arizona'</li><li>'Arkansas'</li><li>'California'</li><li>'Colorado'</li><li>'Connecticut'</li><li>'Delaware'</li><li>'Florida'</li><li>'Georgia'</li><li>'Hawaii'</li><li>'Idaho'</li><li>'Illinois'</li><li>'Indiana'</li><li>'Iowa'</li><li>'Kansas'</li><li>'Kentucky'</li><li>'Louisiana'</li><li>'Maine'</li><li>'Maryland'</li><li>'Massachusetts'</li><li>'Michigan'</li><li>'Minnesota'</li><li>'Mississippi'</li><li>'Missouri'</li><li>'Montana'</li><li>'Nebraska'</li><li>'Nevada'</li><li>'New Hampshire'</li><li>'New Jersey'</li><li>'New Mexico'</li><li>'New York'</li><li>'North Carolina'</li><li>'North Dakota'</li><li>'Ohio'</li><li>'Oklahoma'</li><li>'Oregon'</li><li>'Pennsylvania'</li><li>'Rhode Island'</li><li>'South Carolina'</li><li>'South Dakota'</li><li>'Tennessee'</li><li>'Texas'</li><li>'Utah'</li><li>'Vermont'</li><li>'Virginia'</li><li>'Washington'</li><li>'West Virginia'</li><li>'Wisconsin'</li><li>'Wyoming'</li></ol>\n",
       "</details>"
      ],
      "text/latex": [
       "South Carolina\n",
       "\\emph{Levels}: \\begin{enumerate*}\n",
       "\\item 'Alabama'\n",
       "\\item 'Alaska'\n",
       "\\item 'Arizona'\n",
       "\\item 'Arkansas'\n",
       "\\item 'California'\n",
       "\\item 'Colorado'\n",
       "\\item 'Connecticut'\n",
       "\\item 'Delaware'\n",
       "\\item 'Florida'\n",
       "\\item 'Georgia'\n",
       "\\item 'Hawaii'\n",
       "\\item 'Idaho'\n",
       "\\item 'Illinois'\n",
       "\\item 'Indiana'\n",
       "\\item 'Iowa'\n",
       "\\item 'Kansas'\n",
       "\\item 'Kentucky'\n",
       "\\item 'Louisiana'\n",
       "\\item 'Maine'\n",
       "\\item 'Maryland'\n",
       "\\item 'Massachusetts'\n",
       "\\item 'Michigan'\n",
       "\\item 'Minnesota'\n",
       "\\item 'Mississippi'\n",
       "\\item 'Missouri'\n",
       "\\item 'Montana'\n",
       "\\item 'Nebraska'\n",
       "\\item 'Nevada'\n",
       "\\item 'New Hampshire'\n",
       "\\item 'New Jersey'\n",
       "\\item 'New Mexico'\n",
       "\\item 'New York'\n",
       "\\item 'North Carolina'\n",
       "\\item 'North Dakota'\n",
       "\\item 'Ohio'\n",
       "\\item 'Oklahoma'\n",
       "\\item 'Oregon'\n",
       "\\item 'Pennsylvania'\n",
       "\\item 'Rhode Island'\n",
       "\\item 'South Carolina'\n",
       "\\item 'South Dakota'\n",
       "\\item 'Tennessee'\n",
       "\\item 'Texas'\n",
       "\\item 'Utah'\n",
       "\\item 'Vermont'\n",
       "\\item 'Virginia'\n",
       "\\item 'Washington'\n",
       "\\item 'West Virginia'\n",
       "\\item 'Wisconsin'\n",
       "\\item 'Wyoming'\n",
       "\\end{enumerate*}\n"
      ],
      "text/markdown": [
       "South Carolina\n",
       "**Levels**: 1. 'Alabama'\n",
       "2. 'Alaska'\n",
       "3. 'Arizona'\n",
       "4. 'Arkansas'\n",
       "5. 'California'\n",
       "6. 'Colorado'\n",
       "7. 'Connecticut'\n",
       "8. 'Delaware'\n",
       "9. 'Florida'\n",
       "10. 'Georgia'\n",
       "11. 'Hawaii'\n",
       "12. 'Idaho'\n",
       "13. 'Illinois'\n",
       "14. 'Indiana'\n",
       "15. 'Iowa'\n",
       "16. 'Kansas'\n",
       "17. 'Kentucky'\n",
       "18. 'Louisiana'\n",
       "19. 'Maine'\n",
       "20. 'Maryland'\n",
       "21. 'Massachusetts'\n",
       "22. 'Michigan'\n",
       "23. 'Minnesota'\n",
       "24. 'Mississippi'\n",
       "25. 'Missouri'\n",
       "26. 'Montana'\n",
       "27. 'Nebraska'\n",
       "28. 'Nevada'\n",
       "29. 'New Hampshire'\n",
       "30. 'New Jersey'\n",
       "31. 'New Mexico'\n",
       "32. 'New York'\n",
       "33. 'North Carolina'\n",
       "34. 'North Dakota'\n",
       "35. 'Ohio'\n",
       "36. 'Oklahoma'\n",
       "37. 'Oregon'\n",
       "38. 'Pennsylvania'\n",
       "39. 'Rhode Island'\n",
       "40. 'South Carolina'\n",
       "41. 'South Dakota'\n",
       "42. 'Tennessee'\n",
       "43. 'Texas'\n",
       "44. 'Utah'\n",
       "45. 'Vermont'\n",
       "46. 'Virginia'\n",
       "47. 'Washington'\n",
       "48. 'West Virginia'\n",
       "49. 'Wisconsin'\n",
       "50. 'Wyoming'\n",
       "\n",
       "\n"
      ],
      "text/plain": [
       "[1] South Carolina\n",
       "50 Levels: Alabama Alaska Arizona Arkansas California Colorado ... Wyoming"
      ]
     },
     "metadata": {},
     "output_type": "display_data"
    }
   ],
   "source": [
    "statedata$state.name[which.min(statedata$Life.Exp)]"
   ]
  },
  {
   "cell_type": "code",
   "execution_count": 28,
   "metadata": {},
   "outputs": [
    {
     "data": {
      "text/html": [
       "Hawaii\n",
       "<details>\n",
       "\t<summary style=display:list-item;cursor:pointer>\n",
       "\t\t<strong>Levels</strong>:\n",
       "\t</summary>\n",
       "\t<style>\n",
       "\t.list-inline {list-style: none; margin:0; padding: 0}\n",
       "\t.list-inline>li {display: inline-block}\n",
       "\t.list-inline>li:not(:last-child)::after {content: \"\\00b7\"; padding: 0 .5ex}\n",
       "\t</style>\n",
       "\t<ol class=list-inline><li>'Alabama'</li><li>'Alaska'</li><li>'Arizona'</li><li>'Arkansas'</li><li>'California'</li><li>'Colorado'</li><li>'Connecticut'</li><li>'Delaware'</li><li>'Florida'</li><li>'Georgia'</li><li>'Hawaii'</li><li>'Idaho'</li><li>'Illinois'</li><li>'Indiana'</li><li>'Iowa'</li><li>'Kansas'</li><li>'Kentucky'</li><li>'Louisiana'</li><li>'Maine'</li><li>'Maryland'</li><li>'Massachusetts'</li><li>'Michigan'</li><li>'Minnesota'</li><li>'Mississippi'</li><li>'Missouri'</li><li>'Montana'</li><li>'Nebraska'</li><li>'Nevada'</li><li>'New Hampshire'</li><li>'New Jersey'</li><li>'New Mexico'</li><li>'New York'</li><li>'North Carolina'</li><li>'North Dakota'</li><li>'Ohio'</li><li>'Oklahoma'</li><li>'Oregon'</li><li>'Pennsylvania'</li><li>'Rhode Island'</li><li>'South Carolina'</li><li>'South Dakota'</li><li>'Tennessee'</li><li>'Texas'</li><li>'Utah'</li><li>'Vermont'</li><li>'Virginia'</li><li>'Washington'</li><li>'West Virginia'</li><li>'Wisconsin'</li><li>'Wyoming'</li></ol>\n",
       "</details>"
      ],
      "text/latex": [
       "Hawaii\n",
       "\\emph{Levels}: \\begin{enumerate*}\n",
       "\\item 'Alabama'\n",
       "\\item 'Alaska'\n",
       "\\item 'Arizona'\n",
       "\\item 'Arkansas'\n",
       "\\item 'California'\n",
       "\\item 'Colorado'\n",
       "\\item 'Connecticut'\n",
       "\\item 'Delaware'\n",
       "\\item 'Florida'\n",
       "\\item 'Georgia'\n",
       "\\item 'Hawaii'\n",
       "\\item 'Idaho'\n",
       "\\item 'Illinois'\n",
       "\\item 'Indiana'\n",
       "\\item 'Iowa'\n",
       "\\item 'Kansas'\n",
       "\\item 'Kentucky'\n",
       "\\item 'Louisiana'\n",
       "\\item 'Maine'\n",
       "\\item 'Maryland'\n",
       "\\item 'Massachusetts'\n",
       "\\item 'Michigan'\n",
       "\\item 'Minnesota'\n",
       "\\item 'Mississippi'\n",
       "\\item 'Missouri'\n",
       "\\item 'Montana'\n",
       "\\item 'Nebraska'\n",
       "\\item 'Nevada'\n",
       "\\item 'New Hampshire'\n",
       "\\item 'New Jersey'\n",
       "\\item 'New Mexico'\n",
       "\\item 'New York'\n",
       "\\item 'North Carolina'\n",
       "\\item 'North Dakota'\n",
       "\\item 'Ohio'\n",
       "\\item 'Oklahoma'\n",
       "\\item 'Oregon'\n",
       "\\item 'Pennsylvania'\n",
       "\\item 'Rhode Island'\n",
       "\\item 'South Carolina'\n",
       "\\item 'South Dakota'\n",
       "\\item 'Tennessee'\n",
       "\\item 'Texas'\n",
       "\\item 'Utah'\n",
       "\\item 'Vermont'\n",
       "\\item 'Virginia'\n",
       "\\item 'Washington'\n",
       "\\item 'West Virginia'\n",
       "\\item 'Wisconsin'\n",
       "\\item 'Wyoming'\n",
       "\\end{enumerate*}\n"
      ],
      "text/markdown": [
       "Hawaii\n",
       "**Levels**: 1. 'Alabama'\n",
       "2. 'Alaska'\n",
       "3. 'Arizona'\n",
       "4. 'Arkansas'\n",
       "5. 'California'\n",
       "6. 'Colorado'\n",
       "7. 'Connecticut'\n",
       "8. 'Delaware'\n",
       "9. 'Florida'\n",
       "10. 'Georgia'\n",
       "11. 'Hawaii'\n",
       "12. 'Idaho'\n",
       "13. 'Illinois'\n",
       "14. 'Indiana'\n",
       "15. 'Iowa'\n",
       "16. 'Kansas'\n",
       "17. 'Kentucky'\n",
       "18. 'Louisiana'\n",
       "19. 'Maine'\n",
       "20. 'Maryland'\n",
       "21. 'Massachusetts'\n",
       "22. 'Michigan'\n",
       "23. 'Minnesota'\n",
       "24. 'Mississippi'\n",
       "25. 'Missouri'\n",
       "26. 'Montana'\n",
       "27. 'Nebraska'\n",
       "28. 'Nevada'\n",
       "29. 'New Hampshire'\n",
       "30. 'New Jersey'\n",
       "31. 'New Mexico'\n",
       "32. 'New York'\n",
       "33. 'North Carolina'\n",
       "34. 'North Dakota'\n",
       "35. 'Ohio'\n",
       "36. 'Oklahoma'\n",
       "37. 'Oregon'\n",
       "38. 'Pennsylvania'\n",
       "39. 'Rhode Island'\n",
       "40. 'South Carolina'\n",
       "41. 'South Dakota'\n",
       "42. 'Tennessee'\n",
       "43. 'Texas'\n",
       "44. 'Utah'\n",
       "45. 'Vermont'\n",
       "46. 'Virginia'\n",
       "47. 'Washington'\n",
       "48. 'West Virginia'\n",
       "49. 'Wisconsin'\n",
       "50. 'Wyoming'\n",
       "\n",
       "\n"
      ],
      "text/plain": [
       "[1] Hawaii\n",
       "50 Levels: Alabama Alaska Arizona Arkansas California Colorado ... Wyoming"
      ]
     },
     "metadata": {},
     "output_type": "display_data"
    }
   ],
   "source": [
    "statedata$state.name[which.max(statedata$Life.Exp)]"
   ]
  },
  {
   "cell_type": "code",
   "execution_count": 37,
   "metadata": {},
   "outputs": [
    {
     "data": {
      "text/html": [
       "<style>\n",
       ".dl-inline {width: auto; margin:0; padding: 0}\n",
       ".dl-inline>dt, .dl-inline>dd {float: none; width: auto; display: inline-block}\n",
       ".dl-inline>dt::after {content: \":\\0020\"; padding-right: .5ex}\n",
       ".dl-inline>dt:not(:first-of-type) {padding-left: .5ex}\n",
       "</style><dl class=dl-inline><dt>Indiana</dt><dd>0.0215852551755582</dd><dt>Florida</dt><dd>0.0446050458979435</dd><dt>Illinois</dt><dd>0.0524416020812657</dd><dt>Virginia</dt><dd>0.066913923464789</dd><dt>South Dakota</dt><dd>0.0683911886678378</dd><dt>North Carolina</dt><dd>0.0762417874540201</dd><dt>New York</dt><dd>0.0793714928017949</dd><dt>California</dt><dd>0.0856459891688827</dd><dt>Georgia</dt><dd>0.0969422702126522</dd><dt>Rhode Island</dt><dd>0.139929818826714</dd><dt>Iowa</dt><dd>0.163471239674645</dd><dt>Oklahoma</dt><dd>0.261399579173362</dd><dt>Ohio</dt><dd>0.265487670370465</dd><dt>Oregon</dt><dd>0.284453332510282</dd><dt>New Mexico</dt><dd>0.288809447209171</dd><dt>Maryland</dt><dd>0.298519957104234</dd><dt>Idaho</dt><dd>0.370107136157929</dd><dt>Louisiana</dt><dd>0.390448456580439</dd><dt>Nebraska</dt><dd>0.429676907182146</dd><dt>Connecticut</dt><dd>0.445410275466459</dd><dt>Wisconsin</dt><dd>0.470043235416537</dd><dt>Nevada</dt><dd>0.494823929830369</dd><dt>New Hampshire</dt><dd>0.496356149133503</dd><dt>Alaska</dt><dd>0.547403994888679</dd><dt>Alabama</dt><dd>0.568881339632391</dd><dt>Vermont</dt><dd>0.578650189106198</dd><dt>Missouri</dt><dd>0.583899688738071</dd><dt>Wyoming</dt><dd>0.586788634580705</dd><dt>Massachusetts</dt><dd>0.61105391148032</dd><dt>Tennessee</dt><dd>0.644166513394295</dd><dt>New Jersey</dt><dd>0.66612086077141</dd><dt>Kansas</dt><dd>0.67648037281275</dd><dt>Minnesota</dt><dd>0.694403802790365</dd><dt>Michigan</dt><dd>0.761066403520905</dd><dt>Montana</dt><dd>0.840248049433767</dd><dt>Utah</dt><dd>0.842468167445544</dd><dt>Kentucky</dt><dd>0.855820673055097</dd><dt>Arizona</dt><dd>0.864156706223381</dd><dt>North Dakota</dt><dd>0.903505503724195</dd><dt>Mississippi</dt><dd>0.915353843543867</dd><dt>Texas</dt><dd>0.921140569515482</dd><dt>Pennsylvania</dt><dd>0.950455266614044</dd><dt>Colorado</dt><dd>0.956458158276766</dd><dt>Washington</dt><dd>0.962724264441866</dd><dt>West Virginia</dt><dd>0.969825879204875</dd><dt>Delaware</dt><dd>1.06646884367516</dd><dt>Arkansas</dt><dd>1.08626118776616</dd><dt>South Carolina</dt><dd>1.10109171821373</dd><dt>Maine</dt><dd>1.47095411499877</dd><dt>Hawaii</dt><dd>1.50683146050786</dd></dl>\n"
      ],
      "text/latex": [
       "\\begin{description*}\n",
       "\\item[Indiana] 0.0215852551755582\n",
       "\\item[Florida] 0.0446050458979435\n",
       "\\item[Illinois] 0.0524416020812657\n",
       "\\item[Virginia] 0.066913923464789\n",
       "\\item[South Dakota] 0.0683911886678378\n",
       "\\item[North Carolina] 0.0762417874540201\n",
       "\\item[New York] 0.0793714928017949\n",
       "\\item[California] 0.0856459891688827\n",
       "\\item[Georgia] 0.0969422702126522\n",
       "\\item[Rhode Island] 0.139929818826714\n",
       "\\item[Iowa] 0.163471239674645\n",
       "\\item[Oklahoma] 0.261399579173362\n",
       "\\item[Ohio] 0.265487670370465\n",
       "\\item[Oregon] 0.284453332510282\n",
       "\\item[New Mexico] 0.288809447209171\n",
       "\\item[Maryland] 0.298519957104234\n",
       "\\item[Idaho] 0.370107136157929\n",
       "\\item[Louisiana] 0.390448456580439\n",
       "\\item[Nebraska] 0.429676907182146\n",
       "\\item[Connecticut] 0.445410275466459\n",
       "\\item[Wisconsin] 0.470043235416537\n",
       "\\item[Nevada] 0.494823929830369\n",
       "\\item[New Hampshire] 0.496356149133503\n",
       "\\item[Alaska] 0.547403994888679\n",
       "\\item[Alabama] 0.568881339632391\n",
       "\\item[Vermont] 0.578650189106198\n",
       "\\item[Missouri] 0.583899688738071\n",
       "\\item[Wyoming] 0.586788634580705\n",
       "\\item[Massachusetts] 0.61105391148032\n",
       "\\item[Tennessee] 0.644166513394295\n",
       "\\item[New Jersey] 0.66612086077141\n",
       "\\item[Kansas] 0.67648037281275\n",
       "\\item[Minnesota] 0.694403802790365\n",
       "\\item[Michigan] 0.761066403520905\n",
       "\\item[Montana] 0.840248049433767\n",
       "\\item[Utah] 0.842468167445544\n",
       "\\item[Kentucky] 0.855820673055097\n",
       "\\item[Arizona] 0.864156706223381\n",
       "\\item[North Dakota] 0.903505503724195\n",
       "\\item[Mississippi] 0.915353843543867\n",
       "\\item[Texas] 0.921140569515482\n",
       "\\item[Pennsylvania] 0.950455266614044\n",
       "\\item[Colorado] 0.956458158276766\n",
       "\\item[Washington] 0.962724264441866\n",
       "\\item[West Virginia] 0.969825879204875\n",
       "\\item[Delaware] 1.06646884367516\n",
       "\\item[Arkansas] 1.08626118776616\n",
       "\\item[South Carolina] 1.10109171821373\n",
       "\\item[Maine] 1.47095411499877\n",
       "\\item[Hawaii] 1.50683146050786\n",
       "\\end{description*}\n"
      ],
      "text/markdown": [
       "Indiana\n",
       ":   0.0215852551755582Florida\n",
       ":   0.0446050458979435Illinois\n",
       ":   0.0524416020812657Virginia\n",
       ":   0.066913923464789South Dakota\n",
       ":   0.0683911886678378North Carolina\n",
       ":   0.0762417874540201New York\n",
       ":   0.0793714928017949California\n",
       ":   0.0856459891688827Georgia\n",
       ":   0.0969422702126522Rhode Island\n",
       ":   0.139929818826714Iowa\n",
       ":   0.163471239674645Oklahoma\n",
       ":   0.261399579173362Ohio\n",
       ":   0.265487670370465Oregon\n",
       ":   0.284453332510282New Mexico\n",
       ":   0.288809447209171Maryland\n",
       ":   0.298519957104234Idaho\n",
       ":   0.370107136157929Louisiana\n",
       ":   0.390448456580439Nebraska\n",
       ":   0.429676907182146Connecticut\n",
       ":   0.445410275466459Wisconsin\n",
       ":   0.470043235416537Nevada\n",
       ":   0.494823929830369New Hampshire\n",
       ":   0.496356149133503Alaska\n",
       ":   0.547403994888679Alabama\n",
       ":   0.568881339632391Vermont\n",
       ":   0.578650189106198Missouri\n",
       ":   0.583899688738071Wyoming\n",
       ":   0.586788634580705Massachusetts\n",
       ":   0.61105391148032Tennessee\n",
       ":   0.644166513394295New Jersey\n",
       ":   0.66612086077141Kansas\n",
       ":   0.67648037281275Minnesota\n",
       ":   0.694403802790365Michigan\n",
       ":   0.761066403520905Montana\n",
       ":   0.840248049433767Utah\n",
       ":   0.842468167445544Kentucky\n",
       ":   0.855820673055097Arizona\n",
       ":   0.864156706223381North Dakota\n",
       ":   0.903505503724195Mississippi\n",
       ":   0.915353843543867Texas\n",
       ":   0.921140569515482Pennsylvania\n",
       ":   0.950455266614044Colorado\n",
       ":   0.956458158276766Washington\n",
       ":   0.962724264441866West Virginia\n",
       ":   0.969825879204875Delaware\n",
       ":   1.06646884367516Arkansas\n",
       ":   1.08626118776616South Carolina\n",
       ":   1.10109171821373Maine\n",
       ":   1.47095411499877Hawaii\n",
       ":   1.50683146050786\n",
       "\n"
      ],
      "text/plain": [
       "       Indiana        Florida       Illinois       Virginia   South Dakota \n",
       "    0.02158526     0.04460505     0.05244160     0.06691392     0.06839119 \n",
       "North Carolina       New York     California        Georgia   Rhode Island \n",
       "    0.07624179     0.07937149     0.08564599     0.09694227     0.13992982 \n",
       "          Iowa       Oklahoma           Ohio         Oregon     New Mexico \n",
       "    0.16347124     0.26139958     0.26548767     0.28445333     0.28880945 \n",
       "      Maryland          Idaho      Louisiana       Nebraska    Connecticut \n",
       "    0.29851996     0.37010714     0.39044846     0.42967691     0.44541028 \n",
       "     Wisconsin         Nevada  New Hampshire         Alaska        Alabama \n",
       "    0.47004324     0.49482393     0.49635615     0.54740399     0.56888134 \n",
       "       Vermont       Missouri        Wyoming  Massachusetts      Tennessee \n",
       "    0.57865019     0.58389969     0.58678863     0.61105391     0.64416651 \n",
       "    New Jersey         Kansas      Minnesota       Michigan        Montana \n",
       "    0.66612086     0.67648037     0.69440380     0.76106640     0.84024805 \n",
       "          Utah       Kentucky        Arizona   North Dakota    Mississippi \n",
       "    0.84246817     0.85582067     0.86415671     0.90350550     0.91535384 \n",
       "         Texas   Pennsylvania       Colorado     Washington  West Virginia \n",
       "    0.92114057     0.95045527     0.95645816     0.96272426     0.96982588 \n",
       "      Delaware       Arkansas South Carolina          Maine         Hawaii \n",
       "    1.06646884     1.08626119     1.10109172     1.47095411     1.50683146 "
      ]
     },
     "metadata": {},
     "output_type": "display_data"
    }
   ],
   "source": [
    "sort(abs(LERegs2$residuals))"
   ]
  }
 ],
 "metadata": {
  "kernelspec": {
   "display_name": "R",
   "language": "R",
   "name": "ir"
  },
  "language_info": {
   "codemirror_mode": "r",
   "file_extension": ".r",
   "mimetype": "text/x-r-source",
   "name": "R",
   "pygments_lexer": "r",
   "version": "3.6.3"
  }
 },
 "nbformat": 4,
 "nbformat_minor": 4
}
