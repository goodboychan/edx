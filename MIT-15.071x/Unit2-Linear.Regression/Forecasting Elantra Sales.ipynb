{
 "cells": [
  {
   "cell_type": "markdown",
   "metadata": {},
   "source": [
    "# Forecasting Elantra Sales"
   ]
  },
  {
   "cell_type": "markdown",
   "metadata": {},
   "source": [
    "An important application of linear regression is understanding sales. Consider a company that produces and sells a product. In a given period, if the company produces more units than how many consumers will buy, the company will not earn money on the unsold units and will incur additional costs due to having to store those units in inventory before they can be sold. If it produces fewer units than how many consumers will buy, the company will earn less than it potentially could have earned. Being able to predict consumer sales, therefore, is of first order importance to the company.\n",
    "\n",
    "In this problem, we will try to predict monthly sales of the Hyundai Elantra in the United States. The Hyundai Motor Company is a major automobile manufacturer based in South Korea. The Elantra is a car model that has been produced by Hyundai since 1990 and is sold all over the world, including the United States. We will build a linear regression model to predict monthly sales using economic indicators of the United States as well as Google search queries."
   ]
  },
  {
   "cell_type": "markdown",
   "metadata": {},
   "source": [
    "The file elantra.csv contains data for the problem. Each observation is a month, from January 2010 to February 2014. For each month, we have the following variables:\n",
    "\n",
    "- Month = the month of the year for the observation (1 = January, 2 = February, 3 = March, ...).\n",
    "- Year = the year of the observation.\n",
    "- ElantraSales = the number of units of the Hyundai Elantra sold in the United States in the given month.\n",
    "- Unemployment = the estimated unemployment percentage in the United States in the given month.\n",
    "- Queries = a (normalized) approximation of the number of Google searches for \"hyundai elantra\" in the given month.\n",
    "- CPI_energy = the monthly consumer price index (CPI) for energy for the given month.\n",
    "- CPI_all = the consumer price index (CPI) for all products for the given month; this is a measure of the magnitude of the prices paid by consumer households for goods and services (e.g., food, clothing, electricity, etc.)."
   ]
  },
  {
   "cell_type": "markdown",
   "metadata": {},
   "source": [
    "Load the data set. Split the data set into training and testing sets as follows: place all observations for 2012 and earlier in the training set, and all observations for 2013 and 2014 into the testing set."
   ]
  },
  {
   "cell_type": "code",
   "execution_count": 1,
   "metadata": {},
   "outputs": [
    {
     "name": "stdout",
     "output_type": "stream",
     "text": [
      "'data.frame':\t50 obs. of  7 variables:\n",
      " $ Month       : int  1 1 1 1 1 2 2 2 2 2 ...\n",
      " $ Year        : int  2010 2011 2012 2013 2014 2010 2011 2012 2013 2014 ...\n",
      " $ ElantraSales: int  7690 9659 10900 12174 15326 7966 12289 13820 16219 16393 ...\n",
      " $ Unemployment: num  9.7 9.1 8.2 7.9 6.6 9.8 9 8.3 7.7 6.7 ...\n",
      " $ Queries     : int  153 259 354 230 232 130 266 296 239 240 ...\n",
      " $ CPI_energy  : num  213 229 244 243 248 ...\n",
      " $ CPI_all     : num  217 221 228 231 235 ...\n"
     ]
    }
   ],
   "source": [
    "elantra = read.csv('./dataset/elantra.csv')\n",
    "str(elantra)"
   ]
  },
  {
   "cell_type": "code",
   "execution_count": 2,
   "metadata": {},
   "outputs": [],
   "source": [
    "elantra_train = subset(elantra, Year <= 2012)\n",
    "elantra_test = subset(elantra, Year > 2012)"
   ]
  },
  {
   "cell_type": "code",
   "execution_count": 3,
   "metadata": {},
   "outputs": [
    {
     "data": {
      "text/html": [
       "36"
      ],
      "text/latex": [
       "36"
      ],
      "text/markdown": [
       "36"
      ],
      "text/plain": [
       "[1] 36"
      ]
     },
     "metadata": {},
     "output_type": "display_data"
    }
   ],
   "source": [
    "nrow(elantra_train)"
   ]
  },
  {
   "cell_type": "markdown",
   "metadata": {},
   "source": [
    "Build a linear regression model to predict monthly Elantra sales using Unemployment, CPI_all, CPI_energy and Queries as the independent variables. Use all of the training set data to do this."
   ]
  },
  {
   "cell_type": "code",
   "execution_count": 4,
   "metadata": {},
   "outputs": [
    {
     "data": {
      "text/plain": [
       "\n",
       "Call:\n",
       "lm(formula = ElantraSales ~ Unemployment + CPI_all + CPI_energy + \n",
       "    Queries, data = elantra_train)\n",
       "\n",
       "Residuals:\n",
       "    Min      1Q  Median      3Q     Max \n",
       "-6785.2 -2101.8  -562.5  2901.7  7021.0 \n",
       "\n",
       "Coefficients:\n",
       "              Estimate Std. Error t value Pr(>|t|)\n",
       "(Intercept)   95385.36  170663.81   0.559    0.580\n",
       "Unemployment  -3179.90    3610.26  -0.881    0.385\n",
       "CPI_all        -297.65     704.84  -0.422    0.676\n",
       "CPI_energy       38.51     109.60   0.351    0.728\n",
       "Queries          19.03      11.26   1.690    0.101\n",
       "\n",
       "Residual standard error: 3295 on 31 degrees of freedom\n",
       "Multiple R-squared:  0.4282,\tAdjusted R-squared:  0.3544 \n",
       "F-statistic: 5.803 on 4 and 31 DF,  p-value: 0.00132\n"
      ]
     },
     "metadata": {},
     "output_type": "display_data"
    }
   ],
   "source": [
    "salesReg = lm(ElantraSales ~ Unemployment + CPI_all + CPI_energy + Queries, data=elantra_train)\n",
    "summary(salesReg)"
   ]
  },
  {
   "cell_type": "markdown",
   "metadata": {},
   "source": [
    "Our model R-Squared is relatively low, so we would now like to improve our model. In modeling demand and sales, it is often useful to model seasonality. Seasonality refers to the fact that demand is often cyclical/periodic in time. For example, in countries with different seasons, demand for warm outerwear (like jackets and coats) is higher in fall/autumn and winter (due to the colder weather) than in spring and summer. (In contrast, demand for swimsuits and sunscreen is higher in the summer than in the other seasons.) Another example is the \"back to school\" period in North America: demand for stationary (pencils, notebooks and so on) in late July and all of August is higher than the rest of the year due to the start of the school year in September.\n",
    "\n",
    "In our problem, since our data includes the month of the year in which the units were sold, it is feasible for us to incorporate monthly seasonality. From a modeling point of view, it may be reasonable that the month plays an effect in how many Elantra units are sold.\n",
    "\n",
    "To incorporate the seasonal effect due to the month, build a new linear regression model that predicts monthly Elantra sales using Month as well as Unemployment, CPI_all, CPI_energy and Queries. Do not modify the training and testing data frames before building the model."
   ]
  },
  {
   "cell_type": "code",
   "execution_count": 5,
   "metadata": {},
   "outputs": [
    {
     "data": {
      "text/plain": [
       "\n",
       "Call:\n",
       "lm(formula = ElantraSales ~ Month + Unemployment + CPI_all + \n",
       "    CPI_energy + Queries, data = elantra_train)\n",
       "\n",
       "Residuals:\n",
       "    Min      1Q  Median      3Q     Max \n",
       "-6416.6 -2068.7  -597.1  2616.3  7183.2 \n",
       "\n",
       "Coefficients:\n",
       "              Estimate Std. Error t value Pr(>|t|)  \n",
       "(Intercept)  148330.49  195373.51   0.759   0.4536  \n",
       "Month           110.69     191.66   0.578   0.5679  \n",
       "Unemployment  -4137.28    4008.56  -1.032   0.3103  \n",
       "CPI_all        -517.99     808.26  -0.641   0.5265  \n",
       "CPI_energy       54.18     114.08   0.475   0.6382  \n",
       "Queries          21.19      11.98   1.769   0.0871 .\n",
       "---\n",
       "Signif. codes:  0 ‘***’ 0.001 ‘**’ 0.01 ‘*’ 0.05 ‘.’ 0.1 ‘ ’ 1\n",
       "\n",
       "Residual standard error: 3331 on 30 degrees of freedom\n",
       "Multiple R-squared:  0.4344,\tAdjusted R-squared:  0.3402 \n",
       "F-statistic: 4.609 on 5 and 30 DF,  p-value: 0.003078\n"
      ]
     },
     "metadata": {},
     "output_type": "display_data"
    }
   ],
   "source": [
    "salesReg2 = lm(ElantraSales ~ Month + Unemployment + CPI_all + CPI_energy + Queries, data=elantra_train)\n",
    "summary(salesReg2)"
   ]
  },
  {
   "cell_type": "markdown",
   "metadata": {},
   "source": [
    "Re-run the regression with the Month variable modeled as a factor variable. (Create a new variable that models the Month as a factor (using the as.factor function) instead of overwriting the current Month variable. We'll still use the numeric version of Month later in the problem.)"
   ]
  },
  {
   "cell_type": "code",
   "execution_count": 11,
   "metadata": {},
   "outputs": [
    {
     "data": {
      "text/plain": [
       "\n",
       "Call:\n",
       "lm(formula = ElantraSales ~ as.factor(Month) + Unemployment + \n",
       "    CPI_all + CPI_energy + Queries, data = elantra_train)\n",
       "\n",
       "Residuals:\n",
       "    Min      1Q  Median      3Q     Max \n",
       "-3865.1 -1211.7   -77.1  1207.5  3562.2 \n",
       "\n",
       "Coefficients:\n",
       "                     Estimate Std. Error t value Pr(>|t|)    \n",
       "(Intercept)        312509.280 144061.867   2.169 0.042288 *  \n",
       "as.factor(Month)2    2254.998   1943.249   1.160 0.259540    \n",
       "as.factor(Month)3    6696.557   1991.635   3.362 0.003099 ** \n",
       "as.factor(Month)4    7556.607   2038.022   3.708 0.001392 ** \n",
       "as.factor(Month)5    7420.249   1950.139   3.805 0.001110 ** \n",
       "as.factor(Month)6    9215.833   1995.230   4.619 0.000166 ***\n",
       "as.factor(Month)7    9929.464   2238.800   4.435 0.000254 ***\n",
       "as.factor(Month)8    7939.447   2064.629   3.845 0.001010 ** \n",
       "as.factor(Month)9    5013.287   2010.745   2.493 0.021542 *  \n",
       "as.factor(Month)10   2500.184   2084.057   1.200 0.244286    \n",
       "as.factor(Month)11   3238.932   2397.231   1.351 0.191747    \n",
       "as.factor(Month)12   5293.911   2228.310   2.376 0.027621 *  \n",
       "Unemployment        -7739.381   2968.747  -2.607 0.016871 *  \n",
       "CPI_all             -1343.307    592.919  -2.266 0.034732 *  \n",
       "CPI_energy            288.631     97.974   2.946 0.007988 ** \n",
       "Queries                -4.764     12.938  -0.368 0.716598    \n",
       "---\n",
       "Signif. codes:  0 ‘***’ 0.001 ‘**’ 0.01 ‘*’ 0.05 ‘.’ 0.1 ‘ ’ 1\n",
       "\n",
       "Residual standard error: 2306 on 20 degrees of freedom\n",
       "Multiple R-squared:  0.8193,\tAdjusted R-squared:  0.6837 \n",
       "F-statistic: 6.044 on 15 and 20 DF,  p-value: 0.0001469\n"
      ]
     },
     "metadata": {},
     "output_type": "display_data"
    }
   ],
   "source": [
    "salesReg3 = lm(ElantraSales ~ as.factor(Month) + Unemployment + CPI_all + CPI_energy + Queries, data=elantra_train)\n",
    "summary(salesReg3)"
   ]
  },
  {
   "cell_type": "markdown",
   "metadata": {},
   "source": [
    "Another peculiar observation about the regression is that the sign of the Queries variable has changed. In particular, when we naively modeled Month as a numeric variable, Queries had a positive coefficient. Now, Queries has a negative coefficient. Furthermore, CPI_energy has a positive coefficient -- as the overall price of energy increases, we expect Elantra sales to increase, which seems counter-intuitive (if the price of energy increases, we'd expect consumers to have less funds to purchase automobiles, leading to lower Elantra sales).\n",
    "\n",
    "As we have seen before, changes in coefficient signs and signs that are counter to our intuition may be due to a multicolinearity problem. To check, compute the correlations of the variables in the training set.\n",
    "\n",
    "Which of the following variables is CPI_energy highly correlated with? Select all that apply. (Include only variables where the absolute value of the correlation exceeds 0.6. For the purpose of this question, treat Month as a numeric variable, not a factor variable.)"
   ]
  },
  {
   "cell_type": "code",
   "execution_count": 13,
   "metadata": {},
   "outputs": [
    {
     "data": {
      "text/html": [
       "<table>\n",
       "<caption>A matrix: 7 × 7 of type dbl</caption>\n",
       "<thead>\n",
       "\t<tr><th></th><th scope=col>Month</th><th scope=col>Year</th><th scope=col>ElantraSales</th><th scope=col>Unemployment</th><th scope=col>Queries</th><th scope=col>CPI_energy</th><th scope=col>CPI_all</th></tr>\n",
       "</thead>\n",
       "<tbody>\n",
       "\t<tr><th scope=row>Month</th><td> 1.0000000</td><td> 0.0000000</td><td> 0.1097945</td><td>-0.2036029</td><td> 0.0158443</td><td> 0.1760198</td><td> 0.2667883</td></tr>\n",
       "\t<tr><th scope=row>Year</th><td> 0.0000000</td><td> 1.0000000</td><td> 0.5872737</td><td>-0.9587459</td><td> 0.7265310</td><td> 0.8316052</td><td> 0.9485847</td></tr>\n",
       "\t<tr><th scope=row>ElantraSales</th><td> 0.1097945</td><td> 0.5872737</td><td> 1.0000000</td><td>-0.5671458</td><td> 0.6100645</td><td> 0.5916491</td><td> 0.5936217</td></tr>\n",
       "\t<tr><th scope=row>Unemployment</th><td>-0.2036029</td><td>-0.9587459</td><td>-0.5671458</td><td> 1.0000000</td><td>-0.6411093</td><td>-0.8007188</td><td>-0.9562123</td></tr>\n",
       "\t<tr><th scope=row>Queries</th><td> 0.0158443</td><td> 0.7265310</td><td> 0.6100645</td><td>-0.6411093</td><td> 1.0000000</td><td> 0.8328381</td><td> 0.7536732</td></tr>\n",
       "\t<tr><th scope=row>CPI_energy</th><td> 0.1760198</td><td> 0.8316052</td><td> 0.5916491</td><td>-0.8007188</td><td> 0.8328381</td><td> 1.0000000</td><td> 0.9132259</td></tr>\n",
       "\t<tr><th scope=row>CPI_all</th><td> 0.2667883</td><td> 0.9485847</td><td> 0.5936217</td><td>-0.9562123</td><td> 0.7536732</td><td> 0.9132259</td><td> 1.0000000</td></tr>\n",
       "</tbody>\n",
       "</table>\n"
      ],
      "text/latex": [
       "A matrix: 7 × 7 of type dbl\n",
       "\\begin{tabular}{r|lllllll}\n",
       "  & Month & Year & ElantraSales & Unemployment & Queries & CPI\\_energy & CPI\\_all\\\\\n",
       "\\hline\n",
       "\tMonth &  1.0000000 &  0.0000000 &  0.1097945 & -0.2036029 &  0.0158443 &  0.1760198 &  0.2667883\\\\\n",
       "\tYear &  0.0000000 &  1.0000000 &  0.5872737 & -0.9587459 &  0.7265310 &  0.8316052 &  0.9485847\\\\\n",
       "\tElantraSales &  0.1097945 &  0.5872737 &  1.0000000 & -0.5671458 &  0.6100645 &  0.5916491 &  0.5936217\\\\\n",
       "\tUnemployment & -0.2036029 & -0.9587459 & -0.5671458 &  1.0000000 & -0.6411093 & -0.8007188 & -0.9562123\\\\\n",
       "\tQueries &  0.0158443 &  0.7265310 &  0.6100645 & -0.6411093 &  1.0000000 &  0.8328381 &  0.7536732\\\\\n",
       "\tCPI\\_energy &  0.1760198 &  0.8316052 &  0.5916491 & -0.8007188 &  0.8328381 &  1.0000000 &  0.9132259\\\\\n",
       "\tCPI\\_all &  0.2667883 &  0.9485847 &  0.5936217 & -0.9562123 &  0.7536732 &  0.9132259 &  1.0000000\\\\\n",
       "\\end{tabular}\n"
      ],
      "text/markdown": [
       "\n",
       "A matrix: 7 × 7 of type dbl\n",
       "\n",
       "| <!--/--> | Month | Year | ElantraSales | Unemployment | Queries | CPI_energy | CPI_all |\n",
       "|---|---|---|---|---|---|---|---|\n",
       "| Month |  1.0000000 |  0.0000000 |  0.1097945 | -0.2036029 |  0.0158443 |  0.1760198 |  0.2667883 |\n",
       "| Year |  0.0000000 |  1.0000000 |  0.5872737 | -0.9587459 |  0.7265310 |  0.8316052 |  0.9485847 |\n",
       "| ElantraSales |  0.1097945 |  0.5872737 |  1.0000000 | -0.5671458 |  0.6100645 |  0.5916491 |  0.5936217 |\n",
       "| Unemployment | -0.2036029 | -0.9587459 | -0.5671458 |  1.0000000 | -0.6411093 | -0.8007188 | -0.9562123 |\n",
       "| Queries |  0.0158443 |  0.7265310 |  0.6100645 | -0.6411093 |  1.0000000 |  0.8328381 |  0.7536732 |\n",
       "| CPI_energy |  0.1760198 |  0.8316052 |  0.5916491 | -0.8007188 |  0.8328381 |  1.0000000 |  0.9132259 |\n",
       "| CPI_all |  0.2667883 |  0.9485847 |  0.5936217 | -0.9562123 |  0.7536732 |  0.9132259 |  1.0000000 |\n",
       "\n"
      ],
      "text/plain": [
       "             Month      Year       ElantraSales Unemployment Queries   \n",
       "Month         1.0000000  0.0000000  0.1097945   -0.2036029    0.0158443\n",
       "Year          0.0000000  1.0000000  0.5872737   -0.9587459    0.7265310\n",
       "ElantraSales  0.1097945  0.5872737  1.0000000   -0.5671458    0.6100645\n",
       "Unemployment -0.2036029 -0.9587459 -0.5671458    1.0000000   -0.6411093\n",
       "Queries       0.0158443  0.7265310  0.6100645   -0.6411093    1.0000000\n",
       "CPI_energy    0.1760198  0.8316052  0.5916491   -0.8007188    0.8328381\n",
       "CPI_all       0.2667883  0.9485847  0.5936217   -0.9562123    0.7536732\n",
       "             CPI_energy CPI_all   \n",
       "Month         0.1760198  0.2667883\n",
       "Year          0.8316052  0.9485847\n",
       "ElantraSales  0.5916491  0.5936217\n",
       "Unemployment -0.8007188 -0.9562123\n",
       "Queries       0.8328381  0.7536732\n",
       "CPI_energy    1.0000000  0.9132259\n",
       "CPI_all       0.9132259  1.0000000"
      ]
     },
     "metadata": {},
     "output_type": "display_data"
    }
   ],
   "source": [
    "cor(elantra_train)"
   ]
  },
  {
   "cell_type": "markdown",
   "metadata": {},
   "source": [
    "Let us now simplify our model (the model using the factor version of the Month variable). We will do this by iteratively removing variables, one at a time. Remove the variable with the highest p-value (i.e., the least statistically significant variable) from the model. Repeat this until there are no variables that are insignificant or variables for which all of the factor levels are insignificant. Use a threshold of 0.10 to determine whether a variable is significant."
   ]
  },
  {
   "cell_type": "code",
   "execution_count": 14,
   "metadata": {},
   "outputs": [
    {
     "data": {
      "text/plain": [
       "\n",
       "Call:\n",
       "lm(formula = ElantraSales ~ as.factor(Month) + Unemployment + \n",
       "    CPI_all + CPI_energy, data = elantra_train)\n",
       "\n",
       "Residuals:\n",
       "    Min      1Q  Median      3Q     Max \n",
       "-3866.0 -1283.3  -107.2  1098.3  3650.1 \n",
       "\n",
       "Coefficients:\n",
       "                    Estimate Std. Error t value Pr(>|t|)    \n",
       "(Intercept)        325709.15  136627.85   2.384 0.026644 *  \n",
       "as.factor(Month)2    2410.91    1857.10   1.298 0.208292    \n",
       "as.factor(Month)3    6880.09    1888.15   3.644 0.001517 ** \n",
       "as.factor(Month)4    7697.36    1960.21   3.927 0.000774 ***\n",
       "as.factor(Month)5    7444.64    1908.48   3.901 0.000823 ***\n",
       "as.factor(Month)6    9223.13    1953.64   4.721 0.000116 ***\n",
       "as.factor(Month)7    9602.72    2012.66   4.771 0.000103 ***\n",
       "as.factor(Month)8    7919.50    2020.99   3.919 0.000789 ***\n",
       "as.factor(Month)9    5074.29    1962.23   2.586 0.017237 *  \n",
       "as.factor(Month)10   2724.24    1951.78   1.396 0.177366    \n",
       "as.factor(Month)11   3665.08    2055.66   1.783 0.089062 .  \n",
       "as.factor(Month)12   5643.19    1974.36   2.858 0.009413 ** \n",
       "Unemployment        -7971.34    2840.79  -2.806 0.010586 *  \n",
       "CPI_all             -1377.58     573.39  -2.403 0.025610 *  \n",
       "CPI_energy            268.03      78.75   3.403 0.002676 ** \n",
       "---\n",
       "Signif. codes:  0 ‘***’ 0.001 ‘**’ 0.01 ‘*’ 0.05 ‘.’ 0.1 ‘ ’ 1\n",
       "\n",
       "Residual standard error: 2258 on 21 degrees of freedom\n",
       "Multiple R-squared:  0.818,\tAdjusted R-squared:  0.6967 \n",
       "F-statistic: 6.744 on 14 and 21 DF,  p-value: 5.73e-05\n"
      ]
     },
     "metadata": {},
     "output_type": "display_data"
    }
   ],
   "source": [
    "salesReg4 = lm(ElantraSales ~ as.factor(Month) + Unemployment + CPI_all + CPI_energy, data=elantra_train)\n",
    "summary(salesReg4)"
   ]
  },
  {
   "cell_type": "markdown",
   "metadata": {},
   "source": [
    "Using the model from Problem 6.1, make predictions on the test set. What is the sum of squared errors of the model on the test set?"
   ]
  },
  {
   "cell_type": "code",
   "execution_count": 15,
   "metadata": {},
   "outputs": [
    {
     "data": {
      "text/html": [
       "190757747.444355"
      ],
      "text/latex": [
       "190757747.444355"
      ],
      "text/markdown": [
       "190757747.444355"
      ],
      "text/plain": [
       "[1] 190757747"
      ]
     },
     "metadata": {},
     "output_type": "display_data"
    }
   ],
   "source": [
    "PredTest = predict(salesReg4, newdata=elantra_test)\n",
    "SSE = sum((PredTest - elantra_test$ElantraSales)^2)\n",
    "SSE\n"
   ]
  },
  {
   "cell_type": "markdown",
   "metadata": {},
   "source": [
    "What would the baseline method predict for all observations in the test set? Remember that the baseline method we use predicts the average outcome of all observations in the training set."
   ]
  },
  {
   "cell_type": "code",
   "execution_count": 17,
   "metadata": {},
   "outputs": [
    {
     "data": {
      "text/html": [
       "14462.25"
      ],
      "text/latex": [
       "14462.25"
      ],
      "text/markdown": [
       "14462.25"
      ],
      "text/plain": [
       "[1] 14462.25"
      ]
     },
     "metadata": {},
     "output_type": "display_data"
    }
   ],
   "source": [
    "mean(elantra_train$ElantraSales)"
   ]
  },
  {
   "cell_type": "markdown",
   "metadata": {},
   "source": [
    "What is the test set R-Squared?"
   ]
  },
  {
   "cell_type": "code",
   "execution_count": 24,
   "metadata": {},
   "outputs": [
    {
     "data": {
      "text/html": [
       "701375142.375"
      ],
      "text/latex": [
       "701375142.375"
      ],
      "text/markdown": [
       "701375142.375"
      ],
      "text/plain": [
       "[1] 701375142"
      ]
     },
     "metadata": {},
     "output_type": "display_data"
    }
   ],
   "source": [
    "SST = sum((mean(elantra_train$ElantraSales) - elantra_test$ElantraSales)^2)\n",
    "SST"
   ]
  },
  {
   "cell_type": "code",
   "execution_count": 19,
   "metadata": {},
   "outputs": [],
   "source": [
    "R_squared = 1 - SSE/SST"
   ]
  },
  {
   "cell_type": "code",
   "execution_count": 20,
   "metadata": {},
   "outputs": [
    {
     "data": {
      "text/html": [
       "0.728023227629068"
      ],
      "text/latex": [
       "0.728023227629068"
      ],
      "text/markdown": [
       "0.728023227629068"
      ],
      "text/plain": [
       "[1] 0.7280232"
      ]
     },
     "metadata": {},
     "output_type": "display_data"
    }
   ],
   "source": [
    "R_squared"
   ]
  },
  {
   "cell_type": "markdown",
   "metadata": {},
   "source": [
    "What is the largest absolute error that we make in our test set predictions?"
   ]
  },
  {
   "cell_type": "code",
   "execution_count": 22,
   "metadata": {},
   "outputs": [
    {
     "data": {
      "text/html": [
       "7491.4876927116"
      ],
      "text/latex": [
       "7491.4876927116"
      ],
      "text/markdown": [
       "7491.4876927116"
      ],
      "text/plain": [
       "[1] 7491.488"
      ]
     },
     "metadata": {},
     "output_type": "display_data"
    }
   ],
   "source": [
    "max(abs(PredTest - elantra_test$ElantraSales))"
   ]
  },
  {
   "cell_type": "markdown",
   "metadata": {},
   "source": [
    "In which period (Month,Year pair) do we make the largest absolute error in our prediction?"
   ]
  },
  {
   "cell_type": "code",
   "execution_count": 23,
   "metadata": {},
   "outputs": [
    {
     "data": {
      "text/html": [
       "3"
      ],
      "text/latex": [
       "3"
      ],
      "text/markdown": [
       "3"
      ],
      "text/plain": [
       "[1] 3"
      ]
     },
     "metadata": {},
     "output_type": "display_data"
    }
   ],
   "source": [
    "elantra_test$Month[which.max(abs(PredTest - elantra_test$ElantraSales))]"
   ]
  }
 ],
 "metadata": {
  "kernelspec": {
   "display_name": "R",
   "language": "R",
   "name": "ir"
  },
  "language_info": {
   "codemirror_mode": "r",
   "file_extension": ".r",
   "mimetype": "text/x-r-source",
   "name": "R",
   "pygments_lexer": "r",
   "version": "3.6.2"
  }
 },
 "nbformat": 4,
 "nbformat_minor": 4
}
