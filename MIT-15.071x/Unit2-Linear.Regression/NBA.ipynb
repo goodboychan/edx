{
 "cells": [
  {
   "cell_type": "markdown",
   "metadata": {},
   "source": [
    "### 1. The Data"
   ]
  },
  {
   "cell_type": "markdown",
   "metadata": {},
   "source": [
    "In this recitation, we'll apply some of the ideas from Moneyball to data from the National Basketball Association (NBA). Please download the datasets NBA_train.csv and NBA_test.csv, and save them to a location on your computer that you will remember. This data comes from Basketball-Reference.com."
   ]
  },
  {
   "cell_type": "code",
   "execution_count": 1,
   "metadata": {},
   "outputs": [],
   "source": [
    "NBA = read.csv('dataset/NBA_train.csv')"
   ]
  },
  {
   "cell_type": "code",
   "execution_count": 2,
   "metadata": {},
   "outputs": [
    {
     "name": "stdout",
     "output_type": "stream",
     "text": [
      "'data.frame':\t835 obs. of  20 variables:\n",
      " $ SeasonEnd: int  1980 1980 1980 1980 1980 1980 1980 1980 1980 1980 ...\n",
      " $ Team     : Factor w/ 37 levels \"Atlanta Hawks\",..: 1 2 5 6 8 9 10 11 12 13 ...\n",
      " $ Playoffs : int  1 1 0 0 0 0 0 1 0 1 ...\n",
      " $ W        : int  50 61 30 37 30 16 24 41 37 47 ...\n",
      " $ PTS      : int  8573 9303 8813 9360 8878 8933 8493 9084 9119 8860 ...\n",
      " $ oppPTS   : int  8334 8664 9035 9332 9240 9609 8853 9070 9176 8603 ...\n",
      " $ FG       : int  3261 3617 3362 3811 3462 3643 3527 3599 3639 3582 ...\n",
      " $ FGA      : int  7027 7387 6943 8041 7470 7596 7318 7496 7689 7489 ...\n",
      " $ X2P      : int  3248 3455 3292 3775 3379 3586 3500 3495 3551 3557 ...\n",
      " $ X2PA     : int  6952 6965 6668 7854 7215 7377 7197 7117 7375 7375 ...\n",
      " $ X3P      : int  13 162 70 36 83 57 27 104 88 25 ...\n",
      " $ X3PA     : int  75 422 275 187 255 219 121 379 314 114 ...\n",
      " $ FT       : int  2038 1907 2019 1702 1871 1590 1412 1782 1753 1671 ...\n",
      " $ FTA      : int  2645 2449 2592 2205 2539 2149 1914 2326 2333 2250 ...\n",
      " $ ORB      : int  1369 1227 1115 1307 1311 1226 1155 1394 1398 1187 ...\n",
      " $ DRB      : int  2406 2457 2465 2381 2524 2415 2437 2217 2326 2429 ...\n",
      " $ AST      : int  1913 2198 2152 2108 2079 1950 2028 2149 2148 2123 ...\n",
      " $ STL      : int  782 809 704 764 746 783 779 782 900 863 ...\n",
      " $ BLK      : int  539 308 392 342 404 562 339 373 530 356 ...\n",
      " $ TOV      : int  1495 1539 1684 1370 1533 1742 1492 1565 1517 1439 ...\n"
     ]
    }
   ],
   "source": [
    "str(NBA)"
   ]
  },
  {
   "cell_type": "code",
   "execution_count": null,
   "metadata": {},
   "outputs": [],
   "source": []
  }
 ],
 "metadata": {
  "kernelspec": {
   "display_name": "R",
   "language": "R",
   "name": "ir"
  },
  "language_info": {
   "codemirror_mode": "r",
   "file_extension": ".r",
   "mimetype": "text/x-r-source",
   "name": "R",
   "pygments_lexer": "r",
   "version": "3.6.3"
  }
 },
 "nbformat": 4,
 "nbformat_minor": 4
}
