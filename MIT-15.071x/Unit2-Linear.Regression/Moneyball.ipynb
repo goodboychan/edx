{
 "cells": [
  {
   "cell_type": "markdown",
   "metadata": {},
   "source": [
    "## Moneyball"
   ]
  },
  {
   "cell_type": "code",
   "execution_count": 3,
   "metadata": {},
   "outputs": [
    {
     "name": "stdout",
     "output_type": "stream",
     "text": [
      "'data.frame':\t1232 obs. of  15 variables:\n",
      " $ Team        : Factor w/ 39 levels \"ANA\",\"ARI\",\"ATL\",..: 2 3 4 5 7 8 9 10 11 12 ...\n",
      " $ League      : Factor w/ 2 levels \"AL\",\"NL\": 2 2 1 1 2 1 2 1 2 1 ...\n",
      " $ Year        : int  2012 2012 2012 2012 2012 2012 2012 2012 2012 2012 ...\n",
      " $ RS          : int  734 700 712 734 613 748 669 667 758 726 ...\n",
      " $ RA          : int  688 600 705 806 759 676 588 845 890 670 ...\n",
      " $ W           : int  81 94 93 69 61 85 97 68 64 88 ...\n",
      " $ OBP         : num  0.328 0.32 0.311 0.315 0.302 0.318 0.315 0.324 0.33 0.335 ...\n",
      " $ SLG         : num  0.418 0.389 0.417 0.415 0.378 0.422 0.411 0.381 0.436 0.422 ...\n",
      " $ BA          : num  0.259 0.247 0.247 0.26 0.24 0.255 0.251 0.251 0.274 0.268 ...\n",
      " $ Playoffs    : int  0 1 1 0 0 0 1 0 0 1 ...\n",
      " $ RankSeason  : int  NA 4 5 NA NA NA 2 NA NA 6 ...\n",
      " $ RankPlayoffs: int  NA 5 4 NA NA NA 4 NA NA 2 ...\n",
      " $ G           : int  162 162 162 162 162 162 162 162 162 162 ...\n",
      " $ OOBP        : num  0.317 0.306 0.315 0.331 0.335 0.319 0.305 0.336 0.357 0.314 ...\n",
      " $ OSLG        : num  0.415 0.378 0.403 0.428 0.424 0.405 0.39 0.43 0.47 0.402 ...\n"
     ]
    }
   ],
   "source": [
    "# Read Data\n",
    "baseball = read.csv('./dataset/baseball.csv')\n",
    "str(baseball)"
   ]
  },
  {
   "cell_type": "code",
   "execution_count": 5,
   "metadata": {},
   "outputs": [
    {
     "name": "stdout",
     "output_type": "stream",
     "text": [
      "'data.frame':\t902 obs. of  15 variables:\n",
      " $ Team        : Factor w/ 39 levels \"ANA\",\"ARI\",\"ATL\",..: 1 2 3 4 5 7 8 9 10 11 ...\n",
      " $ League      : Factor w/ 2 levels \"AL\",\"NL\": 1 2 2 1 1 2 1 2 1 2 ...\n",
      " $ Year        : int  2001 2001 2001 2001 2001 2001 2001 2001 2001 2001 ...\n",
      " $ RS          : int  691 818 729 687 772 777 798 735 897 923 ...\n",
      " $ RA          : int  730 677 643 829 745 701 795 850 821 906 ...\n",
      " $ W           : int  75 92 88 63 82 88 83 66 91 73 ...\n",
      " $ OBP         : num  0.327 0.341 0.324 0.319 0.334 0.336 0.334 0.324 0.35 0.354 ...\n",
      " $ SLG         : num  0.405 0.442 0.412 0.38 0.439 0.43 0.451 0.419 0.458 0.483 ...\n",
      " $ BA          : num  0.261 0.267 0.26 0.248 0.266 0.261 0.268 0.262 0.278 0.292 ...\n",
      " $ Playoffs    : int  0 1 1 0 0 0 0 0 1 0 ...\n",
      " $ RankSeason  : int  NA 5 7 NA NA NA NA NA 6 NA ...\n",
      " $ RankPlayoffs: int  NA 1 3 NA NA NA NA NA 4 NA ...\n",
      " $ G           : int  162 162 162 162 161 162 162 162 162 162 ...\n",
      " $ OOBP        : num  0.331 0.311 0.314 0.337 0.329 0.321 0.334 0.341 0.341 0.35 ...\n",
      " $ OSLG        : num  0.412 0.404 0.384 0.439 0.393 0.398 0.427 0.455 0.417 0.48 ...\n"
     ]
    }
   ],
   "source": [
    "moneyball = subset(baseball, Year < 2002)\n",
    "str(moneyball)"
   ]
  },
  {
   "cell_type": "code",
   "execution_count": 6,
   "metadata": {},
   "outputs": [
    {
     "name": "stdout",
     "output_type": "stream",
     "text": [
      "'data.frame':\t902 obs. of  16 variables:\n",
      " $ Team        : Factor w/ 39 levels \"ANA\",\"ARI\",\"ATL\",..: 1 2 3 4 5 7 8 9 10 11 ...\n",
      " $ League      : Factor w/ 2 levels \"AL\",\"NL\": 1 2 2 1 1 2 1 2 1 2 ...\n",
      " $ Year        : int  2001 2001 2001 2001 2001 2001 2001 2001 2001 2001 ...\n",
      " $ RS          : int  691 818 729 687 772 777 798 735 897 923 ...\n",
      " $ RA          : int  730 677 643 829 745 701 795 850 821 906 ...\n",
      " $ W           : int  75 92 88 63 82 88 83 66 91 73 ...\n",
      " $ OBP         : num  0.327 0.341 0.324 0.319 0.334 0.336 0.334 0.324 0.35 0.354 ...\n",
      " $ SLG         : num  0.405 0.442 0.412 0.38 0.439 0.43 0.451 0.419 0.458 0.483 ...\n",
      " $ BA          : num  0.261 0.267 0.26 0.248 0.266 0.261 0.268 0.262 0.278 0.292 ...\n",
      " $ Playoffs    : int  0 1 1 0 0 0 0 0 1 0 ...\n",
      " $ RankSeason  : int  NA 5 7 NA NA NA NA NA 6 NA ...\n",
      " $ RankPlayoffs: int  NA 1 3 NA NA NA NA NA 4 NA ...\n",
      " $ G           : int  162 162 162 162 161 162 162 162 162 162 ...\n",
      " $ OOBP        : num  0.331 0.311 0.314 0.337 0.329 0.321 0.334 0.341 0.341 0.35 ...\n",
      " $ OSLG        : num  0.412 0.404 0.384 0.439 0.393 0.398 0.427 0.455 0.417 0.48 ...\n",
      " $ RD          : int  -39 141 86 -142 27 76 3 -115 76 17 ...\n"
     ]
    }
   ],
   "source": [
    "# Create new variable to show difference between RS and RA\n",
    "moneyball$RD = moneyball$RS - moneyball$RA\n",
    "str(moneyball)"
   ]
  },
  {
   "cell_type": "code",
   "execution_count": 7,
   "metadata": {},
   "outputs": [
    {
     "data": {
      "image/png": "[encoded data removed]",
      "text/plain": [
       "plot without title"
      ]
     },
     "metadata": {
      "image/png": {
       "height": 420,
       "width": 420
      }
     },
     "output_type": "display_data"
    }
   ],
   "source": [
    "# Visualize linear relationship\n",
    "plot(moneyball$RD, moneyball$W)"
   ]
  },
  {
   "cell_type": "code",
   "execution_count": 8,
   "metadata": {},
   "outputs": [
    {
     "data": {
      "text/plain": [
       "\n",
       "Call:\n",
       "lm(formula = W ~ RD, data = moneyball)\n",
       "\n",
       "Residuals:\n",
       "     Min       1Q   Median       3Q      Max \n",
       "-14.2662  -2.6509   0.1234   2.9364  11.6570 \n",
       "\n",
       "Coefficients:\n",
       "             Estimate Std. Error t value Pr(>|t|)    \n",
       "(Intercept) 80.881375   0.131157  616.67   <2e-16 ***\n",
       "RD           0.105766   0.001297   81.55   <2e-16 ***\n",
       "---\n",
       "Signif. codes:  0 '***' 0.001 '**' 0.01 '*' 0.05 '.' 0.1 ' ' 1\n",
       "\n",
       "Residual standard error: 3.939 on 900 degrees of freedom\n",
       "Multiple R-squared:  0.8808,\tAdjusted R-squared:  0.8807 \n",
       "F-statistic:  6651 on 1 and 900 DF,  p-value: < 2.2e-16\n"
      ]
     },
     "metadata": {},
     "output_type": "display_data"
    }
   ],
   "source": [
    "# Create Linear Regression model\n",
    "WinsReg = lm(W ~ RD, data=moneyball)\n",
    "summary(WinsReg)"
   ]
  },
  {
   "cell_type": "code",
   "execution_count": null,
   "metadata": {},
   "outputs": [],
   "source": []
  }
 ],
 "metadata": {
  "kernelspec": {
   "display_name": "R",
   "language": "R",
   "name": "ir"
  },
  "language_info": {
   "codemirror_mode": "r",
   "file_extension": ".r",
   "mimetype": "text/x-r-source",
   "name": "R",
   "pygments_lexer": "r",
   "version": "3.6.3"
  }
 },
 "nbformat": 4,
 "nbformat_minor": 4
}
