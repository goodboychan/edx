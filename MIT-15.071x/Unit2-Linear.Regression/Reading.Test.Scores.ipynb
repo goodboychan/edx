{
 "cells": [
  {
   "cell_type": "markdown",
   "metadata": {},
   "source": [
    "The Programme for International Student Assessment (PISA) is a test given every three years to 15-year-old students from around the world to evaluate their performance in mathematics, reading, and science. This test provides a quantitative way to compare the performance of students from different parts of the world. In this homework assignment, we will predict the reading scores of students from the United States of America on the 2009 PISA exam.\n",
    "\n",
    "The datasets pisa2009train.csv and pisa2009test.csv contain information about the demographics and schools for American students taking the exam, derived from 2009 PISA Public-Use Data Files distributed by the United States National Center for Education Statistics (NCES). While the datasets are not supposed to contain identifying information about students taking the test, by using the data you are bound by the NCES data use agreement, which prohibits any attempt to determine the identity of any student in the datasets."
   ]
  },
  {
   "cell_type": "markdown",
   "metadata": {},
   "source": [
    "Each row in the datasets pisa2009train.csv and pisa2009test.csv represents one student taking the exam. The datasets have the following variables:\n",
    "\n",
    "- grade: The grade in school of the student (most 15-year-olds in America are in 10th grade)\n",
    "\n",
    "- male: Whether the student is male (1/0)\n",
    "\n",
    "- raceeth: The race/ethnicity composite of the student\n",
    "\n",
    "- preschool: Whether the student attended preschool (1/0)\n",
    "\n",
    "- expectBachelors: Whether the student expects to obtain a bachelor's degree (1/0)\n",
    "\n",
    "- motherHS: Whether the student's mother completed high school (1/0)\n",
    "\n",
    "- motherBachelors: Whether the student's mother obtained a bachelor's degree (1/0)\n",
    "\n",
    "- motherWork: Whether the student's mother has part-time or full-time work (1/0)\n",
    "\n",
    "- fatherHS: Whether the student's father completed high school (1/0)\n",
    "\n",
    "- fatherBachelors: Whether the student's father obtained a bachelor's degree (1/0)\n",
    "\n",
    "- fatherWork: Whether the student's father has part-time or full-time work (1/0)\n",
    "\n",
    "- selfBornUS: Whether the student was born in the United States of America (1/0)\n",
    "\n",
    "- motherBornUS: Whether the student's mother was born in the United States of America (1/0)\n",
    "\n",
    "- fatherBornUS: Whether the student's father was born in the United States of America (1/0)\n",
    "\n",
    "- englishAtHome: Whether the student speaks English at home (1/0)\n",
    "\n",
    "- computerForSchoolwork: Whether the student has access to a computer for schoolwork (1/0)\n",
    "\n",
    "- read30MinsADay: Whether the student reads for pleasure for 30 minutes/day (1/0)\n",
    "\n",
    "- minutesPerWeekEnglish: The number of minutes per week the student spend in English class\n",
    "\n",
    "- studentsInEnglish: The number of students in this student's English class at school\n",
    "\n",
    "- schoolHasLibrary: Whether this student's school has a library (1/0)\n",
    "\n",
    "- publicSchool: Whether this student attends a public school (1/0)\n",
    "\n",
    "- urban: Whether this student's school is in an urban area (1/0)\n",
    "\n",
    "- schoolSize: The number of students in this student's school\n",
    "\n",
    "- readingScore: The student's reading score, on a 1000-point scale"
   ]
  },
  {
   "cell_type": "markdown",
   "metadata": {},
   "source": [
    "Load the training and testing sets using the read.csv() function, and save them as variables with the names pisaTrain and pisaTest.\n",
    "\n",
    "How many students are there in the training set?"
   ]
  },
  {
   "cell_type": "code",
   "execution_count": 1,
   "metadata": {},
   "outputs": [],
   "source": [
    "pisaTrain = read.csv('./dataset/pisa2009train.csv')\n",
    "pisaTest = read.csv('./dataset/pisa2009test.csv')"
   ]
  },
  {
   "cell_type": "code",
   "execution_count": 2,
   "metadata": {},
   "outputs": [
    {
     "name": "stdout",
     "output_type": "stream",
     "text": [
      "'data.frame':\t3663 obs. of  24 variables:\n",
      " $ grade                : int  11 11 9 10 10 10 10 10 9 10 ...\n",
      " $ male                 : int  1 1 1 0 1 1 0 0 0 1 ...\n",
      " $ raceeth              : Factor w/ 7 levels \"American Indian/Alaska Native\",..: NA 7 7 3 4 3 2 7 7 5 ...\n",
      " $ preschool            : int  NA 0 1 1 1 1 0 1 1 1 ...\n",
      " $ expectBachelors      : int  0 0 1 1 0 1 1 1 0 1 ...\n",
      " $ motherHS             : int  NA 1 1 0 1 NA 1 1 1 1 ...\n",
      " $ motherBachelors      : int  NA 1 1 0 0 NA 0 0 NA 1 ...\n",
      " $ motherWork           : int  1 1 1 1 1 1 1 0 1 1 ...\n",
      " $ fatherHS             : int  NA 1 1 1 1 1 NA 1 0 0 ...\n",
      " $ fatherBachelors      : int  NA 0 NA 0 0 0 NA 0 NA 0 ...\n",
      " $ fatherWork           : int  1 1 1 1 0 1 NA 1 1 1 ...\n",
      " $ selfBornUS           : int  1 1 1 1 1 1 0 1 1 1 ...\n",
      " $ motherBornUS         : int  0 1 1 1 1 1 1 1 1 1 ...\n",
      " $ fatherBornUS         : int  0 1 1 1 0 1 NA 1 1 1 ...\n",
      " $ englishAtHome        : int  0 1 1 1 1 1 1 1 1 1 ...\n",
      " $ computerForSchoolwork: int  1 1 1 1 1 1 1 1 1 1 ...\n",
      " $ read30MinsADay       : int  0 1 0 1 1 0 0 1 0 0 ...\n",
      " $ minutesPerWeekEnglish: int  225 450 250 200 250 300 250 300 378 294 ...\n",
      " $ studentsInEnglish    : int  NA 25 28 23 35 20 28 30 20 24 ...\n",
      " $ schoolHasLibrary     : int  1 1 1 1 1 1 1 1 0 1 ...\n",
      " $ publicSchool         : int  1 1 1 1 1 1 1 1 1 1 ...\n",
      " $ urban                : int  1 0 0 1 1 0 1 0 1 0 ...\n",
      " $ schoolSize           : int  673 1173 1233 2640 1095 227 2080 1913 502 899 ...\n",
      " $ readingScore         : num  476 575 555 458 614 ...\n"
     ]
    }
   ],
   "source": [
    "str(pisaTrain)"
   ]
  },
  {
   "cell_type": "markdown",
   "metadata": {},
   "source": [
    "Using tapply() on pisaTrain, what is the average reading test score of males? of females?"
   ]
  },
  {
   "cell_type": "code",
   "execution_count": 6,
   "metadata": {},
   "outputs": [
    {
     "data": {
      "text/html": [
       "<style>\n",
       ".dl-inline {width: auto; margin:0; padding: 0}\n",
       ".dl-inline>dt, .dl-inline>dd {float: none; width: auto; display: inline-block}\n",
       ".dl-inline>dt::after {content: \":\\0020\"; padding-right: .5ex}\n",
       ".dl-inline>dt:not(:first-of-type) {padding-left: .5ex}\n",
       "</style><dl class=dl-inline><dt>0</dt><dd>512.94063093244</dd><dt>1</dt><dd>483.532478632479</dd></dl>\n"
      ],
      "text/latex": [
       "\\begin{description*}\n",
       "\\item[0] 512.94063093244\n",
       "\\item[1] 483.532478632479\n",
       "\\end{description*}\n"
      ],
      "text/markdown": [
       "0\n",
       ":   512.940630932441\n",
       ":   483.532478632479\n",
       "\n"
      ],
      "text/plain": [
       "       0        1 \n",
       "512.9406 483.5325 "
      ]
     },
     "metadata": {},
     "output_type": "display_data"
    }
   ],
   "source": [
    "tapply(pisaTrain$readingScore, pisaTrain$male, mean)"
   ]
  },
  {
   "cell_type": "markdown",
   "metadata": {},
   "source": [
    "Which variables are missing data in at least one observation in the training set? Select all that apply."
   ]
  },
  {
   "cell_type": "code",
   "execution_count": 7,
   "metadata": {},
   "outputs": [
    {
     "data": {
      "text/plain": [
       "     grade            male                      raceeth       preschool     \n",
       " Min.   : 8.00   Min.   :0.0000   White             :2015   Min.   :0.0000  \n",
       " 1st Qu.:10.00   1st Qu.:0.0000   Hispanic          : 834   1st Qu.:0.0000  \n",
       " Median :10.00   Median :1.0000   Black             : 444   Median :1.0000  \n",
       " Mean   :10.09   Mean   :0.5111   Asian             : 143   Mean   :0.7228  \n",
       " 3rd Qu.:10.00   3rd Qu.:1.0000   More than one race: 124   3rd Qu.:1.0000  \n",
       " Max.   :12.00   Max.   :1.0000   (Other)           :  68   Max.   :1.0000  \n",
       "                                  NA's              :  35   NA's   :56      \n",
       " expectBachelors     motherHS    motherBachelors    motherWork    \n",
       " Min.   :0.0000   Min.   :0.00   Min.   :0.0000   Min.   :0.0000  \n",
       " 1st Qu.:1.0000   1st Qu.:1.00   1st Qu.:0.0000   1st Qu.:0.0000  \n",
       " Median :1.0000   Median :1.00   Median :0.0000   Median :1.0000  \n",
       " Mean   :0.7859   Mean   :0.88   Mean   :0.3481   Mean   :0.7345  \n",
       " 3rd Qu.:1.0000   3rd Qu.:1.00   3rd Qu.:1.0000   3rd Qu.:1.0000  \n",
       " Max.   :1.0000   Max.   :1.00   Max.   :1.0000   Max.   :1.0000  \n",
       " NA's   :62       NA's   :97     NA's   :397      NA's   :93      \n",
       "    fatherHS      fatherBachelors    fatherWork       selfBornUS    \n",
       " Min.   :0.0000   Min.   :0.0000   Min.   :0.0000   Min.   :0.0000  \n",
       " 1st Qu.:1.0000   1st Qu.:0.0000   1st Qu.:1.0000   1st Qu.:1.0000  \n",
       " Median :1.0000   Median :0.0000   Median :1.0000   Median :1.0000  \n",
       " Mean   :0.8593   Mean   :0.3319   Mean   :0.8531   Mean   :0.9313  \n",
       " 3rd Qu.:1.0000   3rd Qu.:1.0000   3rd Qu.:1.0000   3rd Qu.:1.0000  \n",
       " Max.   :1.0000   Max.   :1.0000   Max.   :1.0000   Max.   :1.0000  \n",
       " NA's   :245      NA's   :569      NA's   :233      NA's   :69      \n",
       "  motherBornUS     fatherBornUS    englishAtHome    computerForSchoolwork\n",
       " Min.   :0.0000   Min.   :0.0000   Min.   :0.0000   Min.   :0.0000       \n",
       " 1st Qu.:1.0000   1st Qu.:1.0000   1st Qu.:1.0000   1st Qu.:1.0000       \n",
       " Median :1.0000   Median :1.0000   Median :1.0000   Median :1.0000       \n",
       " Mean   :0.7725   Mean   :0.7668   Mean   :0.8717   Mean   :0.8994       \n",
       " 3rd Qu.:1.0000   3rd Qu.:1.0000   3rd Qu.:1.0000   3rd Qu.:1.0000       \n",
       " Max.   :1.0000   Max.   :1.0000   Max.   :1.0000   Max.   :1.0000       \n",
       " NA's   :71       NA's   :113      NA's   :71       NA's   :65           \n",
       " read30MinsADay   minutesPerWeekEnglish studentsInEnglish schoolHasLibrary\n",
       " Min.   :0.0000   Min.   :   0.0        Min.   : 1.0      Min.   :0.0000  \n",
       " 1st Qu.:0.0000   1st Qu.: 225.0        1st Qu.:20.0      1st Qu.:1.0000  \n",
       " Median :0.0000   Median : 250.0        Median :25.0      Median :1.0000  \n",
       " Mean   :0.2899   Mean   : 266.2        Mean   :24.5      Mean   :0.9676  \n",
       " 3rd Qu.:1.0000   3rd Qu.: 300.0        3rd Qu.:30.0      3rd Qu.:1.0000  \n",
       " Max.   :1.0000   Max.   :2400.0        Max.   :75.0      Max.   :1.0000  \n",
       " NA's   :34       NA's   :186           NA's   :249       NA's   :143     \n",
       "  publicSchool        urban          schoolSize    readingScore  \n",
       " Min.   :0.0000   Min.   :0.0000   Min.   : 100   Min.   :168.6  \n",
       " 1st Qu.:1.0000   1st Qu.:0.0000   1st Qu.: 712   1st Qu.:431.7  \n",
       " Median :1.0000   Median :0.0000   Median :1212   Median :499.7  \n",
       " Mean   :0.9339   Mean   :0.3849   Mean   :1369   Mean   :497.9  \n",
       " 3rd Qu.:1.0000   3rd Qu.:1.0000   3rd Qu.:1900   3rd Qu.:566.2  \n",
       " Max.   :1.0000   Max.   :1.0000   Max.   :6694   Max.   :746.0  \n",
       "                                   NA's   :162                   "
      ]
     },
     "metadata": {},
     "output_type": "display_data"
    }
   ],
   "source": [
    "summary(pisaTrain)"
   ]
  },
  {
   "cell_type": "markdown",
   "metadata": {},
   "source": [
    "Linear regression discards observations with missing data, so we will remove all such observations from the training and testing sets. Later in the course, we will learn about imputation, which deals with missing data by filling in missing values with plausible information.\n",
    "\n",
    "Type the following commands into your R console to remove observations with any missing value from pisaTrain and pisaTest:\n",
    "```R\n",
    "pisaTrain = na.omit(pisaTrain)\n",
    "\n",
    "pisaTest = na.omit(pisaTest)\n",
    "```\n",
    "How many observations are now in the training set?\n",
    "How many observations are now in the testing set?"
   ]
  },
  {
   "cell_type": "code",
   "execution_count": 8,
   "metadata": {},
   "outputs": [],
   "source": [
    "pisaTrain = na.omit(pisaTrain)\n",
    "pisaTest = na.omit(pisaTest)"
   ]
  },
  {
   "cell_type": "code",
   "execution_count": 9,
   "metadata": {},
   "outputs": [
    {
     "data": {
      "text/html": [
       "2414"
      ],
      "text/latex": [
       "2414"
      ],
      "text/markdown": [
       "2414"
      ],
      "text/plain": [
       "[1] 2414"
      ]
     },
     "metadata": {},
     "output_type": "display_data"
    },
    {
     "data": {
      "text/html": [
       "990"
      ],
      "text/latex": [
       "990"
      ],
      "text/markdown": [
       "990"
      ],
      "text/plain": [
       "[1] 990"
      ]
     },
     "metadata": {},
     "output_type": "display_data"
    }
   ],
   "source": [
    "nrow(pisaTrain)\n",
    "nrow(pisaTest)"
   ]
  },
  {
   "cell_type": "markdown",
   "metadata": {},
   "source": [
    "Because the race variable takes on text values, it was loaded as a factor variable when we read in the dataset with read.csv() -- you can see this when you run str(pisaTrain) or str(pisaTest). However, by default R selects the first level alphabetically (\"American Indian/Alaska Native\") as the reference level of our factor instead of the most common level (\"White\"). Set the reference level of the factor by typing the following two lines in your R console:\n",
    "\n",
    "```R\n",
    "pisaTrain$raceeth = relevel(pisaTrain$raceeth, \"White\")\n",
    "\n",
    "pisaTest$raceeth = relevel(pisaTest$raceeth, \"White\")\n",
    "```\n",
    "Now, build a linear regression model (call it lmScore) using the training set to predict readingScore using all the remaining variables.\n",
    "\n",
    "It would be time-consuming to type all the variables, but R provides the shorthand notation \"readingScore ~ .\" to mean \"predict readingScore using all the other variables in the data frame.\" The period is used to replace listing out all of the independent variables. As an example, if your dependent variable is called \"Y\", your independent variables are called \"X1\", \"X2\", and \"X3\", and your training data set is called \"Train\", instead of the regular notation:\n",
    "```R\n",
    "LinReg = lm(Y ~ X1 + X2 + X3, data = Train)\n",
    "```\n",
    "You would use the following command to build your model:\n",
    "```R\n",
    "LinReg = lm(Y ~ ., data = Train)\n",
    "```\n",
    "What is the Multiple R-squared value of lmScore on the training set?"
   ]
  },
  {
   "cell_type": "code",
   "execution_count": 10,
   "metadata": {},
   "outputs": [],
   "source": [
    "pisaTrain$raceeth = relevel(pisaTrain$raceeth, \"White\")\n",
    "pisaTest$raceeth = relevel(pisaTest$raceeth, \"White\")"
   ]
  },
  {
   "cell_type": "code",
   "execution_count": 11,
   "metadata": {},
   "outputs": [
    {
     "name": "stdout",
     "output_type": "stream",
     "text": [
      "'data.frame':\t2414 obs. of  24 variables:\n",
      " $ grade                : int  11 10 10 10 10 10 10 10 11 9 ...\n",
      " $ male                 : int  1 0 1 0 1 0 0 0 1 1 ...\n",
      " $ raceeth              : Factor w/ 7 levels \"White\",\"American Indian/Alaska Native\",..: 1 4 5 1 6 5 1 5 1 1 ...\n",
      " $ preschool            : int  0 1 1 1 1 1 1 1 1 1 ...\n",
      " $ expectBachelors      : int  0 1 0 1 1 1 1 0 1 1 ...\n",
      " $ motherHS             : int  1 0 1 1 1 1 1 0 1 1 ...\n",
      " $ motherBachelors      : int  1 0 0 0 1 0 0 0 0 1 ...\n",
      " $ motherWork           : int  1 1 1 0 1 1 1 0 0 1 ...\n",
      " $ fatherHS             : int  1 1 1 1 0 1 1 0 1 1 ...\n",
      " $ fatherBachelors      : int  0 0 0 0 0 0 1 0 1 1 ...\n",
      " $ fatherWork           : int  1 1 0 1 1 0 1 1 1 1 ...\n",
      " $ selfBornUS           : int  1 1 1 1 1 0 1 0 1 1 ...\n",
      " $ motherBornUS         : int  1 1 1 1 1 0 1 0 1 1 ...\n",
      " $ fatherBornUS         : int  1 1 0 1 1 0 1 0 1 1 ...\n",
      " $ englishAtHome        : int  1 1 1 1 1 0 1 0 1 1 ...\n",
      " $ computerForSchoolwork: int  1 1 1 1 1 0 1 1 1 1 ...\n",
      " $ read30MinsADay       : int  1 1 1 1 0 1 1 1 0 0 ...\n",
      " $ minutesPerWeekEnglish: int  450 200 250 300 294 232 225 270 275 225 ...\n",
      " $ studentsInEnglish    : int  25 23 35 30 24 14 20 25 30 15 ...\n",
      " $ schoolHasLibrary     : int  1 1 1 1 1 1 1 1 1 1 ...\n",
      " $ publicSchool         : int  1 1 1 1 1 1 1 1 1 0 ...\n",
      " $ urban                : int  0 1 1 0 0 0 0 1 1 1 ...\n",
      " $ schoolSize           : int  1173 2640 1095 1913 899 1733 149 1400 1988 915 ...\n",
      " $ readingScore         : num  575 458 614 439 466 ...\n",
      " - attr(*, \"na.action\")= 'omit' Named int  1 3 6 7 9 11 13 21 29 30 ...\n",
      "  ..- attr(*, \"names\")= chr  \"1\" \"3\" \"6\" \"7\" ...\n"
     ]
    }
   ],
   "source": [
    "str(pisaTrain)"
   ]
  },
  {
   "cell_type": "code",
   "execution_count": 12,
   "metadata": {},
   "outputs": [
    {
     "data": {
      "text/plain": [
       "\n",
       "Call:\n",
       "lm(formula = readingScore ~ ., data = pisaTrain)\n",
       "\n",
       "Residuals:\n",
       "    Min      1Q  Median      3Q     Max \n",
       "-247.44  -48.86    1.86   49.77  217.18 \n",
       "\n",
       "Coefficients:\n",
       "                                                Estimate Std. Error t value\n",
       "(Intercept)                                   143.766333  33.841226   4.248\n",
       "grade                                          29.542707   2.937399  10.057\n",
       "male                                          -14.521653   3.155926  -4.601\n",
       "raceethAmerican Indian/Alaska Native          -67.277327  16.786935  -4.008\n",
       "raceethAsian                                   -4.110325   9.220071  -0.446\n",
       "raceethBlack                                  -67.012347   5.460883 -12.271\n",
       "raceethHispanic                               -38.975486   5.177743  -7.528\n",
       "raceethMore than one race                     -16.922522   8.496268  -1.992\n",
       "raceethNative Hawaiian/Other Pacific Islander  -5.101601  17.005696  -0.300\n",
       "preschool                                      -4.463670   3.486055  -1.280\n",
       "expectBachelors                                55.267080   4.293893  12.871\n",
       "motherHS                                        6.058774   6.091423   0.995\n",
       "motherBachelors                                12.638068   3.861457   3.273\n",
       "motherWork                                     -2.809101   3.521827  -0.798\n",
       "fatherHS                                        4.018214   5.579269   0.720\n",
       "fatherBachelors                                16.929755   3.995253   4.237\n",
       "fatherWork                                      5.842798   4.395978   1.329\n",
       "selfBornUS                                     -3.806278   7.323718  -0.520\n",
       "motherBornUS                                   -8.798153   6.587621  -1.336\n",
       "fatherBornUS                                    4.306994   6.263875   0.688\n",
       "englishAtHome                                   8.035685   6.859492   1.171\n",
       "computerForSchoolwork                          22.500232   5.702562   3.946\n",
       "read30MinsADay                                 34.871924   3.408447  10.231\n",
       "minutesPerWeekEnglish                           0.012788   0.010712   1.194\n",
       "studentsInEnglish                              -0.286631   0.227819  -1.258\n",
       "schoolHasLibrary                               12.215085   9.264884   1.318\n",
       "publicSchool                                  -16.857475   6.725614  -2.506\n",
       "urban                                          -0.110132   3.962724  -0.028\n",
       "schoolSize                                      0.006540   0.002197   2.977\n",
       "                                              Pr(>|t|)    \n",
       "(Intercept)                                   2.24e-05 ***\n",
       "grade                                          < 2e-16 ***\n",
       "male                                          4.42e-06 ***\n",
       "raceethAmerican Indian/Alaska Native          6.32e-05 ***\n",
       "raceethAsian                                   0.65578    \n",
       "raceethBlack                                   < 2e-16 ***\n",
       "raceethHispanic                               7.29e-14 ***\n",
       "raceethMore than one race                      0.04651 *  \n",
       "raceethNative Hawaiian/Other Pacific Islander  0.76421    \n",
       "preschool                                      0.20052    \n",
       "expectBachelors                                < 2e-16 ***\n",
       "motherHS                                       0.32001    \n",
       "motherBachelors                                0.00108 ** \n",
       "motherWork                                     0.42517    \n",
       "fatherHS                                       0.47147    \n",
       "fatherBachelors                               2.35e-05 ***\n",
       "fatherWork                                     0.18393    \n",
       "selfBornUS                                     0.60331    \n",
       "motherBornUS                                   0.18182    \n",
       "fatherBornUS                                   0.49178    \n",
       "englishAtHome                                  0.24153    \n",
       "computerForSchoolwork                         8.19e-05 ***\n",
       "read30MinsADay                                 < 2e-16 ***\n",
       "minutesPerWeekEnglish                          0.23264    \n",
       "studentsInEnglish                              0.20846    \n",
       "schoolHasLibrary                               0.18749    \n",
       "publicSchool                                   0.01226 *  \n",
       "urban                                          0.97783    \n",
       "schoolSize                                     0.00294 ** \n",
       "---\n",
       "Signif. codes:  0 '***' 0.001 '**' 0.01 '*' 0.05 '.' 0.1 ' ' 1\n",
       "\n",
       "Residual standard error: 73.81 on 2385 degrees of freedom\n",
       "Multiple R-squared:  0.3251,\tAdjusted R-squared:  0.3172 \n",
       "F-statistic: 41.04 on 28 and 2385 DF,  p-value: < 2.2e-16\n"
      ]
     },
     "metadata": {},
     "output_type": "display_data"
    }
   ],
   "source": [
    "lmScore = lm(readingScore ~ ., data=pisaTrain)\n",
    "summary(lmScore)"
   ]
  },
  {
   "cell_type": "code",
   "execution_count": 18,
   "metadata": {},
   "outputs": [
    {
     "data": {
      "text/html": [
       "12993364.9868771"
      ],
      "text/latex": [
       "12993364.9868771"
      ],
      "text/markdown": [
       "12993364.9868771"
      ],
      "text/plain": [
       "[1] 12993365"
      ]
     },
     "metadata": {},
     "output_type": "display_data"
    },
    {
     "data": {
      "text/html": [
       "73.3655514329846"
      ],
      "text/latex": [
       "73.3655514329846"
      ],
      "text/markdown": [
       "73.3655514329846"
      ],
      "text/plain": [
       "[1] 73.36555"
      ]
     },
     "metadata": {},
     "output_type": "display_data"
    }
   ],
   "source": [
    "SSE = sum(lmScore$residuals^2)\n",
    "SSE\n",
    "RMSE = sqrt(SSE / nrow(pisaTrain))\n",
    "RMSE"
   ]
  },
  {
   "cell_type": "markdown",
   "metadata": {},
   "source": [
    "### Predicting on unseen data"
   ]
  },
  {
   "cell_type": "code",
   "execution_count": 19,
   "metadata": {},
   "outputs": [
    {
     "data": {
      "text/plain": [
       "   Min. 1st Qu.  Median    Mean 3rd Qu.    Max. \n",
       "  353.2   482.0   524.0   516.7   555.7   637.7 "
      ]
     },
     "metadata": {},
     "output_type": "display_data"
    }
   ],
   "source": [
    "predTest = predict(lmScore, newdata = pisaTest)\n",
    "summary(predTest)"
   ]
  },
  {
   "cell_type": "code",
   "execution_count": 21,
   "metadata": {},
   "outputs": [
    {
     "data": {
      "text/html": [
       "284.5"
      ],
      "text/latex": [
       "284.5"
      ],
      "text/markdown": [
       "284.5"
      ],
      "text/plain": [
       "[1] 284.5"
      ]
     },
     "metadata": {},
     "output_type": "display_data"
    }
   ],
   "source": [
    "637.7 - 353.2"
   ]
  },
  {
   "cell_type": "markdown",
   "metadata": {},
   "source": [
    "### Test set SSE and RMSE"
   ]
  },
  {
   "cell_type": "code",
   "execution_count": 23,
   "metadata": {},
   "outputs": [
    {
     "data": {
      "text/html": [
       "5762082.3711444"
      ],
      "text/latex": [
       "5762082.3711444"
      ],
      "text/markdown": [
       "5762082.3711444"
      ],
      "text/plain": [
       "[1] 5762082"
      ]
     },
     "metadata": {},
     "output_type": "display_data"
    },
    {
     "data": {
      "text/html": [
       "76.290793831092"
      ],
      "text/latex": [
       "76.290793831092"
      ],
      "text/markdown": [
       "76.290793831092"
      ],
      "text/plain": [
       "[1] 76.29079"
      ]
     },
     "metadata": {},
     "output_type": "display_data"
    }
   ],
   "source": [
    "# Out-of-sample error\n",
    "SSE = sum((predTest - pisaTest$readingScore)^2)\n",
    "SSE\n",
    "RMSE = sqrt(SSE / nrow(pisaTest))\n",
    "RMSE"
   ]
  },
  {
   "cell_type": "markdown",
   "metadata": {},
   "source": [
    "### Baseline prediction and test-set SSE"
   ]
  },
  {
   "cell_type": "code",
   "execution_count": 24,
   "metadata": {},
   "outputs": [
    {
     "data": {
      "text/html": [
       "517.962887323944"
      ],
      "text/latex": [
       "517.962887323944"
      ],
      "text/markdown": [
       "517.962887323944"
      ],
      "text/plain": [
       "[1] 517.9629"
      ]
     },
     "metadata": {},
     "output_type": "display_data"
    },
    {
     "data": {
      "text/html": [
       "7802354.07761384"
      ],
      "text/latex": [
       "7802354.07761384"
      ],
      "text/markdown": [
       "7802354.07761384"
      ],
      "text/plain": [
       "[1] 7802354"
      ]
     },
     "metadata": {},
     "output_type": "display_data"
    }
   ],
   "source": [
    "mean(pisaTrain$readingScore)\n",
    "\n",
    "SST = sum((mean(pisaTrain$readingScore) - pisaTest$readingScore)^2)\n",
    "SST"
   ]
  },
  {
   "cell_type": "markdown",
   "metadata": {},
   "source": [
    "### Test-set R-squared"
   ]
  },
  {
   "cell_type": "code",
   "execution_count": 26,
   "metadata": {},
   "outputs": [
    {
     "data": {
      "text/html": [
       "0.261494375437702"
      ],
      "text/latex": [
       "0.261494375437702"
      ],
      "text/markdown": [
       "0.261494375437702"
      ],
      "text/plain": [
       "[1] 0.2614944"
      ]
     },
     "metadata": {},
     "output_type": "display_data"
    }
   ],
   "source": [
    "R_squared = 1 - SSE / SST\n",
    "R_squared"
   ]
  }
 ],
 "metadata": {
  "kernelspec": {
   "display_name": "R",
   "language": "R",
   "name": "ir"
  },
  "language_info": {
   "codemirror_mode": "r",
   "file_extension": ".r",
   "mimetype": "text/x-r-source",
   "name": "R",
   "pygments_lexer": "r",
   "version": "3.6.3"
  }
 },
 "nbformat": 4,
 "nbformat_minor": 4
}
