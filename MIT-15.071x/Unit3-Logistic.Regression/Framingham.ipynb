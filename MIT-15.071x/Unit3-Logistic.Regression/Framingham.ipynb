{
 "cells": [
  {
   "cell_type": "markdown",
   "metadata": {},
   "source": [
    "In this video, we'll use the dataset framingham.csv to build a logistic regression model. Please download this dataset to follow along. This data comes from the [BioLINCC](https://biolincc.nhlbi.nih.gov/media/teachingstudies/framdoc.pdf) website."
   ]
  },
  {
   "cell_type": "markdown",
   "metadata": {},
   "source": [
    "### A Logistic Regression Model"
   ]
  },
  {
   "cell_type": "code",
   "execution_count": 1,
   "metadata": {},
   "outputs": [],
   "source": [
    "framingham = read.csv('./dataset/framingham.csv')"
   ]
  },
  {
   "cell_type": "code",
   "execution_count": 2,
   "metadata": {},
   "outputs": [
    {
     "name": "stdout",
     "output_type": "stream",
     "text": [
      "'data.frame':\t4240 obs. of  16 variables:\n",
      " $ male           : int  1 0 1 0 0 0 0 0 1 1 ...\n",
      " $ age            : int  39 46 48 61 46 43 63 45 52 43 ...\n",
      " $ education      : int  4 2 1 3 3 2 1 2 1 1 ...\n",
      " $ currentSmoker  : int  0 0 1 1 1 0 0 1 0 1 ...\n",
      " $ cigsPerDay     : int  0 0 20 30 23 0 0 20 0 30 ...\n",
      " $ BPMeds         : int  0 0 0 0 0 0 0 0 0 0 ...\n",
      " $ prevalentStroke: int  0 0 0 0 0 0 0 0 0 0 ...\n",
      " $ prevalentHyp   : int  0 0 0 1 0 1 0 0 1 1 ...\n",
      " $ diabetes       : int  0 0 0 0 0 0 0 0 0 0 ...\n",
      " $ totChol        : int  195 250 245 225 285 228 205 313 260 225 ...\n",
      " $ sysBP          : num  106 121 128 150 130 ...\n",
      " $ diaBP          : num  70 81 80 95 84 110 71 71 89 107 ...\n",
      " $ BMI            : num  27 28.7 25.3 28.6 23.1 ...\n",
      " $ heartRate      : int  80 95 75 65 85 77 60 79 76 93 ...\n",
      " $ glucose        : int  77 76 70 103 85 99 85 78 79 88 ...\n",
      " $ TenYearCHD     : int  0 0 0 1 0 0 1 0 0 0 ...\n"
     ]
    }
   ],
   "source": [
    "str(framingham)"
   ]
  },
  {
   "cell_type": "code",
   "execution_count": 3,
   "metadata": {},
   "outputs": [],
   "source": [
    "library('caTools')"
   ]
  },
  {
   "cell_type": "code",
   "execution_count": 4,
   "metadata": {},
   "outputs": [],
   "source": [
    "set.seed(1000)"
   ]
  },
  {
   "cell_type": "code",
   "execution_count": 5,
   "metadata": {},
   "outputs": [],
   "source": [
    "split = sample.split(framingham$TenYearCHD, SplitRatio = 0.65)"
   ]
  },
  {
   "cell_type": "code",
   "execution_count": 6,
   "metadata": {},
   "outputs": [],
   "source": [
    "train = subset(framingham, split == TRUE)\n",
    "test = subset(framingham, split == FALSE)"
   ]
  },
  {
   "cell_type": "code",
   "execution_count": 7,
   "metadata": {},
   "outputs": [
    {
     "data": {
      "text/plain": [
       "\n",
       "Call:\n",
       "glm(formula = TenYearCHD ~ ., family = binomial, data = train)\n",
       "\n",
       "Deviance Residuals: \n",
       "    Min       1Q   Median       3Q      Max  \n",
       "-1.8487  -0.6007  -0.4257  -0.2842   2.8369  \n",
       "\n",
       "Coefficients:\n",
       "                 Estimate Std. Error z value Pr(>|z|)    \n",
       "(Intercept)     -7.886574   0.890729  -8.854  < 2e-16 ***\n",
       "male             0.528457   0.135443   3.902 9.55e-05 ***\n",
       "age              0.062055   0.008343   7.438 1.02e-13 ***\n",
       "education       -0.058923   0.062430  -0.944  0.34525    \n",
       "currentSmoker    0.093240   0.194008   0.481  0.63080    \n",
       "cigsPerDay       0.015008   0.007826   1.918  0.05514 .  \n",
       "BPMeds           0.311221   0.287408   1.083  0.27887    \n",
       "prevalentStroke  1.165794   0.571215   2.041  0.04126 *  \n",
       "prevalentHyp     0.315818   0.171765   1.839  0.06596 .  \n",
       "diabetes        -0.421494   0.407990  -1.033  0.30156    \n",
       "totChol          0.003835   0.001377   2.786  0.00533 ** \n",
       "sysBP            0.011344   0.004566   2.485  0.01297 *  \n",
       "diaBP           -0.004740   0.008001  -0.592  0.55353    \n",
       "BMI              0.010723   0.016157   0.664  0.50689    \n",
       "heartRate       -0.008099   0.005313  -1.524  0.12739    \n",
       "glucose          0.008935   0.002836   3.150  0.00163 ** \n",
       "---\n",
       "Signif. codes:  0 '***' 0.001 '**' 0.01 '*' 0.05 '.' 0.1 ' ' 1\n",
       "\n",
       "(Dispersion parameter for binomial family taken to be 1)\n",
       "\n",
       "    Null deviance: 2020.7  on 2384  degrees of freedom\n",
       "Residual deviance: 1792.3  on 2369  degrees of freedom\n",
       "  (371 observations deleted due to missingness)\n",
       "AIC: 1824.3\n",
       "\n",
       "Number of Fisher Scoring iterations: 5\n"
      ]
     },
     "metadata": {},
     "output_type": "display_data"
    }
   ],
   "source": [
    "framinghamLog = glm(TenYearCHD ~ ., data=train, family=binomial)\n",
    "summary(framinghamLog)"
   ]
  },
  {
   "cell_type": "code",
   "execution_count": 8,
   "metadata": {},
   "outputs": [],
   "source": [
    "predictTest = predict(framinghamLog, type='response', newdata=test)"
   ]
  },
  {
   "cell_type": "code",
   "execution_count": 9,
   "metadata": {},
   "outputs": [
    {
     "data": {
      "text/plain": [
       "   \n",
       "    FALSE TRUE\n",
       "  0  1069    6\n",
       "  1   187   11"
      ]
     },
     "metadata": {},
     "output_type": "display_data"
    }
   ],
   "source": [
    "table(test$TenYearCHD, predictTest > 0.5)"
   ]
  },
  {
   "cell_type": "code",
   "execution_count": 10,
   "metadata": {},
   "outputs": [
    {
     "data": {
      "text/html": [
       "0.848389630793401"
      ],
      "text/latex": [
       "0.848389630793401"
      ],
      "text/markdown": [
       "0.848389630793401"
      ],
      "text/plain": [
       "[1] 0.8483896"
      ]
     },
     "metadata": {},
     "output_type": "display_data"
    }
   ],
   "source": [
    "accuracy = (1069 + 11) / (1069 + 6 + 187 + 11)\n",
    "accuracy"
   ]
  },
  {
   "cell_type": "code",
   "execution_count": 11,
   "metadata": {},
   "outputs": [
    {
     "data": {
      "text/html": [
       "0.84446190102121"
      ],
      "text/latex": [
       "0.84446190102121"
      ],
      "text/markdown": [
       "0.84446190102121"
      ],
      "text/plain": [
       "[1] 0.8444619"
      ]
     },
     "metadata": {},
     "output_type": "display_data"
    }
   ],
   "source": [
    "# Baseline \n",
    "(1069 + 6)  /(1069 + 6 + 187 + 11)"
   ]
  },
  {
   "cell_type": "code",
   "execution_count": 13,
   "metadata": {},
   "outputs": [
    {
     "name": "stderr",
     "output_type": "stream",
     "text": [
      "Loading required package: gplots\n",
      "\n",
      "\n",
      "Attaching package: 'gplots'\n",
      "\n",
      "\n",
      "The following object is masked from 'package:stats':\n",
      "\n",
      "    lowess\n",
      "\n",
      "\n"
     ]
    },
    {
     "data": {
      "text/html": [
       "0.742109466760632"
      ],
      "text/latex": [
       "0.742109466760632"
      ],
      "text/markdown": [
       "0.742109466760632"
      ],
      "text/plain": [
       "[1] 0.7421095"
      ]
     },
     "metadata": {},
     "output_type": "display_data"
    }
   ],
   "source": [
    "# Out-of-Sample AUC\n",
    "library(ROCR)\n",
    "ROCRpred = prediction(predictTest, test$TenYearCHD)\n",
    "ROCRperf = performance(ROCRpred, 'auc')@y.values\n",
    "auc = as.numeric(ROCRperf)\n",
    "auc"
   ]
  }
 ],
 "metadata": {
  "kernelspec": {
   "display_name": "R",
   "language": "R",
   "name": "ir"
  },
  "language_info": {
   "codemirror_mode": "r",
   "file_extension": ".r",
   "mimetype": "text/x-r-source",
   "name": "R",
   "pygments_lexer": "r",
   "version": "3.6.3"
  }
 },
 "nbformat": 4,
 "nbformat_minor": 2
}
