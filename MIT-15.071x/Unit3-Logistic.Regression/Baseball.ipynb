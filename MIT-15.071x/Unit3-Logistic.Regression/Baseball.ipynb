{
 "cells": [
  {
   "cell_type": "markdown",
   "metadata": {},
   "source": [
    "## Predicting the Baseball World Series Champion"
   ]
  },
  {
   "cell_type": "markdown",
   "metadata": {},
   "source": [
    "Last week, in the Moneyball lecture, we discussed how regular season performance is not strongly correlated with winning the World Series in baseball. In this homework question, we'll use the same data to investigate how well we can predict the World Series winner at the beginning of the playoffs.\n",
    "\n",
    "To begin, load the dataset baseball.csv into R using the read.csv function, and call the data frame \"baseball\". This is the same data file we used during the Moneyball lecture, and the data comes from Baseball-Reference.com."
   ]
  },
  {
   "cell_type": "markdown",
   "metadata": {},
   "source": [
    "As a reminder, this dataset contains data concerning a baseball team's performance in a given year. It has the following variables:\n",
    "\n",
    "- Team: A code for the name of the team\n",
    "- League: The Major League Baseball league the team belongs to, either AL (American League) or NL (National League)\n",
    "- Year: The year of the corresponding record\n",
    "- RS: The number of runs scored by the team in that year\n",
    "- RA: The number of runs allowed by the team in that year\n",
    "- W: The number of regular season wins by the team in that year\n",
    "- OBP: The on-base percentage of the team in that year\n",
    "- SLG: The slugging percentage of the team in that year\n",
    "- BA: The batting average of the team in that year\n",
    "- Playoffs: Whether the team made the playoffs in that year (1 for yes, 0 for no)\n",
    "- RankSeason: Among the playoff teams in that year, the ranking of their regular season records (1 is best)\n",
    "- RankPlayoffs: Among the playoff teams in that year, how well they fared in the playoffs. The team winning the World Series gets a RankPlayoffs of 1.\n",
    "- G: The number of games a team played in that year\n",
    "- OOBP: The team's opponents' on-base percentage in that year\n",
    "- OSLG: The team's opponents' slugging percentage in that year"
   ]
  },
  {
   "cell_type": "markdown",
   "metadata": {},
   "source": [
    "### Limiting to Teams Making the Playoffs"
   ]
  },
  {
   "cell_type": "code",
   "execution_count": 1,
   "metadata": {},
   "outputs": [
    {
     "name": "stdout",
     "output_type": "stream",
     "text": [
      "'data.frame':\t1232 obs. of  15 variables:\n",
      " $ Team        : Factor w/ 39 levels \"ANA\",\"ARI\",\"ATL\",..: 2 3 4 5 7 8 9 10 11 12 ...\n",
      " $ League      : Factor w/ 2 levels \"AL\",\"NL\": 2 2 1 1 2 1 2 1 2 1 ...\n",
      " $ Year        : int  2012 2012 2012 2012 2012 2012 2012 2012 2012 2012 ...\n",
      " $ RS          : int  734 700 712 734 613 748 669 667 758 726 ...\n",
      " $ RA          : int  688 600 705 806 759 676 588 845 890 670 ...\n",
      " $ W           : int  81 94 93 69 61 85 97 68 64 88 ...\n",
      " $ OBP         : num  0.328 0.32 0.311 0.315 0.302 0.318 0.315 0.324 0.33 0.335 ...\n",
      " $ SLG         : num  0.418 0.389 0.417 0.415 0.378 0.422 0.411 0.381 0.436 0.422 ...\n",
      " $ BA          : num  0.259 0.247 0.247 0.26 0.24 0.255 0.251 0.251 0.274 0.268 ...\n",
      " $ Playoffs    : int  0 1 1 0 0 0 1 0 0 1 ...\n",
      " $ RankSeason  : int  NA 4 5 NA NA NA 2 NA NA 6 ...\n",
      " $ RankPlayoffs: int  NA 5 4 NA NA NA 4 NA NA 2 ...\n",
      " $ G           : int  162 162 162 162 162 162 162 162 162 162 ...\n",
      " $ OOBP        : num  0.317 0.306 0.315 0.331 0.335 0.319 0.305 0.336 0.357 0.314 ...\n",
      " $ OSLG        : num  0.415 0.378 0.403 0.428 0.424 0.405 0.39 0.43 0.47 0.402 ...\n"
     ]
    }
   ],
   "source": [
    "baseball = read.csv('./dataset/baseball.csv')\n",
    "str(baseball)"
   ]
  },
  {
   "cell_type": "code",
   "execution_count": 5,
   "metadata": {},
   "outputs": [
    {
     "data": {
      "text/plain": [
       "\n",
       "1962 1963 1964 1965 1966 1967 1968 1969 1970 1971 1973 1974 1975 1976 1977 1978 \n",
       "  20   20   20   20   20   20   20   24   24   24   24   24   24   24   26   26 \n",
       "1979 1980 1982 1983 1984 1985 1986 1987 1988 1989 1990 1991 1992 1993 1996 1997 \n",
       "  26   26   26   26   26   26   26   26   26   26   26   26   26   28   28   28 \n",
       "1998 1999 2000 2001 2002 2003 2004 2005 2006 2007 2008 2009 2010 2011 2012 \n",
       "  30   30   30   30   30   30   30   30   30   30   30   30   30   30   30 "
      ]
     },
     "metadata": {},
     "output_type": "display_data"
    }
   ],
   "source": [
    "table(baseball$Year)"
   ]
  },
  {
   "cell_type": "code",
   "execution_count": 6,
   "metadata": {},
   "outputs": [
    {
     "data": {
      "text/html": [
       "47"
      ],
      "text/latex": [
       "47"
      ],
      "text/markdown": [
       "47"
      ],
      "text/plain": [
       "[1] 47"
      ]
     },
     "metadata": {},
     "output_type": "display_data"
    }
   ],
   "source": [
    "length(table(baseball$Year))"
   ]
  },
  {
   "cell_type": "code",
   "execution_count": 7,
   "metadata": {},
   "outputs": [],
   "source": [
    "baseball = subset(baseball, Playoffs == 1)"
   ]
  },
  {
   "cell_type": "code",
   "execution_count": 8,
   "metadata": {},
   "outputs": [
    {
     "data": {
      "text/html": [
       "244"
      ],
      "text/latex": [
       "244"
      ],
      "text/markdown": [
       "244"
      ],
      "text/plain": [
       "[1] 244"
      ]
     },
     "metadata": {},
     "output_type": "display_data"
    }
   ],
   "source": [
    "nrow(baseball)"
   ]
  },
  {
   "cell_type": "code",
   "execution_count": 16,
   "metadata": {},
   "outputs": [
    {
     "data": {
      "text/plain": [
       "\n",
       "1962 1963 1964 1965 1966 1967 1968 1969 1970 1971 1973 1974 1975 1976 1977 1978 \n",
       "   2    2    2    2    2    2    2    4    4    4    4    4    4    4    4    4 \n",
       "1979 1980 1982 1983 1984 1985 1986 1987 1988 1989 1990 1991 1992 1993 1996 1997 \n",
       "   4    4    4    4    4    4    4    4    4    4    4    4    4    4    8    8 \n",
       "1998 1999 2000 2001 2002 2003 2004 2005 2006 2007 2008 2009 2010 2011 2012 \n",
       "   8    8    8    8    8    8    8    8    8    8    8    8    8    8   10 "
      ]
     },
     "metadata": {},
     "output_type": "display_data"
    }
   ],
   "source": [
    "table(baseball$Year)"
   ]
  },
  {
   "cell_type": "code",
   "execution_count": 17,
   "metadata": {},
   "outputs": [
    {
     "data": {
      "text/plain": [
       "\n",
       " 2  4  8 10 \n",
       " 7 23 16  1 "
      ]
     },
     "metadata": {},
     "output_type": "display_data"
    }
   ],
   "source": [
    "table(table(baseball$Year))"
   ]
  },
  {
   "cell_type": "markdown",
   "metadata": {},
   "source": [
    "### Adding an Important Predictor"
   ]
  },
  {
   "cell_type": "markdown",
   "metadata": {},
   "source": [
    "It's much harder to win the World Series if there are 10 teams competing for the championship versus just two. Therefore, we will add the predictor variable NumCompetitors to the baseball data frame. NumCompetitors will contain the number of total teams making the playoffs in the year of a particular team/year pair. For instance, NumCompetitors should be 2 for the 1962 New York Yankees, but it should be 8 for the 1998 Boston Red Sox.\n",
    "\n",
    "We start by storing the output of the table() function that counts the number of playoff teams from each year:\n",
    "```R\n",
    "PlayoffTable = table(baseball$Year)\n",
    "```\n",
    "You can output the table with the following command:\n",
    "```R\n",
    "PlayoffTable\n",
    "```\n",
    "We will use this stored table to look up the number of teams in the playoffs in the year of each team/year pair."
   ]
  },
  {
   "cell_type": "code",
   "execution_count": 18,
   "metadata": {},
   "outputs": [],
   "source": [
    "PlayoffTable = table(baseball$Year)"
   ]
  },
  {
   "cell_type": "code",
   "execution_count": 21,
   "metadata": {},
   "outputs": [
    {
     "data": {
      "text/html": [
       "<style>\n",
       ".list-inline {list-style: none; margin:0; padding: 0}\n",
       ".list-inline>li {display: inline-block}\n",
       ".list-inline>li:not(:last-child)::after {content: \"\\00b7\"; padding: 0 .5ex}\n",
       "</style>\n",
       "<ol class=list-inline><li>'1962'</li><li>'1963'</li><li>'1964'</li><li>'1965'</li><li>'1966'</li><li>'1967'</li><li>'1968'</li><li>'1969'</li><li>'1970'</li><li>'1971'</li><li>'1973'</li><li>'1974'</li><li>'1975'</li><li>'1976'</li><li>'1977'</li><li>'1978'</li><li>'1979'</li><li>'1980'</li><li>'1982'</li><li>'1983'</li><li>'1984'</li><li>'1985'</li><li>'1986'</li><li>'1987'</li><li>'1988'</li><li>'1989'</li><li>'1990'</li><li>'1991'</li><li>'1992'</li><li>'1993'</li><li>'1996'</li><li>'1997'</li><li>'1998'</li><li>'1999'</li><li>'2000'</li><li>'2001'</li><li>'2002'</li><li>'2003'</li><li>'2004'</li><li>'2005'</li><li>'2006'</li><li>'2007'</li><li>'2008'</li><li>'2009'</li><li>'2010'</li><li>'2011'</li><li>'2012'</li></ol>\n"
      ],
      "text/latex": [
       "\\begin{enumerate*}\n",
       "\\item '1962'\n",
       "\\item '1963'\n",
       "\\item '1964'\n",
       "\\item '1965'\n",
       "\\item '1966'\n",
       "\\item '1967'\n",
       "\\item '1968'\n",
       "\\item '1969'\n",
       "\\item '1970'\n",
       "\\item '1971'\n",
       "\\item '1973'\n",
       "\\item '1974'\n",
       "\\item '1975'\n",
       "\\item '1976'\n",
       "\\item '1977'\n",
       "\\item '1978'\n",
       "\\item '1979'\n",
       "\\item '1980'\n",
       "\\item '1982'\n",
       "\\item '1983'\n",
       "\\item '1984'\n",
       "\\item '1985'\n",
       "\\item '1986'\n",
       "\\item '1987'\n",
       "\\item '1988'\n",
       "\\item '1989'\n",
       "\\item '1990'\n",
       "\\item '1991'\n",
       "\\item '1992'\n",
       "\\item '1993'\n",
       "\\item '1996'\n",
       "\\item '1997'\n",
       "\\item '1998'\n",
       "\\item '1999'\n",
       "\\item '2000'\n",
       "\\item '2001'\n",
       "\\item '2002'\n",
       "\\item '2003'\n",
       "\\item '2004'\n",
       "\\item '2005'\n",
       "\\item '2006'\n",
       "\\item '2007'\n",
       "\\item '2008'\n",
       "\\item '2009'\n",
       "\\item '2010'\n",
       "\\item '2011'\n",
       "\\item '2012'\n",
       "\\end{enumerate*}\n"
      ],
      "text/markdown": [
       "1. '1962'\n",
       "2. '1963'\n",
       "3. '1964'\n",
       "4. '1965'\n",
       "5. '1966'\n",
       "6. '1967'\n",
       "7. '1968'\n",
       "8. '1969'\n",
       "9. '1970'\n",
       "10. '1971'\n",
       "11. '1973'\n",
       "12. '1974'\n",
       "13. '1975'\n",
       "14. '1976'\n",
       "15. '1977'\n",
       "16. '1978'\n",
       "17. '1979'\n",
       "18. '1980'\n",
       "19. '1982'\n",
       "20. '1983'\n",
       "21. '1984'\n",
       "22. '1985'\n",
       "23. '1986'\n",
       "24. '1987'\n",
       "25. '1988'\n",
       "26. '1989'\n",
       "27. '1990'\n",
       "28. '1991'\n",
       "29. '1992'\n",
       "30. '1993'\n",
       "31. '1996'\n",
       "32. '1997'\n",
       "33. '1998'\n",
       "34. '1999'\n",
       "35. '2000'\n",
       "36. '2001'\n",
       "37. '2002'\n",
       "38. '2003'\n",
       "39. '2004'\n",
       "40. '2005'\n",
       "41. '2006'\n",
       "42. '2007'\n",
       "43. '2008'\n",
       "44. '2009'\n",
       "45. '2010'\n",
       "46. '2011'\n",
       "47. '2012'\n",
       "\n",
       "\n"
      ],
      "text/plain": [
       " [1] \"1962\" \"1963\" \"1964\" \"1965\" \"1966\" \"1967\" \"1968\" \"1969\" \"1970\" \"1971\"\n",
       "[11] \"1973\" \"1974\" \"1975\" \"1976\" \"1977\" \"1978\" \"1979\" \"1980\" \"1982\" \"1983\"\n",
       "[21] \"1984\" \"1985\" \"1986\" \"1987\" \"1988\" \"1989\" \"1990\" \"1991\" \"1992\" \"1993\"\n",
       "[31] \"1996\" \"1997\" \"1998\" \"1999\" \"2000\" \"2001\" \"2002\" \"2003\" \"2004\" \"2005\"\n",
       "[41] \"2006\" \"2007\" \"2008\" \"2009\" \"2010\" \"2011\" \"2012\""
      ]
     },
     "metadata": {},
     "output_type": "display_data"
    }
   ],
   "source": [
    "names(PlayoffTable)"
   ]
  },
  {
   "cell_type": "code",
   "execution_count": 25,
   "metadata": {},
   "outputs": [
    {
     "name": "stdout",
     "output_type": "stream",
     "text": [
      " chr [1:47] \"1962\" \"1963\" \"1964\" \"1965\" \"1966\" \"1967\" \"1968\" \"1969\" \"1970\" ...\n"
     ]
    }
   ],
   "source": [
    "str(names(PlayoffTable))"
   ]
  },
  {
   "cell_type": "code",
   "execution_count": 26,
   "metadata": {},
   "outputs": [
    {
     "data": {
      "text/plain": [
       "\n",
       "1990 2001 \n",
       "   4    8 "
      ]
     },
     "metadata": {},
     "output_type": "display_data"
    }
   ],
   "source": [
    "PlayoffTable[c(\"1990\", \"2001\")]"
   ]
  },
  {
   "cell_type": "code",
   "execution_count": 27,
   "metadata": {},
   "outputs": [],
   "source": [
    "baseball$NumCompetitors = PlayoffTable[as.character(baseball$Year)]"
   ]
  },
  {
   "cell_type": "code",
   "execution_count": 30,
   "metadata": {},
   "outputs": [
    {
     "data": {
      "text/plain": [
       "\n",
       "  2   4   8  10 \n",
       " 14  92 128  10 "
      ]
     },
     "metadata": {},
     "output_type": "display_data"
    }
   ],
   "source": [
    "table(baseball$NumCompetitors)"
   ]
  },
  {
   "cell_type": "code",
   "execution_count": 31,
   "metadata": {},
   "outputs": [
    {
     "data": {
      "text/html": [
       "128"
      ],
      "text/latex": [
       "128"
      ],
      "text/markdown": [
       "128"
      ],
      "text/plain": [
       "[1] 128"
      ]
     },
     "metadata": {},
     "output_type": "display_data"
    }
   ],
   "source": [
    "playoff_team = subset(baseball, NumCompetitors == 8)\n",
    "nrow(playoff_team)"
   ]
  },
  {
   "cell_type": "markdown",
   "metadata": {},
   "source": [
    "### Bivariate Models for Predicting World Series Winner"
   ]
  },
  {
   "cell_type": "markdown",
   "metadata": {},
   "source": [
    "In this problem, we seek to predict whether a team won the World Series; in our dataset this is denoted with a RankPlayoffs value of 1. Add a variable named WorldSeries to the baseball data frame, by typing the following command in your R console:\n",
    "```R\n",
    "baseball$WorldSeries = as.numeric(baseball$RankPlayoffs == 1)\n",
    "```"
   ]
  },
  {
   "cell_type": "code",
   "execution_count": 32,
   "metadata": {},
   "outputs": [],
   "source": [
    "baseball$WorldSeries = as.numeric(baseball$RankPlayoffs == 1)"
   ]
  },
  {
   "cell_type": "code",
   "execution_count": 33,
   "metadata": {},
   "outputs": [
    {
     "data": {
      "text/html": [
       "197"
      ],
      "text/latex": [
       "197"
      ],
      "text/markdown": [
       "197"
      ],
      "text/plain": [
       "[1] 197"
      ]
     },
     "metadata": {},
     "output_type": "display_data"
    }
   ],
   "source": [
    "nrow(subset(baseball, WorldSeries == 0))"
   ]
  },
  {
   "cell_type": "markdown",
   "metadata": {},
   "source": [
    "When we're not sure which of our variables are useful in predicting a particular outcome, it's often helpful to build bivariate models, which are models that predict the outcome using a single independent variable. Which of the following variables is a significant predictor of the WorldSeries variable in a bivariate logistic regression model? To determine significance, remember to look at the stars in the summary output of the model. We'll define an independent variable as significant if there is at least one star at the end of the coefficients row for that variable (this is equivalent to the probability column having a value smaller than 0.05). Note that you have to build 12 models to answer this question!"
   ]
  },
  {
   "cell_type": "code",
   "execution_count": 37,
   "metadata": {},
   "outputs": [
    {
     "data": {
      "text/plain": [
       "\n",
       "Call:\n",
       "glm(formula = WorldSeries ~ RS, family = \"binomial\", data = baseball)\n",
       "\n",
       "Deviance Residuals: \n",
       "    Min       1Q   Median       3Q      Max  \n",
       "-0.8254  -0.6819  -0.6363  -0.5561   2.0308  \n",
       "\n",
       "Coefficients:\n",
       "             Estimate Std. Error z value Pr(>|z|)\n",
       "(Intercept)  0.661226   1.636494   0.404    0.686\n",
       "RS          -0.002681   0.002098  -1.278    0.201\n",
       "\n",
       "(Dispersion parameter for binomial family taken to be 1)\n",
       "\n",
       "    Null deviance: 239.12  on 243  degrees of freedom\n",
       "Residual deviance: 237.45  on 242  degrees of freedom\n",
       "AIC: 241.45\n",
       "\n",
       "Number of Fisher Scoring iterations: 4\n"
      ]
     },
     "metadata": {},
     "output_type": "display_data"
    }
   ],
   "source": [
    "WSLogs1 = glm(WorldSeries ~ RS, data=baseball, family='binomial')\n",
    "summary(WSLogs1)"
   ]
  },
  {
   "cell_type": "code",
   "execution_count": 38,
   "metadata": {},
   "outputs": [
    {
     "data": {
      "text/plain": [
       "\n",
       "Call:\n",
       "glm(formula = WorldSeries ~ RA, family = \"binomial\", data = baseball)\n",
       "\n",
       "Deviance Residuals: \n",
       "    Min       1Q   Median       3Q      Max  \n",
       "-0.9749  -0.6883  -0.6118  -0.4746   2.1577  \n",
       "\n",
       "Coefficients:\n",
       "             Estimate Std. Error z value Pr(>|z|)  \n",
       "(Intercept)  1.888174   1.483831   1.272   0.2032  \n",
       "RA          -0.005053   0.002273  -2.223   0.0262 *\n",
       "---\n",
       "Signif. codes:  0 ‘***’ 0.001 ‘**’ 0.01 ‘*’ 0.05 ‘.’ 0.1 ‘ ’ 1\n",
       "\n",
       "(Dispersion parameter for binomial family taken to be 1)\n",
       "\n",
       "    Null deviance: 239.12  on 243  degrees of freedom\n",
       "Residual deviance: 233.88  on 242  degrees of freedom\n",
       "AIC: 237.88\n",
       "\n",
       "Number of Fisher Scoring iterations: 4\n"
      ]
     },
     "metadata": {},
     "output_type": "display_data"
    }
   ],
   "source": [
    "WSLogs2 = glm(WorldSeries ~ RA, data=baseball, family='binomial')\n",
    "summary(WSLogs2)"
   ]
  },
  {
   "cell_type": "code",
   "execution_count": 39,
   "metadata": {},
   "outputs": [
    {
     "data": {
      "text/plain": [
       "\n",
       "Call:\n",
       "glm(formula = WorldSeries ~ W, family = \"binomial\", data = baseball)\n",
       "\n",
       "Deviance Residuals: \n",
       "    Min       1Q   Median       3Q      Max  \n",
       "-1.0623  -0.6777  -0.6117  -0.5367   2.1254  \n",
       "\n",
       "Coefficients:\n",
       "            Estimate Std. Error z value Pr(>|z|)  \n",
       "(Intercept) -6.85568    2.87620  -2.384   0.0171 *\n",
       "W            0.05671    0.02988   1.898   0.0577 .\n",
       "---\n",
       "Signif. codes:  0 ‘***’ 0.001 ‘**’ 0.01 ‘*’ 0.05 ‘.’ 0.1 ‘ ’ 1\n",
       "\n",
       "(Dispersion parameter for binomial family taken to be 1)\n",
       "\n",
       "    Null deviance: 239.12  on 243  degrees of freedom\n",
       "Residual deviance: 235.51  on 242  degrees of freedom\n",
       "AIC: 239.51\n",
       "\n",
       "Number of Fisher Scoring iterations: 4\n"
      ]
     },
     "metadata": {},
     "output_type": "display_data"
    }
   ],
   "source": [
    "WSLogs3 = glm(WorldSeries ~ W, data=baseball, family='binomial')\n",
    "summary(WSLogs3)"
   ]
  },
  {
   "cell_type": "code",
   "execution_count": 40,
   "metadata": {},
   "outputs": [
    {
     "data": {
      "text/plain": [
       "\n",
       "Call:\n",
       "glm(formula = WorldSeries ~ OBP, family = \"binomial\", data = baseball)\n",
       "\n",
       "Deviance Residuals: \n",
       "    Min       1Q   Median       3Q      Max  \n",
       "-0.8071  -0.6749  -0.6365  -0.5797   1.9753  \n",
       "\n",
       "Coefficients:\n",
       "            Estimate Std. Error z value Pr(>|z|)\n",
       "(Intercept)    2.741      3.989   0.687    0.492\n",
       "OBP          -12.402     11.865  -1.045    0.296\n",
       "\n",
       "(Dispersion parameter for binomial family taken to be 1)\n",
       "\n",
       "    Null deviance: 239.12  on 243  degrees of freedom\n",
       "Residual deviance: 238.02  on 242  degrees of freedom\n",
       "AIC: 242.02\n",
       "\n",
       "Number of Fisher Scoring iterations: 4\n"
      ]
     },
     "metadata": {},
     "output_type": "display_data"
    }
   ],
   "source": [
    "WSLogs4 = glm(WorldSeries ~ OBP, data=baseball, family='binomial')\n",
    "summary(WSLogs4)"
   ]
  },
  {
   "cell_type": "code",
   "execution_count": 41,
   "metadata": {},
   "outputs": [
    {
     "data": {
      "text/plain": [
       "\n",
       "Call:\n",
       "glm(formula = WorldSeries ~ SLG, family = \"binomial\", data = baseball)\n",
       "\n",
       "Deviance Residuals: \n",
       "    Min       1Q   Median       3Q      Max  \n",
       "-0.9498  -0.6953  -0.6088  -0.5197   2.1136  \n",
       "\n",
       "Coefficients:\n",
       "            Estimate Std. Error z value Pr(>|z|)  \n",
       "(Intercept)    3.200      2.358   1.357   0.1748  \n",
       "SLG          -11.130      5.689  -1.956   0.0504 .\n",
       "---\n",
       "Signif. codes:  0 ‘***’ 0.001 ‘**’ 0.01 ‘*’ 0.05 ‘.’ 0.1 ‘ ’ 1\n",
       "\n",
       "(Dispersion parameter for binomial family taken to be 1)\n",
       "\n",
       "    Null deviance: 239.12  on 243  degrees of freedom\n",
       "Residual deviance: 235.23  on 242  degrees of freedom\n",
       "AIC: 239.23\n",
       "\n",
       "Number of Fisher Scoring iterations: 4\n"
      ]
     },
     "metadata": {},
     "output_type": "display_data"
    }
   ],
   "source": [
    "WSLogs5 = glm(WorldSeries ~ SLG, data=baseball, family='binomial')\n",
    "summary(WSLogs5)"
   ]
  },
  {
   "cell_type": "code",
   "execution_count": 42,
   "metadata": {},
   "outputs": [
    {
     "data": {
      "text/plain": [
       "\n",
       "Call:\n",
       "glm(formula = WorldSeries ~ BA, family = \"binomial\", data = baseball)\n",
       "\n",
       "Deviance Residuals: \n",
       "    Min       1Q   Median       3Q      Max  \n",
       "-0.6797  -0.6592  -0.6513  -0.6389   1.8431  \n",
       "\n",
       "Coefficients:\n",
       "            Estimate Std. Error z value Pr(>|z|)\n",
       "(Intercept)  -0.6392     3.8988  -0.164    0.870\n",
       "BA           -2.9765    14.6123  -0.204    0.839\n",
       "\n",
       "(Dispersion parameter for binomial family taken to be 1)\n",
       "\n",
       "    Null deviance: 239.12  on 243  degrees of freedom\n",
       "Residual deviance: 239.08  on 242  degrees of freedom\n",
       "AIC: 243.08\n",
       "\n",
       "Number of Fisher Scoring iterations: 4\n"
      ]
     },
     "metadata": {},
     "output_type": "display_data"
    }
   ],
   "source": [
    "WSLogs6 = glm(WorldSeries ~ BA, data=baseball, family='binomial')\n",
    "summary(WSLogs6)"
   ]
  },
  {
   "cell_type": "code",
   "execution_count": 43,
   "metadata": {},
   "outputs": [
    {
     "data": {
      "text/plain": [
       "\n",
       "Call:\n",
       "glm(formula = WorldSeries ~ RankSeason, family = \"binomial\", \n",
       "    data = baseball)\n",
       "\n",
       "Deviance Residuals: \n",
       "    Min       1Q   Median       3Q      Max  \n",
       "-0.7805  -0.7131  -0.5918  -0.4882   2.1781  \n",
       "\n",
       "Coefficients:\n",
       "            Estimate Std. Error z value Pr(>|z|)  \n",
       "(Intercept)  -0.8256     0.3268  -2.527   0.0115 *\n",
       "RankSeason   -0.2069     0.1027  -2.016   0.0438 *\n",
       "---\n",
       "Signif. codes:  0 ‘***’ 0.001 ‘**’ 0.01 ‘*’ 0.05 ‘.’ 0.1 ‘ ’ 1\n",
       "\n",
       "(Dispersion parameter for binomial family taken to be 1)\n",
       "\n",
       "    Null deviance: 239.12  on 243  degrees of freedom\n",
       "Residual deviance: 234.75  on 242  degrees of freedom\n",
       "AIC: 238.75\n",
       "\n",
       "Number of Fisher Scoring iterations: 4\n"
      ]
     },
     "metadata": {},
     "output_type": "display_data"
    }
   ],
   "source": [
    "WSLogs7 = glm(WorldSeries ~ RankSeason, data=baseball, family='binomial')\n",
    "summary(WSLogs7)"
   ]
  },
  {
   "cell_type": "code",
   "execution_count": 44,
   "metadata": {},
   "outputs": [
    {
     "data": {
      "text/plain": [
       "\n",
       "Call:\n",
       "glm(formula = WorldSeries ~ OOBP, family = \"binomial\", data = baseball)\n",
       "\n",
       "Deviance Residuals: \n",
       "    Min       1Q   Median       3Q      Max  \n",
       "-0.5318  -0.5176  -0.5106  -0.5023   2.0697  \n",
       "\n",
       "Coefficients:\n",
       "            Estimate Std. Error z value Pr(>|z|)\n",
       "(Intercept)  -0.9306     8.3728  -0.111    0.912\n",
       "OOBP         -3.2233    26.0587  -0.124    0.902\n",
       "\n",
       "(Dispersion parameter for binomial family taken to be 1)\n",
       "\n",
       "    Null deviance: 84.926  on 113  degrees of freedom\n",
       "Residual deviance: 84.910  on 112  degrees of freedom\n",
       "  (130 observations deleted due to missingness)\n",
       "AIC: 88.91\n",
       "\n",
       "Number of Fisher Scoring iterations: 4\n"
      ]
     },
     "metadata": {},
     "output_type": "display_data"
    }
   ],
   "source": [
    "WSLogs8 = glm(WorldSeries ~ OOBP, data=baseball, family='binomial')\n",
    "summary(WSLogs8)"
   ]
  },
  {
   "cell_type": "code",
   "execution_count": 45,
   "metadata": {},
   "outputs": [
    {
     "data": {
      "text/plain": [
       "\n",
       "Call:\n",
       "glm(formula = WorldSeries ~ OSLG, family = \"binomial\", data = baseball)\n",
       "\n",
       "Deviance Residuals: \n",
       "    Min       1Q   Median       3Q      Max  \n",
       "-0.5610  -0.5209  -0.5088  -0.4902   2.1268  \n",
       "\n",
       "Coefficients:\n",
       "            Estimate Std. Error z value Pr(>|z|)\n",
       "(Intercept) -0.08725    6.07285  -0.014    0.989\n",
       "OSLG        -4.65992   15.06881  -0.309    0.757\n",
       "\n",
       "(Dispersion parameter for binomial family taken to be 1)\n",
       "\n",
       "    Null deviance: 84.926  on 113  degrees of freedom\n",
       "Residual deviance: 84.830  on 112  degrees of freedom\n",
       "  (130 observations deleted due to missingness)\n",
       "AIC: 88.83\n",
       "\n",
       "Number of Fisher Scoring iterations: 4\n"
      ]
     },
     "metadata": {},
     "output_type": "display_data"
    }
   ],
   "source": [
    "WSLogs9 = glm(WorldSeries ~ OSLG, data=baseball, family='binomial')\n",
    "summary(WSLogs9)"
   ]
  },
  {
   "cell_type": "code",
   "execution_count": 46,
   "metadata": {},
   "outputs": [
    {
     "data": {
      "text/plain": [
       "\n",
       "Call:\n",
       "glm(formula = WorldSeries ~ NumCompetitors, family = \"binomial\", \n",
       "    data = baseball)\n",
       "\n",
       "Deviance Residuals: \n",
       "    Min       1Q   Median       3Q      Max  \n",
       "-0.9871  -0.8017  -0.5089  -0.5089   2.2643  \n",
       "\n",
       "Coefficients:\n",
       "               Estimate Std. Error z value Pr(>|z|)    \n",
       "(Intercept)     0.03868    0.43750   0.088 0.929559    \n",
       "NumCompetitors -0.25220    0.07422  -3.398 0.000678 ***\n",
       "---\n",
       "Signif. codes:  0 ‘***’ 0.001 ‘**’ 0.01 ‘*’ 0.05 ‘.’ 0.1 ‘ ’ 1\n",
       "\n",
       "(Dispersion parameter for binomial family taken to be 1)\n",
       "\n",
       "    Null deviance: 239.12  on 243  degrees of freedom\n",
       "Residual deviance: 226.96  on 242  degrees of freedom\n",
       "AIC: 230.96\n",
       "\n",
       "Number of Fisher Scoring iterations: 4\n"
      ]
     },
     "metadata": {},
     "output_type": "display_data"
    }
   ],
   "source": [
    "WSLogs10 = glm(WorldSeries ~ NumCompetitors, data=baseball, family='binomial')\n",
    "summary(WSLogs10)"
   ]
  },
  {
   "cell_type": "code",
   "execution_count": 47,
   "metadata": {},
   "outputs": [
    {
     "data": {
      "text/plain": [
       "\n",
       "Call:\n",
       "glm(formula = WorldSeries ~ League, family = \"binomial\", data = baseball)\n",
       "\n",
       "Deviance Residuals: \n",
       "    Min       1Q   Median       3Q      Max  \n",
       "-0.6772  -0.6772  -0.6306  -0.6306   1.8509  \n",
       "\n",
       "Coefficients:\n",
       "            Estimate Std. Error z value Pr(>|z|)    \n",
       "(Intercept)  -1.3558     0.2243  -6.045  1.5e-09 ***\n",
       "LeagueNL     -0.1583     0.3252  -0.487    0.626    \n",
       "---\n",
       "Signif. codes:  0 ‘***’ 0.001 ‘**’ 0.01 ‘*’ 0.05 ‘.’ 0.1 ‘ ’ 1\n",
       "\n",
       "(Dispersion parameter for binomial family taken to be 1)\n",
       "\n",
       "    Null deviance: 239.12  on 243  degrees of freedom\n",
       "Residual deviance: 238.88  on 242  degrees of freedom\n",
       "AIC: 242.88\n",
       "\n",
       "Number of Fisher Scoring iterations: 4\n"
      ]
     },
     "metadata": {},
     "output_type": "display_data"
    }
   ],
   "source": [
    "WSLogs11 = glm(WorldSeries ~ League, data=baseball, family='binomial')\n",
    "summary(WSLogs11)"
   ]
  },
  {
   "cell_type": "code",
   "execution_count": 48,
   "metadata": {},
   "outputs": [
    {
     "data": {
      "text/plain": [
       "\n",
       "Call:\n",
       "glm(formula = WorldSeries ~ Year, family = \"binomial\", data = baseball)\n",
       "\n",
       "Deviance Residuals: \n",
       "    Min       1Q   Median       3Q      Max  \n",
       "-1.0297  -0.6797  -0.5435  -0.4648   2.1504  \n",
       "\n",
       "Coefficients:\n",
       "            Estimate Std. Error z value Pr(>|z|)   \n",
       "(Intercept) 72.23602   22.64409    3.19  0.00142 **\n",
       "Year        -0.03700    0.01138   -3.25  0.00115 **\n",
       "---\n",
       "Signif. codes:  0 ‘***’ 0.001 ‘**’ 0.01 ‘*’ 0.05 ‘.’ 0.1 ‘ ’ 1\n",
       "\n",
       "(Dispersion parameter for binomial family taken to be 1)\n",
       "\n",
       "    Null deviance: 239.12  on 243  degrees of freedom\n",
       "Residual deviance: 228.35  on 242  degrees of freedom\n",
       "AIC: 232.35\n",
       "\n",
       "Number of Fisher Scoring iterations: 4\n"
      ]
     },
     "metadata": {},
     "output_type": "display_data"
    }
   ],
   "source": [
    "WSLogs0 = glm(WorldSeries ~ Year, data=baseball, family='binomial')\n",
    "summary(WSLogs0)"
   ]
  },
  {
   "cell_type": "markdown",
   "metadata": {},
   "source": [
    "### Multivariate Models for Predicting World Series Winner"
   ]
  },
  {
   "cell_type": "code",
   "execution_count": 49,
   "metadata": {},
   "outputs": [
    {
     "data": {
      "text/plain": [
       "\n",
       "Call:\n",
       "glm(formula = WorldSeries ~ Year + RA + RankSeason + NumCompetitors, \n",
       "    family = \"binomial\", data = baseball)\n",
       "\n",
       "Deviance Residuals: \n",
       "    Min       1Q   Median       3Q      Max  \n",
       "-1.0336  -0.7689  -0.5139  -0.4583   2.2195  \n",
       "\n",
       "Coefficients:\n",
       "                 Estimate Std. Error z value Pr(>|z|)\n",
       "(Intercept)    12.5874376 53.6474210   0.235    0.814\n",
       "Year           -0.0061425  0.0274665  -0.224    0.823\n",
       "RA             -0.0008238  0.0027391  -0.301    0.764\n",
       "RankSeason     -0.0685046  0.1203459  -0.569    0.569\n",
       "NumCompetitors -0.1794264  0.1815933  -0.988    0.323\n",
       "\n",
       "(Dispersion parameter for binomial family taken to be 1)\n",
       "\n",
       "    Null deviance: 239.12  on 243  degrees of freedom\n",
       "Residual deviance: 226.37  on 239  degrees of freedom\n",
       "AIC: 236.37\n",
       "\n",
       "Number of Fisher Scoring iterations: 4\n"
      ]
     },
     "metadata": {},
     "output_type": "display_data"
    }
   ],
   "source": [
    "WSLogsMult = glm(WorldSeries ~ Year + RA + RankSeason + NumCompetitors, data=baseball, family='binomial')\n",
    "summary(WSLogsMult)"
   ]
  },
  {
   "cell_type": "code",
   "execution_count": 53,
   "metadata": {},
   "outputs": [
    {
     "data": {
      "text/html": [
       "0.476242162489086"
      ],
      "text/latex": [
       "0.476242162489086"
      ],
      "text/markdown": [
       "0.476242162489086"
      ],
      "text/plain": [
       "[1] 0.4762422"
      ]
     },
     "metadata": {},
     "output_type": "display_data"
    },
    {
     "data": {
      "text/html": [
       "0.385219061452448"
      ],
      "text/latex": [
       "0.385219061452448"
      ],
      "text/markdown": [
       "0.385219061452448"
      ],
      "text/plain": [
       "[1] 0.3852191"
      ]
     },
     "metadata": {},
     "output_type": "display_data"
    },
    {
     "data": {
      "text/html": [
       "0.913954771565499"
      ],
      "text/latex": [
       "0.913954771565499"
      ],
      "text/markdown": [
       "0.913954771565499"
      ],
      "text/plain": [
       "[1] 0.9139548"
      ]
     },
     "metadata": {},
     "output_type": "display_data"
    },
    {
     "data": {
      "text/html": [
       "0.399141259397198"
      ],
      "text/latex": [
       "0.399141259397198"
      ],
      "text/markdown": [
       "0.399141259397198"
      ],
      "text/plain": [
       "[1] 0.3991413"
      ]
     },
     "metadata": {},
     "output_type": "display_data"
    },
    {
     "data": {
      "text/html": [
       "0.513676927066598"
      ],
      "text/latex": [
       "0.513676927066598"
      ],
      "text/markdown": [
       "0.513676927066598"
      ],
      "text/plain": [
       "[1] 0.5136769"
      ]
     },
     "metadata": {},
     "output_type": "display_data"
    },
    {
     "data": {
      "text/html": [
       "0.424739274453933"
      ],
      "text/latex": [
       "0.424739274453933"
      ],
      "text/markdown": [
       "0.424739274453933"
      ],
      "text/plain": [
       "[1] 0.4247393"
      ]
     },
     "metadata": {},
     "output_type": "display_data"
    }
   ],
   "source": [
    "cor(baseball$Year, baseball$RA)\n",
    "cor(baseball$Year, baseball$RankSeason)\n",
    "cor(baseball$Year, baseball$NumCompetitors)\n",
    "cor(baseball$RA, baseball$RankSeason)\n",
    "cor(baseball$RA, baseball$NumCompetitors)\n",
    "cor(baseball$RankSeason, baseball$NumCompetitors)"
   ]
  },
  {
   "cell_type": "code",
   "execution_count": 54,
   "metadata": {},
   "outputs": [
    {
     "name": "stderr",
     "output_type": "stream",
     "text": [
      "Loading required package: gplots\n",
      "\n",
      "\n",
      "Attaching package: ‘gplots’\n",
      "\n",
      "\n",
      "The following object is masked from ‘package:stats’:\n",
      "\n",
      "    lowess\n",
      "\n",
      "\n"
     ]
    }
   ],
   "source": [
    "library(\"ROCR\")"
   ]
  },
  {
   "cell_type": "code",
   "execution_count": 58,
   "metadata": {},
   "outputs": [
    {
     "data": {
      "text/html": [
       "0.651420239766713"
      ],
      "text/latex": [
       "0.651420239766713"
      ],
      "text/markdown": [
       "0.651420239766713"
      ],
      "text/plain": [
       "[1] 0.6514202"
      ]
     },
     "metadata": {},
     "output_type": "display_data"
    }
   ],
   "source": [
    "WSLogsMult = glm(WorldSeries ~ Year + RA, data=baseball, family='binomial')\n",
    "pred = predict(WSLogsMult, type='response')\n",
    "ROCRpred = prediction(pred, baseball$WorldSeries)\n",
    "as.numeric(performance(ROCRpred, \"auc\")@y.values)"
   ]
  },
  {
   "cell_type": "code",
   "execution_count": 59,
   "metadata": {},
   "outputs": [
    {
     "data": {
      "text/html": [
       "0.653040285127984"
      ],
      "text/latex": [
       "0.653040285127984"
      ],
      "text/markdown": [
       "0.653040285127984"
      ],
      "text/plain": [
       "[1] 0.6530403"
      ]
     },
     "metadata": {},
     "output_type": "display_data"
    }
   ],
   "source": [
    "WSLogsMult = glm(WorldSeries ~ Year + RankSeason, data=baseball, family='binomial')\n",
    "pred = predict(WSLogsMult, type='response')\n",
    "ROCRpred = prediction(pred, baseball$WorldSeries)\n",
    "as.numeric(performance(ROCRpred, \"auc\")@y.values)"
   ]
  },
  {
   "cell_type": "code",
   "execution_count": 60,
   "metadata": {},
   "outputs": [
    {
     "data": {
      "text/html": [
       "0.645372070417972"
      ],
      "text/latex": [
       "0.645372070417972"
      ],
      "text/markdown": [
       "0.645372070417972"
      ],
      "text/plain": [
       "[1] 0.6453721"
      ]
     },
     "metadata": {},
     "output_type": "display_data"
    }
   ],
   "source": [
    "WSLogsMult = glm(WorldSeries ~ Year + NumCompetitors, data=baseball, family='binomial')\n",
    "pred = predict(WSLogsMult, type='response')\n",
    "ROCRpred = prediction(pred, baseball$WorldSeries)\n",
    "as.numeric(performance(ROCRpred, \"auc\")@y.values)"
   ]
  },
  {
   "cell_type": "code",
   "execution_count": 61,
   "metadata": {},
   "outputs": [
    {
     "data": {
      "text/html": [
       "0.622529430824063"
      ],
      "text/latex": [
       "0.622529430824063"
      ],
      "text/markdown": [
       "0.622529430824063"
      ],
      "text/plain": [
       "[1] 0.6225294"
      ]
     },
     "metadata": {},
     "output_type": "display_data"
    }
   ],
   "source": [
    "WSLogsMult = glm(WorldSeries ~ RA + RankSeason, data=baseball, family='binomial')\n",
    "pred = predict(WSLogsMult, type='response')\n",
    "ROCRpred = prediction(pred, baseball$WorldSeries)\n",
    "as.numeric(performance(ROCRpred, \"auc\")@y.values)"
   ]
  },
  {
   "cell_type": "code",
   "execution_count": 62,
   "metadata": {},
   "outputs": [
    {
     "data": {
      "text/html": [
       "0.657252403067286"
      ],
      "text/latex": [
       "0.657252403067286"
      ],
      "text/markdown": [
       "0.657252403067286"
      ],
      "text/plain": [
       "[1] 0.6572524"
      ]
     },
     "metadata": {},
     "output_type": "display_data"
    }
   ],
   "source": [
    "WSLogsMult = glm(WorldSeries ~ RA + NumCompetitors, data=baseball, family='binomial')\n",
    "pred = predict(WSLogsMult, type='response')\n",
    "ROCRpred = prediction(pred, baseball$WorldSeries)\n",
    "as.numeric(performance(ROCRpred, \"auc\")@y.values)"
   ]
  },
  {
   "cell_type": "code",
   "execution_count": 63,
   "metadata": {},
   "outputs": [
    {
     "data": {
      "text/html": [
       "0.65757641213954"
      ],
      "text/latex": [
       "0.65757641213954"
      ],
      "text/markdown": [
       "0.65757641213954"
      ],
      "text/plain": [
       "[1] 0.6575764"
      ]
     },
     "metadata": {},
     "output_type": "display_data"
    }
   ],
   "source": [
    "WSLogsMult = glm(WorldSeries ~ RankSeason + NumCompetitors, data=baseball, family='binomial')\n",
    "pred = predict(WSLogsMult, type='response')\n",
    "ROCRpred = prediction(pred, baseball$WorldSeries)\n",
    "as.numeric(performance(ROCRpred, \"auc\")@y.values)"
   ]
  },
  {
   "cell_type": "code",
   "execution_count": 64,
   "metadata": {},
   "outputs": [
    {
     "data": {
      "text/html": [
       "0.645372070417972"
      ],
      "text/latex": [
       "0.645372070417972"
      ],
      "text/markdown": [
       "0.645372070417972"
      ],
      "text/plain": [
       "[1] 0.6453721"
      ]
     },
     "metadata": {},
     "output_type": "display_data"
    }
   ],
   "source": [
    "WSLogsMult = glm(WorldSeries ~ Year, data=baseball, family='binomial')\n",
    "pred = predict(WSLogsMult, type='response')\n",
    "ROCRpred = prediction(pred, baseball$WorldSeries)\n",
    "as.numeric(performance(ROCRpred, \"auc\")@y.values)"
   ]
  },
  {
   "cell_type": "code",
   "execution_count": 65,
   "metadata": {},
   "outputs": [
    {
     "data": {
      "text/html": [
       "0.610973107247002"
      ],
      "text/latex": [
       "0.610973107247002"
      ],
      "text/markdown": [
       "0.610973107247002"
      ],
      "text/plain": [
       "[1] 0.6109731"
      ]
     },
     "metadata": {},
     "output_type": "display_data"
    }
   ],
   "source": [
    "WSLogsMult = glm(WorldSeries ~ RA, data=baseball, family='binomial')\n",
    "pred = predict(WSLogsMult, type='response')\n",
    "ROCRpred = prediction(pred, baseball$WorldSeries)\n",
    "as.numeric(performance(ROCRpred, \"auc\")@y.values)"
   ]
  },
  {
   "cell_type": "code",
   "execution_count": 66,
   "metadata": {},
   "outputs": [
    {
     "data": {
      "text/html": [
       "0.589966519062534"
      ],
      "text/latex": [
       "0.589966519062534"
      ],
      "text/markdown": [
       "0.589966519062534"
      ],
      "text/plain": [
       "[1] 0.5899665"
      ]
     },
     "metadata": {},
     "output_type": "display_data"
    }
   ],
   "source": [
    "WSLogsMult = glm(WorldSeries ~ RankSeason, data=baseball, family='binomial')\n",
    "pred = predict(WSLogsMult, type='response')\n",
    "ROCRpred = prediction(pred, baseball$WorldSeries)\n",
    "as.numeric(performance(ROCRpred, \"auc\")@y.values)"
   ]
  },
  {
   "cell_type": "code",
   "execution_count": 67,
   "metadata": {},
   "outputs": [
    {
     "data": {
      "text/html": [
       "0.645372070417972"
      ],
      "text/latex": [
       "0.645372070417972"
      ],
      "text/markdown": [
       "0.645372070417972"
      ],
      "text/plain": [
       "[1] 0.6453721"
      ]
     },
     "metadata": {},
     "output_type": "display_data"
    }
   ],
   "source": [
    "WSLogsMult = glm(WorldSeries ~ NumCompetitors, data=baseball, family='binomial')\n",
    "pred = predict(WSLogsMult, type='response')\n",
    "ROCRpred = prediction(pred, baseball$WorldSeries)\n",
    "as.numeric(performance(ROCRpred, \"auc\")@y.values)"
   ]
  }
 ],
 "metadata": {
  "kernelspec": {
   "display_name": "R",
   "language": "R",
   "name": "ir"
  },
  "language_info": {
   "codemirror_mode": "r",
   "file_extension": ".r",
   "mimetype": "text/x-r-source",
   "name": "R",
   "pygments_lexer": "r",
   "version": "3.6.2"
  }
 },
 "nbformat": 4,
 "nbformat_minor": 2
}
