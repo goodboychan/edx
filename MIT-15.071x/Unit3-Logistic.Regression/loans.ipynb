{
 "cells": [
  {
   "cell_type": "markdown",
   "metadata": {},
   "source": [
    "## Predicting Loan Repayment"
   ]
  },
  {
   "cell_type": "markdown",
   "metadata": {},
   "source": [
    "In the lending industry, investors provide loans to borrowers in exchange for the promise of repayment with interest. If the borrower repays the loan, then the lender profits from the interest. However, if the borrower is unable to repay the loan, then the lender loses money. Therefore, lenders face the problem of predicting the risk of a borrower being unable to repay a loan.\n",
    "\n",
    "To address this problem, we will use publicly available data from LendingClub.com, a website that connects borrowers and investors over the Internet. This dataset represents 9,578 3-year loans that were funded through the LendingClub.com platform between May 2007 and February 2010. The binary dependent variable not.fully.paid indicates that the loan was not paid back in full (the borrower either defaulted or the loan was \"charged off,\" meaning the borrower was deemed unlikely to ever pay it back)."
   ]
  },
  {
   "cell_type": "markdown",
   "metadata": {},
   "source": [
    "To predict this dependent variable, we will use the following independent variables available to the investor when deciding whether to fund a loan:\n",
    "\n",
    "- credit.policy: 1 if the customer meets the credit underwriting criteria of LendingClub.com, and 0 otherwise.\n",
    "- purpose: The purpose of the loan (takes values \"credit_card\", \"debt_consolidation\", \"educational\", \"major_purchase\", \"small_business\", and \"all_other\").\n",
    "- int.rate: The interest rate of the loan, as a proportion (a rate of 11% would be stored as 0.11). Borrowers judged by LendingClub.com to be more risky are assigned higher interest rates.\n",
    "- installment: The monthly installments (\\$) owed by the borrower if the loan is funded.\n",
    "- log.annual.inc: The natural log of the self-reported annual income of the borrower.\n",
    "- dti: The debt-to-income ratio of the borrower (amount of debt divided by annual income).\n",
    "- fico: The FICO credit score of the borrower.\n",
    "- days.with.cr.line: The number of days the borrower has had a credit line.\n",
    "- revol.bal: The borrower's revolving balance (amount unpaid at the end of the credit card billing cycle).\n",
    "- revol.util: The borrower's revolving line utilization rate (the amount of the credit line used relative to total credit available).\n",
    "- inq.last.6mths: The borrower's number of inquiries by creditors in the last 6 months.\n",
    "- delinq.2yrs: The number of times the borrower had been 30+ days past due on a payment in the past 2 years.\n",
    "- pub.rec: The borrower's number of derogatory public records (bankruptcy filings, tax liens, or judgments)."
   ]
  },
  {
   "cell_type": "markdown",
   "metadata": {},
   "source": [
    "### Preparing the Dataset"
   ]
  },
  {
   "cell_type": "code",
   "execution_count": 1,
   "metadata": {},
   "outputs": [
    {
     "name": "stdout",
     "output_type": "stream",
     "text": [
      "'data.frame':\t9578 obs. of  14 variables:\n",
      " $ credit.policy    : int  1 1 1 1 1 1 1 1 1 1 ...\n",
      " $ purpose          : Factor w/ 7 levels \"all_other\",\"credit_card\",..: 3 2 3 3 2 2 3 1 5 3 ...\n",
      " $ int.rate         : num  0.119 0.107 0.136 0.101 0.143 ...\n",
      " $ installment      : num  829 228 367 162 103 ...\n",
      " $ log.annual.inc   : num  11.4 11.1 10.4 11.4 11.3 ...\n",
      " $ dti              : num  19.5 14.3 11.6 8.1 15 ...\n",
      " $ fico             : int  737 707 682 712 667 727 667 722 682 707 ...\n",
      " $ days.with.cr.line: num  5640 2760 4710 2700 4066 ...\n",
      " $ revol.bal        : int  28854 33623 3511 33667 4740 50807 3839 24220 69909 5630 ...\n",
      " $ revol.util       : num  52.1 76.7 25.6 73.2 39.5 51 76.8 68.6 51.1 23 ...\n",
      " $ inq.last.6mths   : int  0 0 1 1 0 0 0 0 1 1 ...\n",
      " $ delinq.2yrs      : int  0 0 0 0 1 0 0 0 0 0 ...\n",
      " $ pub.rec          : int  0 0 0 0 0 0 1 0 0 0 ...\n",
      " $ not.fully.paid   : int  0 0 0 0 0 0 1 1 0 0 ...\n"
     ]
    }
   ],
   "source": [
    "loans = read.csv('./dataset/loans.csv')\n",
    "str(loans)"
   ]
  },
  {
   "cell_type": "code",
   "execution_count": 2,
   "metadata": {},
   "outputs": [
    {
     "data": {
      "text/plain": [
       " credit.policy                 purpose        int.rate       installment    \n",
       " Min.   :0.000   all_other         :2331   Min.   :0.0600   Min.   : 15.67  \n",
       " 1st Qu.:1.000   credit_card       :1262   1st Qu.:0.1039   1st Qu.:163.77  \n",
       " Median :1.000   debt_consolidation:3957   Median :0.1221   Median :268.95  \n",
       " Mean   :0.805   educational       : 343   Mean   :0.1226   Mean   :319.09  \n",
       " 3rd Qu.:1.000   home_improvement  : 629   3rd Qu.:0.1407   3rd Qu.:432.76  \n",
       " Max.   :1.000   major_purchase    : 437   Max.   :0.2164   Max.   :940.14  \n",
       "                 small_business    : 619                                    \n",
       " log.annual.inc        dti              fico       days.with.cr.line\n",
       " Min.   : 7.548   Min.   : 0.000   Min.   :612.0   Min.   :  179    \n",
       " 1st Qu.:10.558   1st Qu.: 7.213   1st Qu.:682.0   1st Qu.: 2820    \n",
       " Median :10.928   Median :12.665   Median :707.0   Median : 4140    \n",
       " Mean   :10.932   Mean   :12.607   Mean   :710.8   Mean   : 4562    \n",
       " 3rd Qu.:11.290   3rd Qu.:17.950   3rd Qu.:737.0   3rd Qu.: 5730    \n",
       " Max.   :14.528   Max.   :29.960   Max.   :827.0   Max.   :17640    \n",
       " NA's   :4                                         NA's   :29       \n",
       "   revol.bal         revol.util     inq.last.6mths    delinq.2yrs     \n",
       " Min.   :      0   Min.   :  0.00   Min.   : 0.000   Min.   : 0.0000  \n",
       " 1st Qu.:   3187   1st Qu.: 22.70   1st Qu.: 0.000   1st Qu.: 0.0000  \n",
       " Median :   8596   Median : 46.40   Median : 1.000   Median : 0.0000  \n",
       " Mean   :  16914   Mean   : 46.87   Mean   : 1.572   Mean   : 0.1638  \n",
       " 3rd Qu.:  18250   3rd Qu.: 71.00   3rd Qu.: 2.000   3rd Qu.: 0.0000  \n",
       " Max.   :1207359   Max.   :119.00   Max.   :33.000   Max.   :13.0000  \n",
       "                   NA's   :62       NA's   :29       NA's   :29       \n",
       "    pub.rec       not.fully.paid  \n",
       " Min.   :0.0000   Min.   :0.0000  \n",
       " 1st Qu.:0.0000   1st Qu.:0.0000  \n",
       " Median :0.0000   Median :0.0000  \n",
       " Mean   :0.0621   Mean   :0.1601  \n",
       " 3rd Qu.:0.0000   3rd Qu.:0.0000  \n",
       " Max.   :5.0000   Max.   :1.0000  \n",
       " NA's   :29                       "
      ]
     },
     "metadata": {},
     "output_type": "display_data"
    }
   ],
   "source": [
    "summary(loans)"
   ]
  },
  {
   "cell_type": "code",
   "execution_count": 3,
   "metadata": {},
   "outputs": [],
   "source": [
    "not_fully = subset(loans, not.fully.paid == 1)"
   ]
  },
  {
   "cell_type": "code",
   "execution_count": 4,
   "metadata": {},
   "outputs": [
    {
     "data": {
      "text/html": [
       "0.160054291083734"
      ],
      "text/latex": [
       "0.160054291083734"
      ],
      "text/markdown": [
       "0.160054291083734"
      ],
      "text/plain": [
       "[1] 0.1600543"
      ]
     },
     "metadata": {},
     "output_type": "display_data"
    }
   ],
   "source": [
    "nrow(not_fully) / nrow(loans)"
   ]
  },
  {
   "cell_type": "code",
   "execution_count": 6,
   "metadata": {},
   "outputs": [],
   "source": [
    "missing = subset(loans, is.na(log.annual.inc) | is.na(days.with.cr.line) | is.na(revol.util) | is.na(inq.last.6mths) | is.na(delinq.2yrs) | is.na(pub.rec))"
   ]
  },
  {
   "cell_type": "code",
   "execution_count": 8,
   "metadata": {},
   "outputs": [
    {
     "data": {
      "text/plain": [
       " credit.policy                  purpose      int.rate       installment    \n",
       " Min.   :0.0000   all_other         :41   Min.   :0.0712   Min.   : 23.35  \n",
       " 1st Qu.:0.0000   credit_card       : 3   1st Qu.:0.0933   1st Qu.: 78.44  \n",
       " Median :0.0000   debt_consolidation: 8   Median :0.1122   Median :145.91  \n",
       " Mean   :0.3871   educational       : 3   Mean   :0.1187   Mean   :159.19  \n",
       " 3rd Qu.:1.0000   home_improvement  : 1   3rd Qu.:0.1456   3rd Qu.:192.73  \n",
       " Max.   :1.0000   major_purchase    : 5   Max.   :0.1913   Max.   :859.57  \n",
       "                  small_business    : 1                                    \n",
       " log.annual.inc        dti              fico       days.with.cr.line\n",
       " Min.   : 8.294   Min.   : 0.000   Min.   :642.0   Min.   : 179     \n",
       " 1st Qu.:10.096   1st Qu.: 5.147   1st Qu.:682.0   1st Qu.:1830     \n",
       " Median :10.639   Median :10.000   Median :707.0   Median :2580     \n",
       " Mean   :10.558   Mean   : 9.184   Mean   :711.5   Mean   :3158     \n",
       " 3rd Qu.:11.248   3rd Qu.:11.540   3rd Qu.:740.8   3rd Qu.:4621     \n",
       " Max.   :13.004   Max.   :22.720   Max.   :802.0   Max.   :7890     \n",
       " NA's   :4                                         NA's   :29       \n",
       "   revol.bal        revol.util  inq.last.6mths   delinq.2yrs    \n",
       " Min.   :     0   Min.   : NA   Min.   :0.000   Min.   :0.0000  \n",
       " 1st Qu.:     0   1st Qu.: NA   1st Qu.:0.000   1st Qu.:0.0000  \n",
       " Median :     0   Median : NA   Median :1.000   Median :0.0000  \n",
       " Mean   :  5476   Mean   :NaN   Mean   :1.182   Mean   :0.2121  \n",
       " 3rd Qu.:     0   3rd Qu.: NA   3rd Qu.:2.000   3rd Qu.:0.0000  \n",
       " Max.   :290291   Max.   : NA   Max.   :6.000   Max.   :4.0000  \n",
       "                  NA's   :62    NA's   :29      NA's   :29      \n",
       "    pub.rec       not.fully.paid  \n",
       " Min.   :0.0000   Min.   :0.0000  \n",
       " 1st Qu.:0.0000   1st Qu.:0.0000  \n",
       " Median :0.0000   Median :0.0000  \n",
       " Mean   :0.0303   Mean   :0.1935  \n",
       " 3rd Qu.:0.0000   3rd Qu.:0.0000  \n",
       " Max.   :1.0000   Max.   :1.0000  \n",
       " NA's   :29                       "
      ]
     },
     "metadata": {},
     "output_type": "display_data"
    }
   ],
   "source": [
    "summary(missing)"
   ]
  },
  {
   "cell_type": "markdown",
   "metadata": {},
   "source": [
    "For the rest of this problem, we'll be using a revised version of the dataset that has the missing values filled in with multiple imputation (which was discussed in the Recitation of this Unit). To ensure everybody has the same data frame going forward, you can either run the commands below in your R console (if you haven't already, run the command install.packages(\"mice\") first), or you can download and load into R the dataset we created after running the imputation: loans_imputed.csv."
   ]
  },
  {
   "cell_type": "code",
   "execution_count": 9,
   "metadata": {},
   "outputs": [
    {
     "name": "stderr",
     "output_type": "stream",
     "text": [
      "\n",
      "Attaching package: ‘mice’\n",
      "\n",
      "\n",
      "The following objects are masked from ‘package:base’:\n",
      "\n",
      "    cbind, rbind\n",
      "\n",
      "\n"
     ]
    },
    {
     "name": "stdout",
     "output_type": "stream",
     "text": [
      "\n",
      " iter imp variable\n",
      "  1   1  log.annual.inc  days.with.cr.line  revol.util  inq.last.6mths  delinq.2yrs  pub.rec\n",
      "  1   2  log.annual.inc  days.with.cr.line  revol.util  inq.last.6mths  delinq.2yrs  pub.rec\n",
      "  1   3  log.annual.inc  days.with.cr.line  revol.util  inq.last.6mths  delinq.2yrs  pub.rec\n",
      "  1   4  log.annual.inc  days.with.cr.line  revol.util  inq.last.6mths  delinq.2yrs  pub.rec\n",
      "  1   5  log.annual.inc  days.with.cr.line  revol.util  inq.last.6mths  delinq.2yrs  pub.rec\n",
      "  2   1  log.annual.inc  days.with.cr.line  revol.util  inq.last.6mths  delinq.2yrs  pub.rec\n",
      "  2   2  log.annual.inc  days.with.cr.line  revol.util  inq.last.6mths  delinq.2yrs  pub.rec\n",
      "  2   3  log.annual.inc  days.with.cr.line  revol.util  inq.last.6mths  delinq.2yrs  pub.rec\n",
      "  2   4  log.annual.inc  days.with.cr.line  revol.util  inq.last.6mths  delinq.2yrs  pub.rec\n",
      "  2   5  log.annual.inc  days.with.cr.line  revol.util  inq.last.6mths  delinq.2yrs  pub.rec\n",
      "  3   1  log.annual.inc  days.with.cr.line  revol.util  inq.last.6mths  delinq.2yrs  pub.rec\n",
      "  3   2  log.annual.inc  days.with.cr.line  revol.util  inq.last.6mths  delinq.2yrs  pub.rec\n",
      "  3   3  log.annual.inc  days.with.cr.line  revol.util  inq.last.6mths  delinq.2yrs  pub.rec\n",
      "  3   4  log.annual.inc  days.with.cr.line  revol.util  inq.last.6mths  delinq.2yrs  pub.rec\n",
      "  3   5  log.annual.inc  days.with.cr.line  revol.util  inq.last.6mths  delinq.2yrs  pub.rec\n",
      "  4   1  log.annual.inc  days.with.cr.line  revol.util  inq.last.6mths  delinq.2yrs  pub.rec\n",
      "  4   2  log.annual.inc  days.with.cr.line  revol.util  inq.last.6mths  delinq.2yrs  pub.rec\n",
      "  4   3  log.annual.inc  days.with.cr.line  revol.util  inq.last.6mths  delinq.2yrs  pub.rec\n",
      "  4   4  log.annual.inc  days.with.cr.line  revol.util  inq.last.6mths  delinq.2yrs  pub.rec\n",
      "  4   5  log.annual.inc  days.with.cr.line  revol.util  inq.last.6mths  delinq.2yrs  pub.rec\n",
      "  5   1  log.annual.inc  days.with.cr.line  revol.util  inq.last.6mths  delinq.2yrs  pub.rec\n",
      "  5   2  log.annual.inc  days.with.cr.line  revol.util  inq.last.6mths  delinq.2yrs  pub.rec\n",
      "  5   3  log.annual.inc  days.with.cr.line  revol.util  inq.last.6mths  delinq.2yrs  pub.rec\n",
      "  5   4  log.annual.inc  days.with.cr.line  revol.util  inq.last.6mths  delinq.2yrs  pub.rec\n",
      "  5   5  log.annual.inc  days.with.cr.line  revol.util  inq.last.6mths  delinq.2yrs  pub.rec\n"
     ]
    }
   ],
   "source": [
    "library(mice)\n",
    "set.seed(144)\n",
    "vars.for.imputation = setdiff(names(loans), \"not.fully.paid\")\n",
    "imputed = complete(mice(loans[vars.for.imputation]))\n",
    "loans[vars.for.imputation] = imputed"
   ]
  },
  {
   "cell_type": "markdown",
   "metadata": {},
   "source": [
    "### Prediction Models"
   ]
  },
  {
   "cell_type": "code",
   "execution_count": 18,
   "metadata": {},
   "outputs": [],
   "source": [
    "set.seed(144)"
   ]
  },
  {
   "cell_type": "code",
   "execution_count": 19,
   "metadata": {},
   "outputs": [],
   "source": [
    "library(caTools)\n",
    "split = sample.split(loans$not.fully.paid, SplitRatio = 0.7)\n",
    "train = subset(loans, split == TRUE)\n",
    "test = subset(loans, split == FALSE)"
   ]
  },
  {
   "cell_type": "code",
   "execution_count": 20,
   "metadata": {},
   "outputs": [
    {
     "data": {
      "text/html": [
       "6705"
      ],
      "text/latex": [
       "6705"
      ],
      "text/markdown": [
       "6705"
      ],
      "text/plain": [
       "[1] 6705"
      ]
     },
     "metadata": {},
     "output_type": "display_data"
    }
   ],
   "source": [
    "nrow(train)"
   ]
  },
  {
   "cell_type": "code",
   "execution_count": 21,
   "metadata": {},
   "outputs": [
    {
     "data": {
      "text/html": [
       "2873"
      ],
      "text/latex": [
       "2873"
      ],
      "text/markdown": [
       "2873"
      ],
      "text/plain": [
       "[1] 2873"
      ]
     },
     "metadata": {},
     "output_type": "display_data"
    }
   ],
   "source": [
    "nrow(test)"
   ]
  },
  {
   "cell_type": "code",
   "execution_count": 22,
   "metadata": {},
   "outputs": [
    {
     "data": {
      "text/plain": [
       "\n",
       "Call:\n",
       "glm(formula = not.fully.paid ~ ., family = \"binomial\", data = train)\n",
       "\n",
       "Deviance Residuals: \n",
       "    Min       1Q   Median       3Q      Max  \n",
       "-2.2008  -0.6213  -0.4953  -0.3609   2.6389  \n",
       "\n",
       "Coefficients:\n",
       "                            Estimate Std. Error z value Pr(>|z|)    \n",
       "(Intercept)                9.250e+00  1.552e+00   5.959 2.54e-09 ***\n",
       "credit.policy             -3.417e-01  1.009e-01  -3.388 0.000704 ***\n",
       "purposecredit_card        -6.124e-01  1.344e-01  -4.557 5.18e-06 ***\n",
       "purposedebt_consolidation -3.199e-01  9.179e-02  -3.485 0.000493 ***\n",
       "purposeeducational         1.351e-01  1.753e-01   0.771 0.440814    \n",
       "purposehome_improvement    1.728e-01  1.479e-01   1.168 0.242901    \n",
       "purposemajor_purchase     -4.828e-01  2.008e-01  -2.404 0.016215 *  \n",
       "purposesmall_business      4.123e-01  1.418e-01   2.907 0.003653 ** \n",
       "int.rate                   6.434e-01  2.085e+00   0.309 0.757592    \n",
       "installment                1.274e-03  2.092e-04   6.091 1.12e-09 ***\n",
       "log.annual.inc            -4.328e-01  7.145e-02  -6.058 1.38e-09 ***\n",
       "dti                        4.781e-03  5.499e-03   0.869 0.384626    \n",
       "fico                      -9.408e-03  1.706e-03  -5.513 3.53e-08 ***\n",
       "days.with.cr.line          2.967e-06  1.586e-05   0.187 0.851551    \n",
       "revol.bal                  3.082e-06  1.167e-06   2.641 0.008276 ** \n",
       "revol.util                 1.632e-03  1.531e-03   1.066 0.286415    \n",
       "inq.last.6mths             8.227e-02  1.594e-02   5.160 2.48e-07 ***\n",
       "delinq.2yrs               -8.334e-02  6.551e-02  -1.272 0.203280    \n",
       "pub.rec                    3.299e-01  1.138e-01   2.899 0.003740 ** \n",
       "---\n",
       "Signif. codes:  0 ‘***’ 0.001 ‘**’ 0.01 ‘*’ 0.05 ‘.’ 0.1 ‘ ’ 1\n",
       "\n",
       "(Dispersion parameter for binomial family taken to be 1)\n",
       "\n",
       "    Null deviance: 5896.6  on 6704  degrees of freedom\n",
       "Residual deviance: 5486.9  on 6686  degrees of freedom\n",
       "AIC: 5524.9\n",
       "\n",
       "Number of Fisher Scoring iterations: 5\n"
      ]
     },
     "metadata": {},
     "output_type": "display_data"
    }
   ],
   "source": [
    "notFullyLogs = glm(not.fully.paid ~ ., data=train, family='binomial')\n",
    "summary(notFullyLogs)"
   ]
  },
  {
   "cell_type": "code",
   "execution_count": 28,
   "metadata": {},
   "outputs": [
    {
     "data": {
      "text/html": [
       "0.09408"
      ],
      "text/latex": [
       "0.09408"
      ],
      "text/markdown": [
       "0.09408"
      ],
      "text/plain": [
       "[1] 0.09408"
      ]
     },
     "metadata": {},
     "output_type": "display_data"
    }
   ],
   "source": [
    "-9.408e-03*-10"
   ]
  },
  {
   "cell_type": "code",
   "execution_count": 29,
   "metadata": {},
   "outputs": [
    {
     "data": {
      "text/html": [
       "1.09864763421233"
      ],
      "text/latex": [
       "1.09864763421233"
      ],
      "text/markdown": [
       "1.09864763421233"
      ],
      "text/plain": [
       "[1] 1.098648"
      ]
     },
     "metadata": {},
     "output_type": "display_data"
    }
   ],
   "source": [
    "exp(0.09408)"
   ]
  },
  {
   "cell_type": "code",
   "execution_count": 30,
   "metadata": {},
   "outputs": [],
   "source": [
    "testPred = predict(notFullyLogs, newdata=test, type='response')\n",
    "test$predicted.risk = testPred"
   ]
  },
  {
   "cell_type": "code",
   "execution_count": 31,
   "metadata": {},
   "outputs": [
    {
     "data": {
      "text/plain": [
       "   \n",
       "    FALSE TRUE\n",
       "  0  2400   13\n",
       "  1   457    3"
      ]
     },
     "metadata": {},
     "output_type": "display_data"
    }
   ],
   "source": [
    "table(test$not.fully.paid, testPred >= 0.5)"
   ]
  },
  {
   "cell_type": "code",
   "execution_count": 32,
   "metadata": {},
   "outputs": [
    {
     "data": {
      "text/html": [
       "0.836407935955447"
      ],
      "text/latex": [
       "0.836407935955447"
      ],
      "text/markdown": [
       "0.836407935955447"
      ],
      "text/plain": [
       "[1] 0.8364079"
      ]
     },
     "metadata": {},
     "output_type": "display_data"
    }
   ],
   "source": [
    "accuracy = (2400 + 3) / (2400 + 13 + 457 + 3)\n",
    "accuracy"
   ]
  },
  {
   "cell_type": "code",
   "execution_count": 33,
   "metadata": {},
   "outputs": [
    {
     "data": {
      "text/html": [
       "0.839888618169161"
      ],
      "text/latex": [
       "0.839888618169161"
      ],
      "text/markdown": [
       "0.839888618169161"
      ],
      "text/plain": [
       "[1] 0.8398886"
      ]
     },
     "metadata": {},
     "output_type": "display_data"
    }
   ],
   "source": [
    "notFullyFalse = subset(test, not.fully.paid == 0)\n",
    "accuracy_base = nrow(notFullyFalse) / nrow(test)\n",
    "accuracy_base"
   ]
  },
  {
   "cell_type": "code",
   "execution_count": 34,
   "metadata": {},
   "outputs": [
    {
     "name": "stderr",
     "output_type": "stream",
     "text": [
      "Loading required package: gplots\n",
      "\n",
      "\n",
      "Attaching package: ‘gplots’\n",
      "\n",
      "\n",
      "The following object is masked from ‘package:stats’:\n",
      "\n",
      "    lowess\n",
      "\n",
      "\n"
     ]
    }
   ],
   "source": [
    "library(ROCR)\n",
    "ROCRpredTest = prediction(testPred, test$not.fully.paid)\n",
    "ROCRperfTest = performance(ROCRpredTest, \"auc\")@y.values"
   ]
  },
  {
   "cell_type": "code",
   "execution_count": 35,
   "metadata": {},
   "outputs": [],
   "source": [
    "auc = as.numeric(ROCRperfTest)"
   ]
  },
  {
   "cell_type": "code",
   "execution_count": 36,
   "metadata": {},
   "outputs": [
    {
     "data": {
      "text/html": [
       "0.67210400187391"
      ],
      "text/latex": [
       "0.67210400187391"
      ],
      "text/markdown": [
       "0.67210400187391"
      ],
      "text/plain": [
       "[1] 0.672104"
      ]
     },
     "metadata": {},
     "output_type": "display_data"
    }
   ],
   "source": [
    "auc"
   ]
  },
  {
   "cell_type": "markdown",
   "metadata": {},
   "source": [
    "### A \"Smart Baseline\""
   ]
  },
  {
   "cell_type": "markdown",
   "metadata": {},
   "source": [
    "In the previous problem, we built a logistic regression model that has an AUC significantly higher than the AUC of 0.5 that would be obtained by randomly ordering observations.\n",
    "\n",
    "However, LendingClub.com assigns the interest rate to a loan based on their estimate of that loan's risk. This variable, int.rate, is an independent variable in our dataset. In this part, we will investigate using the loan's interest rate as a \"smart baseline\" to order the loans according to risk.\n",
    "\n",
    "Using the training set, build a bivariate logistic regression model (aka a logistic regression model with a single independent variable) that predicts the dependent variable not.fully.paid using only the variable int.rate."
   ]
  },
  {
   "cell_type": "code",
   "execution_count": 37,
   "metadata": {},
   "outputs": [
    {
     "data": {
      "text/plain": [
       "\n",
       "Call:\n",
       "glm(formula = not.fully.paid ~ int.rate, family = \"binomial\", \n",
       "    data = train)\n",
       "\n",
       "Deviance Residuals: \n",
       "    Min       1Q   Median       3Q      Max  \n",
       "-1.0547  -0.6271  -0.5442  -0.4361   2.2914  \n",
       "\n",
       "Coefficients:\n",
       "            Estimate Std. Error z value Pr(>|z|)    \n",
       "(Intercept)  -3.6726     0.1688  -21.76   <2e-16 ***\n",
       "int.rate     15.9214     1.2702   12.54   <2e-16 ***\n",
       "---\n",
       "Signif. codes:  0 ‘***’ 0.001 ‘**’ 0.01 ‘*’ 0.05 ‘.’ 0.1 ‘ ’ 1\n",
       "\n",
       "(Dispersion parameter for binomial family taken to be 1)\n",
       "\n",
       "    Null deviance: 5896.6  on 6704  degrees of freedom\n",
       "Residual deviance: 5734.8  on 6703  degrees of freedom\n",
       "AIC: 5738.8\n",
       "\n",
       "Number of Fisher Scoring iterations: 4\n"
      ]
     },
     "metadata": {},
     "output_type": "display_data"
    }
   ],
   "source": [
    "loansLogs = glm(not.fully.paid ~ int.rate, data=train, family='binomial')\n",
    "summary(loansLogs)"
   ]
  },
  {
   "cell_type": "code",
   "execution_count": 38,
   "metadata": {},
   "outputs": [
    {
     "data": {
      "text/html": [
       "0.42662398856619"
      ],
      "text/latex": [
       "0.42662398856619"
      ],
      "text/markdown": [
       "0.42662398856619"
      ],
      "text/plain": [
       "[1] 0.426624"
      ]
     },
     "metadata": {},
     "output_type": "display_data"
    }
   ],
   "source": [
    "testPred2= predict(loansLogs, newdata=test, type='response')\n",
    "max(testPred2)"
   ]
  },
  {
   "cell_type": "code",
   "execution_count": 39,
   "metadata": {},
   "outputs": [
    {
     "data": {
      "text/plain": [
       "   \n",
       "    FALSE\n",
       "  0  2413\n",
       "  1   460"
      ]
     },
     "metadata": {},
     "output_type": "display_data"
    }
   ],
   "source": [
    "table(test$not.fully.paid, testPred2 >= 0.5)"
   ]
  },
  {
   "cell_type": "code",
   "execution_count": 42,
   "metadata": {},
   "outputs": [
    {
     "data": {
      "text/html": [
       "0.623908088434026"
      ],
      "text/latex": [
       "0.623908088434026"
      ],
      "text/markdown": [
       "0.623908088434026"
      ],
      "text/plain": [
       "[1] 0.6239081"
      ]
     },
     "metadata": {},
     "output_type": "display_data"
    }
   ],
   "source": [
    "ROCRpredTest2 = prediction(testPred2, test$not.fully.paid)\n",
    "auc = as.numeric(performance(ROCRpredTest2, \"auc\")@y.values)\n",
    "auc"
   ]
  },
  {
   "cell_type": "markdown",
   "metadata": {},
   "source": [
    "### Computing the Profitability of an Investment"
   ]
  },
  {
   "cell_type": "markdown",
   "metadata": {},
   "source": [
    "While thus far we have predicted if a loan will be paid back or not, an investor needs to identify loans that are expected to be profitable. If the loan is paid back in full, then the investor makes interest on the loan. However, if the loan is not paid back, the investor loses the money invested. Therefore, the investor should seek loans that best balance this risk and reward.\n",
    "\n",
    "To compute interest revenue, consider a $c investment in a loan that has an annual interest rate r over a period of t years. Using continuous compounding of interest, this investment pays back c * exp(rt) dollars by the end of the t years, where exp(rt) is e raised to the r*t power."
   ]
  },
  {
   "cell_type": "code",
   "execution_count": 43,
   "metadata": {},
   "outputs": [
    {
     "data": {
      "text/html": [
       "11.9721736312181"
      ],
      "text/latex": [
       "11.9721736312181"
      ],
      "text/markdown": [
       "11.9721736312181"
      ],
      "text/plain": [
       "[1] 11.97217"
      ]
     },
     "metadata": {},
     "output_type": "display_data"
    }
   ],
   "source": [
    "10 * exp(0.06 * 3)"
   ]
  },
  {
   "cell_type": "markdown",
   "metadata": {},
   "source": [
    "### A Simple Investment Strategy"
   ]
  },
  {
   "cell_type": "markdown",
   "metadata": {},
   "source": [
    "In the previous subproblem, we concluded that an investor who invested c dollars in a loan with interest rate r for t years makes c * (exp(rt) - 1) dollars of profit if the loan is paid back in full and -c dollars of profit if the loan is not paid back in full (pessimistically).\n",
    "\n",
    "In order to evaluate the quality of an investment strategy, we need to compute this profit for each loan in the test set. For this variable, we will assume a $1 investment (aka c=1). To create the variable, we first assign to the profit for a fully paid loan, exp(rt)-1, to every observation, and we then replace this value with -1 in the cases where the loan was not paid in full. All the loans in our dataset are 3-year loans, meaning t=3 in our calculations. Enter the following commands in your R console to create this new variable:\n",
    "```R\n",
    "test$profit = exp(test$int.rate*3) - 1\n",
    "\n",
    "test$profit[test$not.fully.paid == 1] = -1\n",
    "```"
   ]
  },
  {
   "cell_type": "code",
   "execution_count": 44,
   "metadata": {},
   "outputs": [],
   "source": [
    "test$profit = exp(test$int.rate * 3) - 1\n",
    "test$profit[test$not.fully.paid == 1] = -1"
   ]
  },
  {
   "cell_type": "code",
   "execution_count": 46,
   "metadata": {},
   "outputs": [
    {
     "data": {
      "text/html": [
       "8.89476865467533"
      ],
      "text/latex": [
       "8.89476865467533"
      ],
      "text/markdown": [
       "8.89476865467533"
      ],
      "text/plain": [
       "[1] 8.894769"
      ]
     },
     "metadata": {},
     "output_type": "display_data"
    }
   ],
   "source": [
    "max(test$profit) * 10"
   ]
  },
  {
   "cell_type": "markdown",
   "metadata": {},
   "source": [
    "### An Investment Strategy Based on Risk"
   ]
  },
  {
   "cell_type": "markdown",
   "metadata": {},
   "source": [
    "A simple investment strategy of equally investing in all the loans would yield profit $20.94 for a $100 investment. But this simple investment strategy does not leverage the prediction model we built earlier in this problem. As stated earlier, investors seek loans that balance reward with risk, in that they simultaneously have high interest rates and a low risk of not being paid back.\n",
    "\n",
    "To meet this objective, we will analyze an investment strategy in which the investor only purchases loans with a high interest rate (a rate of at least 15%), but amongst these loans selects the ones with the lowest predicted risk of not being paid back in full. We will model an investor who invests $1 in each of the most promising 100 loans.\n",
    "\n",
    "First, use the subset() function to build a data frame called highInterest consisting of the test set loans with an interest rate of at least 15%."
   ]
  },
  {
   "cell_type": "code",
   "execution_count": 47,
   "metadata": {},
   "outputs": [
    {
     "data": {
      "text/plain": [
       "   Min. 1st Qu.  Median    Mean 3rd Qu.    Max. \n",
       " 0.0600  0.1028  0.1221  0.1225  0.1393  0.2121 "
      ]
     },
     "metadata": {},
     "output_type": "display_data"
    }
   ],
   "source": [
    "summary(test$int.rate)"
   ]
  },
  {
   "cell_type": "code",
   "execution_count": 48,
   "metadata": {},
   "outputs": [
    {
     "data": {
      "text/html": [
       "0.225101533115684"
      ],
      "text/latex": [
       "0.225101533115684"
      ],
      "text/markdown": [
       "0.225101533115684"
      ],
      "text/plain": [
       "[1] 0.2251015"
      ]
     },
     "metadata": {},
     "output_type": "display_data"
    }
   ],
   "source": [
    "highInterest = subset(test, int.rate >= 0.15)\n",
    "mean(highInterest$profit)"
   ]
  },
  {
   "cell_type": "code",
   "execution_count": 49,
   "metadata": {},
   "outputs": [
    {
     "data": {
      "text/html": [
       "0.251716247139588"
      ],
      "text/latex": [
       "0.251716247139588"
      ],
      "text/markdown": [
       "0.251716247139588"
      ],
      "text/plain": [
       "[1] 0.2517162"
      ]
     },
     "metadata": {},
     "output_type": "display_data"
    }
   ],
   "source": [
    "notfully_high = subset(highInterest, not.fully.paid == 1)\n",
    "nrow(notfully_high) / nrow(highInterest)"
   ]
  },
  {
   "cell_type": "markdown",
   "metadata": {},
   "source": [
    "Next, we will determine the 100th smallest predicted probability of not paying in full by sorting the predicted risks in increasing order and selecting the 100th element of this sorted list. Find the highest predicted risk that we will include by typing the following command into your R console:\n",
    "```R\n",
    "cutoff = sort(highInterest$predicted.risk, decreasing=FALSE)[100]\n",
    "```\n",
    "Use the subset() function to build a data frame called selectedLoans consisting of the high-interest loans with predicted risk not exceeding the cutoff we just computed. Check to make sure you have selected 100 loans for investment."
   ]
  },
  {
   "cell_type": "code",
   "execution_count": 50,
   "metadata": {},
   "outputs": [
    {
     "data": {
      "text/html": [
       "0.177088100552358"
      ],
      "text/latex": [
       "0.177088100552358"
      ],
      "text/markdown": [
       "0.177088100552358"
      ],
      "text/plain": [
       "[1] 0.1770881"
      ]
     },
     "metadata": {},
     "output_type": "display_data"
    }
   ],
   "source": [
    "cutoff = sort(highInterest$predicted.risk, decreasing=FALSE)[100]\n",
    "cutoff"
   ]
  },
  {
   "cell_type": "code",
   "execution_count": 54,
   "metadata": {},
   "outputs": [],
   "source": [
    "selectedLoans = subset(highInterest, predicted.risk <= cutoff)"
   ]
  },
  {
   "cell_type": "code",
   "execution_count": 55,
   "metadata": {},
   "outputs": [
    {
     "data": {
      "text/html": [
       "100"
      ],
      "text/latex": [
       "100"
      ],
      "text/markdown": [
       "100"
      ],
      "text/plain": [
       "[1] 100"
      ]
     },
     "metadata": {},
     "output_type": "display_data"
    }
   ],
   "source": [
    "nrow(selectedLoans)"
   ]
  },
  {
   "cell_type": "code",
   "execution_count": 56,
   "metadata": {},
   "outputs": [
    {
     "name": "stdout",
     "output_type": "stream",
     "text": [
      "'data.frame':\t100 obs. of  16 variables:\n",
      " $ credit.policy    : int  1 1 1 1 1 1 1 1 1 1 ...\n",
      " $ purpose          : Factor w/ 7 levels \"all_other\",\"credit_card\",..: 7 2 3 1 3 5 2 3 2 3 ...\n",
      " $ int.rate         : num  0.15 0.153 0.158 0.159 0.156 ...\n",
      " $ installment      : num  225 444 420 246 245 ...\n",
      " $ log.annual.inc   : num  12.3 11 11.5 11.5 10.8 ...\n",
      " $ dti              : num  6.45 19.52 18.55 24.19 2.72 ...\n",
      " $ fico             : int  677 667 667 667 672 702 667 672 662 682 ...\n",
      " $ days.with.cr.line: num  6240 2701 4560 5376 3010 ...\n",
      " $ revol.bal        : int  56411 33074 34841 590 3273 4980 15977 16473 22783 87502 ...\n",
      " $ revol.util       : num  75.3 68.8 89.6 84.3 69.6 55.3 83.6 94.1 93.7 96.4 ...\n",
      " $ inq.last.6mths   : int  0 2 0 0 1 1 0 2 3 0 ...\n",
      " $ delinq.2yrs      : int  0 0 0 0 0 0 0 2 1 1 ...\n",
      " $ pub.rec          : int  0 0 0 0 0 0 0 0 0 0 ...\n",
      " $ not.fully.paid   : int  1 0 0 0 1 0 0 0 0 0 ...\n",
      " $ predicted.risk   : num  0.164 0.169 0.158 0.162 0.146 ...\n",
      " $ profit           : num  -1 0.584 0.604 0.61 -1 ...\n"
     ]
    }
   ],
   "source": [
    "str(selectedLoans)"
   ]
  },
  {
   "cell_type": "code",
   "execution_count": 62,
   "metadata": {},
   "outputs": [
    {
     "data": {
      "text/html": [
       "31.2782492792533"
      ],
      "text/latex": [
       "31.2782492792533"
      ],
      "text/markdown": [
       "31.2782492792533"
      ],
      "text/plain": [
       "[1] 31.27825"
      ]
     },
     "metadata": {},
     "output_type": "display_data"
    }
   ],
   "source": [
    "sum(selectedLoans$profit)"
   ]
  },
  {
   "cell_type": "code",
   "execution_count": 61,
   "metadata": {},
   "outputs": [
    {
     "data": {
      "text/html": [
       "19"
      ],
      "text/latex": [
       "19"
      ],
      "text/markdown": [
       "19"
      ],
      "text/plain": [
       "[1] 19"
      ]
     },
     "metadata": {},
     "output_type": "display_data"
    }
   ],
   "source": [
    "nrow(subset(selectedLoans, not.fully.paid == 1))"
   ]
  }
 ],
 "metadata": {
  "kernelspec": {
   "display_name": "R",
   "language": "R",
   "name": "ir"
  },
  "language_info": {
   "codemirror_mode": "r",
   "file_extension": ".r",
   "mimetype": "text/x-r-source",
   "name": "R",
   "pygments_lexer": "r",
   "version": "3.6.2"
  }
 },
 "nbformat": 4,
 "nbformat_minor": 2
}
