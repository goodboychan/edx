{
 "cells": [
  {
   "cell_type": "markdown",
   "metadata": {},
   "source": [
    "### Dealing with Missing Data"
   ]
  },
  {
   "cell_type": "code",
   "execution_count": 1,
   "metadata": {},
   "outputs": [
    {
     "name": "stdout",
     "output_type": "stream",
     "text": [
      "'data.frame':\t145 obs. of  7 variables:\n",
      " $ State     : Factor w/ 50 levels \"Alabama\",\"Alaska\",..: 1 1 2 2 3 3 3 4 4 4 ...\n",
      " $ Year      : int  2004 2008 2004 2008 2004 2008 2012 2004 2008 2012 ...\n",
      " $ Rasmussen : int  11 21 NA 16 5 5 8 7 10 NA ...\n",
      " $ SurveyUSA : int  18 25 NA NA 15 NA NA 5 NA NA ...\n",
      " $ DiffCount : int  5 5 1 6 8 9 4 8 5 2 ...\n",
      " $ PropR     : num  1 1 1 1 1 ...\n",
      " $ Republican: int  1 1 1 1 1 1 1 1 1 1 ...\n"
     ]
    }
   ],
   "source": [
    "polling = read.csv('./dataset/PollingData.csv')\n",
    "str(polling)"
   ]
  },
  {
   "cell_type": "code",
   "execution_count": 2,
   "metadata": {},
   "outputs": [
    {
     "data": {
      "text/plain": [
       "\n",
       "2004 2008 2012 \n",
       "  50   50   45 "
      ]
     },
     "metadata": {},
     "output_type": "display_data"
    }
   ],
   "source": [
    "table(polling$Year)"
   ]
  },
  {
   "cell_type": "code",
   "execution_count": 3,
   "metadata": {},
   "outputs": [
    {
     "data": {
      "text/plain": [
       "         State          Year        Rasmussen          SurveyUSA       \n",
       " Arizona    :  3   Min.   :2004   Min.   :-41.0000   Min.   :-33.0000  \n",
       " Arkansas   :  3   1st Qu.:2004   1st Qu.: -8.0000   1st Qu.:-11.7500  \n",
       " California :  3   Median :2008   Median :  1.0000   Median : -2.0000  \n",
       " Colorado   :  3   Mean   :2008   Mean   :  0.0404   Mean   : -0.8243  \n",
       " Connecticut:  3   3rd Qu.:2012   3rd Qu.:  8.5000   3rd Qu.:  8.0000  \n",
       " Florida    :  3   Max.   :2012   Max.   : 39.0000   Max.   : 30.0000  \n",
       " (Other)    :127                  NA's   :46         NA's   :71        \n",
       "   DiffCount           PropR          Republican    \n",
       " Min.   :-19.000   Min.   :0.0000   Min.   :0.0000  \n",
       " 1st Qu.: -6.000   1st Qu.:0.0000   1st Qu.:0.0000  \n",
       " Median :  1.000   Median :0.6250   Median :1.0000  \n",
       " Mean   : -1.269   Mean   :0.5259   Mean   :0.5103  \n",
       " 3rd Qu.:  4.000   3rd Qu.:1.0000   3rd Qu.:1.0000  \n",
       " Max.   : 11.000   Max.   :1.0000   Max.   :1.0000  \n",
       "                                                    "
      ]
     },
     "metadata": {},
     "output_type": "display_data"
    }
   ],
   "source": [
    "summary(polling)"
   ]
  },
  {
   "cell_type": "markdown",
   "metadata": {},
   "source": [
    "#### Simple Approaches to Missing Data"
   ]
  },
  {
   "cell_type": "markdown",
   "metadata": {},
   "source": [
    "- Delete the missing observations\n",
    "    - throwing away more than 50% of the data\n",
    "    - want to predict for all states\n",
    "- Delete variables with missing values\n",
    "    - want to retain data from Rasmussen/SurveyUSA\n",
    "- Fill missing data points with average values\n",
    "    - the average value for a poll will be close to 0 (tie between Democrat and Republican)\n",
    "    - If other polls in a state favor one candidate, the missing one probably would have too."
   ]
  },
  {
   "cell_type": "markdown",
   "metadata": {},
   "source": [
    "#### Multiple Imputation"
   ]
  },
  {
   "cell_type": "markdown",
   "metadata": {},
   "source": [
    "- Fill in missing values based on non-missing values\n",
    "    - If Rasmussen is very negative, then a missing SurveyUSA value will likely be negative\n",
    "    - Just like `sample.split`, results will differ between runs unless you fix the random seed\n",
    "- Although the method is complicated, we can use it easily through R\\` libraries\n",
    "- Will use Multiple Imputation by Chained Equations (`mice`) package"
   ]
  },
  {
   "cell_type": "markdown",
   "metadata": {},
   "source": [
    "Requires to install\n",
    "```R\n",
    "install.packages(\"mice\")\n",
    "```"
   ]
  },
  {
   "cell_type": "code",
   "execution_count": 4,
   "metadata": {},
   "outputs": [
    {
     "name": "stderr",
     "output_type": "stream",
     "text": [
      "\n",
      "Attaching package: ‘mice’\n",
      "\n",
      "\n",
      "The following objects are masked from ‘package:base’:\n",
      "\n",
      "    cbind, rbind\n",
      "\n",
      "\n"
     ]
    }
   ],
   "source": [
    "library(\"mice\")"
   ]
  },
  {
   "cell_type": "code",
   "execution_count": 5,
   "metadata": {},
   "outputs": [
    {
     "data": {
      "text/plain": [
       "   Rasmussen          SurveyUSA            PropR          DiffCount      \n",
       " Min.   :-41.0000   Min.   :-33.0000   Min.   :0.0000   Min.   :-19.000  \n",
       " 1st Qu.: -8.0000   1st Qu.:-11.7500   1st Qu.:0.0000   1st Qu.: -6.000  \n",
       " Median :  1.0000   Median : -2.0000   Median :0.6250   Median :  1.000  \n",
       " Mean   :  0.0404   Mean   : -0.8243   Mean   :0.5259   Mean   : -1.269  \n",
       " 3rd Qu.:  8.5000   3rd Qu.:  8.0000   3rd Qu.:1.0000   3rd Qu.:  4.000  \n",
       " Max.   : 39.0000   Max.   : 30.0000   Max.   :1.0000   Max.   : 11.000  \n",
       " NA's   :46         NA's   :71                                           "
      ]
     },
     "metadata": {},
     "output_type": "display_data"
    }
   ],
   "source": [
    "simple = polling[c(\"Rasmussen\", \"SurveyUSA\", \"PropR\", \"DiffCount\")]\n",
    "summary(simple)"
   ]
  },
  {
   "cell_type": "code",
   "execution_count": 6,
   "metadata": {},
   "outputs": [],
   "source": [
    "set.seed(144)"
   ]
  },
  {
   "cell_type": "code",
   "execution_count": 7,
   "metadata": {},
   "outputs": [
    {
     "name": "stdout",
     "output_type": "stream",
     "text": [
      "\n",
      " iter imp variable\n",
      "  1   1  Rasmussen  SurveyUSA\n",
      "  1   2  Rasmussen  SurveyUSA\n",
      "  1   3  Rasmussen  SurveyUSA\n",
      "  1   4  Rasmussen  SurveyUSA\n",
      "  1   5  Rasmussen  SurveyUSA\n",
      "  2   1  Rasmussen  SurveyUSA\n",
      "  2   2  Rasmussen  SurveyUSA\n",
      "  2   3  Rasmussen  SurveyUSA\n",
      "  2   4  Rasmussen  SurveyUSA\n",
      "  2   5  Rasmussen  SurveyUSA\n",
      "  3   1  Rasmussen  SurveyUSA\n",
      "  3   2  Rasmussen  SurveyUSA\n",
      "  3   3  Rasmussen  SurveyUSA\n",
      "  3   4  Rasmussen  SurveyUSA\n",
      "  3   5  Rasmussen  SurveyUSA\n",
      "  4   1  Rasmussen  SurveyUSA\n",
      "  4   2  Rasmussen  SurveyUSA\n",
      "  4   3  Rasmussen  SurveyUSA\n",
      "  4   4  Rasmussen  SurveyUSA\n",
      "  4   5  Rasmussen  SurveyUSA\n",
      "  5   1  Rasmussen  SurveyUSA\n",
      "  5   2  Rasmussen  SurveyUSA\n",
      "  5   3  Rasmussen  SurveyUSA\n",
      "  5   4  Rasmussen  SurveyUSA\n",
      "  5   5  Rasmussen  SurveyUSA\n"
     ]
    }
   ],
   "source": [
    "imputed = complete(mice(simple))"
   ]
  },
  {
   "cell_type": "code",
   "execution_count": 8,
   "metadata": {},
   "outputs": [
    {
     "data": {
      "text/plain": [
       "   Rasmussen         SurveyUSA           PropR          DiffCount      \n",
       " Min.   :-41.000   Min.   :-33.000   Min.   :0.0000   Min.   :-19.000  \n",
       " 1st Qu.: -8.000   1st Qu.:-11.000   1st Qu.:0.0000   1st Qu.: -6.000  \n",
       " Median :  3.000   Median :  1.000   Median :0.6250   Median :  1.000  \n",
       " Mean   :  2.786   Mean   :  2.014   Mean   :0.5259   Mean   : -1.269  \n",
       " 3rd Qu.: 13.000   3rd Qu.: 18.000   3rd Qu.:1.0000   3rd Qu.:  4.000  \n",
       " Max.   : 39.000   Max.   : 30.000   Max.   :1.0000   Max.   : 11.000  "
      ]
     },
     "metadata": {},
     "output_type": "display_data"
    }
   ],
   "source": [
    "summary(imputed)"
   ]
  },
  {
   "cell_type": "code",
   "execution_count": 9,
   "metadata": {},
   "outputs": [
    {
     "data": {
      "text/plain": [
       "         State          Year        Rasmussen         SurveyUSA      \n",
       " Arizona    :  3   Min.   :2004   Min.   :-41.000   Min.   :-33.000  \n",
       " Arkansas   :  3   1st Qu.:2004   1st Qu.: -8.000   1st Qu.:-11.000  \n",
       " California :  3   Median :2008   Median :  3.000   Median :  1.000  \n",
       " Colorado   :  3   Mean   :2008   Mean   :  2.786   Mean   :  2.014  \n",
       " Connecticut:  3   3rd Qu.:2012   3rd Qu.: 13.000   3rd Qu.: 18.000  \n",
       " Florida    :  3   Max.   :2012   Max.   : 39.000   Max.   : 30.000  \n",
       " (Other)    :127                                                     \n",
       "   DiffCount           PropR          Republican    \n",
       " Min.   :-19.000   Min.   :0.0000   Min.   :0.0000  \n",
       " 1st Qu.: -6.000   1st Qu.:0.0000   1st Qu.:0.0000  \n",
       " Median :  1.000   Median :0.6250   Median :1.0000  \n",
       " Mean   : -1.269   Mean   :0.5259   Mean   :0.5103  \n",
       " 3rd Qu.:  4.000   3rd Qu.:1.0000   3rd Qu.:1.0000  \n",
       " Max.   : 11.000   Max.   :1.0000   Max.   :1.0000  \n",
       "                                                    "
      ]
     },
     "metadata": {},
     "output_type": "display_data"
    }
   ],
   "source": [
    "polling$Rasmussen = imputed$Rasmussen\n",
    "polling$SurveyUSA = imputed$SurveyUSA\n",
    "summary(polling)"
   ]
  },
  {
   "cell_type": "markdown",
   "metadata": {},
   "source": [
    "### Sophisticated Baseline Method"
   ]
  },
  {
   "cell_type": "code",
   "execution_count": 10,
   "metadata": {},
   "outputs": [],
   "source": [
    "train = subset(polling, Year == 2004 | Year == 2008)\n",
    "test = subset(polling, Year == 2012)"
   ]
  },
  {
   "cell_type": "code",
   "execution_count": 11,
   "metadata": {},
   "outputs": [
    {
     "data": {
      "text/plain": [
       "\n",
       " 0  1 \n",
       "47 53 "
      ]
     },
     "metadata": {},
     "output_type": "display_data"
    }
   ],
   "source": [
    "table(train$Republican)"
   ]
  },
  {
   "cell_type": "code",
   "execution_count": 12,
   "metadata": {},
   "outputs": [
    {
     "data": {
      "text/plain": [
       "\n",
       "-1  0  1 \n",
       "42  2 56 "
      ]
     },
     "metadata": {},
     "output_type": "display_data"
    }
   ],
   "source": [
    "table(sign(train$Rasmussen))"
   ]
  },
  {
   "cell_type": "code",
   "execution_count": 13,
   "metadata": {},
   "outputs": [
    {
     "data": {
      "text/plain": [
       "   \n",
       "    -1  0  1\n",
       "  0 42  1  4\n",
       "  1  0  1 52"
      ]
     },
     "metadata": {},
     "output_type": "display_data"
    }
   ],
   "source": [
    "table(train$Republican, sign(train$Rasmussen))"
   ]
  },
  {
   "cell_type": "markdown",
   "metadata": {},
   "source": [
    "### Logistic Regression Models"
   ]
  },
  {
   "cell_type": "code",
   "execution_count": 14,
   "metadata": {},
   "outputs": [
    {
     "ename": "ERROR",
     "evalue": "Error in cor(train): 'x' must be numeric\n",
     "output_type": "error",
     "traceback": [
      "Error in cor(train): 'x' must be numeric\nTraceback:\n",
      "1. cor(train)",
      "2. stop(\"'x' must be numeric\")"
     ]
    }
   ],
   "source": [
    "cor(train)"
   ]
  },
  {
   "cell_type": "code",
   "execution_count": 15,
   "metadata": {},
   "outputs": [
    {
     "name": "stdout",
     "output_type": "stream",
     "text": [
      "'data.frame':\t100 obs. of  7 variables:\n",
      " $ State     : Factor w/ 50 levels \"Alabama\",\"Alaska\",..: 1 1 2 2 3 3 4 4 5 5 ...\n",
      " $ Year      : int  2004 2008 2004 2008 2004 2008 2004 2008 2004 2008 ...\n",
      " $ Rasmussen : int  11 21 39 16 5 5 7 10 -11 -27 ...\n",
      " $ SurveyUSA : int  18 25 24 19 15 3 5 18 -11 -24 ...\n",
      " $ DiffCount : int  5 5 1 6 8 9 8 5 -8 -5 ...\n",
      " $ PropR     : num  1 1 1 1 1 1 1 1 0 0 ...\n",
      " $ Republican: int  1 1 1 1 1 1 1 1 0 0 ...\n"
     ]
    }
   ],
   "source": [
    "str(train)"
   ]
  },
  {
   "cell_type": "code",
   "execution_count": 16,
   "metadata": {},
   "outputs": [
    {
     "data": {
      "text/html": [
       "<table>\n",
       "<caption>A matrix: 5 × 5 of type dbl</caption>\n",
       "<thead>\n",
       "\t<tr><th></th><th scope=col>Rasmussen</th><th scope=col>SurveyUSA</th><th scope=col>PropR</th><th scope=col>DiffCount</th><th scope=col>Republican</th></tr>\n",
       "</thead>\n",
       "<tbody>\n",
       "\t<tr><th scope=row>Rasmussen</th><td>1.0000000</td><td>0.9127481</td><td>0.8356056</td><td>0.4926308</td><td>0.7908133</td></tr>\n",
       "\t<tr><th scope=row>SurveyUSA</th><td>0.9127481</td><td>1.0000000</td><td>0.8869625</td><td>0.5695477</td><td>0.8418046</td></tr>\n",
       "\t<tr><th scope=row>PropR</th><td>0.8356056</td><td>0.8869625</td><td>1.0000000</td><td>0.8273785</td><td>0.9484204</td></tr>\n",
       "\t<tr><th scope=row>DiffCount</th><td>0.4926308</td><td>0.5695477</td><td>0.8273785</td><td>1.0000000</td><td>0.8092777</td></tr>\n",
       "\t<tr><th scope=row>Republican</th><td>0.7908133</td><td>0.8418046</td><td>0.9484204</td><td>0.8092777</td><td>1.0000000</td></tr>\n",
       "</tbody>\n",
       "</table>\n"
      ],
      "text/latex": [
       "A matrix: 5 × 5 of type dbl\n",
       "\\begin{tabular}{r|lllll}\n",
       "  & Rasmussen & SurveyUSA & PropR & DiffCount & Republican\\\\\n",
       "\\hline\n",
       "\tRasmussen & 1.0000000 & 0.9127481 & 0.8356056 & 0.4926308 & 0.7908133\\\\\n",
       "\tSurveyUSA & 0.9127481 & 1.0000000 & 0.8869625 & 0.5695477 & 0.8418046\\\\\n",
       "\tPropR & 0.8356056 & 0.8869625 & 1.0000000 & 0.8273785 & 0.9484204\\\\\n",
       "\tDiffCount & 0.4926308 & 0.5695477 & 0.8273785 & 1.0000000 & 0.8092777\\\\\n",
       "\tRepublican & 0.7908133 & 0.8418046 & 0.9484204 & 0.8092777 & 1.0000000\\\\\n",
       "\\end{tabular}\n"
      ],
      "text/markdown": [
       "\n",
       "A matrix: 5 × 5 of type dbl\n",
       "\n",
       "| <!--/--> | Rasmussen | SurveyUSA | PropR | DiffCount | Republican |\n",
       "|---|---|---|---|---|---|\n",
       "| Rasmussen | 1.0000000 | 0.9127481 | 0.8356056 | 0.4926308 | 0.7908133 |\n",
       "| SurveyUSA | 0.9127481 | 1.0000000 | 0.8869625 | 0.5695477 | 0.8418046 |\n",
       "| PropR | 0.8356056 | 0.8869625 | 1.0000000 | 0.8273785 | 0.9484204 |\n",
       "| DiffCount | 0.4926308 | 0.5695477 | 0.8273785 | 1.0000000 | 0.8092777 |\n",
       "| Republican | 0.7908133 | 0.8418046 | 0.9484204 | 0.8092777 | 1.0000000 |\n",
       "\n"
      ],
      "text/plain": [
       "           Rasmussen SurveyUSA PropR     DiffCount Republican\n",
       "Rasmussen  1.0000000 0.9127481 0.8356056 0.4926308 0.7908133 \n",
       "SurveyUSA  0.9127481 1.0000000 0.8869625 0.5695477 0.8418046 \n",
       "PropR      0.8356056 0.8869625 1.0000000 0.8273785 0.9484204 \n",
       "DiffCount  0.4926308 0.5695477 0.8273785 1.0000000 0.8092777 \n",
       "Republican 0.7908133 0.8418046 0.9484204 0.8092777 1.0000000 "
      ]
     },
     "metadata": {},
     "output_type": "display_data"
    }
   ],
   "source": [
    "cor(train[c(\"Rasmussen\", \"SurveyUSA\", \"PropR\", \"DiffCount\", \"Republican\")])"
   ]
  },
  {
   "cell_type": "code",
   "execution_count": 17,
   "metadata": {},
   "outputs": [
    {
     "data": {
      "text/plain": [
       "\n",
       "Call:\n",
       "glm(formula = Republican ~ PropR, family = \"binomial\", data = train)\n",
       "\n",
       "Deviance Residuals: \n",
       "     Min        1Q    Median        3Q       Max  \n",
       "-2.22880  -0.06541   0.10260   0.10260   1.37392  \n",
       "\n",
       "Coefficients:\n",
       "            Estimate Std. Error z value Pr(>|z|)    \n",
       "(Intercept)   -6.146      1.977  -3.108 0.001882 ** \n",
       "PropR         11.390      3.153   3.613 0.000303 ***\n",
       "---\n",
       "Signif. codes:  0 ‘***’ 0.001 ‘**’ 0.01 ‘*’ 0.05 ‘.’ 0.1 ‘ ’ 1\n",
       "\n",
       "(Dispersion parameter for binomial family taken to be 1)\n",
       "\n",
       "    Null deviance: 138.269  on 99  degrees of freedom\n",
       "Residual deviance:  15.772  on 98  degrees of freedom\n",
       "AIC: 19.772\n",
       "\n",
       "Number of Fisher Scoring iterations: 8\n"
      ]
     },
     "metadata": {},
     "output_type": "display_data"
    }
   ],
   "source": [
    "mod1 = glm(Republican ~ PropR, data=train, family=\"binomial\")\n",
    "summary(mod1)"
   ]
  },
  {
   "cell_type": "code",
   "execution_count": 18,
   "metadata": {},
   "outputs": [],
   "source": [
    "pred1 = predict(mod1, type=\"response\")"
   ]
  },
  {
   "cell_type": "code",
   "execution_count": 19,
   "metadata": {},
   "outputs": [
    {
     "data": {
      "text/plain": [
       "   \n",
       "    FALSE TRUE\n",
       "  0    45    2\n",
       "  1     2   51"
      ]
     },
     "metadata": {},
     "output_type": "display_data"
    }
   ],
   "source": [
    "table(train$Republican, pred1 >= 0.5)"
   ]
  },
  {
   "cell_type": "code",
   "execution_count": 20,
   "metadata": {},
   "outputs": [
    {
     "data": {
      "text/plain": [
       "\n",
       "Call:\n",
       "glm(formula = Republican ~ SurveyUSA + DiffCount, family = \"binomial\", \n",
       "    data = train)\n",
       "\n",
       "Deviance Residuals: \n",
       "     Min        1Q    Median        3Q       Max  \n",
       "-1.96335  -0.01207   0.01526   0.06363   1.50373  \n",
       "\n",
       "Coefficients:\n",
       "            Estimate Std. Error z value Pr(>|z|)  \n",
       "(Intercept)  -0.9991     1.2437  -0.803   0.4218  \n",
       "SurveyUSA     0.2583     0.1454   1.777   0.0756 .\n",
       "DiffCount     0.7388     0.4464   1.655   0.0979 .\n",
       "---\n",
       "Signif. codes:  0 ‘***’ 0.001 ‘**’ 0.01 ‘*’ 0.05 ‘.’ 0.1 ‘ ’ 1\n",
       "\n",
       "(Dispersion parameter for binomial family taken to be 1)\n",
       "\n",
       "    Null deviance: 138.269  on 99  degrees of freedom\n",
       "Residual deviance:  10.749  on 97  degrees of freedom\n",
       "AIC: 16.749\n",
       "\n",
       "Number of Fisher Scoring iterations: 9\n"
      ]
     },
     "metadata": {},
     "output_type": "display_data"
    }
   ],
   "source": [
    "mod2 = glm(Republican ~ SurveyUSA + DiffCount, data=train, family=\"binomial\")\n",
    "summary(mod2)"
   ]
  },
  {
   "cell_type": "code",
   "execution_count": 21,
   "metadata": {},
   "outputs": [
    {
     "data": {
      "text/plain": [
       "   \n",
       "    FALSE TRUE\n",
       "  0    45    2\n",
       "  1     1   52"
      ]
     },
     "metadata": {},
     "output_type": "display_data"
    }
   ],
   "source": [
    "pred2 = predict(mod2, type='response')\n",
    "table(train$Republican, pred2 >= 0.5)"
   ]
  },
  {
   "cell_type": "markdown",
   "metadata": {},
   "source": [
    "### Test Set Predictions"
   ]
  },
  {
   "cell_type": "code",
   "execution_count": 23,
   "metadata": {},
   "outputs": [
    {
     "data": {
      "text/plain": [
       "   \n",
       "    -1  0  1\n",
       "  0 18  2  4\n",
       "  1  0  0 21"
      ]
     },
     "metadata": {},
     "output_type": "display_data"
    }
   ],
   "source": [
    "table(test$Republican, sign(test$Rasmussen))"
   ]
  },
  {
   "cell_type": "code",
   "execution_count": 24,
   "metadata": {},
   "outputs": [
    {
     "data": {
      "text/plain": [
       "   \n",
       "    FALSE TRUE\n",
       "  0    23    1\n",
       "  1     0   21"
      ]
     },
     "metadata": {},
     "output_type": "display_data"
    }
   ],
   "source": [
    "testPred = predict(mod2, newdata=test, type='response')\n",
    "table(test$Republican, testPred >= 0.5)"
   ]
  },
  {
   "cell_type": "code",
   "execution_count": 25,
   "metadata": {},
   "outputs": [
    {
     "data": {
      "text/html": [
       "<table>\n",
       "<caption>A data.frame: 1 × 7</caption>\n",
       "<thead>\n",
       "\t<tr><th></th><th scope=col>State</th><th scope=col>Year</th><th scope=col>Rasmussen</th><th scope=col>SurveyUSA</th><th scope=col>DiffCount</th><th scope=col>PropR</th><th scope=col>Republican</th></tr>\n",
       "\t<tr><th></th><th scope=col>&lt;fct&gt;</th><th scope=col>&lt;int&gt;</th><th scope=col>&lt;int&gt;</th><th scope=col>&lt;int&gt;</th><th scope=col>&lt;int&gt;</th><th scope=col>&lt;dbl&gt;</th><th scope=col>&lt;int&gt;</th></tr>\n",
       "</thead>\n",
       "<tbody>\n",
       "\t<tr><th scope=row>24</th><td>Florida</td><td>2012</td><td>2</td><td>0</td><td>6</td><td>0.6666667</td><td>0</td></tr>\n",
       "</tbody>\n",
       "</table>\n"
      ],
      "text/latex": [
       "A data.frame: 1 × 7\n",
       "\\begin{tabular}{r|lllllll}\n",
       "  & State & Year & Rasmussen & SurveyUSA & DiffCount & PropR & Republican\\\\\n",
       "  & <fct> & <int> & <int> & <int> & <int> & <dbl> & <int>\\\\\n",
       "\\hline\n",
       "\t24 & Florida & 2012 & 2 & 0 & 6 & 0.6666667 & 0\\\\\n",
       "\\end{tabular}\n"
      ],
      "text/markdown": [
       "\n",
       "A data.frame: 1 × 7\n",
       "\n",
       "| <!--/--> | State &lt;fct&gt; | Year &lt;int&gt; | Rasmussen &lt;int&gt; | SurveyUSA &lt;int&gt; | DiffCount &lt;int&gt; | PropR &lt;dbl&gt; | Republican &lt;int&gt; |\n",
       "|---|---|---|---|---|---|---|---|\n",
       "| 24 | Florida | 2012 | 2 | 0 | 6 | 0.6666667 | 0 |\n",
       "\n"
      ],
      "text/plain": [
       "   State   Year Rasmussen SurveyUSA DiffCount PropR     Republican\n",
       "24 Florida 2012 2         0         6         0.6666667 0         "
      ]
     },
     "metadata": {},
     "output_type": "display_data"
    }
   ],
   "source": [
    "subset(test, testPred >= 0.5 & Republican == 0)"
   ]
  }
 ],
 "metadata": {
  "kernelspec": {
   "display_name": "R",
   "language": "R",
   "name": "ir"
  },
  "language_info": {
   "codemirror_mode": "r",
   "file_extension": ".r",
   "mimetype": "text/x-r-source",
   "name": "R",
   "pygments_lexer": "r",
   "version": "3.6.3"
  }
 },
 "nbformat": 4,
 "nbformat_minor": 2
}
