{
 "cells": [
  {
   "cell_type": "markdown",
   "metadata": {},
   "source": [
    "## Airline Revenue Management"
   ]
  },
  {
   "cell_type": "markdown",
   "metadata": {},
   "source": [
    "we show how the airline revenue management problems discussed in this lecture can be solved in R using the \"lpSolveAPI\" package. This package allows you to solve linear optimization problems in R using the lp_solve library, which is an open-sourced optimization solver. \n",
    "\n",
    "If you are solving larger and more complex optimization problems, lp_solve might not be powerful enough to solve your problems. There are other optimization packages available in R that rely on commercial solvers, such as cplexAPI and Rcplex. For more information, see the CRAN Optimization page: (http://cran.us.r-project.org/web/views/Optimization.html)\n",
    ": requires to install-\n",
    "```R \n",
    "install.packages(\"lpSolveAPI\")\n",
    "```"
   ]
  },
  {
   "cell_type": "code",
   "execution_count": 2,
   "metadata": {},
   "outputs": [],
   "source": [
    "library(\"lpSolveAPI\")"
   ]
  },
  {
   "cell_type": "markdown",
   "metadata": {},
   "source": [
    "Now let's start by solving the simple airline problem with just two decision variables: the number of regular seats to offer, and the number of discount seats to offer. \n",
    "\n",
    "The first step is to create a model, which takes as arguments the number of constraints in your model, and the number of decision variables in your model. We have three constraints (one capacity constraint and two demand constraints) and two decision variables."
   ]
  },
  {
   "cell_type": "code",
   "execution_count": 3,
   "metadata": {},
   "outputs": [],
   "source": [
    "AirlineSimple = make.lp(3, 2)"
   ]
  },
  {
   "cell_type": "markdown",
   "metadata": {},
   "source": [
    " Now we need to set up the constraints and objective. The best way to do this using the lpSolveAPI package is by viewing the constraints in a matrix format. Our objective and three constraints are as follows:\n",
    "$$ \\begin{align}  \\text{max} \\qquad &       617*R + 238*D \\\\ \n",
    " \\text{subject to} \\quad & 1*R +   1*D <= 166 \\\\\n",
    " & 1*R\t+   0*D <= 100 \\\\ \n",
    " & 0*R +   1*D <= 150 \n",
    " \\end{align}  $$"
   ]
  },
  {
   "cell_type": "markdown",
   "metadata": {},
   "source": [
    "So the first column in our constraint matrix is c(1,1,0), and the second column in our constraint matrix is c(1,0,1). We also need to indicate that these are less-than-or-equal constraints, and set the right-hand-side values to c(166,100,150):"
   ]
  },
  {
   "cell_type": "code",
   "execution_count": 4,
   "metadata": {},
   "outputs": [],
   "source": [
    "set.column(AirlineSimple, 1, c(1,1,0))\n",
    "set.column(AirlineSimple, 2, c(1,0,1))\n",
    "set.constr.type(AirlineSimple, c(\"<=\",\"<=\",\"<=\"))\n",
    "set.rhs(AirlineSimple, c(166,100,150))"
   ]
  },
  {
   "cell_type": "markdown",
   "metadata": {},
   "source": [
    "And our objective coefficients are c(617,238):"
   ]
  },
  {
   "cell_type": "code",
   "execution_count": 5,
   "metadata": {},
   "outputs": [],
   "source": [
    "set.objfn(AirlineSimple, c(617,238))"
   ]
  },
  {
   "cell_type": "markdown",
   "metadata": {},
   "source": [
    "The default setting is minimize for the objective, so we need to tell R that we are maximizing our objective:"
   ]
  },
  {
   "cell_type": "code",
   "execution_count": 6,
   "metadata": {},
   "outputs": [
    {
     "data": {
      "text/html": [
       "<dl>\n",
       "\t<dt>$anti.degen</dt>\n",
       "\t\t<dd><style>\n",
       ".list-inline {list-style: none; margin:0; padding: 0}\n",
       ".list-inline>li {display: inline-block}\n",
       ".list-inline>li:not(:last-child)::after {content: \"\\00b7\"; padding: 0 .5ex}\n",
       "</style>\n",
       "<ol class=list-inline><li>'fixedvars'</li><li>'stalling'</li></ol>\n",
       "</dd>\n",
       "\t<dt>$basis.crash</dt>\n",
       "\t\t<dd>'none'</dd>\n",
       "\t<dt>$bb.depthlimit</dt>\n",
       "\t\t<dd>-50</dd>\n",
       "\t<dt>$bb.floorfirst</dt>\n",
       "\t\t<dd>'automatic'</dd>\n",
       "\t<dt>$bb.rule</dt>\n",
       "\t\t<dd><style>\n",
       ".list-inline {list-style: none; margin:0; padding: 0}\n",
       ".list-inline>li {display: inline-block}\n",
       ".list-inline>li:not(:last-child)::after {content: \"\\00b7\"; padding: 0 .5ex}\n",
       "</style>\n",
       "<ol class=list-inline><li>'pseudononint'</li><li>'greedy'</li><li>'dynamic'</li><li>'rcostfixing'</li></ol>\n",
       "</dd>\n",
       "\t<dt>$break.at.first</dt>\n",
       "\t\t<dd>FALSE</dd>\n",
       "\t<dt>$break.at.value</dt>\n",
       "\t\t<dd>1e+30</dd>\n",
       "\t<dt>$epsilon</dt>\n",
       "\t\t<dd><style>\n",
       ".dl-inline {width: auto; margin:0; padding: 0}\n",
       ".dl-inline>dt, .dl-inline>dd {float: none; width: auto; display: inline-block}\n",
       ".dl-inline>dt::after {content: \":\\0020\"; padding-right: .5ex}\n",
       ".dl-inline>dt:not(:first-of-type) {padding-left: .5ex}\n",
       "</style><dl class=dl-inline><dt>epsb</dt><dd>1e-10</dd><dt>epsd</dt><dd>1e-09</dd><dt>epsel</dt><dd>1e-12</dd><dt>epsint</dt><dd>1e-07</dd><dt>epsperturb</dt><dd>1e-05</dd><dt>epspivot</dt><dd>2e-07</dd></dl>\n",
       "</dd>\n",
       "\t<dt>$improve</dt>\n",
       "\t\t<dd><style>\n",
       ".list-inline {list-style: none; margin:0; padding: 0}\n",
       ".list-inline>li {display: inline-block}\n",
       ".list-inline>li:not(:last-child)::after {content: \"\\00b7\"; padding: 0 .5ex}\n",
       "</style>\n",
       "<ol class=list-inline><li>'dualfeas'</li><li>'thetagap'</li></ol>\n",
       "</dd>\n",
       "\t<dt>$infinite</dt>\n",
       "\t\t<dd>1e+30</dd>\n",
       "\t<dt>$maxpivot</dt>\n",
       "\t\t<dd>250</dd>\n",
       "\t<dt>$mip.gap</dt>\n",
       "\t\t<dd><style>\n",
       ".dl-inline {width: auto; margin:0; padding: 0}\n",
       ".dl-inline>dt, .dl-inline>dd {float: none; width: auto; display: inline-block}\n",
       ".dl-inline>dt::after {content: \":\\0020\"; padding-right: .5ex}\n",
       ".dl-inline>dt:not(:first-of-type) {padding-left: .5ex}\n",
       "</style><dl class=dl-inline><dt>absolute</dt><dd>1e-11</dd><dt>relative</dt><dd>1e-11</dd></dl>\n",
       "</dd>\n",
       "\t<dt>$negrange</dt>\n",
       "\t\t<dd>-1e+06</dd>\n",
       "\t<dt>$obj.in.basis</dt>\n",
       "\t\t<dd>TRUE</dd>\n",
       "\t<dt>$pivoting</dt>\n",
       "\t\t<dd><style>\n",
       ".list-inline {list-style: none; margin:0; padding: 0}\n",
       ".list-inline>li {display: inline-block}\n",
       ".list-inline>li:not(:last-child)::after {content: \"\\00b7\"; padding: 0 .5ex}\n",
       "</style>\n",
       "<ol class=list-inline><li>'devex'</li><li>'adaptive'</li></ol>\n",
       "</dd>\n",
       "\t<dt>$presolve</dt>\n",
       "\t\t<dd>'none'</dd>\n",
       "\t<dt>$scalelimit</dt>\n",
       "\t\t<dd>5</dd>\n",
       "\t<dt>$scaling</dt>\n",
       "\t\t<dd><style>\n",
       ".list-inline {list-style: none; margin:0; padding: 0}\n",
       ".list-inline>li {display: inline-block}\n",
       ".list-inline>li:not(:last-child)::after {content: \"\\00b7\"; padding: 0 .5ex}\n",
       "</style>\n",
       "<ol class=list-inline><li>'geometric'</li><li>'equilibrate'</li><li>'integers'</li></ol>\n",
       "</dd>\n",
       "\t<dt>$sense</dt>\n",
       "\t\t<dd>'maximize'</dd>\n",
       "\t<dt>$simplextype</dt>\n",
       "\t\t<dd><style>\n",
       ".list-inline {list-style: none; margin:0; padding: 0}\n",
       ".list-inline>li {display: inline-block}\n",
       ".list-inline>li:not(:last-child)::after {content: \"\\00b7\"; padding: 0 .5ex}\n",
       "</style>\n",
       "<ol class=list-inline><li>'dual'</li><li>'primal'</li></ol>\n",
       "</dd>\n",
       "\t<dt>$timeout</dt>\n",
       "\t\t<dd>0</dd>\n",
       "\t<dt>$verbose</dt>\n",
       "\t\t<dd>'neutral'</dd>\n",
       "</dl>\n"
      ],
      "text/latex": [
       "\\begin{description}\n",
       "\\item[\\$anti.degen] \\begin{enumerate*}\n",
       "\\item 'fixedvars'\n",
       "\\item 'stalling'\n",
       "\\end{enumerate*}\n",
       "\n",
       "\\item[\\$basis.crash] 'none'\n",
       "\\item[\\$bb.depthlimit] -50\n",
       "\\item[\\$bb.floorfirst] 'automatic'\n",
       "\\item[\\$bb.rule] \\begin{enumerate*}\n",
       "\\item 'pseudononint'\n",
       "\\item 'greedy'\n",
       "\\item 'dynamic'\n",
       "\\item 'rcostfixing'\n",
       "\\end{enumerate*}\n",
       "\n",
       "\\item[\\$break.at.first] FALSE\n",
       "\\item[\\$break.at.value] 1e+30\n",
       "\\item[\\$epsilon] \\begin{description*}\n",
       "\\item[epsb] 1e-10\n",
       "\\item[epsd] 1e-09\n",
       "\\item[epsel] 1e-12\n",
       "\\item[epsint] 1e-07\n",
       "\\item[epsperturb] 1e-05\n",
       "\\item[epspivot] 2e-07\n",
       "\\end{description*}\n",
       "\n",
       "\\item[\\$improve] \\begin{enumerate*}\n",
       "\\item 'dualfeas'\n",
       "\\item 'thetagap'\n",
       "\\end{enumerate*}\n",
       "\n",
       "\\item[\\$infinite] 1e+30\n",
       "\\item[\\$maxpivot] 250\n",
       "\\item[\\$mip.gap] \\begin{description*}\n",
       "\\item[absolute] 1e-11\n",
       "\\item[relative] 1e-11\n",
       "\\end{description*}\n",
       "\n",
       "\\item[\\$negrange] -1e+06\n",
       "\\item[\\$obj.in.basis] TRUE\n",
       "\\item[\\$pivoting] \\begin{enumerate*}\n",
       "\\item 'devex'\n",
       "\\item 'adaptive'\n",
       "\\end{enumerate*}\n",
       "\n",
       "\\item[\\$presolve] 'none'\n",
       "\\item[\\$scalelimit] 5\n",
       "\\item[\\$scaling] \\begin{enumerate*}\n",
       "\\item 'geometric'\n",
       "\\item 'equilibrate'\n",
       "\\item 'integers'\n",
       "\\end{enumerate*}\n",
       "\n",
       "\\item[\\$sense] 'maximize'\n",
       "\\item[\\$simplextype] \\begin{enumerate*}\n",
       "\\item 'dual'\n",
       "\\item 'primal'\n",
       "\\end{enumerate*}\n",
       "\n",
       "\\item[\\$timeout] 0\n",
       "\\item[\\$verbose] 'neutral'\n",
       "\\end{description}\n"
      ],
      "text/markdown": [
       "$anti.degen\n",
       ":   1. 'fixedvars'\n",
       "2. 'stalling'\n",
       "\n",
       "\n",
       "\n",
       "$basis.crash\n",
       ":   'none'\n",
       "$bb.depthlimit\n",
       ":   -50\n",
       "$bb.floorfirst\n",
       ":   'automatic'\n",
       "$bb.rule\n",
       ":   1. 'pseudononint'\n",
       "2. 'greedy'\n",
       "3. 'dynamic'\n",
       "4. 'rcostfixing'\n",
       "\n",
       "\n",
       "\n",
       "$break.at.first\n",
       ":   FALSE\n",
       "$break.at.value\n",
       ":   1e+30\n",
       "$epsilon\n",
       ":   epsb\n",
       ":   1e-10epsd\n",
       ":   1e-09epsel\n",
       ":   1e-12epsint\n",
       ":   1e-07epsperturb\n",
       ":   1e-05epspivot\n",
       ":   2e-07\n",
       "\n",
       "\n",
       "$improve\n",
       ":   1. 'dualfeas'\n",
       "2. 'thetagap'\n",
       "\n",
       "\n",
       "\n",
       "$infinite\n",
       ":   1e+30\n",
       "$maxpivot\n",
       ":   250\n",
       "$mip.gap\n",
       ":   absolute\n",
       ":   1e-11relative\n",
       ":   1e-11\n",
       "\n",
       "\n",
       "$negrange\n",
       ":   -1e+06\n",
       "$obj.in.basis\n",
       ":   TRUE\n",
       "$pivoting\n",
       ":   1. 'devex'\n",
       "2. 'adaptive'\n",
       "\n",
       "\n",
       "\n",
       "$presolve\n",
       ":   'none'\n",
       "$scalelimit\n",
       ":   5\n",
       "$scaling\n",
       ":   1. 'geometric'\n",
       "2. 'equilibrate'\n",
       "3. 'integers'\n",
       "\n",
       "\n",
       "\n",
       "$sense\n",
       ":   'maximize'\n",
       "$simplextype\n",
       ":   1. 'dual'\n",
       "2. 'primal'\n",
       "\n",
       "\n",
       "\n",
       "$timeout\n",
       ":   0\n",
       "$verbose\n",
       ":   'neutral'\n",
       "\n",
       "\n"
      ],
      "text/plain": [
       "$anti.degen\n",
       "[1] \"fixedvars\" \"stalling\" \n",
       "\n",
       "$basis.crash\n",
       "[1] \"none\"\n",
       "\n",
       "$bb.depthlimit\n",
       "[1] -50\n",
       "\n",
       "$bb.floorfirst\n",
       "[1] \"automatic\"\n",
       "\n",
       "$bb.rule\n",
       "[1] \"pseudononint\" \"greedy\"       \"dynamic\"      \"rcostfixing\" \n",
       "\n",
       "$break.at.first\n",
       "[1] FALSE\n",
       "\n",
       "$break.at.value\n",
       "[1] 1e+30\n",
       "\n",
       "$epsilon\n",
       "      epsb       epsd      epsel     epsint epsperturb   epspivot \n",
       "     1e-10      1e-09      1e-12      1e-07      1e-05      2e-07 \n",
       "\n",
       "$improve\n",
       "[1] \"dualfeas\" \"thetagap\"\n",
       "\n",
       "$infinite\n",
       "[1] 1e+30\n",
       "\n",
       "$maxpivot\n",
       "[1] 250\n",
       "\n",
       "$mip.gap\n",
       "absolute relative \n",
       "   1e-11    1e-11 \n",
       "\n",
       "$negrange\n",
       "[1] -1e+06\n",
       "\n",
       "$obj.in.basis\n",
       "[1] TRUE\n",
       "\n",
       "$pivoting\n",
       "[1] \"devex\"    \"adaptive\"\n",
       "\n",
       "$presolve\n",
       "[1] \"none\"\n",
       "\n",
       "$scalelimit\n",
       "[1] 5\n",
       "\n",
       "$scaling\n",
       "[1] \"geometric\"   \"equilibrate\" \"integers\"   \n",
       "\n",
       "$sense\n",
       "[1] \"maximize\"\n",
       "\n",
       "$simplextype\n",
       "[1] \"dual\"   \"primal\"\n",
       "\n",
       "$timeout\n",
       "[1] 0\n",
       "\n",
       "$verbose\n",
       "[1] \"neutral\"\n"
      ]
     },
     "metadata": {},
     "output_type": "display_data"
    }
   ],
   "source": [
    "lp.control(AirlineSimple,sense='max')"
   ]
  },
  {
   "cell_type": "markdown",
   "metadata": {},
   "source": [
    "If we want to take a look at our model, we can just type:"
   ]
  },
  {
   "cell_type": "code",
   "execution_count": 7,
   "metadata": {},
   "outputs": [
    {
     "data": {
      "text/plain": [
       "Model name: \n",
       "            C1    C2         \n",
       "Maximize   617   238         \n",
       "R1           1     1  <=  166\n",
       "R2           1     0  <=  100\n",
       "R3           0     1  <=  150\n",
       "Kind       Std   Std         \n",
       "Type      Real  Real         \n",
       "Upper      Inf   Inf         \n",
       "Lower        0     0         "
      ]
     },
     "metadata": {},
     "output_type": "display_data"
    }
   ],
   "source": [
    "AirlineSimple"
   ]
  },
  {
   "cell_type": "markdown",
   "metadata": {},
   "source": [
    "You should see that there is a row called \"Lower\" in the model output - the values of zero indicate that our decision variables are constrained to be non-negative, which is the default setting. If you want to change the lower or upper bounds for a decision variable, you can do so with the set.bounds function. (Next week we will learn about integer and binary decision variables - to change a decision variable to one of these types, you can use the set.type function.)"
   ]
  },
  {
   "cell_type": "markdown",
   "metadata": {},
   "source": [
    "Now we are ready to solve our model:"
   ]
  },
  {
   "cell_type": "code",
   "execution_count": 8,
   "metadata": {},
   "outputs": [
    {
     "data": {
      "text/html": [
       "0"
      ],
      "text/latex": [
       "0"
      ],
      "text/markdown": [
       "0"
      ],
      "text/plain": [
       "[1] 0"
      ]
     },
     "metadata": {},
     "output_type": "display_data"
    }
   ],
   "source": [
    "solve(AirlineSimple)"
   ]
  },
  {
   "cell_type": "markdown",
   "metadata": {},
   "source": [
    "An output of zero means that the model was successfully solved. You can look at the optimal objective function value or optimal decision variable values with get.objective and get.variables:"
   ]
  },
  {
   "cell_type": "code",
   "execution_count": 9,
   "metadata": {},
   "outputs": [
    {
     "data": {
      "text/html": [
       "77408"
      ],
      "text/latex": [
       "77408"
      ],
      "text/markdown": [
       "77408"
      ],
      "text/plain": [
       "[1] 77408"
      ]
     },
     "metadata": {},
     "output_type": "display_data"
    },
    {
     "data": {
      "text/html": [
       "<style>\n",
       ".list-inline {list-style: none; margin:0; padding: 0}\n",
       ".list-inline>li {display: inline-block}\n",
       ".list-inline>li:not(:last-child)::after {content: \"\\00b7\"; padding: 0 .5ex}\n",
       "</style>\n",
       "<ol class=list-inline><li>100</li><li>66</li></ol>\n"
      ],
      "text/latex": [
       "\\begin{enumerate*}\n",
       "\\item 100\n",
       "\\item 66\n",
       "\\end{enumerate*}\n"
      ],
      "text/markdown": [
       "1. 100\n",
       "2. 66\n",
       "\n",
       "\n"
      ],
      "text/plain": [
       "[1] 100  66"
      ]
     },
     "metadata": {},
     "output_type": "display_data"
    }
   ],
   "source": [
    "get.objective(AirlineSimple)\n",
    "get.variables(AirlineSimple)"
   ]
  },
  {
   "cell_type": "markdown",
   "metadata": {},
   "source": [
    "You should get an objective value of 77408 and decision variable values of 100 and 66, just like we did in lecture. \n",
    "\n",
    "The following commands set up and solve the more sophisticated airline problem with six decision variables:"
   ]
  },
  {
   "cell_type": "code",
   "execution_count": 10,
   "metadata": {},
   "outputs": [
    {
     "data": {
      "text/html": [
       "<dl>\n",
       "\t<dt>$anti.degen</dt>\n",
       "\t\t<dd><style>\n",
       ".list-inline {list-style: none; margin:0; padding: 0}\n",
       ".list-inline>li {display: inline-block}\n",
       ".list-inline>li:not(:last-child)::after {content: \"\\00b7\"; padding: 0 .5ex}\n",
       "</style>\n",
       "<ol class=list-inline><li>'fixedvars'</li><li>'stalling'</li></ol>\n",
       "</dd>\n",
       "\t<dt>$basis.crash</dt>\n",
       "\t\t<dd>'none'</dd>\n",
       "\t<dt>$bb.depthlimit</dt>\n",
       "\t\t<dd>-50</dd>\n",
       "\t<dt>$bb.floorfirst</dt>\n",
       "\t\t<dd>'automatic'</dd>\n",
       "\t<dt>$bb.rule</dt>\n",
       "\t\t<dd><style>\n",
       ".list-inline {list-style: none; margin:0; padding: 0}\n",
       ".list-inline>li {display: inline-block}\n",
       ".list-inline>li:not(:last-child)::after {content: \"\\00b7\"; padding: 0 .5ex}\n",
       "</style>\n",
       "<ol class=list-inline><li>'pseudononint'</li><li>'greedy'</li><li>'dynamic'</li><li>'rcostfixing'</li></ol>\n",
       "</dd>\n",
       "\t<dt>$break.at.first</dt>\n",
       "\t\t<dd>FALSE</dd>\n",
       "\t<dt>$break.at.value</dt>\n",
       "\t\t<dd>1e+30</dd>\n",
       "\t<dt>$epsilon</dt>\n",
       "\t\t<dd><style>\n",
       ".dl-inline {width: auto; margin:0; padding: 0}\n",
       ".dl-inline>dt, .dl-inline>dd {float: none; width: auto; display: inline-block}\n",
       ".dl-inline>dt::after {content: \":\\0020\"; padding-right: .5ex}\n",
       ".dl-inline>dt:not(:first-of-type) {padding-left: .5ex}\n",
       "</style><dl class=dl-inline><dt>epsb</dt><dd>1e-10</dd><dt>epsd</dt><dd>1e-09</dd><dt>epsel</dt><dd>1e-12</dd><dt>epsint</dt><dd>1e-07</dd><dt>epsperturb</dt><dd>1e-05</dd><dt>epspivot</dt><dd>2e-07</dd></dl>\n",
       "</dd>\n",
       "\t<dt>$improve</dt>\n",
       "\t\t<dd><style>\n",
       ".list-inline {list-style: none; margin:0; padding: 0}\n",
       ".list-inline>li {display: inline-block}\n",
       ".list-inline>li:not(:last-child)::after {content: \"\\00b7\"; padding: 0 .5ex}\n",
       "</style>\n",
       "<ol class=list-inline><li>'dualfeas'</li><li>'thetagap'</li></ol>\n",
       "</dd>\n",
       "\t<dt>$infinite</dt>\n",
       "\t\t<dd>1e+30</dd>\n",
       "\t<dt>$maxpivot</dt>\n",
       "\t\t<dd>250</dd>\n",
       "\t<dt>$mip.gap</dt>\n",
       "\t\t<dd><style>\n",
       ".dl-inline {width: auto; margin:0; padding: 0}\n",
       ".dl-inline>dt, .dl-inline>dd {float: none; width: auto; display: inline-block}\n",
       ".dl-inline>dt::after {content: \":\\0020\"; padding-right: .5ex}\n",
       ".dl-inline>dt:not(:first-of-type) {padding-left: .5ex}\n",
       "</style><dl class=dl-inline><dt>absolute</dt><dd>1e-11</dd><dt>relative</dt><dd>1e-11</dd></dl>\n",
       "</dd>\n",
       "\t<dt>$negrange</dt>\n",
       "\t\t<dd>-1e+06</dd>\n",
       "\t<dt>$obj.in.basis</dt>\n",
       "\t\t<dd>TRUE</dd>\n",
       "\t<dt>$pivoting</dt>\n",
       "\t\t<dd><style>\n",
       ".list-inline {list-style: none; margin:0; padding: 0}\n",
       ".list-inline>li {display: inline-block}\n",
       ".list-inline>li:not(:last-child)::after {content: \"\\00b7\"; padding: 0 .5ex}\n",
       "</style>\n",
       "<ol class=list-inline><li>'devex'</li><li>'adaptive'</li></ol>\n",
       "</dd>\n",
       "\t<dt>$presolve</dt>\n",
       "\t\t<dd>'none'</dd>\n",
       "\t<dt>$scalelimit</dt>\n",
       "\t\t<dd>5</dd>\n",
       "\t<dt>$scaling</dt>\n",
       "\t\t<dd><style>\n",
       ".list-inline {list-style: none; margin:0; padding: 0}\n",
       ".list-inline>li {display: inline-block}\n",
       ".list-inline>li:not(:last-child)::after {content: \"\\00b7\"; padding: 0 .5ex}\n",
       "</style>\n",
       "<ol class=list-inline><li>'geometric'</li><li>'equilibrate'</li><li>'integers'</li></ol>\n",
       "</dd>\n",
       "\t<dt>$sense</dt>\n",
       "\t\t<dd>'maximize'</dd>\n",
       "\t<dt>$simplextype</dt>\n",
       "\t\t<dd><style>\n",
       ".list-inline {list-style: none; margin:0; padding: 0}\n",
       ".list-inline>li {display: inline-block}\n",
       ".list-inline>li:not(:last-child)::after {content: \"\\00b7\"; padding: 0 .5ex}\n",
       "</style>\n",
       "<ol class=list-inline><li>'dual'</li><li>'primal'</li></ol>\n",
       "</dd>\n",
       "\t<dt>$timeout</dt>\n",
       "\t\t<dd>0</dd>\n",
       "\t<dt>$verbose</dt>\n",
       "\t\t<dd>'neutral'</dd>\n",
       "</dl>\n"
      ],
      "text/latex": [
       "\\begin{description}\n",
       "\\item[\\$anti.degen] \\begin{enumerate*}\n",
       "\\item 'fixedvars'\n",
       "\\item 'stalling'\n",
       "\\end{enumerate*}\n",
       "\n",
       "\\item[\\$basis.crash] 'none'\n",
       "\\item[\\$bb.depthlimit] -50\n",
       "\\item[\\$bb.floorfirst] 'automatic'\n",
       "\\item[\\$bb.rule] \\begin{enumerate*}\n",
       "\\item 'pseudononint'\n",
       "\\item 'greedy'\n",
       "\\item 'dynamic'\n",
       "\\item 'rcostfixing'\n",
       "\\end{enumerate*}\n",
       "\n",
       "\\item[\\$break.at.first] FALSE\n",
       "\\item[\\$break.at.value] 1e+30\n",
       "\\item[\\$epsilon] \\begin{description*}\n",
       "\\item[epsb] 1e-10\n",
       "\\item[epsd] 1e-09\n",
       "\\item[epsel] 1e-12\n",
       "\\item[epsint] 1e-07\n",
       "\\item[epsperturb] 1e-05\n",
       "\\item[epspivot] 2e-07\n",
       "\\end{description*}\n",
       "\n",
       "\\item[\\$improve] \\begin{enumerate*}\n",
       "\\item 'dualfeas'\n",
       "\\item 'thetagap'\n",
       "\\end{enumerate*}\n",
       "\n",
       "\\item[\\$infinite] 1e+30\n",
       "\\item[\\$maxpivot] 250\n",
       "\\item[\\$mip.gap] \\begin{description*}\n",
       "\\item[absolute] 1e-11\n",
       "\\item[relative] 1e-11\n",
       "\\end{description*}\n",
       "\n",
       "\\item[\\$negrange] -1e+06\n",
       "\\item[\\$obj.in.basis] TRUE\n",
       "\\item[\\$pivoting] \\begin{enumerate*}\n",
       "\\item 'devex'\n",
       "\\item 'adaptive'\n",
       "\\end{enumerate*}\n",
       "\n",
       "\\item[\\$presolve] 'none'\n",
       "\\item[\\$scalelimit] 5\n",
       "\\item[\\$scaling] \\begin{enumerate*}\n",
       "\\item 'geometric'\n",
       "\\item 'equilibrate'\n",
       "\\item 'integers'\n",
       "\\end{enumerate*}\n",
       "\n",
       "\\item[\\$sense] 'maximize'\n",
       "\\item[\\$simplextype] \\begin{enumerate*}\n",
       "\\item 'dual'\n",
       "\\item 'primal'\n",
       "\\end{enumerate*}\n",
       "\n",
       "\\item[\\$timeout] 0\n",
       "\\item[\\$verbose] 'neutral'\n",
       "\\end{description}\n"
      ],
      "text/markdown": [
       "$anti.degen\n",
       ":   1. 'fixedvars'\n",
       "2. 'stalling'\n",
       "\n",
       "\n",
       "\n",
       "$basis.crash\n",
       ":   'none'\n",
       "$bb.depthlimit\n",
       ":   -50\n",
       "$bb.floorfirst\n",
       ":   'automatic'\n",
       "$bb.rule\n",
       ":   1. 'pseudononint'\n",
       "2. 'greedy'\n",
       "3. 'dynamic'\n",
       "4. 'rcostfixing'\n",
       "\n",
       "\n",
       "\n",
       "$break.at.first\n",
       ":   FALSE\n",
       "$break.at.value\n",
       ":   1e+30\n",
       "$epsilon\n",
       ":   epsb\n",
       ":   1e-10epsd\n",
       ":   1e-09epsel\n",
       ":   1e-12epsint\n",
       ":   1e-07epsperturb\n",
       ":   1e-05epspivot\n",
       ":   2e-07\n",
       "\n",
       "\n",
       "$improve\n",
       ":   1. 'dualfeas'\n",
       "2. 'thetagap'\n",
       "\n",
       "\n",
       "\n",
       "$infinite\n",
       ":   1e+30\n",
       "$maxpivot\n",
       ":   250\n",
       "$mip.gap\n",
       ":   absolute\n",
       ":   1e-11relative\n",
       ":   1e-11\n",
       "\n",
       "\n",
       "$negrange\n",
       ":   -1e+06\n",
       "$obj.in.basis\n",
       ":   TRUE\n",
       "$pivoting\n",
       ":   1. 'devex'\n",
       "2. 'adaptive'\n",
       "\n",
       "\n",
       "\n",
       "$presolve\n",
       ":   'none'\n",
       "$scalelimit\n",
       ":   5\n",
       "$scaling\n",
       ":   1. 'geometric'\n",
       "2. 'equilibrate'\n",
       "3. 'integers'\n",
       "\n",
       "\n",
       "\n",
       "$sense\n",
       ":   'maximize'\n",
       "$simplextype\n",
       ":   1. 'dual'\n",
       "2. 'primal'\n",
       "\n",
       "\n",
       "\n",
       "$timeout\n",
       ":   0\n",
       "$verbose\n",
       ":   'neutral'\n",
       "\n",
       "\n"
      ],
      "text/plain": [
       "$anti.degen\n",
       "[1] \"fixedvars\" \"stalling\" \n",
       "\n",
       "$basis.crash\n",
       "[1] \"none\"\n",
       "\n",
       "$bb.depthlimit\n",
       "[1] -50\n",
       "\n",
       "$bb.floorfirst\n",
       "[1] \"automatic\"\n",
       "\n",
       "$bb.rule\n",
       "[1] \"pseudononint\" \"greedy\"       \"dynamic\"      \"rcostfixing\" \n",
       "\n",
       "$break.at.first\n",
       "[1] FALSE\n",
       "\n",
       "$break.at.value\n",
       "[1] 1e+30\n",
       "\n",
       "$epsilon\n",
       "      epsb       epsd      epsel     epsint epsperturb   epspivot \n",
       "     1e-10      1e-09      1e-12      1e-07      1e-05      2e-07 \n",
       "\n",
       "$improve\n",
       "[1] \"dualfeas\" \"thetagap\"\n",
       "\n",
       "$infinite\n",
       "[1] 1e+30\n",
       "\n",
       "$maxpivot\n",
       "[1] 250\n",
       "\n",
       "$mip.gap\n",
       "absolute relative \n",
       "   1e-11    1e-11 \n",
       "\n",
       "$negrange\n",
       "[1] -1e+06\n",
       "\n",
       "$obj.in.basis\n",
       "[1] TRUE\n",
       "\n",
       "$pivoting\n",
       "[1] \"devex\"    \"adaptive\"\n",
       "\n",
       "$presolve\n",
       "[1] \"none\"\n",
       "\n",
       "$scalelimit\n",
       "[1] 5\n",
       "\n",
       "$scaling\n",
       "[1] \"geometric\"   \"equilibrate\" \"integers\"   \n",
       "\n",
       "$sense\n",
       "[1] \"maximize\"\n",
       "\n",
       "$simplextype\n",
       "[1] \"dual\"   \"primal\"\n",
       "\n",
       "$timeout\n",
       "[1] 0\n",
       "\n",
       "$verbose\n",
       "[1] \"neutral\"\n"
      ]
     },
     "metadata": {},
     "output_type": "display_data"
    },
    {
     "data": {
      "text/html": [
       "0"
      ],
      "text/latex": [
       "0"
      ],
      "text/markdown": [
       "0"
      ],
      "text/plain": [
       "[1] 0"
      ]
     },
     "metadata": {},
     "output_type": "display_data"
    },
    {
     "data": {
      "text/html": [
       "120514"
      ],
      "text/latex": [
       "120514"
      ],
      "text/markdown": [
       "120514"
      ],
      "text/plain": [
       "[1] 120514"
      ]
     },
     "metadata": {},
     "output_type": "display_data"
    },
    {
     "data": {
      "text/html": [
       "<style>\n",
       ".list-inline {list-style: none; margin:0; padding: 0}\n",
       ".list-inline>li {display: inline-block}\n",
       ".list-inline>li:not(:last-child)::after {content: \"\\00b7\"; padding: 0 .5ex}\n",
       "</style>\n",
       "<ol class=list-inline><li>80</li><li>0</li><li>75</li><li>11</li><li>60</li><li>26</li></ol>\n"
      ],
      "text/latex": [
       "\\begin{enumerate*}\n",
       "\\item 80\n",
       "\\item 0\n",
       "\\item 75\n",
       "\\item 11\n",
       "\\item 60\n",
       "\\item 26\n",
       "\\end{enumerate*}\n"
      ],
      "text/markdown": [
       "1. 80\n",
       "2. 0\n",
       "3. 75\n",
       "4. 11\n",
       "5. 60\n",
       "6. 26\n",
       "\n",
       "\n"
      ],
      "text/plain": [
       "[1] 80  0 75 11 60 26"
      ]
     },
     "metadata": {},
     "output_type": "display_data"
    }
   ],
   "source": [
    "AirlineConnecting = make.lp(8,6)\n",
    "\n",
    "set.column(AirlineConnecting, 1, c(1,1,1,0,0,0,0,0))\n",
    "set.column(AirlineConnecting, 2, c(1,1,0,1,0,0,0,0))\n",
    "set.column(AirlineConnecting, 3, c(1,0,0,0,1,0,0,0))\n",
    "set.column(AirlineConnecting, 4, c(1,0,0,0,0,1,0,0))\n",
    "set.column(AirlineConnecting, 5, c(0,1,0,0,0,0,1,0))\n",
    "set.column(AirlineConnecting, 6, c(0,1,0,0,0,0,0,1))\n",
    "set.constr.type(AirlineConnecting, rep(\"<=\",8))\n",
    "set.rhs(AirlineConnecting, c(166,166,80,120,75,100,60,110))\n",
    "\n",
    "set.objfn(AirlineConnecting, c(428,190,642,224,512,190))\n",
    "lp.control(AirlineConnecting,sense='max')\n",
    "\n",
    "solve(AirlineConnecting)\n",
    "get.objective(AirlineConnecting)\n",
    "get.variables(AirlineConnecting)"
   ]
  },
  {
   "cell_type": "markdown",
   "metadata": {},
   "source": [
    "You should get an objective function value of 120514 and decision variable values of 80, 0, 75, 11, 60, 26."
   ]
  },
  {
   "cell_type": "markdown",
   "metadata": {},
   "source": [
    "For additional examples, we direct you to the [lpSolveAPI User's Guide](http://www.icesi.edu.co/CRAN/web/packages/lpSolveAPI/vignettes/lpSolveAPI.pdf)"
   ]
  }
 ],
 "metadata": {
  "kernelspec": {
   "display_name": "R",
   "language": "R",
   "name": "ir"
  },
  "language_info": {
   "codemirror_mode": "r",
   "file_extension": ".r",
   "mimetype": "text/x-r-source",
   "name": "R",
   "pygments_lexer": "r",
   "version": "3.6.3"
  }
 },
 "nbformat": 4,
 "nbformat_minor": 4
}
