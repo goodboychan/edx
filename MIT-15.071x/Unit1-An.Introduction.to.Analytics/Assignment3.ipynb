{
 "cells": [
  {
   "cell_type": "markdown",
   "metadata": {},
   "source": [
    "## Demographics and Employment in the United States"
   ]
  },
  {
   "cell_type": "markdown",
   "metadata": {},
   "source": [
    "In the wake of the Great Recession of 2009, there has been a good deal of focus on employment statistics, one of the most important metrics policymakers use to gauge the overall strength of the economy. In the United States, the government measures unemployment using the Current Population Survey (CPS), which collects demographic and employment information from a wide range of Americans each month. In this exercise, we will employ the topics reviewed in the lectures as well as a few new techniques using the September 2013 version of this rich, nationally representative dataset (available online).\n",
    "\n",
    "The observations in the dataset represent people surveyed in the September 2013 CPS who actually completed a survey. While the full dataset has 385 variables, in this exercise we will use a more compact version of the dataset, CPSData.csv, which has the following variables:\n",
    "\n",
    "- PeopleInHousehold: The number of people in the interviewee's household.\n",
    "\n",
    "- Region: The census region where the interviewee lives.\n",
    "\n",
    "- State: The state where the interviewee lives.\n",
    "\n",
    "- MetroAreaCode: A code that identifies the metropolitan area in which the interviewee lives (missing if the interviewee does not live in a metropolitan area). The mapping from codes to names of metropolitan areas is provided in the file MetroAreaCodes.csv.\n",
    "\n",
    "- Age: The age, in years, of the interviewee. 80 represents people aged 80-84, and 85 represents people aged 85 and higher.\n",
    "\n",
    "- Married: The marriage status of the interviewee.\n",
    "\n",
    "- Sex: The sex of the interviewee.\n",
    "\n",
    "- Education: The maximum level of education obtained by the interviewee.\n",
    "\n",
    "- Race: The race of the interviewee.\n",
    "\n",
    "- Hispanic: Whether the interviewee is of Hispanic ethnicity.\n",
    "\n",
    "- CountryOfBirthCode: A code identifying the country of birth of the interviewee. The mapping from codes to names of countries is provided in the file CountryCodes.csv.\n",
    "\n",
    "- Citizenship: The United States citizenship status of the interviewee.\n",
    "\n",
    "- EmploymentStatus: The status of employment of the interviewee.\n",
    "\n",
    "- Industry: The industry of employment of the interviewee (only available if they are employed)."
   ]
  },
  {
   "cell_type": "code",
   "execution_count": 8,
   "metadata": {},
   "outputs": [],
   "source": [
    "CPS <- read.csv('dataset/CPSData.csv')"
   ]
  },
  {
   "cell_type": "code",
   "execution_count": 9,
   "metadata": {},
   "outputs": [
    {
     "name": "stdout",
     "output_type": "stream",
     "text": [
      "'data.frame':\t131302 obs. of  14 variables:\n",
      " $ PeopleInHousehold : int  1 3 3 3 3 3 3 2 2 2 ...\n",
      " $ Region            : Factor w/ 4 levels \"Midwest\",\"Northeast\",..: 3 3 3 3 3 3 3 3 3 3 ...\n",
      " $ State             : Factor w/ 51 levels \"Alabama\",\"Alaska\",..: 1 1 1 1 1 1 1 1 1 1 ...\n",
      " $ MetroAreaCode     : int  26620 13820 13820 13820 26620 26620 26620 33660 33660 26620 ...\n",
      " $ Age               : int  85 21 37 18 52 24 26 71 43 52 ...\n",
      " $ Married           : Factor w/ 5 levels \"Divorced\",\"Married\",..: 5 3 3 3 5 3 3 1 1 3 ...\n",
      " $ Sex               : Factor w/ 2 levels \"Female\",\"Male\": 1 2 1 2 1 2 2 1 2 2 ...\n",
      " $ Education         : Factor w/ 8 levels \"Associate degree\",..: 1 4 4 6 1 2 4 4 4 2 ...\n",
      " $ Race              : Factor w/ 6 levels \"American Indian\",..: 6 3 3 3 6 6 6 6 6 6 ...\n",
      " $ Hispanic          : int  0 0 0 0 0 0 0 0 0 0 ...\n",
      " $ CountryOfBirthCode: int  57 57 57 57 57 57 57 57 57 57 ...\n",
      " $ Citizenship       : Factor w/ 3 levels \"Citizen, Native\",..: 1 1 1 1 1 1 1 1 1 1 ...\n",
      " $ EmploymentStatus  : Factor w/ 5 levels \"Disabled\",\"Employed\",..: 4 5 1 3 2 2 2 2 3 2 ...\n",
      " $ Industry          : Factor w/ 14 levels \"Agriculture, forestry, fishing, and hunting\",..: NA 11 NA NA 11 4 14 4 NA 12 ...\n"
     ]
    }
   ],
   "source": [
    "str(CPS)"
   ]
  },
  {
   "cell_type": "code",
   "execution_count": 10,
   "metadata": {},
   "outputs": [
    {
     "data": {
      "text/plain": [
       "\n",
       "                               Armed forces \n",
       "                                         29 \n",
       "                                     Mining \n",
       "                                        550 \n",
       "Agriculture, forestry, fishing, and hunting \n",
       "                                       1307 \n",
       "                                Information \n",
       "                                       1328 \n",
       "                      Public administration \n",
       "                                       3186 \n",
       "                             Other services \n",
       "                                       3224 \n",
       "               Transportation and utilities \n",
       "                                       3260 \n",
       "                                  Financial \n",
       "                                       4347 \n",
       "                               Construction \n",
       "                                       4387 \n",
       "                    Leisure and hospitality \n",
       "                                       6364 \n",
       "                              Manufacturing \n",
       "                                       6791 \n",
       "         Professional and business services \n",
       "                                       7519 \n",
       "                                      Trade \n",
       "                                       8933 \n",
       "            Educational and health services \n",
       "                                      15017 "
      ]
     },
     "metadata": {},
     "output_type": "display_data"
    }
   ],
   "source": [
    "sort(table(CPS$Industry))"
   ]
  },
  {
   "cell_type": "code",
   "execution_count": 12,
   "metadata": {},
   "outputs": [
    {
     "data": {
      "text/plain": [
       "\n",
       "          New Mexico              Montana          Mississippi \n",
       "                1102                 1214                 1230 \n",
       "             Alabama        West Virginia             Arkansas \n",
       "                1376                 1409                 1421 \n",
       "           Louisiana                Idaho             Oklahoma \n",
       "                1450                 1518                 1523 \n",
       "             Arizona               Alaska              Wyoming \n",
       "                1528                 1590                 1624 \n",
       "        North Dakota       South Carolina            Tennessee \n",
       "                1645                 1658                 1784 \n",
       "District of Columbia             Kentucky                 Utah \n",
       "                1791                 1841                 1842 \n",
       "              Nevada              Vermont               Kansas \n",
       "                1856                 1890                 1935 \n",
       "              Oregon             Nebraska        Massachusetts \n",
       "                1943                 1949                 1987 \n",
       "        South Dakota              Indiana               Hawaii \n",
       "                2000                 2004                 2099 \n",
       "            Missouri         Rhode Island             Delaware \n",
       "                2145                 2209                 2214 \n",
       "               Maine           Washington                 Iowa \n",
       "                2263                 2366                 2528 \n",
       "          New Jersey       North Carolina        New Hampshire \n",
       "                2567                 2619                 2662 \n",
       "           Wisconsin              Georgia          Connecticut \n",
       "                2686                 2807                 2836 \n",
       "            Colorado             Virginia             Michigan \n",
       "                2925                 2953                 3063 \n",
       "           Minnesota             Maryland                 Ohio \n",
       "                3139                 3200                 3678 \n",
       "            Illinois         Pennsylvania              Florida \n",
       "                3912                 3930                 5149 \n",
       "            New York                Texas           California \n",
       "                5595                 7077                11570 "
      ]
     },
     "metadata": {},
     "output_type": "display_data"
    }
   ],
   "source": [
    "sort(table(CPS$State))"
   ]
  },
  {
   "cell_type": "code",
   "execution_count": 16,
   "metadata": {},
   "outputs": [
    {
     "data": {
      "text/plain": [
       "\n",
       "     Citizen, Native Citizen, Naturalized          Non-Citizen \n",
       "              116639                 7073                 7590 "
      ]
     },
     "metadata": {},
     "output_type": "display_data"
    }
   ],
   "source": [
    "table(CPS$Citizenship)"
   ]
  },
  {
   "cell_type": "code",
   "execution_count": 17,
   "metadata": {},
   "outputs": [
    {
     "data": {
      "text/html": [
       "0.942194330627104"
      ],
      "text/latex": [
       "0.942194330627104"
      ],
      "text/markdown": [
       "0.942194330627104"
      ],
      "text/plain": [
       "[1] 0.9421943"
      ]
     },
     "metadata": {},
     "output_type": "display_data"
    }
   ],
   "source": [
    "(116639 + 7073) / (116639 + 7073 + 7590)"
   ]
  },
  {
   "cell_type": "code",
   "execution_count": 23,
   "metadata": {},
   "outputs": [],
   "source": [
    "hispanic = subset(CPS, Hispanic == 1)"
   ]
  },
  {
   "cell_type": "code",
   "execution_count": 24,
   "metadata": {},
   "outputs": [
    {
     "data": {
      "text/plain": [
       "\n",
       " American Indian            Asian            Black      Multiracial \n",
       "             304              113              621              448 \n",
       "Pacific Islander            White \n",
       "              77            16731 "
      ]
     },
     "metadata": {},
     "output_type": "display_data"
    }
   ],
   "source": [
    "table(hispanic$Race)"
   ]
  },
  {
   "cell_type": "code",
   "execution_count": 25,
   "metadata": {},
   "outputs": [
    {
     "data": {
      "text/plain": [
       "                  \n",
       "                       0     1\n",
       "  American Indian   1129   304\n",
       "  Asian             6407   113\n",
       "  Black            13292   621\n",
       "  Multiracial       2449   448\n",
       "  Pacific Islander   541    77\n",
       "  White            89190 16731"
      ]
     },
     "metadata": {},
     "output_type": "display_data"
    }
   ],
   "source": [
    "table(CPS$Race, CPS$Hispanic)"
   ]
  },
  {
   "cell_type": "code",
   "execution_count": 27,
   "metadata": {},
   "outputs": [
    {
     "data": {
      "text/plain": [
       " PeopleInHousehold       Region               State       MetroAreaCode  \n",
       " Min.   : 1.000    Midwest  :30684   California  :11570   Min.   :10420  \n",
       " 1st Qu.: 2.000    Northeast:25939   Texas       : 7077   1st Qu.:21780  \n",
       " Median : 3.000    South    :41502   New York    : 5595   Median :34740  \n",
       " Mean   : 3.284    West     :33177   Florida     : 5149   Mean   :35075  \n",
       " 3rd Qu.: 4.000                      Pennsylvania: 3930   3rd Qu.:41860  \n",
       " Max.   :15.000                      Illinois    : 3912   Max.   :79600  \n",
       "                                     (Other)     :94069   NA's   :34238  \n",
       "      Age                 Married          Sex       \n",
       " Min.   : 0.00   Divorced     :11151   Female:67481  \n",
       " 1st Qu.:19.00   Married      :55509   Male  :63821  \n",
       " Median :39.00   Never Married:30772                 \n",
       " Mean   :38.83   Separated    : 2027                 \n",
       " 3rd Qu.:57.00   Widowed      : 6505                 \n",
       " Max.   :85.00   NA's         :25338                 \n",
       "                                                     \n",
       "                   Education                   Race           Hispanic     \n",
       " High school            :30906   American Indian :  1433   Min.   :0.0000  \n",
       " Bachelor's degree      :19443   Asian           :  6520   1st Qu.:0.0000  \n",
       " Some college, no degree:18863   Black           : 13913   Median :0.0000  \n",
       " No high school diploma :16095   Multiracial     :  2897   Mean   :0.1393  \n",
       " Associate degree       : 9913   Pacific Islander:   618   3rd Qu.:0.0000  \n",
       " (Other)                :10744   White           :105921   Max.   :1.0000  \n",
       " NA's                   :25338                                             \n",
       " CountryOfBirthCode               Citizenship               EmploymentStatus\n",
       " Min.   : 57.00     Citizen, Native     :116639   Disabled          : 5712  \n",
       " 1st Qu.: 57.00     Citizen, Naturalized:  7073   Employed          :61733  \n",
       " Median : 57.00     Non-Citizen         :  7590   Not in Labor Force:15246  \n",
       " Mean   : 82.68                                   Retired           :18619  \n",
       " 3rd Qu.: 57.00                                   Unemployed        : 4203  \n",
       " Max.   :555.00                                   NA's              :25789  \n",
       "                                                                            \n",
       "                               Industry    \n",
       " Educational and health services   :15017  \n",
       " Trade                             : 8933  \n",
       " Professional and business services: 7519  \n",
       " Manufacturing                     : 6791  \n",
       " Leisure and hospitality           : 6364  \n",
       " (Other)                           :21618  \n",
       " NA's                              :65060  "
      ]
     },
     "metadata": {},
     "output_type": "display_data"
    }
   ],
   "source": [
    "summary(CPS)"
   ]
  },
  {
   "cell_type": "code",
   "execution_count": 28,
   "metadata": {},
   "outputs": [
    {
     "data": {
      "text/plain": [
       "           \n",
       "            FALSE  TRUE\n",
       "  Midwest   24609  6075\n",
       "  Northeast 21432  4507\n",
       "  South     33535  7967\n",
       "  West      26388  6789"
      ]
     },
     "metadata": {},
     "output_type": "display_data"
    }
   ],
   "source": [
    "table(CPS$Region, is.na(CPS$Married))"
   ]
  },
  {
   "cell_type": "code",
   "execution_count": 29,
   "metadata": {},
   "outputs": [
    {
     "data": {
      "text/plain": [
       "        \n",
       "         FALSE  TRUE\n",
       "  Female 55264 12217\n",
       "  Male   50700 13121"
      ]
     },
     "metadata": {},
     "output_type": "display_data"
    }
   ],
   "source": [
    "table(CPS$Sex, is.na(CPS$Married))"
   ]
  },
  {
   "cell_type": "code",
   "execution_count": 30,
   "metadata": {},
   "outputs": [
    {
     "data": {
      "text/plain": [
       "    \n",
       "     FALSE TRUE\n",
       "  0      0 1283\n",
       "  1      0 1559\n",
       "  2      0 1574\n",
       "  3      0 1693\n",
       "  4      0 1695\n",
       "  5      0 1795\n",
       "  6      0 1721\n",
       "  7      0 1681\n",
       "  8      0 1729\n",
       "  9      0 1748\n",
       "  10     0 1750\n",
       "  11     0 1721\n",
       "  12     0 1797\n",
       "  13     0 1802\n",
       "  14     0 1790\n",
       "  15  1795    0\n",
       "  16  1751    0\n",
       "  17  1764    0\n",
       "  18  1596    0\n",
       "  19  1517    0\n",
       "  20  1398    0\n",
       "  21  1525    0\n",
       "  22  1536    0\n",
       "  23  1638    0\n",
       "  24  1627    0\n",
       "  25  1604    0\n",
       "  26  1643    0\n",
       "  27  1657    0\n",
       "  28  1736    0\n",
       "  29  1645    0\n",
       "  30  1854    0\n",
       "  31  1762    0\n",
       "  32  1790    0\n",
       "  33  1804    0\n",
       "  34  1653    0\n",
       "  35  1716    0\n",
       "  36  1663    0\n",
       "  37  1531    0\n",
       "  38  1530    0\n",
       "  39  1542    0\n",
       "  40  1571    0\n",
       "  41  1673    0\n",
       "  42  1711    0\n",
       "  43  1819    0\n",
       "  44  1764    0\n",
       "  45  1749    0\n",
       "  46  1665    0\n",
       "  47  1647    0\n",
       "  48  1791    0\n",
       "  49  1989    0\n",
       "  50  1966    0\n",
       "  51  1931    0\n",
       "  52  1935    0\n",
       "  53  1994    0\n",
       "  54  1912    0\n",
       "  55  1895    0\n",
       "  56  1935    0\n",
       "  57  1827    0\n",
       "  58  1874    0\n",
       "  59  1758    0\n",
       "  60  1746    0\n",
       "  61  1735    0\n",
       "  62  1595    0\n",
       "  63  1596    0\n",
       "  64  1519    0\n",
       "  65  1569    0\n",
       "  66  1577    0\n",
       "  67  1227    0\n",
       "  68  1130    0\n",
       "  69  1062    0\n",
       "  70  1195    0\n",
       "  71  1031    0\n",
       "  72   941    0\n",
       "  73   896    0\n",
       "  74   842    0\n",
       "  75   763    0\n",
       "  76   729    0\n",
       "  77   698    0\n",
       "  78   659    0\n",
       "  79   661    0\n",
       "  80  2664    0\n",
       "  85  2446    0"
      ]
     },
     "metadata": {},
     "output_type": "display_data"
    }
   ],
   "source": [
    "table(CPS$Age, is.na(CPS$Married))"
   ]
  },
  {
   "cell_type": "code",
   "execution_count": 31,
   "metadata": {},
   "outputs": [
    {
     "data": {
      "text/plain": [
       "                      \n",
       "                       FALSE  TRUE\n",
       "  Alabama               1020   356\n",
       "  Alaska                   0  1590\n",
       "  Arizona               1327   201\n",
       "  Arkansas               724   697\n",
       "  California           11333   237\n",
       "  Colorado              2545   380\n",
       "  Connecticut           2593   243\n",
       "  Delaware              1696   518\n",
       "  District of Columbia  1791     0\n",
       "  Florida               4947   202\n",
       "  Georgia               2250   557\n",
       "  Hawaii                1576   523\n",
       "  Idaho                  761   757\n",
       "  Illinois              3473   439\n",
       "  Indiana               1420   584\n",
       "  Iowa                  1297  1231\n",
       "  Kansas                1234   701\n",
       "  Kentucky               908   933\n",
       "  Louisiana             1216   234\n",
       "  Maine                  909  1354\n",
       "  Maryland              2978   222\n",
       "  Massachusetts         1858   129\n",
       "  Michigan              2517   546\n",
       "  Minnesota             2150   989\n",
       "  Mississippi            376   854\n",
       "  Missouri              1440   705\n",
       "  Montana                199  1015\n",
       "  Nebraska               816  1133\n",
       "  Nevada                1609   247\n",
       "  New Hampshire         1148  1514\n",
       "  New Jersey            2567     0\n",
       "  New Mexico             832   270\n",
       "  New York              5144   451\n",
       "  North Carolina        1642   977\n",
       "  North Dakota           432  1213\n",
       "  Ohio                  2754   924\n",
       "  Oklahoma              1024   499\n",
       "  Oregon                1519   424\n",
       "  Pennsylvania          3245   685\n",
       "  Rhode Island          2209     0\n",
       "  South Carolina        1139   519\n",
       "  South Dakota           595  1405\n",
       "  Tennessee             1149   635\n",
       "  Texas                 6060  1017\n",
       "  Utah                  1455   387\n",
       "  Vermont                657  1233\n",
       "  Virginia              2367   586\n",
       "  Washington            1937   429\n",
       "  West Virginia          344  1065\n",
       "  Wisconsin             1882   804\n",
       "  Wyoming                  0  1624"
      ]
     },
     "metadata": {},
     "output_type": "display_data"
    }
   ],
   "source": [
    "table(CPS$State, is.na(CPS$MetroAreaCode))"
   ]
  },
  {
   "cell_type": "code",
   "execution_count": 32,
   "metadata": {},
   "outputs": [
    {
     "data": {
      "text/plain": [
       "           \n",
       "            FALSE  TRUE\n",
       "  Midwest   20010 10674\n",
       "  Northeast 20330  5609\n",
       "  South     31631  9871\n",
       "  West      25093  8084"
      ]
     },
     "metadata": {},
     "output_type": "display_data"
    }
   ],
   "source": [
    "table(CPS$Region, is.na(CPS$MetroAreaCode))"
   ]
  },
  {
   "cell_type": "code",
   "execution_count": 33,
   "metadata": {},
   "outputs": [
    {
     "name": "stderr",
     "output_type": "stream",
     "text": [
      "Warning message in mean.default(X[[i]], ...):\n",
      "“argument is not numeric or logical: returning NA”\n",
      "Warning message in mean.default(X[[i]], ...):\n",
      "“argument is not numeric or logical: returning NA”\n"
     ]
    },
    {
     "data": {
      "text/html": [
       "<style>\n",
       ".dl-inline {width: auto; margin:0; padding: 0}\n",
       ".dl-inline>dt, .dl-inline>dd {float: none; width: auto; display: inline-block}\n",
       ".dl-inline>dt::after {content: \":\\0020\"; padding-right: .5ex}\n",
       ".dl-inline>dt:not(:first-of-type) {padding-left: .5ex}\n",
       "</style><dl class=dl-inline><dt>FALSE</dt><dd>&lt;NA&gt;</dd><dt>TRUE</dt><dd>&lt;NA&gt;</dd></dl>\n"
      ],
      "text/latex": [
       "\\begin{description*}\n",
       "\\item[FALSE] <NA>\n",
       "\\item[TRUE] <NA>\n",
       "\\end{description*}\n"
      ],
      "text/markdown": [
       "FALSE\n",
       ":   &lt;NA&gt;TRUE\n",
       ":   &lt;NA&gt;\n",
       "\n"
      ],
      "text/plain": [
       "FALSE  TRUE \n",
       "   NA    NA "
      ]
     },
     "metadata": {},
     "output_type": "display_data"
    }
   ],
   "source": [
    "tapply(CPS$State, is.na(CPS$MetroAreaCode), mean)"
   ]
  },
  {
   "cell_type": "code",
   "execution_count": null,
   "metadata": {},
   "outputs": [],
   "source": []
  }
 ],
 "metadata": {
  "kernelspec": {
   "display_name": "R",
   "language": "R",
   "name": "ir"
  },
  "language_info": {
   "codemirror_mode": "r",
   "file_extension": ".r",
   "mimetype": "text/x-r-source",
   "name": "R",
   "pygments_lexer": "r",
   "version": "3.6.2"
  }
 },
 "nbformat": 4,
 "nbformat_minor": 2
}
