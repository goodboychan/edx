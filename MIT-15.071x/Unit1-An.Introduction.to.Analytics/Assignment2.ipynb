{
 "cells": [
  {
   "cell_type": "markdown",
   "metadata": {},
   "source": [
    "A stock market is where buyers and sellers trade shares of a company, and is one of the most popular ways for individuals and companies to invest money. The size of the world stock market  is now estimated to be in the trillions. The largest stock market in the world is the New York Stock Exchange (NYSE), located in New York City. About 2,800 companies are listed on the NYSE. In this problem, we'll look at the monthly stock prices of five of these companies: IBM, General Electric (GE), Procter and Gamble, Coca Cola, and Boeing. The data used in this problem comes from Infochimps."
   ]
  },
  {
   "cell_type": "markdown",
   "metadata": {},
   "source": [
    "Call the data frames \"IBM\", \"GE\", \"ProcterGamble\", \"CocaCola\", and \"Boeing\", respectively. Each data frame has two variables, described as follows:\n",
    "\n",
    "- Date: the date of the stock price, always given as the first of the month.\n",
    "- StockPrice: the average stock price of the company in the given month."
   ]
  },
  {
   "cell_type": "code",
   "execution_count": 2,
   "metadata": {},
   "outputs": [],
   "source": [
    "IBM <- read.csv('dataset/IBMStock.csv')\n",
    "GE <- read.csv('dataset/GEStock.csv')\n",
    "ProcterGamble <- read.csv('dataset/ProcterGambleStock.csv')\n",
    "CocaCola <- read.csv('dataset/CocaColaStock.csv')\n",
    "Boeing <- read.csv('dataset/BoeingStock.csv')"
   ]
  },
  {
   "cell_type": "markdown",
   "metadata": {},
   "source": [
    "Sample Structure"
   ]
  },
  {
   "cell_type": "code",
   "execution_count": 3,
   "metadata": {},
   "outputs": [
    {
     "name": "stdout",
     "output_type": "stream",
     "text": [
      "'data.frame':\t480 obs. of  2 variables:\n",
      " $ Date      : Factor w/ 480 levels \"1/1/00\",\"1/1/01\",..: 11 171 211 251 291 331 371 411 451 51 ...\n",
      " $ StockPrice: num  360 347 327 320 270 ...\n"
     ]
    }
   ],
   "source": [
    "str(IBM)"
   ]
  },
  {
   "cell_type": "code",
   "execution_count": 4,
   "metadata": {},
   "outputs": [],
   "source": [
    "IBM$Date <- as.Date(IBM$Date, '%m/%d/%y')\n",
    "GE$Date <- as.Date(GE$Date, '%m/%d/%y')\n",
    "ProcterGamble$Date <- as.Date(ProcterGamble$Date, '%m/%d/%y')\n",
    "CocaCola$Date <- as.Date(CocaCola$Date, '%m/%d/%y')\n",
    "Boeing$Date <- as.Date(Boeing$Date, '%m/%d/%y')"
   ]
  },
  {
   "cell_type": "code",
   "execution_count": 6,
   "metadata": {},
   "outputs": [
    {
     "name": "stdout",
     "output_type": "stream",
     "text": [
      "'data.frame':\t480 obs. of  2 variables:\n",
      " $ Date      : Date, format: \"1970-01-01\" \"1970-02-01\" ...\n",
      " $ StockPrice: num  360 347 327 320 270 ...\n"
     ]
    }
   ],
   "source": [
    "str(IBM)"
   ]
  },
  {
   "cell_type": "code",
   "execution_count": 8,
   "metadata": {},
   "outputs": [
    {
     "data": {
      "text/html": [
       "<style>\n",
       ".dl-inline {width: auto; margin:0; padding: 0}\n",
       ".dl-inline>dt, .dl-inline>dd {float: none; width: auto; display: inline-block}\n",
       ".dl-inline>dt::after {content: \":\\0020\"; padding-right: .5ex}\n",
       ".dl-inline>dt:not(:first-of-type) {padding-left: .5ex}\n",
       "</style><dl class=dl-inline><dt>Min.</dt><dd><time datetime=\"1970-01-01\">1970-01-01</time></dd><dt>1st Qu.</dt><dd><time datetime=\"1979-12-24\">1979-12-24</time></dd><dt>Median</dt><dd><time datetime=\"1989-12-16\">1989-12-16</time></dd><dt>Mean</dt><dd><time datetime=\"1989-12-15\">1989-12-15</time></dd><dt>3rd Qu.</dt><dd><time datetime=\"1999-12-08\">1999-12-08</time></dd><dt>Max.</dt><dd><time datetime=\"2009-12-01\">2009-12-01</time></dd></dl>\n"
      ],
      "text/latex": [
       "\\begin{description*}\n",
       "\\item[Min.] 1970-01-01\n",
       "\\item[1st Qu.] 1979-12-24\n",
       "\\item[Median] 1989-12-16\n",
       "\\item[Mean] 1989-12-15\n",
       "\\item[3rd Qu.] 1999-12-08\n",
       "\\item[Max.] 2009-12-01\n",
       "\\end{description*}\n"
      ],
      "text/markdown": [
       "Min.\n",
       ":   1970-01-011st Qu.\n",
       ":   1979-12-24Median\n",
       ":   1989-12-16Mean\n",
       ":   1989-12-153rd Qu.\n",
       ":   1999-12-08Max.\n",
       ":   2009-12-01\n",
       "\n"
      ],
      "text/plain": [
       "        Min.      1st Qu.       Median         Mean      3rd Qu.         Max. \n",
       "\"1970-01-01\" \"1979-12-24\" \"1989-12-16\" \"1989-12-15\" \"1999-12-08\" \"2009-12-01\" "
      ]
     },
     "metadata": {},
     "output_type": "display_data"
    }
   ],
   "source": [
    "summary(IBM$Date)"
   ]
  },
  {
   "cell_type": "code",
   "execution_count": 9,
   "metadata": {},
   "outputs": [
    {
     "data": {
      "text/plain": [
       "   Min. 1st Qu.  Median    Mean 3rd Qu.    Max. \n",
       "  43.40   88.34  112.11  144.38  165.41  438.90 "
      ]
     },
     "metadata": {},
     "output_type": "display_data"
    }
   ],
   "source": [
    "summary(IBM$StockPrice)"
   ]
  },
  {
   "cell_type": "code",
   "execution_count": 10,
   "metadata": {},
   "outputs": [
    {
     "data": {
      "text/plain": [
       "   Min. 1st Qu.  Median    Mean 3rd Qu.    Max. \n",
       "  9.294  44.214  55.812  59.303  72.226 156.844 "
      ]
     },
     "metadata": {},
     "output_type": "display_data"
    }
   ],
   "source": [
    "summary(GE$StockPrice)"
   ]
  },
  {
   "cell_type": "code",
   "execution_count": 11,
   "metadata": {},
   "outputs": [
    {
     "data": {
      "text/plain": [
       "   Min. 1st Qu.  Median    Mean 3rd Qu.    Max. \n",
       "  30.06   42.76   51.44   60.03   69.62  146.58 "
      ]
     },
     "metadata": {},
     "output_type": "display_data"
    }
   ],
   "source": [
    "summary(CocaCola$StockPrice)"
   ]
  },
  {
   "cell_type": "code",
   "execution_count": 12,
   "metadata": {},
   "outputs": [
    {
     "data": {
      "text/plain": [
       "   Min. 1st Qu.  Median    Mean 3rd Qu.    Max. \n",
       "  12.74   34.64   44.88   46.59   57.21  107.28 "
      ]
     },
     "metadata": {},
     "output_type": "display_data"
    }
   ],
   "source": [
    "summary(Boeing$StockPrice)"
   ]
  },
  {
   "cell_type": "code",
   "execution_count": 14,
   "metadata": {},
   "outputs": [
    {
     "data": {
      "text/html": [
       "18.1941403079716"
      ],
      "text/latex": [
       "18.1941403079716"
      ],
      "text/markdown": [
       "18.1941403079716"
      ],
      "text/plain": [
       "[1] 18.19414"
      ]
     },
     "metadata": {},
     "output_type": "display_data"
    }
   ],
   "source": [
    "sd(ProcterGamble$StockPrice)"
   ]
  },
  {
   "cell_type": "code",
   "execution_count": null,
   "metadata": {},
   "outputs": [],
   "source": []
  }
 ],
 "metadata": {
  "kernelspec": {
   "display_name": "R",
   "language": "R",
   "name": "ir"
  },
  "language_info": {
   "codemirror_mode": "r",
   "file_extension": ".r",
   "mimetype": "text/x-r-source",
   "name": "R",
   "pygments_lexer": "r",
   "version": "3.6.2"
  }
 },
 "nbformat": 4,
 "nbformat_minor": 2
}
