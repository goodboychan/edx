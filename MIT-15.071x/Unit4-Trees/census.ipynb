{
 "cells": [
  {
   "cell_type": "markdown",
   "metadata": {},
   "source": [
    "## Predicting Earnings from Census Data"
   ]
  },
  {
   "cell_type": "markdown",
   "metadata": {},
   "source": [
    "The United States government periodically collects demographic information by conducting a census.\n",
    "\n",
    "In this problem, we are going to use census information about an individual to predict how much a person earns -- in particular, whether the person earns more than $50,000 per year. This data comes from the [UCI Machine Learning Repository](http://archive.ics.uci.edu/ml/datasets/Adult) .\n",
    "\n",
    "The file census.csv contains 1994 census data for 31,978 individuals in the United States."
   ]
  },
  {
   "cell_type": "markdown",
   "metadata": {},
   "source": [
    "The dataset includes the following 13 variables:\n",
    "\n",
    "- age = the age of the individual in years\n",
    "- workclass = the classification of the individual's working status (does the person work for the federal government, work for the local government, work without pay, and so on)\n",
    "- education = the level of education of the individual (e.g., 5th-6th grade, high school graduate, PhD, so on)\n",
    "- maritalstatus = the marital status of the individual\n",
    "- occupation = the type of work the individual does (e.g., administrative/clerical work, farming/fishing, sales and so on)\n",
    "- relationship = relationship of individual to his/her household\n",
    "- race = the individual's race\n",
    "- sex = the individual's sex\n",
    "- capitalgain = the capital gains of the individual in 1994 (from selling an asset such as a stock or bond for more than the original purchase price)\n",
    "- capitalloss = the capital losses of the individual in 1994 (from selling an asset such as a stock or bond for less than the original purchase price)\n",
    "- hoursperweek = the number of hours the individual works per week\n",
    "- nativecountry = the native country of the individual\n",
    "- over50k = whether or not the individual earned more than $50,000 in 1994"
   ]
  },
  {
   "cell_type": "markdown",
   "metadata": {},
   "source": [
    "### A Logistic Regression Model"
   ]
  },
  {
   "cell_type": "markdown",
   "metadata": {},
   "source": [
    "Let's begin by building a logistic regression model to predict whether an individual's earnings are above $50,000 (the variable \"over50k\") using all of the other variables as independent variables. First, read the dataset census.csv into R.\n",
    "\n",
    "Then, split the data randomly into a training set and a testing set, setting the seed to 2000 before creating the split. Split the data so that the training set contains 60% of the observations, while the testing set contains 40% of the observations.\n",
    "\n",
    "Next, build a logistic regression model to predict the dependent variable \"over50k\", using all of the other variables in the dataset as independent variables. Use the training set to build the model."
   ]
  },
  {
   "cell_type": "code",
   "execution_count": 1,
   "metadata": {},
   "outputs": [],
   "source": [
    "census = read.csv('./dataset/census.csv')"
   ]
  },
  {
   "cell_type": "code",
   "execution_count": 2,
   "metadata": {},
   "outputs": [],
   "source": [
    "library('caTools')\n",
    "set.seed(2000)"
   ]
  },
  {
   "cell_type": "code",
   "execution_count": 3,
   "metadata": {},
   "outputs": [],
   "source": [
    "split = sample.split(census$over50k, SplitRatio=0.6)\n",
    "train = subset(census, split == TRUE)\n",
    "test = subset(census, split == FALSE)"
   ]
  },
  {
   "cell_type": "code",
   "execution_count": 5,
   "metadata": {},
   "outputs": [
    {
     "name": "stderr",
     "output_type": "stream",
     "text": [
      "Warning message:\n",
      "\"glm.fit: fitted probabilities numerically 0 or 1 occurred\"\n"
     ]
    },
    {
     "data": {
      "text/plain": [
       "\n",
       "Call:\n",
       "glm(formula = over50k ~ ., family = \"binomial\", data = train)\n",
       "\n",
       "Deviance Residuals: \n",
       "    Min       1Q   Median       3Q      Max  \n",
       "-5.1065  -0.5037  -0.1804  -0.0008   3.3383  \n",
       "\n",
       "Coefficients: (1 not defined because of singularities)\n",
       "                                           Estimate Std. Error z value Pr(>|z|)\n",
       "(Intercept)                              -8.658e+00  1.379e+00  -6.279 3.41e-10\n",
       "age                                       2.548e-02  2.139e-03  11.916  < 2e-16\n",
       "workclass Federal-gov                     1.105e+00  2.014e-01   5.489 4.03e-08\n",
       "workclass Local-gov                       3.675e-01  1.821e-01   2.018 0.043641\n",
       "workclass Never-worked                   -1.283e+01  8.453e+02  -0.015 0.987885\n",
       "workclass Private                         6.012e-01  1.626e-01   3.698 0.000218\n",
       "workclass Self-emp-inc                    7.575e-01  1.950e-01   3.884 0.000103\n",
       "workclass Self-emp-not-inc                1.855e-01  1.774e-01   1.046 0.295646\n",
       "workclass State-gov                       4.012e-01  1.961e-01   2.046 0.040728\n",
       "workclass Without-pay                    -1.395e+01  6.597e+02  -0.021 0.983134\n",
       "education 11th                            2.225e-01  2.867e-01   0.776 0.437738\n",
       "education 12th                            6.380e-01  3.597e-01   1.774 0.076064\n",
       "education 1st-4th                        -7.075e-01  7.760e-01  -0.912 0.361897\n",
       "education 5th-6th                        -3.170e-01  4.880e-01  -0.650 0.516008\n",
       "education 7th-8th                        -3.498e-01  3.126e-01  -1.119 0.263152\n",
       "education 9th                            -1.258e-01  3.539e-01  -0.355 0.722228\n",
       "education Assoc-acdm                      1.602e+00  2.427e-01   6.601 4.10e-11\n",
       "education Assoc-voc                       1.541e+00  2.368e-01   6.506 7.74e-11\n",
       "education Bachelors                       2.177e+00  2.218e-01   9.817  < 2e-16\n",
       "education Doctorate                       2.761e+00  2.893e-01   9.544  < 2e-16\n",
       "education HS-grad                         1.006e+00  2.169e-01   4.638 3.52e-06\n",
       "education Masters                         2.421e+00  2.353e-01  10.289  < 2e-16\n",
       "education Preschool                      -2.237e+01  6.864e+02  -0.033 0.973996\n",
       "education Prof-school                     2.938e+00  2.753e-01  10.672  < 2e-16\n",
       "education Some-college                    1.365e+00  2.195e-01   6.219 5.00e-10\n",
       "maritalstatus Married-AF-spouse           2.540e+00  7.145e-01   3.555 0.000378\n",
       "maritalstatus Married-civ-spouse          2.458e+00  3.573e-01   6.880 6.00e-12\n",
       "maritalstatus Married-spouse-absent      -9.486e-02  3.204e-01  -0.296 0.767155\n",
       "maritalstatus Never-married              -4.515e-01  1.139e-01  -3.962 7.42e-05\n",
       "maritalstatus Separated                   3.609e-02  1.984e-01   0.182 0.855672\n",
       "maritalstatus Widowed                     1.858e-01  1.962e-01   0.947 0.343449\n",
       "occupation Adm-clerical                   9.470e-02  1.288e-01   0.735 0.462064\n",
       "occupation Armed-Forces                  -1.008e+00  1.487e+00  -0.677 0.498170\n",
       "occupation Craft-repair                   2.174e-01  1.109e-01   1.960 0.049972\n",
       "occupation Exec-managerial                9.400e-01  1.138e-01   8.257  < 2e-16\n",
       "occupation Farming-fishing               -1.068e+00  1.908e-01  -5.599 2.15e-08\n",
       "occupation Handlers-cleaners             -6.237e-01  1.946e-01  -3.204 0.001353\n",
       "occupation Machine-op-inspct             -1.862e-01  1.376e-01  -1.353 0.176061\n",
       "occupation Other-service                 -8.183e-01  1.641e-01  -4.987 6.14e-07\n",
       "occupation Priv-house-serv               -1.297e+01  2.267e+02  -0.057 0.954385\n",
       "occupation Prof-specialty                 6.331e-01  1.222e-01   5.180 2.22e-07\n",
       "occupation Protective-serv                6.267e-01  1.710e-01   3.664 0.000248\n",
       "occupation Sales                          3.276e-01  1.175e-01   2.789 0.005282\n",
       "occupation Tech-support                   6.173e-01  1.533e-01   4.028 5.63e-05\n",
       "occupation Transport-moving                      NA         NA      NA       NA\n",
       "relationship Not-in-family                7.881e-01  3.530e-01   2.233 0.025562\n",
       "relationship Other-relative              -2.194e-01  3.137e-01  -0.699 0.484263\n",
       "relationship Own-child                   -7.489e-01  3.507e-01  -2.136 0.032716\n",
       "relationship Unmarried                    7.041e-01  3.720e-01   1.893 0.058392\n",
       "relationship Wife                         1.324e+00  1.331e-01   9.942  < 2e-16\n",
       "race Asian-Pac-Islander                   4.830e-01  3.548e-01   1.361 0.173504\n",
       "race Black                                3.644e-01  2.882e-01   1.265 0.206001\n",
       "race Other                                2.204e-01  4.513e-01   0.488 0.625263\n",
       "race White                                4.108e-01  2.737e-01   1.501 0.133356\n",
       "sex Male                                  7.729e-01  1.024e-01   7.545 4.52e-14\n",
       "capitalgain                               3.280e-04  1.372e-05  23.904  < 2e-16\n",
       "capitalloss                               6.445e-04  4.854e-05  13.277  < 2e-16\n",
       "hoursperweek                              2.897e-02  2.101e-03  13.791  < 2e-16\n",
       "nativecountry Canada                      2.593e-01  1.308e+00   0.198 0.842879\n",
       "nativecountry China                      -9.695e-01  1.327e+00  -0.730 0.465157\n",
       "nativecountry Columbia                   -1.954e+00  1.526e+00  -1.280 0.200470\n",
       "nativecountry Cuba                        5.735e-02  1.323e+00   0.043 0.965432\n",
       "nativecountry Dominican-Republic         -1.435e+01  3.092e+02  -0.046 0.962972\n",
       "nativecountry Ecuador                    -3.550e-02  1.477e+00  -0.024 0.980829\n",
       "nativecountry El-Salvador                -6.095e-01  1.395e+00  -0.437 0.662181\n",
       "nativecountry England                    -6.707e-02  1.327e+00  -0.051 0.959686\n",
       "nativecountry France                      5.301e-01  1.419e+00   0.374 0.708642\n",
       "nativecountry Germany                     5.474e-02  1.306e+00   0.042 0.966572\n",
       "nativecountry Greece                     -2.646e+00  1.714e+00  -1.544 0.122527\n",
       "nativecountry Guatemala                  -1.293e+01  3.345e+02  -0.039 0.969180\n",
       "nativecountry Haiti                      -9.221e-01  1.615e+00  -0.571 0.568105\n",
       "nativecountry Holand-Netherlands         -1.282e+01  2.400e+03  -0.005 0.995736\n",
       "nativecountry Honduras                   -9.584e-01  3.412e+00  -0.281 0.778775\n",
       "nativecountry Hong                       -2.362e-01  1.492e+00  -0.158 0.874155\n",
       "nativecountry Hungary                     1.412e-01  1.555e+00   0.091 0.927653\n",
       "nativecountry India                      -8.218e-01  1.314e+00  -0.625 0.531661\n",
       "nativecountry Iran                       -3.299e-02  1.366e+00  -0.024 0.980736\n",
       "nativecountry Ireland                     1.579e-01  1.473e+00   0.107 0.914628\n",
       "nativecountry Italy                       6.100e-01  1.333e+00   0.458 0.647194\n",
       "nativecountry Jamaica                    -2.279e-01  1.387e+00  -0.164 0.869467\n",
       "nativecountry Japan                       5.072e-01  1.375e+00   0.369 0.712179\n",
       "nativecountry Laos                       -6.831e-01  1.661e+00  -0.411 0.680866\n",
       "nativecountry Mexico                     -9.182e-01  1.303e+00  -0.705 0.481103\n",
       "nativecountry Nicaragua                  -1.987e-01  1.507e+00  -0.132 0.895132\n",
       "nativecountry Outlying-US(Guam-USVI-etc) -1.373e+01  8.502e+02  -0.016 0.987115\n",
       "nativecountry Peru                       -9.660e-01  1.678e+00  -0.576 0.564797\n",
       "nativecountry Philippines                 4.393e-02  1.281e+00   0.034 0.972640\n",
       "nativecountry Poland                      2.410e-01  1.383e+00   0.174 0.861624\n",
       "nativecountry Portugal                    7.276e-01  1.477e+00   0.493 0.622327\n",
       "nativecountry Puerto-Rico                -5.769e-01  1.357e+00  -0.425 0.670837\n",
       "nativecountry Scotland                   -1.188e+00  1.719e+00  -0.691 0.489616\n",
       "nativecountry South                      -8.183e-01  1.341e+00  -0.610 0.541809\n",
       "nativecountry Taiwan                     -2.590e-01  1.350e+00  -0.192 0.847878\n",
       "nativecountry Thailand                   -1.693e+00  1.737e+00  -0.975 0.329678\n",
       "nativecountry Trinadad&Tobago            -1.346e+00  1.721e+00  -0.782 0.434105\n",
       "nativecountry United-States              -8.594e-02  1.269e+00  -0.068 0.946020\n",
       "nativecountry Vietnam                    -1.008e+00  1.523e+00  -0.662 0.507799\n",
       "nativecountry Yugoslavia                  1.402e+00  1.648e+00   0.851 0.394874\n",
       "                                            \n",
       "(Intercept)                              ***\n",
       "age                                      ***\n",
       "workclass Federal-gov                    ***\n",
       "workclass Local-gov                      *  \n",
       "workclass Never-worked                      \n",
       "workclass Private                        ***\n",
       "workclass Self-emp-inc                   ***\n",
       "workclass Self-emp-not-inc                  \n",
       "workclass State-gov                      *  \n",
       "workclass Without-pay                       \n",
       "education 11th                              \n",
       "education 12th                           .  \n",
       "education 1st-4th                           \n",
       "education 5th-6th                           \n",
       "education 7th-8th                           \n",
       "education 9th                               \n",
       "education Assoc-acdm                     ***\n",
       "education Assoc-voc                      ***\n",
       "education Bachelors                      ***\n",
       "education Doctorate                      ***\n",
       "education HS-grad                        ***\n",
       "education Masters                        ***\n",
       "education Preschool                         \n",
       "education Prof-school                    ***\n",
       "education Some-college                   ***\n",
       "maritalstatus Married-AF-spouse          ***\n",
       "maritalstatus Married-civ-spouse         ***\n",
       "maritalstatus Married-spouse-absent         \n",
       "maritalstatus Never-married              ***\n",
       "maritalstatus Separated                     \n",
       "maritalstatus Widowed                       \n",
       "occupation Adm-clerical                     \n",
       "occupation Armed-Forces                     \n",
       "occupation Craft-repair                  *  \n",
       "occupation Exec-managerial               ***\n",
       "occupation Farming-fishing               ***\n",
       "occupation Handlers-cleaners             ** \n",
       "occupation Machine-op-inspct                \n",
       "occupation Other-service                 ***\n",
       "occupation Priv-house-serv                  \n",
       "occupation Prof-specialty                ***\n",
       "occupation Protective-serv               ***\n",
       "occupation Sales                         ** \n",
       "occupation Tech-support                  ***\n",
       "occupation Transport-moving                 \n",
       "relationship Not-in-family               *  \n",
       "relationship Other-relative                 \n",
       "relationship Own-child                   *  \n",
       "relationship Unmarried                   .  \n",
       "relationship Wife                        ***\n",
       "race Asian-Pac-Islander                     \n",
       "race Black                                  \n",
       "race Other                                  \n",
       "race White                                  \n",
       "sex Male                                 ***\n",
       "capitalgain                              ***\n",
       "capitalloss                              ***\n",
       "hoursperweek                             ***\n",
       "nativecountry Canada                        \n",
       "nativecountry China                         \n",
       "nativecountry Columbia                      \n",
       "nativecountry Cuba                          \n",
       "nativecountry Dominican-Republic            \n",
       "nativecountry Ecuador                       \n",
       "nativecountry El-Salvador                   \n",
       "nativecountry England                       \n",
       "nativecountry France                        \n",
       "nativecountry Germany                       \n",
       "nativecountry Greece                        \n",
       "nativecountry Guatemala                     \n",
       "nativecountry Haiti                         \n",
       "nativecountry Holand-Netherlands            \n",
       "nativecountry Honduras                      \n",
       "nativecountry Hong                          \n",
       "nativecountry Hungary                       \n",
       "nativecountry India                         \n",
       "nativecountry Iran                          \n",
       "nativecountry Ireland                       \n",
       "nativecountry Italy                         \n",
       "nativecountry Jamaica                       \n",
       "nativecountry Japan                         \n",
       "nativecountry Laos                          \n",
       "nativecountry Mexico                        \n",
       "nativecountry Nicaragua                     \n",
       "nativecountry Outlying-US(Guam-USVI-etc)    \n",
       "nativecountry Peru                          \n",
       "nativecountry Philippines                   \n",
       "nativecountry Poland                        \n",
       "nativecountry Portugal                      \n",
       "nativecountry Puerto-Rico                   \n",
       "nativecountry Scotland                      \n",
       "nativecountry South                         \n",
       "nativecountry Taiwan                        \n",
       "nativecountry Thailand                      \n",
       "nativecountry Trinadad&Tobago               \n",
       "nativecountry United-States                 \n",
       "nativecountry Vietnam                       \n",
       "nativecountry Yugoslavia                    \n",
       "---\n",
       "Signif. codes:  0 '***' 0.001 '**' 0.01 '*' 0.05 '.' 0.1 ' ' 1\n",
       "\n",
       "(Dispersion parameter for binomial family taken to be 1)\n",
       "\n",
       "    Null deviance: 21175  on 19186  degrees of freedom\n",
       "Residual deviance: 12104  on 19090  degrees of freedom\n",
       "AIC: 12298\n",
       "\n",
       "Number of Fisher Scoring iterations: 15\n"
      ]
     },
     "metadata": {},
     "output_type": "display_data"
    }
   ],
   "source": [
    "Logcensus = glm(over50k ~ ., data=train, family='binomial')\n",
    "summary(Logcensus)"
   ]
  },
  {
   "cell_type": "code",
   "execution_count": 8,
   "metadata": {},
   "outputs": [
    {
     "name": "stderr",
     "output_type": "stream",
     "text": [
      "Warning message in predict.lm(object, newdata, se.fit, scale = 1, type = if (type == :\n",
      "\"prediction from a rank-deficient fit may be misleading\"\n"
     ]
    },
    {
     "data": {
      "text/plain": [
       "        \n",
       "         FALSE TRUE\n",
       "   <=50K  9051  662\n",
       "   >50K   1190 1888"
      ]
     },
     "metadata": {},
     "output_type": "display_data"
    }
   ],
   "source": [
    "LogCensusPred = predict(Logcensus, newdata=test, type='response')\n",
    "table(test$over50k, LogCensusPred > 0.5)"
   ]
  },
  {
   "cell_type": "code",
   "execution_count": 9,
   "metadata": {},
   "outputs": [
    {
     "data": {
      "text/html": [
       "0.855210695019936"
      ],
      "text/latex": [
       "0.855210695019936"
      ],
      "text/markdown": [
       "0.855210695019936"
      ],
      "text/plain": [
       "[1] 0.8552107"
      ]
     },
     "metadata": {},
     "output_type": "display_data"
    }
   ],
   "source": [
    "accuracy = (9051 + 1888) / nrow(test)\n",
    "accuracy"
   ]
  },
  {
   "cell_type": "code",
   "execution_count": 12,
   "metadata": {},
   "outputs": [
    {
     "data": {
      "text/plain": [
       "\n",
       " <=50K   >50K \n",
       " 14570   4617 "
      ]
     },
     "metadata": {},
     "output_type": "display_data"
    },
    {
     "data": {
      "text/html": [
       "0.75936205144242"
      ],
      "text/latex": [
       "0.75936205144242"
      ],
      "text/markdown": [
       "0.75936205144242"
      ],
      "text/plain": [
       "[1] 0.7593621"
      ]
     },
     "metadata": {},
     "output_type": "display_data"
    }
   ],
   "source": [
    "table(train$over50k)\n",
    "baseline = rep(\"<=50K\", nrow(test))\n",
    "table(test$over50k, baseline)[1] / nrow(test)"
   ]
  },
  {
   "cell_type": "code",
   "execution_count": 13,
   "metadata": {},
   "outputs": [
    {
     "data": {
      "text/plain": [
       "\n",
       " <=50K   >50K \n",
       "  9713   3078 "
      ]
     },
     "metadata": {},
     "output_type": "display_data"
    }
   ],
   "source": [
    "table(test$over50k)"
   ]
  },
  {
   "cell_type": "code",
   "execution_count": 14,
   "metadata": {},
   "outputs": [
    {
     "name": "stderr",
     "output_type": "stream",
     "text": [
      "Loading required package: gplots\n",
      "\n",
      "\n",
      "Attaching package: 'gplots'\n",
      "\n",
      "\n",
      "The following object is masked from 'package:stats':\n",
      "\n",
      "    lowess\n",
      "\n",
      "\n"
     ]
    }
   ],
   "source": [
    "library(\"ROCR\")"
   ]
  },
  {
   "cell_type": "code",
   "execution_count": 15,
   "metadata": {},
   "outputs": [
    {
     "data": {
      "text/html": [
       "0.906159757757142"
      ],
      "text/latex": [
       "0.906159757757142"
      ],
      "text/markdown": [
       "0.906159757757142"
      ],
      "text/plain": [
       "[1] 0.9061598"
      ]
     },
     "metadata": {},
     "output_type": "display_data"
    }
   ],
   "source": [
    "pred = prediction(LogCensusPred, test$over50k)\n",
    "as.numeric(performance(pred, \"auc\")@y.values)"
   ]
  },
  {
   "cell_type": "markdown",
   "metadata": {},
   "source": [
    "### A CART Model"
   ]
  },
  {
   "cell_type": "markdown",
   "metadata": {},
   "source": [
    "We have just seen how the logistic regression model for this data achieves a high accuracy. Moreover, the significances of the variables give us a way to gauge which variables are relevant for this prediction task. However, it is not immediately clear which variables are more important than the others, especially due to the large number of factor variables in this problem.\n",
    "\n",
    "Let us now build a classification tree to predict \"over50k\". Use the training set to build the model, and all of the other variables as independent variables. Use the default parameters, so don't set a value for minbucket or cp. Remember to specify method=\"class\" as an argument to rpart, since this is a classification problem. After you are done building the model, plot the resulting tree."
   ]
  },
  {
   "cell_type": "code",
   "execution_count": 16,
   "metadata": {},
   "outputs": [],
   "source": [
    "library(\"rpart\")\n",
    "library(\"rpart.plot\")"
   ]
  },
  {
   "cell_type": "code",
   "execution_count": 17,
   "metadata": {},
   "outputs": [
    {
     "name": "stdout",
     "output_type": "stream",
     "text": [
      "Call:\n",
      "rpart(formula = over50k ~ ., data = train, method = \"class\")\n",
      "  n= 19187 \n",
      "\n",
      "          CP nsplit rel error    xerror       xstd\n",
      "1 0.12183236      0 1.0000000 1.0000000 0.01282467\n",
      "2 0.06562703      2 0.7563353 0.7660819 0.01163352\n",
      "3 0.03747022      3 0.6907083 0.7132337 0.01131225\n",
      "4 0.01000000      4 0.6532380 0.6562703 0.01094053\n",
      "\n",
      "Variable importance\n",
      " relationship maritalstatus   capitalgain     education           sex \n",
      "           27            26            12            10             8 \n",
      "   occupation           age  hoursperweek \n",
      "            7             6             3 \n",
      "\n",
      "Node number 1: 19187 observations,    complexity param=0.1218324\n",
      "  predicted class= <=50K  expected loss=0.2406317  P(node) =1\n",
      "    class counts: 14570  4617\n",
      "   probabilities: 0.759 0.241 \n",
      "  left son=2 (10478 obs) right son=3 (8709 obs)\n",
      "  Primary splits:\n",
      "      relationship  splits as  RLLLLR, improve=1391.9300, (0 missing)\n",
      "      maritalstatus splits as  LRRLLLL, improve=1375.6510, (0 missing)\n",
      "      capitalgain   < 5119   to the left,  improve= 979.0779, (0 missing)\n",
      "      education     splits as  LLLLLLLLLRRLRLRL, improve= 749.1199, (0 missing)\n",
      "      occupation    splits as  LLLLRLLLLLRLLLL, improve= 694.4727, (0 missing)\n",
      "  Surrogate splits:\n",
      "      maritalstatus splits as  LRRLLLL, agree=0.993, adj=0.984, (0 split)\n",
      "      sex           splits as  LR, agree=0.685, adj=0.307, (0 split)\n",
      "      age           < 34.5   to the left,  agree=0.647, adj=0.223, (0 split)\n",
      "      occupation    splits as  LLLRRRLLLLRRLLR, agree=0.621, adj=0.165, (0 split)\n",
      "      hoursperweek  < 43.5   to the left,  agree=0.604, adj=0.127, (0 split)\n",
      "\n",
      "Node number 2: 10478 observations,    complexity param=0.03747022\n",
      "  predicted class= <=50K  expected loss=0.06699752  P(node) =0.5460989\n",
      "    class counts:  9776   702\n",
      "   probabilities: 0.933 0.067 \n",
      "  left son=4 (10297 obs) right son=5 (181 obs)\n",
      "  Primary splits:\n",
      "      capitalgain  < 7565.5 to the left,  improve=305.64730, (0 missing)\n",
      "      education    splits as  LLLLLLLLLRRLRLRL, improve= 99.69222, (0 missing)\n",
      "      occupation   splits as  LLLLRLLLLLRLLLL, improve= 80.12740, (0 missing)\n",
      "      hoursperweek < 44.5   to the left,  improve= 73.50345, (0 missing)\n",
      "      age          < 33.5   to the left,  improve= 45.95414, (0 missing)\n",
      "\n",
      "Node number 3: 8709 observations,    complexity param=0.1218324\n",
      "  predicted class= <=50K  expected loss=0.449535  P(node) =0.4539011\n",
      "    class counts:  4794  3915\n",
      "   probabilities: 0.550 0.450 \n",
      "  left son=6 (6158 obs) right son=7 (2551 obs)\n",
      "  Primary splits:\n",
      "      education   splits as  LLLLLLLLLRRLRLRL, improve=529.7869, (0 missing)\n",
      "      occupation  splits as  LRRLRLLLLLRRRRL, improve=524.6148, (0 missing)\n",
      "      capitalgain < 5095.5 to the left,  improve=452.5539, (0 missing)\n",
      "      capitalloss < 1782.5 to the left,  improve=151.2895, (0 missing)\n",
      "      age         < 29.5   to the left,  improve=132.6677, (0 missing)\n",
      "  Surrogate splits:\n",
      "      occupation    splits as  LLLLRLLLLLRLLLL, agree=0.792, adj=0.290, (0 split)\n",
      "      capitalgain   < 7493   to the left,  agree=0.724, adj=0.057, (0 split)\n",
      "      nativecountry splits as  LLRLLLLLRLLLLL-RLLRRLLLRLLLLLRLLLLRRLLLLL, agree=0.715, adj=0.027, (0 split)\n",
      "      capitalloss   < 1894.5 to the left,  agree=0.712, adj=0.018, (0 split)\n",
      "      race          splits as  LRLLL, agree=0.709, adj=0.007, (0 split)\n",
      "\n",
      "Node number 4: 10297 observations\n",
      "  predicted class= <=50K  expected loss=0.05098572  P(node) =0.5366655\n",
      "    class counts:  9772   525\n",
      "   probabilities: 0.949 0.051 \n",
      "\n",
      "Node number 5: 181 observations\n",
      "  predicted class= >50K   expected loss=0.02209945  P(node) =0.009433471\n",
      "    class counts:     4   177\n",
      "   probabilities: 0.022 0.978 \n",
      "\n",
      "Node number 6: 6158 observations,    complexity param=0.06562703\n",
      "  predicted class= <=50K  expected loss=0.3372848  P(node) =0.3209465\n",
      "    class counts:  4081  2077\n",
      "   probabilities: 0.663 0.337 \n",
      "  left son=12 (5847 obs) right son=13 (311 obs)\n",
      "  Primary splits:\n",
      "      capitalgain < 5095.5 to the left,  improve=276.64820, (0 missing)\n",
      "      occupation  splits as  LRLLRLLLLLRRRRL, improve=152.12600, (0 missing)\n",
      "      education   splits as  LLLLLLLRR--R-L-R, improve=110.43240, (0 missing)\n",
      "      age         < 33.5   to the left,  improve= 74.69885, (0 missing)\n",
      "      capitalloss < 1846   to the left,  improve= 71.75490, (0 missing)\n",
      "\n",
      "Node number 7: 2551 observations\n",
      "  predicted class= >50K   expected loss=0.2794982  P(node) =0.1329546\n",
      "    class counts:   713  1838\n",
      "   probabilities: 0.279 0.721 \n",
      "\n",
      "Node number 12: 5847 observations\n",
      "  predicted class= <=50K  expected loss=0.3027193  P(node) =0.3047376\n",
      "    class counts:  4077  1770\n",
      "   probabilities: 0.697 0.303 \n",
      "\n",
      "Node number 13: 311 observations\n",
      "  predicted class= >50K   expected loss=0.01286174  P(node) =0.01620889\n",
      "    class counts:     4   307\n",
      "   probabilities: 0.013 0.987 \n",
      "\n"
     ]
    }
   ],
   "source": [
    "CARTover = rpart(over50k ~ ., data=train, method='class')\n",
    "summary(CARTover)"
   ]
  },
  {
   "cell_type": "code",
   "execution_count": 18,
   "metadata": {},
   "outputs": [
    {
     "data": {
      "image/png": "[encoded data removed]",
      "text/plain": [
       "plot without title"
      ]
     },
     "metadata": {
      "image/png": {
       "height": 420,
       "width": 420
      }
     },
     "output_type": "display_data"
    }
   ],
   "source": [
    "prp(CARTover)"
   ]
  },
  {
   "cell_type": "code",
   "execution_count": 19,
   "metadata": {},
   "outputs": [],
   "source": [
    "CARTpred = predict(CARTover, newdata=test, type='class')"
   ]
  },
  {
   "cell_type": "code",
   "execution_count": 22,
   "metadata": {},
   "outputs": [
    {
     "data": {
      "text/plain": [
       "        CARTpred\n",
       "          <=50K  >50K\n",
       "   <=50K   9243   470\n",
       "   >50K    1482  1596"
      ]
     },
     "metadata": {},
     "output_type": "display_data"
    }
   ],
   "source": [
    "table(test$over50k, CARTpred)"
   ]
  },
  {
   "cell_type": "code",
   "execution_count": 23,
   "metadata": {},
   "outputs": [
    {
     "data": {
      "text/html": [
       "0.847392697990775"
      ],
      "text/latex": [
       "0.847392697990775"
      ],
      "text/markdown": [
       "0.847392697990775"
      ],
      "text/plain": [
       "[1] 0.8473927"
      ]
     },
     "metadata": {},
     "output_type": "display_data"
    }
   ],
   "source": [
    "accuracy = (9243 + 1596) / nrow(test)\n",
    "accuracy"
   ]
  },
  {
   "cell_type": "code",
   "execution_count": null,
   "metadata": {},
   "outputs": [],
   "source": []
  }
 ],
 "metadata": {
  "kernelspec": {
   "display_name": "R",
   "language": "R",
   "name": "ir"
  },
  "language_info": {
   "codemirror_mode": "r",
   "file_extension": ".r",
   "mimetype": "text/x-r-source",
   "name": "R",
   "pygments_lexer": "r",
   "version": "3.6.3"
  }
 },
 "nbformat": 4,
 "nbformat_minor": 4
}
