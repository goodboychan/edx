{
 "cells": [
  {
   "cell_type": "markdown",
   "metadata": {},
   "source": [
    "## Letter Recognition"
   ]
  },
  {
   "cell_type": "markdown",
   "metadata": {},
   "source": [
    "One of the earliest applications of the predictive analytics methods we have studied so far in this class was to automatically recognize letters, which post office machines use to sort mail. In this problem, we will build a model that uses statistics of images of four letters in the Roman alphabet -- A, B, P, and R -- to predict which letter a particular image corresponds to.\n",
    "\n",
    "Note that this is a multiclass classification problem. We have mostly focused on binary classification problems (e.g., predicting whether an individual voted or not, whether the Supreme Court will affirm or reverse a case, whether or not a person is at risk for a certain disease, etc.). In this problem, we have more than two classifications that are possible for each observation, like in the D2Hawkeye lecture. \n",
    "\n",
    "The file letters_ABPR.csv contains 3116 observations, each of which corresponds to a certain image of one of the four letters A, B, P and R. The images came from 20 different fonts, which were then randomly distorted to produce the final images; each such distorted image is represented as a collection of pixels, each of which is \"on\" or \"off\". For each such distorted image, we have available certain statistics of the image in terms of these pixels, as well as which of the four letters the image is. This data comes from the [UCI Machine Learning Repository](http://archive.ics.uci.edu/ml/datasets/Letter+Recognition)."
   ]
  },
  {
   "cell_type": "markdown",
   "metadata": {},
   "source": [
    "This dataset contains the following 17 variables:\n",
    "\n",
    "- letter = the letter that the image corresponds to (A, B, P or R)\n",
    "- xbox = the horizontal position of where the smallest box covering the letter shape begins.\n",
    "- ybox = the vertical position of where the smallest box covering the letter shape begins.\n",
    "- width = the width of this smallest box.\n",
    "- height = the height of this smallest box.\n",
    "- onpix = the total number of \"on\" pixels in the character image\n",
    "- xbar = the mean horizontal position of all of the \"on\" pixels\n",
    "- ybar = the mean vertical position of all of the \"on\" pixels\n",
    "- x2bar = the mean squared horizontal position of all of the \"on\" pixels in the image\n",
    "- y2bar = the mean squared vertical position of all of the \"on\" pixels in the image\n",
    "- xybar = the mean of the product of the horizontal and vertical position of all of the \"on\" pixels in the image\n",
    "- x2ybar = the mean of the product of the squared horizontal position and the vertical position of all of the \"on\" pixels\n",
    "- xy2bar = the mean of the product of the horizontal position and the squared vertical position of all of the \"on\" pixels\n",
    "- xedge = the mean number of edges (the number of times an \"off\" pixel is followed by an \"on\" pixel, or the image boundary is hit) as the image is scanned from left to right, along the whole vertical length of the image\n",
    "- xedgeycor = the mean of the product of the number of horizontal edges at each vertical position and the vertical position\n",
    "- yedge = the mean number of edges as the images is scanned from top to bottom, along the whole horizontal length of the image\n",
    "- yedgexcor = the mean of the product of the number of vertical edges at each horizontal position and the horizontal position"
   ]
  },
  {
   "cell_type": "markdown",
   "metadata": {},
   "source": [
    "### Predicting B or not B"
   ]
  },
  {
   "cell_type": "code",
   "execution_count": 2,
   "metadata": {},
   "outputs": [],
   "source": [
    "letters = read.csv('./dataset/letters_ABPR.csv')"
   ]
  },
  {
   "cell_type": "code",
   "execution_count": 3,
   "metadata": {},
   "outputs": [
    {
     "name": "stdout",
     "output_type": "stream",
     "text": [
      "'data.frame':\t3116 obs. of  17 variables:\n",
      " $ letter   : Factor w/ 4 levels \"A\",\"B\",\"P\",\"R\": 2 1 4 2 3 4 4 1 3 3 ...\n",
      " $ xbox     : int  4 1 5 5 3 8 2 3 8 6 ...\n",
      " $ ybox     : int  2 1 9 9 6 10 6 7 14 10 ...\n",
      " $ width    : int  5 3 5 7 4 8 4 5 7 8 ...\n",
      " $ height   : int  4 2 7 7 4 6 4 5 8 8 ...\n",
      " $ onpix    : int  4 1 6 10 2 6 3 3 4 7 ...\n",
      " $ xbar     : int  8 8 6 9 4 7 6 12 5 8 ...\n",
      " $ ybar     : int  7 2 11 8 14 7 7 2 10 5 ...\n",
      " $ x2bar    : int  6 2 7 4 8 3 5 3 6 7 ...\n",
      " $ y2bar    : int  6 2 3 4 1 5 5 2 3 5 ...\n",
      " $ xybar    : int  7 8 7 6 11 8 6 10 12 7 ...\n",
      " $ x2ybar   : int  6 2 3 8 6 4 5 2 5 6 ...\n",
      " $ xy2bar   : int  6 8 9 6 3 8 7 9 4 6 ...\n",
      " $ xedge    : int  2 1 2 6 0 6 3 2 4 3 ...\n",
      " $ xedgeycor: int  8 6 7 11 10 6 7 6 10 9 ...\n",
      " $ yedge    : int  7 2 5 8 4 7 5 3 4 8 ...\n",
      " $ yedgexcor: int  10 7 11 7 8 7 8 8 8 9 ...\n"
     ]
    }
   ],
   "source": [
    "str(letters)"
   ]
  },
  {
   "cell_type": "markdown",
   "metadata": {},
   "source": [
    "Let's warm up by attempting to predict just whether a letter is B or not. To begin, load the file letters_ABPR.csv into R, and call it letters. Then, create a new variable isB in the dataframe, which takes the value \"TRUE\" if the observation corresponds to the letter B, and \"FALSE\" if it does not. You can do this by typing the following command into your R console:\n",
    "```R\n",
    "letters$isB = as.factor(letters$letter == \"B\")\n",
    "```\n",
    "Now split the data set into a training and testing set, putting 50% of the data in the training set. Set the seed to 1000 before making the split. The first argument to sample.split should be the dependent variable \"letters$isB\". Remember that TRUE values from sample.split should go in the training set."
   ]
  },
  {
   "cell_type": "code",
   "execution_count": 4,
   "metadata": {},
   "outputs": [],
   "source": [
    "letters$isB = as.factor(letters$letter == 'B')"
   ]
  },
  {
   "cell_type": "code",
   "execution_count": 11,
   "metadata": {},
   "outputs": [],
   "source": [
    "library('caTools')\n",
    "set.seed(1000)"
   ]
  },
  {
   "cell_type": "code",
   "execution_count": 12,
   "metadata": {},
   "outputs": [],
   "source": [
    "split = sample.split(letters$isB, SplitRatio=0.5)\n",
    "train = subset(letters, split == TRUE)\n",
    "test = subset(letters, split == FALSE)"
   ]
  },
  {
   "cell_type": "code",
   "execution_count": 13,
   "metadata": {},
   "outputs": [
    {
     "data": {
      "text/plain": [
       "\n",
       "FALSE  TRUE \n",
       " 2350   766 "
      ]
     },
     "metadata": {},
     "output_type": "display_data"
    }
   ],
   "source": [
    "table(letters$isB)"
   ]
  },
  {
   "cell_type": "code",
   "execution_count": 14,
   "metadata": {},
   "outputs": [
    {
     "data": {
      "text/html": [
       "0.754172015404365"
      ],
      "text/latex": [
       "0.754172015404365"
      ],
      "text/markdown": [
       "0.754172015404365"
      ],
      "text/plain": [
       "[1] 0.754172"
      ]
     },
     "metadata": {},
     "output_type": "display_data"
    }
   ],
   "source": [
    "2350 / nrow(letters)"
   ]
  },
  {
   "cell_type": "markdown",
   "metadata": {},
   "source": [
    "Now build a classification tree to predict whether a letter is a B or not, using the training set to build your model. Remember to remove the variable \"letter\" out of the model, as this is related to what we are trying to predict! To just remove one variable, you can either write out the other variables, or remember what we did in the Billboards problem in Week 3, and use the following notation:\n",
    "```R\n",
    "CARTb = rpart(isB ~ . - letter, data=train, method=\"class\")\n",
    "```\n",
    "We are just using the default parameters in our CART model, so we don't need to add the minbucket or cp arguments at all. We also added the argument method=\"class\" since this is a classification problem."
   ]
  },
  {
   "cell_type": "code",
   "execution_count": 15,
   "metadata": {},
   "outputs": [],
   "source": [
    "library(\"rpart\")\n",
    "CARTb = rpart(isB ~ . - letter, data=train, method=\"class\")"
   ]
  },
  {
   "cell_type": "code",
   "execution_count": 16,
   "metadata": {},
   "outputs": [],
   "source": [
    "CARTbpred = predict(CARTb, newdata=test, type='class')"
   ]
  },
  {
   "cell_type": "code",
   "execution_count": 17,
   "metadata": {},
   "outputs": [
    {
     "data": {
      "text/plain": [
       "       CARTbpred\n",
       "        FALSE TRUE\n",
       "  FALSE  1118   57\n",
       "  TRUE     43  340"
      ]
     },
     "metadata": {},
     "output_type": "display_data"
    }
   ],
   "source": [
    "table(test$isB, CARTbpred)"
   ]
  },
  {
   "cell_type": "code",
   "execution_count": 19,
   "metadata": {},
   "outputs": [
    {
     "data": {
      "text/html": [
       "0.93581514762516"
      ],
      "text/latex": [
       "0.93581514762516"
      ],
      "text/markdown": [
       "0.93581514762516"
      ],
      "text/plain": [
       "[1] 0.9358151"
      ]
     },
     "metadata": {},
     "output_type": "display_data"
    }
   ],
   "source": [
    "accuracy = (1118 + 340) / nrow(test)\n",
    "accuracy"
   ]
  },
  {
   "cell_type": "markdown",
   "metadata": {},
   "source": [
    "Now, build a random forest model to predict whether the letter is a B or not (the isB variable) using the training set. You should use all of the other variables as independent variables, except letter (since it helped us define what we are trying to predict!). Use the default settings for ntree and nodesize (don't include these arguments at all). Right before building the model, set the seed to 1000. (NOTE: You might get a slightly different answer on this problem, even if you set the random seed. This has to do with your operating system and the implementation of the random forest algorithm.)"
   ]
  },
  {
   "cell_type": "code",
   "execution_count": 21,
   "metadata": {},
   "outputs": [
    {
     "name": "stderr",
     "output_type": "stream",
     "text": [
      "randomForest 4.6-14\n",
      "\n",
      "Type rfNews() to see new features/changes/bug fixes.\n",
      "\n"
     ]
    }
   ],
   "source": [
    "library(\"randomForest\")"
   ]
  },
  {
   "cell_type": "code",
   "execution_count": 22,
   "metadata": {},
   "outputs": [],
   "source": [
    "set.seed(1000)\n",
    "isBForest = randomForest(isB ~ . - letter, data=train,)"
   ]
  },
  {
   "cell_type": "code",
   "execution_count": 23,
   "metadata": {},
   "outputs": [],
   "source": [
    "PredictForest = predict(isBForest, newdata=test)"
   ]
  },
  {
   "cell_type": "code",
   "execution_count": 24,
   "metadata": {},
   "outputs": [
    {
     "data": {
      "text/plain": [
       "       PredictForest\n",
       "        FALSE TRUE\n",
       "  FALSE  1163   12\n",
       "  TRUE      9  374"
      ]
     },
     "metadata": {},
     "output_type": "display_data"
    }
   ],
   "source": [
    "table(test$isB, PredictForest)"
   ]
  },
  {
   "cell_type": "code",
   "execution_count": 25,
   "metadata": {},
   "outputs": [
    {
     "data": {
      "text/html": [
       "0.986521181001284"
      ],
      "text/latex": [
       "0.986521181001284"
      ],
      "text/markdown": [
       "0.986521181001284"
      ],
      "text/plain": [
       "[1] 0.9865212"
      ]
     },
     "metadata": {},
     "output_type": "display_data"
    }
   ],
   "source": [
    "accuracy = (1163 + 374) / nrow(test)\n",
    "accuracy"
   ]
  },
  {
   "cell_type": "markdown",
   "metadata": {},
   "source": [
    "### Predicting the letters A, B, P, R"
   ]
  },
  {
   "cell_type": "markdown",
   "metadata": {},
   "source": [
    "Let us now move on to the problem that we were originally interested in, which is to predict whether or not a letter is one of the four letters A, B, P or R.\n",
    "\n",
    "As we saw in the D2Hawkeye lecture, building a multiclass classification CART model in R is no harder than building the models for binary classification problems. Fortunately, building a random forest model is just as easy.\n",
    "\n",
    "The variable in our data frame which we will be trying to predict is \"letter\". Start by converting letter in the original data set (letters) to a factor by running the following command in R:\n",
    "```R\n",
    "letters$letter = as.factor( letters$letter )\n",
    "```\n",
    "Now, generate new training and testing sets of the letters data frame using letters$letter as the first input to the sample.split function. Before splitting, set your seed to 2000. Again put 50% of the data in the training set. (Why do we need to split the data again? Remember that sample.split balances the outcome variable in the training and testing sets. With a new outcome variable, we want to re-generate our split.)\n",
    "\n",
    "In a multiclass classification problem, a simple baseline model is to predict the most frequent class of all of the options."
   ]
  },
  {
   "cell_type": "code",
   "execution_count": 26,
   "metadata": {},
   "outputs": [],
   "source": [
    "letters$letter = as.factor(letters$letter)"
   ]
  },
  {
   "cell_type": "code",
   "execution_count": 27,
   "metadata": {},
   "outputs": [],
   "source": [
    "set.seed(2000)\n",
    "split = sample.split(letters$letter, SplitRatio = 0.5)\n",
    "train = subset(letters, split == TRUE)\n",
    "test = subset(letters, split == FALSE)"
   ]
  },
  {
   "cell_type": "code",
   "execution_count": 29,
   "metadata": {},
   "outputs": [
    {
     "data": {
      "text/plain": [
       "\n",
       "  A   B   P   R \n",
       "395 383 401 379 "
      ]
     },
     "metadata": {},
     "output_type": "display_data"
    }
   ],
   "source": [
    "table(test$letter)"
   ]
  },
  {
   "cell_type": "code",
   "execution_count": 30,
   "metadata": {},
   "outputs": [
    {
     "data": {
      "text/html": [
       "0.257381258023107"
      ],
      "text/latex": [
       "0.257381258023107"
      ],
      "text/markdown": [
       "0.257381258023107"
      ],
      "text/plain": [
       "[1] 0.2573813"
      ]
     },
     "metadata": {},
     "output_type": "display_data"
    }
   ],
   "source": [
    "401 / nrow(test)"
   ]
  },
  {
   "cell_type": "markdown",
   "metadata": {},
   "source": [
    "Now build a classification tree to predict \"letter\", using the training set to build your model. You should use all of the other variables as independent variables, except \"isB\", since it is related to what we are trying to predict! Just use the default parameters in your CART model. Add the argument method=\"class\" since this is a classification problem. Even though we have multiple classes here, nothing changes in how we build the model from the binary case."
   ]
  },
  {
   "cell_type": "code",
   "execution_count": 31,
   "metadata": {},
   "outputs": [
    {
     "name": "stdout",
     "output_type": "stream",
     "text": [
      "Call:\n",
      "rpart(formula = letter ~ . - isB, data = train, method = \"class\")\n",
      "  n= 1558 \n",
      "\n",
      "          CP nsplit rel error    xerror       xstd\n",
      "1 0.31920415      0 1.0000000 1.0207612 0.01463677\n",
      "2 0.25865052      1 0.6807958 0.7240484 0.01702507\n",
      "3 0.18685121      2 0.4221453 0.4221453 0.01583654\n",
      "4 0.02595156      3 0.2352941 0.2352941 0.01296174\n",
      "5 0.02076125      4 0.2093426 0.2145329 0.01249165\n",
      "6 0.01730104      5 0.1885813 0.1955017 0.01202444\n",
      "7 0.01384083      6 0.1712803 0.1816609 0.01166039\n",
      "8 0.01211073      7 0.1574394 0.1730104 0.01142150\n",
      "9 0.01000000      8 0.1453287 0.1660900 0.01122366\n",
      "\n",
      "Variable importance\n",
      "     ybar xedgeycor    x2ybar    xy2bar     yedge     y2bar     xedge     xybar \n",
      "       17        16        14        12        11         8         7         5 \n",
      "    x2bar      xbar \n",
      "        5         3 \n",
      "\n",
      "Node number 1: 1558 observations,    complexity param=0.3192042\n",
      "  predicted class=P  expected loss=0.7419769  P(node) =1\n",
      "    class counts:   394   383   402   379\n",
      "   probabilities: 0.253 0.246 0.258 0.243 \n",
      "  left son=2 (1088 obs) right son=3 (470 obs)\n",
      "  Primary splits:\n",
      "      xedgeycor < 8.5  to the left,  improve=293.2010, (0 missing)\n",
      "      ybar      < 5.5  to the left,  improve=287.8322, (0 missing)\n",
      "      xy2bar    < 5.5  to the right, improve=278.1742, (0 missing)\n",
      "      x2ybar    < 2.5  to the left,  improve=262.6356, (0 missing)\n",
      "      yedge     < 4.5  to the left,  improve=177.0582, (0 missing)\n",
      "  Surrogate splits:\n",
      "      xy2bar < 5.5  to the right, agree=0.892, adj=0.643, (0 split)\n",
      "      ybar   < 8.5  to the left,  agree=0.821, adj=0.406, (0 split)\n",
      "      xedge  < 1.5  to the right, agree=0.816, adj=0.391, (0 split)\n",
      "      xybar  < 10.5 to the left,  agree=0.785, adj=0.287, (0 split)\n",
      "      x2ybar < 6.5  to the left,  agree=0.777, adj=0.262, (0 split)\n",
      "\n",
      "Node number 2: 1088 observations,    complexity param=0.2586505\n",
      "  predicted class=A  expected loss=0.6488971  P(node) =0.6983312\n",
      "    class counts:   382   338    13   355\n",
      "   probabilities: 0.351 0.311 0.012 0.326 \n",
      "  left son=4 (344 obs) right son=5 (744 obs)\n",
      "  Primary splits:\n",
      "      ybar      < 5.5  to the left,  improve=275.7625, (0 missing)\n",
      "      x2ybar    < 2.5  to the left,  improve=240.6702, (0 missing)\n",
      "      y2bar     < 2.5  to the left,  improve=226.4519, (0 missing)\n",
      "      yedge     < 3.5  to the left,  improve=215.2610, (0 missing)\n",
      "      xedgeycor < 7.5  to the right, improve=171.4917, (0 missing)\n",
      "  Surrogate splits:\n",
      "      x2ybar < 2.5  to the left,  agree=0.904, adj=0.698, (0 split)\n",
      "      y2bar  < 2.5  to the left,  agree=0.892, adj=0.657, (0 split)\n",
      "      yedge  < 3.5  to the left,  agree=0.881, adj=0.625, (0 split)\n",
      "      x2bar  < 2.5  to the left,  agree=0.820, adj=0.430, (0 split)\n",
      "      xbar   < 9.5  to the right, agree=0.779, adj=0.302, (0 split)\n",
      "\n",
      "Node number 3: 470 observations,    complexity param=0.01730104\n",
      "  predicted class=P  expected loss=0.1723404  P(node) =0.3016688\n",
      "    class counts:    12    45   389    24\n",
      "   probabilities: 0.026 0.096 0.828 0.051 \n",
      "  left son=6 (91 obs) right son=7 (379 obs)\n",
      "  Primary splits:\n",
      "      xybar  < 7.5  to the left,  improve=59.48719, (0 missing)\n",
      "      xy2bar < 6.5  to the right, improve=54.86112, (0 missing)\n",
      "      ybar   < 7.5  to the left,  improve=49.49367, (0 missing)\n",
      "      yedge  < 6.5  to the right, improve=48.42295, (0 missing)\n",
      "      xedge  < 5.5  to the left,  improve=30.83057, (0 missing)\n",
      "  Surrogate splits:\n",
      "      xy2bar < 6.5  to the right, agree=0.936, adj=0.670, (0 split)\n",
      "      ybar   < 7.5  to the left,  agree=0.902, adj=0.495, (0 split)\n",
      "      xedge  < 5.5  to the right, agree=0.889, adj=0.429, (0 split)\n",
      "      yedge  < 6.5  to the right, agree=0.885, adj=0.407, (0 split)\n",
      "      onpix  < 6.5  to the right, agree=0.838, adj=0.165, (0 split)\n",
      "\n",
      "Node number 4: 344 observations\n",
      "  predicted class=A  expected loss=0.04360465  P(node) =0.2207959\n",
      "    class counts:   329     9     3     3\n",
      "   probabilities: 0.956 0.026 0.009 0.009 \n",
      "\n",
      "Node number 5: 744 observations,    complexity param=0.1868512\n",
      "  predicted class=R  expected loss=0.5268817  P(node) =0.4775353\n",
      "    class counts:    53   329    10   352\n",
      "   probabilities: 0.071 0.442 0.013 0.473 \n",
      "  left son=10 (342 obs) right son=11 (402 obs)\n",
      "  Primary splits:\n",
      "      xedgeycor < 7.5  to the right, improve=139.70670, (0 missing)\n",
      "      xy2bar    < 7.5  to the left,  improve= 92.43059, (0 missing)\n",
      "      x2ybar    < 5.5  to the right, improve= 81.07422, (0 missing)\n",
      "      y2bar     < 4.5  to the right, improve= 56.45671, (0 missing)\n",
      "      yedgexcor < 10.5 to the left,  improve= 52.58754, (0 missing)\n",
      "  Surrogate splits:\n",
      "      x2ybar < 5.5  to the right, agree=0.738, adj=0.430, (0 split)\n",
      "      xy2bar < 6.5  to the left,  agree=0.675, adj=0.292, (0 split)\n",
      "      xedge  < 2.5  to the left,  agree=0.675, adj=0.292, (0 split)\n",
      "      yedge  < 5.5  to the right, agree=0.644, adj=0.225, (0 split)\n",
      "      ybar   < 7.5  to the left,  agree=0.625, adj=0.184, (0 split)\n",
      "\n",
      "Node number 6: 91 observations,    complexity param=0.01384083\n",
      "  predicted class=B  expected loss=0.5604396  P(node) =0.05840822\n",
      "    class counts:    10    40    20    21\n",
      "   probabilities: 0.110 0.440 0.220 0.231 \n",
      "  left son=12 (55 obs) right son=13 (36 obs)\n",
      "  Primary splits:\n",
      "      x2bar     < 3.5  to the right, improve=14.308240, (0 missing)\n",
      "      xy2bar    < 7.5  to the left,  improve= 9.472092, (0 missing)\n",
      "      yedge     < 4.5  to the left,  improve= 9.449763, (0 missing)\n",
      "      x2ybar    < 7.5  to the right, improve= 8.053076, (0 missing)\n",
      "      yedgexcor < 6.5  to the right, improve= 7.478284, (0 missing)\n",
      "  Surrogate splits:\n",
      "      yedgexcor < 5.5  to the right, agree=0.736, adj=0.333, (0 split)\n",
      "      x2ybar    < 7.5  to the left,  agree=0.725, adj=0.306, (0 split)\n",
      "      yedge     < 5.5  to the right, agree=0.725, adj=0.306, (0 split)\n",
      "      xy2bar    < 8.5  to the left,  agree=0.714, adj=0.278, (0 split)\n",
      "      ybar      < 7.5  to the left,  agree=0.681, adj=0.194, (0 split)\n",
      "\n",
      "Node number 7: 379 observations\n",
      "  predicted class=P  expected loss=0.02638522  P(node) =0.2432606\n",
      "    class counts:     2     5   369     3\n",
      "   probabilities: 0.005 0.013 0.974 0.008 \n",
      "\n",
      "Node number 10: 342 observations,    complexity param=0.02595156\n",
      "  predicted class=B  expected loss=0.2192982  P(node) =0.2195122\n",
      "    class counts:    14   267    10    51\n",
      "   probabilities: 0.041 0.781 0.029 0.149 \n",
      "  left son=20 (283 obs) right son=21 (59 obs)\n",
      "  Primary splits:\n",
      "      xy2bar    < 7.5  to the left,  improve=48.65030, (0 missing)\n",
      "      xedge     < 2.5  to the left,  improve=33.98799, (0 missing)\n",
      "      y2bar     < 4.5  to the right, improve=27.13499, (0 missing)\n",
      "      yedgexcor < 6.5  to the left,  improve=15.49245, (0 missing)\n",
      "      ybar      < 8.5  to the left,  improve=15.03303, (0 missing)\n",
      "  Surrogate splits:\n",
      "      xedge     < 5.5  to the left,  agree=0.871, adj=0.254, (0 split)\n",
      "      yedgexcor < 4.5  to the right, agree=0.854, adj=0.153, (0 split)\n",
      "      ybar      < 9.5  to the left,  agree=0.848, adj=0.119, (0 split)\n",
      "      xbox      < 6.5  to the left,  agree=0.842, adj=0.085, (0 split)\n",
      "      ybox      < 11.5 to the left,  agree=0.842, adj=0.085, (0 split)\n",
      "\n",
      "Node number 11: 402 observations,    complexity param=0.02076125\n",
      "  predicted class=R  expected loss=0.2512438  P(node) =0.2580231\n",
      "    class counts:    39    62     0   301\n",
      "   probabilities: 0.097 0.154 0.000 0.749 \n",
      "  left son=22 (26 obs) right son=23 (376 obs)\n",
      "  Primary splits:\n",
      "      yedge     < 2.5  to the left,  improve=35.46191, (0 missing)\n",
      "      x2ybar    < 0.5  to the left,  improve=34.14932, (0 missing)\n",
      "      y2bar     < 1.5  to the left,  improve=33.87850, (0 missing)\n",
      "      x2bar     < 3.5  to the left,  improve=19.57685, (0 missing)\n",
      "      yedgexcor < 8.5  to the left,  improve=19.07812, (0 missing)\n",
      "  Surrogate splits:\n",
      "      y2bar  < 1.5  to the left,  agree=0.993, adj=0.885, (0 split)\n",
      "      x2ybar < 0.5  to the left,  agree=0.993, adj=0.885, (0 split)\n",
      "\n",
      "Node number 12: 55 observations\n",
      "  predicted class=B  expected loss=0.3090909  P(node) =0.03530167\n",
      "    class counts:     1    38    13     3\n",
      "   probabilities: 0.018 0.691 0.236 0.055 \n",
      "\n",
      "Node number 13: 36 observations\n",
      "  predicted class=R  expected loss=0.5  P(node) =0.02310655\n",
      "    class counts:     9     2     7    18\n",
      "   probabilities: 0.250 0.056 0.194 0.500 \n",
      "\n",
      "Node number 20: 283 observations\n",
      "  predicted class=B  expected loss=0.08480565  P(node) =0.1816431\n",
      "    class counts:     3   259     8    13\n",
      "   probabilities: 0.011 0.915 0.028 0.046 \n",
      "\n",
      "Node number 21: 59 observations\n",
      "  predicted class=R  expected loss=0.3559322  P(node) =0.03786906\n",
      "    class counts:    11     8     2    38\n",
      "   probabilities: 0.186 0.136 0.034 0.644 \n",
      "\n",
      "Node number 22: 26 observations\n",
      "  predicted class=A  expected loss=0.03846154  P(node) =0.01668806\n",
      "    class counts:    25     0     0     1\n",
      "   probabilities: 0.962 0.000 0.000 0.038 \n",
      "\n",
      "Node number 23: 376 observations,    complexity param=0.01211073\n",
      "  predicted class=R  expected loss=0.2021277  P(node) =0.241335\n",
      "    class counts:    14    62     0   300\n",
      "   probabilities: 0.037 0.165 0.000 0.798 \n",
      "  left son=46 (26 obs) right son=47 (350 obs)\n",
      "  Primary splits:\n",
      "      yedge  < 7.5  to the right, improve=19.73450, (0 missing)\n",
      "      x2ybar < 5.5  to the right, improve=16.32647, (0 missing)\n",
      "      xybar  < 8.5  to the right, improve=15.20779, (0 missing)\n",
      "      xedge  < 3.5  to the right, improve=14.35240, (0 missing)\n",
      "      onpix  < 4.5  to the right, improve=12.94437, (0 missing)\n",
      "  Surrogate splits:\n",
      "      xedgeycor < 4.5  to the left,  agree=0.939, adj=0.115, (0 split)\n",
      "\n",
      "Node number 46: 26 observations\n",
      "  predicted class=B  expected loss=0.3076923  P(node) =0.01668806\n",
      "    class counts:     4    18     0     4\n",
      "   probabilities: 0.154 0.692 0.000 0.154 \n",
      "\n",
      "Node number 47: 350 observations\n",
      "  predicted class=R  expected loss=0.1542857  P(node) =0.224647\n",
      "    class counts:    10    44     0   296\n",
      "   probabilities: 0.029 0.126 0.000 0.846 \n",
      "\n"
     ]
    }
   ],
   "source": [
    "CARTletter = rpart(letter ~ . - isB, data=train, method='class')\n",
    "summary(CARTletter)"
   ]
  },
  {
   "cell_type": "code",
   "execution_count": 32,
   "metadata": {},
   "outputs": [],
   "source": [
    "CARTletterpred = predict(CARTletter, newdata=test, type='class')"
   ]
  },
  {
   "cell_type": "code",
   "execution_count": 33,
   "metadata": {},
   "outputs": [
    {
     "data": {
      "text/plain": [
       "   CARTletterpred\n",
       "      A   B   P   R\n",
       "  A 348   4   0  43\n",
       "  B   8 318  12  45\n",
       "  P   2  21 363  15\n",
       "  R  10  24   5 340"
      ]
     },
     "metadata": {},
     "output_type": "display_data"
    }
   ],
   "source": [
    "table(test$letter, CARTletterpred)"
   ]
  },
  {
   "cell_type": "code",
   "execution_count": 35,
   "metadata": {},
   "outputs": [
    {
     "data": {
      "text/html": [
       "0.878690629011553"
      ],
      "text/latex": [
       "0.878690629011553"
      ],
      "text/markdown": [
       "0.878690629011553"
      ],
      "text/plain": [
       "[1] 0.8786906"
      ]
     },
     "metadata": {},
     "output_type": "display_data"
    }
   ],
   "source": [
    "accuracy = (348 + 318 + 363 + 340) / nrow(test)\n",
    "accuracy"
   ]
  },
  {
   "cell_type": "code",
   "execution_count": 36,
   "metadata": {},
   "outputs": [
    {
     "data": {
      "text/plain": [
       "                Length Class  Mode     \n",
       "call               4   -none- call     \n",
       "type               1   -none- character\n",
       "predicted       1558   factor numeric  \n",
       "err.rate        2500   -none- numeric  \n",
       "confusion         20   -none- numeric  \n",
       "votes           6232   matrix numeric  \n",
       "oob.times       1558   -none- numeric  \n",
       "classes            4   -none- character\n",
       "importance        16   -none- numeric  \n",
       "importanceSD       0   -none- NULL     \n",
       "localImportance    0   -none- NULL     \n",
       "proximity          0   -none- NULL     \n",
       "ntree              1   -none- numeric  \n",
       "mtry               1   -none- numeric  \n",
       "forest            14   -none- list     \n",
       "y               1558   factor numeric  \n",
       "test               0   -none- NULL     \n",
       "inbag              0   -none- NULL     \n",
       "terms              3   terms  call     "
      ]
     },
     "metadata": {},
     "output_type": "display_data"
    }
   ],
   "source": [
    "set.seed(1000)\n",
    "RFletter = randomForest(letter ~ . - isB, data=train,)\n",
    "summary(RFletter)"
   ]
  },
  {
   "cell_type": "code",
   "execution_count": 37,
   "metadata": {},
   "outputs": [
    {
     "data": {
      "text/plain": [
       "   RFletterpred\n",
       "      A   B   P   R\n",
       "  A 391   0   3   1\n",
       "  B   0 380   1   2\n",
       "  P   0   6 394   1\n",
       "  R   3  14   0 362"
      ]
     },
     "metadata": {},
     "output_type": "display_data"
    }
   ],
   "source": [
    "RFletterpred = predict(RFletter, newdata=test)\n",
    "table(test$letter, RFletterpred)"
   ]
  },
  {
   "cell_type": "code",
   "execution_count": 39,
   "metadata": {},
   "outputs": [
    {
     "data": {
      "text/html": [
       "0.9801026957638"
      ],
      "text/latex": [
       "0.9801026957638"
      ],
      "text/markdown": [
       "0.9801026957638"
      ],
      "text/plain": [
       "[1] 0.9801027"
      ]
     },
     "metadata": {},
     "output_type": "display_data"
    }
   ],
   "source": [
    "accuracy = (391 + 380 + 394 + 362) / nrow(test)\n",
    "accuracy"
   ]
  }
 ],
 "metadata": {
  "kernelspec": {
   "display_name": "R",
   "language": "R",
   "name": "ir"
  },
  "language_info": {
   "codemirror_mode": "r",
   "file_extension": ".r",
   "mimetype": "text/x-r-source",
   "name": "R",
   "pygments_lexer": "r",
   "version": "3.6.3"
  }
 },
 "nbformat": 4,
 "nbformat_minor": 4
}
