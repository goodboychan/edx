{
 "cells": [
  {
   "cell_type": "markdown",
   "metadata": {},
   "source": [
    "## Understanding Why People Vote"
   ]
  },
  {
   "cell_type": "markdown",
   "metadata": {},
   "source": [
    "In August 2006 three researchers (Alan Gerber and Donald Green of Yale University, and Christopher Larimer of the University of Northern Iowa) carried out a large scale field experiment in Michigan, USA to test the hypothesis that one of the reasons people vote is social, or extrinsic, pressure. To quote the first paragraph of their 2008 research paper:\n",
    "\n",
    "    Among the most striking features of a democratic political system is the participation of millions of voters in elections. Why do large numbers of people vote, despite the fact that ... \"the casting of a single vote is of no significance where there is a multitude of electors\"? One hypothesis is adherence to social norms. Voting is widely regarded as a citizen duty, and citizens worry that others will think less of them if they fail to participate in elections. Voters' sense of civic duty has long been a leading explanation of vote turnout...\n",
    "\n",
    "In this homework problem we will use both logistic regression and classification trees to analyze the data they collected."
   ]
  },
  {
   "cell_type": "markdown",
   "metadata": {},
   "source": [
    "### The data\n",
    "The researchers grouped about 344,000 voters into different groups randomly - about 191,000 voters were a \"control\" group, and the rest were categorized into one of four \"treatment\" groups. These five groups correspond to five binary variables in the dataset.\n",
    "\n",
    "- \"Civic Duty\" (variable civicduty) group members were sent a letter that simply said \"DO YOUR CIVIC DUTY - VOTE!\"\n",
    "- \"Hawthorne Effect\" (variable hawthorne) group members were sent a letter that had the \"Civic Duty\" message plus the additional message - - \"YOU ARE BEING STUDIED\" and they were informed that their voting behavior would be examined by means of public records.\n",
    "- \"Self\" (variable self) group members received the \"Civic Duty\" message as well as the recent voting record of everyone in that household and a message stating that another message would be sent after the election with updated records.\n",
    "- \"Neighbors\" (variable neighbors) group members were given the same message as that for the \"Self\" group, except the message not only had the household voting records but also that of neighbors - maximizing social pressure.\n",
    "- \"Control\" (variable control) group members were not sent anything, and represented the typical voting situation.\n",
    "\n",
    "Additional variables include sex (0 for male, 1 for female), yob (year of birth), and the dependent variable voting (1 if they voted, 0 otherwise)."
   ]
  },
  {
   "cell_type": "markdown",
   "metadata": {},
   "source": [
    "### Exploration and Logistic Regression"
   ]
  },
  {
   "cell_type": "code",
   "execution_count": 1,
   "metadata": {},
   "outputs": [
    {
     "name": "stdout",
     "output_type": "stream",
     "text": [
      "'data.frame':\t344084 obs. of  8 variables:\n",
      " $ sex      : int  0 1 1 1 0 1 0 0 1 0 ...\n",
      " $ yob      : int  1941 1947 1982 1950 1951 1959 1956 1981 1968 1967 ...\n",
      " $ voting   : int  0 0 1 1 1 1 1 0 0 0 ...\n",
      " $ hawthorne: int  0 0 1 1 1 0 0 0 0 0 ...\n",
      " $ civicduty: int  1 1 0 0 0 0 0 0 0 0 ...\n",
      " $ neighbors: int  0 0 0 0 0 0 0 0 0 0 ...\n",
      " $ self     : int  0 0 0 0 0 0 0 0 0 0 ...\n",
      " $ control  : int  0 0 0 0 0 1 1 1 1 1 ...\n"
     ]
    }
   ],
   "source": [
    "gerber = read.csv(\"./dataset/gerber.csv\")\n",
    "str(gerber)"
   ]
  },
  {
   "cell_type": "code",
   "execution_count": 2,
   "metadata": {},
   "outputs": [
    {
     "data": {
      "text/plain": [
       "      sex              yob           voting         hawthorne    \n",
       " Min.   :0.0000   Min.   :1900   Min.   :0.0000   Min.   :0.000  \n",
       " 1st Qu.:0.0000   1st Qu.:1947   1st Qu.:0.0000   1st Qu.:0.000  \n",
       " Median :0.0000   Median :1956   Median :0.0000   Median :0.000  \n",
       " Mean   :0.4993   Mean   :1956   Mean   :0.3159   Mean   :0.111  \n",
       " 3rd Qu.:1.0000   3rd Qu.:1965   3rd Qu.:1.0000   3rd Qu.:0.000  \n",
       " Max.   :1.0000   Max.   :1986   Max.   :1.0000   Max.   :1.000  \n",
       "   civicduty        neighbors          self           control      \n",
       " Min.   :0.0000   Min.   :0.000   Min.   :0.0000   Min.   :0.0000  \n",
       " 1st Qu.:0.0000   1st Qu.:0.000   1st Qu.:0.0000   1st Qu.:0.0000  \n",
       " Median :0.0000   Median :0.000   Median :0.0000   Median :1.0000  \n",
       " Mean   :0.1111   Mean   :0.111   Mean   :0.1111   Mean   :0.5558  \n",
       " 3rd Qu.:0.0000   3rd Qu.:0.000   3rd Qu.:0.0000   3rd Qu.:1.0000  \n",
       " Max.   :1.0000   Max.   :1.000   Max.   :1.0000   Max.   :1.0000  "
      ]
     },
     "metadata": {},
     "output_type": "display_data"
    }
   ],
   "source": [
    "summary(gerber)"
   ]
  },
  {
   "cell_type": "code",
   "execution_count": 3,
   "metadata": {},
   "outputs": [
    {
     "data": {
      "text/plain": [
       "      sex              yob           voting    hawthorne        civicduty     \n",
       " Min.   :0.0000   Min.   :1900   Min.   :1   Min.   :0.0000   Min.   :0.0000  \n",
       " 1st Qu.:0.0000   1st Qu.:1945   1st Qu.:1   1st Qu.:0.0000   1st Qu.:0.0000  \n",
       " Median :0.0000   Median :1954   Median :1   Median :0.0000   Median :0.0000  \n",
       " Mean   :0.4898   Mean   :1953   Mean   :1   Mean   :0.1133   Mean   :0.1106  \n",
       " 3rd Qu.:1.0000   3rd Qu.:1962   3rd Qu.:1   3rd Qu.:0.0000   3rd Qu.:0.0000  \n",
       " Max.   :1.0000   Max.   :1986   Max.   :1   Max.   :1.0000   Max.   :1.0000  \n",
       "   neighbors           self           control      \n",
       " Min.   :0.0000   Min.   :0.0000   Min.   :0.0000  \n",
       " 1st Qu.:0.0000   1st Qu.:0.0000   1st Qu.:0.0000  \n",
       " Median :0.0000   Median :0.0000   Median :1.0000  \n",
       " Mean   :0.1328   Mean   :0.1214   Mean   :0.5219  \n",
       " 3rd Qu.:0.0000   3rd Qu.:0.0000   3rd Qu.:1.0000  \n",
       " Max.   :1.0000   Max.   :1.0000   Max.   :1.0000  "
      ]
     },
     "metadata": {},
     "output_type": "display_data"
    }
   ],
   "source": [
    "voted = subset(gerber, voting==1)\n",
    "summary(voted)"
   ]
  },
  {
   "cell_type": "code",
   "execution_count": 4,
   "metadata": {},
   "outputs": [
    {
     "data": {
      "text/plain": [
       "\n",
       "Call:\n",
       "glm(formula = voting ~ hawthorne + civicduty + neighbors + self, \n",
       "    data = gerber)\n",
       "\n",
       "Deviance Residuals: \n",
       "    Min       1Q   Median       3Q      Max  \n",
       "-0.3780  -0.3145  -0.2966   0.6549   0.7034  \n",
       "\n",
       "Coefficients:\n",
       "            Estimate Std. Error t value Pr(>|t|)    \n",
       "(Intercept) 0.296638   0.001061 279.525  < 2e-16 ***\n",
       "hawthorne   0.025736   0.002601   9.896  < 2e-16 ***\n",
       "civicduty   0.017899   0.002600   6.884 5.85e-12 ***\n",
       "neighbors   0.081310   0.002601  31.263  < 2e-16 ***\n",
       "self        0.048513   0.002600  18.657  < 2e-16 ***\n",
       "---\n",
       "Signif. codes:  0 '***' 0.001 '**' 0.01 '*' 0.05 '.' 0.1 ' ' 1\n",
       "\n",
       "(Dispersion parameter for gaussian family taken to be 0.2153766)\n",
       "\n",
       "    Null deviance: 74359  on 344083  degrees of freedom\n",
       "Residual deviance: 74107  on 344079  degrees of freedom\n",
       "AIC: 448180\n",
       "\n",
       "Number of Fisher Scoring iterations: 2\n"
      ]
     },
     "metadata": {},
     "output_type": "display_data"
    }
   ],
   "source": [
    "votedReg = glm(voting ~ hawthorne + civicduty + neighbors + self, data=gerber)\n",
    "summary(votedReg)"
   ]
  },
  {
   "cell_type": "code",
   "execution_count": 5,
   "metadata": {},
   "outputs": [
    {
     "data": {
      "text/plain": [
       "   \n",
       "     FALSE   TRUE\n",
       "  0 134513 100875\n",
       "  1  56730  51966"
      ]
     },
     "metadata": {},
     "output_type": "display_data"
    }
   ],
   "source": [
    "voted_pred1 = predict(votedReg, type=\"response\")\n",
    "table(gerber$voting, voted_pred1 >= 0.3)"
   ]
  },
  {
   "cell_type": "code",
   "execution_count": 6,
   "metadata": {},
   "outputs": [
    {
     "data": {
      "text/html": [
       "0.541957777751944"
      ],
      "text/latex": [
       "0.541957777751944"
      ],
      "text/markdown": [
       "0.541957777751944"
      ],
      "text/plain": [
       "[1] 0.5419578"
      ]
     },
     "metadata": {},
     "output_type": "display_data"
    }
   ],
   "source": [
    "accuracy = (134513 + 51966) / nrow(gerber)\n",
    "accuracy"
   ]
  },
  {
   "cell_type": "code",
   "execution_count": 7,
   "metadata": {},
   "outputs": [
    {
     "data": {
      "text/plain": [
       "   \n",
       "     FALSE\n",
       "  0 235388\n",
       "  1 108696"
      ]
     },
     "metadata": {},
     "output_type": "display_data"
    }
   ],
   "source": [
    "voted_pred1 = predict(votedReg, type=\"response\")\n",
    "table(gerber$voting, voted_pred1 >= 0.5)"
   ]
  },
  {
   "cell_type": "code",
   "execution_count": 8,
   "metadata": {},
   "outputs": [
    {
     "data": {
      "text/html": [
       "0.684100394089815"
      ],
      "text/latex": [
       "0.684100394089815"
      ],
      "text/markdown": [
       "0.684100394089815"
      ],
      "text/plain": [
       "[1] 0.6841004"
      ]
     },
     "metadata": {},
     "output_type": "display_data"
    }
   ],
   "source": [
    "accuracy = 235388 / nrow(gerber)\n",
    "accuracy"
   ]
  },
  {
   "cell_type": "code",
   "execution_count": 9,
   "metadata": {},
   "outputs": [
    {
     "name": "stderr",
     "output_type": "stream",
     "text": [
      "Loading required package: gplots\n",
      "\n",
      "\n",
      "Attaching package: 'gplots'\n",
      "\n",
      "\n",
      "The following object is masked from 'package:stats':\n",
      "\n",
      "    lowess\n",
      "\n",
      "\n"
     ]
    }
   ],
   "source": [
    "library(\"ROCR\")"
   ]
  },
  {
   "cell_type": "code",
   "execution_count": 10,
   "metadata": {},
   "outputs": [
    {
     "data": {
      "text/html": [
       "0.530846149206405"
      ],
      "text/latex": [
       "0.530846149206405"
      ],
      "text/markdown": [
       "0.530846149206405"
      ],
      "text/plain": [
       "[1] 0.5308461"
      ]
     },
     "metadata": {},
     "output_type": "display_data"
    }
   ],
   "source": [
    "ROCRpred =  prediction(voted_pred1, gerber$voting)\n",
    "as.numeric(performance(ROCRpred, \"auc\")@y.values)"
   ]
  },
  {
   "cell_type": "markdown",
   "metadata": {},
   "source": [
    "### Trees"
   ]
  },
  {
   "cell_type": "markdown",
   "metadata": {},
   "source": [
    "We will now try out trees. Build a CART tree for voting using all data and the same four treatment variables we used before. Don't set the option method=\"class\" - we are actually going to create a regression tree here. We are interested in building a tree to explore the fraction of people who vote, or the probability of voting. We’d like CART to split our groups if they have different probabilities of voting. If we used method=‘class’, CART would only split if one of the groups had a probability of voting above 50% and the other had a probability of voting less than 50% (since the predicted outcomes would be different). However, with regression trees, CART will split even if both groups have probability less than 50%."
   ]
  },
  {
   "cell_type": "code",
   "execution_count": 11,
   "metadata": {},
   "outputs": [],
   "source": [
    "library(\"rpart\")\n",
    "library(\"rpart.plot\")"
   ]
  },
  {
   "cell_type": "code",
   "execution_count": 12,
   "metadata": {},
   "outputs": [],
   "source": [
    "CARTmodel = rpart(voting ~ civicduty + hawthorne + self + neighbors, data=gerber)"
   ]
  },
  {
   "cell_type": "code",
   "execution_count": 13,
   "metadata": {},
   "outputs": [
    {
     "data": {
      "image/png": "[encoded data removed]",
      "text/plain": [
       "plot without title"
      ]
     },
     "metadata": {
      "image/png": {
       "height": 420,
       "width": 420
      }
     },
     "output_type": "display_data"
    }
   ],
   "source": [
    "prp(CARTmodel)"
   ]
  },
  {
   "cell_type": "code",
   "execution_count": 14,
   "metadata": {},
   "outputs": [
    {
     "data": {
      "image/png": "[encoded data removed]",
      "text/plain": [
       "plot without title"
      ]
     },
     "metadata": {
      "image/png": {
       "height": 420,
       "width": 420
      }
     },
     "output_type": "display_data"
    }
   ],
   "source": [
    "CARTmodel2 = rpart(voting ~ civicduty + hawthorne + self + neighbors, data=gerber, cp=0.0)\n",
    "prp(CARTmodel2)"
   ]
  },
  {
   "cell_type": "code",
   "execution_count": 15,
   "metadata": {},
   "outputs": [],
   "source": [
    "CARTmodel3 = rpart(voting ~ civicduty + hawthorne + self + neighbors + sex, data=gerber, cp=0.0)"
   ]
  },
  {
   "cell_type": "code",
   "execution_count": 16,
   "metadata": {},
   "outputs": [
    {
     "data": {
      "image/png": "[encoded data removed]",
      "text/plain": [
       "plot without title"
      ]
     },
     "metadata": {
      "image/png": {
       "height": 420,
       "width": 420
      }
     },
     "output_type": "display_data"
    }
   ],
   "source": [
    "prp(CARTmodel3)"
   ]
  },
  {
   "cell_type": "markdown",
   "metadata": {},
   "source": [
    "### Interaction Terms"
   ]
  },
  {
   "cell_type": "markdown",
   "metadata": {},
   "source": [
    "We know trees can handle \"nonlinear\" relationships, e.g. \"in the 'Civic Duty' group and female\", but as we will see in the next few questions, it is possible to do the same for logistic regression. First, let's explore what trees can tell us some more.\n",
    "\n",
    "Let's just focus on the \"Control\" treatment group. Create a regression tree using just the \"control\" variable, then create another tree with the \"control\" and \"sex\" variables, both with cp=0.0."
   ]
  },
  {
   "cell_type": "code",
   "execution_count": 17,
   "metadata": {},
   "outputs": [
    {
     "data": {
      "image/png": "[encoded data removed]",
      "text/plain": [
       "plot without title"
      ]
     },
     "metadata": {
      "image/png": {
       "height": 420,
       "width": 420
      }
     },
     "output_type": "display_data"
    }
   ],
   "source": [
    "CARTcontrol = rpart(voting ~ control, data=gerber, cp=0.0)\n",
    "prp(CARTcontrol, digits=6)"
   ]
  },
  {
   "cell_type": "code",
   "execution_count": 18,
   "metadata": {},
   "outputs": [
    {
     "data": {
      "text/html": [
       "0.043362"
      ],
      "text/latex": [
       "0.043362"
      ],
      "text/markdown": [
       "0.043362"
      ],
      "text/plain": [
       "[1] 0.043362"
      ]
     },
     "metadata": {},
     "output_type": "display_data"
    }
   ],
   "source": [
    "abs(0.34 - 0.296638)"
   ]
  },
  {
   "cell_type": "code",
   "execution_count": 19,
   "metadata": {},
   "outputs": [
    {
     "data": {
      "image/png": "[encoded data removed]",
      "text/plain": [
       "plot without title"
      ]
     },
     "metadata": {
      "image/png": {
       "height": 420,
       "width": 420
      }
     },
     "output_type": "display_data"
    }
   ],
   "source": [
    "CARTsex = rpart(voting ~ control + sex, data=gerber, cp=0.0)\n",
    "prp(CARTsex, digits=6)"
   ]
  },
  {
   "cell_type": "code",
   "execution_count": 20,
   "metadata": {},
   "outputs": [
    {
     "data": {
      "text/html": [
       "0.043023"
      ],
      "text/latex": [
       "0.043023"
      ],
      "text/markdown": [
       "0.043023"
      ],
      "text/plain": [
       "[1] 0.043023"
      ]
     },
     "metadata": {},
     "output_type": "display_data"
    }
   ],
   "source": [
    "0.345818 - 0.302795"
   ]
  },
  {
   "cell_type": "code",
   "execution_count": 21,
   "metadata": {},
   "outputs": [
    {
     "data": {
      "text/html": [
       "0.04372"
      ],
      "text/latex": [
       "0.04372"
      ],
      "text/markdown": [
       "0.04372"
      ],
      "text/plain": [
       "[1] 0.04372"
      ]
     },
     "metadata": {},
     "output_type": "display_data"
    }
   ],
   "source": [
    "0.334176 - 0.290456"
   ]
  },
  {
   "cell_type": "code",
   "execution_count": 22,
   "metadata": {},
   "outputs": [
    {
     "name": "stdout",
     "output_type": "stream",
     "text": [
      "Call:\n",
      "rpart(formula = voting ~ control + sex, data = gerber, cp = 0)\n",
      "  n= 344084 \n",
      "\n",
      "            CP nsplit rel error    xerror        xstd\n",
      "1 2.148067e-03      0 1.0000000 1.0000051 0.001350270\n",
      "2 9.789151e-05      1 0.9978519 0.9978604 0.001353809\n",
      "3 6.965512e-05      2 0.9977540 0.9978044 0.001353919\n",
      "4 0.000000e+00      3 0.9976844 0.9977105 0.001354081\n",
      "\n",
      "Variable importance\n",
      "control     sex \n",
      "     93       7 \n",
      "\n",
      "Node number 1: 344084 observations,    complexity param=0.002148067\n",
      "  mean=0.3158996, MSE=0.216107 \n",
      "  left son=2 (191243 obs) right son=3 (152841 obs)\n",
      "  Primary splits:\n",
      "      control < 0.5 to the right, improve=0.0021480670, (0 missing)\n",
      "      sex     < 0.5 to the right, improve=0.0001664944, (0 missing)\n",
      "\n",
      "Node number 2: 191243 observations,    complexity param=9.789151e-05\n",
      "  mean=0.2966383, MSE=0.208644 \n",
      "  left son=4 (95419 obs) right son=5 (95824 obs)\n",
      "  Primary splits:\n",
      "      sex < 0.5 to the right, improve=0.0001824261, (0 missing)\n",
      "\n",
      "Node number 3: 152841 observations,    complexity param=6.965512e-05\n",
      "  mean=0.3400004, MSE=0.2244001 \n",
      "  left son=6 (76376 obs) right son=7 (76465 obs)\n",
      "  Primary splits:\n",
      "      sex < 0.5 to the right, improve=0.0001510162, (0 missing)\n",
      "\n",
      "Node number 4: 95419 observations\n",
      "  mean=0.2904558, MSE=0.2060912 \n",
      "\n",
      "Node number 5: 95824 observations\n",
      "  mean=0.3027947, MSE=0.2111101 \n",
      "\n",
      "Node number 6: 76376 observations\n",
      "  mean=0.3341757, MSE=0.2225023 \n",
      "\n",
      "Node number 7: 76465 observations\n",
      "  mean=0.3458183, MSE=0.226228 \n",
      "\n"
     ]
    }
   ],
   "source": [
    "summary(CARTsex)"
   ]
  },
  {
   "cell_type": "code",
   "execution_count": 29,
   "metadata": {},
   "outputs": [
    {
     "data": {
      "text/plain": [
       "\n",
       "Call:\n",
       "glm(formula = voting ~ sex + control, family = \"binomial\", data = gerber)\n",
       "\n",
       "Deviance Residuals: \n",
       "    Min       1Q   Median       3Q      Max  \n",
       "-0.9220  -0.9012  -0.8290   1.4564   1.5717  \n",
       "\n",
       "Coefficients:\n",
       "             Estimate Std. Error z value Pr(>|z|)    \n",
       "(Intercept) -0.635538   0.006511 -97.616  < 2e-16 ***\n",
       "sex         -0.055791   0.007343  -7.597 3.02e-14 ***\n",
       "control     -0.200142   0.007364 -27.179  < 2e-16 ***\n",
       "---\n",
       "Signif. codes:  0 '***' 0.001 '**' 0.01 '*' 0.05 '.' 0.1 ' ' 1\n",
       "\n",
       "(Dispersion parameter for binomial family taken to be 1)\n",
       "\n",
       "    Null deviance: 429238  on 344083  degrees of freedom\n",
       "Residual deviance: 428443  on 344081  degrees of freedom\n",
       "AIC: 428449\n",
       "\n",
       "Number of Fisher Scoring iterations: 4\n"
      ]
     },
     "metadata": {},
     "output_type": "display_data"
    }
   ],
   "source": [
    "sexLogReg = glm(voting ~ sex + control, data=gerber, family='binomial')\n",
    "summary(sexLogReg)"
   ]
  },
  {
   "cell_type": "code",
   "execution_count": 30,
   "metadata": {},
   "outputs": [
    {
     "data": {
      "text/html": [
       "<style>\n",
       ".dl-inline {width: auto; margin:0; padding: 0}\n",
       ".dl-inline>dt, .dl-inline>dd {float: none; width: auto; display: inline-block}\n",
       ".dl-inline>dt::after {content: \":\\0020\"; padding-right: .5ex}\n",
       ".dl-inline>dt:not(:first-of-type) {padding-left: .5ex}\n",
       "</style><dl class=dl-inline><dt>1</dt><dd>0.346255945755538</dd><dt>2</dt><dd>0.302445515818623</dd><dt>3</dt><dd>0.333737549855812</dd><dt>4</dt><dd>0.290806452511825</dd></dl>\n"
      ],
      "text/latex": [
       "\\begin{description*}\n",
       "\\item[1] 0.346255945755538\n",
       "\\item[2] 0.302445515818623\n",
       "\\item[3] 0.333737549855812\n",
       "\\item[4] 0.290806452511825\n",
       "\\end{description*}\n"
      ],
      "text/markdown": [
       "1\n",
       ":   0.3462559457555382\n",
       ":   0.3024455158186233\n",
       ":   0.3337375498558124\n",
       ":   0.290806452511825\n",
       "\n"
      ],
      "text/plain": [
       "        1         2         3         4 \n",
       "0.3462559 0.3024455 0.3337375 0.2908065 "
      ]
     },
     "metadata": {},
     "output_type": "display_data"
    }
   ],
   "source": [
    "Possibilities = data.frame(sex=c(0,0,1,1),control=c(0,1,0,1))\n",
    "predict(sexLogReg, newdata=Possibilities, type=\"response\")"
   ]
  },
  {
   "cell_type": "code",
   "execution_count": 31,
   "metadata": {},
   "outputs": [
    {
     "data": {
      "text/html": [
       "0.000350500000000031"
      ],
      "text/latex": [
       "0.000350500000000031"
      ],
      "text/markdown": [
       "0.000350500000000031"
      ],
      "text/plain": [
       "[1] 0.0003505"
      ]
     },
     "metadata": {},
     "output_type": "display_data"
    }
   ],
   "source": [
    "abs(0.290456 - 0.2908065)"
   ]
  },
  {
   "cell_type": "code",
   "execution_count": 32,
   "metadata": {},
   "outputs": [
    {
     "data": {
      "text/plain": [
       "\n",
       "Call:\n",
       "glm(formula = voting ~ sex + control + sex:control, family = \"binomial\", \n",
       "    data = gerber)\n",
       "\n",
       "Deviance Residuals: \n",
       "    Min       1Q   Median       3Q      Max  \n",
       "-0.9213  -0.9019  -0.8284   1.4573   1.5724  \n",
       "\n",
       "Coefficients:\n",
       "             Estimate Std. Error z value Pr(>|z|)    \n",
       "(Intercept) -0.637471   0.007603 -83.843  < 2e-16 ***\n",
       "sex         -0.051888   0.010801  -4.804 1.55e-06 ***\n",
       "control     -0.196553   0.010356 -18.980  < 2e-16 ***\n",
       "sex:control -0.007259   0.014729  -0.493    0.622    \n",
       "---\n",
       "Signif. codes:  0 '***' 0.001 '**' 0.01 '*' 0.05 '.' 0.1 ' ' 1\n",
       "\n",
       "(Dispersion parameter for binomial family taken to be 1)\n",
       "\n",
       "    Null deviance: 429238  on 344083  degrees of freedom\n",
       "Residual deviance: 428442  on 344080  degrees of freedom\n",
       "AIC: 428450\n",
       "\n",
       "Number of Fisher Scoring iterations: 4\n"
      ]
     },
     "metadata": {},
     "output_type": "display_data"
    }
   ],
   "source": [
    "LogModel2 = glm(voting ~ sex + control + sex:control, data=gerber, family=\"binomial\")\n",
    "summary(LogModel2)"
   ]
  },
  {
   "cell_type": "code",
   "execution_count": 33,
   "metadata": {},
   "outputs": [
    {
     "data": {
      "text/html": [
       "<style>\n",
       ".dl-inline {width: auto; margin:0; padding: 0}\n",
       ".dl-inline>dt, .dl-inline>dd {float: none; width: auto; display: inline-block}\n",
       ".dl-inline>dt::after {content: \":\\0020\"; padding-right: .5ex}\n",
       ".dl-inline>dt:not(:first-of-type) {padding-left: .5ex}\n",
       "</style><dl class=dl-inline><dt>1</dt><dd>0.345818348263925</dd><dt>2</dt><dd>0.302794706962995</dd><dt>3</dt><dd>0.334175657274637</dd><dt>4</dt><dd>0.290455779247779</dd></dl>\n"
      ],
      "text/latex": [
       "\\begin{description*}\n",
       "\\item[1] 0.345818348263925\n",
       "\\item[2] 0.302794706962995\n",
       "\\item[3] 0.334175657274637\n",
       "\\item[4] 0.290455779247779\n",
       "\\end{description*}\n"
      ],
      "text/markdown": [
       "1\n",
       ":   0.3458183482639252\n",
       ":   0.3027947069629953\n",
       ":   0.3341756572746374\n",
       ":   0.290455779247779\n",
       "\n"
      ],
      "text/plain": [
       "        1         2         3         4 \n",
       "0.3458183 0.3027947 0.3341757 0.2904558 "
      ]
     },
     "metadata": {},
     "output_type": "display_data"
    }
   ],
   "source": [
    "predict(LogModel2, newdata=Possibilities, type=\"response\")"
   ]
  },
  {
   "cell_type": "code",
   "execution_count": 34,
   "metadata": {},
   "outputs": [
    {
     "data": {
      "text/html": [
       "2.20752221002929e-07"
      ],
      "text/latex": [
       "2.20752221002929e-07"
      ],
      "text/markdown": [
       "2.20752221002929e-07"
      ],
      "text/plain": [
       "[1] 2.207522e-07"
      ]
     },
     "metadata": {},
     "output_type": "display_data"
    }
   ],
   "source": [
    "abs(0.290456 - 0.290455779247779)"
   ]
  }
 ],
 "metadata": {
  "kernelspec": {
   "display_name": "R",
   "language": "R",
   "name": "ir"
  },
  "language_info": {
   "codemirror_mode": "r",
   "file_extension": ".r",
   "mimetype": "text/x-r-source",
   "name": "R",
   "pygments_lexer": "r",
   "version": "3.6.3"
  }
 },
 "nbformat": 4,
 "nbformat_minor": 4
}
