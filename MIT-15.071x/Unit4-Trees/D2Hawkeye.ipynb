{
 "cells": [
  {
   "cell_type": "markdown",
   "metadata": {},
   "source": [
    "This data comes from the [DE-SynPUF](http://www.cms.gov/Research-Statistics-Data-and-Systems/Downloadable-Public-Use-Files/SynPUFs/DE_Syn_PUF.html) dataset, published by the United States Centers for Medicare and Medicaid Services (CMS)."
   ]
  },
  {
   "cell_type": "markdown",
   "metadata": {},
   "source": [
    "### Claims Data in R"
   ]
  },
  {
   "cell_type": "code",
   "execution_count": 1,
   "metadata": {},
   "outputs": [
    {
     "name": "stdout",
     "output_type": "stream",
     "text": [
      "'data.frame':\t458005 obs. of  16 variables:\n",
      " $ age              : int  85 59 67 52 67 68 75 70 67 67 ...\n",
      " $ alzheimers       : int  0 0 0 0 0 0 0 0 0 0 ...\n",
      " $ arthritis        : int  0 0 0 0 0 0 0 0 0 0 ...\n",
      " $ cancer           : int  0 0 0 0 0 0 0 0 0 0 ...\n",
      " $ copd             : int  0 0 0 0 0 0 0 0 0 0 ...\n",
      " $ depression       : int  0 0 0 0 0 0 0 0 0 0 ...\n",
      " $ diabetes         : int  0 0 0 0 0 0 0 0 0 0 ...\n",
      " $ heart.failure    : int  0 0 0 0 0 0 0 0 0 0 ...\n",
      " $ ihd              : int  0 0 0 0 0 0 0 0 0 0 ...\n",
      " $ kidney           : int  0 0 0 0 0 0 0 0 0 0 ...\n",
      " $ osteoporosis     : int  0 0 0 0 0 0 0 0 0 0 ...\n",
      " $ stroke           : int  0 0 0 0 0 0 0 0 0 0 ...\n",
      " $ reimbursement2008: int  0 0 0 0 0 0 0 0 0 0 ...\n",
      " $ bucket2008       : int  1 1 1 1 1 1 1 1 1 1 ...\n",
      " $ reimbursement2009: int  0 0 0 0 0 0 0 0 0 0 ...\n",
      " $ bucket2009       : int  1 1 1 1 1 1 1 1 1 1 ...\n"
     ]
    }
   ],
   "source": [
    "Claims = read.csv('./dataset/ClaimsData.csv')\n",
    "str(Claims)"
   ]
  },
  {
   "cell_type": "code",
   "execution_count": 2,
   "metadata": {},
   "outputs": [
    {
     "data": {
      "text/plain": [
       "\n",
       "          1           2           3           4           5 \n",
       "0.671267781 0.190170413 0.089466272 0.043324855 0.005770679 "
      ]
     },
     "metadata": {},
     "output_type": "display_data"
    }
   ],
   "source": [
    "table(Claims$bucket2009) / nrow(Claims)"
   ]
  },
  {
   "cell_type": "code",
   "execution_count": 3,
   "metadata": {},
   "outputs": [],
   "source": [
    "library('caTools')"
   ]
  },
  {
   "cell_type": "code",
   "execution_count": 4,
   "metadata": {},
   "outputs": [],
   "source": [
    "set.seed(88)"
   ]
  },
  {
   "cell_type": "code",
   "execution_count": 5,
   "metadata": {},
   "outputs": [],
   "source": [
    "spl = sample.split(Claims$bucket2009, SplitRatio = 0.6)"
   ]
  },
  {
   "cell_type": "code",
   "execution_count": 6,
   "metadata": {},
   "outputs": [],
   "source": [
    "ClaimsTrain = subset(Claims, spl == TRUE)\n",
    "ClaimsTest = subset(Claims, spl == FALSE)"
   ]
  },
  {
   "cell_type": "markdown",
   "metadata": {},
   "source": [
    "#### Quick Question"
   ]
  },
  {
   "cell_type": "code",
   "execution_count": 7,
   "metadata": {},
   "outputs": [
    {
     "data": {
      "text/html": [
       "72.6377259345786"
      ],
      "text/latex": [
       "72.6377259345786"
      ],
      "text/markdown": [
       "72.6377259345786"
      ],
      "text/plain": [
       "[1] 72.63773"
      ]
     },
     "metadata": {},
     "output_type": "display_data"
    }
   ],
   "source": [
    "mean(ClaimsTrain$age)"
   ]
  },
  {
   "cell_type": "code",
   "execution_count": 8,
   "metadata": {},
   "outputs": [
    {
     "data": {
      "text/html": [
       "0.380898316248367"
      ],
      "text/latex": [
       "0.380898316248367"
      ],
      "text/markdown": [
       "0.380898316248367"
      ],
      "text/plain": [
       "[1] 0.3808983"
      ]
     },
     "metadata": {},
     "output_type": "display_data"
    }
   ],
   "source": [
    "had_diabetes = subset(ClaimsTrain, diabetes > 0)\n",
    "nrow(had_diabetes) / nrow(ClaimsTrain)"
   ]
  },
  {
   "cell_type": "markdown",
   "metadata": {},
   "source": [
    "or"
   ]
  },
  {
   "cell_type": "code",
   "execution_count": 9,
   "metadata": {},
   "outputs": [
    {
     "data": {
      "text/plain": [
       "\n",
       "        0         1 \n",
       "0.6191017 0.3808983 "
      ]
     },
     "metadata": {},
     "output_type": "display_data"
    }
   ],
   "source": [
    "table(ClaimsTrain$diabetes) / nrow(ClaimsTrain)"
   ]
  },
  {
   "cell_type": "markdown",
   "metadata": {},
   "source": [
    "### Baseline Method and Penalty Matrix"
   ]
  },
  {
   "cell_type": "code",
   "execution_count": 10,
   "metadata": {},
   "outputs": [
    {
     "data": {
      "text/plain": [
       "   \n",
       "         1      2      3      4      5\n",
       "  1 110138   7787   3427   1452    174\n",
       "  2  16000  10721   4629   2931    559\n",
       "  3   7006   4629   2774   1621    360\n",
       "  4   2688   1943   1415   1539    352\n",
       "  5    293    191    160    309    104"
      ]
     },
     "metadata": {},
     "output_type": "display_data"
    }
   ],
   "source": [
    "table(ClaimsTest$bucket2009, ClaimsTest$bucket2008)"
   ]
  },
  {
   "cell_type": "code",
   "execution_count": 11,
   "metadata": {},
   "outputs": [
    {
     "data": {
      "text/html": [
       "0.683813495485857"
      ],
      "text/latex": [
       "0.683813495485857"
      ],
      "text/markdown": [
       "0.683813495485857"
      ],
      "text/plain": [
       "[1] 0.6838135"
      ]
     },
     "metadata": {},
     "output_type": "display_data"
    }
   ],
   "source": [
    "accuracy = (110138 + 10721 + 2774 + 1539 + 104) / nrow(ClaimsTest)\n",
    "accuracy"
   ]
  },
  {
   "cell_type": "code",
   "execution_count": 12,
   "metadata": {},
   "outputs": [],
   "source": [
    "PenaltyMatrix = matrix(c(0, 1, 2, 3, 4, \n",
    "                         2, 0, 1, 2, 3, \n",
    "                         4, 2, 0, 1, 2, \n",
    "                         6 ,4 ,2, 0, 1,\n",
    "                         8, 6, 4, 2, 0), byrow=TRUE, nrow=5)"
   ]
  },
  {
   "cell_type": "code",
   "execution_count": 13,
   "metadata": {},
   "outputs": [
    {
     "data": {
      "text/html": [
       "<table>\n",
       "<caption>A matrix: 5 × 5 of type dbl</caption>\n",
       "<tbody>\n",
       "\t<tr><td>0</td><td>1</td><td>2</td><td>3</td><td>4</td></tr>\n",
       "\t<tr><td>2</td><td>0</td><td>1</td><td>2</td><td>3</td></tr>\n",
       "\t<tr><td>4</td><td>2</td><td>0</td><td>1</td><td>2</td></tr>\n",
       "\t<tr><td>6</td><td>4</td><td>2</td><td>0</td><td>1</td></tr>\n",
       "\t<tr><td>8</td><td>6</td><td>4</td><td>2</td><td>0</td></tr>\n",
       "</tbody>\n",
       "</table>\n"
      ],
      "text/latex": [
       "A matrix: 5 × 5 of type dbl\n",
       "\\begin{tabular}{lllll}\n",
       "\t 0 & 1 & 2 & 3 & 4\\\\\n",
       "\t 2 & 0 & 1 & 2 & 3\\\\\n",
       "\t 4 & 2 & 0 & 1 & 2\\\\\n",
       "\t 6 & 4 & 2 & 0 & 1\\\\\n",
       "\t 8 & 6 & 4 & 2 & 0\\\\\n",
       "\\end{tabular}\n"
      ],
      "text/markdown": [
       "\n",
       "A matrix: 5 × 5 of type dbl\n",
       "\n",
       "| 0 | 1 | 2 | 3 | 4 |\n",
       "| 2 | 0 | 1 | 2 | 3 |\n",
       "| 4 | 2 | 0 | 1 | 2 |\n",
       "| 6 | 4 | 2 | 0 | 1 |\n",
       "| 8 | 6 | 4 | 2 | 0 |\n",
       "\n"
      ],
      "text/plain": [
       "     [,1] [,2] [,3] [,4] [,5]\n",
       "[1,] 0    1    2    3    4   \n",
       "[2,] 2    0    1    2    3   \n",
       "[3,] 4    2    0    1    2   \n",
       "[4,] 6    4    2    0    1   \n",
       "[5,] 8    6    4    2    0   "
      ]
     },
     "metadata": {},
     "output_type": "display_data"
    }
   ],
   "source": [
    "PenaltyMatrix"
   ]
  },
  {
   "cell_type": "code",
   "execution_count": 14,
   "metadata": {},
   "outputs": [
    {
     "data": {
      "text/plain": [
       "   \n",
       "        1     2     3     4     5\n",
       "  1     0  7787  6854  4356   696\n",
       "  2 32000     0  4629  5862  1677\n",
       "  3 28024  9258     0  1621   720\n",
       "  4 16128  7772  2830     0   352\n",
       "  5  2344  1146   640   618     0"
      ]
     },
     "metadata": {},
     "output_type": "display_data"
    }
   ],
   "source": [
    "as.matrix(table(ClaimsTest$bucket2009, ClaimsTest$bucket2008)) * PenaltyMatrix"
   ]
  },
  {
   "cell_type": "code",
   "execution_count": 15,
   "metadata": {},
   "outputs": [
    {
     "data": {
      "text/html": [
       "0.73860547373937"
      ],
      "text/latex": [
       "0.73860547373937"
      ],
      "text/markdown": [
       "0.73860547373937"
      ],
      "text/plain": [
       "[1] 0.7386055"
      ]
     },
     "metadata": {},
     "output_type": "display_data"
    }
   ],
   "source": [
    "sum(as.matrix(table(ClaimsTest$bucket2009, ClaimsTest$bucket2008)) * PenaltyMatrix) / nrow(ClaimsTest)"
   ]
  },
  {
   "cell_type": "markdown",
   "metadata": {},
   "source": [
    "#### Quick Question"
   ]
  },
  {
   "cell_type": "markdown",
   "metadata": {},
   "source": [
    "Suppose that instead of the baseline method discussed in the previous video, we used the baseline method of predicting the most frequent outcome for all observations. This new baseline method would predict cost bucket 1 for everyone."
   ]
  },
  {
   "cell_type": "code",
   "execution_count": 16,
   "metadata": {},
   "outputs": [
    {
     "data": {
      "text/plain": [
       "\n",
       "     1      2      3      4      5 \n",
       "122978  34840  16390   7937   1057 "
      ]
     },
     "metadata": {},
     "output_type": "display_data"
    }
   ],
   "source": [
    "table(ClaimsTest$bucket2009)"
   ]
  },
  {
   "cell_type": "code",
   "execution_count": 17,
   "metadata": {},
   "outputs": [
    {
     "data": {
      "text/html": [
       "0.6712699643017"
      ],
      "text/latex": [
       "0.6712699643017"
      ],
      "text/markdown": [
       "0.6712699643017"
      ],
      "text/plain": [
       "[1] 0.67127"
      ]
     },
     "metadata": {},
     "output_type": "display_data"
    }
   ],
   "source": [
    "122978 / nrow(ClaimsTest)"
   ]
  },
  {
   "cell_type": "code",
   "execution_count": 18,
   "metadata": {},
   "outputs": [
    {
     "data": {
      "text/html": [
       "1.04430082641019"
      ],
      "text/latex": [
       "1.04430082641019"
      ],
      "text/markdown": [
       "1.04430082641019"
      ],
      "text/plain": [
       "[1] 1.044301"
      ]
     },
     "metadata": {},
     "output_type": "display_data"
    }
   ],
   "source": [
    "sum(as.matrix(table(ClaimsTest$bucket2009)) * PenaltyMatrix[, 1]) /nrow(ClaimsTest)"
   ]
  },
  {
   "cell_type": "markdown",
   "metadata": {},
   "source": [
    "### Predicting Healthcare Costs in R"
   ]
  },
  {
   "cell_type": "code",
   "execution_count": 19,
   "metadata": {},
   "outputs": [],
   "source": [
    "library(\"rpart\")\n",
    "library(\"rpart.plot\")"
   ]
  },
  {
   "cell_type": "code",
   "execution_count": 20,
   "metadata": {},
   "outputs": [],
   "source": [
    "ClaimsTree = rpart(bucket2009 ~ age + arthritis + alzheimers + cancer + copd + depression + \n",
    "                  diabetes + heart.failure + ihd + kidney + osteoporosis + stroke +\n",
    "                  bucket2008 + reimbursement2008, data= ClaimsTrain, method=\"class\", cp=0.00005)"
   ]
  },
  {
   "cell_type": "code",
   "execution_count": 24,
   "metadata": {},
   "outputs": [
    {
     "name": "stderr",
     "output_type": "stream",
     "text": [
      "Warning message:\n",
      "“labs do not fit even at cex 0.15, there may be some overplotting”\n"
     ]
    },
    {
     "data": {
      "image/png": "[encoded data removed]",
      "text/plain": [
       "plot without title"
      ]
     },
     "metadata": {
      "image/png": {
       "height": 600,
       "width": 960
      },
      "text/plain": {
       "height": 600,
       "width": 960
      }
     },
     "output_type": "display_data"
    }
   ],
   "source": [
    "options(repr.plot.width=16, repr.plot.height=10)\n",
    "prp(ClaimsTree)"
   ]
  },
  {
   "cell_type": "code",
   "execution_count": 25,
   "metadata": {},
   "outputs": [],
   "source": [
    "PredictTest = predict(ClaimsTree, newdata=ClaimsTest, type='class')"
   ]
  },
  {
   "cell_type": "code",
   "execution_count": 26,
   "metadata": {},
   "outputs": [
    {
     "data": {
      "text/plain": [
       "   PredictTest\n",
       "         1      2      3      4      5\n",
       "  1 114141   8610    124    103      0\n",
       "  2  18409  16102    187    142      0\n",
       "  3   8027   8146    118     99      0\n",
       "  4   3099   4584     53    201      0\n",
       "  5    351    657      4     45      0"
      ]
     },
     "metadata": {},
     "output_type": "display_data"
    }
   ],
   "source": [
    "table(ClaimsTest$bucket2009, PredictTest)"
   ]
  },
  {
   "cell_type": "code",
   "execution_count": 27,
   "metadata": {},
   "outputs": [
    {
     "data": {
      "text/html": [
       "0.712666892282835"
      ],
      "text/latex": [
       "0.712666892282835"
      ],
      "text/markdown": [
       "0.712666892282835"
      ],
      "text/plain": [
       "[1] 0.7126669"
      ]
     },
     "metadata": {},
     "output_type": "display_data"
    }
   ],
   "source": [
    "accuracy = (114141 + 16102 + 118 + 201 + 0) / nrow(ClaimsTest)\n",
    "accuracy"
   ]
  },
  {
   "cell_type": "code",
   "execution_count": 28,
   "metadata": {},
   "outputs": [
    {
     "data": {
      "text/plain": [
       "   PredictTest\n",
       "        1     2     3     4     5\n",
       "  1     0  8610   248   309     0\n",
       "  2 36818     0   187   284     0\n",
       "  3 32108 16292     0    99     0\n",
       "  4 18594 18336   106     0     0\n",
       "  5  2808  3942    16    90     0"
      ]
     },
     "metadata": {},
     "output_type": "display_data"
    }
   ],
   "source": [
    "as.matrix(table(ClaimsTest$bucket2009, PredictTest)) * PenaltyMatrix"
   ]
  },
  {
   "cell_type": "code",
   "execution_count": 29,
   "metadata": {},
   "outputs": [
    {
     "data": {
      "text/html": [
       "0.757890197705265"
      ],
      "text/latex": [
       "0.757890197705265"
      ],
      "text/markdown": [
       "0.757890197705265"
      ],
      "text/plain": [
       "[1] 0.7578902"
      ]
     },
     "metadata": {},
     "output_type": "display_data"
    }
   ],
   "source": [
    "sum(as.matrix(table(ClaimsTest$bucket2009, PredictTest)) * PenaltyMatrix) / nrow(ClaimsTest)"
   ]
  },
  {
   "cell_type": "code",
   "execution_count": 30,
   "metadata": {},
   "outputs": [],
   "source": [
    "ClaimsTree1 = rpart(bucket2009 ~ age + arthritis + alzheimers + cancer + copd + depression + \n",
    "                  diabetes + heart.failure + ihd + kidney + osteoporosis + stroke +\n",
    "                  bucket2008 + reimbursement2008, data= ClaimsTrain, method=\"class\", \n",
    "                    cp=0.00005, parms=list(loss=PenaltyMatrix))"
   ]
  },
  {
   "cell_type": "code",
   "execution_count": 33,
   "metadata": {},
   "outputs": [],
   "source": [
    "PredictTest1 = predict(ClaimsTree1, newdata=ClaimsTest, type=\"class\")"
   ]
  },
  {
   "cell_type": "code",
   "execution_count": 34,
   "metadata": {},
   "outputs": [
    {
     "data": {
      "text/plain": [
       "   PredictTest1\n",
       "        1     2     3     4     5\n",
       "  1 94310 25295  3087   286     0\n",
       "  2  7176 18942  8079   643     0\n",
       "  3  3590  7706  4692   401     1\n",
       "  4  1304  3193  2803   636     1\n",
       "  5   135   356   408   156     2"
      ]
     },
     "metadata": {},
     "output_type": "display_data"
    }
   ],
   "source": [
    "table(ClaimsTest$bucket2009, PredictTest1)"
   ]
  },
  {
   "cell_type": "code",
   "execution_count": 35,
   "metadata": {},
   "outputs": [
    {
     "data": {
      "text/html": [
       "0.647274593072128"
      ],
      "text/latex": [
       "0.647274593072128"
      ],
      "text/markdown": [
       "0.647274593072128"
      ],
      "text/plain": [
       "[1] 0.6472746"
      ]
     },
     "metadata": {},
     "output_type": "display_data"
    }
   ],
   "source": [
    "accuracy = (94310 + 18942 + 4692 + 636 + 2) / nrow(ClaimsTest)\n",
    "accuracy"
   ]
  },
  {
   "cell_type": "code",
   "execution_count": 36,
   "metadata": {},
   "outputs": [
    {
     "data": {
      "text/html": [
       "0.641816137378413"
      ],
      "text/latex": [
       "0.641816137378413"
      ],
      "text/markdown": [
       "0.641816137378413"
      ],
      "text/plain": [
       "[1] 0.6418161"
      ]
     },
     "metadata": {},
     "output_type": "display_data"
    }
   ],
   "source": [
    "penalty_error = sum(as.matrix(table(ClaimsTest$bucket2009, PredictTest1)) * PenaltyMatrix) / nrow(ClaimsTest)\n",
    "penalty_error"
   ]
  }
 ],
 "metadata": {
  "kernelspec": {
   "display_name": "R",
   "language": "R",
   "name": "ir"
  },
  "language_info": {
   "codemirror_mode": "r",
   "file_extension": ".r",
   "mimetype": "text/x-r-source",
   "name": "R",
   "pygments_lexer": "r",
   "version": "3.6.3"
  }
 },
 "nbformat": 4,
 "nbformat_minor": 2
}
