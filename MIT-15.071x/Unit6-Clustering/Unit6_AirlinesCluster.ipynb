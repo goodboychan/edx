{
 "cells": [
  {
   "cell_type": "markdown",
   "metadata": {},
   "source": [
    "## Market Segmentation for Airlines"
   ]
  },
  {
   "cell_type": "markdown",
   "metadata": {},
   "source": [
    "Market segmentation is a strategy that divides a broad target market of customers into smaller, more similar groups, and then designs a marketing strategy specifically for each group. Clustering is a common technique for market segmentation since it automatically finds similar groups given a data set. \n",
    "\n",
    "In this problem, we'll see how clustering can be used to find similar groups of customers who belong to an airline's frequent flyer program. The airline is trying to learn more about its customers so that it can target different customer segments with different types of mileage offers. \n",
    "\n",
    "The file AirlinesCluster.csv contains information on 3,999 members of the frequent flyer program. This data comes from the textbook \"Data Mining for Business Intelligence,\" by Galit Shmueli, Nitin R. Patel, and Peter C. Bruce. For more information, see the [website for the book](https://www.safaribooksonline.com/library/view/data-mining-for/9780470526828/)."
   ]
  },
  {
   "cell_type": "markdown",
   "metadata": {},
   "source": [
    "There are seven different variables in the dataset, described below:\n",
    "\n",
    "- Balance = number of miles eligible for award travel\n",
    "- QualMiles = number of miles qualifying for TopFlight status\n",
    "- BonusMiles = number of miles earned from non-flight bonus transactions in the past 12 months\n",
    "- BonusTrans = number of non-flight bonus transactions in the past 12 months\n",
    "- FlightMiles = number of flight miles in the past 12 months\n",
    "- FlightTrans = number of flight transactions in the past 12 months\n",
    "- DaysSinceEnroll = number of days since enrolled in the frequent flyer program"
   ]
  },
  {
   "cell_type": "markdown",
   "metadata": {},
   "source": [
    "### Normalizing the Data"
   ]
  },
  {
   "cell_type": "code",
   "execution_count": 1,
   "metadata": {},
   "outputs": [
    {
     "data": {
      "text/plain": [
       "    Balance          QualMiles         BonusMiles       BonusTrans  \n",
       " Min.   :      0   Min.   :    0.0   Min.   :     0   Min.   : 0.0  \n",
       " 1st Qu.:  18528   1st Qu.:    0.0   1st Qu.:  1250   1st Qu.: 3.0  \n",
       " Median :  43097   Median :    0.0   Median :  7171   Median :12.0  \n",
       " Mean   :  73601   Mean   :  144.1   Mean   : 17145   Mean   :11.6  \n",
       " 3rd Qu.:  92404   3rd Qu.:    0.0   3rd Qu.: 23801   3rd Qu.:17.0  \n",
       " Max.   :1704838   Max.   :11148.0   Max.   :263685   Max.   :86.0  \n",
       "  FlightMiles       FlightTrans     DaysSinceEnroll\n",
       " Min.   :    0.0   Min.   : 0.000   Min.   :   2   \n",
       " 1st Qu.:    0.0   1st Qu.: 0.000   1st Qu.:2330   \n",
       " Median :    0.0   Median : 0.000   Median :4096   \n",
       " Mean   :  460.1   Mean   : 1.374   Mean   :4119   \n",
       " 3rd Qu.:  311.0   3rd Qu.: 1.000   3rd Qu.:5790   \n",
       " Max.   :30817.0   Max.   :53.000   Max.   :8296   "
      ]
     },
     "metadata": {},
     "output_type": "display_data"
    }
   ],
   "source": [
    "airlines = read.csv('./dataset/AirlinesCluster.csv')\n",
    "summary(airlines)"
   ]
  },
  {
   "cell_type": "markdown",
   "metadata": {},
   "source": [
    "Let's go ahead and normalize our data. You can normalize the variables in a data frame by using the preProcess function in the \"caret\" package. You should already have this package installed from Week 4, but if not, go ahead and install it with install.packages(\"caret\"). Then load the package with library(caret).\n",
    "\n",
    "Now, create a normalized data frame called \"airlinesNorm\" by running the following commands:\n",
    "```R\n",
    "preproc = preProcess(airlines)\n",
    "\n",
    "airlinesNorm = predict(preproc, airlines)\n",
    "```\n",
    "The first command pre-processes the data, and the second command performs the normalization. If you look at the summary of airlinesNorm, you should see that all of the variables now have mean zero. You can also see that each of the variables has standard deviation 1 by using the sd() function."
   ]
  },
  {
   "cell_type": "code",
   "execution_count": 2,
   "metadata": {},
   "outputs": [
    {
     "name": "stderr",
     "output_type": "stream",
     "text": [
      "Loading required package: lattice\n",
      "\n",
      "Loading required package: ggplot2\n",
      "\n"
     ]
    }
   ],
   "source": [
    "library(\"caret\")"
   ]
  },
  {
   "cell_type": "code",
   "execution_count": 3,
   "metadata": {},
   "outputs": [],
   "source": [
    "preproc = preProcess(airlines)\n",
    "airlinesNorm = predict(preproc, airlines)"
   ]
  },
  {
   "cell_type": "code",
   "execution_count": 4,
   "metadata": {},
   "outputs": [
    {
     "data": {
      "text/plain": [
       "    Balance          QualMiles         BonusMiles        BonusTrans      \n",
       " Min.   :-0.7303   Min.   :-0.1863   Min.   :-0.7099   Min.   :-1.20805  \n",
       " 1st Qu.:-0.5465   1st Qu.:-0.1863   1st Qu.:-0.6581   1st Qu.:-0.89568  \n",
       " Median :-0.3027   Median :-0.1863   Median :-0.4130   Median : 0.04145  \n",
       " Mean   : 0.0000   Mean   : 0.0000   Mean   : 0.0000   Mean   : 0.00000  \n",
       " 3rd Qu.: 0.1866   3rd Qu.:-0.1863   3rd Qu.: 0.2756   3rd Qu.: 0.56208  \n",
       " Max.   :16.1868   Max.   :14.2231   Max.   :10.2083   Max.   : 7.74673  \n",
       "  FlightMiles       FlightTrans       DaysSinceEnroll   \n",
       " Min.   :-0.3286   Min.   :-0.36212   Min.   :-1.99336  \n",
       " 1st Qu.:-0.3286   1st Qu.:-0.36212   1st Qu.:-0.86607  \n",
       " Median :-0.3286   Median :-0.36212   Median :-0.01092  \n",
       " Mean   : 0.0000   Mean   : 0.00000   Mean   : 0.00000  \n",
       " 3rd Qu.:-0.1065   3rd Qu.:-0.09849   3rd Qu.: 0.80960  \n",
       " Max.   :21.6803   Max.   :13.61035   Max.   : 2.02284  "
      ]
     },
     "metadata": {},
     "output_type": "display_data"
    }
   ],
   "source": [
    "summary(airlinesNorm)"
   ]
  },
  {
   "cell_type": "markdown",
   "metadata": {},
   "source": [
    "### Hierarchical Clustering"
   ]
  },
  {
   "cell_type": "markdown",
   "metadata": {},
   "source": [
    "Compute the distances between data points (using euclidean distance) and then run the Hierarchical clustering algorithm (using method=\"ward.D\") on the normalized data. It may take a few minutes for the commands to finish since the dataset has a large number of observations for hierarchical clustering.\n",
    "\n",
    "Then, plot the dendrogram of the hierarchical clustering process. Suppose the airline is looking for somewhere between 2 and 10 clusters."
   ]
  },
  {
   "cell_type": "code",
   "execution_count": 5,
   "metadata": {},
   "outputs": [],
   "source": [
    "distances = dist(airlinesNorm, method='euclidean')\n",
    "clusterDistance = hclust(distances, method='ward.D')"
   ]
  },
  {
   "cell_type": "code",
   "execution_count": 7,
   "metadata": {},
   "outputs": [
    {
     "data": {
      "image/png": "[encoded data removed]",
      "text/plain": [
       "Plot with title \"Cluster Dendrogram\""
      ]
     },
     "metadata": {
      "image/png": {
       "height": 420,
       "width": 420
      }
     },
     "output_type": "display_data"
    }
   ],
   "source": [
    "plot(clusterDistance)"
   ]
  },
  {
   "cell_type": "code",
   "execution_count": 8,
   "metadata": {},
   "outputs": [],
   "source": [
    "clusterGroups = cutree(clusterDistance, k=5)"
   ]
  },
  {
   "cell_type": "code",
   "execution_count": 10,
   "metadata": {},
   "outputs": [
    {
     "data": {
      "text/plain": [
       "clusterGroups\n",
       "   1    2    3    4    5 \n",
       " 776  519  494  868 1342 "
      ]
     },
     "metadata": {},
     "output_type": "display_data"
    }
   ],
   "source": [
    "table(clusterGroups)"
   ]
  },
  {
   "cell_type": "markdown",
   "metadata": {},
   "source": [
    "Now, use tapply to compare the average values in each of the variables for the 5 clusters (the centroids of the clusters). You may want to compute the average values of the unnormalized data so that it is easier to interpret. You can do this for the variable \"Balance\" with the following command:\n",
    "```R\n",
    "tapply(airlines$Balance, clusterGroups, mean)\n",
    "```"
   ]
  },
  {
   "cell_type": "code",
   "execution_count": 11,
   "metadata": {},
   "outputs": [
    {
     "data": {
      "text/html": [
       "<style>\n",
       ".dl-inline {width: auto; margin:0; padding: 0}\n",
       ".dl-inline>dt, .dl-inline>dd {float: none; width: auto; display: inline-block}\n",
       ".dl-inline>dt::after {content: \":\\0020\"; padding-right: .5ex}\n",
       ".dl-inline>dt:not(:first-of-type) {padding-left: .5ex}\n",
       "</style><dl class=dl-inline><dt>1</dt><dd>57866.9046391753</dd><dt>2</dt><dd>110669.265895954</dd><dt>3</dt><dd>198191.574898785</dd><dt>4</dt><dd>52335.91359447</dd><dt>5</dt><dd>36255.9098360656</dd></dl>\n"
      ],
      "text/latex": [
       "\\begin{description*}\n",
       "\\item[1] 57866.9046391753\n",
       "\\item[2] 110669.265895954\n",
       "\\item[3] 198191.574898785\n",
       "\\item[4] 52335.91359447\n",
       "\\item[5] 36255.9098360656\n",
       "\\end{description*}\n"
      ],
      "text/markdown": [
       "1\n",
       ":   57866.90463917532\n",
       ":   110669.2658959543\n",
       ":   198191.5748987854\n",
       ":   52335.913594475\n",
       ":   36255.9098360656\n",
       "\n"
      ],
      "text/plain": [
       "        1         2         3         4         5 \n",
       " 57866.90 110669.27 198191.57  52335.91  36255.91 "
      ]
     },
     "metadata": {},
     "output_type": "display_data"
    }
   ],
   "source": [
    "tapply(airlines$Balance, clusterGroups, mean)"
   ]
  },
  {
   "cell_type": "code",
   "execution_count": 13,
   "metadata": {},
   "outputs": [
    {
     "data": {
      "text/html": [
       "<style>\n",
       ".dl-inline {width: auto; margin:0; padding: 0}\n",
       ".dl-inline>dt, .dl-inline>dd {float: none; width: auto; display: inline-block}\n",
       ".dl-inline>dt::after {content: \":\\0020\"; padding-right: .5ex}\n",
       ".dl-inline>dt:not(:first-of-type) {padding-left: .5ex}\n",
       "</style><dl class=dl-inline><dt>1</dt><dd>0.644329896907217</dd><dt>2</dt><dd>1065.98265895954</dd><dt>3</dt><dd>30.3461538461538</dd><dt>4</dt><dd>4.84792626728111</dd><dt>5</dt><dd>2.51117734724292</dd></dl>\n"
      ],
      "text/latex": [
       "\\begin{description*}\n",
       "\\item[1] 0.644329896907217\n",
       "\\item[2] 1065.98265895954\n",
       "\\item[3] 30.3461538461538\n",
       "\\item[4] 4.84792626728111\n",
       "\\item[5] 2.51117734724292\n",
       "\\end{description*}\n"
      ],
      "text/markdown": [
       "1\n",
       ":   0.6443298969072172\n",
       ":   1065.982658959543\n",
       ":   30.34615384615384\n",
       ":   4.847926267281115\n",
       ":   2.51117734724292\n",
       "\n"
      ],
      "text/plain": [
       "           1            2            3            4            5 \n",
       "   0.6443299 1065.9826590   30.3461538    4.8479263    2.5111773 "
      ]
     },
     "metadata": {},
     "output_type": "display_data"
    }
   ],
   "source": [
    "tapply(airlines$QualMiles, clusterGroups, mean)"
   ]
  },
  {
   "cell_type": "code",
   "execution_count": 14,
   "metadata": {},
   "outputs": [
    {
     "data": {
      "text/html": [
       "<style>\n",
       ".dl-inline {width: auto; margin:0; padding: 0}\n",
       ".dl-inline>dt, .dl-inline>dd {float: none; width: auto; display: inline-block}\n",
       ".dl-inline>dt::after {content: \":\\0020\"; padding-right: .5ex}\n",
       ".dl-inline>dt:not(:first-of-type) {padding-left: .5ex}\n",
       "</style><dl class=dl-inline><dt>1</dt><dd>10360.1237113402</dd><dt>2</dt><dd>22881.7630057803</dd><dt>3</dt><dd>55795.8603238866</dd><dt>4</dt><dd>20788.7661290323</dd><dt>5</dt><dd>2264.78763040238</dd></dl>\n"
      ],
      "text/latex": [
       "\\begin{description*}\n",
       "\\item[1] 10360.1237113402\n",
       "\\item[2] 22881.7630057803\n",
       "\\item[3] 55795.8603238866\n",
       "\\item[4] 20788.7661290323\n",
       "\\item[5] 2264.78763040238\n",
       "\\end{description*}\n"
      ],
      "text/markdown": [
       "1\n",
       ":   10360.12371134022\n",
       ":   22881.76300578033\n",
       ":   55795.86032388664\n",
       ":   20788.76612903235\n",
       ":   2264.78763040238\n",
       "\n"
      ],
      "text/plain": [
       "        1         2         3         4         5 \n",
       "10360.124 22881.763 55795.860 20788.766  2264.788 "
      ]
     },
     "metadata": {},
     "output_type": "display_data"
    }
   ],
   "source": [
    "tapply(airlines$BonusMiles, clusterGroups, mean)"
   ]
  },
  {
   "cell_type": "code",
   "execution_count": 15,
   "metadata": {},
   "outputs": [
    {
     "data": {
      "text/html": [
       "<style>\n",
       ".dl-inline {width: auto; margin:0; padding: 0}\n",
       ".dl-inline>dt, .dl-inline>dd {float: none; width: auto; display: inline-block}\n",
       ".dl-inline>dt::after {content: \":\\0020\"; padding-right: .5ex}\n",
       ".dl-inline>dt:not(:first-of-type) {padding-left: .5ex}\n",
       "</style><dl class=dl-inline><dt>1</dt><dd>10.8234536082474</dd><dt>2</dt><dd>18.2292870905588</dd><dt>3</dt><dd>19.663967611336</dd><dt>4</dt><dd>17.0875576036866</dd><dt>5</dt><dd>2.97317436661699</dd></dl>\n"
      ],
      "text/latex": [
       "\\begin{description*}\n",
       "\\item[1] 10.8234536082474\n",
       "\\item[2] 18.2292870905588\n",
       "\\item[3] 19.663967611336\n",
       "\\item[4] 17.0875576036866\n",
       "\\item[5] 2.97317436661699\n",
       "\\end{description*}\n"
      ],
      "text/markdown": [
       "1\n",
       ":   10.82345360824742\n",
       ":   18.22928709055883\n",
       ":   19.6639676113364\n",
       ":   17.08755760368665\n",
       ":   2.97317436661699\n",
       "\n"
      ],
      "text/plain": [
       "        1         2         3         4         5 \n",
       "10.823454 18.229287 19.663968 17.087558  2.973174 "
      ]
     },
     "metadata": {},
     "output_type": "display_data"
    }
   ],
   "source": [
    "tapply(airlines$BonusTrans, clusterGroups, mean)"
   ]
  },
  {
   "cell_type": "code",
   "execution_count": 16,
   "metadata": {},
   "outputs": [
    {
     "data": {
      "text/html": [
       "<style>\n",
       ".dl-inline {width: auto; margin:0; padding: 0}\n",
       ".dl-inline>dt, .dl-inline>dd {float: none; width: auto; display: inline-block}\n",
       ".dl-inline>dt::after {content: \":\\0020\"; padding-right: .5ex}\n",
       ".dl-inline>dt:not(:first-of-type) {padding-left: .5ex}\n",
       "</style><dl class=dl-inline><dt>1</dt><dd>83.1842783505155</dd><dt>2</dt><dd>2613.41811175337</dd><dt>3</dt><dd>327.676113360324</dd><dt>4</dt><dd>111.573732718894</dd><dt>5</dt><dd>119.321907600596</dd></dl>\n"
      ],
      "text/latex": [
       "\\begin{description*}\n",
       "\\item[1] 83.1842783505155\n",
       "\\item[2] 2613.41811175337\n",
       "\\item[3] 327.676113360324\n",
       "\\item[4] 111.573732718894\n",
       "\\item[5] 119.321907600596\n",
       "\\end{description*}\n"
      ],
      "text/markdown": [
       "1\n",
       ":   83.18427835051552\n",
       ":   2613.418111753373\n",
       ":   327.6761133603244\n",
       ":   111.5737327188945\n",
       ":   119.321907600596\n",
       "\n"
      ],
      "text/plain": [
       "         1          2          3          4          5 \n",
       "  83.18428 2613.41811  327.67611  111.57373  119.32191 "
      ]
     },
     "metadata": {},
     "output_type": "display_data"
    }
   ],
   "source": [
    "tapply(airlines$FlightMiles, clusterGroups, mean)"
   ]
  },
  {
   "cell_type": "code",
   "execution_count": 17,
   "metadata": {},
   "outputs": [
    {
     "data": {
      "text/html": [
       "<style>\n",
       ".dl-inline {width: auto; margin:0; padding: 0}\n",
       ".dl-inline>dt, .dl-inline>dd {float: none; width: auto; display: inline-block}\n",
       ".dl-inline>dt::after {content: \":\\0020\"; padding-right: .5ex}\n",
       ".dl-inline>dt:not(:first-of-type) {padding-left: .5ex}\n",
       "</style><dl class=dl-inline><dt>1</dt><dd>0.302835051546392</dd><dt>2</dt><dd>7.40269749518304</dd><dt>3</dt><dd>1.06882591093117</dd><dt>4</dt><dd>0.344470046082949</dd><dt>5</dt><dd>0.438897168405365</dd></dl>\n"
      ],
      "text/latex": [
       "\\begin{description*}\n",
       "\\item[1] 0.302835051546392\n",
       "\\item[2] 7.40269749518304\n",
       "\\item[3] 1.06882591093117\n",
       "\\item[4] 0.344470046082949\n",
       "\\item[5] 0.438897168405365\n",
       "\\end{description*}\n"
      ],
      "text/markdown": [
       "1\n",
       ":   0.3028350515463922\n",
       ":   7.402697495183043\n",
       ":   1.068825910931174\n",
       ":   0.3444700460829495\n",
       ":   0.438897168405365\n",
       "\n"
      ],
      "text/plain": [
       "        1         2         3         4         5 \n",
       "0.3028351 7.4026975 1.0688259 0.3444700 0.4388972 "
      ]
     },
     "metadata": {},
     "output_type": "display_data"
    }
   ],
   "source": [
    "tapply(airlines$FlightTrans, clusterGroups, mean)"
   ]
  },
  {
   "cell_type": "code",
   "execution_count": 18,
   "metadata": {},
   "outputs": [
    {
     "data": {
      "text/html": [
       "<style>\n",
       ".dl-inline {width: auto; margin:0; padding: 0}\n",
       ".dl-inline>dt, .dl-inline>dd {float: none; width: auto; display: inline-block}\n",
       ".dl-inline>dt::after {content: \":\\0020\"; padding-right: .5ex}\n",
       ".dl-inline>dt:not(:first-of-type) {padding-left: .5ex}\n",
       "</style><dl class=dl-inline><dt>1</dt><dd>6235.36469072165</dd><dt>2</dt><dd>4402.41425818882</dd><dt>3</dt><dd>5615.70850202429</dd><dt>4</dt><dd>2840.82258064516</dd><dt>5</dt><dd>3060.08122205663</dd></dl>\n"
      ],
      "text/latex": [
       "\\begin{description*}\n",
       "\\item[1] 6235.36469072165\n",
       "\\item[2] 4402.41425818882\n",
       "\\item[3] 5615.70850202429\n",
       "\\item[4] 2840.82258064516\n",
       "\\item[5] 3060.08122205663\n",
       "\\end{description*}\n"
      ],
      "text/markdown": [
       "1\n",
       ":   6235.364690721652\n",
       ":   4402.414258188823\n",
       ":   5615.708502024294\n",
       ":   2840.822580645165\n",
       ":   3060.08122205663\n",
       "\n"
      ],
      "text/plain": [
       "       1        2        3        4        5 \n",
       "6235.365 4402.414 5615.709 2840.823 3060.081 "
      ]
     },
     "metadata": {},
     "output_type": "display_data"
    }
   ],
   "source": [
    "tapply(airlines$DaysSinceEnroll, clusterGroups, mean)"
   ]
  },
  {
   "cell_type": "markdown",
   "metadata": {},
   "source": [
    "### K-Means Clustering"
   ]
  },
  {
   "cell_type": "code",
   "execution_count": 19,
   "metadata": {},
   "outputs": [
    {
     "name": "stderr",
     "output_type": "stream",
     "text": [
      "Warning message in RNGkind(sample.kind = \"Rounding\"):\n",
      "\"non-uniform 'Rounding' sampler used\"\n"
     ]
    }
   ],
   "source": [
    "RNGkind(sample.kind = \"Rounding\")\n",
    "set.seed(88)\n",
    "KMC = kmeans(airlinesNorm, centers = 5, iter.max = 1000)"
   ]
  },
  {
   "cell_type": "code",
   "execution_count": 20,
   "metadata": {},
   "outputs": [
    {
     "data": {
      "text/plain": [
       "\n",
       "   1    2    3    4    5 \n",
       " 408  141  993 1182 1275 "
      ]
     },
     "metadata": {},
     "output_type": "display_data"
    }
   ],
   "source": [
    "table(KMC$cluster)"
   ]
  },
  {
   "cell_type": "code",
   "execution_count": 21,
   "metadata": {},
   "outputs": [
    {
     "data": {
      "text/plain": [
       "             \n",
       "clusterGroups    1    2    3    4    5\n",
       "            1    4    0   98  673    1\n",
       "            2   92  137  105   92   93\n",
       "            3  300    4  132   58    0\n",
       "            4   12    0  653   30  173\n",
       "            5    0    0    5  329 1008"
      ]
     },
     "metadata": {},
     "output_type": "display_data"
    }
   ],
   "source": [
    "table(clusterGroups, KMC$cluster)"
   ]
  }
 ],
 "metadata": {
  "kernelspec": {
   "display_name": "R",
   "language": "R",
   "name": "ir"
  },
  "language_info": {
   "codemirror_mode": "r",
   "file_extension": ".r",
   "mimetype": "text/x-r-source",
   "name": "R",
   "pygments_lexer": "r",
   "version": "3.6.3"
  }
 },
 "nbformat": 4,
 "nbformat_minor": 4
}
