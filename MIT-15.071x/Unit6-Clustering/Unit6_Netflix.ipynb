{
 "cells": [
  {
   "cell_type": "markdown",
   "metadata": {},
   "source": [
    "## Recommendations Worth a Million: An Introduction to Clustering"
   ]
  },
  {
   "cell_type": "markdown",
   "metadata": {},
   "source": [
    "### Getting the Data"
   ]
  },
  {
   "cell_type": "code",
   "execution_count": 1,
   "metadata": {},
   "outputs": [
    {
     "name": "stderr",
     "output_type": "stream",
     "text": [
      "Warning message in file(file, \"rt\"):\n",
      "\"파일 './dataset/movieLens.txt'를 여는데 실패했습니다: No such file or directory\"\n"
     ]
    },
    {
     "ename": "ERROR",
     "evalue": "Error in file(file, \"rt\"): 커넥션을 열 수 없습니다\n",
     "output_type": "error",
     "traceback": [
      "Error in file(file, \"rt\"): 커넥션을 열 수 없습니다\nTraceback:\n",
      "1. read.table(\"./dataset/movieLens.txt\", header = FALSE, sep = \"|\", \n .     quote = \"\\\"\")",
      "2. file(file, \"rt\")"
     ]
    }
   ],
   "source": [
    "movies = read.table('./dataset/movieLens.txt', header=FALSE, sep='|', quote=\"\\\"\")"
   ]
  },
  {
   "cell_type": "code",
   "execution_count": null,
   "metadata": {},
   "outputs": [],
   "source": []
  }
 ],
 "metadata": {
  "kernelspec": {
   "display_name": "R",
   "language": "R",
   "name": "ir"
  },
  "language_info": {
   "codemirror_mode": "r",
   "file_extension": ".r",
   "mimetype": "text/x-r-source",
   "name": "R",
   "pygments_lexer": "r",
   "version": "3.6.3"
  }
 },
 "nbformat": 4,
 "nbformat_minor": 4
}
