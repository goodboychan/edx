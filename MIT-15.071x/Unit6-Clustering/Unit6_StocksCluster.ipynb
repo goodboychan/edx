{
 "cells": [
  {
   "cell_type": "markdown",
   "metadata": {},
   "source": [
    "## Predicting Stock Returns with Cluster-Then-Predict"
   ]
  },
  {
   "cell_type": "markdown",
   "metadata": {},
   "source": [
    "n the second lecture sequence this week, we heard about cluster-then-predict, a methodology in which you first cluster observations and then build cluster-specific prediction models. In the lecture sequence, we saw how this methodology helped improve the prediction of heart attack risk. In this assignment, we'll use cluster-then-predict to predict future stock prices using historical stock data.\n",
    "\n",
    "When selecting which stocks to invest in, investors seek to obtain good future returns. In this problem, we will first use clustering to identify clusters of stocks that have similar returns over time. Then, we'll use logistic regression to predict whether or not the stocks will have positive future returns.\n",
    "\n",
    "For this problem, we'll use StocksCluster.csv, which contains monthly stock returns from the NASDAQ stock exchange. The NASDAQ is the second-largest stock exchange in the world, and it lists many technology companies. The stock price data used in this problem was obtained from [infochimps](http://www.infochimps.com/datasets/nasdaq-exchange-daily-1970-2010-open-close-high-low-and-volume), a website providing access to many datasets.\n",
    "\n",
    "Each observation in the dataset is the monthly returns of a particular company in a particular year. The years included are 2000-2009. The companies are limited to tickers that were listed on the exchange for the entire period 2000-2009, and whose stock price never fell below $1. So, for example, one observation is for Yahoo in 2000, and another observation is for Yahoo in 2001. Our goal will be to predict whether or not the stock return in December will be positive, using the stock returns for the first 11 months of the year."
   ]
  },
  {
   "cell_type": "markdown",
   "metadata": {},
   "source": [
    "This dataset contains the following variables:\n",
    "\n",
    "- ReturnJan = the return for the company's stock during January (in the year of the observation). \n",
    "- ReturnFeb = the return for the company's stock during February (in the year of the observation). \n",
    "- ReturnMar = the return for the company's stock during March (in the year of the observation). \n",
    "- ReturnApr = the return for the company's stock during April (in the year of the observation). \n",
    "- ReturnMay = the return for the company's stock during May (in the year of the observation). \n",
    "- ReturnJune = the return for the company's stock during June (in the year of the observation). \n",
    "- ReturnJuly = the return for the company's stock during July (in the year of the observation). \n",
    "- ReturnAug = the return for the company's stock during August (in the year of the observation). \n",
    "- ReturnSep = the return for the company's stock during September (in the year of the observation). \n",
    "- ReturnOct = the return for the company's stock during October (in the year of the observation). \n",
    "- ReturnNov = the return for the company's stock during November (in the year of the observation). \n",
    "- PositiveDec = whether or not the company's stock had a positive return in December (in the year of the observation). This variable takes value 1 if the return was positive, and value 0 if the return was not positive.\n",
    "\n",
    "For the first 11 variables, the value stored is a proportional change in stock value during that month. For instance, a value of 0.05 means the stock increased in value 5% during the month, while a value of -0.02 means the stock decreased in value 2% during the month."
   ]
  },
  {
   "cell_type": "markdown",
   "metadata": {},
   "source": [
    "### Exploring the Dataset"
   ]
  },
  {
   "cell_type": "code",
   "execution_count": 1,
   "metadata": {},
   "outputs": [],
   "source": [
    "stocks = read.csv('./dataset/StocksCluster.csv')"
   ]
  },
  {
   "cell_type": "code",
   "execution_count": 2,
   "metadata": {},
   "outputs": [
    {
     "name": "stdout",
     "output_type": "stream",
     "text": [
      "'data.frame':\t11580 obs. of  12 variables:\n",
      " $ ReturnJan  : num  0.0807 -0.0107 0.0477 -0.074 -0.031 ...\n",
      " $ ReturnFeb  : num  0.0663 0.1021 0.036 -0.0482 -0.2127 ...\n",
      " $ ReturnMar  : num  0.0329 0.1455 0.0397 0.0182 0.0915 ...\n",
      " $ ReturnApr  : num  0.1831 -0.0844 -0.1624 -0.0247 0.1893 ...\n",
      " $ ReturnMay  : num  0.13033 -0.3273 -0.14743 -0.00604 -0.15385 ...\n",
      " $ ReturnJune : num  -0.0176 -0.3593 0.0486 -0.0253 -0.1061 ...\n",
      " $ ReturnJuly : num  -0.0205 -0.0253 -0.1354 -0.094 0.3553 ...\n",
      " $ ReturnAug  : num  0.0247 0.2113 0.0334 0.0953 0.0568 ...\n",
      " $ ReturnSep  : num  -0.0204 -0.58 0 0.0567 0.0336 ...\n",
      " $ ReturnOct  : num  -0.1733 -0.2671 0.0917 -0.0963 0.0363 ...\n",
      " $ ReturnNov  : num  -0.0254 -0.1512 -0.0596 -0.0405 -0.0853 ...\n",
      " $ PositiveDec: int  0 0 0 1 1 1 1 0 0 0 ...\n"
     ]
    }
   ],
   "source": [
    "str(stocks)"
   ]
  },
  {
   "cell_type": "code",
   "execution_count": 3,
   "metadata": {},
   "outputs": [
    {
     "data": {
      "text/plain": [
       "   ReturnJan            ReturnFeb           ReturnMar        \n",
       " Min.   :-0.7616205   Min.   :-0.690000   Min.   :-0.712994  \n",
       " 1st Qu.:-0.0691663   1st Qu.:-0.077748   1st Qu.:-0.046389  \n",
       " Median : 0.0009965   Median :-0.010626   Median : 0.009878  \n",
       " Mean   : 0.0126316   Mean   :-0.007605   Mean   : 0.019402  \n",
       " 3rd Qu.: 0.0732606   3rd Qu.: 0.043600   3rd Qu.: 0.077066  \n",
       " Max.   : 3.0683060   Max.   : 6.943694   Max.   : 4.008621  \n",
       "   ReturnApr           ReturnMay          ReturnJune       \n",
       " Min.   :-0.826503   Min.   :-0.92207   Min.   :-0.717920  \n",
       " 1st Qu.:-0.054468   1st Qu.:-0.04640   1st Qu.:-0.063966  \n",
       " Median : 0.009059   Median : 0.01293   Median :-0.000880  \n",
       " Mean   : 0.026308   Mean   : 0.02474   Mean   : 0.005938  \n",
       " 3rd Qu.: 0.085338   3rd Qu.: 0.08396   3rd Qu.: 0.061566  \n",
       " Max.   : 2.528827   Max.   : 6.93013   Max.   : 4.339713  \n",
       "   ReturnJuly           ReturnAug           ReturnSep        \n",
       " Min.   :-0.7613096   Min.   :-0.726800   Min.   :-0.839730  \n",
       " 1st Qu.:-0.0731917   1st Qu.:-0.046272   1st Qu.:-0.074648  \n",
       " Median :-0.0008047   Median : 0.007205   Median :-0.007616  \n",
       " Mean   : 0.0030509   Mean   : 0.016198   Mean   :-0.014721  \n",
       " 3rd Qu.: 0.0718205   3rd Qu.: 0.070783   3rd Qu.: 0.049476  \n",
       " Max.   : 2.5500000   Max.   : 3.626609   Max.   : 5.863980  \n",
       "   ReturnOct           ReturnNov          PositiveDec    \n",
       " Min.   :-0.685504   Min.   :-0.747171   Min.   :0.0000  \n",
       " 1st Qu.:-0.070915   1st Qu.:-0.054890   1st Qu.:0.0000  \n",
       " Median : 0.002115   Median : 0.008522   Median :1.0000  \n",
       " Mean   : 0.005651   Mean   : 0.011387   Mean   :0.5461  \n",
       " 3rd Qu.: 0.074542   3rd Qu.: 0.076576   3rd Qu.:1.0000  \n",
       " Max.   : 5.665138   Max.   : 3.271676   Max.   :1.0000  "
      ]
     },
     "metadata": {},
     "output_type": "display_data"
    }
   ],
   "source": [
    "summary(stocks)"
   ]
  },
  {
   "cell_type": "code",
   "execution_count": 7,
   "metadata": {},
   "outputs": [
    {
     "data": {
      "text/html": [
       "<table>\n",
       "<caption>A matrix: 12 × 12 of type dbl</caption>\n",
       "<thead>\n",
       "\t<tr><th></th><th scope=col>ReturnJan</th><th scope=col>ReturnFeb</th><th scope=col>ReturnMar</th><th scope=col>ReturnApr</th><th scope=col>ReturnMay</th><th scope=col>ReturnJune</th><th scope=col>ReturnJuly</th><th scope=col>ReturnAug</th><th scope=col>ReturnSep</th><th scope=col>ReturnOct</th><th scope=col>ReturnNov</th><th scope=col>PositiveDec</th></tr>\n",
       "</thead>\n",
       "<tbody>\n",
       "\t<tr><th scope=row>ReturnJan</th><td> 1.000000000</td><td> 0.06677458</td><td>-0.090496798</td><td>-0.037678006</td><td>-0.044411417</td><td> 0.09223831</td><td>-0.0814297650</td><td>-0.0227920187</td><td>-0.0264371526</td><td> 0.14297723</td><td> 0.06763233</td><td> 0.004728518</td></tr>\n",
       "\t<tr><th scope=row>ReturnFeb</th><td> 0.066774583</td><td> 1.00000000</td><td>-0.155983263</td><td>-0.191351924</td><td>-0.095520920</td><td> 0.16999448</td><td>-0.0617785094</td><td> 0.1315597863</td><td> 0.0435017706</td><td>-0.08732427</td><td>-0.15465828</td><td>-0.038173184</td></tr>\n",
       "\t<tr><th scope=row>ReturnMar</th><td>-0.090496798</td><td>-0.15598326</td><td> 1.000000000</td><td> 0.009726288</td><td>-0.003892789</td><td>-0.08590549</td><td> 0.0033741597</td><td>-0.0220053995</td><td> 0.0765183267</td><td>-0.01192376</td><td> 0.03732353</td><td> 0.022408661</td></tr>\n",
       "\t<tr><th scope=row>ReturnApr</th><td>-0.037678006</td><td>-0.19135192</td><td> 0.009726288</td><td> 1.000000000</td><td> 0.063822504</td><td>-0.01102775</td><td> 0.0806319317</td><td>-0.0517560510</td><td>-0.0289209718</td><td> 0.04854003</td><td> 0.03176184</td><td> 0.094353528</td></tr>\n",
       "\t<tr><th scope=row>ReturnMay</th><td>-0.044411417</td><td>-0.09552092</td><td>-0.003892789</td><td> 0.063822504</td><td> 1.000000000</td><td>-0.02107454</td><td> 0.0908502642</td><td>-0.0331256580</td><td> 0.0219628623</td><td> 0.01716673</td><td> 0.04804659</td><td> 0.058201934</td></tr>\n",
       "\t<tr><th scope=row>ReturnJune</th><td> 0.092238307</td><td> 0.16999448</td><td>-0.085905486</td><td>-0.011027752</td><td>-0.021074539</td><td> 1.00000000</td><td>-0.0291525996</td><td> 0.0107105260</td><td> 0.0447472692</td><td>-0.02263599</td><td>-0.06527054</td><td> 0.023409745</td></tr>\n",
       "\t<tr><th scope=row>ReturnJuly</th><td>-0.081429765</td><td>-0.06177851</td><td> 0.003374160</td><td> 0.080631932</td><td> 0.090850264</td><td>-0.02915260</td><td> 1.0000000000</td><td> 0.0007137558</td><td> 0.0689478037</td><td>-0.05470891</td><td>-0.04837384</td><td> 0.074364210</td></tr>\n",
       "\t<tr><th scope=row>ReturnAug</th><td>-0.022792019</td><td> 0.13155979</td><td>-0.022005400</td><td>-0.051756051</td><td>-0.033125658</td><td> 0.01071053</td><td> 0.0007137558</td><td> 1.0000000000</td><td> 0.0007407139</td><td>-0.07559456</td><td>-0.11648903</td><td> 0.004166966</td></tr>\n",
       "\t<tr><th scope=row>ReturnSep</th><td>-0.026437153</td><td> 0.04350177</td><td> 0.076518327</td><td>-0.028920972</td><td> 0.021962862</td><td> 0.04474727</td><td> 0.0689478037</td><td> 0.0007407139</td><td> 1.0000000000</td><td>-0.05807924</td><td>-0.01971980</td><td> 0.041630286</td></tr>\n",
       "\t<tr><th scope=row>ReturnOct</th><td> 0.142977229</td><td>-0.08732427</td><td>-0.011923758</td><td> 0.048540025</td><td> 0.017166728</td><td>-0.02263599</td><td>-0.0547089088</td><td>-0.0755945614</td><td>-0.0580792362</td><td> 1.00000000</td><td> 0.19167279</td><td>-0.052574956</td></tr>\n",
       "\t<tr><th scope=row>ReturnNov</th><td> 0.067632333</td><td>-0.15465828</td><td> 0.037323535</td><td> 0.031761837</td><td> 0.048046590</td><td>-0.06527054</td><td>-0.0483738369</td><td>-0.1164890345</td><td>-0.0197197998</td><td> 0.19167279</td><td> 1.00000000</td><td>-0.062346556</td></tr>\n",
       "\t<tr><th scope=row>PositiveDec</th><td> 0.004728518</td><td>-0.03817318</td><td> 0.022408661</td><td> 0.094353528</td><td> 0.058201934</td><td> 0.02340975</td><td> 0.0743642097</td><td> 0.0041669657</td><td> 0.0416302863</td><td>-0.05257496</td><td>-0.06234656</td><td> 1.000000000</td></tr>\n",
       "</tbody>\n",
       "</table>\n"
      ],
      "text/latex": [
       "A matrix: 12 × 12 of type dbl\n",
       "\\begin{tabular}{r|llllllllllll}\n",
       "  & ReturnJan & ReturnFeb & ReturnMar & ReturnApr & ReturnMay & ReturnJune & ReturnJuly & ReturnAug & ReturnSep & ReturnOct & ReturnNov & PositiveDec\\\\\n",
       "\\hline\n",
       "\tReturnJan &  1.000000000 &  0.06677458 & -0.090496798 & -0.037678006 & -0.044411417 &  0.09223831 & -0.0814297650 & -0.0227920187 & -0.0264371526 &  0.14297723 &  0.06763233 &  0.004728518\\\\\n",
       "\tReturnFeb &  0.066774583 &  1.00000000 & -0.155983263 & -0.191351924 & -0.095520920 &  0.16999448 & -0.0617785094 &  0.1315597863 &  0.0435017706 & -0.08732427 & -0.15465828 & -0.038173184\\\\\n",
       "\tReturnMar & -0.090496798 & -0.15598326 &  1.000000000 &  0.009726288 & -0.003892789 & -0.08590549 &  0.0033741597 & -0.0220053995 &  0.0765183267 & -0.01192376 &  0.03732353 &  0.022408661\\\\\n",
       "\tReturnApr & -0.037678006 & -0.19135192 &  0.009726288 &  1.000000000 &  0.063822504 & -0.01102775 &  0.0806319317 & -0.0517560510 & -0.0289209718 &  0.04854003 &  0.03176184 &  0.094353528\\\\\n",
       "\tReturnMay & -0.044411417 & -0.09552092 & -0.003892789 &  0.063822504 &  1.000000000 & -0.02107454 &  0.0908502642 & -0.0331256580 &  0.0219628623 &  0.01716673 &  0.04804659 &  0.058201934\\\\\n",
       "\tReturnJune &  0.092238307 &  0.16999448 & -0.085905486 & -0.011027752 & -0.021074539 &  1.00000000 & -0.0291525996 &  0.0107105260 &  0.0447472692 & -0.02263599 & -0.06527054 &  0.023409745\\\\\n",
       "\tReturnJuly & -0.081429765 & -0.06177851 &  0.003374160 &  0.080631932 &  0.090850264 & -0.02915260 &  1.0000000000 &  0.0007137558 &  0.0689478037 & -0.05470891 & -0.04837384 &  0.074364210\\\\\n",
       "\tReturnAug & -0.022792019 &  0.13155979 & -0.022005400 & -0.051756051 & -0.033125658 &  0.01071053 &  0.0007137558 &  1.0000000000 &  0.0007407139 & -0.07559456 & -0.11648903 &  0.004166966\\\\\n",
       "\tReturnSep & -0.026437153 &  0.04350177 &  0.076518327 & -0.028920972 &  0.021962862 &  0.04474727 &  0.0689478037 &  0.0007407139 &  1.0000000000 & -0.05807924 & -0.01971980 &  0.041630286\\\\\n",
       "\tReturnOct &  0.142977229 & -0.08732427 & -0.011923758 &  0.048540025 &  0.017166728 & -0.02263599 & -0.0547089088 & -0.0755945614 & -0.0580792362 &  1.00000000 &  0.19167279 & -0.052574956\\\\\n",
       "\tReturnNov &  0.067632333 & -0.15465828 &  0.037323535 &  0.031761837 &  0.048046590 & -0.06527054 & -0.0483738369 & -0.1164890345 & -0.0197197998 &  0.19167279 &  1.00000000 & -0.062346556\\\\\n",
       "\tPositiveDec &  0.004728518 & -0.03817318 &  0.022408661 &  0.094353528 &  0.058201934 &  0.02340975 &  0.0743642097 &  0.0041669657 &  0.0416302863 & -0.05257496 & -0.06234656 &  1.000000000\\\\\n",
       "\\end{tabular}\n"
      ],
      "text/markdown": [
       "\n",
       "A matrix: 12 × 12 of type dbl\n",
       "\n",
       "| <!--/--> | ReturnJan | ReturnFeb | ReturnMar | ReturnApr | ReturnMay | ReturnJune | ReturnJuly | ReturnAug | ReturnSep | ReturnOct | ReturnNov | PositiveDec |\n",
       "|---|---|---|---|---|---|---|---|---|---|---|---|---|\n",
       "| ReturnJan |  1.000000000 |  0.06677458 | -0.090496798 | -0.037678006 | -0.044411417 |  0.09223831 | -0.0814297650 | -0.0227920187 | -0.0264371526 |  0.14297723 |  0.06763233 |  0.004728518 |\n",
       "| ReturnFeb |  0.066774583 |  1.00000000 | -0.155983263 | -0.191351924 | -0.095520920 |  0.16999448 | -0.0617785094 |  0.1315597863 |  0.0435017706 | -0.08732427 | -0.15465828 | -0.038173184 |\n",
       "| ReturnMar | -0.090496798 | -0.15598326 |  1.000000000 |  0.009726288 | -0.003892789 | -0.08590549 |  0.0033741597 | -0.0220053995 |  0.0765183267 | -0.01192376 |  0.03732353 |  0.022408661 |\n",
       "| ReturnApr | -0.037678006 | -0.19135192 |  0.009726288 |  1.000000000 |  0.063822504 | -0.01102775 |  0.0806319317 | -0.0517560510 | -0.0289209718 |  0.04854003 |  0.03176184 |  0.094353528 |\n",
       "| ReturnMay | -0.044411417 | -0.09552092 | -0.003892789 |  0.063822504 |  1.000000000 | -0.02107454 |  0.0908502642 | -0.0331256580 |  0.0219628623 |  0.01716673 |  0.04804659 |  0.058201934 |\n",
       "| ReturnJune |  0.092238307 |  0.16999448 | -0.085905486 | -0.011027752 | -0.021074539 |  1.00000000 | -0.0291525996 |  0.0107105260 |  0.0447472692 | -0.02263599 | -0.06527054 |  0.023409745 |\n",
       "| ReturnJuly | -0.081429765 | -0.06177851 |  0.003374160 |  0.080631932 |  0.090850264 | -0.02915260 |  1.0000000000 |  0.0007137558 |  0.0689478037 | -0.05470891 | -0.04837384 |  0.074364210 |\n",
       "| ReturnAug | -0.022792019 |  0.13155979 | -0.022005400 | -0.051756051 | -0.033125658 |  0.01071053 |  0.0007137558 |  1.0000000000 |  0.0007407139 | -0.07559456 | -0.11648903 |  0.004166966 |\n",
       "| ReturnSep | -0.026437153 |  0.04350177 |  0.076518327 | -0.028920972 |  0.021962862 |  0.04474727 |  0.0689478037 |  0.0007407139 |  1.0000000000 | -0.05807924 | -0.01971980 |  0.041630286 |\n",
       "| ReturnOct |  0.142977229 | -0.08732427 | -0.011923758 |  0.048540025 |  0.017166728 | -0.02263599 | -0.0547089088 | -0.0755945614 | -0.0580792362 |  1.00000000 |  0.19167279 | -0.052574956 |\n",
       "| ReturnNov |  0.067632333 | -0.15465828 |  0.037323535 |  0.031761837 |  0.048046590 | -0.06527054 | -0.0483738369 | -0.1164890345 | -0.0197197998 |  0.19167279 |  1.00000000 | -0.062346556 |\n",
       "| PositiveDec |  0.004728518 | -0.03817318 |  0.022408661 |  0.094353528 |  0.058201934 |  0.02340975 |  0.0743642097 |  0.0041669657 |  0.0416302863 | -0.05257496 | -0.06234656 |  1.000000000 |\n",
       "\n"
      ],
      "text/plain": [
       "            ReturnJan    ReturnFeb   ReturnMar    ReturnApr    ReturnMay   \n",
       "ReturnJan    1.000000000  0.06677458 -0.090496798 -0.037678006 -0.044411417\n",
       "ReturnFeb    0.066774583  1.00000000 -0.155983263 -0.191351924 -0.095520920\n",
       "ReturnMar   -0.090496798 -0.15598326  1.000000000  0.009726288 -0.003892789\n",
       "ReturnApr   -0.037678006 -0.19135192  0.009726288  1.000000000  0.063822504\n",
       "ReturnMay   -0.044411417 -0.09552092 -0.003892789  0.063822504  1.000000000\n",
       "ReturnJune   0.092238307  0.16999448 -0.085905486 -0.011027752 -0.021074539\n",
       "ReturnJuly  -0.081429765 -0.06177851  0.003374160  0.080631932  0.090850264\n",
       "ReturnAug   -0.022792019  0.13155979 -0.022005400 -0.051756051 -0.033125658\n",
       "ReturnSep   -0.026437153  0.04350177  0.076518327 -0.028920972  0.021962862\n",
       "ReturnOct    0.142977229 -0.08732427 -0.011923758  0.048540025  0.017166728\n",
       "ReturnNov    0.067632333 -0.15465828  0.037323535  0.031761837  0.048046590\n",
       "PositiveDec  0.004728518 -0.03817318  0.022408661  0.094353528  0.058201934\n",
       "            ReturnJune  ReturnJuly    ReturnAug     ReturnSep     ReturnOct  \n",
       "ReturnJan    0.09223831 -0.0814297650 -0.0227920187 -0.0264371526  0.14297723\n",
       "ReturnFeb    0.16999448 -0.0617785094  0.1315597863  0.0435017706 -0.08732427\n",
       "ReturnMar   -0.08590549  0.0033741597 -0.0220053995  0.0765183267 -0.01192376\n",
       "ReturnApr   -0.01102775  0.0806319317 -0.0517560510 -0.0289209718  0.04854003\n",
       "ReturnMay   -0.02107454  0.0908502642 -0.0331256580  0.0219628623  0.01716673\n",
       "ReturnJune   1.00000000 -0.0291525996  0.0107105260  0.0447472692 -0.02263599\n",
       "ReturnJuly  -0.02915260  1.0000000000  0.0007137558  0.0689478037 -0.05470891\n",
       "ReturnAug    0.01071053  0.0007137558  1.0000000000  0.0007407139 -0.07559456\n",
       "ReturnSep    0.04474727  0.0689478037  0.0007407139  1.0000000000 -0.05807924\n",
       "ReturnOct   -0.02263599 -0.0547089088 -0.0755945614 -0.0580792362  1.00000000\n",
       "ReturnNov   -0.06527054 -0.0483738369 -0.1164890345 -0.0197197998  0.19167279\n",
       "PositiveDec  0.02340975  0.0743642097  0.0041669657  0.0416302863 -0.05257496\n",
       "            ReturnNov   PositiveDec \n",
       "ReturnJan    0.06763233  0.004728518\n",
       "ReturnFeb   -0.15465828 -0.038173184\n",
       "ReturnMar    0.03732353  0.022408661\n",
       "ReturnApr    0.03176184  0.094353528\n",
       "ReturnMay    0.04804659  0.058201934\n",
       "ReturnJune  -0.06527054  0.023409745\n",
       "ReturnJuly  -0.04837384  0.074364210\n",
       "ReturnAug   -0.11648903  0.004166966\n",
       "ReturnSep   -0.01971980  0.041630286\n",
       "ReturnOct    0.19167279 -0.052574956\n",
       "ReturnNov    1.00000000 -0.062346556\n",
       "PositiveDec -0.06234656  1.000000000"
      ]
     },
     "metadata": {},
     "output_type": "display_data"
    }
   ],
   "source": [
    "cor(stocks)"
   ]
  },
  {
   "cell_type": "markdown",
   "metadata": {},
   "source": [
    "### Initial Logistic Regression Model"
   ]
  },
  {
   "cell_type": "code",
   "execution_count": 9,
   "metadata": {},
   "outputs": [],
   "source": [
    "library(caTools)"
   ]
  },
  {
   "cell_type": "code",
   "execution_count": 10,
   "metadata": {},
   "outputs": [],
   "source": [
    "set.seed(144)\n",
    "spl = sample.split(stocks$PositiveDec, SplitRatio=0.7)\n",
    "stocksTrain = subset(stocks, spl == TRUE)\n",
    "stocksTest =subset(stocks, spl == FALSE)"
   ]
  },
  {
   "cell_type": "code",
   "execution_count": 12,
   "metadata": {},
   "outputs": [],
   "source": [
    "StocksModel = glm(PositiveDec ~ ., data=stocksTrain, family='binomial')"
   ]
  },
  {
   "cell_type": "code",
   "execution_count": 13,
   "metadata": {},
   "outputs": [
    {
     "data": {
      "text/plain": [
       "\n",
       "Call:\n",
       "glm(formula = PositiveDec ~ ., family = \"binomial\", data = stocksTrain)\n",
       "\n",
       "Deviance Residuals: \n",
       "    Min       1Q   Median       3Q      Max  \n",
       "-2.4333  -1.2265   0.9102   1.1006   2.2611  \n",
       "\n",
       "Coefficients:\n",
       "            Estimate Std. Error z value Pr(>|z|)    \n",
       "(Intercept)  0.14878    0.02384   6.240 4.37e-10 ***\n",
       "ReturnJan    0.31742    0.13906   2.283  0.02246 *  \n",
       "ReturnFeb   -0.29349    0.13113  -2.238  0.02521 *  \n",
       "ReturnMar    0.28716    0.14890   1.928  0.05380 .  \n",
       "ReturnApr    1.05849    0.14527   7.286 3.18e-13 ***\n",
       "ReturnMay    0.75472    0.16438   4.591 4.40e-06 ***\n",
       "ReturnJune   0.49435    0.15937   3.102  0.00192 ** \n",
       "ReturnJuly   0.75114    0.16110   4.662 3.12e-06 ***\n",
       "ReturnAug    0.09395    0.17503   0.537  0.59142    \n",
       "ReturnSep    0.72669    0.17083   4.254 2.10e-05 ***\n",
       "ReturnOct   -0.60645    0.14452  -4.196 2.71e-05 ***\n",
       "ReturnNov   -0.84449    0.15698  -5.380 7.46e-08 ***\n",
       "---\n",
       "Signif. codes:  0 '***' 0.001 '**' 0.01 '*' 0.05 '.' 0.1 ' ' 1\n",
       "\n",
       "(Dispersion parameter for binomial family taken to be 1)\n",
       "\n",
       "    Null deviance: 11168  on 8105  degrees of freedom\n",
       "Residual deviance: 10951  on 8094  degrees of freedom\n",
       "AIC: 10975\n",
       "\n",
       "Number of Fisher Scoring iterations: 4\n"
      ]
     },
     "metadata": {},
     "output_type": "display_data"
    }
   ],
   "source": [
    "summary(StocksModel)"
   ]
  },
  {
   "cell_type": "code",
   "execution_count": 19,
   "metadata": {},
   "outputs": [],
   "source": [
    "stocksPred = predict(StocksModel, data=stocksTrain, type='response')"
   ]
  },
  {
   "cell_type": "code",
   "execution_count": 20,
   "metadata": {},
   "outputs": [
    {
     "data": {
      "text/plain": [
       "   \n",
       "    FALSE TRUE\n",
       "  0   990 2689\n",
       "  1   787 3640"
      ]
     },
     "metadata": {},
     "output_type": "display_data"
    }
   ],
   "source": [
    "table(stocksTrain$PositiveDec, stocksPred > 0.5)"
   ]
  },
  {
   "cell_type": "code",
   "execution_count": 22,
   "metadata": {},
   "outputs": [
    {
     "data": {
      "text/html": [
       "0.571181840611892"
      ],
      "text/latex": [
       "0.571181840611892"
      ],
      "text/markdown": [
       "0.571181840611892"
      ],
      "text/plain": [
       "[1] 0.5711818"
      ]
     },
     "metadata": {},
     "output_type": "display_data"
    }
   ],
   "source": [
    "accuracy = (990 + 3640) / nrow(stocksTrain)\n",
    "accuracy"
   ]
  },
  {
   "cell_type": "code",
   "execution_count": 23,
   "metadata": {},
   "outputs": [
    {
     "data": {
      "text/plain": [
       "   \n",
       "    FALSE TRUE\n",
       "  0   417 1160\n",
       "  1   344 1553"
      ]
     },
     "metadata": {},
     "output_type": "display_data"
    }
   ],
   "source": [
    "testPred = predict(StocksModel, newdata=stocksTest, type='response')\n",
    "table(stocksTest$PositiveDec, testPred > 0.5)"
   ]
  },
  {
   "cell_type": "code",
   "execution_count": 24,
   "metadata": {},
   "outputs": [
    {
     "data": {
      "text/html": [
       "0.567069660333909"
      ],
      "text/latex": [
       "0.567069660333909"
      ],
      "text/markdown": [
       "0.567069660333909"
      ],
      "text/plain": [
       "[1] 0.5670697"
      ]
     },
     "metadata": {},
     "output_type": "display_data"
    }
   ],
   "source": [
    "accuracy = (417 + 1553) / nrow(stocksTest)\n",
    "accuracy"
   ]
  },
  {
   "cell_type": "code",
   "execution_count": 25,
   "metadata": {},
   "outputs": [
    {
     "data": {
      "text/plain": [
       "\n",
       "   0    1 \n",
       "1577 1897 "
      ]
     },
     "metadata": {},
     "output_type": "display_data"
    }
   ],
   "source": [
    "table(stocksTest$PositiveDec)"
   ]
  },
  {
   "cell_type": "code",
   "execution_count": 26,
   "metadata": {},
   "outputs": [
    {
     "data": {
      "text/html": [
       "0.546056419113414"
      ],
      "text/latex": [
       "0.546056419113414"
      ],
      "text/markdown": [
       "0.546056419113414"
      ],
      "text/plain": [
       "[1] 0.5460564"
      ]
     },
     "metadata": {},
     "output_type": "display_data"
    }
   ],
   "source": [
    "baseline_acc = 1897 / nrow(stocksTest)\n",
    "baseline_acc"
   ]
  },
  {
   "cell_type": "markdown",
   "metadata": {},
   "source": [
    "### Clustering Stocks"
   ]
  },
  {
   "cell_type": "markdown",
   "metadata": {},
   "source": [
    "Now, let's cluster the stocks. The first step in this process is to remove the dependent variable using the following commands:\n",
    "```R\n",
    "limitedTrain = stocksTrain\n",
    "\n",
    "limitedTrain$PositiveDec = NULL\n",
    "\n",
    "limitedTest = stocksTest\n",
    "\n",
    "limitedTest$PositiveDec = NULL\n",
    "```"
   ]
  },
  {
   "cell_type": "code",
   "execution_count": 27,
   "metadata": {},
   "outputs": [],
   "source": [
    "limitedTrain = stocksTrain\n",
    "limitedTrain$PositiveDec = NULL\n",
    "limitedTest = stocksTest\n",
    "limitedTest$PositiveDec = NULL"
   ]
  },
  {
   "cell_type": "code",
   "execution_count": null,
   "metadata": {},
   "outputs": [],
   "source": []
  }
 ],
 "metadata": {
  "kernelspec": {
   "display_name": "R",
   "language": "R",
   "name": "ir"
  },
  "language_info": {
   "codemirror_mode": "r",
   "file_extension": ".r",
   "mimetype": "text/x-r-source",
   "name": "R",
   "pygments_lexer": "r",
   "version": "3.6.3"
  }
 },
 "nbformat": 4,
 "nbformat_minor": 4
}
