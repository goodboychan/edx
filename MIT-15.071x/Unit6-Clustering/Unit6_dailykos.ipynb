{
 "cells": [
  {
   "cell_type": "markdown",
   "metadata": {},
   "source": [
    "## Document Clustering with Daily Kos"
   ]
  },
  {
   "cell_type": "markdown",
   "metadata": {},
   "source": [
    "Document clustering, or text clustering, is a very popular application of clustering algorithms. A web search engine, like Google, often returns thousands of results for a simple query. For example, if you type the search term \"jaguar\" into Google, around 200 million results are returned. This makes it very difficult to browse or find relevant information, especially if the search term has multiple meanings. If we search for \"jaguar\", we might be looking for information about the animal, the car, or the Jacksonville Jaguars football team. \n",
    "\n",
    "Clustering methods can be used to automatically group search results into categories, making it easier to find relevant results. This method is used in the search engines PolyMeta and Helioid, as well as on FirstGov.gov, the official Web portal for the U.S. government. The two most common algorithms used for document clustering are Hierarchical and k-means. \n",
    "\n",
    "In this problem, we'll be clustering articles published on [Daily Kos](https://www.dailykos.com/), an American political blog that publishes news and opinion articles written from a progressive point of view. Daily Kos was founded by Markos Moulitsas in 2002, and as of September 2014, the site had an average weekday traffic of hundreds of thousands of visits. \n",
    "\n",
    "The file dailykos.csv contains data on 3,430 news articles or blogs that have been posted on Daily Kos. These articles were posted in 2004, leading up to the United States Presidential Election. The leading candidates were incumbent President George W. Bush (republican) and John Kerry (democratic). Foreign policy was a dominant topic of the election, specifically, the 2003 invasion of Iraq. \n",
    "\n",
    "Each of the variables in the dataset is a word that has appeared in at least 50 different articles (1,545 words in total). The set of  words has been trimmed according to some of the techniques covered in the previous week on text analytics (punctuation has been removed, and stop words have been removed). For each document, the variable values are the number of times that word appeared in the document. "
   ]
  },
  {
   "cell_type": "markdown",
   "metadata": {},
   "source": [
    "### Hierarchical Clustering"
   ]
  },
  {
   "cell_type": "markdown",
   "metadata": {},
   "source": [
    "Let's start by building a hierarchical clustering model. First, read the data set into R. Then, compute the distances (using method=\"euclidean\"), and use hclust to build the model (using method=\"ward.D\"). You should cluster on all of the variables."
   ]
  },
  {
   "cell_type": "code",
   "execution_count": 1,
   "metadata": {},
   "outputs": [
    {
     "name": "stdout",
     "output_type": "stream",
     "text": [
      "'data.frame':\t3430 obs. of  1545 variables:\n",
      " $ abandon                                 : int  0 0 0 0 0 0 0 0 0 0 ...\n",
      " $ abc                                     : int  0 0 0 0 0 0 0 0 0 0 ...\n",
      " $ ability                                 : int  0 0 0 0 0 0 0 0 0 0 ...\n",
      " $ abortion                                : int  0 0 0 0 0 0 0 0 0 0 ...\n",
      " $ absolute                                : int  0 0 0 0 0 0 0 0 0 0 ...\n",
      " $ abstain                                 : int  0 0 1 0 0 0 0 0 0 0 ...\n",
      " $ abu                                     : int  0 0 0 0 0 0 0 0 0 0 ...\n",
      " $ abuse                                   : int  0 0 0 0 0 0 0 0 0 0 ...\n",
      " $ accept                                  : int  0 0 0 0 0 0 0 0 0 0 ...\n",
      " $ access                                  : int  0 0 0 0 0 0 0 0 0 0 ...\n",
      " $ accomplish                              : int  0 0 0 0 0 0 0 0 0 0 ...\n",
      " $ account                                 : int  0 0 2 0 0 0 0 0 0 0 ...\n",
      " $ accurate                                : int  0 0 0 0 0 0 0 0 0 0 ...\n",
      " $ accusations                             : int  0 0 0 2 0 0 0 0 0 0 ...\n",
      " $ achieve                                 : int  0 0 0 0 0 0 0 0 0 0 ...\n",
      " $ acknowledge                             : int  0 0 0 0 0 0 0 0 0 0 ...\n",
      " $ act                                     : int  0 0 0 0 0 0 0 0 0 0 ...\n",
      " $ action                                  : int  2 0 0 0 0 0 0 0 0 0 ...\n",
      " $ active                                  : int  0 0 0 0 0 0 0 0 0 0 ...\n",
      " $ activist                                : int  0 0 0 0 0 0 0 0 0 0 ...\n",
      " $ actual                                  : int  0 0 0 0 0 0 0 0 0 0 ...\n",
      " $ add                                     : int  0 0 0 0 0 0 0 0 0 0 ...\n",
      " $ added                                   : int  1 0 0 0 1 0 0 0 1 0 ...\n",
      " $ addition                                : int  0 0 0 0 0 0 0 0 0 0 ...\n",
      " $ address                                 : int  0 0 0 0 0 0 0 0 0 0 ...\n",
      " $ admin                                   : int  0 0 1 0 0 0 0 0 0 0 ...\n",
      " $ administration                          : int  1 0 0 0 0 0 0 0 0 0 ...\n",
      " $ admit                                   : int  0 0 0 0 1 0 0 0 0 0 ...\n",
      " $ advance                                 : int  0 0 0 0 0 0 0 0 0 0 ...\n",
      " $ advantage                               : int  0 0 0 1 0 0 0 0 0 0 ...\n",
      " $ advertise                               : int  0 0 1 0 0 0 0 0 0 0 ...\n",
      " $ advised                                 : int  0 0 0 0 0 0 0 0 0 0 ...\n",
      " $ affair                                  : int  0 0 0 0 0 0 0 0 0 0 ...\n",
      " $ affect                                  : int  0 0 0 0 0 0 0 0 0 0 ...\n",
      " $ affiliate                               : int  0 0 0 0 0 0 0 0 0 0 ...\n",
      " $ afghanistan                             : int  0 0 0 0 0 0 0 0 0 0 ...\n",
      " $ afraid                                  : int  0 0 0 0 0 0 0 0 0 0 ...\n",
      " $ afternoon                               : int  0 0 0 0 0 0 0 0 0 0 ...\n",
      " $ age                                     : int  0 0 0 0 0 0 0 0 0 0 ...\n",
      " $ agencies                                : int  0 0 0 0 0 0 0 0 0 0 ...\n",
      " $ agenda                                  : int  0 0 0 0 0 0 0 0 0 0 ...\n",
      " $ agree                                   : int  0 0 0 0 0 0 0 0 0 0 ...\n",
      " $ ahead                                   : int  0 0 0 0 0 0 0 0 0 0 ...\n",
      " $ aid                                     : int  0 0 0 1 1 0 0 0 0 0 ...\n",
      " $ aim                                     : int  0 0 0 0 0 0 0 0 0 0 ...\n",
      " $ air                                     : int  0 0 0 0 0 0 0 0 0 0 ...\n",
      " $ alaska                                  : int  0 0 0 0 0 0 0 0 0 0 ...\n",
      " $ allegation                              : int  0 0 0 0 0 0 0 0 0 0 ...\n",
      " $ allegory                                : int  0 0 0 0 0 0 0 0 0 0 ...\n",
      " $ allied                                  : int  0 0 0 0 0 0 0 0 0 0 ...\n",
      " $ allowed                                 : int  0 0 0 0 0 0 0 0 0 0 ...\n",
      " $ alternative                             : int  0 0 0 0 0 0 0 0 0 0 ...\n",
      " $ altsite                                 : int  0 0 1 0 0 0 0 0 0 0 ...\n",
      " $ amazing                                 : int  0 0 0 0 0 0 0 0 0 0 ...\n",
      " $ amendment                               : int  0 0 0 0 0 0 0 0 0 0 ...\n",
      " $ america                                 : int  0 0 0 0 0 0 0 0 0 0 ...\n",
      " $ american                                : int  0 0 0 0 1 0 0 0 0 0 ...\n",
      " $ amount                                  : int  0 0 0 0 0 0 0 0 0 0 ...\n",
      " $ amp                                     : int  0 0 0 0 0 0 0 0 0 0 ...\n",
      " $ analysis                                : int  0 0 0 0 1 0 0 0 0 0 ...\n",
      " $ analyst                                 : int  0 0 0 0 0 0 0 0 0 0 ...\n",
      " $ anecdotal                               : int  0 0 1 0 0 0 0 0 0 0 ...\n",
      " $ anger                                   : int  0 0 0 0 0 0 0 0 0 0 ...\n",
      " $ angry                                   : int  0 0 0 0 0 0 0 0 0 0 ...\n",
      " $ announce                                : int  0 0 0 0 0 0 0 0 0 0 ...\n",
      " $ annual                                  : int  0 0 0 0 0 0 0 0 0 0 ...\n",
      " $ answer                                  : int  0 0 0 1 0 0 1 0 0 0 ...\n",
      " $ apologies                               : int  0 0 0 0 0 0 0 0 0 0 ...\n",
      " $ apparent                                : int  0 0 0 0 0 0 0 0 0 0 ...\n",
      " $ appeal                                  : int  0 0 0 0 0 0 0 0 0 0 ...\n",
      " $ appearance                              : int  0 0 0 0 0 0 0 0 0 0 ...\n",
      " $ applied                                 : int  0 0 0 0 0 0 0 0 0 0 ...\n",
      " $ appointed                               : int  0 0 0 0 0 0 0 0 0 0 ...\n",
      " $ approach                                : int  0 0 0 0 0 0 1 0 0 0 ...\n",
      " $ approval                                : int  1 0 0 0 1 0 0 0 1 0 ...\n",
      " $ apr                                     : int  0 0 0 0 0 0 0 0 0 0 ...\n",
      " $ april                                   : int  0 0 0 0 0 0 0 0 0 0 ...\n",
      " $ arab                                    : int  0 0 0 0 0 0 0 0 0 0 ...\n",
      " $ area                                    : int  0 0 0 0 0 0 0 0 0 0 ...\n",
      " $ arent                                   : int  0 0 0 0 0 0 0 0 0 0 ...\n",
      " $ arg                                     : int  0 0 0 0 0 0 0 0 0 0 ...\n",
      " $ argue                                   : int  0 0 0 0 0 0 0 0 0 0 ...\n",
      " $ argument                                : int  0 0 0 0 0 0 0 0 0 0 ...\n",
      " $ arizona                                 : int  0 0 0 0 0 0 0 0 0 0 ...\n",
      " $ arm                                     : int  0 0 0 0 0 0 0 0 0 0 ...\n",
      " $ armstrong                               : int  0 0 0 0 0 0 0 0 0 0 ...\n",
      " $ army                                    : int  0 0 0 0 0 0 0 0 0 0 ...\n",
      " $ arrest                                  : int  0 0 0 0 0 0 0 0 0 0 ...\n",
      " $ arrive                                  : int  0 0 0 0 0 0 0 0 0 0 ...\n",
      " $ article                                 : int  0 0 0 0 0 0 0 0 0 0 ...\n",
      " $ asap                                    : int  0 0 1 0 0 0 0 0 0 0 ...\n",
      " $ asked                                   : int  0 0 0 0 0 0 0 0 0 0 ...\n",
      " $ ass                                     : int  0 0 0 0 0 0 0 0 0 0 ...\n",
      " $ assess                                  : int  0 0 0 0 0 0 0 0 0 0 ...\n",
      " $ assist                                  : int  0 0 0 0 0 0 0 0 0 0 ...\n",
      " $ associate                               : int  0 0 0 0 0 0 0 0 0 0 ...\n",
      " $ assume                                  : int  0 0 0 0 0 0 0 0 0 0 ...\n",
      " $ atlanta                                 : int  0 0 1 0 0 0 0 0 0 0 ...\n",
      " $ atrios                                  : int  0 0 0 0 0 0 1 0 0 0 ...\n",
      "  [list output truncated]\n"
     ]
    }
   ],
   "source": [
    "dailykos = read.csv('./dataset/dailykos.csv')\n",
    "str(dailykos)"
   ]
  },
  {
   "cell_type": "code",
   "execution_count": 2,
   "metadata": {},
   "outputs": [],
   "source": [
    "distances = dist(dailykos, method='euclidean')"
   ]
  },
  {
   "cell_type": "code",
   "execution_count": 3,
   "metadata": {},
   "outputs": [],
   "source": [
    "clusterDaily = hclust(distances, method='ward.D')"
   ]
  },
  {
   "cell_type": "code",
   "execution_count": 4,
   "metadata": {},
   "outputs": [
    {
     "data": {
      "image/png": "[encoded data removed]",
      "text/plain": [
       "Plot with title \"Cluster Dendrogram\""
      ]
     },
     "metadata": {
      "image/png": {
       "height": 1500,
       "width": 1500
      }
     },
     "output_type": "display_data"
    }
   ],
   "source": [
    "options(repr.plot.width=10, repr.plot.height=10, repr.plot.res=300)\n",
    "plot(clusterDaily)"
   ]
  },
  {
   "cell_type": "markdown",
   "metadata": {},
   "source": [
    "Let's pick 7 clusters. This number is reasonable according to the dendrogram, and also seems reasonable for the application. Use the cutree function to split your data into 7 clusters.\n",
    "\n",
    "Now, we don't really want to run tapply on every single variable when we have over 1,000 different variables. Let's instead use the subset function to subset our data by cluster. Create 7 new datasets, each containing the observations from one of the clusters."
   ]
  },
  {
   "cell_type": "code",
   "execution_count": 5,
   "metadata": {},
   "outputs": [],
   "source": [
    "clusterGroups = cutree(clusterDaily, k=7)"
   ]
  },
  {
   "cell_type": "code",
   "execution_count": 6,
   "metadata": {},
   "outputs": [],
   "source": [
    "cluster1 = subset(dailykos, clusterGroups == 1)\n",
    "cluster2 = subset(dailykos, clusterGroups == 2)\n",
    "cluster3 = subset(dailykos, clusterGroups == 3)\n",
    "cluster4 = subset(dailykos, clusterGroups == 4)\n",
    "cluster5 = subset(dailykos, clusterGroups == 5)\n",
    "cluster6 = subset(dailykos, clusterGroups == 6)\n",
    "cluster7 = subset(dailykos, clusterGroups == 7)"
   ]
  },
  {
   "cell_type": "code",
   "execution_count": 7,
   "metadata": {},
   "outputs": [
    {
     "name": "stdout",
     "output_type": "stream",
     "text": [
      "'data.frame':\t374 obs. of  1545 variables:\n",
      " $ abandon                                 : int  0 0 0 0 0 0 0 0 0 0 ...\n",
      " $ abc                                     : int  0 0 0 0 0 0 0 0 0 0 ...\n",
      " $ ability                                 : int  0 0 0 0 0 0 0 0 0 0 ...\n",
      " $ abortion                                : int  0 0 0 0 0 5 0 0 0 0 ...\n",
      " $ absolute                                : int  0 0 0 0 0 0 0 0 0 0 ...\n",
      " $ abstain                                 : int  0 0 0 0 0 0 0 0 0 0 ...\n",
      " $ abu                                     : int  0 0 0 0 0 0 0 0 0 0 ...\n",
      " $ abuse                                   : int  0 0 0 0 0 0 0 0 0 0 ...\n",
      " $ accept                                  : int  0 0 0 0 0 0 0 0 0 0 ...\n",
      " $ access                                  : int  0 0 0 0 0 0 0 0 0 0 ...\n",
      " $ accomplish                              : int  0 0 0 0 0 0 0 0 0 0 ...\n",
      " $ account                                 : int  0 0 0 0 0 0 0 0 0 0 ...\n",
      " $ accurate                                : int  0 0 0 0 0 0 0 0 0 0 ...\n",
      " $ accusations                             : int  2 0 0 0 0 0 0 0 0 0 ...\n",
      " $ achieve                                 : int  0 0 0 0 0 0 0 0 0 0 ...\n",
      " $ acknowledge                             : int  0 0 0 0 0 0 0 0 0 0 ...\n",
      " $ act                                     : int  0 0 0 0 0 0 1 0 0 0 ...\n",
      " $ action                                  : int  0 0 0 0 0 0 0 0 0 0 ...\n",
      " $ active                                  : int  0 2 0 0 0 0 0 0 0 0 ...\n",
      " $ activist                                : int  0 1 0 0 0 0 0 0 0 0 ...\n",
      " $ actual                                  : int  0 0 0 0 0 0 0 0 0 0 ...\n",
      " $ add                                     : int  0 0 0 0 0 0 0 0 0 0 ...\n",
      " $ added                                   : int  0 0 1 0 0 0 0 0 0 0 ...\n",
      " $ addition                                : int  0 1 0 0 0 0 0 0 0 0 ...\n",
      " $ address                                 : int  0 0 0 0 0 0 0 0 0 0 ...\n",
      " $ admin                                   : int  0 0 0 0 0 0 0 0 0 0 ...\n",
      " $ administration                          : int  0 0 0 0 2 0 0 1 3 0 ...\n",
      " $ admit                                   : int  0 0 0 0 0 0 0 0 0 0 ...\n",
      " $ advance                                 : int  0 0 0 0 0 0 0 0 0 0 ...\n",
      " $ advantage                               : int  1 0 1 0 0 1 0 0 0 0 ...\n",
      " $ advertise                               : int  0 0 0 0 0 0 0 0 0 0 ...\n",
      " $ advised                                 : int  0 0 0 0 0 0 0 0 0 0 ...\n",
      " $ affair                                  : int  0 0 0 0 0 0 0 1 0 0 ...\n",
      " $ affect                                  : int  0 0 0 0 0 0 0 1 0 0 ...\n",
      " $ affiliate                               : int  0 0 0 0 0 0 0 0 0 0 ...\n",
      " $ afghanistan                             : int  0 0 0 0 0 0 0 0 0 0 ...\n",
      " $ afraid                                  : int  0 0 0 0 0 0 0 0 0 0 ...\n",
      " $ afternoon                               : int  0 0 0 0 0 0 0 0 0 0 ...\n",
      " $ age                                     : int  0 0 0 0 0 0 0 0 0 0 ...\n",
      " $ agencies                                : int  0 0 0 1 0 0 0 0 0 0 ...\n",
      " $ agenda                                  : int  0 1 0 0 0 0 0 0 0 0 ...\n",
      " $ agree                                   : int  0 0 0 0 0 0 0 0 1 0 ...\n",
      " $ ahead                                   : int  0 0 0 0 1 0 0 0 0 0 ...\n",
      " $ aid                                     : int  1 0 0 0 2 0 0 0 0 0 ...\n",
      " $ aim                                     : int  0 0 0 0 1 0 0 0 0 0 ...\n",
      " $ air                                     : int  0 0 0 0 0 0 0 0 0 0 ...\n",
      " $ alaska                                  : int  0 0 1 0 0 0 0 0 0 1 ...\n",
      " $ allegation                              : int  0 0 0 0 0 0 0 0 0 0 ...\n",
      " $ allegory                                : int  0 0 0 0 0 0 0 0 0 0 ...\n",
      " $ allied                                  : int  0 0 0 0 0 0 0 0 0 0 ...\n",
      " $ allowed                                 : int  0 0 0 0 1 0 0 0 1 0 ...\n",
      " $ alternative                             : int  0 0 0 0 0 0 1 0 0 0 ...\n",
      " $ altsite                                 : int  0 0 0 0 0 0 0 0 0 0 ...\n",
      " $ amazing                                 : int  0 0 0 0 0 0 0 0 0 0 ...\n",
      " $ amendment                               : int  0 0 0 0 0 0 0 0 0 0 ...\n",
      " $ america                                 : int  0 0 0 0 1 0 0 1 0 0 ...\n",
      " $ american                                : int  0 2 0 0 3 0 0 1 1 1 ...\n",
      " $ amount                                  : int  0 2 0 0 0 0 0 0 0 0 ...\n",
      " $ amp                                     : int  0 0 0 0 0 0 0 0 0 0 ...\n",
      " $ analysis                                : int  0 0 0 0 0 0 0 0 0 0 ...\n",
      " $ analyst                                 : int  0 0 0 0 0 0 0 4 0 0 ...\n",
      " $ anecdotal                               : int  0 0 0 0 0 0 0 0 0 0 ...\n",
      " $ anger                                   : int  0 0 0 0 0 0 0 0 0 0 ...\n",
      " $ angry                                   : int  0 0 0 0 0 0 0 0 0 0 ...\n",
      " $ announce                                : int  0 1 0 0 0 0 0 0 0 0 ...\n",
      " $ annual                                  : int  0 0 0 1 0 0 0 0 0 0 ...\n",
      " $ answer                                  : int  1 2 0 0 0 0 0 0 0 0 ...\n",
      " $ apologies                               : int  0 0 0 0 0 0 0 0 0 0 ...\n",
      " $ apparent                                : int  0 0 0 0 0 1 0 0 0 0 ...\n",
      " $ appeal                                  : int  0 0 0 0 0 0 0 0 0 0 ...\n",
      " $ appearance                              : int  0 1 0 0 0 1 0 0 0 1 ...\n",
      " $ applied                                 : int  0 0 0 0 0 0 0 0 0 0 ...\n",
      " $ appointed                               : int  0 0 1 0 0 0 0 0 0 1 ...\n",
      " $ approach                                : int  0 0 0 0 0 0 0 1 0 0 ...\n",
      " $ approval                                : int  0 0 0 0 0 0 0 2 0 0 ...\n",
      " $ apr                                     : int  0 0 0 0 0 0 0 0 0 0 ...\n",
      " $ april                                   : int  0 0 0 0 0 1 0 1 0 0 ...\n",
      " $ arab                                    : int  0 0 0 0 4 0 0 0 0 0 ...\n",
      " $ area                                    : int  0 0 0 0 2 0 0 0 0 0 ...\n",
      " $ arent                                   : int  0 0 0 0 0 0 0 0 0 0 ...\n",
      " $ arg                                     : int  0 0 0 0 0 0 0 0 0 0 ...\n",
      " $ argue                                   : int  0 0 0 0 0 0 0 0 0 0 ...\n",
      " $ argument                                : int  0 0 0 0 0 0 0 0 0 0 ...\n",
      " $ arizona                                 : int  0 0 0 0 0 0 0 0 0 0 ...\n",
      " $ arm                                     : int  0 0 0 0 0 0 0 0 0 0 ...\n",
      " $ armstrong                               : int  0 0 0 0 0 0 0 0 0 0 ...\n",
      " $ army                                    : int  0 0 0 0 0 0 0 0 0 0 ...\n",
      " $ arrest                                  : int  0 0 0 0 0 0 0 0 0 0 ...\n",
      " $ arrive                                  : int  0 0 0 0 1 0 0 0 0 0 ...\n",
      " $ article                                 : int  0 3 0 0 0 0 2 0 0 0 ...\n",
      " $ asap                                    : int  0 0 0 0 0 0 0 0 0 0 ...\n",
      " $ asked                                   : int  0 0 0 0 0 0 0 0 0 3 ...\n",
      " $ ass                                     : int  0 0 1 0 0 0 0 0 0 0 ...\n",
      " $ assess                                  : int  0 0 1 0 0 0 0 0 0 0 ...\n",
      " $ assist                                  : int  0 0 0 0 0 0 0 0 0 0 ...\n",
      " $ associate                               : int  0 0 0 0 0 0 0 0 0 0 ...\n",
      " $ assume                                  : int  0 1 0 0 0 0 0 0 0 0 ...\n",
      " $ atlanta                                 : int  0 0 0 0 0 0 0 0 0 0 ...\n",
      " $ atrios                                  : int  0 0 0 0 0 0 0 0 0 0 ...\n",
      "  [list output truncated]\n"
     ]
    }
   ],
   "source": [
    "str(cluster3)"
   ]
  },
  {
   "cell_type": "code",
   "execution_count": 8,
   "metadata": {},
   "outputs": [
    {
     "data": {
      "text/html": [
       "1266"
      ],
      "text/latex": [
       "1266"
      ],
      "text/markdown": [
       "1266"
      ],
      "text/plain": [
       "[1] 1266"
      ]
     },
     "metadata": {},
     "output_type": "display_data"
    }
   ],
   "source": [
    "nrow(cluster1)"
   ]
  },
  {
   "cell_type": "code",
   "execution_count": 9,
   "metadata": {},
   "outputs": [
    {
     "data": {
      "text/html": [
       "321"
      ],
      "text/latex": [
       "321"
      ],
      "text/markdown": [
       "321"
      ],
      "text/plain": [
       "[1] 321"
      ]
     },
     "metadata": {},
     "output_type": "display_data"
    }
   ],
   "source": [
    "nrow(cluster2)"
   ]
  },
  {
   "cell_type": "code",
   "execution_count": 10,
   "metadata": {},
   "outputs": [
    {
     "data": {
      "text/html": [
       "374"
      ],
      "text/latex": [
       "374"
      ],
      "text/markdown": [
       "374"
      ],
      "text/plain": [
       "[1] 374"
      ]
     },
     "metadata": {},
     "output_type": "display_data"
    }
   ],
   "source": [
    "nrow(cluster3)"
   ]
  },
  {
   "cell_type": "code",
   "execution_count": 11,
   "metadata": {},
   "outputs": [
    {
     "data": {
      "text/html": [
       "139"
      ],
      "text/latex": [
       "139"
      ],
      "text/markdown": [
       "139"
      ],
      "text/plain": [
       "[1] 139"
      ]
     },
     "metadata": {},
     "output_type": "display_data"
    }
   ],
   "source": [
    "nrow(cluster4)"
   ]
  },
  {
   "cell_type": "code",
   "execution_count": 12,
   "metadata": {},
   "outputs": [
    {
     "data": {
      "text/html": [
       "407"
      ],
      "text/latex": [
       "407"
      ],
      "text/markdown": [
       "407"
      ],
      "text/plain": [
       "[1] 407"
      ]
     },
     "metadata": {},
     "output_type": "display_data"
    }
   ],
   "source": [
    "nrow(cluster5)"
   ]
  },
  {
   "cell_type": "code",
   "execution_count": 13,
   "metadata": {},
   "outputs": [
    {
     "data": {
      "text/html": [
       "714"
      ],
      "text/latex": [
       "714"
      ],
      "text/markdown": [
       "714"
      ],
      "text/plain": [
       "[1] 714"
      ]
     },
     "metadata": {},
     "output_type": "display_data"
    }
   ],
   "source": [
    "nrow(cluster6)"
   ]
  },
  {
   "cell_type": "code",
   "execution_count": 14,
   "metadata": {},
   "outputs": [
    {
     "data": {
      "text/html": [
       "209"
      ],
      "text/latex": [
       "209"
      ],
      "text/markdown": [
       "209"
      ],
      "text/plain": [
       "[1] 209"
      ]
     },
     "metadata": {},
     "output_type": "display_data"
    }
   ],
   "source": [
    "nrow(cluster7)"
   ]
  },
  {
   "cell_type": "markdown",
   "metadata": {},
   "source": [
    "Instead of looking at the average value in each variable individually, we'll just look at the top 6 words in each cluster. To do this for cluster 1, type the following in your R console (where \"HierCluster1\" should be replaced with the name of your first cluster subset):\n",
    "```R\n",
    "tail(sort(colMeans(HierCluster1)))\n",
    "```\n",
    "This computes the mean frequency values of each of the words in cluster 1, and then outputs the 6 words that occur the most frequently. The colMeans function computes the column (word) means, the sort function orders the words in increasing order of the mean values, and the tail function outputs the last 6 words listed, which are the ones with the largest column means."
   ]
  },
  {
   "cell_type": "code",
   "execution_count": 15,
   "metadata": {},
   "outputs": [
    {
     "data": {
      "text/html": [
       "<style>\n",
       ".dl-inline {width: auto; margin:0; padding: 0}\n",
       ".dl-inline>dt, .dl-inline>dd {float: none; width: auto; display: inline-block}\n",
       ".dl-inline>dt::after {content: \":\\0020\"; padding-right: .5ex}\n",
       ".dl-inline>dt:not(:first-of-type) {padding-left: .5ex}\n",
       "</style><dl class=dl-inline><dt>state</dt><dd>0.757503949447077</dd><dt>republican</dt><dd>0.759083728278041</dd><dt>poll</dt><dd>0.903633491311216</dd><dt>democrat</dt><dd>0.919431279620853</dd><dt>kerry</dt><dd>1.06240126382306</dd><dt>bush</dt><dd>1.70537124802528</dd></dl>\n"
      ],
      "text/latex": [
       "\\begin{description*}\n",
       "\\item[state] 0.757503949447077\n",
       "\\item[republican] 0.759083728278041\n",
       "\\item[poll] 0.903633491311216\n",
       "\\item[democrat] 0.919431279620853\n",
       "\\item[kerry] 1.06240126382306\n",
       "\\item[bush] 1.70537124802528\n",
       "\\end{description*}\n"
      ],
      "text/markdown": [
       "state\n",
       ":   0.757503949447077republican\n",
       ":   0.759083728278041poll\n",
       ":   0.903633491311216democrat\n",
       ":   0.919431279620853kerry\n",
       ":   1.06240126382306bush\n",
       ":   1.70537124802528\n",
       "\n"
      ],
      "text/plain": [
       "     state republican       poll   democrat      kerry       bush \n",
       " 0.7575039  0.7590837  0.9036335  0.9194313  1.0624013  1.7053712 "
      ]
     },
     "metadata": {},
     "output_type": "display_data"
    }
   ],
   "source": [
    "tail(sort(colMeans(cluster1)))"
   ]
  },
  {
   "cell_type": "code",
   "execution_count": 16,
   "metadata": {},
   "outputs": [
    {
     "data": {
      "text/html": [
       "<style>\n",
       ".dl-inline {width: auto; margin:0; padding: 0}\n",
       ".dl-inline>dt, .dl-inline>dd {float: none; width: auto; display: inline-block}\n",
       ".dl-inline>dt::after {content: \":\\0020\"; padding-right: .5ex}\n",
       ".dl-inline>dt:not(:first-of-type) {padding-left: .5ex}\n",
       "</style><dl class=dl-inline><dt>bush</dt><dd>2.84735202492212</dd><dt>democrat</dt><dd>2.85046728971963</dd><dt>challenge</dt><dd>4.09657320872274</dd><dt>vote</dt><dd>4.398753894081</dd><dt>poll</dt><dd>4.84735202492212</dd><dt>november</dt><dd>10.3395638629283</dd></dl>\n"
      ],
      "text/latex": [
       "\\begin{description*}\n",
       "\\item[bush] 2.84735202492212\n",
       "\\item[democrat] 2.85046728971963\n",
       "\\item[challenge] 4.09657320872274\n",
       "\\item[vote] 4.398753894081\n",
       "\\item[poll] 4.84735202492212\n",
       "\\item[november] 10.3395638629283\n",
       "\\end{description*}\n"
      ],
      "text/markdown": [
       "bush\n",
       ":   2.84735202492212democrat\n",
       ":   2.85046728971963challenge\n",
       ":   4.09657320872274vote\n",
       ":   4.398753894081poll\n",
       ":   4.84735202492212november\n",
       ":   10.3395638629283\n",
       "\n"
      ],
      "text/plain": [
       "     bush  democrat challenge      vote      poll  november \n",
       " 2.847352  2.850467  4.096573  4.398754  4.847352 10.339564 "
      ]
     },
     "metadata": {},
     "output_type": "display_data"
    }
   ],
   "source": [
    "tail(sort(colMeans(cluster2)))"
   ]
  },
  {
   "cell_type": "code",
   "execution_count": 17,
   "metadata": {},
   "outputs": [
    {
     "data": {
      "text/html": [
       "<style>\n",
       ".dl-inline {width: auto; margin:0; padding: 0}\n",
       ".dl-inline>dt, .dl-inline>dd {float: none; width: auto; display: inline-block}\n",
       ".dl-inline>dt::after {content: \":\\0020\"; padding-right: .5ex}\n",
       ".dl-inline>dt:not(:first-of-type) {padding-left: .5ex}\n",
       "</style><dl class=dl-inline><dt>elect</dt><dd>1.64705882352941</dd><dt>parties</dt><dd>1.66577540106952</dd><dt>state</dt><dd>2.32085561497326</dd><dt>republican</dt><dd>2.52406417112299</dd><dt>democrat</dt><dd>3.82352941176471</dd><dt>bush</dt><dd>4.40641711229947</dd></dl>\n"
      ],
      "text/latex": [
       "\\begin{description*}\n",
       "\\item[elect] 1.64705882352941\n",
       "\\item[parties] 1.66577540106952\n",
       "\\item[state] 2.32085561497326\n",
       "\\item[republican] 2.52406417112299\n",
       "\\item[democrat] 3.82352941176471\n",
       "\\item[bush] 4.40641711229947\n",
       "\\end{description*}\n"
      ],
      "text/markdown": [
       "elect\n",
       ":   1.64705882352941parties\n",
       ":   1.66577540106952state\n",
       ":   2.32085561497326republican\n",
       ":   2.52406417112299democrat\n",
       ":   3.82352941176471bush\n",
       ":   4.40641711229947\n",
       "\n"
      ],
      "text/plain": [
       "     elect    parties      state republican   democrat       bush \n",
       "  1.647059   1.665775   2.320856   2.524064   3.823529   4.406417 "
      ]
     },
     "metadata": {},
     "output_type": "display_data"
    }
   ],
   "source": [
    "tail(sort(colMeans(cluster3)))"
   ]
  },
  {
   "cell_type": "code",
   "execution_count": 18,
   "metadata": {},
   "outputs": [
    {
     "data": {
      "text/html": [
       "<style>\n",
       ".dl-inline {width: auto; margin:0; padding: 0}\n",
       ".dl-inline>dt, .dl-inline>dd {float: none; width: auto; display: inline-block}\n",
       ".dl-inline>dt::after {content: \":\\0020\"; padding-right: .5ex}\n",
       ".dl-inline>dt:not(:first-of-type) {padding-left: .5ex}\n",
       "</style><dl class=dl-inline><dt>campaign</dt><dd>1.43165467625899</dd><dt>voter</dt><dd>1.53956834532374</dd><dt>presided</dt><dd>1.62589928057554</dd><dt>poll</dt><dd>3.58992805755396</dd><dt>bush</dt><dd>7.83453237410072</dd><dt>kerry</dt><dd>8.43884892086331</dd></dl>\n"
      ],
      "text/latex": [
       "\\begin{description*}\n",
       "\\item[campaign] 1.43165467625899\n",
       "\\item[voter] 1.53956834532374\n",
       "\\item[presided] 1.62589928057554\n",
       "\\item[poll] 3.58992805755396\n",
       "\\item[bush] 7.83453237410072\n",
       "\\item[kerry] 8.43884892086331\n",
       "\\end{description*}\n"
      ],
      "text/markdown": [
       "campaign\n",
       ":   1.43165467625899voter\n",
       ":   1.53956834532374presided\n",
       ":   1.62589928057554poll\n",
       ":   3.58992805755396bush\n",
       ":   7.83453237410072kerry\n",
       ":   8.43884892086331\n",
       "\n"
      ],
      "text/plain": [
       "campaign    voter presided     poll     bush    kerry \n",
       "1.431655 1.539568 1.625899 3.589928 7.834532 8.438849 "
      ]
     },
     "metadata": {},
     "output_type": "display_data"
    }
   ],
   "source": [
    "tail(sort(colMeans(cluster4)))"
   ]
  },
  {
   "cell_type": "code",
   "execution_count": 19,
   "metadata": {},
   "outputs": [
    {
     "data": {
      "text/html": [
       "<style>\n",
       ".dl-inline {width: auto; margin:0; padding: 0}\n",
       ".dl-inline>dt, .dl-inline>dd {float: none; width: auto; display: inline-block}\n",
       ".dl-inline>dt::after {content: \":\\0020\"; padding-right: .5ex}\n",
       ".dl-inline>dt:not(:first-of-type) {padding-left: .5ex}\n",
       "</style><dl class=dl-inline><dt>american</dt><dd>1.09090909090909</dd><dt>presided</dt><dd>1.12039312039312</dd><dt>administration</dt><dd>1.23095823095823</dd><dt>war</dt><dd>1.77641277641278</dd><dt>iraq</dt><dd>2.42751842751843</dd><dt>bush</dt><dd>3.94103194103194</dd></dl>\n"
      ],
      "text/latex": [
       "\\begin{description*}\n",
       "\\item[american] 1.09090909090909\n",
       "\\item[presided] 1.12039312039312\n",
       "\\item[administration] 1.23095823095823\n",
       "\\item[war] 1.77641277641278\n",
       "\\item[iraq] 2.42751842751843\n",
       "\\item[bush] 3.94103194103194\n",
       "\\end{description*}\n"
      ],
      "text/markdown": [
       "american\n",
       ":   1.09090909090909presided\n",
       ":   1.12039312039312administration\n",
       ":   1.23095823095823war\n",
       ":   1.77641277641278iraq\n",
       ":   2.42751842751843bush\n",
       ":   3.94103194103194\n",
       "\n"
      ],
      "text/plain": [
       "      american       presided administration            war           iraq \n",
       "      1.090909       1.120393       1.230958       1.776413       2.427518 \n",
       "          bush \n",
       "      3.941032 "
      ]
     },
     "metadata": {},
     "output_type": "display_data"
    }
   ],
   "source": [
    "tail(sort(colMeans(cluster5)))"
   ]
  },
  {
   "cell_type": "code",
   "execution_count": 20,
   "metadata": {},
   "outputs": [
    {
     "data": {
      "text/html": [
       "<style>\n",
       ".dl-inline {width: auto; margin:0; padding: 0}\n",
       ".dl-inline>dt, .dl-inline>dd {float: none; width: auto; display: inline-block}\n",
       ".dl-inline>dt::after {content: \":\\0020\"; padding-right: .5ex}\n",
       ".dl-inline>dt:not(:first-of-type) {padding-left: .5ex}\n",
       "</style><dl class=dl-inline><dt>race</dt><dd>0.457983193277311</dd><dt>bush</dt><dd>0.488795518207283</dd><dt>kerry</dt><dd>0.516806722689076</dd><dt>elect</dt><dd>0.535014005602241</dd><dt>democrat</dt><dd>0.564425770308123</dd><dt>poll</dt><dd>0.581232492997199</dd></dl>\n"
      ],
      "text/latex": [
       "\\begin{description*}\n",
       "\\item[race] 0.457983193277311\n",
       "\\item[bush] 0.488795518207283\n",
       "\\item[kerry] 0.516806722689076\n",
       "\\item[elect] 0.535014005602241\n",
       "\\item[democrat] 0.564425770308123\n",
       "\\item[poll] 0.581232492997199\n",
       "\\end{description*}\n"
      ],
      "text/markdown": [
       "race\n",
       ":   0.457983193277311bush\n",
       ":   0.488795518207283kerry\n",
       ":   0.516806722689076elect\n",
       ":   0.535014005602241democrat\n",
       ":   0.564425770308123poll\n",
       ":   0.581232492997199\n",
       "\n"
      ],
      "text/plain": [
       "     race      bush     kerry     elect  democrat      poll \n",
       "0.4579832 0.4887955 0.5168067 0.5350140 0.5644258 0.5812325 "
      ]
     },
     "metadata": {},
     "output_type": "display_data"
    }
   ],
   "source": [
    "tail(sort(colMeans(cluster6)))"
   ]
  },
  {
   "cell_type": "code",
   "execution_count": 21,
   "metadata": {},
   "outputs": [
    {
     "data": {
      "text/html": [
       "<style>\n",
       ".dl-inline {width: auto; margin:0; padding: 0}\n",
       ".dl-inline>dt, .dl-inline>dd {float: none; width: auto; display: inline-block}\n",
       ".dl-inline>dt::after {content: \":\\0020\"; padding-right: .5ex}\n",
       ".dl-inline>dt:not(:first-of-type) {padding-left: .5ex}\n",
       "</style><dl class=dl-inline><dt>democrat</dt><dd>2.14832535885167</dd><dt>clark</dt><dd>2.49760765550239</dd><dt>edward</dt><dd>2.60765550239234</dd><dt>poll</dt><dd>2.76555023923445</dd><dt>kerry</dt><dd>3.95215311004785</dd><dt>dean</dt><dd>5.80382775119617</dd></dl>\n"
      ],
      "text/latex": [
       "\\begin{description*}\n",
       "\\item[democrat] 2.14832535885167\n",
       "\\item[clark] 2.49760765550239\n",
       "\\item[edward] 2.60765550239234\n",
       "\\item[poll] 2.76555023923445\n",
       "\\item[kerry] 3.95215311004785\n",
       "\\item[dean] 5.80382775119617\n",
       "\\end{description*}\n"
      ],
      "text/markdown": [
       "democrat\n",
       ":   2.14832535885167clark\n",
       ":   2.49760765550239edward\n",
       ":   2.60765550239234poll\n",
       ":   2.76555023923445kerry\n",
       ":   3.95215311004785dean\n",
       ":   5.80382775119617\n",
       "\n"
      ],
      "text/plain": [
       "democrat    clark   edward     poll    kerry     dean \n",
       "2.148325 2.497608 2.607656 2.765550 3.952153 5.803828 "
      ]
     },
     "metadata": {},
     "output_type": "display_data"
    }
   ],
   "source": [
    "tail(sort(colMeans(cluster7)))"
   ]
  },
  {
   "cell_type": "markdown",
   "metadata": {},
   "source": [
    "### K-Means Clustering"
   ]
  },
  {
   "cell_type": "markdown",
   "metadata": {},
   "source": [
    "Now, run k-means clustering, setting the seed to 1000 right before you run the kmeans function. Again, pick the number of clusters equal to 7. You don't need to add the iters.max argument.\n",
    "\n",
    "Subset your data into the 7 clusters (7 new datasets) by using the \"cluster\" variable of your kmeans output."
   ]
  },
  {
   "cell_type": "markdown",
   "metadata": {},
   "source": [
    "(Note : R version >= 3.6.0 should change Random Number Generator (RNG))"
   ]
  },
  {
   "cell_type": "code",
   "execution_count": 30,
   "metadata": {},
   "outputs": [
    {
     "name": "stderr",
     "output_type": "stream",
     "text": [
      "Warning message in RNGkind(sample.kind = \"Rounding\"):\n",
      "\"non-uniform 'Rounding' sampler used\"\n"
     ]
    }
   ],
   "source": [
    "RNGkind(sample.kind = \"Rounding\")\n",
    "set.seed(1000)\n",
    "KMC = kmeans(dailykos, centers = 7)"
   ]
  },
  {
   "cell_type": "code",
   "execution_count": 37,
   "metadata": {},
   "outputs": [],
   "source": [
    "kmc1 = subset(dailykos, KMC$cluster == 1)\n",
    "kmc2 = subset(dailykos, KMC$cluster == 2)\n",
    "kmc3 = subset(dailykos, KMC$cluster == 3)\n",
    "kmc4 = subset(dailykos, KMC$cluster == 4)\n",
    "kmc5 = subset(dailykos, KMC$cluster == 5)\n",
    "kmc6 = subset(dailykos, KMC$cluster == 6)\n",
    "kmc7 = subset(dailykos, KMC$cluster == 7)"
   ]
  },
  {
   "cell_type": "code",
   "execution_count": 38,
   "metadata": {},
   "outputs": [
    {
     "data": {
      "text/html": [
       "146"
      ],
      "text/latex": [
       "146"
      ],
      "text/markdown": [
       "146"
      ],
      "text/plain": [
       "[1] 146"
      ]
     },
     "metadata": {},
     "output_type": "display_data"
    }
   ],
   "source": [
    "nrow(kmc1)"
   ]
  },
  {
   "cell_type": "code",
   "execution_count": 39,
   "metadata": {},
   "outputs": [
    {
     "data": {
      "text/html": [
       "144"
      ],
      "text/latex": [
       "144"
      ],
      "text/markdown": [
       "144"
      ],
      "text/plain": [
       "[1] 144"
      ]
     },
     "metadata": {},
     "output_type": "display_data"
    }
   ],
   "source": [
    "nrow(kmc2)"
   ]
  },
  {
   "cell_type": "code",
   "execution_count": 40,
   "metadata": {},
   "outputs": [
    {
     "data": {
      "text/html": [
       "277"
      ],
      "text/latex": [
       "277"
      ],
      "text/markdown": [
       "277"
      ],
      "text/plain": [
       "[1] 277"
      ]
     },
     "metadata": {},
     "output_type": "display_data"
    }
   ],
   "source": [
    "nrow(kmc3)"
   ]
  },
  {
   "cell_type": "code",
   "execution_count": 41,
   "metadata": {},
   "outputs": [
    {
     "data": {
      "text/html": [
       "2063"
      ],
      "text/latex": [
       "2063"
      ],
      "text/markdown": [
       "2063"
      ],
      "text/plain": [
       "[1] 2063"
      ]
     },
     "metadata": {},
     "output_type": "display_data"
    },
    {
     "data": {
      "text/html": [
       "163"
      ],
      "text/latex": [
       "163"
      ],
      "text/markdown": [
       "163"
      ],
      "text/plain": [
       "[1] 163"
      ]
     },
     "metadata": {},
     "output_type": "display_data"
    },
    {
     "data": {
      "text/html": [
       "329"
      ],
      "text/latex": [
       "329"
      ],
      "text/markdown": [
       "329"
      ],
      "text/plain": [
       "[1] 329"
      ]
     },
     "metadata": {},
     "output_type": "display_data"
    },
    {
     "data": {
      "text/html": [
       "308"
      ],
      "text/latex": [
       "308"
      ],
      "text/markdown": [
       "308"
      ],
      "text/plain": [
       "[1] 308"
      ]
     },
     "metadata": {},
     "output_type": "display_data"
    }
   ],
   "source": [
    "nrow(kmc4)\n",
    "nrow(kmc5)\n",
    "nrow(kmc6)\n",
    "nrow(kmc7)"
   ]
  },
  {
   "cell_type": "code",
   "execution_count": 42,
   "metadata": {},
   "outputs": [
    {
     "data": {
      "text/html": [
       "<style>\n",
       ".dl-inline {width: auto; margin:0; padding: 0}\n",
       ".dl-inline>dt, .dl-inline>dd {float: none; width: auto; display: inline-block}\n",
       ".dl-inline>dt::after {content: \":\\0020\"; padding-right: .5ex}\n",
       ".dl-inline>dt:not(:first-of-type) {padding-left: .5ex}\n",
       "</style><dl class=dl-inline><dt>state</dt><dd>1.60958904109589</dd><dt>iraq</dt><dd>1.61643835616438</dd><dt>kerry</dt><dd>1.63698630136986</dd><dt>administration</dt><dd>2.66438356164384</dd><dt>presided</dt><dd>2.76712328767123</dd><dt>bush</dt><dd>11.4315068493151</dd></dl>\n"
      ],
      "text/latex": [
       "\\begin{description*}\n",
       "\\item[state] 1.60958904109589\n",
       "\\item[iraq] 1.61643835616438\n",
       "\\item[kerry] 1.63698630136986\n",
       "\\item[administration] 2.66438356164384\n",
       "\\item[presided] 2.76712328767123\n",
       "\\item[bush] 11.4315068493151\n",
       "\\end{description*}\n"
      ],
      "text/markdown": [
       "state\n",
       ":   1.60958904109589iraq\n",
       ":   1.61643835616438kerry\n",
       ":   1.63698630136986administration\n",
       ":   2.66438356164384presided\n",
       ":   2.76712328767123bush\n",
       ":   11.4315068493151\n",
       "\n"
      ],
      "text/plain": [
       "         state           iraq          kerry administration       presided \n",
       "      1.609589       1.616438       1.636986       2.664384       2.767123 \n",
       "          bush \n",
       "     11.431507 "
      ]
     },
     "metadata": {},
     "output_type": "display_data"
    },
    {
     "data": {
      "text/html": [
       "<style>\n",
       ".dl-inline {width: auto; margin:0; padding: 0}\n",
       ".dl-inline>dt, .dl-inline>dd {float: none; width: auto; display: inline-block}\n",
       ".dl-inline>dt::after {content: \":\\0020\"; padding-right: .5ex}\n",
       ".dl-inline>dt:not(:first-of-type) {padding-left: .5ex}\n",
       "</style><dl class=dl-inline><dt>primaries</dt><dd>2.31944444444444</dd><dt>democrat</dt><dd>2.69444444444444</dd><dt>edward</dt><dd>2.79861111111111</dd><dt>clark</dt><dd>3.09027777777778</dd><dt>kerry</dt><dd>4.97916666666667</dd><dt>dean</dt><dd>8.27777777777778</dd></dl>\n"
      ],
      "text/latex": [
       "\\begin{description*}\n",
       "\\item[primaries] 2.31944444444444\n",
       "\\item[democrat] 2.69444444444444\n",
       "\\item[edward] 2.79861111111111\n",
       "\\item[clark] 3.09027777777778\n",
       "\\item[kerry] 4.97916666666667\n",
       "\\item[dean] 8.27777777777778\n",
       "\\end{description*}\n"
      ],
      "text/markdown": [
       "primaries\n",
       ":   2.31944444444444democrat\n",
       ":   2.69444444444444edward\n",
       ":   2.79861111111111clark\n",
       ":   3.09027777777778kerry\n",
       ":   4.97916666666667dean\n",
       ":   8.27777777777778\n",
       "\n"
      ],
      "text/plain": [
       "primaries  democrat    edward     clark     kerry      dean \n",
       " 2.319444  2.694444  2.798611  3.090278  4.979167  8.277778 "
      ]
     },
     "metadata": {},
     "output_type": "display_data"
    },
    {
     "data": {
      "text/html": [
       "<style>\n",
       ".dl-inline {width: auto; margin:0; padding: 0}\n",
       ".dl-inline>dt, .dl-inline>dd {float: none; width: auto; display: inline-block}\n",
       ".dl-inline>dt::after {content: \":\\0020\"; padding-right: .5ex}\n",
       ".dl-inline>dt:not(:first-of-type) {padding-left: .5ex}\n",
       "</style><dl class=dl-inline><dt>administration</dt><dd>1.3898916967509</dd><dt>iraqi</dt><dd>1.6101083032491</dd><dt>american</dt><dd>1.68592057761733</dd><dt>bush</dt><dd>2.6101083032491</dd><dt>war</dt><dd>3.02527075812274</dd><dt>iraq</dt><dd>4.09386281588448</dd></dl>\n"
      ],
      "text/latex": [
       "\\begin{description*}\n",
       "\\item[administration] 1.3898916967509\n",
       "\\item[iraqi] 1.6101083032491\n",
       "\\item[american] 1.68592057761733\n",
       "\\item[bush] 2.6101083032491\n",
       "\\item[war] 3.02527075812274\n",
       "\\item[iraq] 4.09386281588448\n",
       "\\end{description*}\n"
      ],
      "text/markdown": [
       "administration\n",
       ":   1.3898916967509iraqi\n",
       ":   1.6101083032491american\n",
       ":   1.68592057761733bush\n",
       ":   2.6101083032491war\n",
       ":   3.02527075812274iraq\n",
       ":   4.09386281588448\n",
       "\n"
      ],
      "text/plain": [
       "administration          iraqi       american           bush            war \n",
       "      1.389892       1.610108       1.685921       2.610108       3.025271 \n",
       "          iraq \n",
       "      4.093863 "
      ]
     },
     "metadata": {},
     "output_type": "display_data"
    },
    {
     "data": {
      "text/html": [
       "<style>\n",
       ".dl-inline {width: auto; margin:0; padding: 0}\n",
       ".dl-inline>dt, .dl-inline>dd {float: none; width: auto; display: inline-block}\n",
       ".dl-inline>dt::after {content: \":\\0020\"; padding-right: .5ex}\n",
       ".dl-inline>dt:not(:first-of-type) {padding-left: .5ex}\n",
       "</style><dl class=dl-inline><dt>elect</dt><dd>0.60106640814348</dd><dt>republican</dt><dd>0.617547261269995</dd><dt>kerry</dt><dd>0.649539505574406</dd><dt>poll</dt><dd>0.747455162384876</dd><dt>democrat</dt><dd>0.789142026175473</dd><dt>bush</dt><dd>1.14735821619001</dd></dl>\n"
      ],
      "text/latex": [
       "\\begin{description*}\n",
       "\\item[elect] 0.60106640814348\n",
       "\\item[republican] 0.617547261269995\n",
       "\\item[kerry] 0.649539505574406\n",
       "\\item[poll] 0.747455162384876\n",
       "\\item[democrat] 0.789142026175473\n",
       "\\item[bush] 1.14735821619001\n",
       "\\end{description*}\n"
      ],
      "text/markdown": [
       "elect\n",
       ":   0.60106640814348republican\n",
       ":   0.617547261269995kerry\n",
       ":   0.649539505574406poll\n",
       ":   0.747455162384876democrat\n",
       ":   0.789142026175473bush\n",
       ":   1.14735821619001\n",
       "\n"
      ],
      "text/plain": [
       "     elect republican      kerry       poll   democrat       bush \n",
       " 0.6010664  0.6175473  0.6495395  0.7474552  0.7891420  1.1473582 "
      ]
     },
     "metadata": {},
     "output_type": "display_data"
    },
    {
     "data": {
      "text/html": [
       "<style>\n",
       ".dl-inline {width: auto; margin:0; padding: 0}\n",
       ".dl-inline>dt, .dl-inline>dd {float: none; width: auto; display: inline-block}\n",
       ".dl-inline>dt::after {content: \":\\0020\"; padding-right: .5ex}\n",
       ".dl-inline>dt:not(:first-of-type) {padding-left: .5ex}\n",
       "</style><dl class=dl-inline><dt>race</dt><dd>2.48466257668712</dd><dt>senate</dt><dd>2.65030674846626</dd><dt>state</dt><dd>3.52147239263804</dd><dt>parties</dt><dd>3.61963190184049</dd><dt>republican</dt><dd>4.63803680981595</dd><dt>democrat</dt><dd>6.99386503067485</dd></dl>\n"
      ],
      "text/latex": [
       "\\begin{description*}\n",
       "\\item[race] 2.48466257668712\n",
       "\\item[senate] 2.65030674846626\n",
       "\\item[state] 3.52147239263804\n",
       "\\item[parties] 3.61963190184049\n",
       "\\item[republican] 4.63803680981595\n",
       "\\item[democrat] 6.99386503067485\n",
       "\\end{description*}\n"
      ],
      "text/markdown": [
       "race\n",
       ":   2.48466257668712senate\n",
       ":   2.65030674846626state\n",
       ":   3.52147239263804parties\n",
       ":   3.61963190184049republican\n",
       ":   4.63803680981595democrat\n",
       ":   6.99386503067485\n",
       "\n"
      ],
      "text/plain": [
       "      race     senate      state    parties republican   democrat \n",
       "  2.484663   2.650307   3.521472   3.619632   4.638037   6.993865 "
      ]
     },
     "metadata": {},
     "output_type": "display_data"
    },
    {
     "data": {
      "text/html": [
       "<style>\n",
       ".dl-inline {width: auto; margin:0; padding: 0}\n",
       ".dl-inline>dt, .dl-inline>dd {float: none; width: auto; display: inline-block}\n",
       ".dl-inline>dt::after {content: \":\\0020\"; padding-right: .5ex}\n",
       ".dl-inline>dt:not(:first-of-type) {padding-left: .5ex}\n",
       "</style><dl class=dl-inline><dt>democrat</dt><dd>2.89969604863222</dd><dt>bush</dt><dd>2.96048632218845</dd><dt>challenge</dt><dd>4.12158054711246</dd><dt>vote</dt><dd>4.4468085106383</dd><dt>poll</dt><dd>4.87234042553191</dd><dt>november</dt><dd>10.370820668693</dd></dl>\n"
      ],
      "text/latex": [
       "\\begin{description*}\n",
       "\\item[democrat] 2.89969604863222\n",
       "\\item[bush] 2.96048632218845\n",
       "\\item[challenge] 4.12158054711246\n",
       "\\item[vote] 4.4468085106383\n",
       "\\item[poll] 4.87234042553191\n",
       "\\item[november] 10.370820668693\n",
       "\\end{description*}\n"
      ],
      "text/markdown": [
       "democrat\n",
       ":   2.89969604863222bush\n",
       ":   2.96048632218845challenge\n",
       ":   4.12158054711246vote\n",
       ":   4.4468085106383poll\n",
       ":   4.87234042553191november\n",
       ":   10.370820668693\n",
       "\n"
      ],
      "text/plain": [
       " democrat      bush challenge      vote      poll  november \n",
       " 2.899696  2.960486  4.121581  4.446809  4.872340 10.370821 "
      ]
     },
     "metadata": {},
     "output_type": "display_data"
    },
    {
     "data": {
      "text/html": [
       "<style>\n",
       ".dl-inline {width: auto; margin:0; padding: 0}\n",
       ".dl-inline>dt, .dl-inline>dd {float: none; width: auto; display: inline-block}\n",
       ".dl-inline>dt::after {content: \":\\0020\"; padding-right: .5ex}\n",
       ".dl-inline>dt:not(:first-of-type) {padding-left: .5ex}\n",
       "</style><dl class=dl-inline><dt>presided</dt><dd>1.32467532467532</dd><dt>voter</dt><dd>1.33441558441558</dd><dt>campaign</dt><dd>1.38311688311688</dd><dt>poll</dt><dd>2.78896103896104</dd><dt>bush</dt><dd>5.97077922077922</dd><dt>kerry</dt><dd>6.48051948051948</dd></dl>\n"
      ],
      "text/latex": [
       "\\begin{description*}\n",
       "\\item[presided] 1.32467532467532\n",
       "\\item[voter] 1.33441558441558\n",
       "\\item[campaign] 1.38311688311688\n",
       "\\item[poll] 2.78896103896104\n",
       "\\item[bush] 5.97077922077922\n",
       "\\item[kerry] 6.48051948051948\n",
       "\\end{description*}\n"
      ],
      "text/markdown": [
       "presided\n",
       ":   1.32467532467532voter\n",
       ":   1.33441558441558campaign\n",
       ":   1.38311688311688poll\n",
       ":   2.78896103896104bush\n",
       ":   5.97077922077922kerry\n",
       ":   6.48051948051948\n",
       "\n"
      ],
      "text/plain": [
       "presided    voter campaign     poll     bush    kerry \n",
       "1.324675 1.334416 1.383117 2.788961 5.970779 6.480519 "
      ]
     },
     "metadata": {},
     "output_type": "display_data"
    }
   ],
   "source": [
    "tail(sort(colMeans(kmc1)))\n",
    "tail(sort(colMeans(kmc2)))\n",
    "tail(sort(colMeans(kmc3)))\n",
    "tail(sort(colMeans(kmc4)))\n",
    "tail(sort(colMeans(kmc5)))\n",
    "tail(sort(colMeans(kmc6)))\n",
    "tail(sort(colMeans(kmc7)))"
   ]
  },
  {
   "cell_type": "markdown",
   "metadata": {},
   "source": [
    "For the rest of this problem, we'll ask you to compare how observations were assigned to clusters in the two different methods. Use the table function to compare the cluster assignment of hierarchical clustering to the cluster assignment of k-means clustering."
   ]
  },
  {
   "cell_type": "code",
   "execution_count": 44,
   "metadata": {},
   "outputs": [
    {
     "data": {
      "text/plain": [
       "             \n",
       "clusterGroups    1    2    3    4    5    6    7\n",
       "            1    3   11   64 1045   32    0  111\n",
       "            2    0    0    0    0    0  320    1\n",
       "            3   85   10   42   79  126    8   24\n",
       "            4   10    5    0    0    1    0  123\n",
       "            5   48    0  171  145    3    1   39\n",
       "            6    0    2    0  712    0    0    0\n",
       "            7    0  116    0   82    1    0   10"
      ]
     },
     "metadata": {},
     "output_type": "display_data"
    }
   ],
   "source": [
    "table(clusterGroups, KMC$cluster)"
   ]
  }
 ],
 "metadata": {
  "kernelspec": {
   "display_name": "R",
   "language": "R",
   "name": "ir"
  },
  "language_info": {
   "codemirror_mode": "r",
   "file_extension": ".r",
   "mimetype": "text/x-r-source",
   "name": "R",
   "pygments_lexer": "r",
   "version": "3.6.3"
  }
 },
 "nbformat": 4,
 "nbformat_minor": 4
}
