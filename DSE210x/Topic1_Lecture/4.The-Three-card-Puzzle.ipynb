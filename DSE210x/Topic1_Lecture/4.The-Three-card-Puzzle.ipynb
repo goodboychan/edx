{
 "cells": [
  {
   "cell_type": "markdown",
   "metadata": {
    "hide_input": true,
    "slideshow": {
     "slide_type": "slide"
    }
   },
   "source": [
    "## The three card puzzle"
   ]
  },
  {
   "cell_type": "markdown",
   "metadata": {
    "slideshow": {
     "slide_type": "subslide"
    }
   },
   "source": [
    "Suppose we have three cards in a hat:"
   ]
  },
  {
   "cell_type": "markdown",
   "metadata": {
    "slideshow": {
     "slide_type": "fragment"
    }
   },
   "source": [
    "* <span style=\"color:red\">**R**</span><span style=\"color:blue\">**B**</span> - One card is painted <span style=\"color:blue\">blue</span> on one side and <span style=\"color:red\">red</span> on the other."
   ]
  },
  {
   "cell_type": "markdown",
   "metadata": {
    "slideshow": {
     "slide_type": "fragment"
    }
   },
   "source": [
    "* <span style=\"color:blue\">**BB**</span> - One card is painted <span style=\"color:blue\">blue</span> on both sides."
   ]
  },
  {
   "cell_type": "markdown",
   "metadata": {
    "slideshow": {
     "slide_type": "fragment"
    }
   },
   "source": [
    "* <span style=\"color:red\">**RR**</span> - One card is painted <span style=\"color:red\">red</span> on both sides."
   ]
  },
  {
   "cell_type": "markdown",
   "metadata": {
    "slideshow": {
     "slide_type": "subslide"
    }
   },
   "source": [
    "## The setup\n",
    "* I pick one of the three cards at random, flip it to a random side, and place it on the table."
   ]
  },
  {
   "cell_type": "markdown",
   "metadata": {
    "slideshow": {
     "slide_type": "fragment"
    }
   },
   "source": [
    "* $U$ be the color of the side of the card facing up. (<span style=\"color:blue\">**B**</span> or <span style=\"color:red\">**R**</span>)"
   ]
  },
  {
   "cell_type": "markdown",
   "metadata": {
    "slideshow": {
     "slide_type": "subslide"
    }
   },
   "source": [
    "## Do you want to bet?\n",
    "  * If the other side of the card has a different I pay you \\$1, \n",
    "  "
   ]
  },
  {
   "cell_type": "markdown",
   "metadata": {
    "slideshow": {
     "slide_type": "fragment"
    }
   },
   "source": [
    "  * If the other side has the same color you pay me \\$1."
   ]
  },
  {
   "cell_type": "markdown",
   "metadata": {
    "slideshow": {
     "slide_type": "subslide"
    }
   },
   "source": [
    "## Why is this a fair bet ?\n",
    "* Suppose $U$ is <span style=\"color:red\">**R**</span>. \n",
    "* Then the card is either <span style=\"color:red\">**RR**</span> or <span style=\"color:red\">**R**</span><span style=\"color:blue\">**B**</span>.\n",
    "* Therefor the other side can be either  <span style=\"color:red\">**R**</span> or <span style=\"color:blue\">**B**</span>\n",
    "* Therefor in this case the odds are equal.\n",
    "* A similar argument holds for the case where $U$ is <span style=\"color:blue\">**B**</span>"
   ]
  },
  {
   "cell_type": "markdown",
   "metadata": {
    "slideshow": {
     "slide_type": "slide"
    }
   },
   "source": [
    "## Lets use a monte-carlo simulation\n",
    "The code below selects one of the three cards at random and selects a random side to be \"up\".\n",
    "\n",
    "It then prints the card and indicates if the two sides have the same or different colors."
   ]
  },
  {
   "cell_type": "code",
   "execution_count": 1,
   "metadata": {
    "code_folding": [],
    "hide_input": false,
    "slideshow": {
     "slide_type": "subslide"
    }
   },
   "outputs": [
    {
     "name": "stdout",
     "output_type": "stream",
     "text": [
      "\u001b[44mB\u001b[0m\u001b[44mB\u001b[0m same     \n",
      "\u001b[41mR\u001b[0m\u001b[44mB\u001b[0m different\n",
      "\u001b[41mR\u001b[0m\u001b[41mR\u001b[0m same     \n",
      "\u001b[44mB\u001b[0m\u001b[44mB\u001b[0m same     \n",
      "\u001b[41mR\u001b[0m\u001b[41mR\u001b[0m same     \n",
      "\u001b[41mR\u001b[0m\u001b[44mB\u001b[0m different\n",
      "\u001b[44mB\u001b[0m\u001b[41mR\u001b[0m different\n",
      "\u001b[41mR\u001b[0m\u001b[41mR\u001b[0m same     \n",
      "\u001b[41mR\u001b[0m\u001b[41mR\u001b[0m same     \n",
      "\u001b[44mB\u001b[0m\u001b[41mR\u001b[0m different\n",
      "\u001b[44mB\u001b[0m\u001b[44mB\u001b[0m same     \n",
      "\u001b[44mB\u001b[0m\u001b[41mR\u001b[0m different\n",
      "\u001b[41mR\u001b[0m\u001b[41mR\u001b[0m same     \n",
      "\u001b[41mR\u001b[0m\u001b[44mB\u001b[0m different\n",
      "\u001b[44mB\u001b[0m\u001b[44mB\u001b[0m same     \n",
      "\u001b[44mB\u001b[0m\u001b[44mB\u001b[0m same     \n",
      "\u001b[44mB\u001b[0m\u001b[44mB\u001b[0m same     \n",
      "\u001b[41mR\u001b[0m\u001b[44mB\u001b[0m different\n",
      "\u001b[44mB\u001b[0m\u001b[41mR\u001b[0m different\n",
      "\u001b[41mR\u001b[0m\u001b[44mB\u001b[0m different\n",
      "\u001b[41mR\u001b[0m\u001b[44mB\u001b[0m different\n",
      "\u001b[44mB\u001b[0m\u001b[41mR\u001b[0m different\n",
      "\u001b[44mB\u001b[0m\u001b[44mB\u001b[0m same     \n",
      "\u001b[44mB\u001b[0m\u001b[41mR\u001b[0m different\n",
      "\u001b[44mB\u001b[0m\u001b[41mR\u001b[0m different\n",
      "\u001b[44mB\u001b[0m\u001b[44mB\u001b[0m same     \n",
      "\u001b[44mB\u001b[0m\u001b[44mB\u001b[0m same     \n",
      "\u001b[41mR\u001b[0m\u001b[41mR\u001b[0m same     \n",
      "\u001b[44mB\u001b[0m\u001b[44mB\u001b[0m same     \n",
      "\u001b[44mB\u001b[0m\u001b[44mB\u001b[0m same     \n",
      "\u001b[44mB\u001b[0m\u001b[41mR\u001b[0m different\n",
      "\u001b[41mR\u001b[0m\u001b[44mB\u001b[0m different\n",
      "\u001b[44mB\u001b[0m\u001b[41mR\u001b[0m different\n",
      "\u001b[44mB\u001b[0m\u001b[44mB\u001b[0m same     \n",
      "\u001b[44mB\u001b[0m\u001b[44mB\u001b[0m same     \n",
      "\u001b[41mR\u001b[0m\u001b[41mR\u001b[0m same     \n",
      "\u001b[41mR\u001b[0m\u001b[41mR\u001b[0m same     \n",
      "\u001b[41mR\u001b[0m\u001b[41mR\u001b[0m same     \n",
      "\u001b[44mB\u001b[0m\u001b[44mB\u001b[0m same     \n",
      "\u001b[44mB\u001b[0m\u001b[41mR\u001b[0m different\n",
      "\u001b[44mB\u001b[0m\u001b[41mR\u001b[0m different\n",
      "\u001b[41mR\u001b[0m\u001b[41mR\u001b[0m same     \n",
      "\u001b[41mR\u001b[0m\u001b[41mR\u001b[0m same     \n",
      "\u001b[44mB\u001b[0m\u001b[44mB\u001b[0m same     \n",
      "\u001b[44mB\u001b[0m\u001b[44mB\u001b[0m same     \n",
      "\u001b[41mR\u001b[0m\u001b[41mR\u001b[0m same     \n",
      "\u001b[41mR\u001b[0m\u001b[44mB\u001b[0m different\n",
      "\u001b[44mB\u001b[0m\u001b[41mR\u001b[0m different\n",
      "\u001b[41mR\u001b[0m\u001b[41mR\u001b[0m same     \n",
      "\u001b[41mR\u001b[0m\u001b[41mR\u001b[0m same     \n",
      "\n",
      "{'same': 30, 'different': 20}\n"
     ]
    }
   ],
   "source": [
    "red_bck=\"\\x1b[41m%s\\x1b[0m\"\n",
    "blue_bck=\"\\x1b[44m%s\\x1b[0m\"\n",
    "red=red_bck%'R'\n",
    "black=blue_bck%'B'\n",
    "Cards=[(red,black),(red,red),(black,black)]\n",
    "counts={'same':0,'different':0}\n",
    "from random import random\n",
    "for j in range(50):\n",
    "    i=int(random()*3.)  # Select a random card\n",
    "    side=int(random()*2.)\n",
    "    C=Cards[i]\n",
    "    if(side==1):        # select which side to be \"up\"\n",
    "        C=(C[1],C[0])\n",
    "    same= 'same' if C[0]==C[1] else 'different'  # count the number of times the two sides are the same or different.\n",
    "    counts[same]+=1\n",
    "    print(''.join(C)+' %-9s'%same,)\n",
    "    if (j+1)%5==0:\n",
    "        print\n",
    "print()\n",
    "print(counts)"
   ]
  },
  {
   "cell_type": "markdown",
   "metadata": {
    "slideshow": {
     "slide_type": "slide"
    }
   },
   "source": [
    "## The simulation does not agree with the argument\n",
    " * In Simulation: the two sides have the same color about **twice** the number of times that they have different color."
   ]
  },
  {
   "cell_type": "markdown",
   "metadata": {
    "slideshow": {
     "slide_type": "fragment"
    }
   },
   "source": [
    "* you are twice as likely to lose as you are to win."
   ]
  },
  {
   "cell_type": "markdown",
   "metadata": {
    "slideshow": {
     "slide_type": "fragment"
    }
   },
   "source": [
    "* On average you lose 33 cents per iteration:  \n",
    "$\\$1\\times(2/3)-\\$1\\times(1/3)$"
   ]
  },
  {
   "cell_type": "markdown",
   "metadata": {
    "collapsed": true,
    "hide_input": true,
    "slideshow": {
     "slide_type": "subslide"
    }
   },
   "source": [
    "## Alternative argument\n",
    "If we pick a card at random 2/3 of the time we pick a card where the two sides have the same color, and only 1/3 where the color is different."
   ]
  },
  {
   "cell_type": "markdown",
   "metadata": {
    "collapsed": true,
    "slideshow": {
     "slide_type": "slide"
    }
   },
   "source": [
    "## How can we be sure?\n",
    "* The original argument also sounds convincing, but is wrong.\n",
    "* To be sure that our argument is correct, we need to define some concepts, including **outcome** and **event**. Which we will do next week."
   ]
  }
 ],
 "metadata": {
  "anaconda-cloud": {},
  "celltoolbar": "Slideshow",
  "kernelspec": {
   "display_name": "Python 3",
   "language": "python",
   "name": "python3"
  },
  "language_info": {
   "codemirror_mode": {
    "name": "ipython",
    "version": 3
   },
   "file_extension": ".py",
   "mimetype": "text/x-python",
   "name": "python",
   "nbconvert_exporter": "python",
   "pygments_lexer": "ipython3",
   "version": "3.6.5"
  },
  "toc": {
   "base_numbering": 1,
   "nav_menu": {
    "height": "12px",
    "width": "252px"
   },
   "number_sections": true,
   "sideBar": true,
   "skip_h1_title": false,
   "title_cell": "Table of Contents",
   "title_sidebar": "Contents",
   "toc_cell": false,
   "toc_position": {},
   "toc_section_display": "block",
   "toc_window_display": false
  },
  "varInspector": {
   "cols": {
    "lenName": 16,
    "lenType": 16,
    "lenVar": 40
   },
   "kernels_config": {
    "python": {
     "delete_cmd_postfix": "",
     "delete_cmd_prefix": "del ",
     "library": "var_list.py",
     "varRefreshCmd": "print(var_dic_list())"
    },
    "r": {
     "delete_cmd_postfix": ") ",
     "delete_cmd_prefix": "rm(",
     "library": "var_list.r",
     "varRefreshCmd": "cat(var_dic_list()) "
    }
   },
   "types_to_exclude": [
    "module",
    "function",
    "builtin_function_or_method",
    "instance",
    "_Feature"
   ],
   "window_display": false
  }
 },
 "nbformat": 4,
 "nbformat_minor": 2
}
